{
 "cells": [
  {
   "cell_type": "code",
   "execution_count": 2,
   "id": "initial_id",
   "metadata": {
    "collapsed": true,
    "ExecuteTime": {
     "end_time": "2024-06-04T17:26:13.082209300Z",
     "start_time": "2024-06-04T17:26:12.966647800Z"
    }
   },
   "outputs": [],
   "source": [
    "import pandas as pd\n",
    "import numpy as np\n",
    "import matplotlib.pyplot as plt\n",
    "import seaborn as sns\n",
    "\n",
    "import plotly.graph_objs as go\n",
    "import plotly.express as px\n",
    "plt.style.use('Solarize_Light2')\n",
    "plt.style.context('grayscale')\n",
    "%matplotlib inline\n",
    "\n",
    "#from wordcloud import WordCloud, STOPWORDS\n",
    "# Skim is a Way to Summarize Pandas Dataframes\n",
    "#from skimpy import skim"
   ]
  },
  {
   "cell_type": "markdown",
   "source": [
    "# Analyze sales data to identify opportunities for growth and optimization. "
   ],
   "metadata": {
    "collapsed": false
   },
   "id": "630fe5ead2d7b2e7"
  },
  {
   "cell_type": "code",
   "execution_count": 3,
   "outputs": [
    {
     "name": "stderr",
     "output_type": "stream",
     "text": [
      "C:\\Users\\luzna\\AppData\\Local\\Temp\\ipykernel_16580\\1902978275.py:2: DtypeWarning: Columns (19,20,21,22) have mixed types. Specify dtype option on import or set low_memory=False.\n",
      "  resta_df_original=pd.read_csv(path,on_bad_lines='skip', sep=',')\n"
     ]
    }
   ],
   "source": [
    "path='./data/prueba3.csv'\n",
    "resta_df_original=pd.read_csv(path,on_bad_lines='skip', sep=',')"
   ],
   "metadata": {
    "collapsed": false,
    "ExecuteTime": {
     "end_time": "2024-06-04T17:26:20.454077400Z",
     "start_time": "2024-06-04T17:26:17.106084900Z"
    }
   },
   "id": "1441ce30fc12aa20"
  },
  {
   "cell_type": "code",
   "execution_count": 4,
   "outputs": [],
   "source": [
    "#Make a copy from the original dataset\n",
    "resta_df=resta_df_original.copy()"
   ],
   "metadata": {
    "collapsed": false,
    "ExecuteTime": {
     "end_time": "2024-06-04T17:26:23.023910500Z",
     "start_time": "2024-06-04T17:26:22.835555500Z"
    }
   },
   "id": "8b735ebfd2d25ff1"
  },
  {
   "cell_type": "code",
   "execution_count": 5,
   "outputs": [],
   "source": [
    "pd.set_option('display.max_columns', None)\n",
    "pd.set_option('display.max_rows', None)\n",
    "pd.set_option('display.max_colwidth', None)"
   ],
   "metadata": {
    "collapsed": false,
    "ExecuteTime": {
     "end_time": "2024-06-04T17:26:25.011502500Z",
     "start_time": "2024-06-04T17:26:24.876091900Z"
    }
   },
   "id": "85992c843a4c72cc"
  },
  {
   "cell_type": "markdown",
   "source": [
    "## Exploratory Data Analysis"
   ],
   "metadata": {
    "collapsed": false
   },
   "id": "8e66e492f8491c40"
  },
  {
   "cell_type": "markdown",
   "source": [
    "### Examining the data"
   ],
   "metadata": {
    "collapsed": false
   },
   "id": "f3b45836640fb2cb"
  },
  {
   "cell_type": "code",
   "execution_count": 6,
   "outputs": [
    {
     "name": "stdout",
     "output_type": "stream",
     "text": [
      "<class 'pandas.core.frame.DataFrame'>\n",
      "RangeIndex: 505575 entries, 0 to 505574\n",
      "Data columns (total 27 columns):\n",
      " #   Column                Non-Null Count   Dtype  \n",
      "---  ------                --------------   -----  \n",
      " 0   id_pedido             505575 non-null  int64  \n",
      " 1   fecha_sistema         505575 non-null  object \n",
      " 2   hora                  505575 non-null  object \n",
      " 3   clasificador_grupo    505575 non-null  object \n",
      " 4   clasificacion         474780 non-null  object \n",
      " 5   producto              505575 non-null  object \n",
      " 6   state                 505575 non-null  object \n",
      " 7   precio                505575 non-null  float64\n",
      " 8   cantidad              505575 non-null  int64  \n",
      " 9   a_pagar_xprod         505575 non-null  float64\n",
      " 10  pago_pedido_tot       505575 non-null  float64\n",
      " 11  product_observations  103879 non-null  object \n",
      " 12  tipo_forma_pago       505575 non-null  object \n",
      " 13  monto                 505575 non-null  float64\n",
      " 14  observaciones_pedido  0 non-null       float64\n",
      " 15  pagado_cliente        505575 non-null  float64\n",
      " 16  cambio                505575 non-null  float64\n",
      " 17  ubicacion             505575 non-null  object \n",
      " 18  numero_pedido         505575 non-null  int64  \n",
      " 19  fecha_modificacion    47 non-null      object \n",
      " 20  motivo_modificacion   47 non-null      object \n",
      " 21  es_anulado            47 non-null      object \n",
      " 22  es_cortesia           503679 non-null  object \n",
      " 23  estado                505575 non-null  object \n",
      " 24  saldo_inicial         505575 non-null  float64\n",
      " 25  saldo_final           504443 non-null  float64\n",
      " 26  stateprod             505575 non-null  object \n",
      "dtypes: float64(9), int64(3), object(15)\n",
      "memory usage: 104.1+ MB\n"
     ]
    }
   ],
   "source": [
    "resta_df.info()"
   ],
   "metadata": {
    "collapsed": false,
    "ExecuteTime": {
     "end_time": "2024-06-04T17:29:17.484322400Z",
     "start_time": "2024-06-04T17:29:17.332666400Z"
    }
   },
   "id": "2a0b29f759d0b9d8"
  },
  {
   "cell_type": "code",
   "execution_count": 7,
   "outputs": [
    {
     "data": {
      "text/plain": "(505575, 27)"
     },
     "execution_count": 7,
     "metadata": {},
     "output_type": "execute_result"
    }
   ],
   "source": [
    "resta_df.shape"
   ],
   "metadata": {
    "collapsed": false,
    "ExecuteTime": {
     "end_time": "2024-06-04T18:41:40.424228100Z",
     "start_time": "2024-06-04T18:41:40.394405700Z"
    }
   },
   "id": "4e4039dc35ac145b"
  },
  {
   "cell_type": "code",
   "execution_count": 13,
   "outputs": [
    {
     "data": {
      "text/plain": "13650525"
     },
     "execution_count": 13,
     "metadata": {},
     "output_type": "execute_result"
    }
   ],
   "source": [
    "resta_df.size"
   ],
   "metadata": {
    "collapsed": false,
    "ExecuteTime": {
     "end_time": "2024-06-03T23:03:52.234763500Z",
     "start_time": "2024-06-03T23:03:25.501696300Z"
    }
   },
   "id": "d62d2b631656d96e"
  },
  {
   "cell_type": "code",
   "execution_count": 14,
   "outputs": [
    {
     "data": {
      "text/plain": "   id_pedido fecha_sistema              hora clasificador_grupo   \n0       3208    2016-07-05  21:46:33.0000000               MENU  \\\n1       3209    2016-07-05  22:00:30.0000000               MENU   \n2       3210    2016-07-05  23:04:04.0000000               MENU   \n3       3210    2016-07-05  23:04:04.0000000            BEBIDAS   \n4       3211    2016-07-07  23:03:19.0000000               MENU   \n\n       clasificacion           producto   state  precio  cantidad   \n0         Sandwiches        Niki's club  ACTIVO    18.0         1  \\\n1         Sandwiches  Sand de Pollo BBQ  ACTIVO    20.0         1   \n2            Fingers       Fingers miel  ACTIVO    22.0         1   \n3      jugos - aguas       Aquarius 500  ACTIVO     8.0         1   \n4  Alitas 8 UNIDADES    Alitas Barbacoa  ACTIVO    27.0         1   \n\n   a_pagar_xprod  pago_pedido_tot product_observations tipo_forma_pago  monto   \n0           18.0             18.0                  NaN             EFE   18.0  \\\n1           20.0             20.0                  NaN             EFE   20.0   \n2           22.0             30.0                  NaN             EFE   30.0   \n3            8.0             30.0                  NaN             EFE   30.0   \n4           27.0             81.0                  NaN             EFE   81.0   \n\n   observaciones_pedido  pagado_cliente  cambio        ubicacion   \n0                   NaN           100.0    82.0  0 - Para llevar  \\\n1                   NaN           100.0    80.0       1 - Mesa 1   \n2                   NaN            30.0     0.0  0 - Para llevar   \n3                   NaN            30.0     0.0  0 - Para llevar   \n4                   NaN           100.0    19.0     20 - Mesa 20   \n\n   numero_pedido fecha_modificacion motivo_modificacion es_anulado   \n0              2                NaN                 NaN        NaN  \\\n1              3                NaN                 NaN        NaN   \n2              3                NaN                 NaN        NaN   \n3              3                NaN                 NaN        NaN   \n4              1                NaN                 NaN        NaN   \n\n  es_cortesia   estado  saldo_inicial  saldo_final stateprod  \n0         NaN  CERRADO          500.0        620.0    ACTIVO  \n1         NaN  CERRADO          500.0        620.0    ACTIVO  \n2         NaN  CERRADO          500.0        620.0    ACTIVO  \n3         NaN  CERRADO          500.0        620.0    ACTIVO  \n4         NaN  CERRADO          500.0          0.0    ACTIVO  ",
      "text/html": "<div>\n<style scoped>\n    .dataframe tbody tr th:only-of-type {\n        vertical-align: middle;\n    }\n\n    .dataframe tbody tr th {\n        vertical-align: top;\n    }\n\n    .dataframe thead th {\n        text-align: right;\n    }\n</style>\n<table border=\"1\" class=\"dataframe\">\n  <thead>\n    <tr style=\"text-align: right;\">\n      <th></th>\n      <th>id_pedido</th>\n      <th>fecha_sistema</th>\n      <th>hora</th>\n      <th>clasificador_grupo</th>\n      <th>clasificacion</th>\n      <th>producto</th>\n      <th>state</th>\n      <th>precio</th>\n      <th>cantidad</th>\n      <th>a_pagar_xprod</th>\n      <th>pago_pedido_tot</th>\n      <th>product_observations</th>\n      <th>tipo_forma_pago</th>\n      <th>monto</th>\n      <th>observaciones_pedido</th>\n      <th>pagado_cliente</th>\n      <th>cambio</th>\n      <th>ubicacion</th>\n      <th>numero_pedido</th>\n      <th>fecha_modificacion</th>\n      <th>motivo_modificacion</th>\n      <th>es_anulado</th>\n      <th>es_cortesia</th>\n      <th>estado</th>\n      <th>saldo_inicial</th>\n      <th>saldo_final</th>\n      <th>stateprod</th>\n    </tr>\n  </thead>\n  <tbody>\n    <tr>\n      <th>0</th>\n      <td>3208</td>\n      <td>2016-07-05</td>\n      <td>21:46:33.0000000</td>\n      <td>MENU</td>\n      <td>Sandwiches</td>\n      <td>Niki's club</td>\n      <td>ACTIVO</td>\n      <td>18.0</td>\n      <td>1</td>\n      <td>18.0</td>\n      <td>18.0</td>\n      <td>NaN</td>\n      <td>EFE</td>\n      <td>18.0</td>\n      <td>NaN</td>\n      <td>100.0</td>\n      <td>82.0</td>\n      <td>0 - Para llevar</td>\n      <td>2</td>\n      <td>NaN</td>\n      <td>NaN</td>\n      <td>NaN</td>\n      <td>NaN</td>\n      <td>CERRADO</td>\n      <td>500.0</td>\n      <td>620.0</td>\n      <td>ACTIVO</td>\n    </tr>\n    <tr>\n      <th>1</th>\n      <td>3209</td>\n      <td>2016-07-05</td>\n      <td>22:00:30.0000000</td>\n      <td>MENU</td>\n      <td>Sandwiches</td>\n      <td>Sand de Pollo BBQ</td>\n      <td>ACTIVO</td>\n      <td>20.0</td>\n      <td>1</td>\n      <td>20.0</td>\n      <td>20.0</td>\n      <td>NaN</td>\n      <td>EFE</td>\n      <td>20.0</td>\n      <td>NaN</td>\n      <td>100.0</td>\n      <td>80.0</td>\n      <td>1 - Mesa 1</td>\n      <td>3</td>\n      <td>NaN</td>\n      <td>NaN</td>\n      <td>NaN</td>\n      <td>NaN</td>\n      <td>CERRADO</td>\n      <td>500.0</td>\n      <td>620.0</td>\n      <td>ACTIVO</td>\n    </tr>\n    <tr>\n      <th>2</th>\n      <td>3210</td>\n      <td>2016-07-05</td>\n      <td>23:04:04.0000000</td>\n      <td>MENU</td>\n      <td>Fingers</td>\n      <td>Fingers miel</td>\n      <td>ACTIVO</td>\n      <td>22.0</td>\n      <td>1</td>\n      <td>22.0</td>\n      <td>30.0</td>\n      <td>NaN</td>\n      <td>EFE</td>\n      <td>30.0</td>\n      <td>NaN</td>\n      <td>30.0</td>\n      <td>0.0</td>\n      <td>0 - Para llevar</td>\n      <td>3</td>\n      <td>NaN</td>\n      <td>NaN</td>\n      <td>NaN</td>\n      <td>NaN</td>\n      <td>CERRADO</td>\n      <td>500.0</td>\n      <td>620.0</td>\n      <td>ACTIVO</td>\n    </tr>\n    <tr>\n      <th>3</th>\n      <td>3210</td>\n      <td>2016-07-05</td>\n      <td>23:04:04.0000000</td>\n      <td>BEBIDAS</td>\n      <td>jugos - aguas</td>\n      <td>Aquarius 500</td>\n      <td>ACTIVO</td>\n      <td>8.0</td>\n      <td>1</td>\n      <td>8.0</td>\n      <td>30.0</td>\n      <td>NaN</td>\n      <td>EFE</td>\n      <td>30.0</td>\n      <td>NaN</td>\n      <td>30.0</td>\n      <td>0.0</td>\n      <td>0 - Para llevar</td>\n      <td>3</td>\n      <td>NaN</td>\n      <td>NaN</td>\n      <td>NaN</td>\n      <td>NaN</td>\n      <td>CERRADO</td>\n      <td>500.0</td>\n      <td>620.0</td>\n      <td>ACTIVO</td>\n    </tr>\n    <tr>\n      <th>4</th>\n      <td>3211</td>\n      <td>2016-07-07</td>\n      <td>23:03:19.0000000</td>\n      <td>MENU</td>\n      <td>Alitas 8 UNIDADES</td>\n      <td>Alitas Barbacoa</td>\n      <td>ACTIVO</td>\n      <td>27.0</td>\n      <td>1</td>\n      <td>27.0</td>\n      <td>81.0</td>\n      <td>NaN</td>\n      <td>EFE</td>\n      <td>81.0</td>\n      <td>NaN</td>\n      <td>100.0</td>\n      <td>19.0</td>\n      <td>20 - Mesa 20</td>\n      <td>1</td>\n      <td>NaN</td>\n      <td>NaN</td>\n      <td>NaN</td>\n      <td>NaN</td>\n      <td>CERRADO</td>\n      <td>500.0</td>\n      <td>0.0</td>\n      <td>ACTIVO</td>\n    </tr>\n  </tbody>\n</table>\n</div>"
     },
     "execution_count": 14,
     "metadata": {},
     "output_type": "execute_result"
    }
   ],
   "source": [
    "resta_df.head()"
   ],
   "metadata": {
    "collapsed": false,
    "ExecuteTime": {
     "end_time": "2024-06-03T23:03:52.312827700Z",
     "start_time": "2024-06-03T23:03:26.110757300Z"
    }
   },
   "id": "ccfeb96a6899a818"
  },
  {
   "cell_type": "code",
   "execution_count": 15,
   "outputs": [
    {
     "data": {
      "text/plain": "Index(['id_pedido', 'fecha_sistema', 'hora', 'clasificador_grupo',\n       'clasificacion', 'producto', 'state', 'precio', 'cantidad',\n       'a_pagar_xprod', 'pago_pedido_tot', 'product_observations',\n       'tipo_forma_pago', 'monto', 'observaciones_pedido', 'pagado_cliente',\n       'cambio', 'ubicacion', 'numero_pedido', 'fecha_modificacion',\n       'motivo_modificacion', 'es_anulado', 'es_cortesia', 'estado',\n       'saldo_inicial', 'saldo_final', 'stateprod'],\n      dtype='object')"
     },
     "execution_count": 15,
     "metadata": {},
     "output_type": "execute_result"
    }
   ],
   "source": [
    "resta_df.columns"
   ],
   "metadata": {
    "collapsed": false,
    "ExecuteTime": {
     "end_time": "2024-06-03T23:03:52.313891800Z",
     "start_time": "2024-06-03T23:03:26.257031Z"
    }
   },
   "id": "55beccaada2d34d0"
  },
  {
   "cell_type": "code",
   "execution_count": 8,
   "outputs": [],
   "source": [
    "#Change column names\n",
    "resta_df.columns=['order_id', 'system_date', 'time', 'group_classifier',\n",
    "        'classification', 'product', 'prod_state', 'price', 'quantity',\n",
    "        'to_pay_xprod', 'tot_order_payment', 'product_observations',\n",
    "        'type_payment_form', 'amount', 'order_observations', 'customer_pay',\n",
    "        'change', 'location', 'order_number', 'modification_date',\n",
    "        'modification_reason', 'is_cancelled', 'is_courtesy', 'status',\n",
    "        'start_balance', 'end_balance', 'stateprod']\n",
    "#, 'waiter_name'"
   ],
   "metadata": {
    "collapsed": false,
    "ExecuteTime": {
     "end_time": "2024-06-04T18:44:27.184335200Z",
     "start_time": "2024-06-04T18:44:27.180372500Z"
    }
   },
   "id": "b6e2d8b05b5260d4"
  },
  {
   "cell_type": "markdown",
   "source": [
    "### Reviewing data types"
   ],
   "metadata": {
    "collapsed": false
   },
   "id": "2ab2889fd15decb3"
  },
  {
   "cell_type": "code",
   "execution_count": 9,
   "outputs": [
    {
     "data": {
      "text/plain": "order_id                  int64\nsystem_date              object\ntime                     object\ngroup_classifier         object\nclassification           object\nproduct                  object\nprod_state               object\nprice                   float64\nquantity                  int64\nto_pay_xprod            float64\ntot_order_payment       float64\nproduct_observations     object\ntype_payment_form        object\namount                  float64\norder_observations      float64\ncustomer_pay            float64\nchange                  float64\nlocation                 object\norder_number              int64\nmodification_date        object\nmodification_reason      object\nis_cancelled             object\nis_courtesy              object\nstatus                   object\nstart_balance           float64\nend_balance             float64\nstateprod                object\ndtype: object"
     },
     "execution_count": 9,
     "metadata": {},
     "output_type": "execute_result"
    }
   ],
   "source": [
    "resta_df.dtypes"
   ],
   "metadata": {
    "collapsed": false,
    "ExecuteTime": {
     "end_time": "2024-06-04T18:47:00.335298100Z",
     "start_time": "2024-06-04T18:47:00.282185600Z"
    }
   },
   "id": "54aa00ac488a5063"
  },
  {
   "cell_type": "code",
   "execution_count": 10,
   "outputs": [
    {
     "data": {
      "text/plain": "        order_id system_date              time group_classifier   \n425976    543719  2022-01-06  20:10:18.0000000            OTROS  \\\n152489    277383  2018-11-12  21:54:07.0000000          BEBIDAS   \n432643    548006  2022-02-03  14:52:13.0000000             MENU   \n129510    237330  2018-08-18  22:01:29.0000000             MENU   \n\n           classification              product prod_state  price  quantity   \n425976                NaN    Papas adicionales     ACTIVO   10.0         1  \\\n152489       frutal Valle      1 llitro frutal     ACTIVO   15.0         1   \n432643  Alitas 8 UNIDADES  Alitas Miel Mostaza     ACTIVO   32.0         1   \n129510  Alitas 8 UNIDADES    alita 16 unidades   INACTIVO   50.0         1   \n\n        to_pay_xprod  tot_order_payment product_observations   \n425976          10.0               74.5                  NaN  \\\n152489          15.0               71.0                  NaN   \n432643          32.0               39.0              y jack    \n129510          50.0               53.0       bbq y albahaca   \n\n       type_payment_form  amount  order_observations  customer_pay  change   \n425976               EFE    74.5                 NaN          74.5     0.0  \\\n152489               EFE    71.0                 NaN          71.0     0.0   \n432643               EFE    39.0                 NaN          39.0     0.0   \n129510               EFE    53.0                 NaN          53.0     0.0   \n\n               location  order_number modification_date modification_reason   \n425976     . - Sin Mesa           106               NaN                 NaN  \\\n152489     . - Sin Mesa            52               NaN                 NaN   \n432643  0 - Para llevar            48               NaN                 NaN   \n129510     . - Sin Mesa            58               NaN                 NaN   \n\n       is_cancelled is_courtesy   status  start_balance  end_balance stateprod  \n425976          NaN       False  CERRADO            0.0          0.0    ACTIVO  \n152489          NaN       False  CERRADO            0.0          0.0    ACTIVO  \n432643          NaN       False  CERRADO            0.0          0.0    ACTIVO  \n129510          NaN       False  CERRADO            0.0          0.0  INACTIVO  ",
      "text/html": "<div>\n<style scoped>\n    .dataframe tbody tr th:only-of-type {\n        vertical-align: middle;\n    }\n\n    .dataframe tbody tr th {\n        vertical-align: top;\n    }\n\n    .dataframe thead th {\n        text-align: right;\n    }\n</style>\n<table border=\"1\" class=\"dataframe\">\n  <thead>\n    <tr style=\"text-align: right;\">\n      <th></th>\n      <th>order_id</th>\n      <th>system_date</th>\n      <th>time</th>\n      <th>group_classifier</th>\n      <th>classification</th>\n      <th>product</th>\n      <th>prod_state</th>\n      <th>price</th>\n      <th>quantity</th>\n      <th>to_pay_xprod</th>\n      <th>tot_order_payment</th>\n      <th>product_observations</th>\n      <th>type_payment_form</th>\n      <th>amount</th>\n      <th>order_observations</th>\n      <th>customer_pay</th>\n      <th>change</th>\n      <th>location</th>\n      <th>order_number</th>\n      <th>modification_date</th>\n      <th>modification_reason</th>\n      <th>is_cancelled</th>\n      <th>is_courtesy</th>\n      <th>status</th>\n      <th>start_balance</th>\n      <th>end_balance</th>\n      <th>stateprod</th>\n    </tr>\n  </thead>\n  <tbody>\n    <tr>\n      <th>425976</th>\n      <td>543719</td>\n      <td>2022-01-06</td>\n      <td>20:10:18.0000000</td>\n      <td>OTROS</td>\n      <td>NaN</td>\n      <td>Papas adicionales</td>\n      <td>ACTIVO</td>\n      <td>10.0</td>\n      <td>1</td>\n      <td>10.0</td>\n      <td>74.5</td>\n      <td>NaN</td>\n      <td>EFE</td>\n      <td>74.5</td>\n      <td>NaN</td>\n      <td>74.5</td>\n      <td>0.0</td>\n      <td>. - Sin Mesa</td>\n      <td>106</td>\n      <td>NaN</td>\n      <td>NaN</td>\n      <td>NaN</td>\n      <td>False</td>\n      <td>CERRADO</td>\n      <td>0.0</td>\n      <td>0.0</td>\n      <td>ACTIVO</td>\n    </tr>\n    <tr>\n      <th>152489</th>\n      <td>277383</td>\n      <td>2018-11-12</td>\n      <td>21:54:07.0000000</td>\n      <td>BEBIDAS</td>\n      <td>frutal Valle</td>\n      <td>1 llitro frutal</td>\n      <td>ACTIVO</td>\n      <td>15.0</td>\n      <td>1</td>\n      <td>15.0</td>\n      <td>71.0</td>\n      <td>NaN</td>\n      <td>EFE</td>\n      <td>71.0</td>\n      <td>NaN</td>\n      <td>71.0</td>\n      <td>0.0</td>\n      <td>. - Sin Mesa</td>\n      <td>52</td>\n      <td>NaN</td>\n      <td>NaN</td>\n      <td>NaN</td>\n      <td>False</td>\n      <td>CERRADO</td>\n      <td>0.0</td>\n      <td>0.0</td>\n      <td>ACTIVO</td>\n    </tr>\n    <tr>\n      <th>432643</th>\n      <td>548006</td>\n      <td>2022-02-03</td>\n      <td>14:52:13.0000000</td>\n      <td>MENU</td>\n      <td>Alitas 8 UNIDADES</td>\n      <td>Alitas Miel Mostaza</td>\n      <td>ACTIVO</td>\n      <td>32.0</td>\n      <td>1</td>\n      <td>32.0</td>\n      <td>39.0</td>\n      <td>y jack</td>\n      <td>EFE</td>\n      <td>39.0</td>\n      <td>NaN</td>\n      <td>39.0</td>\n      <td>0.0</td>\n      <td>0 - Para llevar</td>\n      <td>48</td>\n      <td>NaN</td>\n      <td>NaN</td>\n      <td>NaN</td>\n      <td>False</td>\n      <td>CERRADO</td>\n      <td>0.0</td>\n      <td>0.0</td>\n      <td>ACTIVO</td>\n    </tr>\n    <tr>\n      <th>129510</th>\n      <td>237330</td>\n      <td>2018-08-18</td>\n      <td>22:01:29.0000000</td>\n      <td>MENU</td>\n      <td>Alitas 8 UNIDADES</td>\n      <td>alita 16 unidades</td>\n      <td>INACTIVO</td>\n      <td>50.0</td>\n      <td>1</td>\n      <td>50.0</td>\n      <td>53.0</td>\n      <td>bbq y albahaca</td>\n      <td>EFE</td>\n      <td>53.0</td>\n      <td>NaN</td>\n      <td>53.0</td>\n      <td>0.0</td>\n      <td>. - Sin Mesa</td>\n      <td>58</td>\n      <td>NaN</td>\n      <td>NaN</td>\n      <td>NaN</td>\n      <td>False</td>\n      <td>CERRADO</td>\n      <td>0.0</td>\n      <td>0.0</td>\n      <td>INACTIVO</td>\n    </tr>\n  </tbody>\n</table>\n</div>"
     },
     "execution_count": 10,
     "metadata": {},
     "output_type": "execute_result"
    }
   ],
   "source": [
    "resta_df.sample(4)"
   ],
   "metadata": {
    "collapsed": false,
    "ExecuteTime": {
     "end_time": "2024-06-04T18:51:41.300939500Z",
     "start_time": "2024-06-04T18:51:41.198610100Z"
    }
   },
   "id": "4788d2ff92c324a9"
  },
  {
   "cell_type": "code",
   "execution_count": null,
   "outputs": [],
   "source": [
    "# Convert data type to date time\n",
    "resta_df['system_date']=pd.to_datetime(resta_df['system_date'], format='%Y-%m-%d')"
   ],
   "metadata": {
    "collapsed": false,
    "is_executing": true
   },
   "id": "8f713f66a181f4a9"
  },
  {
   "cell_type": "code",
   "execution_count": 20,
   "outputs": [],
   "source": [
    "resta_df['time']=pd.to_datetime(resta_df['time'], format='%H:%M:%S.%f')"
   ],
   "metadata": {
    "collapsed": false,
    "ExecuteTime": {
     "end_time": "2024-06-03T23:03:52.317805400Z",
     "start_time": "2024-06-03T23:03:26.939441500Z"
    }
   },
   "id": "b0d2b3cce8a5b95a"
  },
  {
   "cell_type": "markdown",
   "source": [
    "### Preliminar Analysis"
   ],
   "metadata": {
    "collapsed": false
   },
   "id": "5e1f93925f9ff82c"
  },
  {
   "cell_type": "markdown",
   "source": [
    "Revenue analysis"
   ],
   "metadata": {
    "collapsed": false,
    "ExecuteTime": {
     "end_time": "2024-05-15T14:40:40.868002Z",
     "start_time": "2024-05-15T14:40:40.320005700Z"
    }
   },
   "id": "38d3caec93d04600"
  },
  {
   "cell_type": "code",
   "execution_count": 21,
   "outputs": [
    {
     "data": {
      "text/plain": "group_classifier\nMENU       24101543.5\nBEBIDAS     6104024.0\nOTROS       1382407.0\nName: tot_order_payment, dtype: float64"
     },
     "execution_count": 21,
     "metadata": {},
     "output_type": "execute_result"
    }
   ],
   "source": [
    "#Revenue by group_classifier \n",
    "resta_df.groupby(['group_classifier'])['tot_order_payment'].sum().sort_values(ascending=False)"
   ],
   "metadata": {
    "collapsed": false,
    "ExecuteTime": {
     "end_time": "2024-06-03T23:03:52.318892600Z",
     "start_time": "2024-06-03T23:03:27.187217400Z"
    }
   },
   "id": "cb5560429fb8877"
  },
  {
   "cell_type": "code",
   "execution_count": 22,
   "outputs": [
    {
     "data": {
      "text/plain": "<Axes: xlabel='group_classifier'>"
     },
     "execution_count": 22,
     "metadata": {},
     "output_type": "execute_result"
    },
    {
     "data": {
      "text/plain": "<Figure size 640x480 with 1 Axes>",
      "image/png": "[encoded data removed]"
     },
     "metadata": {},
     "output_type": "display_data"
    }
   ],
   "source": [
    "#Revenue by group_classifier \n",
    "resta_df.groupby(['group_classifier'])['tot_order_payment'].sum().sort_values(ascending=False).plot(kind='bar')"
   ],
   "metadata": {
    "collapsed": false,
    "ExecuteTime": {
     "end_time": "2024-06-03T23:03:52.318892600Z",
     "start_time": "2024-06-03T23:03:27.215037100Z"
    }
   },
   "id": "ee46577469949f8a"
  },
  {
   "cell_type": "code",
   "execution_count": 23,
   "outputs": [
    {
     "data": {
      "text/plain": "group_classifier  classification           \nMENU              Alitas 8 UNIDADES            6691446.0\n                  ALITAS 6 UNIDADES  26 bs     3763378.0\n                  Fingers                      2957264.5\n                  Burguers                     1719826.5\nBEBIDAS           Personal                     1651288.5\nMENU              ALITAS 4 UNIDADES   19 bs    1509392.0\n                  Salchis                      1438165.0\nBEBIDAS           Popular                      1227109.5\nMENU              ALITAS 12 UNIDADES           1111750.0\n                  DELIVERY                     1070695.0\n                  ALITAS 16 UNIDADES            981968.5\nBEBIDAS           1 LT                          889215.0\n                  2 LT                          855167.0\nMENU              Platos                        819854.0\n                  Sandwiches                    803030.5\nBEBIDAS           jugos - aguas                 632030.0\n                  frutal Valle                  600743.0\nMENU              SIN USO                       252181.5\n                  COMBOS                        193589.5\nBEBIDAS           JARRAS                        157397.5\nMENU              FINGERS 6 UNID                125638.0\n                  ALITAS 24 UNIDADES            100580.0\n                  ALITAS 32 UNIDADES             85824.0\n                  Almuerzos                      73684.0\n                  FINGERS 12 UNID                59327.0\n                  FINGERS 8 UNID                 44012.0\n                  POSTRES                        27433.0\n                  GUSTO                          26743.0\n                  PROMOCION                      23191.5\nName: tot_order_payment, dtype: float64"
     },
     "execution_count": 23,
     "metadata": {},
     "output_type": "execute_result"
    }
   ],
   "source": [
    "#Revenue by parent_product \n",
    "resta_df.groupby(['group_classifier','classification'])['tot_order_payment'].sum().sort_values(ascending=False)"
   ],
   "metadata": {
    "collapsed": false,
    "ExecuteTime": {
     "end_time": "2024-06-03T23:03:52.320525700Z",
     "start_time": "2024-06-03T23:03:27.443236Z"
    }
   },
   "id": "9d18c0e600d53aa8"
  },
  {
   "cell_type": "markdown",
   "source": [
    "### Categorical vs Numerical information "
   ],
   "metadata": {
    "collapsed": false
   },
   "id": "cce7e0493f516bf7"
  },
  {
   "cell_type": "code",
   "execution_count": 24,
   "outputs": [
    {
     "name": "stdout",
     "output_type": "stream",
     "text": [
      "Categorical columns are: ['group_classifier', 'classification', 'product', 'prod_state', 'product_observations', 'type_payment_form', 'location', 'modification_date', 'modification_reason', 'is_cancelled', 'is_courtesy', 'status', 'stateprod']\n"
     ]
    }
   ],
   "source": [
    "# categorical columns \n",
    "categoric_col = [col for col in resta_df.columns if resta_df[col].dtype == 'object']\n",
    "print(f'Categorical columns are: {categoric_col}')"
   ],
   "metadata": {
    "collapsed": false,
    "ExecuteTime": {
     "end_time": "2024-06-03T23:03:52.320525700Z",
     "start_time": "2024-06-03T23:03:27.502553900Z"
    }
   },
   "id": "76627725469e4e97"
  },
  {
   "cell_type": "code",
   "execution_count": 25,
   "outputs": [
    {
     "name": "stdout",
     "output_type": "stream",
     "text": [
      "Numeric columns are: ['order_id', 'system_date', 'time', 'price', 'quantity', 'to_pay_xprod', 'tot_order_payment', 'amount', 'order_observations', 'customer_pay', 'change', 'order_number', 'start_balance', 'end_balance']\n"
     ]
    }
   ],
   "source": [
    "# numeric columns\n",
    "numeric_col =[col for col in resta_df.columns if resta_df[col].dtype !='object']\n",
    "print(f'Numeric columns are: {numeric_col}')"
   ],
   "metadata": {
    "collapsed": false,
    "ExecuteTime": {
     "end_time": "2024-06-03T23:03:52.320525700Z",
     "start_time": "2024-06-03T23:03:27.586171400Z"
    }
   },
   "id": "81eb22c52d9094f9"
  },
  {
   "cell_type": "code",
   "execution_count": 26,
   "outputs": [
    {
     "name": "stdout",
     "output_type": "stream",
     "text": [
      "Numeric but categorical columns are: ['order_observations']\n"
     ]
    }
   ],
   "source": [
    "# numerical but categorical variables\n",
    "num_but_categorical=[col for col in numeric_col if resta_df[col].nunique() <10]\n",
    "print(f'Numeric but categorical columns are: {num_but_categorical}')"
   ],
   "metadata": {
    "collapsed": false,
    "ExecuteTime": {
     "end_time": "2024-06-03T23:03:52.321536900Z",
     "start_time": "2024-06-03T23:03:27.715152600Z"
    }
   },
   "id": "6cdf31ddcbacf8ca"
  },
  {
   "cell_type": "code",
   "execution_count": 27,
   "outputs": [
    {
     "name": "stdout",
     "output_type": "stream",
     "text": [
      "Categorical columns are: ['order_observations', 'group_classifier', 'classification', 'product', 'prod_state', 'product_observations', 'type_payment_form', 'location', 'modification_date', 'modification_reason', 'is_cancelled', 'is_courtesy', 'status', 'stateprod']\n"
     ]
    }
   ],
   "source": [
    "# Adding num_but_cat to cat_cols\n",
    "categoric_col = num_but_categorical + categoric_col\n",
    "print(f'Categorical columns are: {categoric_col}')"
   ],
   "metadata": {
    "collapsed": false,
    "ExecuteTime": {
     "end_time": "2024-06-03T23:03:52.321536900Z",
     "start_time": "2024-06-03T23:03:27.897030100Z"
    }
   },
   "id": "ad557b15e1f2dd55"
  },
  {
   "cell_type": "code",
   "execution_count": 28,
   "outputs": [
    {
     "name": "stdout",
     "output_type": "stream",
     "text": [
      "Numerical Cols: ['price', 'quantity', 'to_pay_xprod', 'tot_order_payment', 'amount', 'customer_pay', 'change', 'start_balance', 'end_balance'] \n",
      "Categorical Cols: ['order_observations', 'group_classifier', 'classification', 'product', 'prod_state', 'product_observations', 'type_payment_form', 'location', 'modification_date', 'modification_reason', 'is_cancelled', 'is_courtesy', 'status', 'stateprod'] \n",
      "Numerical but Categorical: ['order_observations']\n"
     ]
    }
   ],
   "source": [
    "numeric_datetime=['system_date', 'time', 'modification_date']\n",
    "\n",
    "numeric_col = [col for col in numeric_col if col not in numeric_datetime and col not in num_but_categorical]\n",
    "\n",
    "# id_cols removing from num_cols\n",
    "id_cols=['order_id', 'order_payment_id', 'order_number']\n",
    "numeric_col=[col for col in numeric_col if col not in id_cols]\n",
    "\n",
    "print(f\"Numerical Cols: {numeric_col} \\nCategorical Cols: {categoric_col} \\nNumerical but Categorical: {num_but_categorical}\")"
   ],
   "metadata": {
    "collapsed": false,
    "ExecuteTime": {
     "end_time": "2024-06-03T23:03:52.322549800Z",
     "start_time": "2024-06-03T23:03:27.925997500Z"
    }
   },
   "id": "4ba9e11376260c1f"
  },
  {
   "cell_type": "markdown",
   "source": [
    "### Analyzing Numerical Attributes"
   ],
   "metadata": {
    "collapsed": false
   },
   "id": "f3fbd69b1e5baaee"
  },
  {
   "cell_type": "code",
   "execution_count": 29,
   "outputs": [
    {
     "data": {
      "text/plain": "                      count       mean         std  min   25%   50%   75%   \nprice              505575.0  20.317964   13.313448  1.0  12.0  22.0  27.0  \\\nquantity           505575.0   1.572617    2.467471  1.0   1.0   1.0   1.0   \nto_pay_xprod       505575.0  24.369989   19.279340  1.0  12.0  22.0  29.0   \ntot_order_payment  505575.0  62.479305   41.544195  1.0  38.0  54.0  76.0   \namount             505575.0  62.479305   41.544195  1.0  38.0  54.0  76.0   \ncustomer_pay       505575.0  63.319797  113.625916  1.0  39.0  54.0  77.0   \nchange             505575.0   0.829526  105.762322  0.0   0.0   0.0   0.0   \nstart_balance      505575.0   6.431271   88.040216  0.0   0.0   0.0   0.0   \nend_balance        504443.0  13.452069  159.143093  0.0   0.0   0.0   0.0   \n\n                       max  \nprice                130.0  \nquantity             154.0  \nto_pay_xprod        1056.0  \ntot_order_payment   4255.0  \namount              4255.0  \ncustomer_pay       40111.0  \nchange             40045.5  \nstart_balance       5000.0  \nend_balance         3710.0  ",
      "text/html": "<div>\n<style scoped>\n    .dataframe tbody tr th:only-of-type {\n        vertical-align: middle;\n    }\n\n    .dataframe tbody tr th {\n        vertical-align: top;\n    }\n\n    .dataframe thead th {\n        text-align: right;\n    }\n</style>\n<table border=\"1\" class=\"dataframe\">\n  <thead>\n    <tr style=\"text-align: right;\">\n      <th></th>\n      <th>count</th>\n      <th>mean</th>\n      <th>std</th>\n      <th>min</th>\n      <th>25%</th>\n      <th>50%</th>\n      <th>75%</th>\n      <th>max</th>\n    </tr>\n  </thead>\n  <tbody>\n    <tr>\n      <th>price</th>\n      <td>505575.0</td>\n      <td>20.317964</td>\n      <td>13.313448</td>\n      <td>1.0</td>\n      <td>12.0</td>\n      <td>22.0</td>\n      <td>27.0</td>\n      <td>130.0</td>\n    </tr>\n    <tr>\n      <th>quantity</th>\n      <td>505575.0</td>\n      <td>1.572617</td>\n      <td>2.467471</td>\n      <td>1.0</td>\n      <td>1.0</td>\n      <td>1.0</td>\n      <td>1.0</td>\n      <td>154.0</td>\n    </tr>\n    <tr>\n      <th>to_pay_xprod</th>\n      <td>505575.0</td>\n      <td>24.369989</td>\n      <td>19.279340</td>\n      <td>1.0</td>\n      <td>12.0</td>\n      <td>22.0</td>\n      <td>29.0</td>\n      <td>1056.0</td>\n    </tr>\n    <tr>\n      <th>tot_order_payment</th>\n      <td>505575.0</td>\n      <td>62.479305</td>\n      <td>41.544195</td>\n      <td>1.0</td>\n      <td>38.0</td>\n      <td>54.0</td>\n      <td>76.0</td>\n      <td>4255.0</td>\n    </tr>\n    <tr>\n      <th>amount</th>\n      <td>505575.0</td>\n      <td>62.479305</td>\n      <td>41.544195</td>\n      <td>1.0</td>\n      <td>38.0</td>\n      <td>54.0</td>\n      <td>76.0</td>\n      <td>4255.0</td>\n    </tr>\n    <tr>\n      <th>customer_pay</th>\n      <td>505575.0</td>\n      <td>63.319797</td>\n      <td>113.625916</td>\n      <td>1.0</td>\n      <td>39.0</td>\n      <td>54.0</td>\n      <td>77.0</td>\n      <td>40111.0</td>\n    </tr>\n    <tr>\n      <th>change</th>\n      <td>505575.0</td>\n      <td>0.829526</td>\n      <td>105.762322</td>\n      <td>0.0</td>\n      <td>0.0</td>\n      <td>0.0</td>\n      <td>0.0</td>\n      <td>40045.5</td>\n    </tr>\n    <tr>\n      <th>start_balance</th>\n      <td>505575.0</td>\n      <td>6.431271</td>\n      <td>88.040216</td>\n      <td>0.0</td>\n      <td>0.0</td>\n      <td>0.0</td>\n      <td>0.0</td>\n      <td>5000.0</td>\n    </tr>\n    <tr>\n      <th>end_balance</th>\n      <td>504443.0</td>\n      <td>13.452069</td>\n      <td>159.143093</td>\n      <td>0.0</td>\n      <td>0.0</td>\n      <td>0.0</td>\n      <td>0.0</td>\n      <td>3710.0</td>\n    </tr>\n  </tbody>\n</table>\n</div>"
     },
     "execution_count": 29,
     "metadata": {},
     "output_type": "execute_result"
    }
   ],
   "source": [
    "resta_df[numeric_col].describe().T"
   ],
   "metadata": {
    "collapsed": false,
    "ExecuteTime": {
     "end_time": "2024-06-03T23:03:52.333637Z",
     "start_time": "2024-06-03T23:03:28.051884Z"
    }
   },
   "id": "8eadf777391ba617"
  },
  {
   "cell_type": "code",
   "execution_count": 30,
   "outputs": [
    {
     "data": {
      "text/plain": "array([2016, 2017, 2018, 2019, 2020, 2021, 2022])"
     },
     "execution_count": 30,
     "metadata": {},
     "output_type": "execute_result"
    }
   ],
   "source": [
    "#How many years of information there are in this dataframe?\n",
    "resta_df['system_date'].dt.year.unique()"
   ],
   "metadata": {
    "collapsed": false,
    "ExecuteTime": {
     "end_time": "2024-06-03T23:03:52.334667900Z",
     "start_time": "2024-06-03T23:03:28.318498500Z"
    }
   },
   "id": "435b72d60718f8df"
  },
  {
   "cell_type": "code",
   "execution_count": 31,
   "outputs": [
    {
     "data": {
      "text/plain": "<Figure size 640x480 with 1 Axes>",
      "image/png": "[encoded data removed]"
     },
     "metadata": {},
     "output_type": "display_data"
    },
    {
     "data": {
      "text/plain": "<Figure size 640x480 with 1 Axes>",
      "image/png": "[encoded data removed]"
     },
     "metadata": {},
     "output_type": "display_data"
    },
    {
     "data": {
      "text/plain": "<Figure size 640x480 with 1 Axes>",
      "image/png": "[encoded data removed]"
     },
     "metadata": {},
     "output_type": "display_data"
    },
    {
     "data": {
      "text/plain": "<Figure size 640x480 with 1 Axes>",
      "image/png": "[encoded data removed]"
     },
     "metadata": {},
     "output_type": "display_data"
    },
    {
     "data": {
      "text/plain": "<Figure size 640x480 with 1 Axes>",
      "image/png": "[encoded data removed]"
     },
     "metadata": {},
     "output_type": "display_data"
    },
    {
     "data": {
      "text/plain": "<Figure size 640x480 with 1 Axes>",
      "image/png": "[encoded data removed]"
     },
     "metadata": {},
     "output_type": "display_data"
    },
    {
     "data": {
      "text/plain": "<Figure size 640x480 with 1 Axes>",
      "image/png": "[encoded data removed]"
     },
     "metadata": {},
     "output_type": "display_data"
    },
    {
     "data": {
      "text/plain": "<Figure size 640x480 with 1 Axes>",
      "image/png": "[encoded data removed]"
     },
     "metadata": {},
     "output_type": "display_data"
    },
    {
     "data": {
      "text/plain": "<Figure size 640x480 with 1 Axes>",
      "image/png": "[encoded data removed]"
     },
     "metadata": {},
     "output_type": "display_data"
    }
   ],
   "source": [
    "#Plot data for each attribute\n",
    "for col in numeric_col:\n",
    "        sns.histplot(x=resta_df[col], data=resta_df).set_title(col)\n",
    "        plt.show(block=True)"
   ],
   "metadata": {
    "collapsed": false,
    "ExecuteTime": {
     "end_time": "2024-06-03T23:03:59.337412500Z",
     "start_time": "2024-06-03T23:03:28.336664300Z"
    }
   },
   "id": "4a626ccc6e8af958"
  },
  {
   "cell_type": "markdown",
   "source": [
    "### Analyzing Categorical Attributes"
   ],
   "metadata": {
    "collapsed": false
   },
   "id": "3a75a8ae14e42351"
  },
  {
   "cell_type": "code",
   "execution_count": null,
   "outputs": [],
   "source": [
    "resta_df[categoric_col]"
   ],
   "metadata": {
    "collapsed": false,
    "is_executing": true,
    "ExecuteTime": {
     "start_time": "2024-06-03T23:03:59.276368300Z"
    }
   },
   "id": "9998b613e9d8d649"
  },
  {
   "cell_type": "markdown",
   "source": [
    "#### Products by each category"
   ],
   "metadata": {
    "collapsed": false
   },
   "id": "a87088f646c2a144"
  },
  {
   "cell_type": "code",
   "execution_count": null,
   "outputs": [],
   "source": [
    "resta_df.groupby(['group_classifier','classification'])['product'].count().sort_values(ascending=False)"
   ],
   "metadata": {
    "collapsed": false,
    "is_executing": true
   },
   "id": "970a151be983826d"
  },
  {
   "cell_type": "code",
   "execution_count": null,
   "outputs": [],
   "source": [
    "resta_df.loc[resta_df['group_classifier']=='BEBIDAS' ,'classification'].value_counts().plot(kind='bar')\n",
    "plt.title('Most_Selling_Item by Category Beverages')\n",
    "plt.ylabel('Count')\n"
   ],
   "metadata": {
    "collapsed": false,
    "is_executing": true
   },
   "id": "4903095671191ec9"
  },
  {
   "cell_type": "code",
   "execution_count": null,
   "outputs": [],
   "source": [
    "resta_df.loc[resta_df['group_classifier']=='MENU' ,'classification'].value_counts().plot(kind='bar')\n",
    "plt.title('Most_Selling_Item by Category menu')\n",
    "plt.ylabel('Count')"
   ],
   "metadata": {
    "collapsed": false,
    "is_executing": true
   },
   "id": "464d8853e133cca1"
  },
  {
   "cell_type": "code",
   "execution_count": null,
   "outputs": [],
   "source": [
    "resta_df.groupby('group_classifier')['product'].count().sort_values(ascending=False)"
   ],
   "metadata": {
    "collapsed": false,
    "is_executing": true
   },
   "id": "d29b5bb91a813e8f"
  },
  {
   "cell_type": "code",
   "execution_count": null,
   "outputs": [],
   "source": [
    "resta_df.loc[resta_df['group_classifier']=='OTROS','product'].value_counts().plot(kind='bar')\n",
    "plt.title('Most_Selling_Item by Category Others')\n",
    "plt.ylabel('Count')"
   ],
   "metadata": {
    "collapsed": false,
    "is_executing": true
   },
   "id": "b3a8a26da6a479d3"
  },
  {
   "cell_type": "code",
   "execution_count": null,
   "outputs": [],
   "source": [
    "resta_df.loc[resta_df['group_classifier']=='BEBIDAS','product'].value_counts().plot(kind='bar')\n",
    "plt.title('Most_Selling_Item by Category Beverages')\n",
    "plt.ylabel('Count')"
   ],
   "metadata": {
    "collapsed": false,
    "is_executing": true
   },
   "id": "fb3fe1601671755a"
  },
  {
   "cell_type": "markdown",
   "source": [
    "### Categorical variables analysis"
   ],
   "metadata": {
    "collapsed": false,
    "ExecuteTime": {
     "end_time": "2024-05-15T15:37:01.063551800Z",
     "start_time": "2024-05-15T15:36:59.393876400Z"
    }
   },
   "id": "21783dfffb34398c"
  },
  {
   "cell_type": "code",
   "execution_count": null,
   "outputs": [],
   "source": [
    "categorical_not_selected=['order_observations','classification','product','product_observations','modification_date','modification_reason','is_cancelled','is_courtesy']\n",
    "categorical_selected=[col for col in categoric_col if col not in categorical_not_selected]\n",
    "categorical_selected"
   ],
   "metadata": {
    "collapsed": false,
    "is_executing": true
   },
   "id": "c31d8f0142ec6d97"
  },
  {
   "cell_type": "code",
   "execution_count": null,
   "outputs": [],
   "source": [
    "for col in categorical_selected:\n",
    "    sns.barplot(x=resta_df[col].unique(), y = resta_df[col].value_counts()).set(title=col)\n",
    "    plt.xticks(rotation=45)\n",
    "    plt.show(block=True)\n",
    "    \n",
    "        "
   ],
   "metadata": {
    "collapsed": false,
    "is_executing": true
   },
   "id": "63dbb7518eb2fd37"
  },
  {
   "cell_type": "markdown",
   "source": [
    "## Data Cleaning "
   ],
   "metadata": {
    "collapsed": false,
    "ExecuteTime": {
     "end_time": "2024-05-15T15:37:21.335196900Z",
     "start_time": "2024-05-15T15:37:19.082013500Z"
    }
   },
   "id": "bb408079141a12bc"
  },
  {
   "cell_type": "markdown",
   "source": [
    "### Missing values"
   ],
   "metadata": {
    "collapsed": false
   },
   "id": "fe9c9d9889d8252f"
  },
  {
   "cell_type": "code",
   "execution_count": null,
   "outputs": [],
   "source": [
    "#Determining how many values are null in percentage.\n",
    "((resta_df.isna().sum()/resta_df.shape[0])*100).sort_values(ascending=False)\n"
   ],
   "metadata": {
    "collapsed": false,
    "is_executing": true
   },
   "id": "3658066900b2ff0"
  },
  {
   "cell_type": "markdown",
   "source": [
    "Since 'order_observations' has 100% of NaN values, is better to erase the entire column."
   ],
   "metadata": {
    "collapsed": false
   },
   "id": "58094ce74146c97e"
  },
  {
   "cell_type": "code",
   "execution_count": null,
   "outputs": [],
   "source": [
    "resta_df.drop(columns='order_observations', axis=1, inplace=True)"
   ],
   "metadata": {
    "collapsed": false,
    "is_executing": true
   },
   "id": "f9b5b863f7fd1f3e"
  },
  {
   "cell_type": "code",
   "execution_count": null,
   "outputs": [],
   "source": [
    "categoric_col.remove('order_observations')\n",
    "categoric_col"
   ],
   "metadata": {
    "collapsed": false,
    "is_executing": true
   },
   "id": "c5f4057c57d007c8"
  },
  {
   "cell_type": "markdown",
   "source": [
    "### NULL VALUES IN 'is_canceled column' \n",
    "'is cancelled' is equivalent to say that an order has been annuled  "
   ],
   "metadata": {
    "collapsed": false,
    "ExecuteTime": {
     "end_time": "2024-05-15T18:33:24.103811500Z",
     "start_time": "2024-05-15T18:33:24.055641500Z"
    }
   },
   "id": "7c41c94e5ecb8f8e"
  },
  {
   "cell_type": "code",
   "execution_count": null,
   "outputs": [],
   "source": [
    "resta_df['is_cancelled'].value_counts()"
   ],
   "metadata": {
    "collapsed": false,
    "is_executing": true
   },
   "id": "e419662ac49c47d2"
  },
  {
   "cell_type": "code",
   "execution_count": null,
   "outputs": [],
   "source": [
    "#Get how many values are NAN in is cancelled column\n",
    "resta_df['is_cancelled'].isna().sum()"
   ],
   "metadata": {
    "collapsed": false,
    "is_executing": true
   },
   "id": "80967f1fffcfcaf5"
  },
  {
   "cell_type": "code",
   "execution_count": null,
   "outputs": [],
   "source": [
    "#In which cases there was reported as 'not cancelled'\n",
    "resta_df.loc[resta_df['is_cancelled'].isna(),['product','classification']]    "
   ],
   "metadata": {
    "collapsed": false,
    "is_executing": true
   },
   "id": "3da7501e0dab38f9"
  },
  {
   "cell_type": "code",
   "execution_count": null,
   "outputs": [],
   "source": [
    "#In which cases there was reported as 'cancelled'\n",
    "resta_df.loc[resta_df['is_cancelled']==True,['product','classification']]    "
   ],
   "metadata": {
    "collapsed": false,
    "is_executing": true
   },
   "id": "fee64fd442abc7fb"
  },
  {
   "cell_type": "code",
   "execution_count": null,
   "outputs": [],
   "source": [
    "# If there was a customer who paid and there was a change given, so there has been a purchase completed. \n",
    "# Accordingly couldnt be cancelled\n",
    "resta_df.loc[(resta_df['is_cancelled']==True),['product','to_pay_xprod','tot_order_payment','customer_pay','change','is_cancelled']]"
   ],
   "metadata": {
    "collapsed": false,
    "is_executing": true
   },
   "id": "f7f7cc027c5dd88d"
  },
  {
   "cell_type": "markdown",
   "source": [
    "##### Eventhough products which have status in 'is_cancelled' in True, were charged anyway. Which seems as an interesting input to analyze the owner. \n",
    "Paid customer, change and is_cancelled are not columns which reflect any important insight, since those seems to be erroneus values placed.\n"
   ],
   "metadata": {
    "collapsed": false,
    "ExecuteTime": {
     "end_time": "2024-05-15T18:28:35.469224500Z",
     "start_time": "2024-05-15T18:28:35.427604900Z"
    }
   },
   "id": "4460a1fc1753d878"
  },
  {
   "cell_type": "markdown",
   "source": [
    "##### Analyze missing assingments \n",
    "All products which haven't been cancelled should have 'is_cancelled' status to False, and just 4 of them have it. So next step is fixing this issue.  "
   ],
   "metadata": {
    "collapsed": false,
    "ExecuteTime": {
     "end_time": "2024-05-15T18:28:44.629331300Z",
     "start_time": "2024-05-15T18:28:44.486068200Z"
    }
   },
   "id": "73c08326c501e20d"
  },
  {
   "cell_type": "code",
   "execution_count": null,
   "outputs": [],
   "source": [
    "resta_df.loc[(resta_df['is_cancelled']==False),['product','price','quantity','to_pay_xprod','tot_order_payment','customer_pay','change','is_cancelled']].tail(50)"
   ],
   "metadata": {
    "collapsed": false,
    "is_executing": true
   },
   "id": "ce4dfc511856cc2b"
  },
  {
   "cell_type": "code",
   "execution_count": null,
   "outputs": [],
   "source": [
    "#NaN values in is_cancelled should be placed in False, since those orders were not cancelled \n",
    "resta_df[['product','is_cancelled','tot_order_payment','customer_pay','change']][resta_df['is_cancelled'].isna()]"
   ],
   "metadata": {
    "collapsed": false,
    "is_executing": true
   },
   "id": "86b14314d736e3b"
  },
  {
   "cell_type": "code",
   "execution_count": null,
   "outputs": [],
   "source": [
    "#To all NaN values in 'is_cancelled' place False.\n",
    "resta_df['is_cancelled'].fillna(False, inplace=True)"
   ],
   "metadata": {
    "collapsed": false,
    "is_executing": true
   },
   "id": "b6105e6bcbfddc83"
  },
  {
   "cell_type": "code",
   "execution_count": null,
   "outputs": [],
   "source": [
    "resta_df['is_cancelled'].isna().sum()"
   ],
   "metadata": {
    "collapsed": false,
    "is_executing": true
   },
   "id": "6d0c0d336c38ff3b"
  },
  {
   "cell_type": "markdown",
   "source": [
    "### NaN values in 'classification' column "
   ],
   "metadata": {
    "collapsed": false
   },
   "id": "fb7f6c7eef904a8a"
  },
  {
   "cell_type": "code",
   "execution_count": null,
   "outputs": [],
   "source": [
    "resta_df['classification'].isna().sum()"
   ],
   "metadata": {
    "collapsed": false,
    "is_executing": true
   },
   "id": "7aa70ad910506e37"
  },
  {
   "cell_type": "code",
   "execution_count": null,
   "outputs": [],
   "source": [
    "resta_df[['classification','product']][resta_df['classification'].isna()]"
   ],
   "metadata": {
    "collapsed": false,
    "is_executing": true
   },
   "id": "8cf34b9ed96149da"
  },
  {
   "cell_type": "markdown",
   "source": [
    "According to the data source whenever there are null values in parent_product, means that parent product value is equal to product. "
   ],
   "metadata": {
    "collapsed": false
   },
   "id": "2cd3695d50965b40"
  },
  {
   "cell_type": "code",
   "execution_count": null,
   "outputs": [],
   "source": [
    "#Fill null values with values which are in column product \n",
    "resta_df['classification'].fillna(resta_df['product'], inplace=True)"
   ],
   "metadata": {
    "collapsed": false,
    "is_executing": true
   },
   "id": "abe5ac749c1d8b89"
  },
  {
   "cell_type": "markdown",
   "source": [
    "#### NaN values in modification_reason column.\n",
    "modification_reason, modification_dates, modification_time are related to is_cancelled column, meaning that whenever there is a cancellation there will be data in these columns, otherwise only False in is_cancelled column. NaN values dont require to be erased yet, but NAN values in 'modification_reason'  could be replaced by 'Ninguna'. "
   ],
   "metadata": {
    "collapsed": false
   },
   "id": "73ebef39615404f"
  },
  {
   "cell_type": "code",
   "execution_count": null,
   "outputs": [],
   "source": [
    "resta_df['modification_reason'].isna().sum()"
   ],
   "metadata": {
    "collapsed": false,
    "is_executing": true
   },
   "id": "b37f1f2ba049b54d"
  },
  {
   "cell_type": "code",
   "execution_count": null,
   "outputs": [],
   "source": [
    "resta_df[['modification_date','modification_reason','is_cancelled']][resta_df['modification_date'].isna()]"
   ],
   "metadata": {
    "collapsed": false,
    "is_executing": true
   },
   "id": "e73ad3ac502407fc"
  },
  {
   "cell_type": "code",
   "execution_count": null,
   "outputs": [],
   "source": [
    "resta_df[~resta_df['modification_reason'].isna()]"
   ],
   "metadata": {
    "collapsed": false,
    "is_executing": true
   },
   "id": "96046d54dd1d1d6e"
  },
  {
   "cell_type": "code",
   "execution_count": null,
   "outputs": [],
   "source": [
    "resta_df.loc[(resta_df['is_cancelled']==False),['product','price','quantity','to_pay_xprod','tot_order_payment','customer_pay','change','is_cancelled']].tail(50)"
   ],
   "metadata": {
    "collapsed": false,
    "is_executing": true
   },
   "id": "22d45975b20d9094"
  },
  {
   "cell_type": "code",
   "execution_count": null,
   "outputs": [],
   "source": [
    "resta_df.loc[resta_df['modification_reason'].isna(),'modification_reason']='Ninguna'"
   ],
   "metadata": {
    "collapsed": false,
    "is_executing": true
   },
   "id": "c7091f32d86a76b9"
  },
  {
   "cell_type": "code",
   "execution_count": null,
   "outputs": [],
   "source": [
    "resta_df['modification_reason'].isna().sum()"
   ],
   "metadata": {
    "collapsed": false,
    "is_executing": true
   },
   "id": "395ec3401cf234fe"
  },
  {
   "cell_type": "markdown",
   "source": [
    "### NaN values in 'product_observation' column\n",
    "Whenever there were sales done as 'Completo' that meand Lunch, so users have used this space to detail the kind of lunch for that sale.\n",
    "When there is NaN in this column is not objetable."
   ],
   "metadata": {
    "collapsed": false
   },
   "id": "7784eb2c27301dbb"
  },
  {
   "cell_type": "code",
   "execution_count": null,
   "outputs": [],
   "source": [
    "resta_df['product_observations'].isna().sum()"
   ],
   "metadata": {
    "collapsed": false,
    "is_executing": true
   },
   "id": "59c7af305cbe166d"
  },
  {
   "cell_type": "code",
   "execution_count": null,
   "outputs": [],
   "source": [
    "resta_df['product_observations'].unique()"
   ],
   "metadata": {
    "collapsed": false,
    "is_executing": true
   },
   "id": "7c87e8c4d6f67c2f"
  },
  {
   "cell_type": "code",
   "execution_count": null,
   "outputs": [],
   "source": [
    "resta_df[~resta_df['product_observations'].isna()]"
   ],
   "metadata": {
    "collapsed": false,
    "is_executing": true
   },
   "id": "af616484687459c0"
  },
  {
   "cell_type": "code",
   "execution_count": null,
   "outputs": [],
   "source": [
    "resta_df[resta_df['product_observations'].isna()]"
   ],
   "metadata": {
    "collapsed": false,
    "is_executing": true
   },
   "id": "aff2d079b5415e22"
  },
  {
   "cell_type": "code",
   "execution_count": null,
   "outputs": [],
   "source": [
    "#Fullfill 'product_observations' with 'Ninguna' whenever there are NaN values\n",
    "resta_df.loc[resta_df['product_observations'].isna(), 'product_observations']='Ninguna'"
   ],
   "metadata": {
    "collapsed": false,
    "is_executing": true
   },
   "id": "ea663ef180d17255"
  },
  {
   "cell_type": "code",
   "execution_count": null,
   "outputs": [],
   "source": [
    "resta_df['product_observations'].isna().sum()"
   ],
   "metadata": {
    "collapsed": false,
    "is_executing": true
   },
   "id": "8d43600d1f074c96"
  },
  {
   "cell_type": "markdown",
   "source": [
    "### NaN values in is_courtesy column\n",
    "Orders which have been labeled NaN in is_courtesy should be changed to False, since those havent been a courtesy."
   ],
   "metadata": {
    "collapsed": false
   },
   "id": "11d8caa823a7fafe"
  },
  {
   "cell_type": "code",
   "execution_count": null,
   "outputs": [],
   "source": [
    "resta_df['is_courtesy'].isna().sum()"
   ],
   "metadata": {
    "collapsed": false,
    "is_executing": true
   },
   "id": "ba9f40b754c3056e"
  },
  {
   "cell_type": "code",
   "execution_count": null,
   "outputs": [],
   "source": [
    "resta_df['is_courtesy'].unique()"
   ],
   "metadata": {
    "collapsed": false,
    "is_executing": true
   },
   "id": "754223cbbb32baa5"
  },
  {
   "cell_type": "code",
   "execution_count": null,
   "outputs": [],
   "source": [
    "resta_df[resta_df['is_courtesy'].isna()].sample(5)"
   ],
   "metadata": {
    "collapsed": false,
    "is_executing": true
   },
   "id": "94df8d29318ba68b"
  },
  {
   "cell_type": "markdown",
   "source": [],
   "metadata": {
    "collapsed": false
   },
   "id": "8865b9c3bf41d11a"
  },
  {
   "cell_type": "code",
   "execution_count": null,
   "outputs": [],
   "source": [
    "#Whenever 'is_courtesy' equals to NaN the corret value should be False\n",
    "resta_df.loc[resta_df['is_courtesy'].isna(),'is_courtesy']=False"
   ],
   "metadata": {
    "collapsed": false,
    "is_executing": true
   },
   "id": "272aba31f7ba8a3c"
  },
  {
   "cell_type": "code",
   "execution_count": null,
   "outputs": [],
   "source": [
    "resta_df['is_courtesy'].isna().sum()"
   ],
   "metadata": {
    "collapsed": false,
    "is_executing": true
   },
   "id": "1e427a70a5daea64"
  },
  {
   "cell_type": "markdown",
   "source": [
    "#### NaN values in end_balance column"
   ],
   "metadata": {
    "collapsed": false
   },
   "id": "7cdf6ff6f4d37f16"
  },
  {
   "cell_type": "code",
   "execution_count": null,
   "outputs": [],
   "source": [
    "resta_df['end_balance'].isna().sum()"
   ],
   "metadata": {
    "collapsed": false,
    "is_executing": true
   },
   "id": "ed3143202b333b3c"
  },
  {
   "cell_type": "code",
   "execution_count": null,
   "outputs": [],
   "source": [
    "resta_df[resta_df['end_balance'].isna()]"
   ],
   "metadata": {
    "collapsed": false,
    "is_executing": true
   },
   "id": "100bfa25546a1e13"
  },
  {
   "cell_type": "code",
   "execution_count": null,
   "outputs": [],
   "source": [
    "#'end_balance' shpuld not be null,NaN values shopuld be replaced by 0\n",
    "resta_df.loc[resta_df['end_balance'].isna(),'end_balance']=0"
   ],
   "metadata": {
    "collapsed": false,
    "is_executing": true
   },
   "id": "f39e7347387771c7"
  },
  {
   "cell_type": "code",
   "execution_count": null,
   "outputs": [],
   "source": [
    "resta_df['end_balance'].isna().sum()"
   ],
   "metadata": {
    "collapsed": false,
    "is_executing": true
   },
   "id": "527d931734293b97"
  },
  {
   "cell_type": "markdown",
   "source": [
    "## Analyze Outliers"
   ],
   "metadata": {
    "collapsed": false
   },
   "id": "fda12b9858b16c5c"
  },
  {
   "cell_type": "markdown",
   "source": [
    "### Numerical attributes"
   ],
   "metadata": {
    "collapsed": false
   },
   "id": "a72203d01549d954"
  },
  {
   "cell_type": "markdown",
   "source": [
    "Statistics to determine outliers"
   ],
   "metadata": {
    "collapsed": false
   },
   "id": "7b3c0c8a781412f"
  },
  {
   "cell_type": "code",
   "execution_count": null,
   "outputs": [],
   "source": [
    "resta_df[numeric_col].describe().T"
   ],
   "metadata": {
    "collapsed": false,
    "is_executing": true
   },
   "id": "e393a8964c5aebd6"
  },
  {
   "cell_type": "markdown",
   "source": [],
   "metadata": {
    "collapsed": false
   },
   "id": "48ebbcba6ba24ea0"
  },
  {
   "cell_type": "code",
   "execution_count": null,
   "outputs": [],
   "source": [
    "for col in numeric_col:\n",
    "        sns.boxplot(x=resta_df[col], data=resta_df)\n",
    "        plt.title(f'Boxplot for {col}')\n",
    "        plt.show(block=True)"
   ],
   "metadata": {
    "collapsed": false,
    "is_executing": true
   },
   "id": "45e97a0c4c4d5015"
  },
  {
   "cell_type": "markdown",
   "source": [
    "#### Analysis of 'price' column\n",
    "It is coherent to have products that vary from 1 - 130 $. There are special products which have higher cost, and which seem to be outlier seems sales from those are scarse. \n",
    "There is no need to modify outliers from this column."
   ],
   "metadata": {
    "collapsed": false
   },
   "id": "819b18efc7b586c4"
  },
  {
   "cell_type": "code",
   "execution_count": null,
   "outputs": [],
   "source": [
    "resta_df['price'].describe()"
   ],
   "metadata": {
    "collapsed": false,
    "is_executing": true
   },
   "id": "e17af097ef79a42a"
  },
  {
   "cell_type": "code",
   "execution_count": null,
   "outputs": [],
   "source": [
    "# Calculate 25th percentile of annual strikes\n",
    "percentile25 = resta_df['price'].quantile(0.25)\n",
    "# Calculate 75th percentile of annual strikes\n",
    "percentile75 = resta_df['price'].quantile(0.75)\n",
    "# Calculate interquartile range\n",
    "iqr = percentile75 - percentile25\n",
    "# Calculate upper and lower thresholds for outliers\n",
    "upper_limit = round(percentile75 + 1.5 * iqr,0)\n",
    "lower_limit = round(percentile25 - 1.5 * iqr,0)\n",
    "print('Lower limit is: ', lower_limit)\n",
    "print('Upper limit',upper_limit)"
   ],
   "metadata": {
    "collapsed": false,
    "is_executing": true
   },
   "id": "54fd7a4163d0f7c3"
  },
  {
   "cell_type": "code",
   "execution_count": null,
   "outputs": [],
   "source": [
    "#show all values greater than the max limit\n",
    "resta_df['price'][resta_df['price'] > upper_limit].value_counts().sort_values(ascending=False)"
   ],
   "metadata": {
    "collapsed": false,
    "is_executing": true
   },
   "id": "add42609200a9000"
  },
  {
   "cell_type": "code",
   "execution_count": null,
   "outputs": [],
   "source": [
    "#which products have 55 or more as a price\n",
    "resta_df[resta_df['price'] > upper_limit].sample(20)"
   ],
   "metadata": {
    "collapsed": false,
    "is_executing": true
   },
   "id": "90c0c2c0a9c9aebc"
  },
  {
   "cell_type": "code",
   "execution_count": null,
   "outputs": [],
   "source": [
    "resta_df[['classification','price']][resta_df['price'] > 88].value_counts()"
   ],
   "metadata": {
    "collapsed": false,
    "is_executing": true
   },
   "id": "3efb8fb948b686c5"
  },
  {
   "cell_type": "code",
   "execution_count": null,
   "outputs": [],
   "source": [
    "resta_df[['classification','price']][resta_df['price'] ==resta_df['price'].min()].value_counts()"
   ],
   "metadata": {
    "collapsed": false,
    "is_executing": true
   },
   "id": "2797fdc450ebeeb1"
  },
  {
   "cell_type": "code",
   "execution_count": null,
   "outputs": [],
   "source": [
    "resta_df[['classification','price']][resta_df['price']==resta_df['price'].max()].value_counts()"
   ],
   "metadata": {
    "collapsed": false,
    "is_executing": true
   },
   "id": "15d9eb0cb95442ef"
  },
  {
   "cell_type": "markdown",
   "source": [
    "#### Analysis of 'quantity'\n",
    "There are quantities greater than 60 correspond to products which are not from sale but inventory, also there are delivery names within so those have to be cleaned.\n"
   ],
   "metadata": {
    "collapsed": false
   },
   "id": "37b8bdd222fc012a"
  },
  {
   "cell_type": "code",
   "execution_count": null,
   "outputs": [],
   "source": [
    "resta_df['quantity'].describe()"
   ],
   "metadata": {
    "collapsed": false,
    "is_executing": true
   },
   "id": "8d52219be1d110f0"
  },
  {
   "cell_type": "code",
   "execution_count": null,
   "outputs": [],
   "source": [
    "# Calculate 25th percentile of annual strikes\n",
    "percentile25 = resta_df['quantity'].quantile(0.25)\n",
    "# Calculate 75th percentile of annual strikes\n",
    "percentile75 = resta_df['quantity'].quantile(0.75)\n",
    "# Calculate interquartile range\n",
    "iqr = percentile75 - percentile25\n",
    "# Calculate upper and lower thresholds for outliers\n",
    "upper_limit = round(percentile75 + 1.5 * iqr,0)\n",
    "lower_limit = round(percentile25 - 1.5 * iqr,0)\n",
    "print('Lower limit is: ', lower_limit)\n",
    "print('Upper limit',upper_limit)"
   ],
   "metadata": {
    "collapsed": false,
    "is_executing": true
   },
   "id": "6e5bac1d5341c357"
  },
  {
   "cell_type": "code",
   "execution_count": null,
   "outputs": [],
   "source": [
    "resta_df['quantity'].value_counts().sort_values(ascending=False)"
   ],
   "metadata": {
    "collapsed": false,
    "is_executing": true
   },
   "id": "c5e8d8f1b3efd754"
  },
  {
   "cell_type": "code",
   "execution_count": null,
   "outputs": [],
   "source": [
    "resta_df[resta_df['quantity'] > upper_limit].sort_values(by='quantity')"
   ],
   "metadata": {
    "collapsed": false,
    "is_executing": true
   },
   "id": "b7bd41f73449169"
  },
  {
   "cell_type": "code",
   "execution_count": null,
   "outputs": [],
   "source": [
    "resta_df[resta_df['quantity'] > 60].sort_values(by='quantity')"
   ],
   "metadata": {
    "collapsed": false,
    "is_executing": true
   },
   "id": "72b1b3c92a20e28e"
  },
  {
   "cell_type": "markdown",
   "source": [
    "### Analysis of outliers from categorical values"
   ],
   "metadata": {
    "collapsed": false
   },
   "id": "c99cf6f53c8f0220"
  },
  {
   "cell_type": "markdown",
   "source": [
    "#### Analysis of products by 'prod_state' column"
   ],
   "metadata": {
    "collapsed": false
   },
   "id": "2332ffb0363b698d"
  },
  {
   "cell_type": "code",
   "execution_count": null,
   "outputs": [],
   "source": [
    "resta_df.sample(5)"
   ],
   "metadata": {
    "collapsed": false,
    "is_executing": true
   },
   "id": "9a3aa53794d9bc7a"
  },
  {
   "cell_type": "code",
   "execution_count": null,
   "outputs": [],
   "source": [
    "resta_df[resta_df['price']==1].groupby(['classification','product','prod_state'])['to_pay_xprod'].count()"
   ],
   "metadata": {
    "collapsed": false,
    "is_executing": true
   },
   "id": "e1e32c47ee870433"
  },
  {
   "cell_type": "code",
   "execution_count": null,
   "outputs": [],
   "source": [
    "resta_df[resta_df['prod_state']=='inactivo'].sample(20)"
   ],
   "metadata": {
    "collapsed": false,
    "is_executing": true
   },
   "id": "d0322e9f3f2d2bbe"
  },
  {
   "cell_type": "markdown",
   "source": [
    "## Feature Engineering - Data preparation"
   ],
   "metadata": {
    "collapsed": false
   },
   "id": "8de2543e95edb9e2"
  },
  {
   "cell_type": "markdown",
   "source": [
    "### Checking for duplicates"
   ],
   "metadata": {
    "collapsed": false
   },
   "id": "c26057210febdf4c"
  },
  {
   "cell_type": "code",
   "execution_count": null,
   "outputs": [],
   "source": [
    "resta_df.duplicated().sum()"
   ],
   "metadata": {
    "collapsed": false,
    "is_executing": true
   },
   "id": "22ec9b6a850f580b"
  },
  {
   "cell_type": "markdown",
   "source": [
    "#### Cheking requirements of structure modification"
   ],
   "metadata": {
    "collapsed": false
   },
   "id": "54c31c1d8f96b2dc"
  },
  {
   "cell_type": "markdown",
   "source": [
    "#### Converto strings to lower case"
   ],
   "metadata": {
    "collapsed": false
   },
   "id": "c99aab22f6b7159e"
  },
  {
   "cell_type": "code",
   "execution_count": null,
   "outputs": [],
   "source": [
    "resta_df[categoric_col].head()"
   ],
   "metadata": {
    "collapsed": false,
    "is_executing": true
   },
   "id": "bc5d2a439346c995"
  },
  {
   "cell_type": "code",
   "execution_count": null,
   "outputs": [],
   "source": [
    "# Place all string items in lower letters \n",
    "\n",
    "cols_to_lower=['classification', 'product', 'group_classifier','product_observations','location','prod_state','status','stateprod']\n",
    "\n",
    "for col in cols_to_lower:\n",
    "    if col in resta_df.columns:\n",
    "        resta_df[col] = resta_df[col].str.lower()\n",
    "        "
   ],
   "metadata": {
    "collapsed": false,
    "is_executing": true
   },
   "id": "cba5f8939918ffdc"
  },
  {
   "cell_type": "code",
   "execution_count": null,
   "outputs": [],
   "source": [
    "#Delete any space before or after any value in the dataset\n",
    "resta_df=resta_df.applymap(lambda x:x.strip() if isinstance(x,str) else x)"
   ],
   "metadata": {
    "collapsed": false,
    "is_executing": true
   },
   "id": "46310604608ffe53"
  },
  {
   "cell_type": "markdown",
   "source": [
    "### Unnecessary columns.\n",
    "--- drop type_payment_form since has a unique value 'EFE'.\n",
    "--- determine whether to delete status \n",
    "--- determine whether to delete stateprod which seems to be equal to prod_state\n",
    "\n",
    "--- determine whether to delete start_balance and end_balance"
   ],
   "metadata": {
    "collapsed": false
   },
   "id": "608928d65768c6c3"
  },
  {
   "cell_type": "code",
   "execution_count": null,
   "outputs": [],
   "source": [
    "#type_payment_form column analysis\n",
    "resta_df['type_payment_form'].value_counts()"
   ],
   "metadata": {
    "collapsed": false,
    "is_executing": true
   },
   "id": "67922b3ccaa6f861"
  },
  {
   "cell_type": "code",
   "execution_count": null,
   "outputs": [],
   "source": [
    "resta_df=resta_df.drop('type_payment_form', axis=1)"
   ],
   "metadata": {
    "collapsed": false,
    "is_executing": true
   },
   "id": "2a1391e2a345ef1b"
  },
  {
   "cell_type": "markdown",
   "source": [
    "'status' column appears to not determine anything in specific, since cerrado has 503968 values and abierto 1130. These seems to be wrong load."
   ],
   "metadata": {
    "collapsed": false
   },
   "id": "1e62a32377c618a9"
  },
  {
   "cell_type": "code",
   "execution_count": null,
   "outputs": [],
   "source": [
    "resta_df['status'].value_counts()"
   ],
   "metadata": {
    "collapsed": false,
    "is_executing": true
   },
   "id": "55b4b58d73d7b344"
  },
  {
   "cell_type": "code",
   "execution_count": null,
   "outputs": [],
   "source": [
    "resta_df=resta_df.drop('status', axis=1)"
   ],
   "metadata": {
    "collapsed": false,
    "is_executing": true
   },
   "id": "b09e5089a756021a"
  },
  {
   "cell_type": "markdown",
   "source": [
    "'prod_state','stateprod' have equal values so one of those will be deleted."
   ],
   "metadata": {
    "collapsed": false
   },
   "id": "365e53fa7c9a9c10"
  },
  {
   "cell_type": "code",
   "execution_count": null,
   "outputs": [],
   "source": [
    "resta_df[['prod_state','stateprod']].sample(20)"
   ],
   "metadata": {
    "collapsed": false,
    "is_executing": true
   },
   "id": "cff45a85c0198b13"
  },
  {
   "cell_type": "markdown",
   "source": [
    "'start_balance','end_balance' there is no coherence on the first value refarding the other, when start balance has a value, in several cases end_balance has 0. These inconsistencies are not useful for the project."
   ],
   "metadata": {
    "collapsed": false
   },
   "id": "fcba37b8f9edd62b"
  },
  {
   "cell_type": "code",
   "execution_count": null,
   "outputs": [],
   "source": [
    "resta_df=resta_df.drop('stateprod', axis=1)"
   ],
   "metadata": {
    "collapsed": false,
    "is_executing": true
   },
   "id": "142f6e7641a27e33"
  },
  {
   "cell_type": "code",
   "execution_count": null,
   "outputs": [],
   "source": [
    "resta_df[['start_balance','end_balance']].head(20)"
   ],
   "metadata": {
    "collapsed": false,
    "is_executing": true
   },
   "id": "aa0eac0a61142325"
  },
  {
   "cell_type": "code",
   "execution_count": null,
   "outputs": [],
   "source": [
    "resta_df=resta_df.drop(columns=['start_balance','end_balance'], axis=1)"
   ],
   "metadata": {
    "collapsed": false,
    "is_executing": true
   },
   "id": "b4907c4fec899e37"
  },
  {
   "cell_type": "code",
   "execution_count": null,
   "outputs": [],
   "source": [
    "resta_df.columns"
   ],
   "metadata": {
    "collapsed": false,
    "is_executing": true
   },
   "id": "6247f2a9d4dc2390"
  },
  {
   "cell_type": "code",
   "execution_count": null,
   "outputs": [],
   "source": [
    "dropped_cols=['start_balance','end_balance','stateprod','status','type_payment_form'] "
   ],
   "metadata": {
    "collapsed": false,
    "is_executing": true
   },
   "id": "4737daaab4210e2e"
  },
  {
   "cell_type": "markdown",
   "source": [
    "Correcting Categorical selected list, deleting dropped columns"
   ],
   "metadata": {
    "collapsed": false
   },
   "id": "70b7ddeeffae4a9a"
  },
  {
   "cell_type": "code",
   "execution_count": null,
   "outputs": [],
   "source": [
    "categorical_selected=[col for col in categoric_col if col not in dropped_cols]\n",
    "categorical_selected"
   ],
   "metadata": {
    "collapsed": false,
    "is_executing": true
   },
   "id": "e91d0cb14de7f8a"
  },
  {
   "cell_type": "markdown",
   "source": [
    "### Analysis and corrections in price column \n",
    "Orders with price equals to 1 seem to be related to deliveries, inventaryn products and others. These should be reviewed and cleaned to have consistency information regarding only sales.  "
   ],
   "metadata": {
    "collapsed": false
   },
   "id": "4ce235e08d76521b"
  },
  {
   "cell_type": "code",
   "execution_count": null,
   "outputs": [],
   "source": [
    "resta_df[resta_df['price']==1].sample(20)"
   ],
   "metadata": {
    "collapsed": false,
    "is_executing": true
   },
   "id": "ead04c5136dc487"
  },
  {
   "cell_type": "markdown",
   "source": [
    "#### Transforming - DELIVERY column\n",
    "\n",
    "column 'product', within product there have been identified these as deliveries: dinki,ego,fast driver,mr. delivery,patio service,pedidos ya,link."
   ],
   "metadata": {
    "collapsed": false
   },
   "id": "d5b1775d26b33e91"
  },
  {
   "cell_type": "code",
   "execution_count": null,
   "outputs": [],
   "source": [
    "#Creating a new column called 'delivery_name' to determine which delivery enterprise corresponds to.\n",
    "resta_df['delivery_name']=pd.Series()"
   ],
   "metadata": {
    "collapsed": false,
    "is_executing": true
   },
   "id": "d4e23997b3361bfc"
  },
  {
   "cell_type": "code",
   "execution_count": null,
   "outputs": [],
   "source": [
    "deliveries=['dinki','ego','fast driver','mr. delivery','patio service','pedidos ya','link', 'yaigo', 'xpress']"
   ],
   "metadata": {
    "collapsed": false,
    "is_executing": true
   },
   "id": "566d8add266a1b18"
  },
  {
   "cell_type": "markdown",
   "source": [
    "### Analysis of location column\n",
    "location column was analyzed and filtered in order_type, to have these categories: para llevar, en sala-sin mesa, en sala-con mesa."
   ],
   "metadata": {
    "collapsed": false
   },
   "id": "cd639de814c18ea"
  },
  {
   "cell_type": "code",
   "execution_count": null,
   "outputs": [],
   "source": [
    "#To determine whether an order will be in situ or to take away, another column is created.\n",
    "resta_df['order_type']=pd.Series()"
   ],
   "metadata": {
    "collapsed": false,
    "is_executing": true
   },
   "id": "c24e9df2a57cd9e0"
  },
  {
   "cell_type": "code",
   "execution_count": null,
   "outputs": [],
   "source": [
    "resta_df['location'].unique()"
   ],
   "metadata": {
    "collapsed": false,
    "is_executing": true
   },
   "id": "496e2fbe772cc1ad"
  },
  {
   "cell_type": "code",
   "execution_count": null,
   "outputs": [],
   "source": [
    "resta_df.loc[(resta_df['location'].str.contains('para llevar')) & (resta_df['classification']!='delivery'), 'order_type']"
   ],
   "metadata": {
    "collapsed": false,
    "is_executing": true
   },
   "id": "ea9f0cb79d9207f"
  },
  {
   "cell_type": "code",
   "execution_count": null,
   "outputs": [],
   "source": [
    "#to take away filters\n",
    "resta_df.loc[(resta_df['location'].str.contains('para llevar')) & (resta_df['classification']!='delivery'), 'order_type']='para llevar'"
   ],
   "metadata": {
    "collapsed": false,
    "is_executing": true
   },
   "id": "13616501f7614cb7"
  },
  {
   "cell_type": "code",
   "execution_count": null,
   "outputs": [],
   "source": [
    "#'sin mesa' values \n",
    "resta_df.loc[(resta_df['location'].str.contains('sin mesa')) & (resta_df['classification']!='delivery'), 'order_type']='en sala-sin mesa'"
   ],
   "metadata": {
    "collapsed": false,
    "is_executing": true
   },
   "id": "78f4b9d37f8849f7"
  },
  {
   "cell_type": "code",
   "execution_count": null,
   "outputs": [],
   "source": [
    "# location and those values which correspond to orders to eat at the restaurant\n",
    "resta_df.loc[(resta_df['location'].str.contains('- mesa')) & (resta_df['classification']!='delivery'), 'order_type']='en sala-con mesa'"
   ],
   "metadata": {
    "collapsed": false,
    "is_executing": true
   },
   "id": "d8c0fe010a2c2c3"
  },
  {
   "cell_type": "code",
   "execution_count": null,
   "outputs": [],
   "source": [
    "resta_df['order_type'].unique()"
   ],
   "metadata": {
    "collapsed": false,
    "is_executing": true
   },
   "id": "f48ba9cadb1e2c23"
  },
  {
   "cell_type": "markdown",
   "source": [
    "#### Analysis by 'classification'\n",
    "Within classification column there is a 'delivery' option. Accordingly that order was a delivery."
   ],
   "metadata": {
    "collapsed": false
   },
   "id": "d7cb79c37df5c24a"
  },
  {
   "cell_type": "code",
   "execution_count": null,
   "outputs": [],
   "source": [
    "resta_df['classification'].value_counts()"
   ],
   "metadata": {
    "collapsed": false,
    "is_executing": true
   },
   "id": "79e38adf843a298d"
  },
  {
   "cell_type": "code",
   "execution_count": null,
   "outputs": [],
   "source": [
    "resta_df[['classification','product','location']][resta_df['classification'].str.contains('deliver')].head()"
   ],
   "metadata": {
    "collapsed": false,
    "is_executing": true
   },
   "id": "31b7fe8e11aa8fae"
  },
  {
   "cell_type": "code",
   "execution_count": null,
   "outputs": [],
   "source": [
    "# identify deliveries by classification column\n",
    "resta_df.loc[resta_df['classification']=='delivery', 'order_type'] = 'delivery'"
   ],
   "metadata": {
    "collapsed": false,
    "is_executing": true
   },
   "id": "1bd9334a954f435e"
  },
  {
   "cell_type": "code",
   "execution_count": null,
   "outputs": [],
   "source": [
    "#There are orders that were a delivery but werent classified as that. \n",
    "resta_df[resta_df['classification']=='delivery'].groupby(['order_type','product'])['product'].count()"
   ],
   "metadata": {
    "collapsed": false,
    "is_executing": true
   },
   "id": "da80b4ddc7d53b3d"
  },
  {
   "cell_type": "code",
   "execution_count": null,
   "outputs": [],
   "source": [
    "resta_df['order_type'].value_counts().plot(kind='bar')\n",
    "plt.title('Orders by order type')\n",
    "plt.xlabel('order type')\n",
    "plt.ylabel('# orders')"
   ],
   "metadata": {
    "collapsed": false,
    "is_executing": true
   },
   "id": "7a2b00ad6687ff55"
  },
  {
   "cell_type": "markdown",
   "source": [],
   "metadata": {
    "collapsed": false
   },
   "id": "f4abfb67650c29b4"
  },
  {
   "cell_type": "markdown",
   "source": [
    "#### Correct anomalies in columns related with 'order type' column"
   ],
   "metadata": {
    "collapsed": false
   },
   "id": "1d7d3b41522956e6"
  },
  {
   "cell_type": "code",
   "execution_count": null,
   "outputs": [],
   "source": [
    "resta_df['order_type'].value_counts()"
   ],
   "metadata": {
    "collapsed": false,
    "is_executing": true
   },
   "id": "a4cdbc0390d4ab7f"
  },
  {
   "cell_type": "code",
   "execution_count": null,
   "outputs": [],
   "source": [
    "resta_df['order_type'].unique()"
   ],
   "metadata": {
    "collapsed": false,
    "is_executing": true
   },
   "id": "91bb6388dafcb023"
  },
  {
   "cell_type": "code",
   "execution_count": null,
   "outputs": [],
   "source": [
    "resta_df[resta_df['order_type']=='delivery'].sample(20)"
   ],
   "metadata": {
    "collapsed": false,
    "is_executing": true
   },
   "id": "17de21b4fb1469b6"
  },
  {
   "cell_type": "markdown",
   "source": [
    "#### Fill delivery_name column "
   ],
   "metadata": {
    "collapsed": false
   },
   "id": "6756657ef1512f98"
  },
  {
   "cell_type": "code",
   "execution_count": null,
   "outputs": [],
   "source": [
    "resta_df[['classification','product','location']][resta_df['order_type']=='delivery'].sample(10)"
   ],
   "metadata": {
    "collapsed": false,
    "is_executing": true
   },
   "id": "1c40cf5dd593bdee"
  },
  {
   "cell_type": "code",
   "execution_count": null,
   "outputs": [],
   "source": [
    "#Mask\n",
    "mask = resta_df.loc[resta_df['order_type']=='delivery', 'product']"
   ],
   "metadata": {
    "collapsed": false,
    "is_executing": true
   },
   "id": "a70564c20b97a84f"
  },
  {
   "cell_type": "code",
   "execution_count": null,
   "outputs": [],
   "source": [
    "#Appling a filter \n",
    "filtered_products=[prod for prod in mask if prod in deliveries]"
   ],
   "metadata": {
    "collapsed": false,
    "is_executing": true
   },
   "id": "caaa9e363003f129"
  },
  {
   "cell_type": "code",
   "execution_count": null,
   "outputs": [],
   "source": [
    "resta_df['delivery_name']=resta_df['product'].apply(lambda x:x if x in filtered_products else None)"
   ],
   "metadata": {
    "collapsed": false,
    "is_executing": true
   },
   "id": "797b7556fe07c9ed"
  },
  {
   "cell_type": "code",
   "execution_count": null,
   "outputs": [],
   "source": [
    "resta_df['delivery_name'].unique()"
   ],
   "metadata": {
    "collapsed": false,
    "is_executing": true
   },
   "id": "dc5a5be21f303b24"
  },
  {
   "cell_type": "code",
   "execution_count": null,
   "outputs": [],
   "source": [
    "resta_df.groupby('delivery_name')['tot_order_payment'].sum().sort_values(ascending=False)"
   ],
   "metadata": {
    "collapsed": false,
    "is_executing": true
   },
   "id": "44b76a60bf191811"
  },
  {
   "cell_type": "code",
   "execution_count": null,
   "outputs": [],
   "source": [
    "resta_df.groupby('delivery_name')['tot_order_payment'].sum().sort_values(ascending=False).plot(kind='bar')\n",
    "plt.title('Most orders revenue by Delivery')\n",
    "plt.ylabel('$ Order payment')"
   ],
   "metadata": {
    "collapsed": false,
    "is_executing": true
   },
   "id": "4a5bc99ab6e836b9"
  },
  {
   "cell_type": "code",
   "execution_count": null,
   "outputs": [],
   "source": [
    "resta_df.sample(20)"
   ],
   "metadata": {
    "collapsed": false,
    "is_executing": true
   },
   "id": "704495e480f17664"
  },
  {
   "cell_type": "markdown",
   "source": [
    "#### Analyzing SIN USO value in classification column"
   ],
   "metadata": {
    "collapsed": false
   },
   "id": "156732a1b3816e7e"
  },
  {
   "cell_type": "code",
   "execution_count": null,
   "outputs": [],
   "source": [
    "'''\n",
    "SIN USO has orders that were delivered and in some cases it refers to a delivery, in others to products which are not longer in use. However for the purpose of this job its important to account those values.\n",
    "1. Understand which rows have SIN USO \n",
    "2. chek the context \n",
    "3. sin uso has products: deliveries, others.\n",
    "3.1. treat deliveries x\n",
    "3.2. treat other products  PENDING\n",
    "\n",
    "says SIN USO but in product state is ACTIVE so there seems to be mistaken fullfilment. \n",
    "'''\n"
   ],
   "metadata": {
    "collapsed": false,
    "is_executing": true
   },
   "id": "f97d91fdb87dc71c"
  },
  {
   "cell_type": "markdown",
   "source": [
    "##### Deliveries"
   ],
   "metadata": {
    "collapsed": false
   },
   "id": "d03266ab6fa22b7e"
  },
  {
   "cell_type": "code",
   "execution_count": null,
   "outputs": [],
   "source": [
    "resta_df[resta_df['classification'].str.contains('sin')].sample(20)"
   ],
   "metadata": {
    "collapsed": false,
    "is_executing": true
   },
   "id": "b7ba0aa7b53d6990"
  },
  {
   "cell_type": "code",
   "execution_count": null,
   "outputs": [],
   "source": [
    "resta_df['product'][resta_df['classification'].str.contains('sin')].unique()"
   ],
   "metadata": {
    "collapsed": false,
    "is_executing": true
   },
   "id": "c8f3a46244d5543e"
  },
  {
   "cell_type": "code",
   "execution_count": null,
   "outputs": [],
   "source": [
    "#if some orders were delivery that has to be reflected in order_type section\n",
    "resta_df[['product','price','quantity','location','delivery_name','order_type']][(resta_df['classification'].str.contains('sin')) & (resta_df['product'].isin(deliveries))].sample(20)\n"
   ],
   "metadata": {
    "collapsed": false,
    "is_executing": true
   },
   "id": "32e693b25b05eaf9"
  },
  {
   "cell_type": "markdown",
   "source": [
    "correct order_type to delivery"
   ],
   "metadata": {
    "collapsed": false
   },
   "id": "a49d31427d2796f8"
  },
  {
   "cell_type": "code",
   "execution_count": null,
   "outputs": [],
   "source": [
    "#correct order_type to delivery\n",
    "resta_df.loc[(resta_df['classification'].str.contains('sin')) & (resta_df['product'].isin(deliveries)),'order_type'] = 'delivery'"
   ],
   "metadata": {
    "collapsed": false,
    "is_executing": true
   },
   "id": "c3b3ab356c55678d"
  },
  {
   "cell_type": "markdown",
   "source": [
    "sin uso, has as products deliveries which are active, that could be seen in prod_state. So these should be changed to classification=delivery."
   ],
   "metadata": {
    "collapsed": false
   },
   "id": "8a1d7ee8dd5452e5"
  },
  {
   "cell_type": "code",
   "execution_count": null,
   "outputs": [],
   "source": [
    "resta_df.loc[(resta_df['classification'].str.contains('sin')) & (resta_df['order_type']=='delivery'), 'classification'] = 'delivery'"
   ],
   "metadata": {
    "collapsed": false,
    "is_executing": true
   },
   "id": "b8d12a5e11f1de5"
  },
  {
   "cell_type": "markdown",
   "source": [],
   "metadata": {
    "collapsed": false
   },
   "id": "73c9fddd756c995c"
  },
  {
   "cell_type": "markdown",
   "source": [
    "#### Deliveries vs para llevar, separation"
   ],
   "metadata": {
    "collapsed": false
   },
   "id": "ee3917425ea3f5c7"
  },
  {
   "cell_type": "code",
   "execution_count": null,
   "outputs": [],
   "source": [
    "resta_df.sample(20)"
   ],
   "metadata": {
    "collapsed": false,
    "is_executing": true
   },
   "id": "9336a5531a4522fd"
  },
  {
   "cell_type": "code",
   "execution_count": null,
   "outputs": [],
   "source": [
    "#resta_df[['order_id','product','price','quantity','to_pay_xprod','tot_order_payment','customer_pay']][resta_df['order_id']==585874]\n",
    "#resta_df[['order_id','product','price','quantity','to_pay_xprod','tot_order_payment','customer_pay','delivery_cost']][resta_df['order_id']==585812]\n",
    "#resta_df[['order_id','location','product','delivery_name','price','quantity','to_pay_xprod','tot_order_payment','customer_pay']][resta_df['order_id']==529814]\n",
    "resta_df[['order_id','location','product','order_type','delivery_name','price','quantity','to_pay_xprod','tot_order_payment','customer_pay','delivery_cost']][resta_df['order_id']==529814]"
   ],
   "metadata": {
    "collapsed": false,
    "is_executing": true
   },
   "id": "4307692769a3d987"
  },
  {
   "cell_type": "markdown",
   "source": [
    "Filter only deliveries"
   ],
   "metadata": {
    "collapsed": false
   },
   "id": "7fd1dc3dd8e1d7cf"
  },
  {
   "cell_type": "markdown",
   "source": [
    "##### Identify deliveries with values in 1"
   ],
   "metadata": {
    "collapsed": false
   },
   "id": "6ddd361fcb83bbbb"
  },
  {
   "cell_type": "code",
   "execution_count": null,
   "outputs": [],
   "source": [
    "#only deliveries with price 1\n",
    "\n",
    "resta_df.loc[(resta_df['order_type']=='delivery')&(resta_df['price']==1),'to_pay_xprod'].describe()\n"
   ],
   "metadata": {
    "collapsed": false,
    "is_executing": true
   },
   "id": "3ed19ee0f3302b31"
  },
  {
   "cell_type": "code",
   "execution_count": null,
   "outputs": [],
   "source": [
    "resta_df.loc[(resta_df['order_type']=='delivery')&(resta_df['price']==1)&(resta_df['to_pay_xprod']==1),:].head(20)"
   ],
   "metadata": {
    "collapsed": false,
    "is_executing": true
   },
   "id": "eafb2dba00379a3b"
  },
  {
   "cell_type": "code",
   "execution_count": null,
   "outputs": [],
   "source": [
    "mistakenonly_1s=resta_df.loc[(resta_df['order_type']=='delivery')&(resta_df['price']==1)&(resta_df['to_pay_xprod']==1)&(resta_df['tot_order_payment']==1),:].index\n",
    "mistakenonly_1s"
   ],
   "metadata": {
    "collapsed": false,
    "is_executing": true
   },
   "id": "9e469b0897008ef2"
  },
  {
   "cell_type": "markdown",
   "source": [
    "Thia order doesnt have any other products associatied to it, and its elements are not coherent with a real sale. This should be deleted."
   ],
   "metadata": {
    "collapsed": false
   },
   "id": "47b9b946737d4c4d"
  },
  {
   "cell_type": "code",
   "execution_count": null,
   "outputs": [],
   "source": [
    "resta_df.loc[mistakenonly_1s]"
   ],
   "metadata": {
    "collapsed": false,
    "is_executing": true
   },
   "id": "d408d56ae9ffb168"
  },
  {
   "cell_type": "code",
   "execution_count": null,
   "outputs": [],
   "source": [
    "#Deleting wrong value\n",
    "resta_df.drop(mistakenonly_1s, axis=0, inplace=True)"
   ],
   "metadata": {
    "collapsed": false,
    "is_executing": true
   },
   "id": "814911620fc374c0"
  },
  {
   "cell_type": "code",
   "execution_count": null,
   "outputs": [],
   "source": [
    "resta_df=resta_df.reset_index(drop=True)"
   ],
   "metadata": {
    "collapsed": false,
    "is_executing": true
   },
   "id": "13296e8af4777978"
  },
  {
   "cell_type": "markdown",
   "source": [
    "##### Identity False deliveries\n",
    "When price is different than 1 and quantity too, then that cant be considered a delivery, probably thoe are products that were mistankenly loaded.\n",
    "There were 143 possible values registered as delivery which were products.\n",
    "\n",
    "--- classification will be modified\n",
    "--- product will be changed \n",
    "\n",
    "--- order type could be used location to determine this.\n",
    "--- delivery modified\n",
    " "
   ],
   "metadata": {
    "collapsed": false
   },
   "id": "ff4fef113cbf042d"
  },
  {
   "cell_type": "code",
   "execution_count": null,
   "outputs": [],
   "source": [
    "resta_df[(resta_df['order_type']=='delivery')&(resta_df['price']!=1)&(resta_df['quantity']!=1)].head(50)\n"
   ],
   "metadata": {
    "collapsed": false,
    "is_executing": true
   },
   "id": "fabd630f6e442fc1"
  },
  {
   "cell_type": "markdown",
   "source": [
    "Modification of classification and product column values. \n",
    "\n",
    "There are products which seems to have been misktakenly classified as delivery placing a value in price and a value greater than one in quantity, these reflects a product sold and not a delivery but registered only as a delivery.    "
   ],
   "metadata": {
    "collapsed": false
   },
   "id": "8fa2dfa18153e0d"
  },
  {
   "cell_type": "code",
   "execution_count": null,
   "outputs": [],
   "source": [
    "resta_df.loc[(resta_df['order_type']=='delivery')&(resta_df['price']!=1)&(resta_df['quantity']!=1),'classification']='desconocida'\n",
    "resta_df.loc[(resta_df['order_type']=='delivery')&(resta_df['price']!=1)&(resta_df['quantity']!=1),'product']='desconocido'"
   ],
   "metadata": {
    "collapsed": false,
    "is_executing": true
   },
   "id": "d7ff2ddf5217df60"
  },
  {
   "cell_type": "code",
   "execution_count": null,
   "outputs": [],
   "source": [
    "#to take away filters\n",
    "resta_df.loc[(resta_df['order_type']=='delivery')&(resta_df['price']!=1)&(resta_df['quantity']!=1)&(resta_df['location'].str.contains('para llevar')), 'order_type'] = 'para llevar'\n",
    "#'sin mesa' values \n",
    "resta_df.loc[(resta_df['order_type']=='delivery')&(resta_df['price']!=1)&(resta_df['quantity']!=1)&(resta_df['location'].str.contains('sin mesa')), 'order_type'] = 'en sala-sin mesa'\n",
    "# location and those values which correspond to orders to eat at the restaurant\n",
    "resta_df.loc[(resta_df['order_type']=='delivery')&(resta_df['price']!=1)&(resta_df['quantity']!=1)&(resta_df['location'].str.contains('- mesa')), 'order_type'] = 'en sala-con mesa'"
   ],
   "metadata": {
    "collapsed": false,
    "is_executing": true
   },
   "id": "4bb69712de772cc1"
  },
  {
   "cell_type": "code",
   "execution_count": null,
   "outputs": [],
   "source": [
    "#Since this filter refers to products which are mistakenly written, there is no delivery name.\n",
    "\n",
    "resta_df.loc[(resta_df['classification']=='desconocida')&(resta_df['price']!=1)&(resta_df['quantity']!=1), 'delivery_name'] = None"
   ],
   "metadata": {
    "collapsed": false,
    "is_executing": true
   },
   "id": "4c328d5c5ca7e643"
  },
  {
   "cell_type": "code",
   "execution_count": null,
   "outputs": [],
   "source": [
    "resta_df[(resta_df['classification']=='desconocida')&(resta_df['price']!=1)&(resta_df['quantity']!=1)].head(20)"
   ],
   "metadata": {
    "collapsed": false,
    "is_executing": true
   },
   "id": "a88d2969a06c65a4"
  },
  {
   "cell_type": "code",
   "execution_count": null,
   "outputs": [],
   "source": [
    "resta_df[(resta_df['classification']=='desconocida')&(resta_df['price']!=1)&(resta_df['quantity']!=1)&(resta_df['order_type']=='delivery')].head(20)"
   ],
   "metadata": {
    "collapsed": false,
    "is_executing": true
   },
   "id": "24106e68d77f02f"
  },
  {
   "cell_type": "code",
   "execution_count": null,
   "outputs": [],
   "source": [],
   "metadata": {
    "collapsed": false,
    "is_executing": true
   },
   "id": "f1da6daef939af75"
  },
  {
   "cell_type": "code",
   "execution_count": null,
   "outputs": [],
   "source": [],
   "metadata": {
    "collapsed": false,
    "is_executing": true
   },
   "id": "da10f0e3e4430db"
  },
  {
   "cell_type": "code",
   "execution_count": null,
   "outputs": [],
   "source": [],
   "metadata": {
    "collapsed": false,
    "is_executing": true
   },
   "id": "1334260cb3dad0d4"
  },
  {
   "cell_type": "code",
   "execution_count": null,
   "outputs": [],
   "source": [],
   "metadata": {
    "collapsed": false,
    "is_executing": true
   },
   "id": "7cff4dde0d39ba18"
  },
  {
   "cell_type": "code",
   "execution_count": null,
   "outputs": [],
   "source": [],
   "metadata": {
    "collapsed": false,
    "is_executing": true
   },
   "id": "dbee370ec884bcc0"
  },
  {
   "cell_type": "markdown",
   "source": [
    "##### Analysis of category SIN USO of classification column \n",
    "---place the same name of product in classifcation instead of SIN USO. later on it is neccessary to organize this. "
   ],
   "metadata": {
    "collapsed": false
   },
   "id": "8a41124c499155ec"
  },
  {
   "cell_type": "code",
   "execution_count": null,
   "outputs": [],
   "source": [
    "resta_df['product'][(resta_df['classification'].str.contains('sin')) & (resta_df['order_type']!='delivery')].value_counts()"
   ],
   "metadata": {
    "collapsed": false,
    "is_executing": true
   },
   "id": "fe1b6bb7fecb6eaa"
  },
  {
   "cell_type": "code",
   "execution_count": null,
   "outputs": [],
   "source": [
    "resta_df['product'][resta_df['classification'].str.contains('sin')]"
   ],
   "metadata": {
    "collapsed": false,
    "is_executing": true
   },
   "id": "932231ee4bafc00e"
  },
  {
   "cell_type": "code",
   "execution_count": null,
   "outputs": [],
   "source": [
    "resta_df[resta_df['group_classifier']=='menu'].groupby(['classification'])['quantity'].count()"
   ],
   "metadata": {
    "collapsed": false,
    "is_executing": true
   },
   "id": "a14209ddcf8e0ed6"
  },
  {
   "cell_type": "code",
   "execution_count": null,
   "outputs": [],
   "source": [
    "# place the same name of product in classifcation instead of SIN USO. \n",
    "resta_df.loc[resta_df['classification'].str.contains('sin'),'classification'] = resta_df['product'][resta_df['classification'].str.contains('sin')]"
   ],
   "metadata": {
    "collapsed": false,
    "is_executing": true
   },
   "id": "d3a1a70d8614009f"
  },
  {
   "cell_type": "markdown",
   "source": [
    "#### product column requires modifications "
   ],
   "metadata": {
    "collapsed": false
   },
   "id": "d9a01e2e423bc143"
  },
  {
   "cell_type": "code",
   "execution_count": null,
   "outputs": [],
   "source": [
    "resta_df[resta_df['order_type']=='delivery'].sample(20)"
   ],
   "metadata": {
    "collapsed": false,
    "is_executing": true
   },
   "id": "12dfcb69ecf7825a"
  },
  {
   "cell_type": "code",
   "execution_count": null,
   "outputs": [],
   "source": [
    "#products which were deliveries have to be changed by 'delivery' since a delivery is not a product sold.\n",
    "\n",
    "resta_df.loc[(resta_df['order_type']=='delivery')&(resta_df['product'].isin(deliveries)),'product'] = 'delivery'"
   ],
   "metadata": {
    "collapsed": false,
    "is_executing": true
   },
   "id": "9027dd82c43d9e71"
  },
  {
   "cell_type": "markdown",
   "source": [
    "delivery name is not properly placed in product, this will be replaced by delivery."
   ],
   "metadata": {
    "collapsed": false
   },
   "id": "72b253ec2031d747"
  },
  {
   "cell_type": "markdown",
   "source": [
    "#### anomalies in group classifier column (aceite-envases)\n",
    "There was seen that there are values which dont correspond to products but to inventory. These have to be treated."
   ],
   "metadata": {
    "collapsed": false
   },
   "id": "33a82455bf8507cc"
  },
  {
   "cell_type": "code",
   "execution_count": null,
   "outputs": [],
   "source": [
    "resta_df[resta_df['price']==1].groupby(['classification','order_type','product'])['to_pay_xprod'].sum()"
   ],
   "metadata": {
    "collapsed": false,
    "is_executing": true
   },
   "id": "ddb3da3b6eb3beba"
  },
  {
   "cell_type": "code",
   "execution_count": null,
   "outputs": [],
   "source": [
    "resta_df[resta_df['group_classifier']=='otros'].groupby(['product','price'])['to_pay_xprod'].sum()"
   ],
   "metadata": {
    "collapsed": false,
    "is_executing": true
   },
   "id": "431d2d183e92ad8b"
  },
  {
   "cell_type": "markdown",
   "source": [
    "For the purpose of this project products corresponding to inventary wont we taken into consideration. So those will be deleted. It is important to highlight that there were 440 rows of 'envases', and 37 of 'aceite', with payment done of 2950 for aceite, 15283.5 for envases."
   ],
   "metadata": {
    "collapsed": false
   },
   "id": "63e8fbbb5858a8e7"
  },
  {
   "cell_type": "code",
   "execution_count": null,
   "outputs": [],
   "source": [
    "resta_df['classification'][(resta_df['group_classifier']=='otros') & (resta_df['product'].isin(['aceite','envases']))].value_counts()"
   ],
   "metadata": {
    "collapsed": false,
    "is_executing": true
   },
   "id": "e299dec93207baac"
  },
  {
   "cell_type": "code",
   "execution_count": null,
   "outputs": [],
   "source": [
    "resta_df[(resta_df['group_classifier']=='otros') & (resta_df['product'].isin(['aceite','envases']))].groupby('classification')['tot_order_payment'].sum()"
   ],
   "metadata": {
    "collapsed": false,
    "is_executing": true
   },
   "id": "e3715cb540b529e7"
  },
  {
   "cell_type": "code",
   "execution_count": null,
   "outputs": [],
   "source": [
    "#Those values willbe dropped\n",
    "resta_df.loc[resta_df['product'].isin(['aceite','envases']),:].sample(5)"
   ],
   "metadata": {
    "collapsed": false,
    "is_executing": true
   },
   "id": "4a3f350c06555456"
  },
  {
   "cell_type": "code",
   "execution_count": null,
   "outputs": [],
   "source": [
    "mask_index=resta_df[resta_df['product'].isin(['aceite','envases'])].index"
   ],
   "metadata": {
    "collapsed": false,
    "is_executing": true
   },
   "id": "f89f4cfc1d501eb5"
  },
  {
   "cell_type": "code",
   "execution_count": null,
   "outputs": [],
   "source": [
    "#Drop determined rows and reset index \n",
    "resta_df=resta_df.drop(mask_index).reset_index(drop=True)"
   ],
   "metadata": {
    "collapsed": false,
    "is_executing": true
   },
   "id": "d7bf880b621bd9e7"
  },
  {
   "cell_type": "code",
   "execution_count": null,
   "outputs": [],
   "source": [
    "resta_df.shape"
   ],
   "metadata": {
    "collapsed": false,
    "is_executing": true
   },
   "id": "4a4226f62891228a"
  },
  {
   "cell_type": "markdown",
   "source": [
    "#### reviewing price\n",
    "analysis by product:\n",
    "--- analysis of deliveries \n",
    "--- analysis of finger\n",
    "--- analysis of pollo a la canasta"
   ],
   "metadata": {
    "collapsed": false
   },
   "id": "5da1eaae823b5c40"
  },
  {
   "cell_type": "code",
   "execution_count": null,
   "outputs": [],
   "source": [
    "resta_df[resta_df['price']==1].groupby('product')['to_pay_xprod'].sum()"
   ],
   "metadata": {
    "collapsed": false,
    "is_executing": true
   },
   "id": "67f3caabc995e8d0"
  },
  {
   "cell_type": "code",
   "execution_count": null,
   "outputs": [],
   "source": [
    "resta_df[resta_df['price']==1].sample(20)"
   ],
   "metadata": {
    "collapsed": false,
    "is_executing": true
   },
   "id": "5e154ce9c0c873e3"
  },
  {
   "cell_type": "markdown",
   "source": [
    "##### Deliveries dont contabilize as a product\n",
    "Each delivery has been registered with a determined order, so users have placed delivery as part of the order, placing price as 1, and quantity is the real price of that delivry. This will be placed in other column "
   ],
   "metadata": {
    "collapsed": false
   },
   "id": "b1f1a1b2e8fca7ca"
  },
  {
   "cell_type": "markdown",
   "source": [
    "When a delivery has price 1 and there is a quantity greater than 1, then quantity holds the real price. This should be fixed. "
   ],
   "metadata": {
    "collapsed": false
   },
   "id": "cfdab59cb46c5e49"
  },
  {
   "cell_type": "code",
   "execution_count": null,
   "outputs": [],
   "source": [
    "#Create a copy of price\n",
    "resta_df['price_alt'] = resta_df['price']\n"
   ],
   "metadata": {
    "collapsed": false,
    "is_executing": true
   },
   "id": "d8a61b20fe74cbac"
  },
  {
   "cell_type": "code",
   "execution_count": null,
   "outputs": [],
   "source": [
    "#Create a copy of quantity\n",
    "resta_df['quantity_alt'] = resta_df['quantity']"
   ],
   "metadata": {
    "collapsed": false,
    "is_executing": true
   },
   "id": "24e63e9d9fa68079"
  },
  {
   "cell_type": "code",
   "execution_count": null,
   "outputs": [],
   "source": [
    "#Create a copy of to_pay_xprod_alt\n",
    "resta_df['to_pay_xprod_alt'] = resta_df['to_pay_xprod']"
   ],
   "metadata": {
    "collapsed": false,
    "is_executing": true
   },
   "id": "521ee31f66582cbb"
  },
  {
   "cell_type": "code",
   "execution_count": null,
   "outputs": [],
   "source": [
    "resta_df.loc[(resta_df['order_type']=='delivery')&(resta_df['price_alt']!=1)&(resta_df['quantity_alt']==1), :].head(50)"
   ],
   "metadata": {
    "collapsed": false,
    "is_executing": true
   },
   "id": "ba5402badd6b743"
  },
  {
   "cell_type": "markdown",
   "source": [
    "a delivery is such, when: \n",
    "price is 1 and quantity is other value\n",
    "or when\n",
    "price is other value and quantity is 1"
   ],
   "metadata": {
    "collapsed": false
   },
   "id": "9a9395a63901c227"
  },
  {
   "cell_type": "markdown",
   "source": [
    "price =1, quantity ='n'"
   ],
   "metadata": {
    "collapsed": false
   },
   "id": "76a190e4d422d478"
  },
  {
   "cell_type": "code",
   "execution_count": null,
   "outputs": [],
   "source": [
    "#will be placed with 0 because it is not a product price but delivery \n",
    "resta_df.loc[(resta_df['order_type']=='delivery')&(resta_df['price_alt']==1)&(resta_df['quantity_alt']!=1), 'price'] = 0"
   ],
   "metadata": {
    "collapsed": false,
    "is_executing": true
   },
   "id": "65c99876108821e3"
  },
  {
   "cell_type": "code",
   "execution_count": null,
   "outputs": [],
   "source": [
    "#will be placed with 0 because it is not a product quantity but delivery \n",
    "resta_df.loc[(resta_df['order_type']=='delivery')&(resta_df['price_alt']==1)&(resta_df['quantity_alt']!=1), 'quantity'] = 0"
   ],
   "metadata": {
    "collapsed": false,
    "is_executing": true
   },
   "id": "fcd116eef2376d02"
  },
  {
   "cell_type": "code",
   "execution_count": null,
   "outputs": [],
   "source": [
    "#will be placed with 0 because it is not a product but delivery\n",
    "resta_df.loc[(resta_df['order_type']=='delivery')&(resta_df['price_alt']==1)&(resta_df['quantity_alt']!=1), 'to_pay_xprod'] = 0"
   ],
   "metadata": {
    "collapsed": false,
    "is_executing": true
   },
   "id": "737468d77f321a59"
  },
  {
   "cell_type": "markdown",
   "source": [
    "price = 'n', quantity = 1"
   ],
   "metadata": {
    "collapsed": false
   },
   "id": "1c728542f1176c8f"
  },
  {
   "cell_type": "code",
   "execution_count": null,
   "outputs": [],
   "source": [
    "#will be placed with 0 because it is not a product price but delivery \n",
    "resta_df.loc[(resta_df['order_type'] == 'delivery') & (resta_df['price_alt'] != 1) & (resta_df['quantity_alt'] == 1), 'price'] = 0\n",
    "#will be placed with 0 because it is not a product quantity but delivery \n",
    "resta_df.loc[(resta_df['order_type'] == 'delivery') & (resta_df['price_alt'] != 1) & (resta_df['quantity_alt'] == 1), 'quantity'] = 0\n",
    "#will be placed with 0 because it is not a product but delivery\n",
    "resta_df.loc[(resta_df['order_type'] == 'delivery') & (resta_df['price_alt'] != 1) & (resta_df['quantity_alt'] == 1), 'to_pay_xprod'] = 0"
   ],
   "metadata": {
    "collapsed": false,
    "is_executing": true
   },
   "id": "6bd43cb4f33fd3a1"
  },
  {
   "cell_type": "markdown",
   "source": [
    "price = 1, quantity = 1"
   ],
   "metadata": {
    "collapsed": false
   },
   "id": "55d16fed9a768754"
  },
  {
   "cell_type": "code",
   "execution_count": null,
   "outputs": [],
   "source": [
    "#will be placed with 0 because it is not a product price but delivery \n",
    "resta_df.loc[(resta_df['order_type'] == 'delivery') & (resta_df['price_alt'] == 1) & (resta_df['quantity_alt'] == 1), 'price'] = 0\n",
    "#will be placed with 0 because it is not a product quantity but delivery \n",
    "resta_df.loc[(resta_df['order_type'] == 'delivery') & (resta_df['price_alt'] == 1) & (resta_df['quantity_alt'] == 1), 'quantity'] = 0\n",
    "#will be placed with 0 because it is not a product but delivery\n",
    "resta_df.loc[(resta_df['order_type'] == 'delivery') & (resta_df['price_alt'] == 1) & (resta_df['quantity_alt'] == 1), 'to_pay_xprod'] = 0"
   ],
   "metadata": {
    "collapsed": false,
    "is_executing": true
   },
   "id": "d3f3c8364bf33f7b"
  },
  {
   "cell_type": "code",
   "execution_count": null,
   "outputs": [],
   "source": [
    " "
   ],
   "metadata": {
    "collapsed": false,
    "is_executing": true
   },
   "id": "e8c4c5de9c07b7c6"
  },
  {
   "cell_type": "code",
   "execution_count": null,
   "outputs": [],
   "source": [
    "resta_df[resta_df['order_type'] == 'delivery'].sample(20)"
   ],
   "metadata": {
    "collapsed": false,
    "is_executing": true
   },
   "id": "6c7dd93378e187a"
  },
  {
   "cell_type": "markdown",
   "source": [
    "##### Delivery cost"
   ],
   "metadata": {
    "collapsed": false
   },
   "id": "b23b73b9d1a5a78e"
  },
  {
   "cell_type": "code",
   "execution_count": null,
   "outputs": [],
   "source": [
    "#new column to contabilize delivery payment\n",
    "resta_df['delivery_cost']=pd.Series()"
   ],
   "metadata": {
    "collapsed": false,
    "is_executing": true
   },
   "id": "8278fd4ebb2cc4a9"
  },
  {
   "cell_type": "code",
   "execution_count": null,
   "outputs": [],
   "source": [
    "#fullfill new colum with to_pay_xprod_alt\n",
    "resta_df.loc[(resta_df['order_type']=='delivery')&(resta_df['price']==0), 'delivery_cost'] = resta_df['to_pay_xprod_alt']"
   ],
   "metadata": {
    "collapsed": false,
    "is_executing": true
   },
   "id": "3727c4c029b09d09"
  },
  {
   "cell_type": "code",
   "execution_count": null,
   "outputs": [],
   "source": [
    "#delivery cost when there is no delivery\n",
    "resta_df.loc[(resta_df['order_type']!='delivery'), 'delivery_cost'] = 0 "
   ],
   "metadata": {
    "collapsed": false,
    "is_executing": true
   },
   "id": "7d67fbe8f8d5d918"
  },
  {
   "cell_type": "code",
   "execution_count": null,
   "outputs": [],
   "source": [
    "resta_df.loc[(resta_df['order_type']!='delivery'), :].sample(20)"
   ],
   "metadata": {
    "collapsed": false,
    "is_executing": true
   },
   "id": "3dac9f4b746017bc"
  },
  {
   "cell_type": "markdown",
   "source": [
    "It was consider important to change tot_order_payment by tot_order_payment_with_delivery to clarify"
   ],
   "metadata": {
    "collapsed": false
   },
   "id": "26b17c739217af7c"
  },
  {
   "cell_type": "code",
   "execution_count": null,
   "outputs": [],
   "source": [
    "#create4 new columdn at the 11th position\n",
    "#resta_df.insert(11,'total_order_pay', pd.Series())\n"
   ],
   "metadata": {
    "collapsed": false,
    "is_executing": true
   },
   "id": "80683a2272854c88"
  },
  {
   "cell_type": "code",
   "execution_count": null,
   "outputs": [],
   "source": [
    "#create4 new columdn at the 12th position\n",
    "#resta_df.insert(12,'total_order_pay_with_deliv', pd.Series())"
   ],
   "metadata": {
    "collapsed": false,
    "is_executing": true
   },
   "id": "797c04d55d475dca"
  },
  {
   "cell_type": "code",
   "execution_count": null,
   "outputs": [],
   "source": [
    "#change column name \n",
    "#resta_df.rename(columns={'tot_order_payment_with_delivery':'tot_order_payment'}, inplace=True) "
   ],
   "metadata": {
    "collapsed": false,
    "is_executing": true
   },
   "id": "2bc895f1979ac8ff"
  },
  {
   "cell_type": "markdown",
   "source": [
    "### Organizing order_type - delivery\n",
    "\n",
    "there are products which were a delivery but dont have a delivery category in order type.\n",
    "\n",
    "Note. For each order there was only one delivery with one delivery cost, but that cost will be reflected in each product row.\n",
    "\n",
    "- filter all products which were deliveries \n",
    "- assign an order_type as delivery\n",
    "- assign a delivery_name as its corresponding delivery name\n",
    "\n",
    "- assign delivery_cost the cost of the delivery by each row \n",
    "\n",
    "- delete delivery row by each order, since deliveries will be already placed within products.\n"
   ],
   "metadata": {
    "collapsed": false
   },
   "id": "a230bc1ccfdf6ba8"
  },
  {
   "cell_type": "code",
   "execution_count": null,
   "outputs": [],
   "source": [
    "resta_df.sample(5)"
   ],
   "metadata": {
    "collapsed": false,
    "is_executing": true
   },
   "id": "4777f14b7be68c88"
  },
  {
   "cell_type": "code",
   "execution_count": null,
   "outputs": [],
   "source": [
    "#filter deliveries orders\n",
    "mask_delivery = resta_df['order_type']=='delivery'\n"
   ],
   "metadata": {
    "collapsed": false,
    "is_executing": true
   },
   "id": "6bd6237b97a18675"
  },
  {
   "cell_type": "code",
   "execution_count": null,
   "outputs": [],
   "source": [
    "mask_delivery_index=resta_df[mask_delivery].index"
   ],
   "metadata": {
    "collapsed": false,
    "is_executing": true
   },
   "id": "fc0fbae375a03848"
  },
  {
   "cell_type": "code",
   "execution_count": null,
   "outputs": [],
   "source": [
    "#Get the order id of deliveries\n",
    "deliveries_orderids=resta_df.loc[mask_delivery_index, 'order_id']"
   ],
   "metadata": {
    "collapsed": false,
    "is_executing": true
   },
   "id": "15208d2d7c08bb82"
  },
  {
   "cell_type": "code",
   "execution_count": null,
   "outputs": [],
   "source": [
    "#Data of deliveries by order_id\n",
    "resta_df.loc[resta_df['order_id'].isin(deliveries_orderids)].sort_values(by='order_id').head(20)"
   ],
   "metadata": {
    "collapsed": false,
    "is_executing": true
   },
   "id": "bc3c429ba2fff9e6"
  },
  {
   "cell_type": "code",
   "execution_count": null,
   "outputs": [],
   "source": [
    "# Change order_type to delivery when it correspond \n",
    "resta_df.loc[resta_df['order_id'].isin(deliveries_orderids),'order_type'] = 'delivery'"
   ],
   "metadata": {
    "collapsed": false,
    "is_executing": true
   },
   "id": "bbfa93860d2a86be"
  },
  {
   "cell_type": "code",
   "execution_count": null,
   "outputs": [],
   "source": [
    "cols_delivery_list=['order_id','system_date','product','price','quantity','delivery_cost','tot_order_payment','delivery_name','price_alt']\n",
    "resta_df.loc[resta_df['order_id'].isin(deliveries_orderids),cols_delivery_list].head(50)"
   ],
   "metadata": {
    "collapsed": false,
    "is_executing": true
   },
   "id": "2fc3be1f492a8b6a"
  },
  {
   "cell_type": "code",
   "execution_count": null,
   "outputs": [],
   "source": [
    "deliveries_delname = resta_df.loc[(resta_df['order_type']=='delivery')&(resta_df['product']=='delivery'),['order_id','delivery_name']]\n",
    "deliveries_delname.head()"
   ],
   "metadata": {
    "collapsed": false,
    "is_executing": true
   },
   "id": "550d1ca3697f9ab1"
  },
  {
   "cell_type": "code",
   "execution_count": null,
   "outputs": [],
   "source": [
    "# Aggregating duplicates by concatenating delivery names\n",
    "deliveries_delname_agg = resta_df[(resta_df['order_type']=='delivery')&(resta_df['product']=='delivery')].groupby('order_id')['delivery_name'].agg(lambda x:', '.join(x)).reset_index()"
   ],
   "metadata": {
    "collapsed": false,
    "is_executing": true
   },
   "id": "502d1fdcc24d9120"
  },
  {
   "cell_type": "markdown",
   "source": [
    "Creation of a new column which contains the correct delivery_names by product"
   ],
   "metadata": {
    "collapsed": false
   },
   "id": "66552bd80d991262"
  },
  {
   "cell_type": "code",
   "execution_count": null,
   "outputs": [],
   "source": [
    "merged_df = pd.merge(resta_df.loc[(resta_df['order_type']=='delivery')], deliveries_delname_agg, on='order_id', how='left', suffixes=('','_new'))"
   ],
   "metadata": {
    "collapsed": false,
    "is_executing": true
   },
   "id": "470252b6bad993b2"
  },
  {
   "cell_type": "code",
   "execution_count": null,
   "outputs": [],
   "source": [
    "merged_df.sort_values(by='order_id').tail(500)"
   ],
   "metadata": {
    "collapsed": false,
    "is_executing": true
   },
   "id": "eb178071f3c074a3"
  },
  {
   "cell_type": "markdown",
   "source": [
    "#### Fixing delivery_cost"
   ],
   "metadata": {
    "collapsed": false
   },
   "id": "707ba77930c8a3ad"
  },
  {
   "cell_type": "code",
   "execution_count": null,
   "outputs": [],
   "source": [
    "deliveries_delcost_agg = resta_df[(resta_df['order_type']=='delivery')&(resta_df['product']=='delivery')].groupby('order_id')['delivery_cost'].max().reset_index()"
   ],
   "metadata": {
    "collapsed": false,
    "is_executing": true
   },
   "id": "5d13471135cbc300"
  },
  {
   "cell_type": "code",
   "execution_count": null,
   "outputs": [],
   "source": [
    "deliveries_delcost_agg.tail(50)"
   ],
   "metadata": {
    "collapsed": false,
    "is_executing": true
   },
   "id": "a21a223dbdf8a4a5"
  },
  {
   "cell_type": "code",
   "execution_count": null,
   "outputs": [],
   "source": [
    "merged_df_cost = pd.merge(resta_df.loc[(resta_df['order_type']=='delivery')], deliveries_delcost_agg, on='order_id', how='left', suffixes=('','_new'))"
   ],
   "metadata": {
    "collapsed": false,
    "is_executing": true
   },
   "id": "74f984c918be677d"
  },
  {
   "cell_type": "code",
   "execution_count": null,
   "outputs": [],
   "source": [
    "merged_df_cost.head(50)"
   ],
   "metadata": {
    "collapsed": false,
    "is_executing": true
   },
   "id": "b21c5a558bb32184"
  },
  {
   "cell_type": "markdown",
   "source": [
    "#### Changing name and cost of deliveries"
   ],
   "metadata": {
    "collapsed": false
   },
   "id": "595fb66a65e6de52"
  },
  {
   "cell_type": "code",
   "execution_count": null,
   "outputs": [],
   "source": [
    "#Change values\n",
    "#resta_df['delivery_name']=merged_df['delivery_name_new']\n",
    "#resta_df['delivery_cost']=merged_df_cost['delivery_cost_new']"
   ],
   "metadata": {
    "collapsed": false,
    "is_executing": true
   },
   "id": "3b3828d9cf500083"
  },
  {
   "cell_type": "code",
   "execution_count": null,
   "outputs": [],
   "source": [
    "resta_df.loc[(resta_df['order_type']=='delivery'),cols_delivery_list].head(500)"
   ],
   "metadata": {
    "collapsed": false,
    "is_executing": true
   },
   "id": "99cbf42ed0871e10"
  },
  {
   "cell_type": "code",
   "execution_count": null,
   "outputs": [],
   "source": [],
   "metadata": {
    "collapsed": false,
    "is_executing": true
   },
   "id": "1b455fc353c8744c"
  },
  {
   "cell_type": "code",
   "execution_count": null,
   "outputs": [],
   "source": [],
   "metadata": {
    "collapsed": false,
    "is_executing": true
   },
   "id": "37536b49cb401d6c"
  },
  {
   "cell_type": "markdown",
   "source": [
    "ITS NECESSARY TO IDENTIFY CLEARLY WHICH PRODUCTS ARE DELIVERIES AND WHICH ARE TO TAKE AWAY. ************************ N OFBORRAR"
   ],
   "metadata": {
    "collapsed": false
   },
   "id": "81871f5da0b5c953"
  },
  {
   "cell_type": "code",
   "execution_count": null,
   "outputs": [],
   "source": [
    "#Filter only delivery orders\n",
    "#(price x quantity)+... allproducts+ delivery \n",
    "\n",
    "resta_df[(resta_df['location'].str.contains('para llevar')) | (resta_df['order_type']=='delivery')].sort_values(by='order_id')\n",
    "#resta_df[resta_df['order_type']=='delivery'].sort_values(by='order_id')\n"
   ],
   "metadata": {
    "collapsed": false,
    "is_executing": true
   },
   "id": "9b66fb4c148677ca"
  },
  {
   "cell_type": "code",
   "execution_count": null,
   "outputs": [],
   "source": [
    "deliveries_index = resta_df[resta_df['order_type']=='delivery'].index"
   ],
   "metadata": {
    "collapsed": false,
    "is_executing": true
   },
   "id": "beae00fda54edd9"
  },
  {
   "cell_type": "code",
   "execution_count": null,
   "outputs": [],
   "source": [
    "deliveries_order_id=resta_df.loc[deliveries_index, 'order_id']"
   ],
   "metadata": {
    "collapsed": false,
    "is_executing": true
   },
   "id": "2f62ab8df352cdd"
  },
  {
   "cell_type": "code",
   "execution_count": null,
   "outputs": [],
   "source": [
    "resta_df[resta_df['order_id'].isin(deliveries_order_id)].sort_values(by='order_id')"
   ],
   "metadata": {
    "collapsed": false,
    "is_executing": true
   },
   "id": "f7c26da99ce17811"
  },
  {
   "cell_type": "markdown",
   "source": [
    "### Dividing dates and time "
   ],
   "metadata": {
    "collapsed": false
   },
   "id": "68d3b2eabe3477b5"
  },
  {
   "cell_type": "code",
   "execution_count": null,
   "outputs": [],
   "source": [
    "resta_df.h   ead()"
   ],
   "metadata": {
    "collapsed": false,
    "is_executing": true
   },
   "id": "b30e7fd38a5c2794"
  },
  {
   "cell_type": "code",
   "execution_count": null,
   "outputs": [],
   "source": [
    "resta_df=resta_df.assign(\n",
    "        year=lambda x:x['system_date'].dt.year,\n",
    "        month=lambda x:x['system_date'].dt.month,\n",
    "        day=lambda x:x['system_date'].dt.day,\n",
    "        hour=lambda x:x['time'].dt.hour,\n",
    "        month_name=lambda x:x['system_date'].dt.month_name(),\n",
    "        day_name=lambda x:x['system_date'].dt.day_name()\n",
    ")\n",
    "resta_df.tail()"
   ],
   "metadata": {
    "collapsed": false,
    "is_executing": true
   },
   "id": "e268cba29b99b999"
  },
  {
   "cell_type": "code",
   "execution_count": null,
   "outputs": [],
   "source": [
    "resta_df['hour'].value_counts().plot(kind='bar')"
   ],
   "metadata": {
    "collapsed": false,
    "is_executing": true
   },
   "id": "6ebbb0e0e88a4166"
  },
  {
   "cell_type": "code",
   "execution_count": null,
   "outputs": [],
   "source": [
    "#categorizing time of sale\n",
    "def time_cat(hour):\n",
    "    if 6 <= hour < 12:\n",
    "        return 'morning'\n",
    "    elif 12 <= hour < 18:\n",
    "        return 'afternoon'\n",
    "    elif 18 <= hour < 24:\n",
    "        return 'evening'\n",
    "    else:\n",
    "        return 'night'\n"
   ],
   "metadata": {
    "collapsed": false,
    "is_executing": true
   },
   "id": "e20b62902e39b30b"
  },
  {
   "cell_type": "code",
   "execution_count": null,
   "outputs": [],
   "source": [
    "resta_df['time_category'] = resta_df['hour'].apply(time_cat)"
   ],
   "metadata": {
    "collapsed": false,
    "is_executing": true
   },
   "id": "6d5238ea65fc4928"
  },
  {
   "cell_type": "code",
   "execution_count": null,
   "outputs": [],
   "source": [
    "# Getting month year from the data\n",
    "resta_df['month_year'] = resta_df['system_date'].apply(lambda x:x.strftime('%Y-%m'))"
   ],
   "metadata": {
    "collapsed": false,
    "is_executing": true
   },
   "id": "5eae74edb5b7cb35"
  },
  {
   "cell_type": "code",
   "execution_count": null,
   "outputs": [],
   "source": [
    "df_trend = resta_df.groupby('month_year')['tot_order_payment'].sum().reset_index()\n",
    "mean_payment = df_trend['tot_order_payment'].mean()\n",
    "\n",
    "plt.figure(figsize = (15,6))    #setting fig size to fit in all values\n",
    "plt.plot(df_trend['month_year'],df_trend['tot_order_payment'])\n",
    "# Plot the mean line\n",
    "plt.axhline(mean_payment, color='red', linestyle='--', label='Mean Payment')\n",
    "\n",
    "plt.xticks(rotation = 'vertical',size = 8)             #vertical labels in x axis\n",
    "plt.legend()  # Show legend with the mean line\n",
    "plt.show()"
   ],
   "metadata": {
    "collapsed": false,
    "is_executing": true
   },
   "id": "7c84947c80bc626a"
  },
  {
   "cell_type": "code",
   "execution_count": null,
   "outputs": [],
   "source": [
    "#How many orders were made by year\n",
    "resta_df['year'].value_counts().plot(kind='bar')"
   ],
   "metadata": {
    "collapsed": false,
    "is_executing": true
   },
   "id": "f8aa0184cb04591d"
  },
  {
   "cell_type": "code",
   "execution_count": null,
   "outputs": [],
   "source": [
    "resta_df['month_name'].value_counts().plot(kind='bar')"
   ],
   "metadata": {
    "collapsed": false,
    "is_executing": true
   },
   "id": "4c867432de944e61"
  },
  {
   "cell_type": "code",
   "execution_count": null,
   "outputs": [],
   "source": [
    "#resta_df['day_name'].value_counts().plot(kind='bar')\n",
    "sns.countplot(data=resta_df, x='day_name', palette=\"viridis\")\n",
    "plt.xticks(rotation=90)\n",
    "plt.xlabel(\"Day\",fontsize=10,color=\"green\")\n",
    "plt.ylabel(\"Frequency\",fontsize=10,color=\"green\")\n",
    "plt.title(\"DATES\",color=\"green\")\n",
    "plt.show()"
   ],
   "metadata": {
    "collapsed": false,
    "is_executing": true
   },
   "id": "c76d950fdd912db7"
  },
  {
   "cell_type": "code",
   "execution_count": null,
   "outputs": [],
   "source": [
    "resta_df['time_category'].value_counts().plot(kind='bar')"
   ],
   "metadata": {
    "collapsed": false,
    "is_executing": true
   },
   "id": "9fa38a6b4409ed87"
  },
  {
   "cell_type": "code",
   "execution_count": null,
   "outputs": [],
   "source": [
    "resta_df.sample(5)"
   ],
   "metadata": {
    "collapsed": false,
    "is_executing": true
   },
   "id": "4a7b2287b6ce9162"
  },
  {
   "cell_type": "code",
   "execution_count": null,
   "outputs": [],
   "source": [
    "resta_df.loc[resta_df['group_classifier']=='menu','parent_product'].unique()"
   ],
   "metadata": {
    "collapsed": false,
    "is_executing": true
   },
   "id": "89ef5404e52af15a"
  },
  {
   "cell_type": "code",
   "execution_count": null,
   "outputs": [],
   "source": [
    "revenue_platos=resta_df.groupby(resta_df['product'][(resta_df['group_classifier']=='menu') & (resta_df['parent_product']=='platos')])['tot_order_payment'].sum().sort_values(ascending=False)"
   ],
   "metadata": {
    "collapsed": false,
    "is_executing": true
   },
   "id": "c06f3fc7086c737e"
  },
  {
   "cell_type": "code",
   "execution_count": null,
   "outputs": [],
   "source": [
    "revenue_combos=resta_df.groupby(resta_df['product'][(resta_df['group_classifier']=='menu') & (resta_df['parent_product']=='combos')])['tot_order_payment'].sum().sort_values(ascending=False)\n"
   ],
   "metadata": {
    "collapsed": false,
    "is_executing": true
   },
   "id": "b84bc6ff99dbbc32"
  },
  {
   "cell_type": "code",
   "execution_count": null,
   "outputs": [],
   "source": [
    "revenue_xkilo=resta_df.groupby(resta_df['product'][(resta_df['group_classifier']=='menu') & (resta_df['parent_product']=='por kilo')])['tot_order_payment'].sum().sort_values(ascending=False)"
   ],
   "metadata": {
    "collapsed": false,
    "is_executing": true
   },
   "id": "eb556ad0aa558e2"
  },
  {
   "cell_type": "code",
   "execution_count": null,
   "outputs": [],
   "source": [
    "revenue_promo=resta_df.groupby(resta_df['product'][(resta_df['group_classifier']=='menu') & (resta_df['parent_product']=='promocion 2 x 55')])['tot_order_payment'].sum().sort_values(ascending=False)"
   ],
   "metadata": {
    "collapsed": false,
    "is_executing": true
   },
   "id": "ee599000a0bc8b3e"
  },
  {
   "cell_type": "code",
   "execution_count": null,
   "outputs": [],
   "source": [
    "z=revenue_platos\n",
    "fig=px.bar(z,x=z.index,y=z.values,color=z.index,text=z.values,labels={'index':'platos_category','y':'total_price','text':'total_price'},template='ggplot2',title='<b>Total Money Earned From Platos Categories and Pie chart</b> ')\n",
    "fig.show()\n",
    "fig=px.pie(z,names=z.index,values=z.values,labels={'index':'platos_category','y':'total_price','text':'total_price'},template='ggplot2')\n",
    "fig.show()"
   ],
   "metadata": {
    "collapsed": false,
    "is_executing": true
   },
   "id": "d95c47c2b1554bc"
  },
  {
   "cell_type": "code",
   "execution_count": null,
   "outputs": [],
   "source": [
    "z=revenue_combos\n",
    "fig=px.bar(z,x=z.index,y=z.values,color=z.index,text=z.values,labels={'index':'combos_category','y':'total_price','text':'total_price'},template='ggplot2',title='<b>Total Money Earned From Combos Categories and Pie chart</b> ')\n",
    "fig.show()\n",
    "fig=px.pie(z,names=z.index,values=z.values,labels={'index':'combos_category','y':'total_price','text':'total_price'},template='ggplot2')\n",
    "fig.show()"
   ],
   "metadata": {
    "collapsed": false,
    "is_executing": true
   },
   "id": "c0fe0d2c56c9383b"
  },
  {
   "cell_type": "code",
   "execution_count": null,
   "outputs": [],
   "source": [
    "#Total earned by category of products \n",
    "z=revenue_xkilo\n",
    "fig=px.bar(z,x=z.index,y=z.values,color=z.index,text=z.values,labels={'index':'porKilo_category','y':'total_price','text':'total_price'},template='ggplot2',title='<b>Total Money Earned From xKilo Categories</b> ')\n",
    "fig.show()"
   ],
   "metadata": {
    "collapsed": false,
    "is_executing": true
   },
   "id": "67a33e3e1178387e"
  },
  {
   "cell_type": "code",
   "execution_count": null,
   "outputs": [],
   "source": [
    "z=revenue_promo\n",
    "fig=px.bar(z,x=z.index,y=z.values,color=z.index,text=z.values,labels={'index':'promo_category','y':'total_price','text':'total_price'},template='ggplot2',title='<b>Total Money Earned From Promo Categories and Pie chart</b> ')\n",
    "fig.show()\n",
    "fig=px.pie(z,names=z.index,values=z.values,labels={'index':'promo_category','y':'total_price','text':'total_price'},template='ggplot2')\n",
    "fig.show()\n"
   ],
   "metadata": {
    "collapsed": false,
    "is_executing": true
   },
   "id": "e6129889a064326b"
  },
  {
   "cell_type": "code",
   "execution_count": null,
   "outputs": [],
   "source": [
    "revenue_otros=resta_df[resta_df['group_classifier']=='otros'].groupby('product')['tot_order_payment'].sum().sort_values(ascending=False)"
   ],
   "metadata": {
    "collapsed": false,
    "is_executing": true
   },
   "id": "f1259e60f0a538f0"
  },
  {
   "cell_type": "code",
   "execution_count": null,
   "outputs": [],
   "source": [
    "z=revenue_otros\n",
    "fig=px.bar(z,x=z.index,y=z.values,color=z.index,text=z.values,labels={'index':'others_category','y':'total_price','text':'total_price'},template='ggplot2',title='<b>Total Money Earned From Otros  Categories and Pie chart</b> ')\n",
    "fig.show()\n",
    "fig=px.pie(z,names=z.index,values=z.values,labels={'index':'otros_category','y':'total_price','text':'total_price'},template='ggplot2')\n",
    "fig.show()"
   ],
   "metadata": {
    "collapsed": false,
    "is_executing": true
   },
   "id": "2c7311c39155e05"
  },
  {
   "cell_type": "code",
   "execution_count": null,
   "outputs": [],
   "source": [
    "revenue_bebidas_gral=resta_df[resta_df['group_classifier']=='bebidas'].groupby('parent_product')['tot_order_payment'].sum().sort_values(ascending=False)"
   ],
   "metadata": {
    "collapsed": false,
    "is_executing": true
   },
   "id": "cda061d1c48cdf5e"
  },
  {
   "cell_type": "code",
   "execution_count": null,
   "outputs": [],
   "source": [
    "z=revenue_bebidas_gral\n",
    "fig=px.bar(z,x=z.index,y=z.values,color=z.index,text=z.values,labels={'index':'bebidas gral_category','y':'total_price','text':'total_price'},template='ggplot2',title='<b>Total Money Earned From Bebidas Gral Categories and Pie chart</b> ')\n",
    "fig.show()\n",
    "fig=px.pie(z,names=z.index,values=z.values,labels={'index':'bebidas gral_category','y':'total_price','text':'total_price'},template='ggplot2')\n",
    "fig.show()"
   ],
   "metadata": {
    "collapsed": false,
    "is_executing": true
   },
   "id": "fd0e925a6d1528c6"
  },
  {
   "cell_type": "code",
   "execution_count": null,
   "outputs": [],
   "source": [
    "revenue_bebidas=resta_df[resta_df['group_classifier']=='bebidas'].groupby('product')['tot_order_payment'].sum().sort_values(ascending=False)"
   ],
   "metadata": {
    "collapsed": false,
    "is_executing": true
   },
   "id": "5d841db9ae06ebe3"
  },
  {
   "cell_type": "code",
   "execution_count": null,
   "outputs": [],
   "source": [
    "z=revenue_bebidas\n",
    "fig=px.bar(z,x=z.index,y=z.values,color=z.index,text=z.values,labels={'index':'bebidas_category','y':'total_price','text':'total_price'},template='ggplot2',title='<b>Total Money Earned From Bebidas Categories and Pie chart</b> ')\n",
    "fig.show()\n",
    "fig=px.pie(z,names=z.index,values=z.values,labels={'index':'bebidas_category','y':'total_price','text':'total_price'},template='ggplot2')\n",
    "fig.show()"
   ],
   "metadata": {
    "collapsed": false,
    "is_executing": true
   },
   "id": "4a6aa34cdbf486bd"
  },
  {
   "cell_type": "code",
   "execution_count": null,
   "outputs": [],
   "source": [
    "with sns.axes_style('white'):\n",
    "    g = sns.catplot(x=\"month_name\", data=resta_df, aspect=4.0, kind='count',hue='day_name',palette=\"pastel\")\n",
    "g.set_ylabels('Frequency')\n",
    "g.set_xlabels(\"Months\")\n",
    "plt.show()"
   ],
   "metadata": {
    "collapsed": false,
    "is_executing": true
   },
   "id": "66d7543ab8d18902"
  },
  {
   "cell_type": "code",
   "execution_count": null,
   "outputs": [],
   "source": [
    "fig = px.strip(resta_df, x='day_name', y='hour', color='day_name')\n",
    "fig.show()"
   ],
   "metadata": {
    "collapsed": false,
    "is_executing": true
   },
   "id": "466b175920ecd038"
  },
  {
   "cell_type": "code",
   "execution_count": null,
   "outputs": [],
   "source": [
    "resta_df.groupby(['group_classifier','parent_product'])['product'].count()"
   ],
   "metadata": {
    "collapsed": false,
    "is_executing": true
   },
   "id": "345208a40acf7f8e"
  },
  {
   "cell_type": "code",
   "execution_count": null,
   "outputs": [],
   "source": [
    "resta_df.head()"
   ],
   "metadata": {
    "collapsed": false,
    "is_executing": true
   },
   "id": "d05c7aff43fc0190"
  },
  {
   "cell_type": "code",
   "execution_count": null,
   "outputs": [],
   "source": [
    "resta_df.groupby(['order_id','product','quantity','to_pay_xprod'])['tot_order_payment'].sum()"
   ],
   "metadata": {
    "collapsed": false,
    "is_executing": true
   },
   "id": "7763f0d6b0e119b4"
  },
  {
   "cell_type": "code",
   "execution_count": null,
   "outputs": [],
   "source": [
    "resta_df[resta_df['delivery']==1].groupby(['month_name','day'])['product'].count().sort_values(ascending=False)"
   ],
   "metadata": {
    "collapsed": false,
    "is_executing": true
   },
   "id": "b1104a78634d37b5"
  },
  {
   "cell_type": "code",
   "execution_count": null,
   "outputs": [],
   "source": [
    "#DELIVERY AND IN SITU   \n",
    "#resta_df.loc[resta_df['delivery']==1,'products']\n",
    "resta_df[resta_df['delivery']==1].groupby('product')['tot_order_payment'].sum().sort_values(ascending=False)"
   ],
   "metadata": {
    "collapsed": false,
    "is_executing": true
   },
   "id": "e025be92bd2888bb"
  },
  {
   "cell_type": "code",
   "execution_count": null,
   "outputs": [],
   "source": [],
   "metadata": {
    "collapsed": false,
    "is_executing": true
   },
   "id": "3365760385b5e263"
  },
  {
   "cell_type": "code",
   "execution_count": null,
   "outputs": [],
   "source": [
    "resta_df.sample(5)"
   ],
   "metadata": {
    "collapsed": false,
    "is_executing": true
   },
   "id": "9d41eb7f8c3834c5"
  },
  {
   "cell_type": "code",
   "execution_count": null,
   "outputs": [],
   "source": [
    "resta_df.groupby('year')['order_id'].count()"
   ],
   "metadata": {
    "collapsed": false,
    "is_executing": true
   },
   "id": "265313bdfc9f6f8d"
  },
  {
   "cell_type": "markdown",
   "source": [
    "### Other delivery values from 'waiter_name' column."
   ],
   "metadata": {
    "collapsed": false
   },
   "id": "fdfb87b8e8252024"
  },
  {
   "cell_type": "code",
   "execution_count": null,
   "outputs": [],
   "source": [
    "resta_df['delivery'].unique()"
   ],
   "metadata": {
    "collapsed": false,
    "is_executing": true
   },
   "id": "d35d8f469a915493"
  },
  {
   "cell_type": "code",
   "execution_count": null,
   "outputs": [],
   "source": [
    "'''In waiter_name column there are values belonging to a delivery, which are: 'MR DELIVER', 'YAIGO', 'PEDIDOS YA', 'PATIO S'.'''\n",
    "resta_df['waiter_name'].value_counts()"
   ],
   "metadata": {
    "collapsed": false,
    "is_executing": true
   },
   "id": "e96201f6607f2d50"
  },
  {
   "cell_type": "code",
   "execution_count": null,
   "outputs": [],
   "source": [
    "#Determine how many values of 'MR DELIVER', 'YAIGO', 'PEDIDOS YA', 'PATIO S' are.\n",
    "selected_waiters = ['MR DELIVER', 'YAIGO', 'PEDIDOS YA', 'PATIO S']\n",
    "resta_df['waiter_name'][resta_df['waiter_name'].isin(selected_waiters)].value_counts()"
   ],
   "metadata": {
    "collapsed": false,
    "is_executing": true
   },
   "id": "e1cd70a532b7ddfc"
  },
  {
   "cell_type": "markdown",
   "source": [
    "### Determine whether a value in waiter_name column belongs to a delivery service. "
   ],
   "metadata": {
    "collapsed": false
   },
   "id": "88605e7189ba497d"
  },
  {
   "cell_type": "code",
   "execution_count": null,
   "outputs": [],
   "source": [
    "import numpy as np\n",
    "\n",
    "resta_df.loc[:,'delivery']=np.where(resta_df['waiter_name'].isin(selected_waiters), resta_df['waiter_name'], 'NOT DELIVERY')\n",
    "resta_df['delivery'].head()"
   ],
   "metadata": {
    "collapsed": false,
    "is_executing": true
   },
   "id": "eb05c6cd4ee1ee39"
  },
  {
   "cell_type": "code",
   "execution_count": null,
   "outputs": [],
   "source": [
    "resta_df['delivery'].value_counts()"
   ],
   "metadata": {
    "collapsed": false,
    "is_executing": true
   },
   "id": "5eb686fca8a72121"
  },
  {
   "cell_type": "code",
   "execution_count": null,
   "outputs": [],
   "source": [
    "resta_df['delivery'].describe()"
   ],
   "metadata": {
    "collapsed": false,
    "is_executing": true
   },
   "id": "608527bf80057a81"
  },
  {
   "cell_type": "code",
   "execution_count": null,
   "outputs": [],
   "source": [
    "resta_df.loc[resta_df['waiter_name'].isin(selected_waiters),['waiter_name','delivery']]"
   ],
   "metadata": {
    "collapsed": false,
    "is_executing": true
   },
   "id": "dc427ba95e1151f2"
  },
  {
   "cell_type": "code",
   "execution_count": null,
   "outputs": [],
   "source": [
    "resta_df.head()"
   ],
   "metadata": {
    "collapsed": false,
    "is_executing": true
   },
   "id": "b0d1ae9a89c42ada"
  },
  {
   "cell_type": "markdown",
   "source": [
    "### Get a clear scope to accomplish analysis goals "
   ],
   "metadata": {
    "collapsed": false
   },
   "id": "ead0bb825c924388"
  },
  {
   "cell_type": "markdown",
   "source": [
    "### Analysis of 'prod_state' column.\n",
    "Determine whether proucts are active or not, to include them or not in the analysis."
   ],
   "metadata": {
    "collapsed": false
   },
   "id": "934f84d0e59d6625"
  },
  {
   "cell_type": "code",
   "execution_count": null,
   "outputs": [],
   "source": [
    "resta_df['prod_state'].value_counts()"
   ],
   "metadata": {
    "collapsed": false,
    "is_executing": true
   },
   "id": "89f00ba52d5100b7"
  },
  {
   "cell_type": "code",
   "execution_count": null,
   "outputs": [],
   "source": [
    "resta_df['prod_observations'].unique()"
   ],
   "metadata": {
    "collapsed": false,
    "is_executing": true
   },
   "id": "5011387eb4b98ba0"
  },
  {
   "cell_type": "code",
   "execution_count": null,
   "outputs": [],
   "source": [
    "resta_df['delivery_id'].unique()"
   ],
   "metadata": {
    "collapsed": false,
    "is_executing": true
   },
   "id": "301031d2834b8484"
  },
  {
   "cell_type": "code",
   "execution_count": null,
   "outputs": [],
   "source": [
    "resta_df['amount'].unique()"
   ],
   "metadata": {
    "collapsed": false,
    "is_executing": true
   },
   "id": "3288048bea651628"
  },
  {
   "cell_type": "code",
   "execution_count": null,
   "outputs": [],
   "source": [
    "resta_df['is_cancelled'].value_counts()"
   ],
   "metadata": {
    "collapsed": false,
    "is_executing": true
   },
   "id": "a08fe8186a680660"
  },
  {
   "cell_type": "markdown",
   "source": [
    "### Determining a data SCOPE\n",
    "How many orders were made within a year"
   ],
   "metadata": {
    "collapsed": false
   },
   "id": "873315529c2146cc"
  },
  {
   "cell_type": "code",
   "execution_count": null,
   "outputs": [],
   "source": [
    "#Determine which columns are to be used in the analysis\n",
    "#****** Whats better to scope and place data within other DF or clean in the same space???? ***\n",
    "#----- DETERMINE ---- whether to erase waiter name or not.\n",
    "resta_orders_df=pd.DataFrame(resta_df.loc[:,['order_id','order_session_id','system_date','time','group_classifier','parent_product','product','price','quantity','to_pay_xprod','tot_order_payment','paid_customer', 'change','prod_state','is_cancelled','waiter_name','delivery']])  # "
   ],
   "metadata": {
    "collapsed": false,
    "is_executing": true
   },
   "id": "b45f9ebbf7cf7e70"
  },
  {
   "cell_type": "code",
   "execution_count": null,
   "outputs": [],
   "source": [
    "resta_orders_df.head()"
   ],
   "metadata": {
    "collapsed": false,
    "is_executing": true
   },
   "id": "7451e50846c955db"
  },
  {
   "cell_type": "code",
   "execution_count": null,
   "outputs": [],
   "source": [
    "#which are the orders? order_id or order_session_id\n",
    "resta_orders_df.columns"
   ],
   "metadata": {
    "collapsed": false,
    "is_executing": true
   },
   "id": "367349d974f7a55a"
  },
  {
   "cell_type": "markdown",
   "source": [
    "#### Analyzing sales\n",
    "Conclusion. sales were realized by order id."
   ],
   "metadata": {
    "collapsed": false
   },
   "id": "1f90941cf9060c38"
  },
  {
   "cell_type": "code",
   "execution_count": null,
   "outputs": [],
   "source": [
    "#Sales were realized by order id.\n",
    "resta_orders_df.loc[:,['system_date','order_id','product','price', 'quantity',\n",
    "       'to_pay_xprod', 'tot_order_payment']].sort_values('order_id')"
   ],
   "metadata": {
    "collapsed": false,
    "is_executing": true
   },
   "id": "cff56f4ccdcb014e"
  },
  {
   "cell_type": "markdown",
   "source": [
    "#### Cleaning"
   ],
   "metadata": {
    "collapsed": false
   },
   "id": "36c4ecc18d2163d7"
  },
  {
   "cell_type": "markdown",
   "source": [
    "###### Null values "
   ],
   "metadata": {
    "collapsed": false
   },
   "id": "da25e9d395ca5100"
  },
  {
   "cell_type": "code",
   "execution_count": null,
   "outputs": [],
   "source": [
    "#Are there NULLS?: parent_product and is_cancelled\n",
    "resta_orders_df.info()"
   ],
   "metadata": {
    "collapsed": false,
    "is_executing": true
   },
   "id": "d54b831ce92b2bb0"
  },
  {
   "cell_type": "code",
   "execution_count": null,
   "outputs": [],
   "source": [
    "resta_orders_df['product'][resta_orders_df['parent_product'].isnull()].unique()"
   ],
   "metadata": {
    "collapsed": false,
    "is_executing": true
   },
   "id": "7b3a99376b241cfb"
  },
  {
   "cell_type": "code",
   "execution_count": null,
   "outputs": [],
   "source": [
    "resta_orders_df['group_classifier'].unique()"
   ],
   "metadata": {
    "collapsed": false,
    "is_executing": true
   },
   "id": "7a718a430f1064e7"
  },
  {
   "cell_type": "code",
   "execution_count": null,
   "outputs": [],
   "source": [
    "resta_orders_df['product'].groupby(resta_orders_df['parent_product']).count()  "
   ],
   "metadata": {
    "collapsed": false,
    "is_executing": true
   },
   "id": "ab9c98cdca665783"
  },
  {
   "cell_type": "markdown",
   "source": [
    "### Analyzing NAN values in 'parent_product'\n",
    "There are NAN values which could be replaced by product "
   ],
   "metadata": {
    "collapsed": false
   },
   "id": "762749214e61a9c0"
  },
  {
   "cell_type": "code",
   "execution_count": null,
   "outputs": [],
   "source": [
    "resta_orders_df.loc[resta_orders_df['parent_product'].isna(),['parent_product','product']]\n"
   ],
   "metadata": {
    "collapsed": false,
    "is_executing": true
   },
   "id": "e52c9269c756e0b3"
  },
  {
   "cell_type": "code",
   "execution_count": null,
   "outputs": [],
   "source": [
    "#Fill null values with values which are in column product  ***************************\n",
    "resta_orders_df['parent_product'].fillna(resta_orders_df['product'], inplace=True)"
   ],
   "metadata": {
    "collapsed": false,
    "is_executing": true
   },
   "id": "7434c6dc5961a5de"
  },
  {
   "cell_type": "code",
   "execution_count": null,
   "outputs": [],
   "source": [
    "#Find out whether NAN values were changed \n",
    "resta_orders_df['parent_product'].isna().sum()"
   ],
   "metadata": {
    "collapsed": false,
    "is_executing": true
   },
   "id": "5df37f19c9111b13"
  },
  {
   "cell_type": "code",
   "execution_count": null,
   "outputs": [],
   "source": [
    "resta_orders_df['parent_product'].unique()"
   ],
   "metadata": {
    "collapsed": false,
    "is_executing": true
   },
   "id": "932c3482f1e4ab69"
  },
  {
   "cell_type": "markdown",
   "source": [
    "###  Analyzing 'paid_customer', 'change'      ***************************** CHECK WITH CLIENT\n",
    "Its strange that  'paid_customer' has 0 values."
   ],
   "metadata": {
    "collapsed": false
   },
   "id": "3f10f84585189a67"
  },
  {
   "cell_type": "code",
   "execution_count": null,
   "outputs": [],
   "source": [
    "resta_orders_df.sample(5)"
   ],
   "metadata": {
    "collapsed": false,
    "is_executing": true
   },
   "id": "9d79242c9542c4ca"
  },
  {
   "cell_type": "code",
   "execution_count": null,
   "outputs": [],
   "source": [
    "resta_orders_df[['paid_customer', 'change']].isna().sum()"
   ],
   "metadata": {
    "collapsed": false,
    "is_executing": true
   },
   "id": "fa0292298ac4ed72"
  },
  {
   "cell_type": "code",
   "execution_count": null,
   "outputs": [],
   "source": [
    "#resta_df[['paid_customer', 'change']]\n",
    "\n",
    "resta_orders_df[resta_orders_df['paid_customer']==0]\n"
   ],
   "metadata": {
    "collapsed": false,
    "is_executing": true
   },
   "id": "a419e8f1a445cf52"
  },
  {
   "cell_type": "markdown",
   "source": [
    "#### Analyze the rest of data"
   ],
   "metadata": {
    "collapsed": false
   },
   "id": "c8874b07f0db070a"
  },
  {
   "cell_type": "markdown",
   "source": [
    "##### Delete unnecessary columns for the analysis"
   ],
   "metadata": {
    "collapsed": false
   },
   "id": "8554f099f398c944"
  },
  {
   "cell_type": "code",
   "execution_count": null,
   "outputs": [],
   "source": [
    "resta_orders_df.head()"
   ],
   "metadata": {
    "collapsed": false,
    "is_executing": true
   },
   "id": "c82f6c5411a3114b"
  },
  {
   "cell_type": "markdown",
   "source": [
    "Orders are organized by order_id. So order_session_id will be deleted, as well as waiter_name."
   ],
   "metadata": {
    "collapsed": false
   },
   "id": "220817eb2f3cb692"
  },
  {
   "cell_type": "code",
   "execution_count": null,
   "outputs": [],
   "source": [
    "resta_orders_df.sort_values('order_id')"
   ],
   "metadata": {
    "collapsed": false,
    "is_executing": true
   },
   "id": "7fae544871bd4fc4"
  },
  {
   "cell_type": "code",
   "execution_count": null,
   "outputs": [],
   "source": [
    "resta_orders_df.drop(columns=['order_session_id','waiter_name'], axis=1, inplace=True)"
   ],
   "metadata": {
    "collapsed": false,
    "is_executing": true
   },
   "id": "5cee109eedc75a31"
  },
  {
   "cell_type": "code",
   "execution_count": null,
   "outputs": [],
   "source": [
    "resta_orders_df.head()"
   ],
   "metadata": {
    "collapsed": false,
    "is_executing": true
   },
   "id": "cc49836a153bd9c0"
  },
  {
   "cell_type": "markdown",
   "source": [
    "##### Analyzing 'prod_state' what is in there\n",
    "\n",
    "State of products could be 'ACTIVO' or 'INACTIVO'. After analyzing it could be seen that some inactive products were used on december, by season.  \n",
    "Accordingly to analyze this dataframe there wont be a discrimination of inactive products, as those show sales reality and determine patterns.    "
   ],
   "metadata": {
    "collapsed": false
   },
   "id": "d8e113367ef7fc63"
  },
  {
   "cell_type": "code",
   "execution_count": null,
   "outputs": [],
   "source": [
    "resta_orders_df['prod_state'].value_counts()"
   ],
   "metadata": {
    "collapsed": false,
    "is_executing": true
   },
   "id": "991735992701d3a7"
  },
  {
   "cell_type": "code",
   "execution_count": null,
   "outputs": [],
   "source": [
    "resta_orders_df.columns"
   ],
   "metadata": {
    "collapsed": false,
    "is_executing": true
   },
   "id": "5cc794ede37f7cac"
  },
  {
   "cell_type": "code",
   "execution_count": null,
   "outputs": [],
   "source": [
    "resta_df.loc[(resta_df['prod_state']=='INACTIVO'),['product','prod_state', 'prod_observations']]"
   ],
   "metadata": {
    "collapsed": false,
    "is_executing": true
   },
   "id": "6f8b2ce7cfe84469"
  },
  {
   "cell_type": "code",
   "execution_count": null,
   "outputs": [],
   "source": [
    "#which unique values of inactive products there are\n",
    "resta_df[['stateprod','prod_state']]"
   ],
   "metadata": {
    "collapsed": false,
    "is_executing": true
   },
   "id": "c21d707f993bb258"
  },
  {
   "cell_type": "code",
   "execution_count": null,
   "outputs": [],
   "source": [
    "#Analysis of products which were placed in an inactive state.\n",
    "resta_orders_df['product'][resta_orders_df['prod_state']=='INACTIVO'].unique()"
   ],
   "metadata": {
    "collapsed": false,
    "is_executing": true
   },
   "id": "4240b1ea23d5bbcd"
  },
  {
   "cell_type": "code",
   "execution_count": null,
   "outputs": [],
   "source": [
    "resta_orders_df['product'][resta_df['stateprod']=='INACTIVO'].unique()"
   ],
   "metadata": {
    "collapsed": false,
    "is_executing": true
   },
   "id": "ae28fc0dba7907b0"
  },
  {
   "cell_type": "code",
   "execution_count": null,
   "outputs": [],
   "source": [
    "#Understand inactive products by date of usage \n",
    "resta_orders_df.loc[(resta_orders_df['prod_state']=='INACTIVO'),['product','system_date','tot_order_payment']].tail(20)"
   ],
   "metadata": {
    "collapsed": false,
    "is_executing": true
   },
   "id": "491aa2906ee69b3a"
  },
  {
   "cell_type": "markdown",
   "source": [
    "Inactive products were placed in that state because those are used only in determined dates and festivities. However those determine sales done and have to be recorded in the final report. "
   ],
   "metadata": {
    "collapsed": false
   },
   "id": "7145b5117ed37e9d"
  },
  {
   "cell_type": "code",
   "execution_count": null,
   "outputs": [],
   "source": [
    "#Since it doesnt matter whether a product was active or inactive, for their seasonal condition, this column will be deleted.\n",
    "resta_orders_df.drop(columns='prod_state', axis=1, inplace=True)"
   ],
   "metadata": {
    "collapsed": false,
    "is_executing": true
   },
   "id": "b6940a10f07b6d14"
  },
  {
   "cell_type": "code",
   "execution_count": null,
   "outputs": [],
   "source": [
    "resta_orders_df.columns"
   ],
   "metadata": {
    "collapsed": false,
    "is_executing": true
   },
   "id": "5ef764b5d337c48a"
  },
  {
   "cell_type": "markdown",
   "source": [
    "### Duplicates. \n",
    "'order_id' has duplicates, however those are correct, since all correspond to different products ordered by a customer.  "
   ],
   "metadata": {
    "collapsed": false
   },
   "id": "f3e00335ec958432"
  },
  {
   "cell_type": "code",
   "execution_count": null,
   "outputs": [],
   "source": [
    "'''Is there any DUPLICATE data?'''\n",
    "resta_orders_df['order_id'].sort_values().value_counts().sample(7)"
   ],
   "metadata": {
    "collapsed": false,
    "is_executing": true
   },
   "id": "ac33309e9d31f402"
  },
  {
   "cell_type": "code",
   "execution_count": null,
   "outputs": [],
   "source": [
    "resta_orders_df['order_id'].duplicated().sum()"
   ],
   "metadata": {
    "collapsed": false,
    "is_executing": true
   },
   "id": "a47f0dde462d8470"
  },
  {
   "cell_type": "code",
   "execution_count": null,
   "outputs": [],
   "source": [
    "#There are sales which correspond to the same order, so having duplicted orders is not a problem. \n",
    "resta_orders_df.loc[(resta_orders_df['order_id'].duplicated()),:]"
   ],
   "metadata": {
    "collapsed": false,
    "is_executing": true
   },
   "id": "fec27fb9f1ee9b39"
  },
  {
   "cell_type": "code",
   "execution_count": null,
   "outputs": [],
   "source": [
    "resta_orders_df.shape"
   ],
   "metadata": {
    "collapsed": false,
    "is_executing": true
   },
   "id": "35aa8e3abb8d74c2"
  },
  {
   "cell_type": "markdown",
   "source": [
    "#### Analyzing data"
   ],
   "metadata": {
    "collapsed": false
   },
   "id": "858b54d1c8f47560"
  },
  {
   "cell_type": "code",
   "execution_count": null,
   "outputs": [],
   "source": [
    "resta_orders_df.head()"
   ],
   "metadata": {
    "collapsed": false,
    "is_executing": true
   },
   "id": "fb5e70648a44ac6"
  },
  {
   "cell_type": "code",
   "execution_count": null,
   "outputs": [],
   "source": [
    "#Analyze values in 'products' column\n",
    "resta_orders_df.groupby(['group_classifier', 'parent_product']).to_pay_xprod.describe()\n"
   ],
   "metadata": {
    "collapsed": false,
    "is_executing": true
   },
   "id": "45b770c48c44040f"
  },
  {
   "cell_type": "code",
   "execution_count": null,
   "outputs": [],
   "source": [
    "resta_orders_df.groupby(['group_classifier', 'parent_product','product']).to_pay_xprod.sum()"
   ],
   "metadata": {
    "collapsed": false,
    "is_executing": true
   },
   "id": "703ea06168044483"
  },
  {
   "cell_type": "markdown",
   "source": [
    "##### CLEANING - Identify values which require a change\n",
    "Corrections in content\n",
    "In columns 'parent_product' and 'product' there is:\n",
    "Ã³    which has to be 'o'\n",
    "Ã‘    which has to be 'ñ'"
   ],
   "metadata": {
    "collapsed": false
   },
   "id": "602b97cfc4404728"
  },
  {
   "cell_type": "code",
   "execution_count": null,
   "outputs": [],
   "source": [
    "'''Cleaning in parent_product'''\n",
    "resta_orders_df.loc[resta_orders_df['parent_product'].str.contains('Ã'),'parent_product'].unique()   "
   ],
   "metadata": {
    "collapsed": false,
    "is_executing": true
   },
   "id": "273875152c7861cf"
  },
  {
   "cell_type": "code",
   "execution_count": null,
   "outputs": [],
   "source": [
    "resta_orders_df['parent_product']=resta_orders_df['parent_product'].str.replace('Ã³', 'o')"
   ],
   "metadata": {
    "collapsed": false,
    "is_executing": true
   },
   "id": "d2121c4394c33bc9"
  },
  {
   "cell_type": "code",
   "execution_count": null,
   "outputs": [],
   "source": [
    "resta_orders_df['parent_product']=resta_orders_df['parent_product'].str.replace('Ã‘', 'ñ')"
   ],
   "metadata": {
    "collapsed": false,
    "is_executing": true
   },
   "id": "59b5c2a4c94efa49"
  },
  {
   "cell_type": "code",
   "execution_count": null,
   "outputs": [],
   "source": [
    "resta_orders_df.loc[resta_orders_df['parent_product'].str.contains('Ã'),'parent_product'].unique()   "
   ],
   "metadata": {
    "collapsed": false,
    "is_executing": true
   },
   "id": "710a850b73ac62fe"
  },
  {
   "cell_type": "code",
   "execution_count": null,
   "outputs": [],
   "source": [
    "'''Correcting characters in 'product' column'''\n",
    "resta_orders_df.loc[(resta_orders_df['product'].str.contains('Ã')),'product'].unique()"
   ],
   "metadata": {
    "collapsed": false,
    "is_executing": true
   },
   "id": "5366a509fb2e6c55"
  },
  {
   "cell_type": "code",
   "execution_count": null,
   "outputs": [],
   "source": [
    "#Replacing values for the corresponding ones.\n",
    "resta_orders_df['product']=resta_orders_df['product'].str.replace('Ã‘', 'Ñ')"
   ],
   "metadata": {
    "collapsed": false,
    "is_executing": true
   },
   "id": "b44e6467ad8bce65"
  },
  {
   "cell_type": "code",
   "execution_count": null,
   "outputs": [],
   "source": [
    "resta_orders_df['product']=resta_orders_df['product'].str.replace('Ã³', 'O')"
   ],
   "metadata": {
    "collapsed": false,
    "is_executing": true
   },
   "id": "e05cf6306c869963"
  },
  {
   "cell_type": "code",
   "execution_count": null,
   "outputs": [],
   "source": [
    "resta_orders_df.loc[(resta_orders_df['product'].str.contains('Ã')),'product'].unique()"
   ],
   "metadata": {
    "collapsed": false,
    "is_executing": true
   },
   "id": "1eab0d0e32e140b8"
  },
  {
   "cell_type": "code",
   "execution_count": null,
   "outputs": [],
   "source": [
    "resta_orders_df[['parent_product','product']]"
   ],
   "metadata": {
    "collapsed": false,
    "is_executing": true
   },
   "id": "a3e49ee1daf2abcf"
  },
  {
   "cell_type": "markdown",
   "source": [
    "#### Place all string items in lower letters \n",
    "group_classifier, parent_product, product"
   ],
   "metadata": {
    "collapsed": false
   },
   "id": "fc9366a5544a4ab3"
  },
  {
   "cell_type": "code",
   "execution_count": null,
   "outputs": [],
   "source": [
    "resta_orders_df.tail()"
   ],
   "metadata": {
    "collapsed": false,
    "is_executing": true
   },
   "id": "b004833bf7d14903"
  },
  {
   "cell_type": "code",
   "execution_count": null,
   "outputs": [],
   "source": [
    "resta_orders_df['product']=resta_orders_df['product'].str.lower()\n",
    "resta_orders_df['parent_product']=resta_orders_df['parent_product'].str.lower()\n",
    "resta_orders_df['group_classifier']=resta_orders_df['group_classifier'].str.lower()"
   ],
   "metadata": {
    "collapsed": false,
    "is_executing": true
   },
   "id": "5472da9437bf4f5e"
  },
  {
   "cell_type": "code",
   "execution_count": null,
   "outputs": [],
   "source": [
    "resta_orders_df[['group_classifier','parent_product','product']]"
   ],
   "metadata": {
    "collapsed": false,
    "is_executing": true
   },
   "id": "38ef002a457695ef"
  },
  {
   "cell_type": "code",
   "execution_count": null,
   "outputs": [],
   "source": [
    "resta_orders_df.head()"
   ],
   "metadata": {
    "collapsed": false,
    "is_executing": true
   },
   "id": "708dbb5eb244c25f"
  },
  {
   "cell_type": "markdown",
   "source": [
    "#### Correct values in time column   "
   ],
   "metadata": {
    "collapsed": false
   },
   "id": "517aea6ef46aa32a"
  },
  {
   "cell_type": "code",
   "execution_count": null,
   "outputs": [],
   "source": [
    "resta_orders_df.info()"
   ],
   "metadata": {
    "collapsed": false,
    "is_executing": true
   },
   "id": "51c0bb7ff7ac30f3"
  },
  {
   "cell_type": "code",
   "execution_count": null,
   "outputs": [],
   "source": [
    "pd.to_datetime(resta_orders_df['time'], format='%H:%M.%S')"
   ],
   "metadata": {
    "collapsed": false,
    "is_executing": true
   },
   "id": "3c6c2fcc40e752df"
  },
  {
   "cell_type": "markdown",
   "source": [
    "### Correct modification date"
   ],
   "metadata": {
    "collapsed": false
   },
   "id": "6a5e4ccf4001e7b8"
  },
  {
   "cell_type": "code",
   "execution_count": null,
   "outputs": [],
   "source": [
    "resta_df[~resta_df['modification_date'].isna()]"
   ],
   "metadata": {
    "collapsed": false,
    "is_executing": true
   },
   "id": "d673050ddc5e2699"
  },
  {
   "cell_type": "code",
   "execution_count": null,
   "outputs": [],
   "source": [
    "#Split information into two different columns date and time\n",
    "resta_df[['modification_dates','modification_time']]=resta_df['modification_date'].str.split(' ', expand=True)"
   ],
   "metadata": {
    "collapsed": false,
    "is_executing": true
   },
   "id": "610eb5aaf6ebf70a"
  },
  {
   "cell_type": "code",
   "execution_count": null,
   "outputs": [],
   "source": [
    "#transform date and time columns for the right datatype\n",
    "resta_df['modification_dates']=pd.to_datetime(resta_df['modification_dates'], format='%Y-%m-%d')"
   ],
   "metadata": {
    "collapsed": false,
    "is_executing": true
   },
   "id": "70101194a54d5d49"
  },
  {
   "cell_type": "code",
   "execution_count": null,
   "outputs": [],
   "source": [
    "resta_df['modification_time']=pd.to_datetime(resta_df['modification_time'], format='%H:%M:%S.%f')"
   ],
   "metadata": {
    "collapsed": false,
    "is_executing": true
   },
   "id": "1c312575a38e17dc"
  },
  {
   "cell_type": "markdown",
   "source": [
    "### Re-estructuring data"
   ],
   "metadata": {
    "collapsed": false
   },
   "id": "a3092cda0eee5a61"
  },
  {
   "cell_type": "code",
   "execution_count": null,
   "outputs": [],
   "source": [
    "resta_orders_df.tail()"
   ],
   "metadata": {
    "collapsed": false,
    "is_executing": true
   },
   "id": "88cdfd8f6c90d218"
  },
  {
   "cell_type": "code",
   "execution_count": null,
   "outputs": [],
   "source": [
    "resta_orders_df.columns"
   ],
   "metadata": {
    "collapsed": false,
    "is_executing": true
   },
   "id": "2b5fd8b5c70f6548"
  },
  {
   "cell_type": "markdown",
   "source": [
    "#### Narrow down data, to obtain orders which havent been cancelled \n",
    "Is unnecessary to filter by is_cancelled since it seems that whenever this is TRUE there are orders placed and charged.  "
   ],
   "metadata": {
    "collapsed": false
   },
   "id": "e7f0d9db34ed42fe"
  },
  {
   "cell_type": "code",
   "execution_count": null,
   "outputs": [],
   "source": [
    "#Will be considered just products which havent been cancelled\n",
    "\n",
    "#resta_orders_df=resta_orders_df.loc[(resta_orders_df['is_cancelled']==False),selected_columns].sort_values('order_id')\n",
    "#resta_orders_tot_df=resta_orders_df.loc[(resta_orders_df['is_cancelled']==False),:].sort_values('order_id')\n",
    "resta_orders_df.loc[(resta_orders_df['is_cancelled']==True),:].sort_values('order_id')"
   ],
   "metadata": {
    "collapsed": false,
    "is_executing": true
   },
   "id": "987ec285f66b386c"
  },
  {
   "cell_type": "code",
   "execution_count": null,
   "outputs": [],
   "source": [
    "resta_orders_df.loc[(resta_orders_df['is_cancelled']==False),:].sort_values('order_id')"
   ],
   "metadata": {
    "collapsed": false,
    "is_executing": true
   },
   "id": "b1062ad11f58e4e8"
  },
  {
   "cell_type": "code",
   "execution_count": null,
   "outputs": [],
   "source": [
    "#is cancelled doesnt reflect any difference in data, since either is TRUE or FALSE order seems to be charged. For this this field will be deleted. \n",
    "resta_orders_df.drop(columns='is_cancelled', axis=1, inplace=True)"
   ],
   "metadata": {
    "collapsed": false,
    "is_executing": true
   },
   "id": "e46ba65a09304fc4"
  },
  {
   "cell_type": "code",
   "execution_count": null,
   "outputs": [],
   "source": [
    "resta_orders_df.head()"
   ],
   "metadata": {
    "collapsed": false,
    "is_executing": true
   },
   "id": "b323affcd9a65ba4"
  },
  {
   "cell_type": "code",
   "execution_count": null,
   "outputs": [],
   "source": [
    "resta_orders_df.loc[:,['order_id','system_date','tot_order_payment']]"
   ],
   "metadata": {
    "collapsed": false,
    "is_executing": true
   },
   "id": "580da2091d694bb2"
  },
  {
   "cell_type": "markdown",
   "source": [
    "## How many orders were made within a year, month, week, hour"
   ],
   "metadata": {
    "collapsed": false
   },
   "id": "b5e5a0bbc3d03873"
  },
  {
   "cell_type": "markdown",
   "source": [
    "### ORDER_ID\n",
    "Each order_id is an order charged. "
   ],
   "metadata": {
    "collapsed": false
   },
   "id": "b9dd7d61bcb372c8"
  },
  {
   "cell_type": "code",
   "execution_count": null,
   "outputs": [],
   "source": [
    "\n",
    "resta_orders_df.head()"
   ],
   "metadata": {
    "collapsed": false,
    "is_executing": true
   },
   "id": "e96fafa56353bbdf"
  },
  {
   "cell_type": "code",
   "execution_count": null,
   "outputs": [],
   "source": [
    "resta_orders_df.system_date.info()"
   ],
   "metadata": {
    "collapsed": false,
    "is_executing": true
   },
   "id": "9c709ba764ba58cc"
  },
  {
   "cell_type": "code",
   "execution_count": null,
   "outputs": [],
   "source": [
    "# Delimit a df to give answer to the analysis\n",
    "resta_orders_date_df=resta_orders_df.loc[:,['system_date','order_id','tot_order_payment']]"
   ],
   "metadata": {
    "collapsed": false,
    "is_executing": true
   },
   "id": "c2b65a52171f90ac"
  },
  {
   "cell_type": "code",
   "execution_count": null,
   "outputs": [],
   "source": [
    "resta_orders_date_df.sort_values(by='order_id')"
   ],
   "metadata": {
    "collapsed": false,
    "is_executing": true
   },
   "id": "45ee0e379c6bf2d3"
  },
  {
   "cell_type": "code",
   "execution_count": null,
   "outputs": [],
   "source": [
    "resta_orders_date_df['order_id'].unique()"
   ],
   "metadata": {
    "collapsed": false,
    "is_executing": true
   },
   "id": "38a4de6685af97ed"
  },
  {
   "cell_type": "code",
   "execution_count": null,
   "outputs": [],
   "source": [
    "#There are 12671 duplicated values\n",
    "resta_orders_date_df['order_id'][resta_orders_date_df['order_id'].duplicated()]"
   ],
   "metadata": {
    "collapsed": false,
    "is_executing": true
   },
   "id": "3980750979deaea8"
  },
  {
   "cell_type": "code",
   "execution_count": null,
   "outputs": [],
   "source": [
    "#reidex by date\n",
    "resta_orders_date_df.set_index('system_date', inplace=True)"
   ],
   "metadata": {
    "collapsed": false,
    "is_executing": true
   },
   "id": "d8d321090187fa02"
  },
  {
   "cell_type": "code",
   "execution_count": null,
   "outputs": [],
   "source": [
    "#Erase duplicated data. Since tot order payment is an only amount by each order\n",
    "resta_orders_date_df=resta_orders_date_df.drop_duplicates('order_id')\n",
    "resta_orders_date_df"
   ],
   "metadata": {
    "collapsed": false,
    "is_executing": true
   },
   "id": "d546e872bd68b0a6"
  },
  {
   "cell_type": "code",
   "execution_count": null,
   "outputs": [],
   "source": [
    "resta_orders_date_df['order_id'].duplicated().sum()"
   ],
   "metadata": {
    "collapsed": false,
    "is_executing": true
   },
   "id": "bc3c19b0ea22e8e9"
  },
  {
   "cell_type": "markdown",
   "source": [
    "### How many orders were made within a year"
   ],
   "metadata": {
    "collapsed": false
   },
   "id": "2d87c9feb45394a2"
  },
  {
   "cell_type": "code",
   "execution_count": null,
   "outputs": [],
   "source": [
    "resta_orders_date_df.head()"
   ],
   "metadata": {
    "collapsed": false,
    "is_executing": true
   },
   "id": "49cafaa99ca1bc63"
  },
  {
   "cell_type": "code",
   "execution_count": null,
   "outputs": [],
   "source": [
    "resta_orders_date_df.groupby(resta_orders_date_df.index.year).order_id.count()"
   ],
   "metadata": {
    "collapsed": false,
    "is_executing": true
   },
   "id": "6aa9c3675eec684f"
  },
  {
   "cell_type": "code",
   "execution_count": null,
   "outputs": [],
   "source": [],
   "metadata": {
    "collapsed": false,
    "is_executing": true
   },
   "id": "b9a87e834d1d8f9"
  },
  {
   "cell_type": "code",
   "execution_count": null,
   "outputs": [],
   "source": [],
   "metadata": {
    "collapsed": false,
    "is_executing": true
   },
   "id": "31a75c91380ad986"
  },
  {
   "cell_type": "code",
   "execution_count": null,
   "outputs": [],
   "source": [],
   "metadata": {
    "collapsed": false,
    "is_executing": true
   },
   "id": "e20f20cd2ac2a1bb"
  },
  {
   "cell_type": "code",
   "execution_count": null,
   "outputs": [],
   "source": [
    "resta_orders_date_df.groupby('system_date').tot_order_payment.sum()"
   ],
   "metadata": {
    "collapsed": false,
    "is_executing": true
   },
   "id": "467ce3e141c6abb7"
  },
  {
   "cell_type": "code",
   "execution_count": null,
   "outputs": [],
   "source": [
    "#get values by year\n",
    "resta_orders_byyear_df=resta_orders_date_df.groupby(resta_orders_date_df.index.year).tot_order_payment.sum()\n",
    "resta_orders_byyear_df"
   ],
   "metadata": {
    "collapsed": false,
    "is_executing": true
   },
   "id": "9c898c1049597019"
  },
  {
   "cell_type": "code",
   "execution_count": null,
   "outputs": [],
   "source": [
    "type(resta_orders_byyear_df)"
   ],
   "metadata": {
    "collapsed": false,
    "is_executing": true
   },
   "id": "f24d911d5c7979b9"
  },
  {
   "cell_type": "code",
   "execution_count": null,
   "outputs": [],
   "source": [
    "x=resta_orders_date_df.index.year.unique()"
   ],
   "metadata": {
    "collapsed": false,
    "is_executing": true
   },
   "id": "f2e3015263384a58"
  },
  {
   "cell_type": "code",
   "execution_count": null,
   "outputs": [],
   "source": [
    "resta_orders_byyear_df"
   ],
   "metadata": {
    "collapsed": false,
    "is_executing": true
   },
   "id": "1769cdd7e8f844e8"
  },
  {
   "cell_type": "code",
   "execution_count": null,
   "outputs": [],
   "source": [
    "resta_orders_byyear_df.plot(\n",
    "        kind='bar',\n",
    "        x=resta_orders_byyear_df.index,\n",
    "        y=resta_orders_byyear_df,\n",
    "        figsize=(5,5),\n",
    "        title='Sales Evolution by year',\n",
    "        color='blue'\n",
    ")"
   ],
   "metadata": {
    "collapsed": false,
    "is_executing": true
   },
   "id": "4f1040e8a477b191"
  },
  {
   "cell_type": "code",
   "execution_count": null,
   "outputs": [],
   "source": [],
   "metadata": {
    "collapsed": false,
    "is_executing": true
   },
   "id": "b7cbdf2733b6793f"
  },
  {
   "cell_type": "code",
   "execution_count": null,
   "outputs": [],
   "source": [],
   "metadata": {
    "collapsed": false,
    "is_executing": true
   },
   "id": "ed86b358caf6e0b9"
  },
  {
   "cell_type": "code",
   "execution_count": null,
   "outputs": [],
   "source": [],
   "metadata": {
    "collapsed": false,
    "is_executing": true
   },
   "id": "a31dc8fd77fd228c"
  },
  {
   "cell_type": "code",
   "execution_count": null,
   "outputs": [],
   "source": [],
   "metadata": {
    "collapsed": false,
    "is_executing": true
   },
   "id": "6d5d8457c3d12d41"
  }
 ],
 "metadata": {
  "kernelspec": {
   "display_name": "Python 3",
   "language": "python",
   "name": "python3"
  },
  "language_info": {
   "codemirror_mode": {
    "name": "ipython",
    "version": 2
   },
   "file_extension": ".py",
   "mimetype": "text/x-python",
   "name": "python",
   "nbconvert_exporter": "python",
   "pygments_lexer": "ipython2",
   "version": "2.7.6"
  }
 },
 "nbformat": 4,
 "nbformat_minor": 5
}
