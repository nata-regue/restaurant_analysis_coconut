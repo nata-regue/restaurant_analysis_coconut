{
 "cells": [
  {
   "cell_type": "code",
   "id": "initial_id",
   "metadata": {
    "collapsed": true,
    "ExecuteTime": {
     "end_time": "2024-06-12T20:55:29.166710Z",
     "start_time": "2024-06-12T20:55:29.162496Z"
    }
   },
   "source": [
    "import pandas as pd\n",
    "import numpy as np\n",
    "import matplotlib.pyplot as plt\n",
    "import seaborn as sns"
   ],
   "outputs": [],
   "execution_count": 2
  },
  {
   "metadata": {},
   "cell_type": "markdown",
   "source": "## Analyze sales data to identify opportunities for growth and optimization. ",
   "id": "76e759b9070f578b"
  },
  {
   "metadata": {
    "ExecuteTime": {
     "end_time": "2024-06-12T20:57:27.111121Z",
     "start_time": "2024-06-12T20:57:27.107050Z"
    }
   },
   "cell_type": "code",
   "source": "path='../data/prueba3.csv'",
   "id": "730cdbe0b8cd5675",
   "outputs": [],
   "execution_count": 5
  },
  {
   "metadata": {
    "ExecuteTime": {
     "end_time": "2024-06-12T20:57:47.008920Z",
     "start_time": "2024-06-12T20:57:47.003293Z"
    }
   },
   "cell_type": "code",
   "source": [
    "dtype_spec = {\n",
    "    19: 'str',   # or 'int', 'float', etc., depending on your data\n",
    "    20: 'str',   # change 'str' to the appropriate data type\n",
    "    21: 'str',   # for each column\n",
    "    22: 'str'\n",
    "}"
   ],
   "id": "5b54a3344502cef4",
   "outputs": [],
   "execution_count": 7
  },
  {
   "metadata": {
    "ExecuteTime": {
     "end_time": "2024-06-12T20:58:09.205789Z",
     "start_time": "2024-06-12T20:58:06.343789Z"
    }
   },
   "cell_type": "code",
   "source": "resta_df_original = pd.read_csv(path,on_bad_lines='skip', sep=',', dtype=dtype_spec, low_memory=False)",
   "id": "5435742ca96cd3d",
   "outputs": [],
   "execution_count": 8
  },
  {
   "metadata": {
    "ExecuteTime": {
     "end_time": "2024-06-12T20:58:25.520560Z",
     "start_time": "2024-06-12T20:58:25.451627Z"
    }
   },
   "cell_type": "code",
   "source": [
    "#Make a copy from the original dataset\n",
    "resta_df = resta_df_original.copy()"
   ],
   "id": "de2430c7d189ca31",
   "outputs": [],
   "execution_count": 9
  },
  {
   "metadata": {},
   "cell_type": "markdown",
   "source": "## Exploratory Data Analysis",
   "id": "333214a8e8e8dac3"
  },
  {
   "metadata": {
    "ExecuteTime": {
     "end_time": "2024-06-12T21:00:08.939079Z",
     "start_time": "2024-06-12T21:00:08.569077Z"
    }
   },
   "cell_type": "code",
   "source": "resta_df.info()",
   "id": "3dcdc43bdb96bf3b",
   "outputs": [
    {
     "name": "stdout",
     "output_type": "stream",
     "text": [
      "<class 'pandas.core.frame.DataFrame'>\n",
      "RangeIndex: 505575 entries, 0 to 505574\n",
      "Data columns (total 27 columns):\n",
      " #   Column                Non-Null Count   Dtype  \n",
      "---  ------                --------------   -----  \n",
      " 0   id_pedido             505575 non-null  int64  \n",
      " 1   fecha_sistema         505575 non-null  object \n",
      " 2   hora                  505575 non-null  object \n",
      " 3   clasificador_grupo    505575 non-null  object \n",
      " 4   clasificacion         474780 non-null  object \n",
      " 5   producto              505575 non-null  object \n",
      " 6   state                 505575 non-null  object \n",
      " 7   precio                505575 non-null  float64\n",
      " 8   cantidad              505575 non-null  int64  \n",
      " 9   a_pagar_xprod         505575 non-null  float64\n",
      " 10  pago_pedido_tot       505575 non-null  float64\n",
      " 11  product_observations  103879 non-null  object \n",
      " 12  tipo_forma_pago       505575 non-null  object \n",
      " 13  monto                 505575 non-null  float64\n",
      " 14  observaciones_pedido  0 non-null       float64\n",
      " 15  pagado_cliente        505575 non-null  float64\n",
      " 16  cambio                505575 non-null  float64\n",
      " 17  ubicacion             505575 non-null  object \n",
      " 18  numero_pedido         505575 non-null  int64  \n",
      " 19  fecha_modificacion    47 non-null      object \n",
      " 20  motivo_modificacion   47 non-null      object \n",
      " 21  es_anulado            47 non-null      object \n",
      " 22  es_cortesia           503679 non-null  object \n",
      " 23  estado                505575 non-null  object \n",
      " 24  saldo_inicial         505575 non-null  float64\n",
      " 25  saldo_final           504443 non-null  float64\n",
      " 26  stateprod             505575 non-null  object \n",
      "dtypes: float64(9), int64(3), object(15)\n",
      "memory usage: 104.1+ MB\n"
     ]
    }
   ],
   "execution_count": 10
  },
  {
   "metadata": {
    "ExecuteTime": {
     "end_time": "2024-06-12T21:00:28.672576Z",
     "start_time": "2024-06-12T21:00:28.656226Z"
    }
   },
   "cell_type": "code",
   "source": "resta_df.shape",
   "id": "acd1c65afea030fd",
   "outputs": [
    {
     "data": {
      "text/plain": [
       "(505575, 27)"
      ]
     },
     "execution_count": 12,
     "metadata": {},
     "output_type": "execute_result"
    }
   ],
   "execution_count": 12
  },
  {
   "metadata": {
    "ExecuteTime": {
     "end_time": "2024-06-12T21:00:37.124499Z",
     "start_time": "2024-06-12T21:00:37.117326Z"
    }
   },
   "cell_type": "code",
   "source": "resta_df.size",
   "id": "2f2503259a65ca7b",
   "outputs": [
    {
     "data": {
      "text/plain": [
       "13650525"
      ]
     },
     "execution_count": 14,
     "metadata": {},
     "output_type": "execute_result"
    }
   ],
   "execution_count": 14
  },
  {
   "metadata": {
    "ExecuteTime": {
     "end_time": "2024-06-12T21:00:44.120204Z",
     "start_time": "2024-06-12T21:00:44.080437Z"
    }
   },
   "cell_type": "code",
   "source": "resta_df.head()",
   "id": "e9e23a5f3da6ab30",
   "outputs": [
    {
     "data": {
      "text/plain": [
       "   id_pedido fecha_sistema              hora clasificador_grupo  \\\n",
       "0       3208    2016-07-05  21:46:33.0000000               MENU   \n",
       "1       3209    2016-07-05  22:00:30.0000000               MENU   \n",
       "2       3210    2016-07-05  23:04:04.0000000               MENU   \n",
       "3       3210    2016-07-05  23:04:04.0000000            BEBIDAS   \n",
       "4       3211    2016-07-07  23:03:19.0000000               MENU   \n",
       "\n",
       "       clasificacion           producto   state  precio  cantidad  \\\n",
       "0         Sandwiches        Niki's club  ACTIVO    18.0         1   \n",
       "1         Sandwiches  Sand de Pollo BBQ  ACTIVO    20.0         1   \n",
       "2            Fingers       Fingers miel  ACTIVO    22.0         1   \n",
       "3      jugos - aguas       Aquarius 500  ACTIVO     8.0         1   \n",
       "4  Alitas 8 UNIDADES    Alitas Barbacoa  ACTIVO    27.0         1   \n",
       "\n",
       "   a_pagar_xprod  ...        ubicacion numero_pedido fecha_modificacion  \\\n",
       "0           18.0  ...  0 - Para llevar             2                NaN   \n",
       "1           20.0  ...       1 - Mesa 1             3                NaN   \n",
       "2           22.0  ...  0 - Para llevar             3                NaN   \n",
       "3            8.0  ...  0 - Para llevar             3                NaN   \n",
       "4           27.0  ...     20 - Mesa 20             1                NaN   \n",
       "\n",
       "   motivo_modificacion  es_anulado  es_cortesia   estado saldo_inicial  \\\n",
       "0                  NaN         NaN          NaN  CERRADO         500.0   \n",
       "1                  NaN         NaN          NaN  CERRADO         500.0   \n",
       "2                  NaN         NaN          NaN  CERRADO         500.0   \n",
       "3                  NaN         NaN          NaN  CERRADO         500.0   \n",
       "4                  NaN         NaN          NaN  CERRADO         500.0   \n",
       "\n",
       "   saldo_final stateprod  \n",
       "0        620.0    ACTIVO  \n",
       "1        620.0    ACTIVO  \n",
       "2        620.0    ACTIVO  \n",
       "3        620.0    ACTIVO  \n",
       "4          0.0    ACTIVO  \n",
       "\n",
       "[5 rows x 27 columns]"
      ],
      "text/html": [
       "<div>\n",
       "<style scoped>\n",
       "    .dataframe tbody tr th:only-of-type {\n",
       "        vertical-align: middle;\n",
       "    }\n",
       "\n",
       "    .dataframe tbody tr th {\n",
       "        vertical-align: top;\n",
       "    }\n",
       "\n",
       "    .dataframe thead th {\n",
       "        text-align: right;\n",
       "    }\n",
       "</style>\n",
       "<table border=\"1\" class=\"dataframe\">\n",
       "  <thead>\n",
       "    <tr style=\"text-align: right;\">\n",
       "      <th></th>\n",
       "      <th>id_pedido</th>\n",
       "      <th>fecha_sistema</th>\n",
       "      <th>hora</th>\n",
       "      <th>clasificador_grupo</th>\n",
       "      <th>clasificacion</th>\n",
       "      <th>producto</th>\n",
       "      <th>state</th>\n",
       "      <th>precio</th>\n",
       "      <th>cantidad</th>\n",
       "      <th>a_pagar_xprod</th>\n",
       "      <th>...</th>\n",
       "      <th>ubicacion</th>\n",
       "      <th>numero_pedido</th>\n",
       "      <th>fecha_modificacion</th>\n",
       "      <th>motivo_modificacion</th>\n",
       "      <th>es_anulado</th>\n",
       "      <th>es_cortesia</th>\n",
       "      <th>estado</th>\n",
       "      <th>saldo_inicial</th>\n",
       "      <th>saldo_final</th>\n",
       "      <th>stateprod</th>\n",
       "    </tr>\n",
       "  </thead>\n",
       "  <tbody>\n",
       "    <tr>\n",
       "      <th>0</th>\n",
       "      <td>3208</td>\n",
       "      <td>2016-07-05</td>\n",
       "      <td>21:46:33.0000000</td>\n",
       "      <td>MENU</td>\n",
       "      <td>Sandwiches</td>\n",
       "      <td>Niki's club</td>\n",
       "      <td>ACTIVO</td>\n",
       "      <td>18.0</td>\n",
       "      <td>1</td>\n",
       "      <td>18.0</td>\n",
       "      <td>...</td>\n",
       "      <td>0 - Para llevar</td>\n",
       "      <td>2</td>\n",
       "      <td>NaN</td>\n",
       "      <td>NaN</td>\n",
       "      <td>NaN</td>\n",
       "      <td>NaN</td>\n",
       "      <td>CERRADO</td>\n",
       "      <td>500.0</td>\n",
       "      <td>620.0</td>\n",
       "      <td>ACTIVO</td>\n",
       "    </tr>\n",
       "    <tr>\n",
       "      <th>1</th>\n",
       "      <td>3209</td>\n",
       "      <td>2016-07-05</td>\n",
       "      <td>22:00:30.0000000</td>\n",
       "      <td>MENU</td>\n",
       "      <td>Sandwiches</td>\n",
       "      <td>Sand de Pollo BBQ</td>\n",
       "      <td>ACTIVO</td>\n",
       "      <td>20.0</td>\n",
       "      <td>1</td>\n",
       "      <td>20.0</td>\n",
       "      <td>...</td>\n",
       "      <td>1 - Mesa 1</td>\n",
       "      <td>3</td>\n",
       "      <td>NaN</td>\n",
       "      <td>NaN</td>\n",
       "      <td>NaN</td>\n",
       "      <td>NaN</td>\n",
       "      <td>CERRADO</td>\n",
       "      <td>500.0</td>\n",
       "      <td>620.0</td>\n",
       "      <td>ACTIVO</td>\n",
       "    </tr>\n",
       "    <tr>\n",
       "      <th>2</th>\n",
       "      <td>3210</td>\n",
       "      <td>2016-07-05</td>\n",
       "      <td>23:04:04.0000000</td>\n",
       "      <td>MENU</td>\n",
       "      <td>Fingers</td>\n",
       "      <td>Fingers miel</td>\n",
       "      <td>ACTIVO</td>\n",
       "      <td>22.0</td>\n",
       "      <td>1</td>\n",
       "      <td>22.0</td>\n",
       "      <td>...</td>\n",
       "      <td>0 - Para llevar</td>\n",
       "      <td>3</td>\n",
       "      <td>NaN</td>\n",
       "      <td>NaN</td>\n",
       "      <td>NaN</td>\n",
       "      <td>NaN</td>\n",
       "      <td>CERRADO</td>\n",
       "      <td>500.0</td>\n",
       "      <td>620.0</td>\n",
       "      <td>ACTIVO</td>\n",
       "    </tr>\n",
       "    <tr>\n",
       "      <th>3</th>\n",
       "      <td>3210</td>\n",
       "      <td>2016-07-05</td>\n",
       "      <td>23:04:04.0000000</td>\n",
       "      <td>BEBIDAS</td>\n",
       "      <td>jugos - aguas</td>\n",
       "      <td>Aquarius 500</td>\n",
       "      <td>ACTIVO</td>\n",
       "      <td>8.0</td>\n",
       "      <td>1</td>\n",
       "      <td>8.0</td>\n",
       "      <td>...</td>\n",
       "      <td>0 - Para llevar</td>\n",
       "      <td>3</td>\n",
       "      <td>NaN</td>\n",
       "      <td>NaN</td>\n",
       "      <td>NaN</td>\n",
       "      <td>NaN</td>\n",
       "      <td>CERRADO</td>\n",
       "      <td>500.0</td>\n",
       "      <td>620.0</td>\n",
       "      <td>ACTIVO</td>\n",
       "    </tr>\n",
       "    <tr>\n",
       "      <th>4</th>\n",
       "      <td>3211</td>\n",
       "      <td>2016-07-07</td>\n",
       "      <td>23:03:19.0000000</td>\n",
       "      <td>MENU</td>\n",
       "      <td>Alitas 8 UNIDADES</td>\n",
       "      <td>Alitas Barbacoa</td>\n",
       "      <td>ACTIVO</td>\n",
       "      <td>27.0</td>\n",
       "      <td>1</td>\n",
       "      <td>27.0</td>\n",
       "      <td>...</td>\n",
       "      <td>20 - Mesa 20</td>\n",
       "      <td>1</td>\n",
       "      <td>NaN</td>\n",
       "      <td>NaN</td>\n",
       "      <td>NaN</td>\n",
       "      <td>NaN</td>\n",
       "      <td>CERRADO</td>\n",
       "      <td>500.0</td>\n",
       "      <td>0.0</td>\n",
       "      <td>ACTIVO</td>\n",
       "    </tr>\n",
       "  </tbody>\n",
       "</table>\n",
       "<p>5 rows × 27 columns</p>\n",
       "</div>"
      ]
     },
     "execution_count": 15,
     "metadata": {},
     "output_type": "execute_result"
    }
   ],
   "execution_count": 15
  },
  {
   "metadata": {
    "ExecuteTime": {
     "end_time": "2024-06-12T21:01:16.479462Z",
     "start_time": "2024-06-12T21:01:16.473330Z"
    }
   },
   "cell_type": "code",
   "source": "resta_df.columns",
   "id": "41bb99c30cc678f5",
   "outputs": [
    {
     "data": {
      "text/plain": [
       "Index(['id_pedido', 'fecha_sistema', 'hora', 'clasificador_grupo',\n",
       "       'clasificacion', 'producto', 'state', 'precio', 'cantidad',\n",
       "       'a_pagar_xprod', 'pago_pedido_tot', 'product_observations',\n",
       "       'tipo_forma_pago', 'monto', 'observaciones_pedido', 'pagado_cliente',\n",
       "       'cambio', 'ubicacion', 'numero_pedido', 'fecha_modificacion',\n",
       "       'motivo_modificacion', 'es_anulado', 'es_cortesia', 'estado',\n",
       "       'saldo_inicial', 'saldo_final', 'stateprod'],\n",
       "      dtype='object')"
      ]
     },
     "execution_count": 17,
     "metadata": {},
     "output_type": "execute_result"
    }
   ],
   "execution_count": 17
  },
  {
   "metadata": {
    "ExecuteTime": {
     "end_time": "2024-06-12T21:01:37.234871Z",
     "start_time": "2024-06-12T21:01:37.226578Z"
    }
   },
   "cell_type": "code",
   "source": [
    "#Change column names\n",
    "resta_df.columns=['order_id', 'system_date', 'time', 'group_classifier',\n",
    "        'classification', 'product', 'prod_state', 'price', 'quantity',\n",
    "        'to_pay_xprod', 'tot_order_payment', 'product_observations',\n",
    "        'type_payment_form', 'amount', 'order_observations', 'customer_pay',\n",
    "        'change', 'location', 'order_number', 'modification_date',\n",
    "        'modification_reason', 'is_cancelled', 'is_courtesy', 'status',\n",
    "        'start_balance', 'end_balance', 'stateprod']"
   ],
   "id": "c38f4ca8ef733d1f",
   "outputs": [],
   "execution_count": 18
  },
  {
   "metadata": {},
   "cell_type": "markdown",
   "source": "### Reviewing data types",
   "id": "8c55882cad7b5fe9"
  },
  {
   "metadata": {
    "ExecuteTime": {
     "end_time": "2024-06-12T21:05:49.306106Z",
     "start_time": "2024-06-12T21:05:49.298692Z"
    }
   },
   "cell_type": "code",
   "source": "resta_df.dtypes",
   "id": "7bc8b777398a806c",
   "outputs": [
    {
     "data": {
      "text/plain": [
       "order_id                  int64\n",
       "system_date              object\n",
       "time                     object\n",
       "group_classifier         object\n",
       "classification           object\n",
       "product                  object\n",
       "prod_state               object\n",
       "price                   float64\n",
       "quantity                  int64\n",
       "to_pay_xprod            float64\n",
       "tot_order_payment       float64\n",
       "product_observations     object\n",
       "type_payment_form        object\n",
       "amount                  float64\n",
       "order_observations      float64\n",
       "customer_pay            float64\n",
       "change                  float64\n",
       "location                 object\n",
       "order_number              int64\n",
       "modification_date        object\n",
       "modification_reason      object\n",
       "is_cancelled             object\n",
       "is_courtesy              object\n",
       "status                   object\n",
       "start_balance           float64\n",
       "end_balance             float64\n",
       "stateprod                object\n",
       "dtype: object"
      ]
     },
     "execution_count": 20,
     "metadata": {},
     "output_type": "execute_result"
    }
   ],
   "execution_count": 20
  },
  {
   "metadata": {
    "ExecuteTime": {
     "end_time": "2024-06-12T21:06:26.003407Z",
     "start_time": "2024-06-12T21:06:25.934673Z"
    }
   },
   "cell_type": "code",
   "source": [
    "# Convert data type to date time\n",
    "resta_df['system_date'] = pd.to_datetime(resta_df['system_date'], format='%Y-%m-%d')"
   ],
   "id": "2d9682f437c751d9",
   "outputs": [],
   "execution_count": 21
  },
  {
   "metadata": {
    "ExecuteTime": {
     "end_time": "2024-06-12T21:06:28.611263Z",
     "start_time": "2024-06-12T21:06:28.306289Z"
    }
   },
   "cell_type": "code",
   "source": "resta_df['time'] = pd.to_datetime(resta_df['time'], format='%H:%M:%S.%f')",
   "id": "f01aa53c58e3bce8",
   "outputs": [],
   "execution_count": 22
  },
  {
   "metadata": {},
   "cell_type": "markdown",
   "source": "### Understanding columns type",
   "id": "fb422be82abefb8a"
  },
  {
   "metadata": {
    "ExecuteTime": {
     "end_time": "2024-06-13T01:17:58.510977Z",
     "start_time": "2024-06-13T01:17:58.503820Z"
    }
   },
   "cell_type": "code",
   "source": [
    "# categorical columns \n",
    "categoric_col = [col for col in resta_df.columns if resta_df[col].dtype == 'object']\n",
    "print(f'Categorical columns are: {categoric_col}')"
   ],
   "id": "1427c136262e070e",
   "outputs": [
    {
     "name": "stdout",
     "output_type": "stream",
     "text": [
      "Categorical columns are: ['group_classifier', 'classification', 'product', 'prod_state', 'product_observations', 'type_payment_form', 'location', 'modification_date', 'modification_reason', 'is_cancelled', 'is_courtesy', 'status', 'stateprod']\n"
     ]
    }
   ],
   "execution_count": 23
  },
  {
   "metadata": {
    "ExecuteTime": {
     "end_time": "2024-06-13T01:25:49.294706Z",
     "start_time": "2024-06-13T01:25:49.289031Z"
    }
   },
   "cell_type": "code",
   "source": [
    "# numeric columns\n",
    "numeric_col =[col for col in resta_df.columns if resta_df[col].dtype !='object']\n",
    "print(f'Numeric columns are: {numeric_col}')"
   ],
   "id": "182cd71b65f47018",
   "outputs": [
    {
     "name": "stdout",
     "output_type": "stream",
     "text": [
      "Numeric columns are: ['order_id', 'system_date', 'time', 'price', 'quantity', 'to_pay_xprod', 'tot_order_payment', 'amount', 'order_observations', 'customer_pay', 'change', 'order_number', 'start_balance', 'end_balance']\n"
     ]
    }
   ],
   "execution_count": 24
  },
  {
   "metadata": {
    "ExecuteTime": {
     "end_time": "2024-06-13T01:27:07.908533Z",
     "start_time": "2024-06-13T01:27:07.812668Z"
    }
   },
   "cell_type": "code",
   "source": [
    "# numerical but categorical variables\n",
    "num_but_categorical=[col for col in numeric_col if resta_df[col].nunique() <10]\n",
    "print(f'Numeric but categorical columns are: {num_but_categorical}')"
   ],
   "id": "19cdd6dbe2e1f52e",
   "outputs": [
    {
     "name": "stdout",
     "output_type": "stream",
     "text": [
      "Numeric but categorical columns are: ['order_observations']\n"
     ]
    }
   ],
   "execution_count": 25
  },
  {
   "metadata": {
    "ExecuteTime": {
     "end_time": "2024-06-13T01:27:21.228889Z",
     "start_time": "2024-06-13T01:27:21.224660Z"
    }
   },
   "cell_type": "code",
   "source": [
    "# Adding num_but_cat to cat_cols\n",
    "categoric_col = num_but_categorical + categoric_col\n",
    "print(f'Categorical columns are: {categoric_col}')"
   ],
   "id": "53fc504da7f1d4e1",
   "outputs": [
    {
     "name": "stdout",
     "output_type": "stream",
     "text": [
      "Categorical columns are: ['order_observations', 'group_classifier', 'classification', 'product', 'prod_state', 'product_observations', 'type_payment_form', 'location', 'modification_date', 'modification_reason', 'is_cancelled', 'is_courtesy', 'status', 'stateprod']\n"
     ]
    }
   ],
   "execution_count": 26
  },
  {
   "metadata": {
    "ExecuteTime": {
     "end_time": "2024-06-13T01:27:44.910126Z",
     "start_time": "2024-06-13T01:27:44.895159Z"
    }
   },
   "cell_type": "code",
   "source": [
    "numeric_datetime=['system_date', 'time', 'modification_date']\n",
    "\n",
    "numeric_col = [col for col in numeric_col if col not in numeric_datetime and col not in num_but_categorical]\n",
    "\n",
    "# id_cols removing from num_cols\n",
    "id_cols=['order_id', 'order_payment_id', 'order_number']\n",
    "numeric_col=[col for col in numeric_col if col not in id_cols]\n",
    "\n",
    "print(f\"Numerical Cols: {numeric_col} \\nCategorical Cols: {categoric_col} \\nNumerical but Categorical: {num_but_categorical}\")"
   ],
   "id": "6ac8ba19767b3eff",
   "outputs": [
    {
     "name": "stdout",
     "output_type": "stream",
     "text": [
      "Numerical Cols: ['price', 'quantity', 'to_pay_xprod', 'tot_order_payment', 'amount', 'customer_pay', 'change', 'start_balance', 'end_balance'] \n",
      "Categorical Cols: ['order_observations', 'group_classifier', 'classification', 'product', 'prod_state', 'product_observations', 'type_payment_form', 'location', 'modification_date', 'modification_reason', 'is_cancelled', 'is_courtesy', 'status', 'stateprod'] \n",
      "Numerical but Categorical: ['order_observations']\n"
     ]
    }
   ],
   "execution_count": 27
  },
  {
   "metadata": {},
   "cell_type": "markdown",
   "source": "## EDA",
   "id": "c77226d61d8646c4"
  },
  {
   "metadata": {},
   "cell_type": "markdown",
   "source": "### Missing values",
   "id": "265b3bf876818831"
  },
  {
   "metadata": {
    "ExecuteTime": {
     "end_time": "2024-06-13T01:29:11.493768Z",
     "start_time": "2024-06-13T01:29:11.222608Z"
    }
   },
   "cell_type": "code",
   "source": [
    "#Determining how many values are null in percentage.\n",
    "((resta_df.isna().sum()/resta_df.shape[0])*100).sort_values(ascending=False)"
   ],
   "id": "ca6c17dcae94092c",
   "outputs": [
    {
     "data": {
      "text/plain": [
       "order_observations      100.000000\n",
       "is_cancelled             99.990704\n",
       "modification_reason      99.990704\n",
       "modification_date        99.990704\n",
       "product_observations     79.453296\n",
       "classification            6.091084\n",
       "is_courtesy               0.375019\n",
       "end_balance               0.223903\n",
       "order_id                  0.000000\n",
       "customer_pay              0.000000\n",
       "start_balance             0.000000\n",
       "status                    0.000000\n",
       "order_number              0.000000\n",
       "location                  0.000000\n",
       "change                    0.000000\n",
       "amount                    0.000000\n",
       "system_date               0.000000\n",
       "type_payment_form         0.000000\n",
       "tot_order_payment         0.000000\n",
       "to_pay_xprod              0.000000\n",
       "quantity                  0.000000\n",
       "price                     0.000000\n",
       "prod_state                0.000000\n",
       "product                   0.000000\n",
       "group_classifier          0.000000\n",
       "time                      0.000000\n",
       "stateprod                 0.000000\n",
       "dtype: float64"
      ]
     },
     "execution_count": 28,
     "metadata": {},
     "output_type": "execute_result"
    }
   ],
   "execution_count": 28
  },
  {
   "metadata": {},
   "cell_type": "markdown",
   "source": "Since 'order_observations' has 100% of NaN values, is better to erase the entire column.\n",
   "id": "ebfe50bad74aa946"
  },
  {
   "metadata": {
    "ExecuteTime": {
     "end_time": "2024-06-13T01:29:53.786525Z",
     "start_time": "2024-06-13T01:29:53.723559Z"
    }
   },
   "cell_type": "code",
   "source": "resta_df.drop(columns='order_observations', axis=1, inplace=True)",
   "id": "77fa5f90a8bc0281",
   "outputs": [],
   "execution_count": 29
  },
  {
   "metadata": {
    "ExecuteTime": {
     "end_time": "2024-06-13T01:30:00.431959Z",
     "start_time": "2024-06-13T01:30:00.426267Z"
    }
   },
   "cell_type": "code",
   "source": [
    "categoric_col.remove('order_observations')\n",
    "categoric_col"
   ],
   "id": "b109750b2b2e0fef",
   "outputs": [
    {
     "data": {
      "text/plain": [
       "['group_classifier',\n",
       " 'classification',\n",
       " 'product',\n",
       " 'prod_state',\n",
       " 'product_observations',\n",
       " 'type_payment_form',\n",
       " 'location',\n",
       " 'modification_date',\n",
       " 'modification_reason',\n",
       " 'is_cancelled',\n",
       " 'is_courtesy',\n",
       " 'status',\n",
       " 'stateprod']"
      ]
     },
     "execution_count": 30,
     "metadata": {},
     "output_type": "execute_result"
    }
   ],
   "execution_count": 30
  },
  {
   "metadata": {},
   "cell_type": "markdown",
   "source": [
    "#### NULL VALUES IN 'is_canceled column' \n",
    "'is cancelled' is equivalent to say that an order has been annuled  "
   ],
   "id": "18be927f1952d41f"
  },
  {
   "metadata": {
    "ExecuteTime": {
     "end_time": "2024-06-13T01:30:49.590724Z",
     "start_time": "2024-06-13T01:30:49.571055Z"
    }
   },
   "cell_type": "code",
   "source": "resta_df['is_cancelled'].value_counts()",
   "id": "7808980a531ddfda",
   "outputs": [
    {
     "data": {
      "text/plain": [
       "is_cancelled\n",
       "True    47\n",
       "Name: count, dtype: int64"
      ]
     },
     "execution_count": 31,
     "metadata": {},
     "output_type": "execute_result"
    }
   ],
   "execution_count": 31
  },
  {
   "metadata": {
    "ExecuteTime": {
     "end_time": "2024-06-13T01:31:08.549958Z",
     "start_time": "2024-06-13T01:31:08.530169Z"
    }
   },
   "cell_type": "code",
   "source": [
    "#Get how many values are NAN in is cancelled column\n",
    "resta_df['is_cancelled'].isna().sum()"
   ],
   "id": "4ccc936f2e35aec6",
   "outputs": [
    {
     "data": {
      "text/plain": [
       "505528"
      ]
     },
     "execution_count": 32,
     "metadata": {},
     "output_type": "execute_result"
    }
   ],
   "execution_count": 32
  },
  {
   "metadata": {
    "ExecuteTime": {
     "end_time": "2024-06-13T01:43:10.220718Z",
     "start_time": "2024-06-13T01:43:10.182427Z"
    }
   },
   "cell_type": "code",
   "source": [
    "#In which cases there was reported as 'cancelled'\n",
    "resta_df.loc[resta_df['is_cancelled']=='True', ['product','classification']].sample(5)\n"
   ],
   "id": "efe9e13b0600eada",
   "outputs": [
    {
     "data": {
      "text/plain": [
       "                          product      classification\n",
       "212707            HAMBURGUESA BBQ            Burguers\n",
       "20911             Alitas Barbacoa   Alitas 8 UNIDADES\n",
       "226722  ALITAS ALBAHACA Y HIERBAS   Alitas 8 UNIDADES\n",
       "212706        HAMBURGUESA CLASICA            Burguers\n",
       "272917         ALITAS BBQ 16 UNID  ALITAS 16 UNIDADES"
      ],
      "text/html": [
       "<div>\n",
       "<style scoped>\n",
       "    .dataframe tbody tr th:only-of-type {\n",
       "        vertical-align: middle;\n",
       "    }\n",
       "\n",
       "    .dataframe tbody tr th {\n",
       "        vertical-align: top;\n",
       "    }\n",
       "\n",
       "    .dataframe thead th {\n",
       "        text-align: right;\n",
       "    }\n",
       "</style>\n",
       "<table border=\"1\" class=\"dataframe\">\n",
       "  <thead>\n",
       "    <tr style=\"text-align: right;\">\n",
       "      <th></th>\n",
       "      <th>product</th>\n",
       "      <th>classification</th>\n",
       "    </tr>\n",
       "  </thead>\n",
       "  <tbody>\n",
       "    <tr>\n",
       "      <th>212707</th>\n",
       "      <td>HAMBURGUESA BBQ</td>\n",
       "      <td>Burguers</td>\n",
       "    </tr>\n",
       "    <tr>\n",
       "      <th>20911</th>\n",
       "      <td>Alitas Barbacoa</td>\n",
       "      <td>Alitas 8 UNIDADES</td>\n",
       "    </tr>\n",
       "    <tr>\n",
       "      <th>226722</th>\n",
       "      <td>ALITAS ALBAHACA Y HIERBAS</td>\n",
       "      <td>Alitas 8 UNIDADES</td>\n",
       "    </tr>\n",
       "    <tr>\n",
       "      <th>212706</th>\n",
       "      <td>HAMBURGUESA CLASICA</td>\n",
       "      <td>Burguers</td>\n",
       "    </tr>\n",
       "    <tr>\n",
       "      <th>272917</th>\n",
       "      <td>ALITAS BBQ 16 UNID</td>\n",
       "      <td>ALITAS 16 UNIDADES</td>\n",
       "    </tr>\n",
       "  </tbody>\n",
       "</table>\n",
       "</div>"
      ]
     },
     "execution_count": 41,
     "metadata": {},
     "output_type": "execute_result"
    }
   ],
   "execution_count": 41
  },
  {
   "metadata": {
    "ExecuteTime": {
     "end_time": "2024-06-13T01:44:02.993163Z",
     "start_time": "2024-06-13T01:44:02.947918Z"
    }
   },
   "cell_type": "code",
   "source": [
    "# If there was a customer who paid and there was a change given, so there has been a purchase completed. \n",
    "# Accordingly, couldn't be cancelled\n",
    "resta_df.loc[(resta_df['is_cancelled']=='True'),['product','to_pay_xprod','tot_order_payment','customer_pay','change','is_cancelled']].sample(5)"
   ],
   "id": "f0122eea1334ac6d",
   "outputs": [
    {
     "data": {
      "text/plain": [
       "                    product  to_pay_xprod  tot_order_payment  customer_pay  \\\n",
       "200879           Salchibeef          20.0              150.0         150.0   \n",
       "19761           Costillitas          76.0               76.0          76.0   \n",
       "82779   Alitas Miel Mostaza          27.0               54.0          54.0   \n",
       "46384         Salsa Picante           3.0                3.0           3.0   \n",
       "272917   ALITAS BBQ 16 UNID          55.0               55.0          55.0   \n",
       "\n",
       "        change is_cancelled  \n",
       "200879     0.0         True  \n",
       "19761      0.0         True  \n",
       "82779      0.0         True  \n",
       "46384      0.0         True  \n",
       "272917     0.0         True  "
      ],
      "text/html": [
       "<div>\n",
       "<style scoped>\n",
       "    .dataframe tbody tr th:only-of-type {\n",
       "        vertical-align: middle;\n",
       "    }\n",
       "\n",
       "    .dataframe tbody tr th {\n",
       "        vertical-align: top;\n",
       "    }\n",
       "\n",
       "    .dataframe thead th {\n",
       "        text-align: right;\n",
       "    }\n",
       "</style>\n",
       "<table border=\"1\" class=\"dataframe\">\n",
       "  <thead>\n",
       "    <tr style=\"text-align: right;\">\n",
       "      <th></th>\n",
       "      <th>product</th>\n",
       "      <th>to_pay_xprod</th>\n",
       "      <th>tot_order_payment</th>\n",
       "      <th>customer_pay</th>\n",
       "      <th>change</th>\n",
       "      <th>is_cancelled</th>\n",
       "    </tr>\n",
       "  </thead>\n",
       "  <tbody>\n",
       "    <tr>\n",
       "      <th>200879</th>\n",
       "      <td>Salchibeef</td>\n",
       "      <td>20.0</td>\n",
       "      <td>150.0</td>\n",
       "      <td>150.0</td>\n",
       "      <td>0.0</td>\n",
       "      <td>True</td>\n",
       "    </tr>\n",
       "    <tr>\n",
       "      <th>19761</th>\n",
       "      <td>Costillitas</td>\n",
       "      <td>76.0</td>\n",
       "      <td>76.0</td>\n",
       "      <td>76.0</td>\n",
       "      <td>0.0</td>\n",
       "      <td>True</td>\n",
       "    </tr>\n",
       "    <tr>\n",
       "      <th>82779</th>\n",
       "      <td>Alitas Miel Mostaza</td>\n",
       "      <td>27.0</td>\n",
       "      <td>54.0</td>\n",
       "      <td>54.0</td>\n",
       "      <td>0.0</td>\n",
       "      <td>True</td>\n",
       "    </tr>\n",
       "    <tr>\n",
       "      <th>46384</th>\n",
       "      <td>Salsa Picante</td>\n",
       "      <td>3.0</td>\n",
       "      <td>3.0</td>\n",
       "      <td>3.0</td>\n",
       "      <td>0.0</td>\n",
       "      <td>True</td>\n",
       "    </tr>\n",
       "    <tr>\n",
       "      <th>272917</th>\n",
       "      <td>ALITAS BBQ 16 UNID</td>\n",
       "      <td>55.0</td>\n",
       "      <td>55.0</td>\n",
       "      <td>55.0</td>\n",
       "      <td>0.0</td>\n",
       "      <td>True</td>\n",
       "    </tr>\n",
       "  </tbody>\n",
       "</table>\n",
       "</div>"
      ]
     },
     "execution_count": 42,
     "metadata": {},
     "output_type": "execute_result"
    }
   ],
   "execution_count": 42
  },
  {
   "metadata": {},
   "cell_type": "markdown",
   "source": [
    "##### Eventhough products which have status in 'is_cancelled' in True, were charged anyway. Which seems as an interesting input to analyze the owner. \n",
    "Paid customer, change and is_cancelled are not columns which reflect any important insight, since those seem to be erroneus values placed."
   ],
   "id": "1cc6951a39a6acf"
  },
  {
   "metadata": {},
   "cell_type": "markdown",
   "source": [
    "##### Analyze missing assingments \n",
    "All products which haven't been cancelled should have 'is_cancelled' status to False, and just 4 of them have it. So next step is fixing this issue.  "
   ],
   "id": "58443e60b57c1db5"
  },
  {
   "metadata": {
    "ExecuteTime": {
     "end_time": "2024-06-13T01:45:51.533746Z",
     "start_time": "2024-06-13T01:45:51.441779Z"
    }
   },
   "cell_type": "code",
   "source": [
    "#NaN values in is_cancelled should be placed in False, since those orders were not cancelled \n",
    "resta_df[['product','is_cancelled','tot_order_payment','customer_pay','change']][resta_df['is_cancelled'].isna()].sample(5)"
   ],
   "id": "cb63751695fc7914",
   "outputs": [
    {
     "data": {
      "text/plain": [
       "                     product is_cancelled  tot_order_payment  customer_pay  \\\n",
       "185468            STROGONOFF          NaN               65.0          65.0   \n",
       "235039       Alitas Barbacoa          NaN               62.0          62.0   \n",
       "443236  COMBO DIA DEL PADRE           NaN               59.0          59.0   \n",
       "17276             Salchibeef          NaN               44.0          44.0   \n",
       "147072            Black Sour          NaN              112.0         112.0   \n",
       "\n",
       "        change  \n",
       "185468     0.0  \n",
       "235039     0.0  \n",
       "443236     0.0  \n",
       "17276      0.0  \n",
       "147072     0.0  "
      ],
      "text/html": [
       "<div>\n",
       "<style scoped>\n",
       "    .dataframe tbody tr th:only-of-type {\n",
       "        vertical-align: middle;\n",
       "    }\n",
       "\n",
       "    .dataframe tbody tr th {\n",
       "        vertical-align: top;\n",
       "    }\n",
       "\n",
       "    .dataframe thead th {\n",
       "        text-align: right;\n",
       "    }\n",
       "</style>\n",
       "<table border=\"1\" class=\"dataframe\">\n",
       "  <thead>\n",
       "    <tr style=\"text-align: right;\">\n",
       "      <th></th>\n",
       "      <th>product</th>\n",
       "      <th>is_cancelled</th>\n",
       "      <th>tot_order_payment</th>\n",
       "      <th>customer_pay</th>\n",
       "      <th>change</th>\n",
       "    </tr>\n",
       "  </thead>\n",
       "  <tbody>\n",
       "    <tr>\n",
       "      <th>185468</th>\n",
       "      <td>STROGONOFF</td>\n",
       "      <td>NaN</td>\n",
       "      <td>65.0</td>\n",
       "      <td>65.0</td>\n",
       "      <td>0.0</td>\n",
       "    </tr>\n",
       "    <tr>\n",
       "      <th>235039</th>\n",
       "      <td>Alitas Barbacoa</td>\n",
       "      <td>NaN</td>\n",
       "      <td>62.0</td>\n",
       "      <td>62.0</td>\n",
       "      <td>0.0</td>\n",
       "    </tr>\n",
       "    <tr>\n",
       "      <th>443236</th>\n",
       "      <td>COMBO DIA DEL PADRE</td>\n",
       "      <td>NaN</td>\n",
       "      <td>59.0</td>\n",
       "      <td>59.0</td>\n",
       "      <td>0.0</td>\n",
       "    </tr>\n",
       "    <tr>\n",
       "      <th>17276</th>\n",
       "      <td>Salchibeef</td>\n",
       "      <td>NaN</td>\n",
       "      <td>44.0</td>\n",
       "      <td>44.0</td>\n",
       "      <td>0.0</td>\n",
       "    </tr>\n",
       "    <tr>\n",
       "      <th>147072</th>\n",
       "      <td>Black Sour</td>\n",
       "      <td>NaN</td>\n",
       "      <td>112.0</td>\n",
       "      <td>112.0</td>\n",
       "      <td>0.0</td>\n",
       "    </tr>\n",
       "  </tbody>\n",
       "</table>\n",
       "</div>"
      ]
     },
     "execution_count": 46,
     "metadata": {},
     "output_type": "execute_result"
    }
   ],
   "execution_count": 46
  },
  {
   "metadata": {
    "ExecuteTime": {
     "end_time": "2024-06-13T01:46:15.676342Z",
     "start_time": "2024-06-13T01:46:15.640988Z"
    }
   },
   "cell_type": "code",
   "source": [
    "#To all NaN values in 'is_cancelled' place False.\n",
    "resta_df['is_cancelled'].fillna('False', inplace=True)"
   ],
   "id": "16cde0598badc00a",
   "outputs": [],
   "execution_count": 47
  },
  {
   "metadata": {
    "ExecuteTime": {
     "end_time": "2024-06-13T01:46:21.659024Z",
     "start_time": "2024-06-13T01:46:21.633432Z"
    }
   },
   "cell_type": "code",
   "source": "resta_df['is_cancelled'].isna().sum()",
   "id": "b3d667ec3122a73d",
   "outputs": [
    {
     "data": {
      "text/plain": [
       "0"
      ]
     },
     "execution_count": 48,
     "metadata": {},
     "output_type": "execute_result"
    }
   ],
   "execution_count": 48
  },
  {
   "metadata": {},
   "cell_type": "markdown",
   "source": "#### NaN values in 'classification' column",
   "id": "78c49683adf1b484"
  },
  {
   "metadata": {
    "ExecuteTime": {
     "end_time": "2024-06-13T01:47:50.028400Z",
     "start_time": "2024-06-13T01:47:50.003743Z"
    }
   },
   "cell_type": "code",
   "source": "resta_df['classification'].isna().sum()",
   "id": "99927ba0c143bea1",
   "outputs": [
    {
     "data": {
      "text/plain": [
       "30795"
      ]
     },
     "execution_count": 49,
     "metadata": {},
     "output_type": "execute_result"
    }
   ],
   "execution_count": 49
  },
  {
   "metadata": {
    "ExecuteTime": {
     "end_time": "2024-06-13T01:48:02.953619Z",
     "start_time": "2024-06-13T01:48:02.911182Z"
    }
   },
   "cell_type": "code",
   "source": "resta_df[['classification','product']][resta_df['classification'].isna()].sample(5)",
   "id": "b818bf335dbf6a4e",
   "outputs": [
    {
     "data": {
      "text/plain": [
       "       classification            product\n",
       "381599            NaN    Del valle 1 Ltr\n",
       "176651            NaN      Salsa Picante\n",
       "214317            NaN  Papas adicionales\n",
       "310497            NaN     salsa albahaca\n",
       "351291            NaN     salsa teriyaki"
      ],
      "text/html": [
       "<div>\n",
       "<style scoped>\n",
       "    .dataframe tbody tr th:only-of-type {\n",
       "        vertical-align: middle;\n",
       "    }\n",
       "\n",
       "    .dataframe tbody tr th {\n",
       "        vertical-align: top;\n",
       "    }\n",
       "\n",
       "    .dataframe thead th {\n",
       "        text-align: right;\n",
       "    }\n",
       "</style>\n",
       "<table border=\"1\" class=\"dataframe\">\n",
       "  <thead>\n",
       "    <tr style=\"text-align: right;\">\n",
       "      <th></th>\n",
       "      <th>classification</th>\n",
       "      <th>product</th>\n",
       "    </tr>\n",
       "  </thead>\n",
       "  <tbody>\n",
       "    <tr>\n",
       "      <th>381599</th>\n",
       "      <td>NaN</td>\n",
       "      <td>Del valle 1 Ltr</td>\n",
       "    </tr>\n",
       "    <tr>\n",
       "      <th>176651</th>\n",
       "      <td>NaN</td>\n",
       "      <td>Salsa Picante</td>\n",
       "    </tr>\n",
       "    <tr>\n",
       "      <th>214317</th>\n",
       "      <td>NaN</td>\n",
       "      <td>Papas adicionales</td>\n",
       "    </tr>\n",
       "    <tr>\n",
       "      <th>310497</th>\n",
       "      <td>NaN</td>\n",
       "      <td>salsa albahaca</td>\n",
       "    </tr>\n",
       "    <tr>\n",
       "      <th>351291</th>\n",
       "      <td>NaN</td>\n",
       "      <td>salsa teriyaki</td>\n",
       "    </tr>\n",
       "  </tbody>\n",
       "</table>\n",
       "</div>"
      ]
     },
     "execution_count": 51,
     "metadata": {},
     "output_type": "execute_result"
    }
   ],
   "execution_count": 51
  },
  {
   "metadata": {},
   "cell_type": "markdown",
   "source": "According to the data source whenever there are null values in parent_product, means that parent product value is equal to product. ",
   "id": "6c3590cbcb9d360a"
  },
  {
   "metadata": {
    "ExecuteTime": {
     "end_time": "2024-06-13T01:51:11.512938Z",
     "start_time": "2024-06-13T01:51:11.478212Z"
    }
   },
   "cell_type": "code",
   "source": [
    "#Fill null values with values which are in column product \n",
    "#resta_df['classification'].fillna(resta_df['product'], inplace=True)\n",
    "\n",
    "resta_df.fillna({'classification': 'product'}, inplace=True)"
   ],
   "id": "efcdbe9cddc36c76",
   "outputs": [],
   "execution_count": 53
  },
  {
   "metadata": {
    "ExecuteTime": {
     "end_time": "2024-06-13T01:51:44.488968Z",
     "start_time": "2024-06-13T01:51:44.461056Z"
    }
   },
   "cell_type": "code",
   "source": "resta_df['classification'].isna().sum()",
   "id": "43b6bc940c3ac0b",
   "outputs": [
    {
     "data": {
      "text/plain": [
       "0"
      ]
     },
     "execution_count": 54,
     "metadata": {},
     "output_type": "execute_result"
    }
   ],
   "execution_count": 54
  },
  {
   "metadata": {},
   "cell_type": "markdown",
   "source": [
    "#### NaN values in modification_reason column.\n",
    "modification_reason, modification_dates, modification_time are related to is_cancelled column, meaning that whenever there is a cancellation there will be data in these columns, otherwise only False in is_cancelled column. NaN values qdont require to be erased yet, but NAN values in 'modification_reason'  could be replaced by 'Ninguna'."
   ],
   "id": "612963dba7562f38"
  },
  {
   "metadata": {
    "ExecuteTime": {
     "end_time": "2024-06-13T01:52:40.327965Z",
     "start_time": "2024-06-13T01:52:40.308356Z"
    }
   },
   "cell_type": "code",
   "source": "resta_df['modification_reason'].isna().sum()",
   "id": "97d93403a0b970c7",
   "outputs": [
    {
     "data": {
      "text/plain": [
       "505528"
      ]
     },
     "execution_count": 55,
     "metadata": {},
     "output_type": "execute_result"
    }
   ],
   "execution_count": 55
  },
  {
   "metadata": {
    "ExecuteTime": {
     "end_time": "2024-06-13T01:52:57.088326Z",
     "start_time": "2024-06-13T01:52:57.005582Z"
    }
   },
   "cell_type": "code",
   "source": "resta_df[['modification_date','modification_reason','is_cancelled']][resta_df['modification_date'].isna()].sample(5)",
   "id": "86ba359445f87bcc",
   "outputs": [
    {
     "data": {
      "text/plain": [
       "       modification_date modification_reason is_cancelled\n",
       "426264               NaN                 NaN        False\n",
       "93902                NaN                 NaN        False\n",
       "395031               NaN                 NaN        False\n",
       "239649               NaN                 NaN        False\n",
       "445783               NaN                 NaN        False"
      ],
      "text/html": [
       "<div>\n",
       "<style scoped>\n",
       "    .dataframe tbody tr th:only-of-type {\n",
       "        vertical-align: middle;\n",
       "    }\n",
       "\n",
       "    .dataframe tbody tr th {\n",
       "        vertical-align: top;\n",
       "    }\n",
       "\n",
       "    .dataframe thead th {\n",
       "        text-align: right;\n",
       "    }\n",
       "</style>\n",
       "<table border=\"1\" class=\"dataframe\">\n",
       "  <thead>\n",
       "    <tr style=\"text-align: right;\">\n",
       "      <th></th>\n",
       "      <th>modification_date</th>\n",
       "      <th>modification_reason</th>\n",
       "      <th>is_cancelled</th>\n",
       "    </tr>\n",
       "  </thead>\n",
       "  <tbody>\n",
       "    <tr>\n",
       "      <th>426264</th>\n",
       "      <td>NaN</td>\n",
       "      <td>NaN</td>\n",
       "      <td>False</td>\n",
       "    </tr>\n",
       "    <tr>\n",
       "      <th>93902</th>\n",
       "      <td>NaN</td>\n",
       "      <td>NaN</td>\n",
       "      <td>False</td>\n",
       "    </tr>\n",
       "    <tr>\n",
       "      <th>395031</th>\n",
       "      <td>NaN</td>\n",
       "      <td>NaN</td>\n",
       "      <td>False</td>\n",
       "    </tr>\n",
       "    <tr>\n",
       "      <th>239649</th>\n",
       "      <td>NaN</td>\n",
       "      <td>NaN</td>\n",
       "      <td>False</td>\n",
       "    </tr>\n",
       "    <tr>\n",
       "      <th>445783</th>\n",
       "      <td>NaN</td>\n",
       "      <td>NaN</td>\n",
       "      <td>False</td>\n",
       "    </tr>\n",
       "  </tbody>\n",
       "</table>\n",
       "</div>"
      ]
     },
     "execution_count": 57,
     "metadata": {},
     "output_type": "execute_result"
    }
   ],
   "execution_count": 57
  },
  {
   "metadata": {
    "ExecuteTime": {
     "end_time": "2024-06-13T01:53:23.513298Z",
     "start_time": "2024-06-13T01:53:23.467317Z"
    }
   },
   "cell_type": "code",
   "source": "resta_df[~resta_df['modification_reason'].isna()].sample(5)",
   "id": "e45b40d89e90011b",
   "outputs": [
    {
     "data": {
      "text/plain": [
       "        order_id system_date                time group_classifier  \\\n",
       "46384      84231  2017-07-19 1900-01-01 20:50:19            OTROS   \n",
       "123427    219853  2018-07-26 1900-01-01 15:10:00             MENU   \n",
       "82780     140023  2018-02-02 1900-01-01 21:58:49             MENU   \n",
       "205850    348514  2019-05-18 1900-01-01 15:45:39          BEBIDAS   \n",
       "212708    359968  2019-06-08 1900-01-01 13:33:36             MENU   \n",
       "\n",
       "           classification          product prod_state  price  quantity  \\\n",
       "46384       Salsa Picante    Salsa Picante     ACTIVO    3.0         1   \n",
       "123427             Platos      CHILI MEXIC     ACTIVO   20.0         8   \n",
       "82780   Alitas 8 UNIDADES  Alitas Barbacoa     ACTIVO   27.0         1   \n",
       "205850               1 LT    Coca Cola 1LT     ACTIVO   12.0         1   \n",
       "212708  Alitas 8 UNIDADES  Alitas Picantes     ACTIVO   28.0         1   \n",
       "\n",
       "        to_pay_xprod  ...         location order_number  \\\n",
       "46384            3.0  ...     . - Sin Mesa           69   \n",
       "123427         160.0  ...  0 - Para llevar           50   \n",
       "82780           27.0  ...  0 - Para llevar          143   \n",
       "205850          12.0  ...       1 - Mesa 1           60   \n",
       "212708          28.0  ...     17 - Mesa 17           25   \n",
       "\n",
       "                    modification_date               modification_reason  \\\n",
       "46384   2017-07-19 21:19:23.297000000                          NO SALIO   \n",
       "123427  2018-07-26 17:30:17.573000000    porq ue se canselo su reunion    \n",
       "82780   2018-02-02 21:59:22.433000000  que solo queria una sola alaita    \n",
       "205850  2019-05-18 15:48:24.257000000                             NO HY   \n",
       "212708  2019-06-08 13:57:29.483000000                     PSO DE TIEMPO   \n",
       "\n",
       "        is_cancelled  is_courtesy   status  start_balance end_balance  \\\n",
       "46384           True        False  CERRADO            0.0         0.0   \n",
       "123427          True        False  CERRADO            0.0         0.0   \n",
       "82780           True        False  CERRADO            0.0         0.0   \n",
       "205850          True        False  CERRADO            0.0         0.0   \n",
       "212708          True        False  CERRADO            0.0         0.0   \n",
       "\n",
       "       stateprod  \n",
       "46384     ACTIVO  \n",
       "123427    ACTIVO  \n",
       "82780     ACTIVO  \n",
       "205850    ACTIVO  \n",
       "212708    ACTIVO  \n",
       "\n",
       "[5 rows x 26 columns]"
      ],
      "text/html": [
       "<div>\n",
       "<style scoped>\n",
       "    .dataframe tbody tr th:only-of-type {\n",
       "        vertical-align: middle;\n",
       "    }\n",
       "\n",
       "    .dataframe tbody tr th {\n",
       "        vertical-align: top;\n",
       "    }\n",
       "\n",
       "    .dataframe thead th {\n",
       "        text-align: right;\n",
       "    }\n",
       "</style>\n",
       "<table border=\"1\" class=\"dataframe\">\n",
       "  <thead>\n",
       "    <tr style=\"text-align: right;\">\n",
       "      <th></th>\n",
       "      <th>order_id</th>\n",
       "      <th>system_date</th>\n",
       "      <th>time</th>\n",
       "      <th>group_classifier</th>\n",
       "      <th>classification</th>\n",
       "      <th>product</th>\n",
       "      <th>prod_state</th>\n",
       "      <th>price</th>\n",
       "      <th>quantity</th>\n",
       "      <th>to_pay_xprod</th>\n",
       "      <th>...</th>\n",
       "      <th>location</th>\n",
       "      <th>order_number</th>\n",
       "      <th>modification_date</th>\n",
       "      <th>modification_reason</th>\n",
       "      <th>is_cancelled</th>\n",
       "      <th>is_courtesy</th>\n",
       "      <th>status</th>\n",
       "      <th>start_balance</th>\n",
       "      <th>end_balance</th>\n",
       "      <th>stateprod</th>\n",
       "    </tr>\n",
       "  </thead>\n",
       "  <tbody>\n",
       "    <tr>\n",
       "      <th>46384</th>\n",
       "      <td>84231</td>\n",
       "      <td>2017-07-19</td>\n",
       "      <td>1900-01-01 20:50:19</td>\n",
       "      <td>OTROS</td>\n",
       "      <td>Salsa Picante</td>\n",
       "      <td>Salsa Picante</td>\n",
       "      <td>ACTIVO</td>\n",
       "      <td>3.0</td>\n",
       "      <td>1</td>\n",
       "      <td>3.0</td>\n",
       "      <td>...</td>\n",
       "      <td>. - Sin Mesa</td>\n",
       "      <td>69</td>\n",
       "      <td>2017-07-19 21:19:23.297000000</td>\n",
       "      <td>NO SALIO</td>\n",
       "      <td>True</td>\n",
       "      <td>False</td>\n",
       "      <td>CERRADO</td>\n",
       "      <td>0.0</td>\n",
       "      <td>0.0</td>\n",
       "      <td>ACTIVO</td>\n",
       "    </tr>\n",
       "    <tr>\n",
       "      <th>123427</th>\n",
       "      <td>219853</td>\n",
       "      <td>2018-07-26</td>\n",
       "      <td>1900-01-01 15:10:00</td>\n",
       "      <td>MENU</td>\n",
       "      <td>Platos</td>\n",
       "      <td>CHILI MEXIC</td>\n",
       "      <td>ACTIVO</td>\n",
       "      <td>20.0</td>\n",
       "      <td>8</td>\n",
       "      <td>160.0</td>\n",
       "      <td>...</td>\n",
       "      <td>0 - Para llevar</td>\n",
       "      <td>50</td>\n",
       "      <td>2018-07-26 17:30:17.573000000</td>\n",
       "      <td>porq ue se canselo su reunion</td>\n",
       "      <td>True</td>\n",
       "      <td>False</td>\n",
       "      <td>CERRADO</td>\n",
       "      <td>0.0</td>\n",
       "      <td>0.0</td>\n",
       "      <td>ACTIVO</td>\n",
       "    </tr>\n",
       "    <tr>\n",
       "      <th>82780</th>\n",
       "      <td>140023</td>\n",
       "      <td>2018-02-02</td>\n",
       "      <td>1900-01-01 21:58:49</td>\n",
       "      <td>MENU</td>\n",
       "      <td>Alitas 8 UNIDADES</td>\n",
       "      <td>Alitas Barbacoa</td>\n",
       "      <td>ACTIVO</td>\n",
       "      <td>27.0</td>\n",
       "      <td>1</td>\n",
       "      <td>27.0</td>\n",
       "      <td>...</td>\n",
       "      <td>0 - Para llevar</td>\n",
       "      <td>143</td>\n",
       "      <td>2018-02-02 21:59:22.433000000</td>\n",
       "      <td>que solo queria una sola alaita</td>\n",
       "      <td>True</td>\n",
       "      <td>False</td>\n",
       "      <td>CERRADO</td>\n",
       "      <td>0.0</td>\n",
       "      <td>0.0</td>\n",
       "      <td>ACTIVO</td>\n",
       "    </tr>\n",
       "    <tr>\n",
       "      <th>205850</th>\n",
       "      <td>348514</td>\n",
       "      <td>2019-05-18</td>\n",
       "      <td>1900-01-01 15:45:39</td>\n",
       "      <td>BEBIDAS</td>\n",
       "      <td>1 LT</td>\n",
       "      <td>Coca Cola 1LT</td>\n",
       "      <td>ACTIVO</td>\n",
       "      <td>12.0</td>\n",
       "      <td>1</td>\n",
       "      <td>12.0</td>\n",
       "      <td>...</td>\n",
       "      <td>1 - Mesa 1</td>\n",
       "      <td>60</td>\n",
       "      <td>2019-05-18 15:48:24.257000000</td>\n",
       "      <td>NO HY</td>\n",
       "      <td>True</td>\n",
       "      <td>False</td>\n",
       "      <td>CERRADO</td>\n",
       "      <td>0.0</td>\n",
       "      <td>0.0</td>\n",
       "      <td>ACTIVO</td>\n",
       "    </tr>\n",
       "    <tr>\n",
       "      <th>212708</th>\n",
       "      <td>359968</td>\n",
       "      <td>2019-06-08</td>\n",
       "      <td>1900-01-01 13:33:36</td>\n",
       "      <td>MENU</td>\n",
       "      <td>Alitas 8 UNIDADES</td>\n",
       "      <td>Alitas Picantes</td>\n",
       "      <td>ACTIVO</td>\n",
       "      <td>28.0</td>\n",
       "      <td>1</td>\n",
       "      <td>28.0</td>\n",
       "      <td>...</td>\n",
       "      <td>17 - Mesa 17</td>\n",
       "      <td>25</td>\n",
       "      <td>2019-06-08 13:57:29.483000000</td>\n",
       "      <td>PSO DE TIEMPO</td>\n",
       "      <td>True</td>\n",
       "      <td>False</td>\n",
       "      <td>CERRADO</td>\n",
       "      <td>0.0</td>\n",
       "      <td>0.0</td>\n",
       "      <td>ACTIVO</td>\n",
       "    </tr>\n",
       "  </tbody>\n",
       "</table>\n",
       "<p>5 rows × 26 columns</p>\n",
       "</div>"
      ]
     },
     "execution_count": 59,
     "metadata": {},
     "output_type": "execute_result"
    }
   ],
   "execution_count": 59
  },
  {
   "metadata": {
    "ExecuteTime": {
     "end_time": "2024-06-13T01:54:05.698359Z",
     "start_time": "2024-06-13T01:54:05.672735Z"
    }
   },
   "cell_type": "code",
   "source": "resta_df.loc[resta_df['modification_reason'].isna(),'modification_reason']='Ninguna'",
   "id": "2c488bbf21a59d19",
   "outputs": [],
   "execution_count": 60
  },
  {
   "metadata": {
    "ExecuteTime": {
     "end_time": "2024-06-13T01:54:11.688234Z",
     "start_time": "2024-06-13T01:54:11.662218Z"
    }
   },
   "cell_type": "code",
   "source": "resta_df['modification_reason'].isna().sum()",
   "id": "8a9168fe1eea6177",
   "outputs": [
    {
     "data": {
      "text/plain": [
       "0"
      ]
     },
     "execution_count": 61,
     "metadata": {},
     "output_type": "execute_result"
    }
   ],
   "execution_count": 61
  },
  {
   "metadata": {},
   "cell_type": "code",
   "outputs": [],
   "execution_count": null,
   "source": "",
   "id": "401098fc57214ef3"
  },
  {
   "metadata": {},
   "cell_type": "code",
   "outputs": [],
   "execution_count": null,
   "source": "",
   "id": "6b3997a47464d20f"
  }
 ],
 "metadata": {
  "kernelspec": {
   "display_name": "Python 3",
   "language": "python",
   "name": "python3"
  },
  "language_info": {
   "codemirror_mode": {
    "name": "ipython",
    "version": 2
   },
   "file_extension": ".py",
   "mimetype": "text/x-python",
   "name": "python",
   "nbconvert_exporter": "python",
   "pygments_lexer": "ipython2",
   "version": "2.7.6"
  }
 },
 "nbformat": 4,
 "nbformat_minor": 5
}
