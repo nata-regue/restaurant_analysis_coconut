{
 "cells": [
  {
   "cell_type": "code",
   "id": "initial_id",
   "metadata": {
    "collapsed": true,
    "ExecuteTime": {
     "end_time": "2024-07-03T20:42:38.199595500Z",
     "start_time": "2024-07-03T20:42:35.417335500Z"
    }
   },
   "source": [
    "import pandas as pd\n",
    "import numpy as np\n",
    "import matplotlib.pyplot as plt\n",
    "import seaborn as sns"
   ],
   "outputs": [],
   "execution_count": 20
  },
  {
   "cell_type": "code",
   "id": "bc56d788",
   "metadata": {
    "ExecuteTime": {
     "end_time": "2024-07-03T20:42:44.420812200Z",
     "start_time": "2024-07-03T20:42:35.420715Z"
    }
   },
   "source": [
    "import re"
   ],
   "outputs": [],
   "execution_count": 21
  },
  {
   "cell_type": "markdown",
   "id": "76e759b9070f578b",
   "metadata": {},
   "source": [
    "## Analyze sales data to identify opportunities for growth and optimization. "
   ]
  },
  {
   "cell_type": "code",
   "id": "730cdbe0b8cd5675",
   "metadata": {
    "ExecuteTime": {
     "end_time": "2024-07-03T20:42:46.602800700Z",
     "start_time": "2024-07-03T20:42:35.612917Z"
    }
   },
   "source": [
    "path='./data/prueba3.csv'"
   ],
   "outputs": [],
   "execution_count": 22
  },
  {
   "cell_type": "code",
   "id": "5b54a3344502cef4",
   "metadata": {
    "ExecuteTime": {
     "end_time": "2024-07-03T20:42:48.371115800Z",
     "start_time": "2024-07-03T20:42:35.845263500Z"
    }
   },
   "source": [
    "dtype_spec = {\n",
    "    19: 'str',   \n",
    "    20: 'str',   \n",
    "    21: 'str',   \n",
    "    22: 'str'\n",
    "}"
   ],
   "outputs": [],
   "execution_count": 23
  },
  {
   "cell_type": "code",
   "id": "5435742ca96cd3d",
   "metadata": {
    "ExecuteTime": {
     "end_time": "2024-07-03T20:42:58.965124200Z",
     "start_time": "2024-07-03T20:42:35.972725200Z"
    }
   },
   "source": [
    "resta_df_original = pd.read_csv(path,on_bad_lines='skip', sep=',', dtype=dtype_spec, low_memory=False)"
   ],
   "outputs": [],
   "execution_count": 24
  },
  {
   "cell_type": "code",
   "id": "de2430c7d189ca31",
   "metadata": {
    "ExecuteTime": {
     "end_time": "2024-07-03T20:42:59.607198400Z",
     "start_time": "2024-07-03T20:42:37.229426600Z"
    }
   },
   "source": [
    "#Make a copy from the original dataset\n",
    "resta_df = resta_df_original.copy()"
   ],
   "outputs": [],
   "execution_count": 25
  },
  {
   "cell_type": "markdown",
   "id": "333214a8e8e8dac3",
   "metadata": {},
   "source": [
    "## Exploratory Data Analysis"
   ]
  },
  {
   "cell_type": "code",
   "id": "3dcdc43bdb96bf3b",
   "metadata": {
    "ExecuteTime": {
     "end_time": "2024-07-03T20:43:06.175355500Z",
     "start_time": "2024-07-03T20:42:37.310682400Z"
    }
   },
   "source": [
    "resta_df.info()"
   ],
   "outputs": [
    {
     "name": "stdout",
     "output_type": "stream",
     "text": [
      "<class 'pandas.core.frame.DataFrame'>\n",
      "RangeIndex: 505575 entries, 0 to 505574\n",
      "Data columns (total 27 columns):\n",
      " #   Column                Non-Null Count   Dtype  \n",
      "---  ------                --------------   -----  \n",
      " 0   id_pedido             505575 non-null  int64  \n",
      " 1   fecha_sistema         505575 non-null  object \n",
      " 2   hora                  505575 non-null  object \n",
      " 3   clasificador_grupo    505575 non-null  object \n",
      " 4   clasificacion         474780 non-null  object \n",
      " 5   producto              505575 non-null  object \n",
      " 6   state                 505575 non-null  object \n",
      " 7   precio                505575 non-null  float64\n",
      " 8   cantidad              505575 non-null  int64  \n",
      " 9   a_pagar_xprod         505575 non-null  float64\n",
      " 10  pago_pedido_tot       505575 non-null  float64\n",
      " 11  product_observations  103879 non-null  object \n",
      " 12  tipo_forma_pago       505575 non-null  object \n",
      " 13  monto                 505575 non-null  float64\n",
      " 14  observaciones_pedido  0 non-null       float64\n",
      " 15  pagado_cliente        505575 non-null  float64\n",
      " 16  cambio                505575 non-null  float64\n",
      " 17  ubicacion             505575 non-null  object \n",
      " 18  numero_pedido         505575 non-null  int64  \n",
      " 19  fecha_modificacion    47 non-null      object \n",
      " 20  motivo_modificacion   47 non-null      object \n",
      " 21  es_anulado            47 non-null      object \n",
      " 22  es_cortesia           503679 non-null  object \n",
      " 23  estado                505575 non-null  object \n",
      " 24  saldo_inicial         505575 non-null  float64\n",
      " 25  saldo_final           504443 non-null  float64\n",
      " 26  stateprod             505575 non-null  object \n",
      "dtypes: float64(9), int64(3), object(15)\n",
      "memory usage: 104.1+ MB\n"
     ]
    }
   ],
   "execution_count": 26
  },
  {
   "cell_type": "code",
   "id": "acd1c65afea030fd",
   "metadata": {
    "ExecuteTime": {
     "end_time": "2024-07-03T20:43:06.178405900Z",
     "start_time": "2024-07-03T20:42:38.257168600Z"
    }
   },
   "source": [
    "resta_df.shape"
   ],
   "outputs": [
    {
     "data": {
      "text/plain": "(505575, 27)"
     },
     "execution_count": 27,
     "metadata": {},
     "output_type": "execute_result"
    }
   ],
   "execution_count": 27
  },
  {
   "cell_type": "code",
   "id": "2f2503259a65ca7b",
   "metadata": {
    "ExecuteTime": {
     "end_time": "2024-07-03T20:43:06.179351100Z",
     "start_time": "2024-07-03T20:42:39.001461600Z"
    }
   },
   "source": [
    "resta_df.size"
   ],
   "outputs": [
    {
     "data": {
      "text/plain": "13650525"
     },
     "execution_count": 28,
     "metadata": {},
     "output_type": "execute_result"
    }
   ],
   "execution_count": 28
  },
  {
   "cell_type": "code",
   "id": "e9e23a5f3da6ab30",
   "metadata": {
    "ExecuteTime": {
     "end_time": "2024-07-03T20:43:06.180330900Z",
     "start_time": "2024-07-03T20:42:39.872560200Z"
    }
   },
   "source": [
    "resta_df.head()"
   ],
   "outputs": [
    {
     "data": {
      "text/plain": "   id_pedido fecha_sistema              hora clasificador_grupo   \n0       3208    2016-07-05  21:46:33.0000000               MENU  \\\n1       3209    2016-07-05  22:00:30.0000000               MENU   \n2       3210    2016-07-05  23:04:04.0000000               MENU   \n3       3210    2016-07-05  23:04:04.0000000            BEBIDAS   \n4       3211    2016-07-07  23:03:19.0000000               MENU   \n\n       clasificacion           producto   state  precio  cantidad   \n0         Sandwiches        Niki's club  ACTIVO    18.0         1  \\\n1         Sandwiches  Sand de Pollo BBQ  ACTIVO    20.0         1   \n2            Fingers       Fingers miel  ACTIVO    22.0         1   \n3      jugos - aguas       Aquarius 500  ACTIVO     8.0         1   \n4  Alitas 8 UNIDADES    Alitas Barbacoa  ACTIVO    27.0         1   \n\n   a_pagar_xprod  ...        ubicacion numero_pedido fecha_modificacion   \n0           18.0  ...  0 - Para llevar             2                NaN  \\\n1           20.0  ...       1 - Mesa 1             3                NaN   \n2           22.0  ...  0 - Para llevar             3                NaN   \n3            8.0  ...  0 - Para llevar             3                NaN   \n4           27.0  ...     20 - Mesa 20             1                NaN   \n\n   motivo_modificacion  es_anulado  es_cortesia   estado saldo_inicial   \n0                  NaN         NaN          NaN  CERRADO         500.0  \\\n1                  NaN         NaN          NaN  CERRADO         500.0   \n2                  NaN         NaN          NaN  CERRADO         500.0   \n3                  NaN         NaN          NaN  CERRADO         500.0   \n4                  NaN         NaN          NaN  CERRADO         500.0   \n\n   saldo_final stateprod  \n0        620.0    ACTIVO  \n1        620.0    ACTIVO  \n2        620.0    ACTIVO  \n3        620.0    ACTIVO  \n4          0.0    ACTIVO  \n\n[5 rows x 27 columns]",
      "text/html": "<div>\n<style scoped>\n    .dataframe tbody tr th:only-of-type {\n        vertical-align: middle;\n    }\n\n    .dataframe tbody tr th {\n        vertical-align: top;\n    }\n\n    .dataframe thead th {\n        text-align: right;\n    }\n</style>\n<table border=\"1\" class=\"dataframe\">\n  <thead>\n    <tr style=\"text-align: right;\">\n      <th></th>\n      <th>id_pedido</th>\n      <th>fecha_sistema</th>\n      <th>hora</th>\n      <th>clasificador_grupo</th>\n      <th>clasificacion</th>\n      <th>producto</th>\n      <th>state</th>\n      <th>precio</th>\n      <th>cantidad</th>\n      <th>a_pagar_xprod</th>\n      <th>...</th>\n      <th>ubicacion</th>\n      <th>numero_pedido</th>\n      <th>fecha_modificacion</th>\n      <th>motivo_modificacion</th>\n      <th>es_anulado</th>\n      <th>es_cortesia</th>\n      <th>estado</th>\n      <th>saldo_inicial</th>\n      <th>saldo_final</th>\n      <th>stateprod</th>\n    </tr>\n  </thead>\n  <tbody>\n    <tr>\n      <th>0</th>\n      <td>3208</td>\n      <td>2016-07-05</td>\n      <td>21:46:33.0000000</td>\n      <td>MENU</td>\n      <td>Sandwiches</td>\n      <td>Niki's club</td>\n      <td>ACTIVO</td>\n      <td>18.0</td>\n      <td>1</td>\n      <td>18.0</td>\n      <td>...</td>\n      <td>0 - Para llevar</td>\n      <td>2</td>\n      <td>NaN</td>\n      <td>NaN</td>\n      <td>NaN</td>\n      <td>NaN</td>\n      <td>CERRADO</td>\n      <td>500.0</td>\n      <td>620.0</td>\n      <td>ACTIVO</td>\n    </tr>\n    <tr>\n      <th>1</th>\n      <td>3209</td>\n      <td>2016-07-05</td>\n      <td>22:00:30.0000000</td>\n      <td>MENU</td>\n      <td>Sandwiches</td>\n      <td>Sand de Pollo BBQ</td>\n      <td>ACTIVO</td>\n      <td>20.0</td>\n      <td>1</td>\n      <td>20.0</td>\n      <td>...</td>\n      <td>1 - Mesa 1</td>\n      <td>3</td>\n      <td>NaN</td>\n      <td>NaN</td>\n      <td>NaN</td>\n      <td>NaN</td>\n      <td>CERRADO</td>\n      <td>500.0</td>\n      <td>620.0</td>\n      <td>ACTIVO</td>\n    </tr>\n    <tr>\n      <th>2</th>\n      <td>3210</td>\n      <td>2016-07-05</td>\n      <td>23:04:04.0000000</td>\n      <td>MENU</td>\n      <td>Fingers</td>\n      <td>Fingers miel</td>\n      <td>ACTIVO</td>\n      <td>22.0</td>\n      <td>1</td>\n      <td>22.0</td>\n      <td>...</td>\n      <td>0 - Para llevar</td>\n      <td>3</td>\n      <td>NaN</td>\n      <td>NaN</td>\n      <td>NaN</td>\n      <td>NaN</td>\n      <td>CERRADO</td>\n      <td>500.0</td>\n      <td>620.0</td>\n      <td>ACTIVO</td>\n    </tr>\n    <tr>\n      <th>3</th>\n      <td>3210</td>\n      <td>2016-07-05</td>\n      <td>23:04:04.0000000</td>\n      <td>BEBIDAS</td>\n      <td>jugos - aguas</td>\n      <td>Aquarius 500</td>\n      <td>ACTIVO</td>\n      <td>8.0</td>\n      <td>1</td>\n      <td>8.0</td>\n      <td>...</td>\n      <td>0 - Para llevar</td>\n      <td>3</td>\n      <td>NaN</td>\n      <td>NaN</td>\n      <td>NaN</td>\n      <td>NaN</td>\n      <td>CERRADO</td>\n      <td>500.0</td>\n      <td>620.0</td>\n      <td>ACTIVO</td>\n    </tr>\n    <tr>\n      <th>4</th>\n      <td>3211</td>\n      <td>2016-07-07</td>\n      <td>23:03:19.0000000</td>\n      <td>MENU</td>\n      <td>Alitas 8 UNIDADES</td>\n      <td>Alitas Barbacoa</td>\n      <td>ACTIVO</td>\n      <td>27.0</td>\n      <td>1</td>\n      <td>27.0</td>\n      <td>...</td>\n      <td>20 - Mesa 20</td>\n      <td>1</td>\n      <td>NaN</td>\n      <td>NaN</td>\n      <td>NaN</td>\n      <td>NaN</td>\n      <td>CERRADO</td>\n      <td>500.0</td>\n      <td>0.0</td>\n      <td>ACTIVO</td>\n    </tr>\n  </tbody>\n</table>\n<p>5 rows × 27 columns</p>\n</div>"
     },
     "execution_count": 29,
     "metadata": {},
     "output_type": "execute_result"
    }
   ],
   "execution_count": 29
  },
  {
   "cell_type": "code",
   "id": "41bb99c30cc678f5",
   "metadata": {
    "ExecuteTime": {
     "end_time": "2024-07-03T20:43:06.180330900Z",
     "start_time": "2024-07-03T20:42:40.804180600Z"
    }
   },
   "source": [
    "resta_df.columns"
   ],
   "outputs": [
    {
     "data": {
      "text/plain": "Index(['id_pedido', 'fecha_sistema', 'hora', 'clasificador_grupo',\n       'clasificacion', 'producto', 'state', 'precio', 'cantidad',\n       'a_pagar_xprod', 'pago_pedido_tot', 'product_observations',\n       'tipo_forma_pago', 'monto', 'observaciones_pedido', 'pagado_cliente',\n       'cambio', 'ubicacion', 'numero_pedido', 'fecha_modificacion',\n       'motivo_modificacion', 'es_anulado', 'es_cortesia', 'estado',\n       'saldo_inicial', 'saldo_final', 'stateprod'],\n      dtype='object')"
     },
     "execution_count": 30,
     "metadata": {},
     "output_type": "execute_result"
    }
   ],
   "execution_count": 30
  },
  {
   "cell_type": "code",
   "id": "c38f4ca8ef733d1f",
   "metadata": {
    "ExecuteTime": {
     "end_time": "2024-07-03T20:43:06.180330900Z",
     "start_time": "2024-07-03T20:42:41.812951Z"
    }
   },
   "source": [
    "#Change column names\n",
    "resta_df.columns=['order_id', 'system_date', 'time', 'group_classifier',\n",
    "        'classification', 'product', 'prod_state', 'price', 'quantity',\n",
    "        'to_pay_xprod', 'tot_order_payment', 'product_observations',\n",
    "        'type_payment_form', 'amount', 'order_observations', 'customer_pay',\n",
    "        'change', 'location', 'order_number', 'modification_date',\n",
    "        'modification_reason', 'is_cancelled', 'is_courtesy', 'status',\n",
    "        'start_balance', 'end_balance', 'stateprod']"
   ],
   "outputs": [],
   "execution_count": 31
  },
  {
   "cell_type": "markdown",
   "id": "8c55882cad7b5fe9",
   "metadata": {},
   "source": [
    "### Reviewing data types"
   ]
  },
  {
   "cell_type": "code",
   "id": "7bc8b777398a806c",
   "metadata": {
    "ExecuteTime": {
     "end_time": "2024-07-03T20:43:06.181411Z",
     "start_time": "2024-07-03T20:42:42.323027500Z"
    }
   },
   "source": [
    "resta_df.dtypes"
   ],
   "outputs": [
    {
     "data": {
      "text/plain": "order_id                  int64\nsystem_date              object\ntime                     object\ngroup_classifier         object\nclassification           object\nproduct                  object\nprod_state               object\nprice                   float64\nquantity                  int64\nto_pay_xprod            float64\ntot_order_payment       float64\nproduct_observations     object\ntype_payment_form        object\namount                  float64\norder_observations      float64\ncustomer_pay            float64\nchange                  float64\nlocation                 object\norder_number              int64\nmodification_date        object\nmodification_reason      object\nis_cancelled             object\nis_courtesy              object\nstatus                   object\nstart_balance           float64\nend_balance             float64\nstateprod                object\ndtype: object"
     },
     "execution_count": 32,
     "metadata": {},
     "output_type": "execute_result"
    }
   ],
   "execution_count": 32
  },
  {
   "cell_type": "code",
   "id": "2d9682f437c751d9",
   "metadata": {
    "ExecuteTime": {
     "end_time": "2024-07-03T20:43:06.182430200Z",
     "start_time": "2024-07-03T20:42:42.455129Z"
    }
   },
   "source": [
    "# Convert data type to date time\n",
    "resta_df['system_date'] = pd.to_datetime(resta_df['system_date'], format='%Y-%m-%d')"
   ],
   "outputs": [],
   "execution_count": 33
  },
  {
   "cell_type": "code",
   "id": "f01aa53c58e3bce8",
   "metadata": {
    "ExecuteTime": {
     "end_time": "2024-07-03T20:43:06.182430200Z",
     "start_time": "2024-07-03T20:42:42.637283300Z"
    }
   },
   "source": [
    "resta_df['time'] = pd.to_datetime(resta_df['time'], format='%H:%M:%S.%f')"
   ],
   "outputs": [],
   "execution_count": 34
  },
  {
   "cell_type": "markdown",
   "id": "2abdcb0d623ade0c",
   "metadata": {},
   "source": [
    "#### Converto strings to lower case"
   ]
  },
  {
   "cell_type": "code",
   "id": "bd0ee1d622edd323",
   "metadata": {
    "ExecuteTime": {
     "end_time": "2024-07-03T20:43:06.182430200Z",
     "start_time": "2024-07-03T20:42:42.934031500Z"
    }
   },
   "source": [
    "# Place all string items in lower letters \n",
    "\n",
    "cols_to_lower=['classification', 'product', 'group_classifier','product_observations','location','prod_state','status','stateprod']\n",
    "\n",
    "for col in cols_to_lower:\n",
    "    if col in resta_df.columns:\n",
    "        resta_df[col] = resta_df[col].str.lower()"
   ],
   "outputs": [],
   "execution_count": 35
  },
  {
   "cell_type": "code",
   "id": "4e70066db208f43f",
   "metadata": {
    "ExecuteTime": {
     "end_time": "2024-07-03T20:43:06.538030800Z",
     "start_time": "2024-07-03T20:42:43.604123600Z"
    }
   },
   "source": [
    "#Delete any space before or after any value in the dataset\n",
    "resta_df = resta_df.applymap(lambda x:x.strip() if isinstance(x,str) else x)"
   ],
   "outputs": [],
   "execution_count": 36
  },
  {
   "cell_type": "markdown",
   "id": "fb422be82abefb8a",
   "metadata": {},
   "source": [
    "### Understanding columns type"
   ]
  },
  {
   "cell_type": "code",
   "id": "1427c136262e070e",
   "metadata": {
    "ExecuteTime": {
     "end_time": "2024-07-03T20:43:06.539023500Z",
     "start_time": "2024-07-03T20:42:50.058154Z"
    }
   },
   "source": [
    "# categorical columns \n",
    "categoric_col = [col for col in resta_df.columns if resta_df[col].dtype == 'object']\n",
    "print(f'Categorical columns are: {categoric_col}')"
   ],
   "outputs": [
    {
     "name": "stdout",
     "output_type": "stream",
     "text": [
      "Categorical columns are: ['group_classifier', 'classification', 'product', 'prod_state', 'product_observations', 'type_payment_form', 'location', 'modification_date', 'modification_reason', 'is_cancelled', 'is_courtesy', 'status', 'stateprod']\n"
     ]
    }
   ],
   "execution_count": 37
  },
  {
   "cell_type": "code",
   "id": "182cd71b65f47018",
   "metadata": {
    "ExecuteTime": {
     "end_time": "2024-07-03T20:43:06.539023500Z",
     "start_time": "2024-07-03T20:42:50.065971100Z"
    }
   },
   "source": [
    "# numeric columns\n",
    "numeric_col =[col for col in resta_df.columns if resta_df[col].dtype !='object']\n",
    "print(f'Numeric columns are: {numeric_col}')"
   ],
   "outputs": [
    {
     "name": "stdout",
     "output_type": "stream",
     "text": [
      "Numeric columns are: ['order_id', 'system_date', 'time', 'price', 'quantity', 'to_pay_xprod', 'tot_order_payment', 'amount', 'order_observations', 'customer_pay', 'change', 'order_number', 'start_balance', 'end_balance']\n"
     ]
    }
   ],
   "execution_count": 38
  },
  {
   "cell_type": "code",
   "id": "19cdd6dbe2e1f52e",
   "metadata": {
    "ExecuteTime": {
     "end_time": "2024-07-03T20:43:06.540011300Z",
     "start_time": "2024-07-03T20:42:50.566729700Z"
    }
   },
   "source": [
    "# numerical but categorical variables\n",
    "num_but_categorical = [col for col in numeric_col if resta_df[col].nunique() <10]\n",
    "print(f'Numeric but categorical columns are: {num_but_categorical}')"
   ],
   "outputs": [
    {
     "name": "stdout",
     "output_type": "stream",
     "text": [
      "Numeric but categorical columns are: ['order_observations']\n"
     ]
    }
   ],
   "execution_count": 39
  },
  {
   "cell_type": "code",
   "id": "53fc504da7f1d4e1",
   "metadata": {
    "ExecuteTime": {
     "end_time": "2024-07-03T20:43:06.541024500Z",
     "start_time": "2024-07-03T20:42:51.262702100Z"
    }
   },
   "source": [
    "# Adding num_but_cat to cat_cols\n",
    "categoric_col = num_but_categorical + categoric_col\n",
    "print(f'Categorical columns are: {categoric_col}')"
   ],
   "outputs": [
    {
     "name": "stdout",
     "output_type": "stream",
     "text": [
      "Categorical columns are: ['order_observations', 'group_classifier', 'classification', 'product', 'prod_state', 'product_observations', 'type_payment_form', 'location', 'modification_date', 'modification_reason', 'is_cancelled', 'is_courtesy', 'status', 'stateprod']\n"
     ]
    }
   ],
   "execution_count": 40
  },
  {
   "cell_type": "code",
   "id": "6ac8ba19767b3eff",
   "metadata": {
    "ExecuteTime": {
     "end_time": "2024-07-03T20:43:06.541024500Z",
     "start_time": "2024-07-03T20:42:51.609732600Z"
    }
   },
   "source": [
    "numeric_datetime = ['system_date', 'time', 'modification_date']\n",
    "\n",
    "numeric_col = [col for col in numeric_col if col not in numeric_datetime and col not in num_but_categorical]\n",
    "\n",
    "# id_cols removing from num_cols\n",
    "id_cols = ['order_id', 'order_payment_id', 'order_number']\n",
    "numeric_col = [col for col in numeric_col if col not in id_cols]\n",
    "\n",
    "print(f\"Numerical Cols: {numeric_col} \\nCategorical Cols: {categoric_col} \\nNumerical but Categorical: {num_but_categorical}\")"
   ],
   "outputs": [
    {
     "name": "stdout",
     "output_type": "stream",
     "text": [
      "Numerical Cols: ['price', 'quantity', 'to_pay_xprod', 'tot_order_payment', 'amount', 'customer_pay', 'change', 'start_balance', 'end_balance'] \n",
      "Categorical Cols: ['order_observations', 'group_classifier', 'classification', 'product', 'prod_state', 'product_observations', 'type_payment_form', 'location', 'modification_date', 'modification_reason', 'is_cancelled', 'is_courtesy', 'status', 'stateprod'] \n",
      "Numerical but Categorical: ['order_observations']\n"
     ]
    }
   ],
   "execution_count": 41
  },
  {
   "cell_type": "markdown",
   "id": "c77226d61d8646c4",
   "metadata": {},
   "source": [
    "## EDA"
   ]
  },
  {
   "cell_type": "markdown",
   "id": "265b3bf876818831",
   "metadata": {},
   "source": [
    "### Missing values"
   ]
  },
  {
   "cell_type": "code",
   "id": "ca6c17dcae94092c",
   "metadata": {
    "ExecuteTime": {
     "end_time": "2024-07-03T20:43:06.542011200Z",
     "start_time": "2024-07-03T20:42:52.151356300Z"
    }
   },
   "source": [
    "#Determining how many values are null in percentage.\n",
    "((resta_df.isna().sum()/resta_df.shape[0])*100).sort_values(ascending=False)"
   ],
   "outputs": [
    {
     "data": {
      "text/plain": "order_observations      100.000000\nis_cancelled             99.990704\nmodification_reason      99.990704\nmodification_date        99.990704\nproduct_observations     79.453296\nclassification            6.091084\nis_courtesy               0.375019\nend_balance               0.223903\norder_id                  0.000000\ncustomer_pay              0.000000\nstart_balance             0.000000\nstatus                    0.000000\norder_number              0.000000\nlocation                  0.000000\nchange                    0.000000\namount                    0.000000\nsystem_date               0.000000\ntype_payment_form         0.000000\ntot_order_payment         0.000000\nto_pay_xprod              0.000000\nquantity                  0.000000\nprice                     0.000000\nprod_state                0.000000\nproduct                   0.000000\ngroup_classifier          0.000000\ntime                      0.000000\nstateprod                 0.000000\ndtype: float64"
     },
     "execution_count": 42,
     "metadata": {},
     "output_type": "execute_result"
    }
   ],
   "execution_count": 42
  },
  {
   "cell_type": "markdown",
   "id": "ebfe50bad74aa946",
   "metadata": {},
   "source": [
    "Since 'order_observations' has 100% of NaN values, is better to erase the entire column.\n"
   ]
  },
  {
   "cell_type": "code",
   "id": "77fa5f90a8bc0281",
   "metadata": {
    "ExecuteTime": {
     "end_time": "2024-07-03T20:43:06.542011200Z",
     "start_time": "2024-07-03T20:42:52.880229100Z"
    }
   },
   "source": [
    "resta_df.drop(columns='order_observations', axis=1, inplace=True)"
   ],
   "outputs": [],
   "execution_count": 43
  },
  {
   "cell_type": "code",
   "id": "b109750b2b2e0fef",
   "metadata": {
    "ExecuteTime": {
     "end_time": "2024-07-03T20:43:06.542973300Z",
     "start_time": "2024-07-03T20:42:53.640935800Z"
    }
   },
   "source": [
    "categoric_col.remove('order_observations')\n",
    "categoric_col"
   ],
   "outputs": [
    {
     "data": {
      "text/plain": "['group_classifier',\n 'classification',\n 'product',\n 'prod_state',\n 'product_observations',\n 'type_payment_form',\n 'location',\n 'modification_date',\n 'modification_reason',\n 'is_cancelled',\n 'is_courtesy',\n 'status',\n 'stateprod']"
     },
     "execution_count": 44,
     "metadata": {},
     "output_type": "execute_result"
    }
   ],
   "execution_count": 44
  },
  {
   "cell_type": "markdown",
   "id": "18be927f1952d41f",
   "metadata": {},
   "source": [
    "#### NULL VALUES IN 'is_canceled column' \n",
    "'is cancelled' is equivalent to say that an order has been annuled  "
   ]
  },
  {
   "cell_type": "code",
   "id": "7808980a531ddfda",
   "metadata": {
    "ExecuteTime": {
     "end_time": "2024-07-03T20:43:06.542973300Z",
     "start_time": "2024-07-03T20:42:53.756454300Z"
    }
   },
   "source": [
    "resta_df['is_cancelled'].value_counts()"
   ],
   "outputs": [
    {
     "data": {
      "text/plain": "is_cancelled\nTrue    47\nName: count, dtype: int64"
     },
     "execution_count": 45,
     "metadata": {},
     "output_type": "execute_result"
    }
   ],
   "execution_count": 45
  },
  {
   "cell_type": "code",
   "id": "4ccc936f2e35aec6",
   "metadata": {
    "ExecuteTime": {
     "end_time": "2024-07-03T20:43:06.542973300Z",
     "start_time": "2024-07-03T20:42:53.884612400Z"
    }
   },
   "source": [
    "#Get how many values are NAN in is cancelled column\n",
    "resta_df['is_cancelled'].isna().sum()"
   ],
   "outputs": [
    {
     "data": {
      "text/plain": "505528"
     },
     "execution_count": 46,
     "metadata": {},
     "output_type": "execute_result"
    }
   ],
   "execution_count": 46
  },
  {
   "cell_type": "code",
   "id": "efe9e13b0600eada",
   "metadata": {
    "ExecuteTime": {
     "end_time": "2024-07-03T20:43:06.543973200Z",
     "start_time": "2024-07-03T20:42:54.015018400Z"
    }
   },
   "source": [
    "#In which cases there was reported as 'cancelled'\n",
    "resta_df.loc[resta_df['is_cancelled']=='True', ['product','classification']].sample(5)\n"
   ],
   "outputs": [
    {
     "data": {
      "text/plain": "                    product             classification\n88875       alitas barbacoa          alitas 8 unidades\n95068           niki's club                 sandwiches\n94536   alitas miel mostaza          alitas 8 unidades\n200893   alitas buff 4 unid  alitas 4 unidades   19 bs\n86358   alitas miel mostaza          alitas 8 unidades",
      "text/html": "<div>\n<style scoped>\n    .dataframe tbody tr th:only-of-type {\n        vertical-align: middle;\n    }\n\n    .dataframe tbody tr th {\n        vertical-align: top;\n    }\n\n    .dataframe thead th {\n        text-align: right;\n    }\n</style>\n<table border=\"1\" class=\"dataframe\">\n  <thead>\n    <tr style=\"text-align: right;\">\n      <th></th>\n      <th>product</th>\n      <th>classification</th>\n    </tr>\n  </thead>\n  <tbody>\n    <tr>\n      <th>88875</th>\n      <td>alitas barbacoa</td>\n      <td>alitas 8 unidades</td>\n    </tr>\n    <tr>\n      <th>95068</th>\n      <td>niki's club</td>\n      <td>sandwiches</td>\n    </tr>\n    <tr>\n      <th>94536</th>\n      <td>alitas miel mostaza</td>\n      <td>alitas 8 unidades</td>\n    </tr>\n    <tr>\n      <th>200893</th>\n      <td>alitas buff 4 unid</td>\n      <td>alitas 4 unidades   19 bs</td>\n    </tr>\n    <tr>\n      <th>86358</th>\n      <td>alitas miel mostaza</td>\n      <td>alitas 8 unidades</td>\n    </tr>\n  </tbody>\n</table>\n</div>"
     },
     "execution_count": 47,
     "metadata": {},
     "output_type": "execute_result"
    }
   ],
   "execution_count": 47
  },
  {
   "cell_type": "code",
   "id": "f0122eea1334ac6d",
   "metadata": {
    "ExecuteTime": {
     "end_time": "2024-07-03T20:43:06.543973200Z",
     "start_time": "2024-07-03T20:42:54.151358600Z"
    }
   },
   "source": [
    "# If there was a customer who paid and there was a change given, so there has been a purchase completed. \n",
    "# Accordingly, couldn't be cancelled\n",
    "resta_df.loc[(resta_df['is_cancelled']=='True'),['product','to_pay_xprod','tot_order_payment','customer_pay','change','is_cancelled']].sample(5)"
   ],
   "outputs": [
    {
     "data": {
      "text/plain": "                    product  to_pay_xprod  tot_order_payment  customer_pay   \n94536   alitas miel mostaza          27.0               59.0          59.0  \\\n14121       alitas picantes          27.0               54.0          54.0   \n123427          chili mexic         160.0              160.0         160.0   \n205849     nachos con queso          64.0               76.0          76.0   \n88875       alitas barbacoa          27.0               29.5          29.5   \n\n        change is_cancelled  \n94536      0.0         True  \n14121      0.0         True  \n123427     0.0         True  \n205849     0.0         True  \n88875      0.0         True  ",
      "text/html": "<div>\n<style scoped>\n    .dataframe tbody tr th:only-of-type {\n        vertical-align: middle;\n    }\n\n    .dataframe tbody tr th {\n        vertical-align: top;\n    }\n\n    .dataframe thead th {\n        text-align: right;\n    }\n</style>\n<table border=\"1\" class=\"dataframe\">\n  <thead>\n    <tr style=\"text-align: right;\">\n      <th></th>\n      <th>product</th>\n      <th>to_pay_xprod</th>\n      <th>tot_order_payment</th>\n      <th>customer_pay</th>\n      <th>change</th>\n      <th>is_cancelled</th>\n    </tr>\n  </thead>\n  <tbody>\n    <tr>\n      <th>94536</th>\n      <td>alitas miel mostaza</td>\n      <td>27.0</td>\n      <td>59.0</td>\n      <td>59.0</td>\n      <td>0.0</td>\n      <td>True</td>\n    </tr>\n    <tr>\n      <th>14121</th>\n      <td>alitas picantes</td>\n      <td>27.0</td>\n      <td>54.0</td>\n      <td>54.0</td>\n      <td>0.0</td>\n      <td>True</td>\n    </tr>\n    <tr>\n      <th>123427</th>\n      <td>chili mexic</td>\n      <td>160.0</td>\n      <td>160.0</td>\n      <td>160.0</td>\n      <td>0.0</td>\n      <td>True</td>\n    </tr>\n    <tr>\n      <th>205849</th>\n      <td>nachos con queso</td>\n      <td>64.0</td>\n      <td>76.0</td>\n      <td>76.0</td>\n      <td>0.0</td>\n      <td>True</td>\n    </tr>\n    <tr>\n      <th>88875</th>\n      <td>alitas barbacoa</td>\n      <td>27.0</td>\n      <td>29.5</td>\n      <td>29.5</td>\n      <td>0.0</td>\n      <td>True</td>\n    </tr>\n  </tbody>\n</table>\n</div>"
     },
     "execution_count": 48,
     "metadata": {},
     "output_type": "execute_result"
    }
   ],
   "execution_count": 48
  },
  {
   "cell_type": "markdown",
   "id": "1cc6951a39a6acf",
   "metadata": {},
   "source": [
    "##### Eventhough products which have status in 'is_cancelled' in True, were charged anyway. Which seems as an interesting input to analyze the owner. \n",
    "Paid customer, change and is_cancelled are not columns which reflect any important insight, since those seem to be erroneus values placed."
   ]
  },
  {
   "cell_type": "markdown",
   "id": "58443e60b57c1db5",
   "metadata": {},
   "source": [
    "##### Analyze missing assingments \n",
    "All products which haven't been cancelled should have 'is_cancelled' status to False, and just 4 of them have it. So next step is fixing this issue.  "
   ]
  },
  {
   "cell_type": "code",
   "id": "cb63751695fc7914",
   "metadata": {
    "ExecuteTime": {
     "end_time": "2024-07-03T20:43:06.545614200Z",
     "start_time": "2024-07-03T20:42:54.272026100Z"
    }
   },
   "source": [
    "#NaN values in is_cancelled should be placed in False, since those orders were not cancelled \n",
    "resta_df[['product','is_cancelled','tot_order_payment','customer_pay','change']][resta_df['is_cancelled'].isna()].sample(5)"
   ],
   "outputs": [
    {
     "data": {
      "text/plain": "                   product is_cancelled  tot_order_payment  customer_pay   \n246025     alitas picantes          NaN               28.0          28.0  \\\n135405     1 llitro frutal          NaN               37.0          50.0   \n281977    fingers barbacoa          NaN              106.0         106.0   \n209493  sandwich de lomito          NaN               73.0          73.0   \n57540           salchibeef          NaN              187.0         187.0   \n\n        change  \n246025     0.0  \n135405    13.0  \n281977     0.0  \n209493     0.0  \n57540      0.0  ",
      "text/html": "<div>\n<style scoped>\n    .dataframe tbody tr th:only-of-type {\n        vertical-align: middle;\n    }\n\n    .dataframe tbody tr th {\n        vertical-align: top;\n    }\n\n    .dataframe thead th {\n        text-align: right;\n    }\n</style>\n<table border=\"1\" class=\"dataframe\">\n  <thead>\n    <tr style=\"text-align: right;\">\n      <th></th>\n      <th>product</th>\n      <th>is_cancelled</th>\n      <th>tot_order_payment</th>\n      <th>customer_pay</th>\n      <th>change</th>\n    </tr>\n  </thead>\n  <tbody>\n    <tr>\n      <th>246025</th>\n      <td>alitas picantes</td>\n      <td>NaN</td>\n      <td>28.0</td>\n      <td>28.0</td>\n      <td>0.0</td>\n    </tr>\n    <tr>\n      <th>135405</th>\n      <td>1 llitro frutal</td>\n      <td>NaN</td>\n      <td>37.0</td>\n      <td>50.0</td>\n      <td>13.0</td>\n    </tr>\n    <tr>\n      <th>281977</th>\n      <td>fingers barbacoa</td>\n      <td>NaN</td>\n      <td>106.0</td>\n      <td>106.0</td>\n      <td>0.0</td>\n    </tr>\n    <tr>\n      <th>209493</th>\n      <td>sandwich de lomito</td>\n      <td>NaN</td>\n      <td>73.0</td>\n      <td>73.0</td>\n      <td>0.0</td>\n    </tr>\n    <tr>\n      <th>57540</th>\n      <td>salchibeef</td>\n      <td>NaN</td>\n      <td>187.0</td>\n      <td>187.0</td>\n      <td>0.0</td>\n    </tr>\n  </tbody>\n</table>\n</div>"
     },
     "execution_count": 49,
     "metadata": {},
     "output_type": "execute_result"
    }
   ],
   "execution_count": 49
  },
  {
   "cell_type": "code",
   "id": "16cde0598badc00a",
   "metadata": {
    "ExecuteTime": {
     "end_time": "2024-07-03T20:43:06.545614200Z",
     "start_time": "2024-07-03T20:42:54.481670100Z"
    }
   },
   "source": [
    "#To all NaN values in 'is_cancelled' place False.\n",
    "resta_df.fillna({'is_cancelled':'False'}, inplace=True)"
   ],
   "outputs": [],
   "execution_count": 50
  },
  {
   "cell_type": "code",
   "id": "b3d667ec3122a73d",
   "metadata": {
    "ExecuteTime": {
     "end_time": "2024-07-03T20:43:06.545614200Z",
     "start_time": "2024-07-03T20:42:54.579550200Z"
    }
   },
   "source": [
    "resta_df['is_cancelled'].isna().sum()"
   ],
   "outputs": [
    {
     "data": {
      "text/plain": "0"
     },
     "execution_count": 51,
     "metadata": {},
     "output_type": "execute_result"
    }
   ],
   "execution_count": 51
  },
  {
   "cell_type": "markdown",
   "id": "78c49683adf1b484",
   "metadata": {},
   "source": [
    "#### NaN values in 'classification' column"
   ]
  },
  {
   "cell_type": "code",
   "id": "99927ba0c143bea1",
   "metadata": {
    "ExecuteTime": {
     "end_time": "2024-07-03T20:43:06.545614200Z",
     "start_time": "2024-07-03T20:42:54.708358400Z"
    }
   },
   "source": [
    "resta_df['classification'].isna().sum()"
   ],
   "outputs": [
    {
     "data": {
      "text/plain": "30795"
     },
     "execution_count": 52,
     "metadata": {},
     "output_type": "execute_result"
    }
   ],
   "execution_count": 52
  },
  {
   "cell_type": "code",
   "id": "b818bf335dbf6a4e",
   "metadata": {
    "ExecuteTime": {
     "end_time": "2024-07-03T20:43:06.545614200Z",
     "start_time": "2024-07-03T20:42:54.828411300Z"
    }
   },
   "source": [
    "resta_df[['classification','product']][resta_df['classification'].isna()].sample(5)"
   ],
   "outputs": [
    {
     "data": {
      "text/plain": "       classification            product\n401417            NaN     salsa albahaca\n479403            NaN      salsa picante\n47222             NaN  papas adicionales\n206247            NaN      salsa picante\n270224            NaN     salsa albahaca",
      "text/html": "<div>\n<style scoped>\n    .dataframe tbody tr th:only-of-type {\n        vertical-align: middle;\n    }\n\n    .dataframe tbody tr th {\n        vertical-align: top;\n    }\n\n    .dataframe thead th {\n        text-align: right;\n    }\n</style>\n<table border=\"1\" class=\"dataframe\">\n  <thead>\n    <tr style=\"text-align: right;\">\n      <th></th>\n      <th>classification</th>\n      <th>product</th>\n    </tr>\n  </thead>\n  <tbody>\n    <tr>\n      <th>401417</th>\n      <td>NaN</td>\n      <td>salsa albahaca</td>\n    </tr>\n    <tr>\n      <th>479403</th>\n      <td>NaN</td>\n      <td>salsa picante</td>\n    </tr>\n    <tr>\n      <th>47222</th>\n      <td>NaN</td>\n      <td>papas adicionales</td>\n    </tr>\n    <tr>\n      <th>206247</th>\n      <td>NaN</td>\n      <td>salsa picante</td>\n    </tr>\n    <tr>\n      <th>270224</th>\n      <td>NaN</td>\n      <td>salsa albahaca</td>\n    </tr>\n  </tbody>\n</table>\n</div>"
     },
     "execution_count": 53,
     "metadata": {},
     "output_type": "execute_result"
    }
   ],
   "execution_count": 53
  },
  {
   "cell_type": "markdown",
   "id": "6c3590cbcb9d360a",
   "metadata": {},
   "source": [
    "According to the data source whenever there are null values in parent_product, means that parent product value is equal to product. "
   ]
  },
  {
   "cell_type": "code",
   "id": "efcdbe9cddc36c76",
   "metadata": {
    "ExecuteTime": {
     "end_time": "2024-07-03T20:43:06.546684100Z",
     "start_time": "2024-07-03T20:42:55.009504600Z"
    }
   },
   "source": [
    "#Fill null values with values which are in column product \n",
    "#resta_df['classification'].fillna(resta_df['product'], inplace=True)\n",
    "\n",
    "resta_df.fillna({'classification': 'product'}, inplace=True)"
   ],
   "outputs": [],
   "execution_count": 54
  },
  {
   "cell_type": "code",
   "id": "43b6bc940c3ac0b",
   "metadata": {
    "ExecuteTime": {
     "end_time": "2024-07-03T20:43:06.546684100Z",
     "start_time": "2024-07-03T20:42:55.141163900Z"
    }
   },
   "source": [
    "resta_df['classification'].isna().sum()"
   ],
   "outputs": [
    {
     "data": {
      "text/plain": "0"
     },
     "execution_count": 55,
     "metadata": {},
     "output_type": "execute_result"
    }
   ],
   "execution_count": 55
  },
  {
   "cell_type": "markdown",
   "id": "612963dba7562f38",
   "metadata": {},
   "source": [
    "#### NaN values in modification_reason column.\n",
    "modification_reason, modification_dates, modification_time are related to is_cancelled column, meaning that whenever there is a cancellation there will be data in these columns, otherwise only False in is_cancelled column. NaN values qdont require to be erased yet, but NAN values in 'modification_reason'  could be replaced by 'Ninguna'."
   ]
  },
  {
   "cell_type": "code",
   "id": "97d93403a0b970c7",
   "metadata": {
    "ExecuteTime": {
     "end_time": "2024-07-03T20:43:06.546684100Z",
     "start_time": "2024-07-03T20:42:55.228459500Z"
    }
   },
   "source": [
    "resta_df['modification_reason'].isna().sum()"
   ],
   "outputs": [
    {
     "data": {
      "text/plain": "505528"
     },
     "execution_count": 56,
     "metadata": {},
     "output_type": "execute_result"
    }
   ],
   "execution_count": 56
  },
  {
   "cell_type": "code",
   "id": "86ba359445f87bcc",
   "metadata": {
    "ExecuteTime": {
     "end_time": "2024-07-03T20:43:06.546684100Z",
     "start_time": "2024-07-03T20:42:55.371554500Z"
    }
   },
   "source": [
    "resta_df[['modification_date','modification_reason','is_cancelled']][resta_df['modification_date'].isna()].sample(5)"
   ],
   "outputs": [
    {
     "data": {
      "text/plain": "       modification_date modification_reason is_cancelled\n416503               NaN                 NaN        False\n476161               NaN                 NaN        False\n280676               NaN                 NaN        False\n11472                NaN                 NaN        False\n501043               NaN                 NaN        False",
      "text/html": "<div>\n<style scoped>\n    .dataframe tbody tr th:only-of-type {\n        vertical-align: middle;\n    }\n\n    .dataframe tbody tr th {\n        vertical-align: top;\n    }\n\n    .dataframe thead th {\n        text-align: right;\n    }\n</style>\n<table border=\"1\" class=\"dataframe\">\n  <thead>\n    <tr style=\"text-align: right;\">\n      <th></th>\n      <th>modification_date</th>\n      <th>modification_reason</th>\n      <th>is_cancelled</th>\n    </tr>\n  </thead>\n  <tbody>\n    <tr>\n      <th>416503</th>\n      <td>NaN</td>\n      <td>NaN</td>\n      <td>False</td>\n    </tr>\n    <tr>\n      <th>476161</th>\n      <td>NaN</td>\n      <td>NaN</td>\n      <td>False</td>\n    </tr>\n    <tr>\n      <th>280676</th>\n      <td>NaN</td>\n      <td>NaN</td>\n      <td>False</td>\n    </tr>\n    <tr>\n      <th>11472</th>\n      <td>NaN</td>\n      <td>NaN</td>\n      <td>False</td>\n    </tr>\n    <tr>\n      <th>501043</th>\n      <td>NaN</td>\n      <td>NaN</td>\n      <td>False</td>\n    </tr>\n  </tbody>\n</table>\n</div>"
     },
     "execution_count": 57,
     "metadata": {},
     "output_type": "execute_result"
    }
   ],
   "execution_count": 57
  },
  {
   "cell_type": "code",
   "id": "e45b40d89e90011b",
   "metadata": {
    "ExecuteTime": {
     "end_time": "2024-07-03T20:43:06.547671300Z",
     "start_time": "2024-07-03T20:42:55.532707500Z"
    }
   },
   "source": [
    "resta_df[~resta_df['modification_reason'].isna()].sample(5)"
   ],
   "outputs": [
    {
     "data": {
      "text/plain": "        order_id system_date                time group_classifier   \n212708    359968  2019-06-08 1900-01-01 13:33:36             menu  \\\n86359     151568  2018-02-21 1900-01-01 13:11:31          bebidas   \n82779     140023  2018-02-02 1900-01-01 21:58:49             menu   \n205849    348514  2019-05-18 1900-01-01 15:45:39             menu   \n123427    219853  2018-07-26 1900-01-01 15:10:00             menu   \n\n           classification              product prod_state  price  quantity   \n212708  alitas 8 unidades      alitas picantes     activo   28.0         1  \\\n86359                1 lt           sprite 1lt     activo   12.0         1   \n82779   alitas 8 unidades  alitas miel mostaza     activo   27.0         1   \n205849             platos     nachos con queso     activo   32.0         2   \n123427             platos          chili mexic     activo   20.0         8   \n\n        to_pay_xprod  ...         location order_number   \n212708          28.0  ...     17 - mesa 17           25  \\\n86359           12.0  ...       5 - mesa 5           28   \n82779           27.0  ...  0 - para llevar          143   \n205849          64.0  ...       1 - mesa 1           60   \n123427         160.0  ...  0 - para llevar           50   \n\n                    modification_date              modification_reason   \n212708  2019-06-08 13:57:29.483000000                    PSO DE TIEMPO  \\\n86359   2018-02-21 13:18:47.863000000                      NO HAY MESA   \n82779   2018-02-02 21:59:22.433000000  que solo queria una sola alaita   \n205849  2019-05-18 15:48:24.257000000                            NO HY   \n123427  2018-07-26 17:30:17.573000000    porq ue se canselo su reunion   \n\n        is_cancelled  is_courtesy   status  start_balance end_balance   \n212708          True        False  cerrado            0.0         0.0  \\\n86359           True        False  cerrado            0.0         0.0   \n82779           True        False  cerrado            0.0         0.0   \n205849          True        False  cerrado            0.0         0.0   \n123427          True        False  cerrado            0.0         0.0   \n\n       stateprod  \n212708    activo  \n86359     activo  \n82779     activo  \n205849    activo  \n123427    activo  \n\n[5 rows x 26 columns]",
      "text/html": "<div>\n<style scoped>\n    .dataframe tbody tr th:only-of-type {\n        vertical-align: middle;\n    }\n\n    .dataframe tbody tr th {\n        vertical-align: top;\n    }\n\n    .dataframe thead th {\n        text-align: right;\n    }\n</style>\n<table border=\"1\" class=\"dataframe\">\n  <thead>\n    <tr style=\"text-align: right;\">\n      <th></th>\n      <th>order_id</th>\n      <th>system_date</th>\n      <th>time</th>\n      <th>group_classifier</th>\n      <th>classification</th>\n      <th>product</th>\n      <th>prod_state</th>\n      <th>price</th>\n      <th>quantity</th>\n      <th>to_pay_xprod</th>\n      <th>...</th>\n      <th>location</th>\n      <th>order_number</th>\n      <th>modification_date</th>\n      <th>modification_reason</th>\n      <th>is_cancelled</th>\n      <th>is_courtesy</th>\n      <th>status</th>\n      <th>start_balance</th>\n      <th>end_balance</th>\n      <th>stateprod</th>\n    </tr>\n  </thead>\n  <tbody>\n    <tr>\n      <th>212708</th>\n      <td>359968</td>\n      <td>2019-06-08</td>\n      <td>1900-01-01 13:33:36</td>\n      <td>menu</td>\n      <td>alitas 8 unidades</td>\n      <td>alitas picantes</td>\n      <td>activo</td>\n      <td>28.0</td>\n      <td>1</td>\n      <td>28.0</td>\n      <td>...</td>\n      <td>17 - mesa 17</td>\n      <td>25</td>\n      <td>2019-06-08 13:57:29.483000000</td>\n      <td>PSO DE TIEMPO</td>\n      <td>True</td>\n      <td>False</td>\n      <td>cerrado</td>\n      <td>0.0</td>\n      <td>0.0</td>\n      <td>activo</td>\n    </tr>\n    <tr>\n      <th>86359</th>\n      <td>151568</td>\n      <td>2018-02-21</td>\n      <td>1900-01-01 13:11:31</td>\n      <td>bebidas</td>\n      <td>1 lt</td>\n      <td>sprite 1lt</td>\n      <td>activo</td>\n      <td>12.0</td>\n      <td>1</td>\n      <td>12.0</td>\n      <td>...</td>\n      <td>5 - mesa 5</td>\n      <td>28</td>\n      <td>2018-02-21 13:18:47.863000000</td>\n      <td>NO HAY MESA</td>\n      <td>True</td>\n      <td>False</td>\n      <td>cerrado</td>\n      <td>0.0</td>\n      <td>0.0</td>\n      <td>activo</td>\n    </tr>\n    <tr>\n      <th>82779</th>\n      <td>140023</td>\n      <td>2018-02-02</td>\n      <td>1900-01-01 21:58:49</td>\n      <td>menu</td>\n      <td>alitas 8 unidades</td>\n      <td>alitas miel mostaza</td>\n      <td>activo</td>\n      <td>27.0</td>\n      <td>1</td>\n      <td>27.0</td>\n      <td>...</td>\n      <td>0 - para llevar</td>\n      <td>143</td>\n      <td>2018-02-02 21:59:22.433000000</td>\n      <td>que solo queria una sola alaita</td>\n      <td>True</td>\n      <td>False</td>\n      <td>cerrado</td>\n      <td>0.0</td>\n      <td>0.0</td>\n      <td>activo</td>\n    </tr>\n    <tr>\n      <th>205849</th>\n      <td>348514</td>\n      <td>2019-05-18</td>\n      <td>1900-01-01 15:45:39</td>\n      <td>menu</td>\n      <td>platos</td>\n      <td>nachos con queso</td>\n      <td>activo</td>\n      <td>32.0</td>\n      <td>2</td>\n      <td>64.0</td>\n      <td>...</td>\n      <td>1 - mesa 1</td>\n      <td>60</td>\n      <td>2019-05-18 15:48:24.257000000</td>\n      <td>NO HY</td>\n      <td>True</td>\n      <td>False</td>\n      <td>cerrado</td>\n      <td>0.0</td>\n      <td>0.0</td>\n      <td>activo</td>\n    </tr>\n    <tr>\n      <th>123427</th>\n      <td>219853</td>\n      <td>2018-07-26</td>\n      <td>1900-01-01 15:10:00</td>\n      <td>menu</td>\n      <td>platos</td>\n      <td>chili mexic</td>\n      <td>activo</td>\n      <td>20.0</td>\n      <td>8</td>\n      <td>160.0</td>\n      <td>...</td>\n      <td>0 - para llevar</td>\n      <td>50</td>\n      <td>2018-07-26 17:30:17.573000000</td>\n      <td>porq ue se canselo su reunion</td>\n      <td>True</td>\n      <td>False</td>\n      <td>cerrado</td>\n      <td>0.0</td>\n      <td>0.0</td>\n      <td>activo</td>\n    </tr>\n  </tbody>\n</table>\n<p>5 rows × 26 columns</p>\n</div>"
     },
     "execution_count": 58,
     "metadata": {},
     "output_type": "execute_result"
    }
   ],
   "execution_count": 58
  },
  {
   "cell_type": "code",
   "id": "2c488bbf21a59d19",
   "metadata": {
    "ExecuteTime": {
     "end_time": "2024-07-03T20:43:06.547671300Z",
     "start_time": "2024-07-03T20:42:55.648601600Z"
    }
   },
   "source": [
    "resta_df.loc[resta_df['modification_reason'].isna(),'modification_reason']='Ninguna'"
   ],
   "outputs": [],
   "execution_count": 59
  },
  {
   "cell_type": "code",
   "id": "8a9168fe1eea6177",
   "metadata": {
    "ExecuteTime": {
     "end_time": "2024-07-03T20:43:06.547671300Z",
     "start_time": "2024-07-03T20:42:55.773813100Z"
    }
   },
   "source": [
    "resta_df['modification_reason'].isna().sum()"
   ],
   "outputs": [
    {
     "data": {
      "text/plain": "0"
     },
     "execution_count": 60,
     "metadata": {},
     "output_type": "execute_result"
    }
   ],
   "execution_count": 60
  },
  {
   "cell_type": "markdown",
   "id": "772d1c4a9b7b9504",
   "metadata": {},
   "source": [
    "#### NaN values in 'product_observation' column\n",
    "Whenever there were sales done as completed that meant Lunch, so users have used this space to detail the kind of lunch for that sale. When there is NaN in this column is not objetable"
   ]
  },
  {
   "cell_type": "code",
   "id": "401098fc57214ef3",
   "metadata": {
    "ExecuteTime": {
     "end_time": "2024-07-03T20:43:06.547671300Z",
     "start_time": "2024-07-03T20:42:55.899778300Z"
    }
   },
   "source": [
    "resta_df['product_observations'].isna().sum()"
   ],
   "outputs": [
    {
     "data": {
      "text/plain": "401696"
     },
     "execution_count": 61,
     "metadata": {},
     "output_type": "execute_result"
    }
   ],
   "execution_count": 61
  },
  {
   "cell_type": "code",
   "id": "11e4edc82764226c",
   "metadata": {
    "ExecuteTime": {
     "end_time": "2024-07-03T20:43:06.548675400Z",
     "start_time": "2024-07-03T20:42:56.030603700Z"
    }
   },
   "source": [
    "resta_df['product_observations'].unique()"
   ],
   "outputs": [
    {
     "data": {
      "text/plain": "array([nan, 'una sin tomate ni tocino', 'solo una salsa aparte', ...,\n       'queso y ajo salsa parte', 'de  la sierra',\n       '6 albaca el resto surtido'], dtype=object)"
     },
     "execution_count": 62,
     "metadata": {},
     "output_type": "execute_result"
    }
   ],
   "execution_count": 62
  },
  {
   "cell_type": "code",
   "id": "1e98bc8b6c57962c",
   "metadata": {
    "ExecuteTime": {
     "end_time": "2024-07-03T20:43:06.548675400Z",
     "start_time": "2024-07-03T20:42:56.178438400Z"
    }
   },
   "source": [
    "resta_df[~resta_df['product_observations'].isna()].sample(5)"
   ],
   "outputs": [
    {
     "data": {
      "text/plain": "        order_id system_date                time group_classifier   \n438068    550666  2022-02-24 1900-01-01 21:12:51          bebidas  \\\n140682    258125  2018-09-30 1900-01-01 19:36:05             menu   \n134736    246183  2018-09-07 1900-01-01 21:45:00             menu   \n411311    535617  2021-11-06 1900-01-01 12:38:07          bebidas   \n183420    322238  2019-03-01 1900-01-01 12:11:57             menu   \n\n           classification                    product prod_state  price   \n438068           personal             fanta personal     activo    2.5  \\\n140682  alitas 8 unidades        alitas queso 8 unid     activo   22.0   \n134736  alitas 8 unidades  alitas albahaca y hierbas     activo   28.0   \n411311      jugos - aguas                fanta 500cc     activo    8.0   \n183420  alitas 8 unidades            alitas barbacoa     activo   28.0   \n\n        quantity  to_pay_xprod  ...         location order_number   \n438068         1           2.5  ...     . - sin mesa           65  \\\n140682         1          22.0  ...       2 - mesa 2           51   \n134736         1          28.0  ...     . - sin mesa           79   \n411311         2          16.0  ...     . - sin mesa            7   \n183420         1          28.0  ...  0 - para llevar            2   \n\n       modification_date  modification_reason  is_cancelled  is_courtesy   \n438068               NaN              Ninguna         False        False  \\\n140682               NaN              Ninguna         False        False   \n134736               NaN              Ninguna         False        False   \n411311               NaN              Ninguna         False        False   \n183420               NaN              Ninguna         False        False   \n\n         status  start_balance end_balance stateprod  \n438068  cerrado            0.0         0.0    activo  \n140682  cerrado            0.0         0.0    activo  \n134736  cerrado            0.0         0.0    activo  \n411311  cerrado            0.0         0.0    activo  \n183420  cerrado            0.0         0.0    activo  \n\n[5 rows x 26 columns]",
      "text/html": "<div>\n<style scoped>\n    .dataframe tbody tr th:only-of-type {\n        vertical-align: middle;\n    }\n\n    .dataframe tbody tr th {\n        vertical-align: top;\n    }\n\n    .dataframe thead th {\n        text-align: right;\n    }\n</style>\n<table border=\"1\" class=\"dataframe\">\n  <thead>\n    <tr style=\"text-align: right;\">\n      <th></th>\n      <th>order_id</th>\n      <th>system_date</th>\n      <th>time</th>\n      <th>group_classifier</th>\n      <th>classification</th>\n      <th>product</th>\n      <th>prod_state</th>\n      <th>price</th>\n      <th>quantity</th>\n      <th>to_pay_xprod</th>\n      <th>...</th>\n      <th>location</th>\n      <th>order_number</th>\n      <th>modification_date</th>\n      <th>modification_reason</th>\n      <th>is_cancelled</th>\n      <th>is_courtesy</th>\n      <th>status</th>\n      <th>start_balance</th>\n      <th>end_balance</th>\n      <th>stateprod</th>\n    </tr>\n  </thead>\n  <tbody>\n    <tr>\n      <th>438068</th>\n      <td>550666</td>\n      <td>2022-02-24</td>\n      <td>1900-01-01 21:12:51</td>\n      <td>bebidas</td>\n      <td>personal</td>\n      <td>fanta personal</td>\n      <td>activo</td>\n      <td>2.5</td>\n      <td>1</td>\n      <td>2.5</td>\n      <td>...</td>\n      <td>. - sin mesa</td>\n      <td>65</td>\n      <td>NaN</td>\n      <td>Ninguna</td>\n      <td>False</td>\n      <td>False</td>\n      <td>cerrado</td>\n      <td>0.0</td>\n      <td>0.0</td>\n      <td>activo</td>\n    </tr>\n    <tr>\n      <th>140682</th>\n      <td>258125</td>\n      <td>2018-09-30</td>\n      <td>1900-01-01 19:36:05</td>\n      <td>menu</td>\n      <td>alitas 8 unidades</td>\n      <td>alitas queso 8 unid</td>\n      <td>activo</td>\n      <td>22.0</td>\n      <td>1</td>\n      <td>22.0</td>\n      <td>...</td>\n      <td>2 - mesa 2</td>\n      <td>51</td>\n      <td>NaN</td>\n      <td>Ninguna</td>\n      <td>False</td>\n      <td>False</td>\n      <td>cerrado</td>\n      <td>0.0</td>\n      <td>0.0</td>\n      <td>activo</td>\n    </tr>\n    <tr>\n      <th>134736</th>\n      <td>246183</td>\n      <td>2018-09-07</td>\n      <td>1900-01-01 21:45:00</td>\n      <td>menu</td>\n      <td>alitas 8 unidades</td>\n      <td>alitas albahaca y hierbas</td>\n      <td>activo</td>\n      <td>28.0</td>\n      <td>1</td>\n      <td>28.0</td>\n      <td>...</td>\n      <td>. - sin mesa</td>\n      <td>79</td>\n      <td>NaN</td>\n      <td>Ninguna</td>\n      <td>False</td>\n      <td>False</td>\n      <td>cerrado</td>\n      <td>0.0</td>\n      <td>0.0</td>\n      <td>activo</td>\n    </tr>\n    <tr>\n      <th>411311</th>\n      <td>535617</td>\n      <td>2021-11-06</td>\n      <td>1900-01-01 12:38:07</td>\n      <td>bebidas</td>\n      <td>jugos - aguas</td>\n      <td>fanta 500cc</td>\n      <td>activo</td>\n      <td>8.0</td>\n      <td>2</td>\n      <td>16.0</td>\n      <td>...</td>\n      <td>. - sin mesa</td>\n      <td>7</td>\n      <td>NaN</td>\n      <td>Ninguna</td>\n      <td>False</td>\n      <td>False</td>\n      <td>cerrado</td>\n      <td>0.0</td>\n      <td>0.0</td>\n      <td>activo</td>\n    </tr>\n    <tr>\n      <th>183420</th>\n      <td>322238</td>\n      <td>2019-03-01</td>\n      <td>1900-01-01 12:11:57</td>\n      <td>menu</td>\n      <td>alitas 8 unidades</td>\n      <td>alitas barbacoa</td>\n      <td>activo</td>\n      <td>28.0</td>\n      <td>1</td>\n      <td>28.0</td>\n      <td>...</td>\n      <td>0 - para llevar</td>\n      <td>2</td>\n      <td>NaN</td>\n      <td>Ninguna</td>\n      <td>False</td>\n      <td>False</td>\n      <td>cerrado</td>\n      <td>0.0</td>\n      <td>0.0</td>\n      <td>activo</td>\n    </tr>\n  </tbody>\n</table>\n<p>5 rows × 26 columns</p>\n</div>"
     },
     "execution_count": 63,
     "metadata": {},
     "output_type": "execute_result"
    }
   ],
   "execution_count": 63
  },
  {
   "cell_type": "code",
   "id": "853020b87bd14a7a",
   "metadata": {
    "ExecuteTime": {
     "end_time": "2024-07-03T20:43:06.548675400Z",
     "start_time": "2024-07-03T20:42:56.353844500Z"
    }
   },
   "source": [
    "#Fullfill 'product_observations' with 'Ninguna' whenever there are NaN values\n",
    "resta_df.loc[resta_df['product_observations'].isna(), 'product_observations']='Ninguna'"
   ],
   "outputs": [],
   "execution_count": 64
  },
  {
   "cell_type": "code",
   "id": "6b3997a47464d20f",
   "metadata": {
    "ExecuteTime": {
     "end_time": "2024-07-03T20:43:06.548675400Z",
     "start_time": "2024-07-03T20:42:56.426411900Z"
    }
   },
   "source": [
    "resta_df['product_observations'].isna().sum()"
   ],
   "outputs": [
    {
     "data": {
      "text/plain": "0"
     },
     "execution_count": 65,
     "metadata": {},
     "output_type": "execute_result"
    }
   ],
   "execution_count": 65
  },
  {
   "cell_type": "markdown",
   "id": "f7e7ad71a85eb98d",
   "metadata": {},
   "source": [
    "### NaN values in is_courtesy column\n",
    "Orders which have been labeled NaN in is_courtesy should be changed to False, since those havent been a courtesy."
   ]
  },
  {
   "cell_type": "code",
   "id": "2fb7cdb6292fb9ad",
   "metadata": {
    "ExecuteTime": {
     "end_time": "2024-07-03T20:43:06.549684500Z",
     "start_time": "2024-07-03T20:42:56.553737500Z"
    }
   },
   "source": [
    "resta_df['is_courtesy'].isna().sum()"
   ],
   "outputs": [
    {
     "data": {
      "text/plain": "1896"
     },
     "execution_count": 66,
     "metadata": {},
     "output_type": "execute_result"
    }
   ],
   "execution_count": 66
  },
  {
   "cell_type": "code",
   "id": "a38281e8c325f97",
   "metadata": {
    "ExecuteTime": {
     "end_time": "2024-07-03T20:43:06.549684500Z",
     "start_time": "2024-07-03T20:42:56.728801200Z"
    }
   },
   "source": [
    "resta_df['is_courtesy'].unique()"
   ],
   "outputs": [
    {
     "data": {
      "text/plain": "array([nan, 'False', 'True'], dtype=object)"
     },
     "execution_count": 67,
     "metadata": {},
     "output_type": "execute_result"
    }
   ],
   "execution_count": 67
  },
  {
   "cell_type": "code",
   "id": "f002b85027223ddb",
   "metadata": {
    "ExecuteTime": {
     "end_time": "2024-07-03T20:43:06.550700600Z",
     "start_time": "2024-07-03T20:42:56.805390700Z"
    }
   },
   "source": [
    "resta_df[resta_df['is_courtesy'].isna()].sample(5)"
   ],
   "outputs": [
    {
     "data": {
      "text/plain": "      order_id system_date                time group_classifier   \n1043      6710  2016-08-02 1900-01-01 20:15:48             menu  \\\n238       5314  2016-07-22 1900-01-01 22:30:25          bebidas   \n1091      6728  2016-08-02 1900-01-01 22:46:21             menu   \n1177      6765  2016-08-03 1900-01-01 20:03:32             menu   \n830       6615  2016-08-01 1900-01-01 13:51:00          bebidas   \n\n         classification                 product prod_state  price  quantity   \n1043  alitas 8 unidades  alitas barbacoa - miel     activo   27.0         1  \\\n238            personal      coca cola personal     activo    2.0         1   \n1091  alitas 8 unidades     alitas miel mostaza     activo   27.0         2   \n1177  alitas 8 unidades     alitas miel mostaza     activo   27.0         1   \n830             popular           fanta popular     activo    6.0         1   \n\n      to_pay_xprod  ...         location order_number modification_date   \n1043          27.0  ...     . - sin mesa           31               NaN  \\\n238            2.0  ...     . - sin mesa            3               NaN   \n1091          54.0  ...  0 - para llevar           49               NaN   \n1177          27.0  ...     12 - mesa 12           22               NaN   \n830            6.0  ...     . - sin mesa            5               NaN   \n\n      modification_reason  is_cancelled  is_courtesy   status  start_balance   \n1043              Ninguna         False          NaN  cerrado            0.0  \\\n238               Ninguna         False          NaN  cerrado            0.0   \n1091              Ninguna         False          NaN  cerrado            0.0   \n1177              Ninguna         False          NaN  cerrado            0.0   \n830               Ninguna         False          NaN  cerrado          500.0   \n\n     end_balance stateprod  \n1043         0.0    activo  \n238          0.0    activo  \n1091         0.0    activo  \n1177         0.0    activo  \n830       1150.0    activo  \n\n[5 rows x 26 columns]",
      "text/html": "<div>\n<style scoped>\n    .dataframe tbody tr th:only-of-type {\n        vertical-align: middle;\n    }\n\n    .dataframe tbody tr th {\n        vertical-align: top;\n    }\n\n    .dataframe thead th {\n        text-align: right;\n    }\n</style>\n<table border=\"1\" class=\"dataframe\">\n  <thead>\n    <tr style=\"text-align: right;\">\n      <th></th>\n      <th>order_id</th>\n      <th>system_date</th>\n      <th>time</th>\n      <th>group_classifier</th>\n      <th>classification</th>\n      <th>product</th>\n      <th>prod_state</th>\n      <th>price</th>\n      <th>quantity</th>\n      <th>to_pay_xprod</th>\n      <th>...</th>\n      <th>location</th>\n      <th>order_number</th>\n      <th>modification_date</th>\n      <th>modification_reason</th>\n      <th>is_cancelled</th>\n      <th>is_courtesy</th>\n      <th>status</th>\n      <th>start_balance</th>\n      <th>end_balance</th>\n      <th>stateprod</th>\n    </tr>\n  </thead>\n  <tbody>\n    <tr>\n      <th>1043</th>\n      <td>6710</td>\n      <td>2016-08-02</td>\n      <td>1900-01-01 20:15:48</td>\n      <td>menu</td>\n      <td>alitas 8 unidades</td>\n      <td>alitas barbacoa - miel</td>\n      <td>activo</td>\n      <td>27.0</td>\n      <td>1</td>\n      <td>27.0</td>\n      <td>...</td>\n      <td>. - sin mesa</td>\n      <td>31</td>\n      <td>NaN</td>\n      <td>Ninguna</td>\n      <td>False</td>\n      <td>NaN</td>\n      <td>cerrado</td>\n      <td>0.0</td>\n      <td>0.0</td>\n      <td>activo</td>\n    </tr>\n    <tr>\n      <th>238</th>\n      <td>5314</td>\n      <td>2016-07-22</td>\n      <td>1900-01-01 22:30:25</td>\n      <td>bebidas</td>\n      <td>personal</td>\n      <td>coca cola personal</td>\n      <td>activo</td>\n      <td>2.0</td>\n      <td>1</td>\n      <td>2.0</td>\n      <td>...</td>\n      <td>. - sin mesa</td>\n      <td>3</td>\n      <td>NaN</td>\n      <td>Ninguna</td>\n      <td>False</td>\n      <td>NaN</td>\n      <td>cerrado</td>\n      <td>0.0</td>\n      <td>0.0</td>\n      <td>activo</td>\n    </tr>\n    <tr>\n      <th>1091</th>\n      <td>6728</td>\n      <td>2016-08-02</td>\n      <td>1900-01-01 22:46:21</td>\n      <td>menu</td>\n      <td>alitas 8 unidades</td>\n      <td>alitas miel mostaza</td>\n      <td>activo</td>\n      <td>27.0</td>\n      <td>2</td>\n      <td>54.0</td>\n      <td>...</td>\n      <td>0 - para llevar</td>\n      <td>49</td>\n      <td>NaN</td>\n      <td>Ninguna</td>\n      <td>False</td>\n      <td>NaN</td>\n      <td>cerrado</td>\n      <td>0.0</td>\n      <td>0.0</td>\n      <td>activo</td>\n    </tr>\n    <tr>\n      <th>1177</th>\n      <td>6765</td>\n      <td>2016-08-03</td>\n      <td>1900-01-01 20:03:32</td>\n      <td>menu</td>\n      <td>alitas 8 unidades</td>\n      <td>alitas miel mostaza</td>\n      <td>activo</td>\n      <td>27.0</td>\n      <td>1</td>\n      <td>27.0</td>\n      <td>...</td>\n      <td>12 - mesa 12</td>\n      <td>22</td>\n      <td>NaN</td>\n      <td>Ninguna</td>\n      <td>False</td>\n      <td>NaN</td>\n      <td>cerrado</td>\n      <td>0.0</td>\n      <td>0.0</td>\n      <td>activo</td>\n    </tr>\n    <tr>\n      <th>830</th>\n      <td>6615</td>\n      <td>2016-08-01</td>\n      <td>1900-01-01 13:51:00</td>\n      <td>bebidas</td>\n      <td>popular</td>\n      <td>fanta popular</td>\n      <td>activo</td>\n      <td>6.0</td>\n      <td>1</td>\n      <td>6.0</td>\n      <td>...</td>\n      <td>. - sin mesa</td>\n      <td>5</td>\n      <td>NaN</td>\n      <td>Ninguna</td>\n      <td>False</td>\n      <td>NaN</td>\n      <td>cerrado</td>\n      <td>500.0</td>\n      <td>1150.0</td>\n      <td>activo</td>\n    </tr>\n  </tbody>\n</table>\n<p>5 rows × 26 columns</p>\n</div>"
     },
     "execution_count": 68,
     "metadata": {},
     "output_type": "execute_result"
    }
   ],
   "execution_count": 68
  },
  {
   "cell_type": "code",
   "id": "20c9fc0becb0316d",
   "metadata": {
    "ExecuteTime": {
     "end_time": "2024-07-03T20:43:06.550700600Z",
     "start_time": "2024-07-03T20:42:56.968340400Z"
    }
   },
   "source": [
    "#Whenever 'is_courtesy' equals to NaN the corret value should be False\n",
    "resta_df.loc[resta_df['is_courtesy'].isna(),'is_courtesy'] = False"
   ],
   "outputs": [],
   "execution_count": 69
  },
  {
   "cell_type": "code",
   "id": "773c127113b15ed7",
   "metadata": {
    "ExecuteTime": {
     "end_time": "2024-07-03T20:43:06.550700600Z",
     "start_time": "2024-07-03T20:42:57.077347200Z"
    }
   },
   "source": [
    "resta_df['is_courtesy'].isna().sum()"
   ],
   "outputs": [
    {
     "data": {
      "text/plain": "0"
     },
     "execution_count": 70,
     "metadata": {},
     "output_type": "execute_result"
    }
   ],
   "execution_count": 70
  },
  {
   "cell_type": "markdown",
   "id": "2d463bf7d323e0bf",
   "metadata": {},
   "source": [
    "#### NaN values in end_balance column"
   ]
  },
  {
   "cell_type": "code",
   "id": "e218298e3007dcd9",
   "metadata": {
    "ExecuteTime": {
     "end_time": "2024-07-03T20:43:06.550700600Z",
     "start_time": "2024-07-03T20:42:57.194595700Z"
    }
   },
   "source": [
    "resta_df['end_balance'].isna().sum()"
   ],
   "outputs": [
    {
     "data": {
      "text/plain": "1132"
     },
     "execution_count": 71,
     "metadata": {},
     "output_type": "execute_result"
    }
   ],
   "execution_count": 71
  },
  {
   "cell_type": "code",
   "id": "f0c22a59a5fdc230",
   "metadata": {
    "ExecuteTime": {
     "end_time": "2024-07-03T20:43:06.551676500Z",
     "start_time": "2024-07-03T20:42:57.320113400Z"
    }
   },
   "source": [
    "resta_df[resta_df['end_balance'].isna()].sample(5)"
   ],
   "outputs": [
    {
     "data": {
      "text/plain": "        order_id system_date                time group_classifier   \n292636    461926  2020-03-21 1900-01-01 12:52:09             menu  \\\n54976      94020  2017-09-04 1900-01-01 18:54:14          bebidas   \n292614    461919  2020-03-21 1900-01-01 12:37:52             menu   \n292608    461916  2020-03-21 1900-01-01 12:27:28             menu   \n87336     156558  2018-02-25 1900-01-01 13:51:06            otros   \n\n            classification              product prod_state  price  quantity   \n292636             fingers        fingers queso     activo   25.0         1  \\\n54976         frutal valle      1 llitro frutal     activo   15.0         1   \n292614  alitas 12 unidades  alitas buff 12 unid     activo   43.0         1   \n292608   alitas 8 unidades      alitas barbacoa     activo   30.0         1   \n87336              product   salsa miel mostaza     activo    3.0         1   \n\n        to_pay_xprod  ...         location order_number modification_date   \n292636          25.0  ...     11 - mesa 11           15               NaN  \\\n54976           15.0  ...     . - sin mesa            4               NaN   \n292614          43.0  ...  0 - para llevar            8               NaN   \n292608          30.0  ...  0 - para llevar            5               NaN   \n87336            3.0  ...  0 - para llevar           18               NaN   \n\n        modification_reason  is_cancelled  is_courtesy   status   \n292636              Ninguna         False        False  abierto  \\\n54976               Ninguna         False        False  abierto   \n292614              Ninguna         False        False  abierto   \n292608              Ninguna         False        False  abierto   \n87336               Ninguna         False        False  abierto   \n\n        start_balance end_balance stateprod  \n292636            0.0         NaN    activo  \n54976             0.0         NaN    activo  \n292614            0.0         NaN    activo  \n292608            0.0         NaN    activo  \n87336             0.0         NaN    activo  \n\n[5 rows x 26 columns]",
      "text/html": "<div>\n<style scoped>\n    .dataframe tbody tr th:only-of-type {\n        vertical-align: middle;\n    }\n\n    .dataframe tbody tr th {\n        vertical-align: top;\n    }\n\n    .dataframe thead th {\n        text-align: right;\n    }\n</style>\n<table border=\"1\" class=\"dataframe\">\n  <thead>\n    <tr style=\"text-align: right;\">\n      <th></th>\n      <th>order_id</th>\n      <th>system_date</th>\n      <th>time</th>\n      <th>group_classifier</th>\n      <th>classification</th>\n      <th>product</th>\n      <th>prod_state</th>\n      <th>price</th>\n      <th>quantity</th>\n      <th>to_pay_xprod</th>\n      <th>...</th>\n      <th>location</th>\n      <th>order_number</th>\n      <th>modification_date</th>\n      <th>modification_reason</th>\n      <th>is_cancelled</th>\n      <th>is_courtesy</th>\n      <th>status</th>\n      <th>start_balance</th>\n      <th>end_balance</th>\n      <th>stateprod</th>\n    </tr>\n  </thead>\n  <tbody>\n    <tr>\n      <th>292636</th>\n      <td>461926</td>\n      <td>2020-03-21</td>\n      <td>1900-01-01 12:52:09</td>\n      <td>menu</td>\n      <td>fingers</td>\n      <td>fingers queso</td>\n      <td>activo</td>\n      <td>25.0</td>\n      <td>1</td>\n      <td>25.0</td>\n      <td>...</td>\n      <td>11 - mesa 11</td>\n      <td>15</td>\n      <td>NaN</td>\n      <td>Ninguna</td>\n      <td>False</td>\n      <td>False</td>\n      <td>abierto</td>\n      <td>0.0</td>\n      <td>NaN</td>\n      <td>activo</td>\n    </tr>\n    <tr>\n      <th>54976</th>\n      <td>94020</td>\n      <td>2017-09-04</td>\n      <td>1900-01-01 18:54:14</td>\n      <td>bebidas</td>\n      <td>frutal valle</td>\n      <td>1 llitro frutal</td>\n      <td>activo</td>\n      <td>15.0</td>\n      <td>1</td>\n      <td>15.0</td>\n      <td>...</td>\n      <td>. - sin mesa</td>\n      <td>4</td>\n      <td>NaN</td>\n      <td>Ninguna</td>\n      <td>False</td>\n      <td>False</td>\n      <td>abierto</td>\n      <td>0.0</td>\n      <td>NaN</td>\n      <td>activo</td>\n    </tr>\n    <tr>\n      <th>292614</th>\n      <td>461919</td>\n      <td>2020-03-21</td>\n      <td>1900-01-01 12:37:52</td>\n      <td>menu</td>\n      <td>alitas 12 unidades</td>\n      <td>alitas buff 12 unid</td>\n      <td>activo</td>\n      <td>43.0</td>\n      <td>1</td>\n      <td>43.0</td>\n      <td>...</td>\n      <td>0 - para llevar</td>\n      <td>8</td>\n      <td>NaN</td>\n      <td>Ninguna</td>\n      <td>False</td>\n      <td>False</td>\n      <td>abierto</td>\n      <td>0.0</td>\n      <td>NaN</td>\n      <td>activo</td>\n    </tr>\n    <tr>\n      <th>292608</th>\n      <td>461916</td>\n      <td>2020-03-21</td>\n      <td>1900-01-01 12:27:28</td>\n      <td>menu</td>\n      <td>alitas 8 unidades</td>\n      <td>alitas barbacoa</td>\n      <td>activo</td>\n      <td>30.0</td>\n      <td>1</td>\n      <td>30.0</td>\n      <td>...</td>\n      <td>0 - para llevar</td>\n      <td>5</td>\n      <td>NaN</td>\n      <td>Ninguna</td>\n      <td>False</td>\n      <td>False</td>\n      <td>abierto</td>\n      <td>0.0</td>\n      <td>NaN</td>\n      <td>activo</td>\n    </tr>\n    <tr>\n      <th>87336</th>\n      <td>156558</td>\n      <td>2018-02-25</td>\n      <td>1900-01-01 13:51:06</td>\n      <td>otros</td>\n      <td>product</td>\n      <td>salsa miel mostaza</td>\n      <td>activo</td>\n      <td>3.0</td>\n      <td>1</td>\n      <td>3.0</td>\n      <td>...</td>\n      <td>0 - para llevar</td>\n      <td>18</td>\n      <td>NaN</td>\n      <td>Ninguna</td>\n      <td>False</td>\n      <td>False</td>\n      <td>abierto</td>\n      <td>0.0</td>\n      <td>NaN</td>\n      <td>activo</td>\n    </tr>\n  </tbody>\n</table>\n<p>5 rows × 26 columns</p>\n</div>"
     },
     "execution_count": 72,
     "metadata": {},
     "output_type": "execute_result"
    }
   ],
   "execution_count": 72
  },
  {
   "cell_type": "code",
   "id": "4d1b25aee05ff541",
   "metadata": {
    "ExecuteTime": {
     "end_time": "2024-07-03T20:43:06.551676500Z",
     "start_time": "2024-07-03T20:42:57.452166500Z"
    }
   },
   "source": [
    "#'end_balance' shpuld not be null,NaN values shopuld be replaced by 0\n",
    "resta_df.loc[resta_df['end_balance'].isna(),'end_balance'] = 0"
   ],
   "outputs": [],
   "execution_count": 73
  },
  {
   "cell_type": "code",
   "id": "9aba58cc5da77961",
   "metadata": {
    "ExecuteTime": {
     "end_time": "2024-07-03T20:43:06.551676500Z",
     "start_time": "2024-07-03T20:42:57.565059300Z"
    }
   },
   "source": [
    "resta_df['end_balance'].isna().sum()"
   ],
   "outputs": [
    {
     "data": {
      "text/plain": "0"
     },
     "execution_count": 74,
     "metadata": {},
     "output_type": "execute_result"
    }
   ],
   "execution_count": 74
  },
  {
   "cell_type": "markdown",
   "id": "5cd7ea7490f2b559",
   "metadata": {},
   "source": [
    "## Analyze Outliers"
   ]
  },
  {
   "cell_type": "markdown",
   "id": "f0212508f8cd3027",
   "metadata": {},
   "source": [
    "### Numerical variables"
   ]
  },
  {
   "cell_type": "markdown",
   "id": "3284deea8271b39f",
   "metadata": {},
   "source": [
    "#### Analysis of 'price' column"
   ]
  },
  {
   "cell_type": "code",
   "id": "4e716889ca08414c",
   "metadata": {
    "ExecuteTime": {
     "end_time": "2024-07-03T20:43:06.551676500Z",
     "start_time": "2024-07-03T20:42:57.724048700Z"
    }
   },
   "source": [
    "resta_df['price'].describe()"
   ],
   "outputs": [
    {
     "data": {
      "text/plain": "count    505575.000000\nmean         20.317964\nstd          13.313448\nmin           1.000000\n25%          12.000000\n50%          22.000000\n75%          27.000000\nmax         130.000000\nName: price, dtype: float64"
     },
     "execution_count": 75,
     "metadata": {},
     "output_type": "execute_result"
    }
   ],
   "execution_count": 75
  },
  {
   "cell_type": "code",
   "id": "6c6fce097f4429b0",
   "metadata": {
    "ExecuteTime": {
     "end_time": "2024-07-03T20:43:06.552688700Z",
     "start_time": "2024-07-03T20:42:57.861633700Z"
    }
   },
   "source": [
    "# Calculate 25th percentile of annual strikes\n",
    "percentile25 = resta_df['price'].quantile(0.25)\n",
    "# Calculate 75th percentile of annual strikes\n",
    "percentile75 = resta_df['price'].quantile(0.75)\n",
    "# Calculate interquartile range\n",
    "iqr = percentile75 - percentile25\n",
    "# Calculate upper and lower thresholds for outliers\n",
    "upper_limit = round(percentile75 + 1.5 * iqr,0)\n",
    "lower_limit = round(percentile25 - 1.5 * iqr,0)\n",
    "print('Lower limit is: ', lower_limit)\n",
    "print('Upper limit',upper_limit)"
   ],
   "outputs": [
    {
     "name": "stdout",
     "output_type": "stream",
     "text": [
      "Lower limit is:  -10.0\n",
      "Upper limit 50.0\n"
     ]
    }
   ],
   "execution_count": 76
  },
  {
   "cell_type": "code",
   "id": "9bc071339df1d002",
   "metadata": {
    "ExecuteTime": {
     "end_time": "2024-07-03T20:43:06.552688700Z",
     "start_time": "2024-07-03T20:42:57.988821900Z"
    }
   },
   "source": [
    "#show all values greater than the max limit\n",
    "resta_df['price'][resta_df['price'] > upper_limit].value_counts().sort_values(ascending=False)"
   ],
   "outputs": [
    {
     "data": {
      "text/plain": "price\n55.0     5664\n57.0     3645\n88.0      820\n65.0      689\n110.0     550\n75.0      254\n78.0      155\n96.0      138\n85.0      112\n80.0       97\n122.0      77\n70.0       45\n86.0       35\n99.0       18\n63.0       17\n123.0      10\n69.0        7\n59.0        5\n130.0       3\n120.0       2\n72.0        1\n87.0        1\nName: count, dtype: int64"
     },
     "execution_count": 77,
     "metadata": {},
     "output_type": "execute_result"
    }
   ],
   "execution_count": 77
  },
  {
   "cell_type": "code",
   "id": "6b5ce56a1f1a8728",
   "metadata": {
    "ExecuteTime": {
     "end_time": "2024-07-03T20:43:06.553648400Z",
     "start_time": "2024-07-03T20:42:58.096628Z"
    }
   },
   "source": [
    "#which products have 55 or more as a price\n",
    "resta_df[resta_df['price'] > upper_limit].sample(20)"
   ],
   "outputs": [
    {
     "data": {
      "text/plain": "        order_id system_date                time group_classifier   \n433940    548618  2022-02-08 1900-01-01 19:24:10             menu  \\\n484157    574232  2022-09-06 1900-01-01 14:03:14             menu   \n293829    462488  2020-05-17 1900-01-01 17:33:40             menu   \n419016    540336  2021-12-06 1900-01-01 20:15:19             menu   \n300977    465990  2020-07-04 1900-01-01 12:29:19             menu   \n488753    576503  2022-09-27 1900-01-01 14:16:35             menu   \n409357    534684  2021-10-30 1900-01-01 14:08:37             menu   \n492620    578485  2022-10-15 1900-01-01 14:37:04             menu   \n273625    450131  2020-01-15 1900-01-01 19:54:39             menu   \n316943    478080  2020-10-11 1900-01-01 14:49:01             menu   \n450120    556576  2022-04-16 1900-01-01 20:05:50             menu   \n504015    585128  2022-12-09 1900-01-01 14:45:02             menu   \n376650    513018  2021-06-19 1900-01-01 18:20:14             menu   \n373144    511300  2021-06-04 1900-01-01 18:23:11             menu   \n479799    572068  2022-08-16 1900-01-01 20:58:39             menu   \n350759    498251  2021-03-01 1900-01-01 13:50:47             menu   \n271400    445804  2020-01-05 1900-01-01 22:30:41             menu   \n285422    456567  2020-02-22 1900-01-01 20:35:25             menu   \n342703    493444  2021-01-23 1900-01-01 21:06:54             menu   \n280328    454243  2020-02-07 1900-01-01 13:23:05             menu   \n\n            classification                       product prod_state  price   \n433940  alitas 16 unidades   alitas miel mostaza 16 unid     activo   57.0  \\\n484157     fingers 12 unid  fingers 12 u miel de mostaza     activo   57.0   \n293829  alitas 16 unidades            alitas bbq 16 unid     activo   55.0   \n419016  alitas 16 unidades            alitas bbq 16 unid     activo   57.0   \n300977  alitas 16 unidades            alitas bbq 16 unid     activo   55.0   \n488753  alitas 32 unidades            alitas bbq 32 unid     activo  122.0   \n409357             fingers            finger 12 unidades   inactivo   55.0   \n492620     fingers 12 unid         fingers 12 u barbacoa     activo   57.0   \n273625  alitas 16 unidades   alitas miel mostaza 16 unid     activo   55.0   \n316943  alitas 16 unidades   alitas miel mostaza 16 unid     activo   55.0   \n450120  alitas 16 unidades   alitas miel mostaza 16 unid     activo   57.0   \n504015  alitas 32 unidades            alitas bbq 32 unid     activo  122.0   \n376650  alitas 16 unidades       alitas albahaca 16 unid     activo   57.0   \n373144  alitas 16 unidades   alitas miel mostaza 16 unid     activo   57.0   \n479799  alitas 16 unidades   alitas miel mostaza 16 unid     activo   65.0   \n350759  alitas 16 unidades           alitas buff 16 unid     activo   57.0   \n271400              combos                 4 combo nikis     activo   78.0   \n285422  alitas 16 unidades   alitas miel mostaza 16 unid     activo   55.0   \n342703  alitas 16 unidades   alitas miel mostaza 16 unid     activo   55.0   \n280328  alitas 16 unidades   alitas miel mostaza 16 unid     activo   55.0   \n\n        quantity  to_pay_xprod  ...         location order_number   \n433940         1          57.0  ...     . - sin mesa           78  \\\n484157         1          57.0  ...  0 - para llevar           24   \n293829         2         110.0  ...  0 - para llevar           44   \n419016         1          57.0  ...     . - sin mesa           99   \n300977         1          55.0  ...  0 - para llevar            7   \n488753         2         244.0  ...  0 - para llevar           35   \n409357         1          55.0  ...     . - sin mesa           39   \n492620         1          57.0  ...  0 - para llevar           41   \n273625         1          55.0  ...  0 - para llevar           44   \n316943         2         110.0  ...  0 - para llevar           50   \n450120         1          57.0  ...  0 - para llevar           95   \n504015         1         122.0  ...     . - sin mesa           27   \n376650         1          57.0  ...  0 - para llevar           61   \n373144         1          57.0  ...     . - sin mesa           92   \n479799         1          65.0  ...  0 - para llevar           60   \n350759         1          57.0  ...  0 - para llevar           24   \n271400         1          78.0  ...  0 - para llevar          112   \n285422         1          55.0  ...  0 - para llevar          107   \n342703         1          55.0  ...  0 - para llevar           99   \n280328         1          55.0  ...       7 - mesa 7           26   \n\n       modification_date  modification_reason  is_cancelled  is_courtesy   \n433940               NaN              Ninguna         False        False  \\\n484157               NaN              Ninguna         False        False   \n293829               NaN              Ninguna         False        False   \n419016               NaN              Ninguna         False        False   \n300977               NaN              Ninguna         False        False   \n488753               NaN              Ninguna         False        False   \n409357               NaN              Ninguna         False        False   \n492620               NaN              Ninguna         False        False   \n273625               NaN              Ninguna         False        False   \n316943               NaN              Ninguna         False        False   \n450120               NaN              Ninguna         False        False   \n504015               NaN              Ninguna         False        False   \n376650               NaN              Ninguna         False        False   \n373144               NaN              Ninguna         False        False   \n479799               NaN              Ninguna         False        False   \n350759               NaN              Ninguna         False        False   \n271400               NaN              Ninguna         False        False   \n285422               NaN              Ninguna         False        False   \n342703               NaN              Ninguna         False        False   \n280328               NaN              Ninguna         False        False   \n\n         status  start_balance end_balance stateprod  \n433940  cerrado            0.0         0.0    activo  \n484157  cerrado            0.0         0.0    activo  \n293829  cerrado            0.0         0.0    activo  \n419016  cerrado            0.0         0.0    activo  \n300977  cerrado            0.0         0.0    activo  \n488753  cerrado            0.0         0.0    activo  \n409357  cerrado            0.0         0.0  inactivo  \n492620  cerrado            0.0         0.0    activo  \n273625  cerrado            0.0         0.0    activo  \n316943  cerrado            0.0         0.0    activo  \n450120  cerrado            0.0         0.0    activo  \n504015  cerrado            0.0         0.0    activo  \n376650  cerrado            0.0         0.0    activo  \n373144  cerrado            0.0         0.0    activo  \n479799  cerrado            0.0         0.0    activo  \n350759  cerrado            0.0         0.0    activo  \n271400  cerrado            0.0         0.0    activo  \n285422  cerrado            0.0         0.0    activo  \n342703  cerrado            0.0         0.0    activo  \n280328  cerrado            0.0         0.0    activo  \n\n[20 rows x 26 columns]",
      "text/html": "<div>\n<style scoped>\n    .dataframe tbody tr th:only-of-type {\n        vertical-align: middle;\n    }\n\n    .dataframe tbody tr th {\n        vertical-align: top;\n    }\n\n    .dataframe thead th {\n        text-align: right;\n    }\n</style>\n<table border=\"1\" class=\"dataframe\">\n  <thead>\n    <tr style=\"text-align: right;\">\n      <th></th>\n      <th>order_id</th>\n      <th>system_date</th>\n      <th>time</th>\n      <th>group_classifier</th>\n      <th>classification</th>\n      <th>product</th>\n      <th>prod_state</th>\n      <th>price</th>\n      <th>quantity</th>\n      <th>to_pay_xprod</th>\n      <th>...</th>\n      <th>location</th>\n      <th>order_number</th>\n      <th>modification_date</th>\n      <th>modification_reason</th>\n      <th>is_cancelled</th>\n      <th>is_courtesy</th>\n      <th>status</th>\n      <th>start_balance</th>\n      <th>end_balance</th>\n      <th>stateprod</th>\n    </tr>\n  </thead>\n  <tbody>\n    <tr>\n      <th>433940</th>\n      <td>548618</td>\n      <td>2022-02-08</td>\n      <td>1900-01-01 19:24:10</td>\n      <td>menu</td>\n      <td>alitas 16 unidades</td>\n      <td>alitas miel mostaza 16 unid</td>\n      <td>activo</td>\n      <td>57.0</td>\n      <td>1</td>\n      <td>57.0</td>\n      <td>...</td>\n      <td>. - sin mesa</td>\n      <td>78</td>\n      <td>NaN</td>\n      <td>Ninguna</td>\n      <td>False</td>\n      <td>False</td>\n      <td>cerrado</td>\n      <td>0.0</td>\n      <td>0.0</td>\n      <td>activo</td>\n    </tr>\n    <tr>\n      <th>484157</th>\n      <td>574232</td>\n      <td>2022-09-06</td>\n      <td>1900-01-01 14:03:14</td>\n      <td>menu</td>\n      <td>fingers 12 unid</td>\n      <td>fingers 12 u miel de mostaza</td>\n      <td>activo</td>\n      <td>57.0</td>\n      <td>1</td>\n      <td>57.0</td>\n      <td>...</td>\n      <td>0 - para llevar</td>\n      <td>24</td>\n      <td>NaN</td>\n      <td>Ninguna</td>\n      <td>False</td>\n      <td>False</td>\n      <td>cerrado</td>\n      <td>0.0</td>\n      <td>0.0</td>\n      <td>activo</td>\n    </tr>\n    <tr>\n      <th>293829</th>\n      <td>462488</td>\n      <td>2020-05-17</td>\n      <td>1900-01-01 17:33:40</td>\n      <td>menu</td>\n      <td>alitas 16 unidades</td>\n      <td>alitas bbq 16 unid</td>\n      <td>activo</td>\n      <td>55.0</td>\n      <td>2</td>\n      <td>110.0</td>\n      <td>...</td>\n      <td>0 - para llevar</td>\n      <td>44</td>\n      <td>NaN</td>\n      <td>Ninguna</td>\n      <td>False</td>\n      <td>False</td>\n      <td>cerrado</td>\n      <td>0.0</td>\n      <td>0.0</td>\n      <td>activo</td>\n    </tr>\n    <tr>\n      <th>419016</th>\n      <td>540336</td>\n      <td>2021-12-06</td>\n      <td>1900-01-01 20:15:19</td>\n      <td>menu</td>\n      <td>alitas 16 unidades</td>\n      <td>alitas bbq 16 unid</td>\n      <td>activo</td>\n      <td>57.0</td>\n      <td>1</td>\n      <td>57.0</td>\n      <td>...</td>\n      <td>. - sin mesa</td>\n      <td>99</td>\n      <td>NaN</td>\n      <td>Ninguna</td>\n      <td>False</td>\n      <td>False</td>\n      <td>cerrado</td>\n      <td>0.0</td>\n      <td>0.0</td>\n      <td>activo</td>\n    </tr>\n    <tr>\n      <th>300977</th>\n      <td>465990</td>\n      <td>2020-07-04</td>\n      <td>1900-01-01 12:29:19</td>\n      <td>menu</td>\n      <td>alitas 16 unidades</td>\n      <td>alitas bbq 16 unid</td>\n      <td>activo</td>\n      <td>55.0</td>\n      <td>1</td>\n      <td>55.0</td>\n      <td>...</td>\n      <td>0 - para llevar</td>\n      <td>7</td>\n      <td>NaN</td>\n      <td>Ninguna</td>\n      <td>False</td>\n      <td>False</td>\n      <td>cerrado</td>\n      <td>0.0</td>\n      <td>0.0</td>\n      <td>activo</td>\n    </tr>\n    <tr>\n      <th>488753</th>\n      <td>576503</td>\n      <td>2022-09-27</td>\n      <td>1900-01-01 14:16:35</td>\n      <td>menu</td>\n      <td>alitas 32 unidades</td>\n      <td>alitas bbq 32 unid</td>\n      <td>activo</td>\n      <td>122.0</td>\n      <td>2</td>\n      <td>244.0</td>\n      <td>...</td>\n      <td>0 - para llevar</td>\n      <td>35</td>\n      <td>NaN</td>\n      <td>Ninguna</td>\n      <td>False</td>\n      <td>False</td>\n      <td>cerrado</td>\n      <td>0.0</td>\n      <td>0.0</td>\n      <td>activo</td>\n    </tr>\n    <tr>\n      <th>409357</th>\n      <td>534684</td>\n      <td>2021-10-30</td>\n      <td>1900-01-01 14:08:37</td>\n      <td>menu</td>\n      <td>fingers</td>\n      <td>finger 12 unidades</td>\n      <td>inactivo</td>\n      <td>55.0</td>\n      <td>1</td>\n      <td>55.0</td>\n      <td>...</td>\n      <td>. - sin mesa</td>\n      <td>39</td>\n      <td>NaN</td>\n      <td>Ninguna</td>\n      <td>False</td>\n      <td>False</td>\n      <td>cerrado</td>\n      <td>0.0</td>\n      <td>0.0</td>\n      <td>inactivo</td>\n    </tr>\n    <tr>\n      <th>492620</th>\n      <td>578485</td>\n      <td>2022-10-15</td>\n      <td>1900-01-01 14:37:04</td>\n      <td>menu</td>\n      <td>fingers 12 unid</td>\n      <td>fingers 12 u barbacoa</td>\n      <td>activo</td>\n      <td>57.0</td>\n      <td>1</td>\n      <td>57.0</td>\n      <td>...</td>\n      <td>0 - para llevar</td>\n      <td>41</td>\n      <td>NaN</td>\n      <td>Ninguna</td>\n      <td>False</td>\n      <td>False</td>\n      <td>cerrado</td>\n      <td>0.0</td>\n      <td>0.0</td>\n      <td>activo</td>\n    </tr>\n    <tr>\n      <th>273625</th>\n      <td>450131</td>\n      <td>2020-01-15</td>\n      <td>1900-01-01 19:54:39</td>\n      <td>menu</td>\n      <td>alitas 16 unidades</td>\n      <td>alitas miel mostaza 16 unid</td>\n      <td>activo</td>\n      <td>55.0</td>\n      <td>1</td>\n      <td>55.0</td>\n      <td>...</td>\n      <td>0 - para llevar</td>\n      <td>44</td>\n      <td>NaN</td>\n      <td>Ninguna</td>\n      <td>False</td>\n      <td>False</td>\n      <td>cerrado</td>\n      <td>0.0</td>\n      <td>0.0</td>\n      <td>activo</td>\n    </tr>\n    <tr>\n      <th>316943</th>\n      <td>478080</td>\n      <td>2020-10-11</td>\n      <td>1900-01-01 14:49:01</td>\n      <td>menu</td>\n      <td>alitas 16 unidades</td>\n      <td>alitas miel mostaza 16 unid</td>\n      <td>activo</td>\n      <td>55.0</td>\n      <td>2</td>\n      <td>110.0</td>\n      <td>...</td>\n      <td>0 - para llevar</td>\n      <td>50</td>\n      <td>NaN</td>\n      <td>Ninguna</td>\n      <td>False</td>\n      <td>False</td>\n      <td>cerrado</td>\n      <td>0.0</td>\n      <td>0.0</td>\n      <td>activo</td>\n    </tr>\n    <tr>\n      <th>450120</th>\n      <td>556576</td>\n      <td>2022-04-16</td>\n      <td>1900-01-01 20:05:50</td>\n      <td>menu</td>\n      <td>alitas 16 unidades</td>\n      <td>alitas miel mostaza 16 unid</td>\n      <td>activo</td>\n      <td>57.0</td>\n      <td>1</td>\n      <td>57.0</td>\n      <td>...</td>\n      <td>0 - para llevar</td>\n      <td>95</td>\n      <td>NaN</td>\n      <td>Ninguna</td>\n      <td>False</td>\n      <td>False</td>\n      <td>cerrado</td>\n      <td>0.0</td>\n      <td>0.0</td>\n      <td>activo</td>\n    </tr>\n    <tr>\n      <th>504015</th>\n      <td>585128</td>\n      <td>2022-12-09</td>\n      <td>1900-01-01 14:45:02</td>\n      <td>menu</td>\n      <td>alitas 32 unidades</td>\n      <td>alitas bbq 32 unid</td>\n      <td>activo</td>\n      <td>122.0</td>\n      <td>1</td>\n      <td>122.0</td>\n      <td>...</td>\n      <td>. - sin mesa</td>\n      <td>27</td>\n      <td>NaN</td>\n      <td>Ninguna</td>\n      <td>False</td>\n      <td>False</td>\n      <td>cerrado</td>\n      <td>0.0</td>\n      <td>0.0</td>\n      <td>activo</td>\n    </tr>\n    <tr>\n      <th>376650</th>\n      <td>513018</td>\n      <td>2021-06-19</td>\n      <td>1900-01-01 18:20:14</td>\n      <td>menu</td>\n      <td>alitas 16 unidades</td>\n      <td>alitas albahaca 16 unid</td>\n      <td>activo</td>\n      <td>57.0</td>\n      <td>1</td>\n      <td>57.0</td>\n      <td>...</td>\n      <td>0 - para llevar</td>\n      <td>61</td>\n      <td>NaN</td>\n      <td>Ninguna</td>\n      <td>False</td>\n      <td>False</td>\n      <td>cerrado</td>\n      <td>0.0</td>\n      <td>0.0</td>\n      <td>activo</td>\n    </tr>\n    <tr>\n      <th>373144</th>\n      <td>511300</td>\n      <td>2021-06-04</td>\n      <td>1900-01-01 18:23:11</td>\n      <td>menu</td>\n      <td>alitas 16 unidades</td>\n      <td>alitas miel mostaza 16 unid</td>\n      <td>activo</td>\n      <td>57.0</td>\n      <td>1</td>\n      <td>57.0</td>\n      <td>...</td>\n      <td>. - sin mesa</td>\n      <td>92</td>\n      <td>NaN</td>\n      <td>Ninguna</td>\n      <td>False</td>\n      <td>False</td>\n      <td>cerrado</td>\n      <td>0.0</td>\n      <td>0.0</td>\n      <td>activo</td>\n    </tr>\n    <tr>\n      <th>479799</th>\n      <td>572068</td>\n      <td>2022-08-16</td>\n      <td>1900-01-01 20:58:39</td>\n      <td>menu</td>\n      <td>alitas 16 unidades</td>\n      <td>alitas miel mostaza 16 unid</td>\n      <td>activo</td>\n      <td>65.0</td>\n      <td>1</td>\n      <td>65.0</td>\n      <td>...</td>\n      <td>0 - para llevar</td>\n      <td>60</td>\n      <td>NaN</td>\n      <td>Ninguna</td>\n      <td>False</td>\n      <td>False</td>\n      <td>cerrado</td>\n      <td>0.0</td>\n      <td>0.0</td>\n      <td>activo</td>\n    </tr>\n    <tr>\n      <th>350759</th>\n      <td>498251</td>\n      <td>2021-03-01</td>\n      <td>1900-01-01 13:50:47</td>\n      <td>menu</td>\n      <td>alitas 16 unidades</td>\n      <td>alitas buff 16 unid</td>\n      <td>activo</td>\n      <td>57.0</td>\n      <td>1</td>\n      <td>57.0</td>\n      <td>...</td>\n      <td>0 - para llevar</td>\n      <td>24</td>\n      <td>NaN</td>\n      <td>Ninguna</td>\n      <td>False</td>\n      <td>False</td>\n      <td>cerrado</td>\n      <td>0.0</td>\n      <td>0.0</td>\n      <td>activo</td>\n    </tr>\n    <tr>\n      <th>271400</th>\n      <td>445804</td>\n      <td>2020-01-05</td>\n      <td>1900-01-01 22:30:41</td>\n      <td>menu</td>\n      <td>combos</td>\n      <td>4 combo nikis</td>\n      <td>activo</td>\n      <td>78.0</td>\n      <td>1</td>\n      <td>78.0</td>\n      <td>...</td>\n      <td>0 - para llevar</td>\n      <td>112</td>\n      <td>NaN</td>\n      <td>Ninguna</td>\n      <td>False</td>\n      <td>False</td>\n      <td>cerrado</td>\n      <td>0.0</td>\n      <td>0.0</td>\n      <td>activo</td>\n    </tr>\n    <tr>\n      <th>285422</th>\n      <td>456567</td>\n      <td>2020-02-22</td>\n      <td>1900-01-01 20:35:25</td>\n      <td>menu</td>\n      <td>alitas 16 unidades</td>\n      <td>alitas miel mostaza 16 unid</td>\n      <td>activo</td>\n      <td>55.0</td>\n      <td>1</td>\n      <td>55.0</td>\n      <td>...</td>\n      <td>0 - para llevar</td>\n      <td>107</td>\n      <td>NaN</td>\n      <td>Ninguna</td>\n      <td>False</td>\n      <td>False</td>\n      <td>cerrado</td>\n      <td>0.0</td>\n      <td>0.0</td>\n      <td>activo</td>\n    </tr>\n    <tr>\n      <th>342703</th>\n      <td>493444</td>\n      <td>2021-01-23</td>\n      <td>1900-01-01 21:06:54</td>\n      <td>menu</td>\n      <td>alitas 16 unidades</td>\n      <td>alitas miel mostaza 16 unid</td>\n      <td>activo</td>\n      <td>55.0</td>\n      <td>1</td>\n      <td>55.0</td>\n      <td>...</td>\n      <td>0 - para llevar</td>\n      <td>99</td>\n      <td>NaN</td>\n      <td>Ninguna</td>\n      <td>False</td>\n      <td>False</td>\n      <td>cerrado</td>\n      <td>0.0</td>\n      <td>0.0</td>\n      <td>activo</td>\n    </tr>\n    <tr>\n      <th>280328</th>\n      <td>454243</td>\n      <td>2020-02-07</td>\n      <td>1900-01-01 13:23:05</td>\n      <td>menu</td>\n      <td>alitas 16 unidades</td>\n      <td>alitas miel mostaza 16 unid</td>\n      <td>activo</td>\n      <td>55.0</td>\n      <td>1</td>\n      <td>55.0</td>\n      <td>...</td>\n      <td>7 - mesa 7</td>\n      <td>26</td>\n      <td>NaN</td>\n      <td>Ninguna</td>\n      <td>False</td>\n      <td>False</td>\n      <td>cerrado</td>\n      <td>0.0</td>\n      <td>0.0</td>\n      <td>activo</td>\n    </tr>\n  </tbody>\n</table>\n<p>20 rows × 26 columns</p>\n</div>"
     },
     "execution_count": 78,
     "metadata": {},
     "output_type": "execute_result"
    }
   ],
   "execution_count": 78
  },
  {
   "cell_type": "code",
   "id": "5091bd1a6c9159c4",
   "metadata": {
    "ExecuteTime": {
     "end_time": "2024-07-03T20:43:06.553648400Z",
     "start_time": "2024-07-03T20:42:58.180549600Z"
    }
   },
   "source": [
    "resta_df[['classification','price']][resta_df['price'] > 88].value_counts()"
   ],
   "outputs": [
    {
     "data": {
      "text/plain": "classification      price\nalitas 32 unidades  110.0    513\nalitas 24 unidades  96.0     138\nalitas 32 unidades  122.0     77\nproduct             110.0     37\ncombos              99.0      18\nsin uso             123.0     10\npromocion           130.0      3\ncombos              120.0      2\nName: count, dtype: int64"
     },
     "execution_count": 79,
     "metadata": {},
     "output_type": "execute_result"
    }
   ],
   "execution_count": 79
  },
  {
   "cell_type": "code",
   "id": "e637f185b3a5aef",
   "metadata": {
    "ExecuteTime": {
     "end_time": "2024-07-03T20:43:06.554268700Z",
     "start_time": "2024-07-03T20:42:58.446327100Z"
    }
   },
   "source": [
    "resta_df[['classification','price']][resta_df['price'] ==resta_df['price'].min()].value_counts()"
   ],
   "outputs": [
    {
     "data": {
      "text/plain": "classification  price\ndelivery        1.0      16547\nsin uso         1.0       2975\nproduct         1.0        431\nName: count, dtype: int64"
     },
     "execution_count": 80,
     "metadata": {},
     "output_type": "execute_result"
    }
   ],
   "execution_count": 80
  },
  {
   "cell_type": "code",
   "id": "21a9c137eeb40f76",
   "metadata": {
    "ExecuteTime": {
     "end_time": "2024-07-03T20:43:06.554268700Z",
     "start_time": "2024-07-03T20:42:58.664993100Z"
    }
   },
   "source": [
    "resta_df[['classification','price']][resta_df['price']==resta_df['price'].max()].value_counts()"
   ],
   "outputs": [
    {
     "data": {
      "text/plain": "classification  price\npromocion       130.0    3\nName: count, dtype: int64"
     },
     "execution_count": 81,
     "metadata": {},
     "output_type": "execute_result"
    }
   ],
   "execution_count": 81
  },
  {
   "cell_type": "markdown",
   "id": "52bc00f87e00500f",
   "metadata": {},
   "source": [
    "#### Analysis of 'quantity' column"
   ]
  },
  {
   "cell_type": "code",
   "id": "84ae281977180997",
   "metadata": {
    "ExecuteTime": {
     "end_time": "2024-07-03T20:43:06.554268700Z",
     "start_time": "2024-07-03T20:42:58.824106300Z"
    }
   },
   "source": [
    "# Calculate 25th percentile of annual strikes\n",
    "percentile25 = resta_df['quantity'].quantile(0.25)\n",
    "# Calculate 75th percentile of annual strikes\n",
    "percentile75 = resta_df['quantity'].quantile(0.75)\n",
    "# Calculate interquartile range\n",
    "iqr = percentile75 - percentile25\n",
    "# Calculate upper and lower thresholds for outliers\n",
    "upper_limit = round(percentile75 + 1.5 * iqr,0)\n",
    "lower_limit = round(percentile25 - 1.5 * iqr,0)\n",
    "print('Lower limit is: ', lower_limit)\n",
    "print('Upper limit',upper_limit)"
   ],
   "outputs": [
    {
     "name": "stdout",
     "output_type": "stream",
     "text": [
      "Lower limit is:  1.0\n",
      "Upper limit 1.0\n"
     ]
    }
   ],
   "execution_count": 82
  },
  {
   "cell_type": "code",
   "id": "5ed6ce17fc0ccdb9",
   "metadata": {
    "ExecuteTime": {
     "end_time": "2024-07-03T20:43:06.579767200Z",
     "start_time": "2024-07-03T20:42:58.944045800Z"
    }
   },
   "source": [
    "resta_df['quantity'].value_counts().sort_values(ascending=False)"
   ],
   "outputs": [
    {
     "data": {
      "text/plain": "quantity\n1      412687\n2       59788\n3        9685\n4        4319\n5        3063\n        ...  \n54          1\n59          1\n62          1\n135         1\n96          1\nName: count, Length: 79, dtype: int64"
     },
     "execution_count": 83,
     "metadata": {},
     "output_type": "execute_result"
    }
   ],
   "execution_count": 83
  },
  {
   "cell_type": "code",
   "id": "ea7a5455156317e0",
   "metadata": {
    "ExecuteTime": {
     "end_time": "2024-07-03T20:43:06.579767200Z",
     "start_time": "2024-07-03T20:42:59.124802600Z"
    }
   },
   "source": [
    "resta_df[resta_df['quantity'] > upper_limit].sort_values(by='quantity').sample(5)"
   ],
   "outputs": [
    {
     "data": {
      "text/plain": "        order_id system_date                time group_classifier   \n340870    492573  2021-01-16 1900-01-01 12:40:12          bebidas  \\\n15020      26482  2016-12-06 1900-01-01 20:57:31             menu   \n238403    386312  2019-09-03 1900-01-01 12:46:23             menu   \n440178    551696  2022-03-06 1900-01-01 21:16:16             menu   \n191166    328202  2019-03-30 1900-01-01 16:01:20             menu   \n\n                  classification                product prod_state  price   \n340870                  personal         fanta personal     activo    2.5  \\\n15020          alitas 8 unidades    alitas miel mostaza     activo   27.0   \n238403  alitas 6 unidades  26 bs  alitas picante 6 unid     activo   22.0   \n440178                  delivery             pedidos ya     activo    1.0   \n191166         alitas 8 unidades        alitas barbacoa     activo   28.0   \n\n        quantity  to_pay_xprod  ...         location order_number   \n340870         3           7.5  ...     11 - mesa 11            5  \\\n15020          2          54.0  ...       8 - mesa 8           35   \n238403         2          44.0  ...       4 - mesa 4           12   \n440178         9           9.0  ...  0 - para llevar          114   \n191166         2          56.0  ...     13 - mesa 13           49   \n\n       modification_date  modification_reason  is_cancelled  is_courtesy   \n340870               NaN              Ninguna         False        False  \\\n15020                NaN              Ninguna         False        False   \n238403               NaN              Ninguna         False        False   \n440178               NaN              Ninguna         False        False   \n191166               NaN              Ninguna         False        False   \n\n         status  start_balance end_balance stateprod  \n340870  cerrado            0.0         0.0    activo  \n15020   cerrado            0.0         0.0    activo  \n238403  cerrado            0.0         0.0    activo  \n440178  cerrado            0.0         0.0    activo  \n191166  cerrado            0.0         0.0    activo  \n\n[5 rows x 26 columns]",
      "text/html": "<div>\n<style scoped>\n    .dataframe tbody tr th:only-of-type {\n        vertical-align: middle;\n    }\n\n    .dataframe tbody tr th {\n        vertical-align: top;\n    }\n\n    .dataframe thead th {\n        text-align: right;\n    }\n</style>\n<table border=\"1\" class=\"dataframe\">\n  <thead>\n    <tr style=\"text-align: right;\">\n      <th></th>\n      <th>order_id</th>\n      <th>system_date</th>\n      <th>time</th>\n      <th>group_classifier</th>\n      <th>classification</th>\n      <th>product</th>\n      <th>prod_state</th>\n      <th>price</th>\n      <th>quantity</th>\n      <th>to_pay_xprod</th>\n      <th>...</th>\n      <th>location</th>\n      <th>order_number</th>\n      <th>modification_date</th>\n      <th>modification_reason</th>\n      <th>is_cancelled</th>\n      <th>is_courtesy</th>\n      <th>status</th>\n      <th>start_balance</th>\n      <th>end_balance</th>\n      <th>stateprod</th>\n    </tr>\n  </thead>\n  <tbody>\n    <tr>\n      <th>340870</th>\n      <td>492573</td>\n      <td>2021-01-16</td>\n      <td>1900-01-01 12:40:12</td>\n      <td>bebidas</td>\n      <td>personal</td>\n      <td>fanta personal</td>\n      <td>activo</td>\n      <td>2.5</td>\n      <td>3</td>\n      <td>7.5</td>\n      <td>...</td>\n      <td>11 - mesa 11</td>\n      <td>5</td>\n      <td>NaN</td>\n      <td>Ninguna</td>\n      <td>False</td>\n      <td>False</td>\n      <td>cerrado</td>\n      <td>0.0</td>\n      <td>0.0</td>\n      <td>activo</td>\n    </tr>\n    <tr>\n      <th>15020</th>\n      <td>26482</td>\n      <td>2016-12-06</td>\n      <td>1900-01-01 20:57:31</td>\n      <td>menu</td>\n      <td>alitas 8 unidades</td>\n      <td>alitas miel mostaza</td>\n      <td>activo</td>\n      <td>27.0</td>\n      <td>2</td>\n      <td>54.0</td>\n      <td>...</td>\n      <td>8 - mesa 8</td>\n      <td>35</td>\n      <td>NaN</td>\n      <td>Ninguna</td>\n      <td>False</td>\n      <td>False</td>\n      <td>cerrado</td>\n      <td>0.0</td>\n      <td>0.0</td>\n      <td>activo</td>\n    </tr>\n    <tr>\n      <th>238403</th>\n      <td>386312</td>\n      <td>2019-09-03</td>\n      <td>1900-01-01 12:46:23</td>\n      <td>menu</td>\n      <td>alitas 6 unidades  26 bs</td>\n      <td>alitas picante 6 unid</td>\n      <td>activo</td>\n      <td>22.0</td>\n      <td>2</td>\n      <td>44.0</td>\n      <td>...</td>\n      <td>4 - mesa 4</td>\n      <td>12</td>\n      <td>NaN</td>\n      <td>Ninguna</td>\n      <td>False</td>\n      <td>False</td>\n      <td>cerrado</td>\n      <td>0.0</td>\n      <td>0.0</td>\n      <td>activo</td>\n    </tr>\n    <tr>\n      <th>440178</th>\n      <td>551696</td>\n      <td>2022-03-06</td>\n      <td>1900-01-01 21:16:16</td>\n      <td>menu</td>\n      <td>delivery</td>\n      <td>pedidos ya</td>\n      <td>activo</td>\n      <td>1.0</td>\n      <td>9</td>\n      <td>9.0</td>\n      <td>...</td>\n      <td>0 - para llevar</td>\n      <td>114</td>\n      <td>NaN</td>\n      <td>Ninguna</td>\n      <td>False</td>\n      <td>False</td>\n      <td>cerrado</td>\n      <td>0.0</td>\n      <td>0.0</td>\n      <td>activo</td>\n    </tr>\n    <tr>\n      <th>191166</th>\n      <td>328202</td>\n      <td>2019-03-30</td>\n      <td>1900-01-01 16:01:20</td>\n      <td>menu</td>\n      <td>alitas 8 unidades</td>\n      <td>alitas barbacoa</td>\n      <td>activo</td>\n      <td>28.0</td>\n      <td>2</td>\n      <td>56.0</td>\n      <td>...</td>\n      <td>13 - mesa 13</td>\n      <td>49</td>\n      <td>NaN</td>\n      <td>Ninguna</td>\n      <td>False</td>\n      <td>False</td>\n      <td>cerrado</td>\n      <td>0.0</td>\n      <td>0.0</td>\n      <td>activo</td>\n    </tr>\n  </tbody>\n</table>\n<p>5 rows × 26 columns</p>\n</div>"
     },
     "execution_count": 84,
     "metadata": {},
     "output_type": "execute_result"
    }
   ],
   "execution_count": 84
  },
  {
   "cell_type": "code",
   "id": "37328a36d6181587",
   "metadata": {
    "ExecuteTime": {
     "end_time": "2024-07-03T20:43:06.580786700Z",
     "start_time": "2024-07-03T20:42:59.311402100Z"
    }
   },
   "source": [
    "resta_df[resta_df['quantity'] > 60].sort_values(by='quantity').sample(5)"
   ],
   "outputs": [
    {
     "data": {
      "text/plain": "        order_id system_date                time group_classifier   \n483158    573738  2022-09-01 1900-01-01 13:39:08            otros  \\\n292058    461647  2020-03-17 1900-01-01 12:04:27             menu   \n456972    559899  2022-05-13 1900-01-01 16:04:12            otros   \n480071    572197  2022-08-18 1900-01-01 11:57:42            otros   \n498110    581254  2022-11-10 1900-01-01 12:20:47            otros   \n\n                   classification             product prod_state  price   \n483158                    product              aceite     activo    1.0  \\\n292058  alitas 4 unidades   19 bs  alitas miel 4 unid     activo   16.0   \n456972                    product              aceite     activo    1.0   \n480071                    product              aceite     activo    1.0   \n498110                    product              aceite     activo    1.0   \n\n        quantity  to_pay_xprod  ...         location order_number   \n483158        67          67.0  ...  0 - para llevar           23  \\\n292058        66        1056.0  ...  0 - para llevar            2   \n456972        67          67.0  ...  0 - para llevar           59   \n480071        65          65.0  ...  0 - para llevar            1   \n498110       100         100.0  ...  0 - para llevar            5   \n\n       modification_date  modification_reason  is_cancelled  is_courtesy   \n483158               NaN              Ninguna         False        False  \\\n292058               NaN              Ninguna         False        False   \n456972               NaN              Ninguna         False        False   \n480071               NaN              Ninguna         False        False   \n498110               NaN              Ninguna         False        False   \n\n         status  start_balance end_balance stateprod  \n483158  cerrado            0.0         0.0    activo  \n292058  cerrado            0.0         0.0    activo  \n456972  cerrado            0.0         0.0    activo  \n480071  cerrado            0.0         0.0    activo  \n498110  cerrado            0.0         0.0    activo  \n\n[5 rows x 26 columns]",
      "text/html": "<div>\n<style scoped>\n    .dataframe tbody tr th:only-of-type {\n        vertical-align: middle;\n    }\n\n    .dataframe tbody tr th {\n        vertical-align: top;\n    }\n\n    .dataframe thead th {\n        text-align: right;\n    }\n</style>\n<table border=\"1\" class=\"dataframe\">\n  <thead>\n    <tr style=\"text-align: right;\">\n      <th></th>\n      <th>order_id</th>\n      <th>system_date</th>\n      <th>time</th>\n      <th>group_classifier</th>\n      <th>classification</th>\n      <th>product</th>\n      <th>prod_state</th>\n      <th>price</th>\n      <th>quantity</th>\n      <th>to_pay_xprod</th>\n      <th>...</th>\n      <th>location</th>\n      <th>order_number</th>\n      <th>modification_date</th>\n      <th>modification_reason</th>\n      <th>is_cancelled</th>\n      <th>is_courtesy</th>\n      <th>status</th>\n      <th>start_balance</th>\n      <th>end_balance</th>\n      <th>stateprod</th>\n    </tr>\n  </thead>\n  <tbody>\n    <tr>\n      <th>483158</th>\n      <td>573738</td>\n      <td>2022-09-01</td>\n      <td>1900-01-01 13:39:08</td>\n      <td>otros</td>\n      <td>product</td>\n      <td>aceite</td>\n      <td>activo</td>\n      <td>1.0</td>\n      <td>67</td>\n      <td>67.0</td>\n      <td>...</td>\n      <td>0 - para llevar</td>\n      <td>23</td>\n      <td>NaN</td>\n      <td>Ninguna</td>\n      <td>False</td>\n      <td>False</td>\n      <td>cerrado</td>\n      <td>0.0</td>\n      <td>0.0</td>\n      <td>activo</td>\n    </tr>\n    <tr>\n      <th>292058</th>\n      <td>461647</td>\n      <td>2020-03-17</td>\n      <td>1900-01-01 12:04:27</td>\n      <td>menu</td>\n      <td>alitas 4 unidades   19 bs</td>\n      <td>alitas miel 4 unid</td>\n      <td>activo</td>\n      <td>16.0</td>\n      <td>66</td>\n      <td>1056.0</td>\n      <td>...</td>\n      <td>0 - para llevar</td>\n      <td>2</td>\n      <td>NaN</td>\n      <td>Ninguna</td>\n      <td>False</td>\n      <td>False</td>\n      <td>cerrado</td>\n      <td>0.0</td>\n      <td>0.0</td>\n      <td>activo</td>\n    </tr>\n    <tr>\n      <th>456972</th>\n      <td>559899</td>\n      <td>2022-05-13</td>\n      <td>1900-01-01 16:04:12</td>\n      <td>otros</td>\n      <td>product</td>\n      <td>aceite</td>\n      <td>activo</td>\n      <td>1.0</td>\n      <td>67</td>\n      <td>67.0</td>\n      <td>...</td>\n      <td>0 - para llevar</td>\n      <td>59</td>\n      <td>NaN</td>\n      <td>Ninguna</td>\n      <td>False</td>\n      <td>False</td>\n      <td>cerrado</td>\n      <td>0.0</td>\n      <td>0.0</td>\n      <td>activo</td>\n    </tr>\n    <tr>\n      <th>480071</th>\n      <td>572197</td>\n      <td>2022-08-18</td>\n      <td>1900-01-01 11:57:42</td>\n      <td>otros</td>\n      <td>product</td>\n      <td>aceite</td>\n      <td>activo</td>\n      <td>1.0</td>\n      <td>65</td>\n      <td>65.0</td>\n      <td>...</td>\n      <td>0 - para llevar</td>\n      <td>1</td>\n      <td>NaN</td>\n      <td>Ninguna</td>\n      <td>False</td>\n      <td>False</td>\n      <td>cerrado</td>\n      <td>0.0</td>\n      <td>0.0</td>\n      <td>activo</td>\n    </tr>\n    <tr>\n      <th>498110</th>\n      <td>581254</td>\n      <td>2022-11-10</td>\n      <td>1900-01-01 12:20:47</td>\n      <td>otros</td>\n      <td>product</td>\n      <td>aceite</td>\n      <td>activo</td>\n      <td>1.0</td>\n      <td>100</td>\n      <td>100.0</td>\n      <td>...</td>\n      <td>0 - para llevar</td>\n      <td>5</td>\n      <td>NaN</td>\n      <td>Ninguna</td>\n      <td>False</td>\n      <td>False</td>\n      <td>cerrado</td>\n      <td>0.0</td>\n      <td>0.0</td>\n      <td>activo</td>\n    </tr>\n  </tbody>\n</table>\n<p>5 rows × 26 columns</p>\n</div>"
     },
     "execution_count": 85,
     "metadata": {},
     "output_type": "execute_result"
    }
   ],
   "execution_count": 85
  },
  {
   "cell_type": "markdown",
   "id": "ceff8374aa783445",
   "metadata": {},
   "source": [
    "### Categorical variables"
   ]
  },
  {
   "cell_type": "markdown",
   "id": "4cc30318f5ebe135",
   "metadata": {},
   "source": [
    "#### Analysis of 'prod_state' column"
   ]
  },
  {
   "cell_type": "code",
   "id": "32363c77708bef08",
   "metadata": {
    "ExecuteTime": {
     "end_time": "2024-07-03T20:43:06.580786700Z",
     "start_time": "2024-07-03T20:42:59.375909400Z"
    }
   },
   "source": [
    "resta_df[resta_df['price']==1].groupby(['classification','product','prod_state'])['to_pay_xprod'].count()"
   ],
   "outputs": [
    {
     "data": {
      "text/plain": "classification  product             prod_state\ndelivery        dinki               activo          435\n                ego                 activo           53\n                fast driver         activo           41\n                link                activo          154\n                mr. delivery        activo          784\n                patio service       activo          253\n                pedidos ya          activo        12819\n                xpress              activo           78\n                yaigo               activo         1930\nproduct         aceite              activo           37\n                envases             activo          375\n                pollo a la canasta  activo           19\nsin uso         finger              inactivo        164\n                link                activo           50\n                mr. delivery        activo          571\n                patio service       activo          270\n                pedidos ya          activo         1920\nName: to_pay_xprod, dtype: int64"
     },
     "execution_count": 86,
     "metadata": {},
     "output_type": "execute_result"
    }
   ],
   "execution_count": 86
  },
  {
   "cell_type": "code",
   "id": "7afda7039aa8d0a1",
   "metadata": {
    "ExecuteTime": {
     "end_time": "2024-07-03T20:43:06.581799Z",
     "start_time": "2024-07-03T20:42:59.485364600Z"
    }
   },
   "source": [
    "resta_df[resta_df['prod_state']=='inactivo'].sample(5)"
   ],
   "outputs": [
    {
     "data": {
      "text/plain": "        order_id system_date                time group_classifier   \n109602    195831  2018-06-01 1900-01-01 21:06:59             menu  \\\n39873      72580  2017-06-14 1900-01-01 13:28:37             menu   \n157596    286363  2018-11-30 1900-01-01 20:02:28             menu   \n124374    224092  2018-07-30 1900-01-01 17:30:30             menu   \n411028    535482  2021-11-05 1900-01-01 13:39:49             menu   \n\n           classification            product prod_state  price  quantity   \n109602  alitas 8 unidades          sin salsa   inactivo   15.0         1  \\\n39873           almuerzos               sopa   inactivo    7.0         1   \n157596  alitas 8 unidades  alita 16 unidades   inactivo   50.0         2   \n124374  alitas 8 unidades  alita 16 unidades   inactivo   50.0         1   \n411028            fingers  finger 8 unidades   inactivo   45.0         1   \n\n        to_pay_xprod  ...         location order_number modification_date   \n109602          15.0  ...       6 - mesa 6          143               NaN  \\\n39873            7.0  ...       6 - mesa 6           33               NaN   \n157596         100.0  ...  0 - para llevar           16               NaN   \n124374          50.0  ...       9 - mesa 9           44               NaN   \n411028          45.0  ...       4 - mesa 4           34               NaN   \n\n        modification_reason  is_cancelled  is_courtesy   status   \n109602              Ninguna         False        False  cerrado  \\\n39873               Ninguna         False        False  cerrado   \n157596              Ninguna         False        False  cerrado   \n124374              Ninguna         False        False  cerrado   \n411028              Ninguna         False        False  cerrado   \n\n        start_balance end_balance stateprod  \n109602            0.0         0.0  inactivo  \n39873             0.0         0.0  inactivo  \n157596            0.0         0.0  inactivo  \n124374            0.0         0.0  inactivo  \n411028            0.0         0.0  inactivo  \n\n[5 rows x 26 columns]",
      "text/html": "<div>\n<style scoped>\n    .dataframe tbody tr th:only-of-type {\n        vertical-align: middle;\n    }\n\n    .dataframe tbody tr th {\n        vertical-align: top;\n    }\n\n    .dataframe thead th {\n        text-align: right;\n    }\n</style>\n<table border=\"1\" class=\"dataframe\">\n  <thead>\n    <tr style=\"text-align: right;\">\n      <th></th>\n      <th>order_id</th>\n      <th>system_date</th>\n      <th>time</th>\n      <th>group_classifier</th>\n      <th>classification</th>\n      <th>product</th>\n      <th>prod_state</th>\n      <th>price</th>\n      <th>quantity</th>\n      <th>to_pay_xprod</th>\n      <th>...</th>\n      <th>location</th>\n      <th>order_number</th>\n      <th>modification_date</th>\n      <th>modification_reason</th>\n      <th>is_cancelled</th>\n      <th>is_courtesy</th>\n      <th>status</th>\n      <th>start_balance</th>\n      <th>end_balance</th>\n      <th>stateprod</th>\n    </tr>\n  </thead>\n  <tbody>\n    <tr>\n      <th>109602</th>\n      <td>195831</td>\n      <td>2018-06-01</td>\n      <td>1900-01-01 21:06:59</td>\n      <td>menu</td>\n      <td>alitas 8 unidades</td>\n      <td>sin salsa</td>\n      <td>inactivo</td>\n      <td>15.0</td>\n      <td>1</td>\n      <td>15.0</td>\n      <td>...</td>\n      <td>6 - mesa 6</td>\n      <td>143</td>\n      <td>NaN</td>\n      <td>Ninguna</td>\n      <td>False</td>\n      <td>False</td>\n      <td>cerrado</td>\n      <td>0.0</td>\n      <td>0.0</td>\n      <td>inactivo</td>\n    </tr>\n    <tr>\n      <th>39873</th>\n      <td>72580</td>\n      <td>2017-06-14</td>\n      <td>1900-01-01 13:28:37</td>\n      <td>menu</td>\n      <td>almuerzos</td>\n      <td>sopa</td>\n      <td>inactivo</td>\n      <td>7.0</td>\n      <td>1</td>\n      <td>7.0</td>\n      <td>...</td>\n      <td>6 - mesa 6</td>\n      <td>33</td>\n      <td>NaN</td>\n      <td>Ninguna</td>\n      <td>False</td>\n      <td>False</td>\n      <td>cerrado</td>\n      <td>0.0</td>\n      <td>0.0</td>\n      <td>inactivo</td>\n    </tr>\n    <tr>\n      <th>157596</th>\n      <td>286363</td>\n      <td>2018-11-30</td>\n      <td>1900-01-01 20:02:28</td>\n      <td>menu</td>\n      <td>alitas 8 unidades</td>\n      <td>alita 16 unidades</td>\n      <td>inactivo</td>\n      <td>50.0</td>\n      <td>2</td>\n      <td>100.0</td>\n      <td>...</td>\n      <td>0 - para llevar</td>\n      <td>16</td>\n      <td>NaN</td>\n      <td>Ninguna</td>\n      <td>False</td>\n      <td>False</td>\n      <td>cerrado</td>\n      <td>0.0</td>\n      <td>0.0</td>\n      <td>inactivo</td>\n    </tr>\n    <tr>\n      <th>124374</th>\n      <td>224092</td>\n      <td>2018-07-30</td>\n      <td>1900-01-01 17:30:30</td>\n      <td>menu</td>\n      <td>alitas 8 unidades</td>\n      <td>alita 16 unidades</td>\n      <td>inactivo</td>\n      <td>50.0</td>\n      <td>1</td>\n      <td>50.0</td>\n      <td>...</td>\n      <td>9 - mesa 9</td>\n      <td>44</td>\n      <td>NaN</td>\n      <td>Ninguna</td>\n      <td>False</td>\n      <td>False</td>\n      <td>cerrado</td>\n      <td>0.0</td>\n      <td>0.0</td>\n      <td>inactivo</td>\n    </tr>\n    <tr>\n      <th>411028</th>\n      <td>535482</td>\n      <td>2021-11-05</td>\n      <td>1900-01-01 13:39:49</td>\n      <td>menu</td>\n      <td>fingers</td>\n      <td>finger 8 unidades</td>\n      <td>inactivo</td>\n      <td>45.0</td>\n      <td>1</td>\n      <td>45.0</td>\n      <td>...</td>\n      <td>4 - mesa 4</td>\n      <td>34</td>\n      <td>NaN</td>\n      <td>Ninguna</td>\n      <td>False</td>\n      <td>False</td>\n      <td>cerrado</td>\n      <td>0.0</td>\n      <td>0.0</td>\n      <td>inactivo</td>\n    </tr>\n  </tbody>\n</table>\n<p>5 rows × 26 columns</p>\n</div>"
     },
     "execution_count": 87,
     "metadata": {},
     "output_type": "execute_result"
    }
   ],
   "execution_count": 87
  },
  {
   "cell_type": "markdown",
   "id": "d033a9be646f91c2",
   "metadata": {},
   "source": [
    "## Feature Engineering - Data preparation"
   ]
  },
  {
   "cell_type": "markdown",
   "id": "edaad583c244d37e",
   "metadata": {},
   "source": [
    "### Checking for duplicates"
   ]
  },
  {
   "cell_type": "code",
   "id": "b738e2161ce32fee",
   "metadata": {
    "ExecuteTime": {
     "end_time": "2024-07-03T20:43:06.596188200Z",
     "start_time": "2024-07-03T20:42:59.591167200Z"
    }
   },
   "source": [
    "resta_df.duplicated().sum()"
   ],
   "outputs": [
    {
     "data": {
      "text/plain": "0"
     },
     "execution_count": 88,
     "metadata": {},
     "output_type": "execute_result"
    }
   ],
   "execution_count": 88
  },
  {
   "cell_type": "markdown",
   "id": "a1c705acaec64bb6",
   "metadata": {},
   "source": [
    "### Structure modification"
   ]
  },
  {
   "cell_type": "markdown",
   "id": "2eaa089e3243e25b",
   "metadata": {},
   "source": [
    "### Unnecessary columns.\n",
    "--- drop type_payment_form since has a unique value 'EFE'.\n",
    "--- determine whether to delete status \n",
    "--- determine whether to delete stateprod which seems to be equal to prod_state\n",
    "\n",
    "--- determine whether to delete start_balance and end_balance "
   ]
  },
  {
   "cell_type": "code",
   "id": "44824da91607ad33",
   "metadata": {
    "ExecuteTime": {
     "end_time": "2024-07-03T20:43:06.596188200Z",
     "start_time": "2024-07-03T20:43:00.179668300Z"
    }
   },
   "source": [
    "#type_payment_form column analysis\n",
    "resta_df['type_payment_form'].value_counts()"
   ],
   "outputs": [
    {
     "data": {
      "text/plain": "type_payment_form\nEFE    505575\nName: count, dtype: int64"
     },
     "execution_count": 89,
     "metadata": {},
     "output_type": "execute_result"
    }
   ],
   "execution_count": 89
  },
  {
   "cell_type": "code",
   "id": "e79c873513bbecc7",
   "metadata": {
    "ExecuteTime": {
     "end_time": "2024-07-03T20:43:06.596188200Z",
     "start_time": "2024-07-03T20:43:00.197853600Z"
    }
   },
   "source": [
    "resta_df = resta_df.drop('type_payment_form', axis=1)"
   ],
   "outputs": [],
   "execution_count": 90
  },
  {
   "cell_type": "markdown",
   "id": "c9fccd4eff24333e",
   "metadata": {},
   "source": [
    "'status' column appears to not determine anything in specific, since cerrado has 503968 values and abierto 1132. These seems to be wrong load."
   ]
  },
  {
   "cell_type": "code",
   "id": "849405380e5e8322",
   "metadata": {
    "ExecuteTime": {
     "end_time": "2024-07-03T20:43:06.597164Z",
     "start_time": "2024-07-03T20:43:00.422368700Z"
    }
   },
   "source": [
    "resta_df['status'].value_counts()"
   ],
   "outputs": [
    {
     "data": {
      "text/plain": "status\ncerrado    504443\nabierto      1132\nName: count, dtype: int64"
     },
     "execution_count": 91,
     "metadata": {},
     "output_type": "execute_result"
    }
   ],
   "execution_count": 91
  },
  {
   "cell_type": "code",
   "id": "e09104a16a5bf7d3",
   "metadata": {
    "ExecuteTime": {
     "end_time": "2024-07-03T20:43:06.597164Z",
     "start_time": "2024-07-03T20:43:00.484989500Z"
    }
   },
   "source": [
    "resta_df = resta_df.drop('status', axis=1)"
   ],
   "outputs": [],
   "execution_count": 92
  },
  {
   "cell_type": "markdown",
   "id": "11416bc1cdd73203",
   "metadata": {},
   "source": [
    "'prod_state','stateprod' have equal values so one of those will be deleted."
   ]
  },
  {
   "cell_type": "code",
   "id": "8c79e85b817263a2",
   "metadata": {
    "ExecuteTime": {
     "end_time": "2024-07-03T20:43:06.597164Z",
     "start_time": "2024-07-03T20:43:00.699910500Z"
    }
   },
   "source": [
    "resta_df[['prod_state','stateprod']].sample(20)"
   ],
   "outputs": [
    {
     "data": {
      "text/plain": "       prod_state stateprod\n398300     activo    activo\n502102     activo    activo\n266590     activo    activo\n35005    inactivo  inactivo\n131924     activo    activo\n210154     activo    activo\n352259     activo    activo\n344821     activo    activo\n56112      activo    activo\n166818     activo    activo\n197586     activo    activo\n292107     activo    activo\n83460      activo    activo\n260290     activo    activo\n498800     activo    activo\n179775     activo    activo\n31808      activo    activo\n223042     activo    activo\n401391     activo    activo\n108681     activo    activo",
      "text/html": "<div>\n<style scoped>\n    .dataframe tbody tr th:only-of-type {\n        vertical-align: middle;\n    }\n\n    .dataframe tbody tr th {\n        vertical-align: top;\n    }\n\n    .dataframe thead th {\n        text-align: right;\n    }\n</style>\n<table border=\"1\" class=\"dataframe\">\n  <thead>\n    <tr style=\"text-align: right;\">\n      <th></th>\n      <th>prod_state</th>\n      <th>stateprod</th>\n    </tr>\n  </thead>\n  <tbody>\n    <tr>\n      <th>398300</th>\n      <td>activo</td>\n      <td>activo</td>\n    </tr>\n    <tr>\n      <th>502102</th>\n      <td>activo</td>\n      <td>activo</td>\n    </tr>\n    <tr>\n      <th>266590</th>\n      <td>activo</td>\n      <td>activo</td>\n    </tr>\n    <tr>\n      <th>35005</th>\n      <td>inactivo</td>\n      <td>inactivo</td>\n    </tr>\n    <tr>\n      <th>131924</th>\n      <td>activo</td>\n      <td>activo</td>\n    </tr>\n    <tr>\n      <th>210154</th>\n      <td>activo</td>\n      <td>activo</td>\n    </tr>\n    <tr>\n      <th>352259</th>\n      <td>activo</td>\n      <td>activo</td>\n    </tr>\n    <tr>\n      <th>344821</th>\n      <td>activo</td>\n      <td>activo</td>\n    </tr>\n    <tr>\n      <th>56112</th>\n      <td>activo</td>\n      <td>activo</td>\n    </tr>\n    <tr>\n      <th>166818</th>\n      <td>activo</td>\n      <td>activo</td>\n    </tr>\n    <tr>\n      <th>197586</th>\n      <td>activo</td>\n      <td>activo</td>\n    </tr>\n    <tr>\n      <th>292107</th>\n      <td>activo</td>\n      <td>activo</td>\n    </tr>\n    <tr>\n      <th>83460</th>\n      <td>activo</td>\n      <td>activo</td>\n    </tr>\n    <tr>\n      <th>260290</th>\n      <td>activo</td>\n      <td>activo</td>\n    </tr>\n    <tr>\n      <th>498800</th>\n      <td>activo</td>\n      <td>activo</td>\n    </tr>\n    <tr>\n      <th>179775</th>\n      <td>activo</td>\n      <td>activo</td>\n    </tr>\n    <tr>\n      <th>31808</th>\n      <td>activo</td>\n      <td>activo</td>\n    </tr>\n    <tr>\n      <th>223042</th>\n      <td>activo</td>\n      <td>activo</td>\n    </tr>\n    <tr>\n      <th>401391</th>\n      <td>activo</td>\n      <td>activo</td>\n    </tr>\n    <tr>\n      <th>108681</th>\n      <td>activo</td>\n      <td>activo</td>\n    </tr>\n  </tbody>\n</table>\n</div>"
     },
     "execution_count": 93,
     "metadata": {},
     "output_type": "execute_result"
    }
   ],
   "execution_count": 93
  },
  {
   "cell_type": "code",
   "id": "aca8d8420ec6784a",
   "metadata": {
    "ExecuteTime": {
     "end_time": "2024-07-03T20:43:06.597164Z",
     "start_time": "2024-07-03T20:43:00.771203Z"
    }
   },
   "source": [
    "resta_df = resta_df.drop('stateprod', axis=1)"
   ],
   "outputs": [],
   "execution_count": 94
  },
  {
   "cell_type": "markdown",
   "id": "b9318cf3ad667e9f",
   "metadata": {},
   "source": [
    "'start_balance','end_balance' there is no coherence on the first value refarding the other, when start balance has a value, in several cases end_balance has 0. These inconsistencies are not useful for the project."
   ]
  },
  {
   "cell_type": "code",
   "id": "3524c33320fe868d",
   "metadata": {
    "ExecuteTime": {
     "end_time": "2024-07-03T20:43:06.598169900Z",
     "start_time": "2024-07-03T20:43:00.928163700Z"
    }
   },
   "source": [
    "resta_df[['start_balance','end_balance']].head(20)"
   ],
   "outputs": [
    {
     "data": {
      "text/plain": "    start_balance  end_balance\n0           500.0        620.0\n1           500.0        620.0\n2           500.0        620.0\n3           500.0        620.0\n4           500.0          0.0\n5           500.0          0.0\n6           500.0          0.0\n7           500.0          0.0\n8           500.0          0.0\n9           500.0          0.0\n10          500.0          0.0\n11          500.0          0.0\n12          500.0          0.0\n13          500.0          0.0\n14          500.0          0.0\n15          500.0          0.0\n16          450.0          0.0\n17          450.0          0.0\n18          450.0          0.0\n19          450.0          0.0",
      "text/html": "<div>\n<style scoped>\n    .dataframe tbody tr th:only-of-type {\n        vertical-align: middle;\n    }\n\n    .dataframe tbody tr th {\n        vertical-align: top;\n    }\n\n    .dataframe thead th {\n        text-align: right;\n    }\n</style>\n<table border=\"1\" class=\"dataframe\">\n  <thead>\n    <tr style=\"text-align: right;\">\n      <th></th>\n      <th>start_balance</th>\n      <th>end_balance</th>\n    </tr>\n  </thead>\n  <tbody>\n    <tr>\n      <th>0</th>\n      <td>500.0</td>\n      <td>620.0</td>\n    </tr>\n    <tr>\n      <th>1</th>\n      <td>500.0</td>\n      <td>620.0</td>\n    </tr>\n    <tr>\n      <th>2</th>\n      <td>500.0</td>\n      <td>620.0</td>\n    </tr>\n    <tr>\n      <th>3</th>\n      <td>500.0</td>\n      <td>620.0</td>\n    </tr>\n    <tr>\n      <th>4</th>\n      <td>500.0</td>\n      <td>0.0</td>\n    </tr>\n    <tr>\n      <th>5</th>\n      <td>500.0</td>\n      <td>0.0</td>\n    </tr>\n    <tr>\n      <th>6</th>\n      <td>500.0</td>\n      <td>0.0</td>\n    </tr>\n    <tr>\n      <th>7</th>\n      <td>500.0</td>\n      <td>0.0</td>\n    </tr>\n    <tr>\n      <th>8</th>\n      <td>500.0</td>\n      <td>0.0</td>\n    </tr>\n    <tr>\n      <th>9</th>\n      <td>500.0</td>\n      <td>0.0</td>\n    </tr>\n    <tr>\n      <th>10</th>\n      <td>500.0</td>\n      <td>0.0</td>\n    </tr>\n    <tr>\n      <th>11</th>\n      <td>500.0</td>\n      <td>0.0</td>\n    </tr>\n    <tr>\n      <th>12</th>\n      <td>500.0</td>\n      <td>0.0</td>\n    </tr>\n    <tr>\n      <th>13</th>\n      <td>500.0</td>\n      <td>0.0</td>\n    </tr>\n    <tr>\n      <th>14</th>\n      <td>500.0</td>\n      <td>0.0</td>\n    </tr>\n    <tr>\n      <th>15</th>\n      <td>500.0</td>\n      <td>0.0</td>\n    </tr>\n    <tr>\n      <th>16</th>\n      <td>450.0</td>\n      <td>0.0</td>\n    </tr>\n    <tr>\n      <th>17</th>\n      <td>450.0</td>\n      <td>0.0</td>\n    </tr>\n    <tr>\n      <th>18</th>\n      <td>450.0</td>\n      <td>0.0</td>\n    </tr>\n    <tr>\n      <th>19</th>\n      <td>450.0</td>\n      <td>0.0</td>\n    </tr>\n  </tbody>\n</table>\n</div>"
     },
     "execution_count": 95,
     "metadata": {},
     "output_type": "execute_result"
    }
   ],
   "execution_count": 95
  },
  {
   "cell_type": "code",
   "id": "e1e02ded0b4c4fce",
   "metadata": {
    "ExecuteTime": {
     "end_time": "2024-07-03T20:43:06.598169900Z",
     "start_time": "2024-07-03T20:43:01.009550900Z"
    }
   },
   "source": [
    "resta_df = resta_df.drop(columns=['start_balance','end_balance'], axis=1)"
   ],
   "outputs": [],
   "execution_count": 96
  },
  {
   "cell_type": "markdown",
   "id": "65db5c9ff8f904e6",
   "metadata": {},
   "source": [
    "Correcting Categorical selected list, deleting dropped columns"
   ]
  },
  {
   "cell_type": "code",
   "id": "c424cf3bbdc4077a",
   "metadata": {
    "ExecuteTime": {
     "end_time": "2024-07-03T20:43:06.598169900Z",
     "start_time": "2024-07-03T20:43:01.181982Z"
    }
   },
   "source": [
    "dropped_cols = ['start_balance','end_balance','stateprod','status','type_payment_form']"
   ],
   "outputs": [],
   "execution_count": 97
  },
  {
   "cell_type": "code",
   "id": "551c35188f39c1fd",
   "metadata": {
    "ExecuteTime": {
     "end_time": "2024-07-03T20:43:06.598169900Z",
     "start_time": "2024-07-03T20:43:01.221465500Z"
    }
   },
   "source": [
    "categorical_selected = [col for col in categoric_col if col not in dropped_cols]\n",
    "categorical_selected"
   ],
   "outputs": [
    {
     "data": {
      "text/plain": "['group_classifier',\n 'classification',\n 'product',\n 'prod_state',\n 'product_observations',\n 'location',\n 'modification_date',\n 'modification_reason',\n 'is_cancelled',\n 'is_courtesy']"
     },
     "execution_count": 98,
     "metadata": {},
     "output_type": "execute_result"
    }
   ],
   "execution_count": 98
  },
  {
   "cell_type": "markdown",
   "id": "4d75fecb345f5c1f",
   "metadata": {},
   "source": [
    "### Analysis and corrections in price column \n",
    "Orders with price equals to 1 seem to be related to deliveries, inventaryn products and others. These should be reviewed and cleaned to have consistency information regarding only sales.  "
   ]
  },
  {
   "cell_type": "code",
   "id": "4fd61a853b204000",
   "metadata": {
    "ExecuteTime": {
     "end_time": "2024-07-03T20:43:06.599202900Z",
     "start_time": "2024-07-03T20:43:01.348997200Z"
    }
   },
   "source": [
    "resta_df[resta_df['price']==1].sample(20)"
   ],
   "outputs": [
    {
     "data": {
      "text/plain": "        order_id system_date                time group_classifier   \n489020    576635  2022-09-28 1900-01-01 19:09:03             menu  \\\n496379    580422  2022-11-02 1900-01-01 13:34:05             menu   \n487826    576065  2022-09-22 1900-01-01 20:28:54             menu   \n420462    541031  2021-12-12 1900-01-01 12:08:55             menu   \n373664    511554  2021-06-06 1900-01-01 16:27:09             menu   \n299636    465328  2020-06-24 1900-01-01 19:52:35             menu   \n434242    548767  2022-02-09 1900-01-01 20:09:13             menu   \n301709    466344  2020-07-09 1900-01-01 11:59:27             menu   \n455561    559204  2022-05-08 1900-01-01 12:16:11             menu   \n402748    531520  2021-10-03 1900-01-01 20:21:58             menu   \n369183    509306  2021-05-19 1900-01-01 17:27:58             menu   \n446796    554937  2022-04-03 1900-01-01 20:33:28             menu   \n332355    485568  2020-12-13 1900-01-01 21:10:42             menu   \n436008    549640  2022-02-16 1900-01-01 14:14:43             menu   \n428131    544787  2022-01-15 1900-01-01 21:06:03             menu   \n302229    466610  2020-07-12 1900-01-01 12:20:27             menu   \n339360    490860  2021-01-10 1900-01-01 18:28:51             menu   \n301498    466231  2020-07-07 1900-01-01 15:56:11             menu   \n429644    545545  2022-01-22 1900-01-01 12:53:52             menu   \n464218    564355  2022-06-11 1900-01-01 13:29:07             menu   \n\n       classification     product prod_state  price  quantity  to_pay_xprod   \n489020       delivery  pedidos ya     activo    1.0         6           6.0  \\\n496379       delivery  pedidos ya     activo    1.0        22          22.0   \n487826       delivery  pedidos ya     activo    1.0         1           1.0   \n420462       delivery  pedidos ya     activo    1.0        21          21.0   \n373664       delivery  pedidos ya     activo    1.0         5           5.0   \n299636        sin uso  pedidos ya     activo    1.0         4           4.0   \n434242       delivery  pedidos ya     activo    1.0        14          14.0   \n301709        sin uso  pedidos ya     activo    1.0         9           9.0   \n455561       delivery  pedidos ya     activo    1.0         5           5.0   \n402748       delivery       dinki     activo    1.0        11          11.0   \n369183       delivery  pedidos ya     activo    1.0        22          22.0   \n446796       delivery  pedidos ya     activo    1.0         4           4.0   \n332355       delivery       yaigo     activo    1.0        19          19.0   \n436008       delivery  pedidos ya     activo    1.0         2           2.0   \n428131       delivery  pedidos ya     activo    1.0         7           7.0   \n302229        sin uso  pedidos ya     activo    1.0         5           5.0   \n339360       delivery  pedidos ya     activo    1.0        12          12.0   \n301498        sin uso  pedidos ya     activo    1.0         7           7.0   \n429644       delivery  pedidos ya     activo    1.0         5           5.0   \n464218       delivery  pedidos ya     activo    1.0         4           4.0   \n\n        ...  product_observations amount  customer_pay  change   \n489020  ...               Ninguna   24.0          24.0     0.0  \\\n496379  ...               Ninguna  106.0         106.0     0.0   \n487826  ...               Ninguna   19.0          19.0     0.0   \n420462  ...               Ninguna  105.0         105.0     0.0   \n373664  ...               Ninguna   28.0          28.0     0.0   \n299636  ...               Ninguna   20.0          20.0     0.0   \n434242  ...               Ninguna   66.0          66.0     0.0   \n301709  ...               Ninguna   52.0          52.0     0.0   \n455561  ...               Ninguna   28.0          28.0     0.0   \n402748  ...               Ninguna  131.0         131.0     0.0   \n369183  ...               Ninguna  121.0         121.0     0.0   \n446796  ...               Ninguna   21.0          21.0     0.0   \n332355  ...               Ninguna  136.0         136.0     0.0   \n436008  ...               Ninguna   19.0          19.0     0.0   \n428131  ...               Ninguna   39.0          39.0     0.0   \n302229  ...               Ninguna   35.0          35.0     0.0   \n339360  ...               Ninguna   72.0          72.0     0.0   \n301498  ...               Ninguna   38.0          38.0     0.0   \n429644  ...               Ninguna   28.0          28.0     0.0   \n464218  ...               Ninguna   21.0          21.0     0.0   \n\n               location order_number  modification_date modification_reason   \n489020  0 - para llevar           31                NaN             Ninguna  \\\n496379  0 - para llevar           12                NaN             Ninguna   \n487826  0 - para llevar           44                NaN             Ninguna   \n420462  0 - para llevar            5                NaN             Ninguna   \n373664  0 - para llevar           54                NaN             Ninguna   \n299636  0 - para llevar           67                NaN             Ninguna   \n434242  0 - para llevar          104                NaN             Ninguna   \n301709  0 - para llevar            6                NaN             Ninguna   \n455561  0 - para llevar            3                NaN             Ninguna   \n402748  0 - para llevar           95                NaN             Ninguna   \n369183  0 - para llevar           51                NaN             Ninguna   \n446796  0 - para llevar           91                NaN             Ninguna   \n332355  0 - para llevar          118                NaN             Ninguna   \n436008  0 - para llevar           31                NaN             Ninguna   \n428131  0 - para llevar          104                NaN             Ninguna   \n302229  0 - para llevar            7                NaN             Ninguna   \n339360  0 - para llevar           78                NaN             Ninguna   \n301498  0 - para llevar           37                NaN             Ninguna   \n429644  0 - para llevar           15                NaN             Ninguna   \n464218  0 - para llevar           26                NaN             Ninguna   \n\n       is_cancelled is_courtesy  \n489020        False       False  \n496379        False       False  \n487826        False       False  \n420462        False       False  \n373664        False       False  \n299636        False       False  \n434242        False       False  \n301709        False       False  \n455561        False       False  \n402748        False       False  \n369183        False       False  \n446796        False       False  \n332355        False       False  \n436008        False       False  \n428131        False       False  \n302229        False       False  \n339360        False       False  \n301498        False       False  \n429644        False       False  \n464218        False       False  \n\n[20 rows x 21 columns]",
      "text/html": "<div>\n<style scoped>\n    .dataframe tbody tr th:only-of-type {\n        vertical-align: middle;\n    }\n\n    .dataframe tbody tr th {\n        vertical-align: top;\n    }\n\n    .dataframe thead th {\n        text-align: right;\n    }\n</style>\n<table border=\"1\" class=\"dataframe\">\n  <thead>\n    <tr style=\"text-align: right;\">\n      <th></th>\n      <th>order_id</th>\n      <th>system_date</th>\n      <th>time</th>\n      <th>group_classifier</th>\n      <th>classification</th>\n      <th>product</th>\n      <th>prod_state</th>\n      <th>price</th>\n      <th>quantity</th>\n      <th>to_pay_xprod</th>\n      <th>...</th>\n      <th>product_observations</th>\n      <th>amount</th>\n      <th>customer_pay</th>\n      <th>change</th>\n      <th>location</th>\n      <th>order_number</th>\n      <th>modification_date</th>\n      <th>modification_reason</th>\n      <th>is_cancelled</th>\n      <th>is_courtesy</th>\n    </tr>\n  </thead>\n  <tbody>\n    <tr>\n      <th>489020</th>\n      <td>576635</td>\n      <td>2022-09-28</td>\n      <td>1900-01-01 19:09:03</td>\n      <td>menu</td>\n      <td>delivery</td>\n      <td>pedidos ya</td>\n      <td>activo</td>\n      <td>1.0</td>\n      <td>6</td>\n      <td>6.0</td>\n      <td>...</td>\n      <td>Ninguna</td>\n      <td>24.0</td>\n      <td>24.0</td>\n      <td>0.0</td>\n      <td>0 - para llevar</td>\n      <td>31</td>\n      <td>NaN</td>\n      <td>Ninguna</td>\n      <td>False</td>\n      <td>False</td>\n    </tr>\n    <tr>\n      <th>496379</th>\n      <td>580422</td>\n      <td>2022-11-02</td>\n      <td>1900-01-01 13:34:05</td>\n      <td>menu</td>\n      <td>delivery</td>\n      <td>pedidos ya</td>\n      <td>activo</td>\n      <td>1.0</td>\n      <td>22</td>\n      <td>22.0</td>\n      <td>...</td>\n      <td>Ninguna</td>\n      <td>106.0</td>\n      <td>106.0</td>\n      <td>0.0</td>\n      <td>0 - para llevar</td>\n      <td>12</td>\n      <td>NaN</td>\n      <td>Ninguna</td>\n      <td>False</td>\n      <td>False</td>\n    </tr>\n    <tr>\n      <th>487826</th>\n      <td>576065</td>\n      <td>2022-09-22</td>\n      <td>1900-01-01 20:28:54</td>\n      <td>menu</td>\n      <td>delivery</td>\n      <td>pedidos ya</td>\n      <td>activo</td>\n      <td>1.0</td>\n      <td>1</td>\n      <td>1.0</td>\n      <td>...</td>\n      <td>Ninguna</td>\n      <td>19.0</td>\n      <td>19.0</td>\n      <td>0.0</td>\n      <td>0 - para llevar</td>\n      <td>44</td>\n      <td>NaN</td>\n      <td>Ninguna</td>\n      <td>False</td>\n      <td>False</td>\n    </tr>\n    <tr>\n      <th>420462</th>\n      <td>541031</td>\n      <td>2021-12-12</td>\n      <td>1900-01-01 12:08:55</td>\n      <td>menu</td>\n      <td>delivery</td>\n      <td>pedidos ya</td>\n      <td>activo</td>\n      <td>1.0</td>\n      <td>21</td>\n      <td>21.0</td>\n      <td>...</td>\n      <td>Ninguna</td>\n      <td>105.0</td>\n      <td>105.0</td>\n      <td>0.0</td>\n      <td>0 - para llevar</td>\n      <td>5</td>\n      <td>NaN</td>\n      <td>Ninguna</td>\n      <td>False</td>\n      <td>False</td>\n    </tr>\n    <tr>\n      <th>373664</th>\n      <td>511554</td>\n      <td>2021-06-06</td>\n      <td>1900-01-01 16:27:09</td>\n      <td>menu</td>\n      <td>delivery</td>\n      <td>pedidos ya</td>\n      <td>activo</td>\n      <td>1.0</td>\n      <td>5</td>\n      <td>5.0</td>\n      <td>...</td>\n      <td>Ninguna</td>\n      <td>28.0</td>\n      <td>28.0</td>\n      <td>0.0</td>\n      <td>0 - para llevar</td>\n      <td>54</td>\n      <td>NaN</td>\n      <td>Ninguna</td>\n      <td>False</td>\n      <td>False</td>\n    </tr>\n    <tr>\n      <th>299636</th>\n      <td>465328</td>\n      <td>2020-06-24</td>\n      <td>1900-01-01 19:52:35</td>\n      <td>menu</td>\n      <td>sin uso</td>\n      <td>pedidos ya</td>\n      <td>activo</td>\n      <td>1.0</td>\n      <td>4</td>\n      <td>4.0</td>\n      <td>...</td>\n      <td>Ninguna</td>\n      <td>20.0</td>\n      <td>20.0</td>\n      <td>0.0</td>\n      <td>0 - para llevar</td>\n      <td>67</td>\n      <td>NaN</td>\n      <td>Ninguna</td>\n      <td>False</td>\n      <td>False</td>\n    </tr>\n    <tr>\n      <th>434242</th>\n      <td>548767</td>\n      <td>2022-02-09</td>\n      <td>1900-01-01 20:09:13</td>\n      <td>menu</td>\n      <td>delivery</td>\n      <td>pedidos ya</td>\n      <td>activo</td>\n      <td>1.0</td>\n      <td>14</td>\n      <td>14.0</td>\n      <td>...</td>\n      <td>Ninguna</td>\n      <td>66.0</td>\n      <td>66.0</td>\n      <td>0.0</td>\n      <td>0 - para llevar</td>\n      <td>104</td>\n      <td>NaN</td>\n      <td>Ninguna</td>\n      <td>False</td>\n      <td>False</td>\n    </tr>\n    <tr>\n      <th>301709</th>\n      <td>466344</td>\n      <td>2020-07-09</td>\n      <td>1900-01-01 11:59:27</td>\n      <td>menu</td>\n      <td>sin uso</td>\n      <td>pedidos ya</td>\n      <td>activo</td>\n      <td>1.0</td>\n      <td>9</td>\n      <td>9.0</td>\n      <td>...</td>\n      <td>Ninguna</td>\n      <td>52.0</td>\n      <td>52.0</td>\n      <td>0.0</td>\n      <td>0 - para llevar</td>\n      <td>6</td>\n      <td>NaN</td>\n      <td>Ninguna</td>\n      <td>False</td>\n      <td>False</td>\n    </tr>\n    <tr>\n      <th>455561</th>\n      <td>559204</td>\n      <td>2022-05-08</td>\n      <td>1900-01-01 12:16:11</td>\n      <td>menu</td>\n      <td>delivery</td>\n      <td>pedidos ya</td>\n      <td>activo</td>\n      <td>1.0</td>\n      <td>5</td>\n      <td>5.0</td>\n      <td>...</td>\n      <td>Ninguna</td>\n      <td>28.0</td>\n      <td>28.0</td>\n      <td>0.0</td>\n      <td>0 - para llevar</td>\n      <td>3</td>\n      <td>NaN</td>\n      <td>Ninguna</td>\n      <td>False</td>\n      <td>False</td>\n    </tr>\n    <tr>\n      <th>402748</th>\n      <td>531520</td>\n      <td>2021-10-03</td>\n      <td>1900-01-01 20:21:58</td>\n      <td>menu</td>\n      <td>delivery</td>\n      <td>dinki</td>\n      <td>activo</td>\n      <td>1.0</td>\n      <td>11</td>\n      <td>11.0</td>\n      <td>...</td>\n      <td>Ninguna</td>\n      <td>131.0</td>\n      <td>131.0</td>\n      <td>0.0</td>\n      <td>0 - para llevar</td>\n      <td>95</td>\n      <td>NaN</td>\n      <td>Ninguna</td>\n      <td>False</td>\n      <td>False</td>\n    </tr>\n    <tr>\n      <th>369183</th>\n      <td>509306</td>\n      <td>2021-05-19</td>\n      <td>1900-01-01 17:27:58</td>\n      <td>menu</td>\n      <td>delivery</td>\n      <td>pedidos ya</td>\n      <td>activo</td>\n      <td>1.0</td>\n      <td>22</td>\n      <td>22.0</td>\n      <td>...</td>\n      <td>Ninguna</td>\n      <td>121.0</td>\n      <td>121.0</td>\n      <td>0.0</td>\n      <td>0 - para llevar</td>\n      <td>51</td>\n      <td>NaN</td>\n      <td>Ninguna</td>\n      <td>False</td>\n      <td>False</td>\n    </tr>\n    <tr>\n      <th>446796</th>\n      <td>554937</td>\n      <td>2022-04-03</td>\n      <td>1900-01-01 20:33:28</td>\n      <td>menu</td>\n      <td>delivery</td>\n      <td>pedidos ya</td>\n      <td>activo</td>\n      <td>1.0</td>\n      <td>4</td>\n      <td>4.0</td>\n      <td>...</td>\n      <td>Ninguna</td>\n      <td>21.0</td>\n      <td>21.0</td>\n      <td>0.0</td>\n      <td>0 - para llevar</td>\n      <td>91</td>\n      <td>NaN</td>\n      <td>Ninguna</td>\n      <td>False</td>\n      <td>False</td>\n    </tr>\n    <tr>\n      <th>332355</th>\n      <td>485568</td>\n      <td>2020-12-13</td>\n      <td>1900-01-01 21:10:42</td>\n      <td>menu</td>\n      <td>delivery</td>\n      <td>yaigo</td>\n      <td>activo</td>\n      <td>1.0</td>\n      <td>19</td>\n      <td>19.0</td>\n      <td>...</td>\n      <td>Ninguna</td>\n      <td>136.0</td>\n      <td>136.0</td>\n      <td>0.0</td>\n      <td>0 - para llevar</td>\n      <td>118</td>\n      <td>NaN</td>\n      <td>Ninguna</td>\n      <td>False</td>\n      <td>False</td>\n    </tr>\n    <tr>\n      <th>436008</th>\n      <td>549640</td>\n      <td>2022-02-16</td>\n      <td>1900-01-01 14:14:43</td>\n      <td>menu</td>\n      <td>delivery</td>\n      <td>pedidos ya</td>\n      <td>activo</td>\n      <td>1.0</td>\n      <td>2</td>\n      <td>2.0</td>\n      <td>...</td>\n      <td>Ninguna</td>\n      <td>19.0</td>\n      <td>19.0</td>\n      <td>0.0</td>\n      <td>0 - para llevar</td>\n      <td>31</td>\n      <td>NaN</td>\n      <td>Ninguna</td>\n      <td>False</td>\n      <td>False</td>\n    </tr>\n    <tr>\n      <th>428131</th>\n      <td>544787</td>\n      <td>2022-01-15</td>\n      <td>1900-01-01 21:06:03</td>\n      <td>menu</td>\n      <td>delivery</td>\n      <td>pedidos ya</td>\n      <td>activo</td>\n      <td>1.0</td>\n      <td>7</td>\n      <td>7.0</td>\n      <td>...</td>\n      <td>Ninguna</td>\n      <td>39.0</td>\n      <td>39.0</td>\n      <td>0.0</td>\n      <td>0 - para llevar</td>\n      <td>104</td>\n      <td>NaN</td>\n      <td>Ninguna</td>\n      <td>False</td>\n      <td>False</td>\n    </tr>\n    <tr>\n      <th>302229</th>\n      <td>466610</td>\n      <td>2020-07-12</td>\n      <td>1900-01-01 12:20:27</td>\n      <td>menu</td>\n      <td>sin uso</td>\n      <td>pedidos ya</td>\n      <td>activo</td>\n      <td>1.0</td>\n      <td>5</td>\n      <td>5.0</td>\n      <td>...</td>\n      <td>Ninguna</td>\n      <td>35.0</td>\n      <td>35.0</td>\n      <td>0.0</td>\n      <td>0 - para llevar</td>\n      <td>7</td>\n      <td>NaN</td>\n      <td>Ninguna</td>\n      <td>False</td>\n      <td>False</td>\n    </tr>\n    <tr>\n      <th>339360</th>\n      <td>490860</td>\n      <td>2021-01-10</td>\n      <td>1900-01-01 18:28:51</td>\n      <td>menu</td>\n      <td>delivery</td>\n      <td>pedidos ya</td>\n      <td>activo</td>\n      <td>1.0</td>\n      <td>12</td>\n      <td>12.0</td>\n      <td>...</td>\n      <td>Ninguna</td>\n      <td>72.0</td>\n      <td>72.0</td>\n      <td>0.0</td>\n      <td>0 - para llevar</td>\n      <td>78</td>\n      <td>NaN</td>\n      <td>Ninguna</td>\n      <td>False</td>\n      <td>False</td>\n    </tr>\n    <tr>\n      <th>301498</th>\n      <td>466231</td>\n      <td>2020-07-07</td>\n      <td>1900-01-01 15:56:11</td>\n      <td>menu</td>\n      <td>sin uso</td>\n      <td>pedidos ya</td>\n      <td>activo</td>\n      <td>1.0</td>\n      <td>7</td>\n      <td>7.0</td>\n      <td>...</td>\n      <td>Ninguna</td>\n      <td>38.0</td>\n      <td>38.0</td>\n      <td>0.0</td>\n      <td>0 - para llevar</td>\n      <td>37</td>\n      <td>NaN</td>\n      <td>Ninguna</td>\n      <td>False</td>\n      <td>False</td>\n    </tr>\n    <tr>\n      <th>429644</th>\n      <td>545545</td>\n      <td>2022-01-22</td>\n      <td>1900-01-01 12:53:52</td>\n      <td>menu</td>\n      <td>delivery</td>\n      <td>pedidos ya</td>\n      <td>activo</td>\n      <td>1.0</td>\n      <td>5</td>\n      <td>5.0</td>\n      <td>...</td>\n      <td>Ninguna</td>\n      <td>28.0</td>\n      <td>28.0</td>\n      <td>0.0</td>\n      <td>0 - para llevar</td>\n      <td>15</td>\n      <td>NaN</td>\n      <td>Ninguna</td>\n      <td>False</td>\n      <td>False</td>\n    </tr>\n    <tr>\n      <th>464218</th>\n      <td>564355</td>\n      <td>2022-06-11</td>\n      <td>1900-01-01 13:29:07</td>\n      <td>menu</td>\n      <td>delivery</td>\n      <td>pedidos ya</td>\n      <td>activo</td>\n      <td>1.0</td>\n      <td>4</td>\n      <td>4.0</td>\n      <td>...</td>\n      <td>Ninguna</td>\n      <td>21.0</td>\n      <td>21.0</td>\n      <td>0.0</td>\n      <td>0 - para llevar</td>\n      <td>26</td>\n      <td>NaN</td>\n      <td>Ninguna</td>\n      <td>False</td>\n      <td>False</td>\n    </tr>\n  </tbody>\n</table>\n<p>20 rows × 21 columns</p>\n</div>"
     },
     "execution_count": 99,
     "metadata": {},
     "output_type": "execute_result"
    }
   ],
   "execution_count": 99
  },
  {
   "cell_type": "markdown",
   "id": "9efb20ff71c9c6b2",
   "metadata": {},
   "source": [
    "#### Transforming - DELIVERY column\n",
    "\n",
    "column 'product', within product there have been identified these as deliveries: dinki,ego,fast driver,mr. delivery,patio service,pedidos ya,link."
   ]
  },
  {
   "cell_type": "code",
   "id": "e77559c844bfb8e",
   "metadata": {
    "ExecuteTime": {
     "end_time": "2024-07-03T20:43:06.599202900Z",
     "start_time": "2024-07-03T20:43:01.492812600Z"
    }
   },
   "source": [
    "#Creating a new column called 'delivery_name' to determine which delivery enterprise corresponds to.\n",
    "resta_df['delivery_name'] = pd.Series()"
   ],
   "outputs": [],
   "execution_count": 100
  },
  {
   "cell_type": "code",
   "id": "e1e87896e9447140",
   "metadata": {
    "ExecuteTime": {
     "end_time": "2024-07-03T20:43:06.599202900Z",
     "start_time": "2024-07-03T20:43:01.604046Z"
    }
   },
   "source": [
    "deliveries = ['dinki','ego','fast driver','mr. delivery','patio service','pedidos ya','link', 'yaigo', 'xpress']"
   ],
   "outputs": [],
   "execution_count": 101
  },
  {
   "cell_type": "markdown",
   "id": "d42d85446c6a0789",
   "metadata": {},
   "source": [
    "### Analysis of location column\n",
    "location column was analyzed and filtered in order_type, to have these categories: para llevar, en sala-sin mesa, en sala-con mesa."
   ]
  },
  {
   "cell_type": "code",
   "id": "4d2a9bf4686a1635",
   "metadata": {
    "ExecuteTime": {
     "end_time": "2024-07-03T20:43:06.599202900Z",
     "start_time": "2024-07-03T20:43:01.729800500Z"
    }
   },
   "source": [
    "#To determine whether an order will be in situ or to take away, another column is created.\n",
    "resta_df['order_type'] = pd.Series()"
   ],
   "outputs": [],
   "execution_count": 102
  },
  {
   "cell_type": "code",
   "id": "7639a523551dd418",
   "metadata": {
    "ExecuteTime": {
     "end_time": "2024-07-03T20:43:06.599202900Z",
     "start_time": "2024-07-03T20:43:01.845854900Z"
    }
   },
   "source": [
    "resta_df['location'].value_counts()"
   ],
   "outputs": [
    {
     "data": {
      "text/plain": "location\n0 - para llevar    198901\n. - sin mesa       143684\n5 - mesa 5          26782\n1 - mesa 1          16626\n7 - mesa 7          16144\n4 - mesa 4          13230\n2 - mesa 2          12393\n6 - mesa 6          10841\n3 - mesa 3          10117\n8 - mesa 8           9240\n11 - mesa 11         8040\n13 - mesa 13         6115\n12 - mesa 12         6005\n9 - mesa 9           5718\n14 - mesa 14         4889\n17 - mesa 17         4756\n10 - mesa 10         3145\n15 - mesa 15         2849\n20 - mesa 20         2411\n16 - mesa 16         2156\n18 - mesa 18          916\n19 - mesa 19          617\nName: count, dtype: int64"
     },
     "execution_count": 103,
     "metadata": {},
     "output_type": "execute_result"
    }
   ],
   "execution_count": 103
  },
  {
   "cell_type": "code",
   "id": "4edf8752f5253bab",
   "metadata": {
    "ExecuteTime": {
     "end_time": "2024-07-03T20:43:06.599202900Z",
     "start_time": "2024-07-03T20:43:01.977613Z"
    }
   },
   "source": [
    "resta_df.loc[(resta_df['location'].str.contains('para llevar')) & (resta_df['classification']!='delivery'), 'order_type'].sample(5)"
   ],
   "outputs": [
    {
     "data": {
      "text/plain": "306124    NaN\n401961    NaN\n241425    NaN\n68329     NaN\n505458    NaN\nName: order_type, dtype: object"
     },
     "execution_count": 104,
     "metadata": {},
     "output_type": "execute_result"
    }
   ],
   "execution_count": 104
  },
  {
   "cell_type": "code",
   "id": "83ff4acd9331bd0a",
   "metadata": {
    "ExecuteTime": {
     "end_time": "2024-07-03T20:43:06.600206300Z",
     "start_time": "2024-07-03T20:43:02.268421900Z"
    }
   },
   "source": [
    "#to take away filters\n",
    "resta_df.loc[(resta_df['location'].str.contains('para llevar')) & (resta_df['classification']!='delivery'), 'order_type'] = 'para llevar'"
   ],
   "outputs": [],
   "execution_count": 105
  },
  {
   "cell_type": "code",
   "id": "3f98feb1c25bb8eb",
   "metadata": {
    "ExecuteTime": {
     "end_time": "2024-07-03T20:43:06.600206300Z",
     "start_time": "2024-07-03T20:43:02.398263300Z"
    }
   },
   "source": [
    "#'sin mesa' values \n",
    "resta_df.loc[(resta_df['location'].str.contains('sin mesa')) & (resta_df['classification']!='delivery'), 'order_type'] = 'en sala-sin mesa'"
   ],
   "outputs": [],
   "execution_count": 106
  },
  {
   "cell_type": "code",
   "id": "bb08ddfee123733",
   "metadata": {
    "ExecuteTime": {
     "end_time": "2024-07-03T20:43:06.600206300Z",
     "start_time": "2024-07-03T20:43:02.617977400Z"
    }
   },
   "source": [
    "# location and those values which correspond to orders to eat at the restaurant\n",
    "resta_df.loc[(resta_df['location'].str.contains('- mesa')) & (resta_df['classification']!='delivery'), 'order_type'] = 'en sala-con mesa'"
   ],
   "outputs": [],
   "execution_count": 107
  },
  {
   "cell_type": "code",
   "id": "236884eca931985b",
   "metadata": {
    "ExecuteTime": {
     "end_time": "2024-07-03T20:43:06.600206300Z",
     "start_time": "2024-07-03T20:43:02.695105400Z"
    }
   },
   "source": [
    "resta_df['order_type'].unique()"
   ],
   "outputs": [
    {
     "data": {
      "text/plain": "array(['para llevar', 'en sala-con mesa', 'en sala-sin mesa', nan],\n      dtype=object)"
     },
     "execution_count": 108,
     "metadata": {},
     "output_type": "execute_result"
    }
   ],
   "execution_count": 108
  },
  {
   "cell_type": "markdown",
   "id": "467dd54b91f2d79b",
   "metadata": {},
   "source": [
    "#### Analysis by 'classification'\n",
    "Within classification column there is a 'delivery' option. Accordingly that order was a delivery."
   ]
  },
  {
   "cell_type": "code",
   "id": "6e6d65eb4b5250a6",
   "metadata": {
    "ExecuteTime": {
     "end_time": "2024-07-03T20:43:06.600206300Z",
     "start_time": "2024-07-03T20:43:02.751241800Z"
    }
   },
   "source": [
    "resta_df['classification'].value_counts()"
   ],
   "outputs": [
    {
     "data": {
      "text/plain": "classification\nalitas 8 unidades            102397\nalitas 6 unidades  26 bs      59719\nfingers                       44933\npersonal                      39167\nproduct                       30795\nalitas 4 unidades   19 bs     29276\nburguers                      26579\nsalchis                       24636\npopular                       23895\ndelivery                      16547\nalitas 12 unidades            16310\nsandwiches                    12925\n1 lt                          12617\nalitas 16 unidades            11683\njugos - aguas                 11645\nplatos                        10161\nfrutal valle                   8285\n2 lt                           7934\nsin uso                        3754\ncombos                         2484\njarras                         2230\nalmuerzos                      1814\nfingers 6 unid                 1649\nalitas 24 unidades              919\ngusto                           780\nfingers 12 unid                 649\nalitas 32 unidades              590\nfingers 8 unid                  512\npromocion                       358\npostres                         332\nName: count, dtype: int64"
     },
     "execution_count": 109,
     "metadata": {},
     "output_type": "execute_result"
    }
   ],
   "execution_count": 109
  },
  {
   "cell_type": "code",
   "id": "253a6f54938121f1",
   "metadata": {
    "ExecuteTime": {
     "end_time": "2024-07-03T20:43:06.612875200Z",
     "start_time": "2024-07-03T20:43:02.930858300Z"
    }
   },
   "source": [
    "resta_df[['classification','product','location']][resta_df['classification'].str.contains('deliver')].head()"
   ],
   "outputs": [
    {
     "data": {
      "text/plain": "       classification       product         location\n280762       delivery  mr. delivery  0 - para llevar\n280780       delivery  mr. delivery  0 - para llevar\n280793       delivery  mr. delivery  0 - para llevar\n280866       delivery  mr. delivery  0 - para llevar\n281579       delivery  mr. delivery  0 - para llevar",
      "text/html": "<div>\n<style scoped>\n    .dataframe tbody tr th:only-of-type {\n        vertical-align: middle;\n    }\n\n    .dataframe tbody tr th {\n        vertical-align: top;\n    }\n\n    .dataframe thead th {\n        text-align: right;\n    }\n</style>\n<table border=\"1\" class=\"dataframe\">\n  <thead>\n    <tr style=\"text-align: right;\">\n      <th></th>\n      <th>classification</th>\n      <th>product</th>\n      <th>location</th>\n    </tr>\n  </thead>\n  <tbody>\n    <tr>\n      <th>280762</th>\n      <td>delivery</td>\n      <td>mr. delivery</td>\n      <td>0 - para llevar</td>\n    </tr>\n    <tr>\n      <th>280780</th>\n      <td>delivery</td>\n      <td>mr. delivery</td>\n      <td>0 - para llevar</td>\n    </tr>\n    <tr>\n      <th>280793</th>\n      <td>delivery</td>\n      <td>mr. delivery</td>\n      <td>0 - para llevar</td>\n    </tr>\n    <tr>\n      <th>280866</th>\n      <td>delivery</td>\n      <td>mr. delivery</td>\n      <td>0 - para llevar</td>\n    </tr>\n    <tr>\n      <th>281579</th>\n      <td>delivery</td>\n      <td>mr. delivery</td>\n      <td>0 - para llevar</td>\n    </tr>\n  </tbody>\n</table>\n</div>"
     },
     "execution_count": 110,
     "metadata": {},
     "output_type": "execute_result"
    }
   ],
   "execution_count": 110
  },
  {
   "cell_type": "code",
   "id": "b22a9af5f4ffa7a8",
   "metadata": {
    "ExecuteTime": {
     "end_time": "2024-07-03T20:43:06.613885200Z",
     "start_time": "2024-07-03T20:43:03.161352400Z"
    }
   },
   "source": [
    "# identify deliveries by classification column\n",
    "resta_df.loc[resta_df['classification']=='delivery', 'order_type'] = 'delivery'"
   ],
   "outputs": [],
   "execution_count": 111
  },
  {
   "cell_type": "code",
   "id": "6bb517ba099fdb22",
   "metadata": {
    "ExecuteTime": {
     "end_time": "2024-07-03T20:43:06.614724500Z",
     "start_time": "2024-07-03T20:43:03.186423500Z"
    }
   },
   "source": [
    "#There are orders that were a delivery but werent classified as that. \n",
    "resta_df[resta_df['classification']=='delivery'].groupby(['order_type','product'])['product'].count()"
   ],
   "outputs": [
    {
     "data": {
      "text/plain": "order_type  product      \ndelivery    dinki              435\n            ego                 53\n            fast driver         41\n            link               154\n            mr. delivery       784\n            patio service      253\n            pedidos ya       12819\n            xpress              78\n            yaigo             1930\nName: product, dtype: int64"
     },
     "execution_count": 112,
     "metadata": {},
     "output_type": "execute_result"
    }
   ],
   "execution_count": 112
  },
  {
   "cell_type": "code",
   "id": "42c8653f0c12a984",
   "metadata": {
    "ExecuteTime": {
     "end_time": "2024-07-03T20:43:06.615597600Z",
     "start_time": "2024-07-03T20:43:03.357873800Z"
    }
   },
   "source": [
    "resta_df['order_type'].value_counts().plot(kind='bar')\n",
    "plt.title('Orders by order type')\n",
    "plt.xlabel('order type')\n",
    "plt.ylabel('# orders')"
   ],
   "outputs": [
    {
     "data": {
      "text/plain": "Text(0, 0.5, '# orders')"
     },
     "execution_count": 113,
     "metadata": {},
     "output_type": "execute_result"
    },
    {
     "data": {
      "text/plain": "<Figure size 640x480 with 1 Axes>",
      "image/png": "[encoded data removed]"
     },
     "metadata": {},
     "output_type": "display_data"
    }
   ],
   "execution_count": 113
  },
  {
   "cell_type": "markdown",
   "id": "5a9fca05f0397a3d",
   "metadata": {},
   "source": [
    "#### Fill delivery_name column "
   ]
  },
  {
   "cell_type": "code",
   "id": "c36b01a88d1d24cf",
   "metadata": {
    "ExecuteTime": {
     "end_time": "2024-07-03T20:43:06.616637300Z",
     "start_time": "2024-07-03T20:43:03.781386800Z"
    }
   },
   "source": [
    "resta_df[['classification','product','location']][resta_df['order_type']=='delivery'].sample(10)"
   ],
   "outputs": [
    {
     "data": {
      "text/plain": "       classification       product         location\n504004       delivery    pedidos ya  0 - para llevar\n360917       delivery          link  0 - para llevar\n315227       delivery    pedidos ya  0 - para llevar\n295329       delivery    pedidos ya  0 - para llevar\n360359       delivery    pedidos ya  0 - para llevar\n383547       delivery  mr. delivery  0 - para llevar\n318440       delivery    pedidos ya  0 - para llevar\n427222       delivery    pedidos ya  0 - para llevar\n427895       delivery    pedidos ya  0 - para llevar\n398921       delivery    pedidos ya  0 - para llevar",
      "text/html": "<div>\n<style scoped>\n    .dataframe tbody tr th:only-of-type {\n        vertical-align: middle;\n    }\n\n    .dataframe tbody tr th {\n        vertical-align: top;\n    }\n\n    .dataframe thead th {\n        text-align: right;\n    }\n</style>\n<table border=\"1\" class=\"dataframe\">\n  <thead>\n    <tr style=\"text-align: right;\">\n      <th></th>\n      <th>classification</th>\n      <th>product</th>\n      <th>location</th>\n    </tr>\n  </thead>\n  <tbody>\n    <tr>\n      <th>504004</th>\n      <td>delivery</td>\n      <td>pedidos ya</td>\n      <td>0 - para llevar</td>\n    </tr>\n    <tr>\n      <th>360917</th>\n      <td>delivery</td>\n      <td>link</td>\n      <td>0 - para llevar</td>\n    </tr>\n    <tr>\n      <th>315227</th>\n      <td>delivery</td>\n      <td>pedidos ya</td>\n      <td>0 - para llevar</td>\n    </tr>\n    <tr>\n      <th>295329</th>\n      <td>delivery</td>\n      <td>pedidos ya</td>\n      <td>0 - para llevar</td>\n    </tr>\n    <tr>\n      <th>360359</th>\n      <td>delivery</td>\n      <td>pedidos ya</td>\n      <td>0 - para llevar</td>\n    </tr>\n    <tr>\n      <th>383547</th>\n      <td>delivery</td>\n      <td>mr. delivery</td>\n      <td>0 - para llevar</td>\n    </tr>\n    <tr>\n      <th>318440</th>\n      <td>delivery</td>\n      <td>pedidos ya</td>\n      <td>0 - para llevar</td>\n    </tr>\n    <tr>\n      <th>427222</th>\n      <td>delivery</td>\n      <td>pedidos ya</td>\n      <td>0 - para llevar</td>\n    </tr>\n    <tr>\n      <th>427895</th>\n      <td>delivery</td>\n      <td>pedidos ya</td>\n      <td>0 - para llevar</td>\n    </tr>\n    <tr>\n      <th>398921</th>\n      <td>delivery</td>\n      <td>pedidos ya</td>\n      <td>0 - para llevar</td>\n    </tr>\n  </tbody>\n</table>\n</div>"
     },
     "execution_count": 114,
     "metadata": {},
     "output_type": "execute_result"
    }
   ],
   "execution_count": 114
  },
  {
   "cell_type": "code",
   "id": "bb181bb447b78ae",
   "metadata": {
    "ExecuteTime": {
     "end_time": "2024-07-03T20:43:06.616637300Z",
     "start_time": "2024-07-03T20:43:03.829881Z"
    }
   },
   "source": [
    "#Mask\n",
    "mask = resta_df.loc[resta_df['order_type']=='delivery', 'product']"
   ],
   "outputs": [],
   "execution_count": 115
  },
  {
   "cell_type": "code",
   "id": "de6cd5a6d4bbc809",
   "metadata": {
    "ExecuteTime": {
     "end_time": "2024-07-03T20:43:06.616637300Z",
     "start_time": "2024-07-03T20:43:03.970712500Z"
    }
   },
   "source": [
    "#Appling a filter \n",
    "filtered_products = [prod for prod in mask if prod in deliveries]"
   ],
   "outputs": [],
   "execution_count": 116
  },
  {
   "cell_type": "code",
   "id": "f8e959668f4a3d4a",
   "metadata": {
    "ExecuteTime": {
     "end_time": "2024-07-03T20:43:59.653594700Z",
     "start_time": "2024-07-03T20:43:04.094342200Z"
    }
   },
   "source": [
    "#**********\n",
    "resta_df['delivery_name'] = resta_df['product'].apply(lambda x:x if x in filtered_products else None)"
   ],
   "outputs": [],
   "execution_count": 117
  },
  {
   "cell_type": "code",
   "id": "e0737259e19ba537",
   "metadata": {
    "ExecuteTime": {
     "end_time": "2024-07-03T20:43:59.669974600Z",
     "start_time": "2024-07-03T20:43:59.648530500Z"
    }
   },
   "source": [
    "resta_df['delivery_name'].unique()"
   ],
   "outputs": [
    {
     "data": {
      "text/plain": "array([None, 'mr. delivery', 'pedidos ya', 'patio service', 'link',\n       'fast driver', 'yaigo', 'dinki', 'ego', 'xpress'], dtype=object)"
     },
     "execution_count": 118,
     "metadata": {},
     "output_type": "execute_result"
    }
   ],
   "execution_count": 118
  },
  {
   "cell_type": "code",
   "id": "87e663350510d71d",
   "metadata": {
    "ExecuteTime": {
     "end_time": "2024-07-03T20:44:00.237372500Z",
     "start_time": "2024-07-03T20:43:59.666971100Z"
    }
   },
   "source": [
    "resta_df.groupby('delivery_name')['tot_order_payment'].sum().sort_values(ascending=False)"
   ],
   "outputs": [
    {
     "data": {
      "text/plain": "delivery_name\npedidos ya       945181.0\nyaigo            133747.0\nmr. delivery     121533.0\npatio service     35653.0\ndinki             29233.0\nlink              13154.0\nxpress             3704.0\nfast driver        3556.0\nego                2828.0\nName: tot_order_payment, dtype: float64"
     },
     "execution_count": 119,
     "metadata": {},
     "output_type": "execute_result"
    }
   ],
   "execution_count": 119
  },
  {
   "cell_type": "code",
   "id": "ae1c4ab9ceefe80",
   "metadata": {
    "ExecuteTime": {
     "end_time": "2024-07-03T20:44:00.909038600Z",
     "start_time": "2024-07-03T20:44:00.226826100Z"
    }
   },
   "source": [
    "resta_df.groupby('delivery_name')['tot_order_payment'].sum().sort_values(ascending=False).plot(kind='bar')\n",
    "plt.title('Most orders revenue by Delivery')\n",
    "plt.ylabel('$ Order payment')"
   ],
   "outputs": [
    {
     "data": {
      "text/plain": "Text(0, 0.5, '$ Order payment')"
     },
     "execution_count": 120,
     "metadata": {},
     "output_type": "execute_result"
    },
    {
     "data": {
      "text/plain": "<Figure size 640x480 with 1 Axes>",
      "image/png": "[encoded data removed]"
     },
     "metadata": {},
     "output_type": "display_data"
    }
   ],
   "execution_count": 120
  },
  {
   "cell_type": "markdown",
   "id": "86d14ffcc1899036",
   "metadata": {},
   "source": [
    "#### Analyzing SIN USO value in classification column\n",
    "\n",
    "'SIN USO' has orders that were delivered and in some cases it refers to a delivery, in others to products which are not longer in use. However for the purpose of this job it is important to account those values.\n",
    "1. Understand which rows have SIN USO \n",
    "2. check the context \n",
    "3. sin uso has products: deliveries, others.\n",
    "3.1. treat deliveries x\n",
    "3.2. treat other products  PENDING\n",
    "\n",
    "says SIN USO but in product state is ACTIVE so there seems to be mistaken fullfilment. \n"
   ]
  },
  {
   "cell_type": "markdown",
   "id": "c2f13127bb2f1cdd",
   "metadata": {},
   "source": [
    "##### Deliveries"
   ]
  },
  {
   "cell_type": "code",
   "id": "b389e41e358a88fd",
   "metadata": {
    "ExecuteTime": {
     "end_time": "2024-07-03T20:44:01.332336300Z",
     "start_time": "2024-07-03T20:44:00.911025400Z"
    }
   },
   "source": [
    "resta_df[resta_df['classification'].str.contains('sin')].sample(20)"
   ],
   "outputs": [
    {
     "data": {
      "text/plain": "        order_id system_date                time group_classifier   \n285097    456423  2020-02-21 1900-01-01 20:31:58             menu  \\\n298405    464756  2020-06-17 1900-01-01 12:38:30             menu   \n304612    468807  2020-07-28 1900-01-01 17:17:45             menu   \n301154    466067  2020-07-05 1900-01-01 12:14:41             menu   \n259927    423622  2019-11-25 1900-01-01 21:43:49             menu   \n261275    428426  2019-12-01 1900-01-01 18:24:05             menu   \n298875    464986  2020-06-19 1900-01-01 18:54:40             menu   \n259473    422420  2019-11-21 1900-01-01 20:07:45             menu   \n306993    470936  2020-08-14 1900-01-01 20:01:50             menu   \n308453    471661  2020-08-23 1900-01-01 13:18:19             menu   \n300127    465561  2020-06-27 1900-01-01 14:15:57             menu   \n307802    471332  2020-08-19 1900-01-01 14:58:21             menu   \n311235    474121  2020-09-12 1900-01-01 20:24:49             menu   \n301249    466106  2020-07-05 1900-01-01 17:18:36             menu   \n293471    462288  2020-05-13 1900-01-01 17:29:42             menu   \n313481    475330  2020-09-25 1900-01-01 19:25:49             menu   \n261002    427466  2019-11-30 1900-01-01 15:13:44             menu   \n307774    471318  2020-08-19 1900-01-01 13:29:29             menu   \n298897    464995  2020-06-19 1900-01-01 20:16:51             menu   \n41774      77319  2017-06-25 1900-01-01 22:03:37             menu   \n\n       classification             product prod_state  price  quantity   \n285097        sin uso        mr. delivery     activo    1.0         9  \\\n298405        sin uso          pedidos ya     activo    1.0        18   \n304612        sin uso          pedidos ya     activo    1.0         8   \n301154        sin uso          pedidos ya     activo    1.0        14   \n259927        sin uso        mr. delivery     activo   24.0         1   \n261275        sin uso        mr. delivery     activo   22.0         1   \n298875        sin uso          pedidos ya     activo    1.0        23   \n259473        sin uso        mr. delivery     activo   20.0         2   \n306993        sin uso  pollo a la canasta   inactivo   26.0         6   \n308453        sin uso       patio service     activo    1.0         4   \n300127        sin uso       patio service     activo    1.0         4   \n307802        sin uso  pollo a la canasta   inactivo   26.0         1   \n311235        sin uso          pedidos ya     activo    1.0        15   \n301249        sin uso          pedidos ya     activo    1.0        17   \n293471        sin uso        mr. delivery     activo    1.0         8   \n313481        sin uso          pedidos ya     activo    1.0        21   \n261002        sin uso        mr. delivery     activo   22.0         1   \n307774        sin uso          pedidos ya     activo    1.0        10   \n298897        sin uso          pedidos ya     activo    1.0        25   \n41774         sin uso          reto wings     activo   65.0         4   \n\n        to_pay_xprod  ...  customer_pay change         location  order_number   \n285097           9.0  ...          62.0    0.0  0 - para llevar            64  \\\n298405          18.0  ...          44.0    0.0  0 - para llevar            10   \n304612           8.0  ...          40.0    0.0  0 - para llevar            32   \n301154          14.0  ...          84.0    0.0  0 - para llevar            12   \n259927          24.0  ...          27.0    0.0  0 - para llevar            95   \n261275          22.0  ...          22.0    0.0     . - sin mesa            66   \n298875          23.0  ...          78.0    0.0  0 - para llevar            68   \n259473          40.0  ...          40.0    0.0     . - sin mesa            21   \n306993         156.0  ...         212.0    0.0  0 - para llevar            72   \n308453           4.0  ...          48.0    0.0  0 - para llevar            30   \n300127           4.0  ...          50.0    0.0  0 - para llevar            37   \n307802          26.0  ...          26.0    0.0  0 - para llevar            35   \n311235          15.0  ...          82.0    0.0  0 - para llevar            86   \n301249          17.0  ...          88.0    0.0  0 - para llevar            51   \n293471           8.0  ...          66.0    0.0  0 - para llevar            31   \n313481          21.0  ...         120.0    0.0  0 - para llevar            90   \n261002          22.0  ...          22.0    0.0     . - sin mesa            56   \n307774          10.0  ...          61.0    0.0  0 - para llevar            21   \n298897          25.0  ...          90.0    0.0  0 - para llevar            77   \n41774          260.0  ...         260.0    0.0     . - sin mesa            36   \n\n        modification_date modification_reason  is_cancelled is_courtesy   \n285097                NaN             Ninguna         False       False  \\\n298405                NaN             Ninguna         False       False   \n304612                NaN             Ninguna         False       False   \n301154                NaN             Ninguna         False       False   \n259927                NaN             Ninguna         False       False   \n261275                NaN             Ninguna         False       False   \n298875                NaN             Ninguna         False       False   \n259473                NaN             Ninguna         False       False   \n306993                NaN             Ninguna         False       False   \n308453                NaN             Ninguna         False       False   \n300127                NaN             Ninguna         False       False   \n307802                NaN             Ninguna         False       False   \n311235                NaN             Ninguna         False       False   \n301249                NaN             Ninguna         False       False   \n293471                NaN             Ninguna         False       False   \n313481                NaN             Ninguna         False       False   \n261002                NaN             Ninguna         False       False   \n307774                NaN             Ninguna         False       False   \n298897                NaN             Ninguna         False       False   \n41774                 NaN             Ninguna         False       False   \n\n        delivery_name        order_type  \n285097   mr. delivery       para llevar  \n298405     pedidos ya       para llevar  \n304612     pedidos ya       para llevar  \n301154     pedidos ya       para llevar  \n259927   mr. delivery       para llevar  \n261275   mr. delivery  en sala-sin mesa  \n298875     pedidos ya       para llevar  \n259473   mr. delivery  en sala-sin mesa  \n306993           None       para llevar  \n308453  patio service       para llevar  \n300127  patio service       para llevar  \n307802           None       para llevar  \n311235     pedidos ya       para llevar  \n301249     pedidos ya       para llevar  \n293471   mr. delivery       para llevar  \n313481     pedidos ya       para llevar  \n261002   mr. delivery  en sala-sin mesa  \n307774     pedidos ya       para llevar  \n298897     pedidos ya       para llevar  \n41774            None  en sala-sin mesa  \n\n[20 rows x 23 columns]",
      "text/html": "<div>\n<style scoped>\n    .dataframe tbody tr th:only-of-type {\n        vertical-align: middle;\n    }\n\n    .dataframe tbody tr th {\n        vertical-align: top;\n    }\n\n    .dataframe thead th {\n        text-align: right;\n    }\n</style>\n<table border=\"1\" class=\"dataframe\">\n  <thead>\n    <tr style=\"text-align: right;\">\n      <th></th>\n      <th>order_id</th>\n      <th>system_date</th>\n      <th>time</th>\n      <th>group_classifier</th>\n      <th>classification</th>\n      <th>product</th>\n      <th>prod_state</th>\n      <th>price</th>\n      <th>quantity</th>\n      <th>to_pay_xprod</th>\n      <th>...</th>\n      <th>customer_pay</th>\n      <th>change</th>\n      <th>location</th>\n      <th>order_number</th>\n      <th>modification_date</th>\n      <th>modification_reason</th>\n      <th>is_cancelled</th>\n      <th>is_courtesy</th>\n      <th>delivery_name</th>\n      <th>order_type</th>\n    </tr>\n  </thead>\n  <tbody>\n    <tr>\n      <th>285097</th>\n      <td>456423</td>\n      <td>2020-02-21</td>\n      <td>1900-01-01 20:31:58</td>\n      <td>menu</td>\n      <td>sin uso</td>\n      <td>mr. delivery</td>\n      <td>activo</td>\n      <td>1.0</td>\n      <td>9</td>\n      <td>9.0</td>\n      <td>...</td>\n      <td>62.0</td>\n      <td>0.0</td>\n      <td>0 - para llevar</td>\n      <td>64</td>\n      <td>NaN</td>\n      <td>Ninguna</td>\n      <td>False</td>\n      <td>False</td>\n      <td>mr. delivery</td>\n      <td>para llevar</td>\n    </tr>\n    <tr>\n      <th>298405</th>\n      <td>464756</td>\n      <td>2020-06-17</td>\n      <td>1900-01-01 12:38:30</td>\n      <td>menu</td>\n      <td>sin uso</td>\n      <td>pedidos ya</td>\n      <td>activo</td>\n      <td>1.0</td>\n      <td>18</td>\n      <td>18.0</td>\n      <td>...</td>\n      <td>44.0</td>\n      <td>0.0</td>\n      <td>0 - para llevar</td>\n      <td>10</td>\n      <td>NaN</td>\n      <td>Ninguna</td>\n      <td>False</td>\n      <td>False</td>\n      <td>pedidos ya</td>\n      <td>para llevar</td>\n    </tr>\n    <tr>\n      <th>304612</th>\n      <td>468807</td>\n      <td>2020-07-28</td>\n      <td>1900-01-01 17:17:45</td>\n      <td>menu</td>\n      <td>sin uso</td>\n      <td>pedidos ya</td>\n      <td>activo</td>\n      <td>1.0</td>\n      <td>8</td>\n      <td>8.0</td>\n      <td>...</td>\n      <td>40.0</td>\n      <td>0.0</td>\n      <td>0 - para llevar</td>\n      <td>32</td>\n      <td>NaN</td>\n      <td>Ninguna</td>\n      <td>False</td>\n      <td>False</td>\n      <td>pedidos ya</td>\n      <td>para llevar</td>\n    </tr>\n    <tr>\n      <th>301154</th>\n      <td>466067</td>\n      <td>2020-07-05</td>\n      <td>1900-01-01 12:14:41</td>\n      <td>menu</td>\n      <td>sin uso</td>\n      <td>pedidos ya</td>\n      <td>activo</td>\n      <td>1.0</td>\n      <td>14</td>\n      <td>14.0</td>\n      <td>...</td>\n      <td>84.0</td>\n      <td>0.0</td>\n      <td>0 - para llevar</td>\n      <td>12</td>\n      <td>NaN</td>\n      <td>Ninguna</td>\n      <td>False</td>\n      <td>False</td>\n      <td>pedidos ya</td>\n      <td>para llevar</td>\n    </tr>\n    <tr>\n      <th>259927</th>\n      <td>423622</td>\n      <td>2019-11-25</td>\n      <td>1900-01-01 21:43:49</td>\n      <td>menu</td>\n      <td>sin uso</td>\n      <td>mr. delivery</td>\n      <td>activo</td>\n      <td>24.0</td>\n      <td>1</td>\n      <td>24.0</td>\n      <td>...</td>\n      <td>27.0</td>\n      <td>0.0</td>\n      <td>0 - para llevar</td>\n      <td>95</td>\n      <td>NaN</td>\n      <td>Ninguna</td>\n      <td>False</td>\n      <td>False</td>\n      <td>mr. delivery</td>\n      <td>para llevar</td>\n    </tr>\n    <tr>\n      <th>261275</th>\n      <td>428426</td>\n      <td>2019-12-01</td>\n      <td>1900-01-01 18:24:05</td>\n      <td>menu</td>\n      <td>sin uso</td>\n      <td>mr. delivery</td>\n      <td>activo</td>\n      <td>22.0</td>\n      <td>1</td>\n      <td>22.0</td>\n      <td>...</td>\n      <td>22.0</td>\n      <td>0.0</td>\n      <td>. - sin mesa</td>\n      <td>66</td>\n      <td>NaN</td>\n      <td>Ninguna</td>\n      <td>False</td>\n      <td>False</td>\n      <td>mr. delivery</td>\n      <td>en sala-sin mesa</td>\n    </tr>\n    <tr>\n      <th>298875</th>\n      <td>464986</td>\n      <td>2020-06-19</td>\n      <td>1900-01-01 18:54:40</td>\n      <td>menu</td>\n      <td>sin uso</td>\n      <td>pedidos ya</td>\n      <td>activo</td>\n      <td>1.0</td>\n      <td>23</td>\n      <td>23.0</td>\n      <td>...</td>\n      <td>78.0</td>\n      <td>0.0</td>\n      <td>0 - para llevar</td>\n      <td>68</td>\n      <td>NaN</td>\n      <td>Ninguna</td>\n      <td>False</td>\n      <td>False</td>\n      <td>pedidos ya</td>\n      <td>para llevar</td>\n    </tr>\n    <tr>\n      <th>259473</th>\n      <td>422420</td>\n      <td>2019-11-21</td>\n      <td>1900-01-01 20:07:45</td>\n      <td>menu</td>\n      <td>sin uso</td>\n      <td>mr. delivery</td>\n      <td>activo</td>\n      <td>20.0</td>\n      <td>2</td>\n      <td>40.0</td>\n      <td>...</td>\n      <td>40.0</td>\n      <td>0.0</td>\n      <td>. - sin mesa</td>\n      <td>21</td>\n      <td>NaN</td>\n      <td>Ninguna</td>\n      <td>False</td>\n      <td>False</td>\n      <td>mr. delivery</td>\n      <td>en sala-sin mesa</td>\n    </tr>\n    <tr>\n      <th>306993</th>\n      <td>470936</td>\n      <td>2020-08-14</td>\n      <td>1900-01-01 20:01:50</td>\n      <td>menu</td>\n      <td>sin uso</td>\n      <td>pollo a la canasta</td>\n      <td>inactivo</td>\n      <td>26.0</td>\n      <td>6</td>\n      <td>156.0</td>\n      <td>...</td>\n      <td>212.0</td>\n      <td>0.0</td>\n      <td>0 - para llevar</td>\n      <td>72</td>\n      <td>NaN</td>\n      <td>Ninguna</td>\n      <td>False</td>\n      <td>False</td>\n      <td>None</td>\n      <td>para llevar</td>\n    </tr>\n    <tr>\n      <th>308453</th>\n      <td>471661</td>\n      <td>2020-08-23</td>\n      <td>1900-01-01 13:18:19</td>\n      <td>menu</td>\n      <td>sin uso</td>\n      <td>patio service</td>\n      <td>activo</td>\n      <td>1.0</td>\n      <td>4</td>\n      <td>4.0</td>\n      <td>...</td>\n      <td>48.0</td>\n      <td>0.0</td>\n      <td>0 - para llevar</td>\n      <td>30</td>\n      <td>NaN</td>\n      <td>Ninguna</td>\n      <td>False</td>\n      <td>False</td>\n      <td>patio service</td>\n      <td>para llevar</td>\n    </tr>\n    <tr>\n      <th>300127</th>\n      <td>465561</td>\n      <td>2020-06-27</td>\n      <td>1900-01-01 14:15:57</td>\n      <td>menu</td>\n      <td>sin uso</td>\n      <td>patio service</td>\n      <td>activo</td>\n      <td>1.0</td>\n      <td>4</td>\n      <td>4.0</td>\n      <td>...</td>\n      <td>50.0</td>\n      <td>0.0</td>\n      <td>0 - para llevar</td>\n      <td>37</td>\n      <td>NaN</td>\n      <td>Ninguna</td>\n      <td>False</td>\n      <td>False</td>\n      <td>patio service</td>\n      <td>para llevar</td>\n    </tr>\n    <tr>\n      <th>307802</th>\n      <td>471332</td>\n      <td>2020-08-19</td>\n      <td>1900-01-01 14:58:21</td>\n      <td>menu</td>\n      <td>sin uso</td>\n      <td>pollo a la canasta</td>\n      <td>inactivo</td>\n      <td>26.0</td>\n      <td>1</td>\n      <td>26.0</td>\n      <td>...</td>\n      <td>26.0</td>\n      <td>0.0</td>\n      <td>0 - para llevar</td>\n      <td>35</td>\n      <td>NaN</td>\n      <td>Ninguna</td>\n      <td>False</td>\n      <td>False</td>\n      <td>None</td>\n      <td>para llevar</td>\n    </tr>\n    <tr>\n      <th>311235</th>\n      <td>474121</td>\n      <td>2020-09-12</td>\n      <td>1900-01-01 20:24:49</td>\n      <td>menu</td>\n      <td>sin uso</td>\n      <td>pedidos ya</td>\n      <td>activo</td>\n      <td>1.0</td>\n      <td>15</td>\n      <td>15.0</td>\n      <td>...</td>\n      <td>82.0</td>\n      <td>0.0</td>\n      <td>0 - para llevar</td>\n      <td>86</td>\n      <td>NaN</td>\n      <td>Ninguna</td>\n      <td>False</td>\n      <td>False</td>\n      <td>pedidos ya</td>\n      <td>para llevar</td>\n    </tr>\n    <tr>\n      <th>301249</th>\n      <td>466106</td>\n      <td>2020-07-05</td>\n      <td>1900-01-01 17:18:36</td>\n      <td>menu</td>\n      <td>sin uso</td>\n      <td>pedidos ya</td>\n      <td>activo</td>\n      <td>1.0</td>\n      <td>17</td>\n      <td>17.0</td>\n      <td>...</td>\n      <td>88.0</td>\n      <td>0.0</td>\n      <td>0 - para llevar</td>\n      <td>51</td>\n      <td>NaN</td>\n      <td>Ninguna</td>\n      <td>False</td>\n      <td>False</td>\n      <td>pedidos ya</td>\n      <td>para llevar</td>\n    </tr>\n    <tr>\n      <th>293471</th>\n      <td>462288</td>\n      <td>2020-05-13</td>\n      <td>1900-01-01 17:29:42</td>\n      <td>menu</td>\n      <td>sin uso</td>\n      <td>mr. delivery</td>\n      <td>activo</td>\n      <td>1.0</td>\n      <td>8</td>\n      <td>8.0</td>\n      <td>...</td>\n      <td>66.0</td>\n      <td>0.0</td>\n      <td>0 - para llevar</td>\n      <td>31</td>\n      <td>NaN</td>\n      <td>Ninguna</td>\n      <td>False</td>\n      <td>False</td>\n      <td>mr. delivery</td>\n      <td>para llevar</td>\n    </tr>\n    <tr>\n      <th>313481</th>\n      <td>475330</td>\n      <td>2020-09-25</td>\n      <td>1900-01-01 19:25:49</td>\n      <td>menu</td>\n      <td>sin uso</td>\n      <td>pedidos ya</td>\n      <td>activo</td>\n      <td>1.0</td>\n      <td>21</td>\n      <td>21.0</td>\n      <td>...</td>\n      <td>120.0</td>\n      <td>0.0</td>\n      <td>0 - para llevar</td>\n      <td>90</td>\n      <td>NaN</td>\n      <td>Ninguna</td>\n      <td>False</td>\n      <td>False</td>\n      <td>pedidos ya</td>\n      <td>para llevar</td>\n    </tr>\n    <tr>\n      <th>261002</th>\n      <td>427466</td>\n      <td>2019-11-30</td>\n      <td>1900-01-01 15:13:44</td>\n      <td>menu</td>\n      <td>sin uso</td>\n      <td>mr. delivery</td>\n      <td>activo</td>\n      <td>22.0</td>\n      <td>1</td>\n      <td>22.0</td>\n      <td>...</td>\n      <td>22.0</td>\n      <td>0.0</td>\n      <td>. - sin mesa</td>\n      <td>56</td>\n      <td>NaN</td>\n      <td>Ninguna</td>\n      <td>False</td>\n      <td>False</td>\n      <td>mr. delivery</td>\n      <td>en sala-sin mesa</td>\n    </tr>\n    <tr>\n      <th>307774</th>\n      <td>471318</td>\n      <td>2020-08-19</td>\n      <td>1900-01-01 13:29:29</td>\n      <td>menu</td>\n      <td>sin uso</td>\n      <td>pedidos ya</td>\n      <td>activo</td>\n      <td>1.0</td>\n      <td>10</td>\n      <td>10.0</td>\n      <td>...</td>\n      <td>61.0</td>\n      <td>0.0</td>\n      <td>0 - para llevar</td>\n      <td>21</td>\n      <td>NaN</td>\n      <td>Ninguna</td>\n      <td>False</td>\n      <td>False</td>\n      <td>pedidos ya</td>\n      <td>para llevar</td>\n    </tr>\n    <tr>\n      <th>298897</th>\n      <td>464995</td>\n      <td>2020-06-19</td>\n      <td>1900-01-01 20:16:51</td>\n      <td>menu</td>\n      <td>sin uso</td>\n      <td>pedidos ya</td>\n      <td>activo</td>\n      <td>1.0</td>\n      <td>25</td>\n      <td>25.0</td>\n      <td>...</td>\n      <td>90.0</td>\n      <td>0.0</td>\n      <td>0 - para llevar</td>\n      <td>77</td>\n      <td>NaN</td>\n      <td>Ninguna</td>\n      <td>False</td>\n      <td>False</td>\n      <td>pedidos ya</td>\n      <td>para llevar</td>\n    </tr>\n    <tr>\n      <th>41774</th>\n      <td>77319</td>\n      <td>2017-06-25</td>\n      <td>1900-01-01 22:03:37</td>\n      <td>menu</td>\n      <td>sin uso</td>\n      <td>reto wings</td>\n      <td>activo</td>\n      <td>65.0</td>\n      <td>4</td>\n      <td>260.0</td>\n      <td>...</td>\n      <td>260.0</td>\n      <td>0.0</td>\n      <td>. - sin mesa</td>\n      <td>36</td>\n      <td>NaN</td>\n      <td>Ninguna</td>\n      <td>False</td>\n      <td>False</td>\n      <td>None</td>\n      <td>en sala-sin mesa</td>\n    </tr>\n  </tbody>\n</table>\n<p>20 rows × 23 columns</p>\n</div>"
     },
     "execution_count": 121,
     "metadata": {},
     "output_type": "execute_result"
    }
   ],
   "execution_count": 121
  },
  {
   "cell_type": "code",
   "id": "e72e963f0ec93cc5",
   "metadata": {
    "ExecuteTime": {
     "end_time": "2024-07-03T20:44:02.048762Z",
     "start_time": "2024-07-03T20:44:01.316980700Z"
    }
   },
   "source": [
    "resta_df['product'][resta_df['classification'].str.contains('sin')].unique()"
   ],
   "outputs": [
    {
     "data": {
      "text/plain": "array(['finger', 'h4mburgu cl4sic', 'reto wings', 'promo trio 21 sep',\n       'mr. delivery', 'pedidos ya', 'patio service', 'link',\n       'combo paceñisimo', 'combo patriota', 'pollo a la canasta',\n       'combo papa'], dtype=object)"
     },
     "execution_count": 122,
     "metadata": {},
     "output_type": "execute_result"
    }
   ],
   "execution_count": 122
  },
  {
   "cell_type": "code",
   "id": "d0eabd23d654d8cd",
   "metadata": {
    "ExecuteTime": {
     "end_time": "2024-07-03T20:44:02.398930300Z",
     "start_time": "2024-07-03T20:44:02.048762Z"
    }
   },
   "source": [
    "#if some orders were delivery that has to be reflected in order_type section\n",
    "resta_df[['product','price','quantity','location','delivery_name','order_type']][(resta_df['classification'].str.contains('sin')) & (resta_df['product'].isin(deliveries))].sample(20)"
   ],
   "outputs": [
    {
     "data": {
      "text/plain": "              product  price  quantity         location  delivery_name   \n306315     pedidos ya    1.0         9  0 - para llevar     pedidos ya  \\\n297242     pedidos ya    1.0        15  0 - para llevar     pedidos ya   \n305607     pedidos ya    1.0         5  0 - para llevar     pedidos ya   \n304344  patio service    1.0         4  0 - para llevar  patio service   \n261305   mr. delivery   22.0         1       5 - mesa 5   mr. delivery   \n304147     pedidos ya    1.0        10  0 - para llevar     pedidos ya   \n303961   mr. delivery    1.0         6  0 - para llevar   mr. delivery   \n305610     pedidos ya    1.0        10  0 - para llevar     pedidos ya   \n296826   mr. delivery    1.0         6  0 - para llevar   mr. delivery   \n299985     pedidos ya    1.0         8  0 - para llevar     pedidos ya   \n308279  patio service    1.0         4  0 - para llevar  patio service   \n298375     pedidos ya    1.0        14  0 - para llevar     pedidos ya   \n311080     pedidos ya    1.0         9  0 - para llevar     pedidos ya   \n308708     pedidos ya    1.0         5  0 - para llevar     pedidos ya   \n282933   mr. delivery    1.0        15  0 - para llevar   mr. delivery   \n303692     pedidos ya    1.0         5  0 - para llevar     pedidos ya   \n293745   mr. delivery    1.0        22  0 - para llevar   mr. delivery   \n259461   mr. delivery   20.0         1  0 - para llevar   mr. delivery   \n310203     pedidos ya    1.0        14  0 - para llevar     pedidos ya   \n301308     pedidos ya    1.0        15  0 - para llevar     pedidos ya   \n\n              order_type  \n306315       para llevar  \n297242       para llevar  \n305607       para llevar  \n304344       para llevar  \n261305  en sala-con mesa  \n304147       para llevar  \n303961       para llevar  \n305610       para llevar  \n296826       para llevar  \n299985       para llevar  \n308279       para llevar  \n298375       para llevar  \n311080       para llevar  \n308708       para llevar  \n282933       para llevar  \n303692       para llevar  \n293745       para llevar  \n259461       para llevar  \n310203       para llevar  \n301308       para llevar  ",
      "text/html": "<div>\n<style scoped>\n    .dataframe tbody tr th:only-of-type {\n        vertical-align: middle;\n    }\n\n    .dataframe tbody tr th {\n        vertical-align: top;\n    }\n\n    .dataframe thead th {\n        text-align: right;\n    }\n</style>\n<table border=\"1\" class=\"dataframe\">\n  <thead>\n    <tr style=\"text-align: right;\">\n      <th></th>\n      <th>product</th>\n      <th>price</th>\n      <th>quantity</th>\n      <th>location</th>\n      <th>delivery_name</th>\n      <th>order_type</th>\n    </tr>\n  </thead>\n  <tbody>\n    <tr>\n      <th>306315</th>\n      <td>pedidos ya</td>\n      <td>1.0</td>\n      <td>9</td>\n      <td>0 - para llevar</td>\n      <td>pedidos ya</td>\n      <td>para llevar</td>\n    </tr>\n    <tr>\n      <th>297242</th>\n      <td>pedidos ya</td>\n      <td>1.0</td>\n      <td>15</td>\n      <td>0 - para llevar</td>\n      <td>pedidos ya</td>\n      <td>para llevar</td>\n    </tr>\n    <tr>\n      <th>305607</th>\n      <td>pedidos ya</td>\n      <td>1.0</td>\n      <td>5</td>\n      <td>0 - para llevar</td>\n      <td>pedidos ya</td>\n      <td>para llevar</td>\n    </tr>\n    <tr>\n      <th>304344</th>\n      <td>patio service</td>\n      <td>1.0</td>\n      <td>4</td>\n      <td>0 - para llevar</td>\n      <td>patio service</td>\n      <td>para llevar</td>\n    </tr>\n    <tr>\n      <th>261305</th>\n      <td>mr. delivery</td>\n      <td>22.0</td>\n      <td>1</td>\n      <td>5 - mesa 5</td>\n      <td>mr. delivery</td>\n      <td>en sala-con mesa</td>\n    </tr>\n    <tr>\n      <th>304147</th>\n      <td>pedidos ya</td>\n      <td>1.0</td>\n      <td>10</td>\n      <td>0 - para llevar</td>\n      <td>pedidos ya</td>\n      <td>para llevar</td>\n    </tr>\n    <tr>\n      <th>303961</th>\n      <td>mr. delivery</td>\n      <td>1.0</td>\n      <td>6</td>\n      <td>0 - para llevar</td>\n      <td>mr. delivery</td>\n      <td>para llevar</td>\n    </tr>\n    <tr>\n      <th>305610</th>\n      <td>pedidos ya</td>\n      <td>1.0</td>\n      <td>10</td>\n      <td>0 - para llevar</td>\n      <td>pedidos ya</td>\n      <td>para llevar</td>\n    </tr>\n    <tr>\n      <th>296826</th>\n      <td>mr. delivery</td>\n      <td>1.0</td>\n      <td>6</td>\n      <td>0 - para llevar</td>\n      <td>mr. delivery</td>\n      <td>para llevar</td>\n    </tr>\n    <tr>\n      <th>299985</th>\n      <td>pedidos ya</td>\n      <td>1.0</td>\n      <td>8</td>\n      <td>0 - para llevar</td>\n      <td>pedidos ya</td>\n      <td>para llevar</td>\n    </tr>\n    <tr>\n      <th>308279</th>\n      <td>patio service</td>\n      <td>1.0</td>\n      <td>4</td>\n      <td>0 - para llevar</td>\n      <td>patio service</td>\n      <td>para llevar</td>\n    </tr>\n    <tr>\n      <th>298375</th>\n      <td>pedidos ya</td>\n      <td>1.0</td>\n      <td>14</td>\n      <td>0 - para llevar</td>\n      <td>pedidos ya</td>\n      <td>para llevar</td>\n    </tr>\n    <tr>\n      <th>311080</th>\n      <td>pedidos ya</td>\n      <td>1.0</td>\n      <td>9</td>\n      <td>0 - para llevar</td>\n      <td>pedidos ya</td>\n      <td>para llevar</td>\n    </tr>\n    <tr>\n      <th>308708</th>\n      <td>pedidos ya</td>\n      <td>1.0</td>\n      <td>5</td>\n      <td>0 - para llevar</td>\n      <td>pedidos ya</td>\n      <td>para llevar</td>\n    </tr>\n    <tr>\n      <th>282933</th>\n      <td>mr. delivery</td>\n      <td>1.0</td>\n      <td>15</td>\n      <td>0 - para llevar</td>\n      <td>mr. delivery</td>\n      <td>para llevar</td>\n    </tr>\n    <tr>\n      <th>303692</th>\n      <td>pedidos ya</td>\n      <td>1.0</td>\n      <td>5</td>\n      <td>0 - para llevar</td>\n      <td>pedidos ya</td>\n      <td>para llevar</td>\n    </tr>\n    <tr>\n      <th>293745</th>\n      <td>mr. delivery</td>\n      <td>1.0</td>\n      <td>22</td>\n      <td>0 - para llevar</td>\n      <td>mr. delivery</td>\n      <td>para llevar</td>\n    </tr>\n    <tr>\n      <th>259461</th>\n      <td>mr. delivery</td>\n      <td>20.0</td>\n      <td>1</td>\n      <td>0 - para llevar</td>\n      <td>mr. delivery</td>\n      <td>para llevar</td>\n    </tr>\n    <tr>\n      <th>310203</th>\n      <td>pedidos ya</td>\n      <td>1.0</td>\n      <td>14</td>\n      <td>0 - para llevar</td>\n      <td>pedidos ya</td>\n      <td>para llevar</td>\n    </tr>\n    <tr>\n      <th>301308</th>\n      <td>pedidos ya</td>\n      <td>1.0</td>\n      <td>15</td>\n      <td>0 - para llevar</td>\n      <td>pedidos ya</td>\n      <td>para llevar</td>\n    </tr>\n  </tbody>\n</table>\n</div>"
     },
     "execution_count": 123,
     "metadata": {},
     "output_type": "execute_result"
    }
   ],
   "execution_count": 123
  },
  {
   "cell_type": "markdown",
   "id": "98679dcecb91bbc7",
   "metadata": {},
   "source": [
    "##### correct order_type to delivery"
   ]
  },
  {
   "cell_type": "markdown",
   "id": "2b6302fe893ab6ab",
   "metadata": {},
   "source": [
    "sin uso, has as products deliveries which are active, that could be seen in prod_state. So these should be changed to classification=delivery."
   ]
  },
  {
   "cell_type": "code",
   "id": "f3c673fd79d80152",
   "metadata": {
    "ExecuteTime": {
     "end_time": "2024-07-03T20:44:02.610080Z",
     "start_time": "2024-07-03T20:44:02.376677200Z"
    }
   },
   "source": [
    "#correct order_type to delivery\n",
    "resta_df.loc[(resta_df['classification'].str.contains('sin')) & (resta_df['product'].isin(deliveries)),'order_type'] = 'delivery'"
   ],
   "outputs": [],
   "execution_count": 124
  },
  {
   "cell_type": "code",
   "id": "c3de293dfb54cc51",
   "metadata": {
    "ExecuteTime": {
     "end_time": "2024-07-03T20:44:02.733999300Z",
     "start_time": "2024-07-03T20:44:02.511065800Z"
    }
   },
   "source": [
    "resta_df.loc[(resta_df['classification'].str.contains('sin')) & (resta_df['order_type']=='delivery'), 'classification'] = 'delivery'"
   ],
   "outputs": [],
   "execution_count": 125
  },
  {
   "cell_type": "markdown",
   "id": "3d116a398f70652a",
   "metadata": {},
   "source": [
    "##### Deliveries vs para llevar, separation"
   ]
  },
  {
   "cell_type": "code",
   "id": "dfd9fb96836770aa",
   "metadata": {
    "ExecuteTime": {
     "end_time": "2024-07-03T20:44:02.777780200Z",
     "start_time": "2024-07-03T20:44:02.729740400Z"
    }
   },
   "source": [
    "resta_df[['order_id','location','product','order_type','delivery_name','price','quantity','to_pay_xprod','tot_order_payment','customer_pay']][resta_df['order_id']==529814]"
   ],
   "outputs": [
    {
     "data": {
      "text/plain": "        order_id         location                 product   order_type   \n401245    529814  0 - para llevar           chicken bites  para llevar  \\\n401246    529814  0 - para llevar   alitas albahaca 6unid  para llevar   \n401247    529814  0 - para llevar   alitas picante 6 unid  para llevar   \n401248    529814  0 - para llevar  alitas barbacoa 6 unid  para llevar   \n401249    529814  0 - para llevar              pedidos ya     delivery   \n\n       delivery_name  price  quantity  to_pay_xprod  tot_order_payment   \n401245          None   17.0         1          17.0              106.0  \\\n401246          None   24.0         1          24.0              106.0   \n401247          None   24.0         1          24.0              106.0   \n401248          None   24.0         1          24.0              106.0   \n401249    pedidos ya    1.0        17          17.0              106.0   \n\n        customer_pay  \n401245         106.0  \n401246         106.0  \n401247         106.0  \n401248         106.0  \n401249         106.0  ",
      "text/html": "<div>\n<style scoped>\n    .dataframe tbody tr th:only-of-type {\n        vertical-align: middle;\n    }\n\n    .dataframe tbody tr th {\n        vertical-align: top;\n    }\n\n    .dataframe thead th {\n        text-align: right;\n    }\n</style>\n<table border=\"1\" class=\"dataframe\">\n  <thead>\n    <tr style=\"text-align: right;\">\n      <th></th>\n      <th>order_id</th>\n      <th>location</th>\n      <th>product</th>\n      <th>order_type</th>\n      <th>delivery_name</th>\n      <th>price</th>\n      <th>quantity</th>\n      <th>to_pay_xprod</th>\n      <th>tot_order_payment</th>\n      <th>customer_pay</th>\n    </tr>\n  </thead>\n  <tbody>\n    <tr>\n      <th>401245</th>\n      <td>529814</td>\n      <td>0 - para llevar</td>\n      <td>chicken bites</td>\n      <td>para llevar</td>\n      <td>None</td>\n      <td>17.0</td>\n      <td>1</td>\n      <td>17.0</td>\n      <td>106.0</td>\n      <td>106.0</td>\n    </tr>\n    <tr>\n      <th>401246</th>\n      <td>529814</td>\n      <td>0 - para llevar</td>\n      <td>alitas albahaca 6unid</td>\n      <td>para llevar</td>\n      <td>None</td>\n      <td>24.0</td>\n      <td>1</td>\n      <td>24.0</td>\n      <td>106.0</td>\n      <td>106.0</td>\n    </tr>\n    <tr>\n      <th>401247</th>\n      <td>529814</td>\n      <td>0 - para llevar</td>\n      <td>alitas picante 6 unid</td>\n      <td>para llevar</td>\n      <td>None</td>\n      <td>24.0</td>\n      <td>1</td>\n      <td>24.0</td>\n      <td>106.0</td>\n      <td>106.0</td>\n    </tr>\n    <tr>\n      <th>401248</th>\n      <td>529814</td>\n      <td>0 - para llevar</td>\n      <td>alitas barbacoa 6 unid</td>\n      <td>para llevar</td>\n      <td>None</td>\n      <td>24.0</td>\n      <td>1</td>\n      <td>24.0</td>\n      <td>106.0</td>\n      <td>106.0</td>\n    </tr>\n    <tr>\n      <th>401249</th>\n      <td>529814</td>\n      <td>0 - para llevar</td>\n      <td>pedidos ya</td>\n      <td>delivery</td>\n      <td>pedidos ya</td>\n      <td>1.0</td>\n      <td>17</td>\n      <td>17.0</td>\n      <td>106.0</td>\n      <td>106.0</td>\n    </tr>\n  </tbody>\n</table>\n</div>"
     },
     "execution_count": 126,
     "metadata": {},
     "output_type": "execute_result"
    }
   ],
   "execution_count": 126
  },
  {
   "cell_type": "markdown",
   "id": "5faf4c22258393cc",
   "metadata": {},
   "source": [
    "There are orders which dont have any other products associatied to it, and its elements are not coherent with a real sale. This should be deleted."
   ]
  },
  {
   "cell_type": "code",
   "id": "994d201fd36e728",
   "metadata": {
    "ExecuteTime": {
     "end_time": "2024-07-03T20:44:03.068949100Z",
     "start_time": "2024-07-03T20:44:02.753816400Z"
    }
   },
   "source": [
    "#only deliveries with price 1\n",
    "\n",
    "resta_df.loc[(resta_df['order_type']=='delivery')&(resta_df['price']==1),'to_pay_xprod'].describe()\n"
   ],
   "outputs": [
    {
     "data": {
      "text/plain": "count    19358.000000\nmean        10.689482\nstd          6.810646\nmin          1.000000\n25%          6.000000\n50%          9.000000\n75%         13.000000\nmax        106.000000\nName: to_pay_xprod, dtype: float64"
     },
     "execution_count": 127,
     "metadata": {},
     "output_type": "execute_result"
    }
   ],
   "execution_count": 127
  },
  {
   "cell_type": "code",
   "id": "e96d10acad42060",
   "metadata": {
    "ExecuteTime": {
     "end_time": "2024-07-03T20:44:03.150908600Z",
     "start_time": "2024-07-03T20:44:02.891822200Z"
    }
   },
   "source": [
    "resta_df.loc[(resta_df['order_type']=='delivery')&(resta_df['price']==1)&(resta_df['to_pay_xprod']==1),:].head(20)"
   ],
   "outputs": [
    {
     "data": {
      "text/plain": "        order_id system_date                time group_classifier   \n287435    458490  2020-03-02 1900-01-01 19:36:59             menu  \\\n296622    463894  2020-06-07 1900-01-01 14:04:35             menu   \n297051    464129  2020-06-09 1900-01-01 19:42:22             menu   \n299754    465385  2020-06-25 1900-01-01 16:48:10             menu   \n323009    481033  2020-11-07 1900-01-01 13:17:11             menu   \n350947    498345  2021-03-02 1900-01-01 12:32:25             menu   \n350954    498349  2021-03-02 1900-01-01 12:40:37             menu   \n364560    506003  2021-04-30 1900-01-01 13:40:44             menu   \n367565    508511  2021-05-12 1900-01-01 18:45:34             menu   \n375698    512544  2021-06-15 1900-01-01 12:52:14             menu   \n393699    523179  2021-08-29 1900-01-01 20:36:21             menu   \n408236    534105  2021-10-24 1900-01-01 20:38:39             menu   \n420312    540964  2021-12-11 1900-01-01 17:23:40             menu   \n423886    542717  2021-12-28 1900-01-01 12:32:59             menu   \n437694    550475  2022-02-23 1900-01-01 14:02:16             menu   \n454511    558682  2022-05-04 1900-01-01 12:28:26             menu   \n461245    562928  2022-05-30 1900-01-01 12:54:08             menu   \n470587    567500  2022-07-08 1900-01-01 17:15:47             menu   \n471123    567766  2022-07-10 1900-01-01 20:07:34             menu   \n472454    568443  2022-07-16 1900-01-01 14:40:08             menu   \n\n       classification        product prod_state  price  quantity   \n287435       delivery   mr. delivery     activo    1.0         1  \\\n296622       delivery     pedidos ya     activo    1.0         1   \n297051       delivery     pedidos ya     activo    1.0         1   \n299754       delivery     pedidos ya     activo    1.0         1   \n323009       delivery  patio service     activo    1.0         1   \n350947       delivery          dinki     activo    1.0         1   \n350954       delivery     pedidos ya     activo    1.0         1   \n364560       delivery          dinki     activo    1.0         1   \n367565       delivery           link     activo    1.0         1   \n375698       delivery          dinki     activo    1.0         1   \n393699       delivery          dinki     activo    1.0         1   \n408236       delivery   mr. delivery     activo    1.0         1   \n420312       delivery          dinki     activo    1.0         1   \n423886       delivery     pedidos ya     activo    1.0         1   \n437694       delivery   mr. delivery     activo    1.0         1   \n454511       delivery     pedidos ya     activo    1.0         1   \n461245       delivery          yaigo     activo    1.0         1   \n470587       delivery     pedidos ya     activo    1.0         1   \n471123       delivery     pedidos ya     activo    1.0         1   \n472454       delivery           link     activo    1.0         1   \n\n        to_pay_xprod  ...  customer_pay change         location  order_number   \n287435           1.0  ...          38.0    0.0     . - sin mesa            40  \\\n296622           1.0  ...          69.0    0.0  0 - para llevar            42   \n297051           1.0  ...           1.0    0.0  0 - para llevar           107   \n299754           1.0  ...          81.0    0.0  0 - para llevar            45   \n323009           1.0  ...          17.0    0.0  0 - para llevar            26   \n350947           1.0  ...          18.0    0.0  0 - para llevar            11   \n350954           1.0  ...          89.0    0.0  0 - para llevar            15   \n364560           1.0  ...          70.0    0.0  0 - para llevar            25   \n367565           1.0  ...          18.0    0.0  0 - para llevar            78   \n375698           1.0  ...          18.0    0.0  0 - para llevar            13   \n393699           1.0  ...          22.0    0.0  0 - para llevar           118   \n408236           1.0  ...           5.0    0.0  0 - para llevar           153   \n420312           1.0  ...          18.0    0.0  0 - para llevar            75   \n423886           1.0  ...          86.0    0.0  0 - para llevar             5   \n437694           1.0  ...          33.0    0.0  0 - para llevar            24   \n454511           1.0  ...         288.0    0.0  0 - para llevar             5   \n461245           1.0  ...          59.0    0.0  0 - para llevar            10   \n470587           1.0  ...          19.0    0.0  0 - para llevar            18   \n471123           1.0  ...          19.0    0.0  0 - para llevar            73   \n472454           1.0  ...          39.0    0.0  0 - para llevar            33   \n\n        modification_date modification_reason  is_cancelled is_courtesy   \n287435                NaN             Ninguna         False       False  \\\n296622                NaN             Ninguna         False       False   \n297051                NaN             Ninguna         False       False   \n299754                NaN             Ninguna         False       False   \n323009                NaN             Ninguna         False       False   \n350947                NaN             Ninguna         False       False   \n350954                NaN             Ninguna         False       False   \n364560                NaN             Ninguna         False       False   \n367565                NaN             Ninguna         False       False   \n375698                NaN             Ninguna         False       False   \n393699                NaN             Ninguna         False       False   \n408236                NaN             Ninguna         False       False   \n420312                NaN             Ninguna         False       False   \n423886                NaN             Ninguna         False       False   \n437694                NaN             Ninguna         False       False   \n454511                NaN             Ninguna         False       False   \n461245                NaN             Ninguna         False       False   \n470587                NaN             Ninguna         False       False   \n471123                NaN             Ninguna         False       False   \n472454                NaN             Ninguna         False       False   \n\n        delivery_name order_type  \n287435   mr. delivery   delivery  \n296622     pedidos ya   delivery  \n297051     pedidos ya   delivery  \n299754     pedidos ya   delivery  \n323009  patio service   delivery  \n350947          dinki   delivery  \n350954     pedidos ya   delivery  \n364560          dinki   delivery  \n367565           link   delivery  \n375698          dinki   delivery  \n393699          dinki   delivery  \n408236   mr. delivery   delivery  \n420312          dinki   delivery  \n423886     pedidos ya   delivery  \n437694   mr. delivery   delivery  \n454511     pedidos ya   delivery  \n461245          yaigo   delivery  \n470587     pedidos ya   delivery  \n471123     pedidos ya   delivery  \n472454           link   delivery  \n\n[20 rows x 23 columns]",
      "text/html": "<div>\n<style scoped>\n    .dataframe tbody tr th:only-of-type {\n        vertical-align: middle;\n    }\n\n    .dataframe tbody tr th {\n        vertical-align: top;\n    }\n\n    .dataframe thead th {\n        text-align: right;\n    }\n</style>\n<table border=\"1\" class=\"dataframe\">\n  <thead>\n    <tr style=\"text-align: right;\">\n      <th></th>\n      <th>order_id</th>\n      <th>system_date</th>\n      <th>time</th>\n      <th>group_classifier</th>\n      <th>classification</th>\n      <th>product</th>\n      <th>prod_state</th>\n      <th>price</th>\n      <th>quantity</th>\n      <th>to_pay_xprod</th>\n      <th>...</th>\n      <th>customer_pay</th>\n      <th>change</th>\n      <th>location</th>\n      <th>order_number</th>\n      <th>modification_date</th>\n      <th>modification_reason</th>\n      <th>is_cancelled</th>\n      <th>is_courtesy</th>\n      <th>delivery_name</th>\n      <th>order_type</th>\n    </tr>\n  </thead>\n  <tbody>\n    <tr>\n      <th>287435</th>\n      <td>458490</td>\n      <td>2020-03-02</td>\n      <td>1900-01-01 19:36:59</td>\n      <td>menu</td>\n      <td>delivery</td>\n      <td>mr. delivery</td>\n      <td>activo</td>\n      <td>1.0</td>\n      <td>1</td>\n      <td>1.0</td>\n      <td>...</td>\n      <td>38.0</td>\n      <td>0.0</td>\n      <td>. - sin mesa</td>\n      <td>40</td>\n      <td>NaN</td>\n      <td>Ninguna</td>\n      <td>False</td>\n      <td>False</td>\n      <td>mr. delivery</td>\n      <td>delivery</td>\n    </tr>\n    <tr>\n      <th>296622</th>\n      <td>463894</td>\n      <td>2020-06-07</td>\n      <td>1900-01-01 14:04:35</td>\n      <td>menu</td>\n      <td>delivery</td>\n      <td>pedidos ya</td>\n      <td>activo</td>\n      <td>1.0</td>\n      <td>1</td>\n      <td>1.0</td>\n      <td>...</td>\n      <td>69.0</td>\n      <td>0.0</td>\n      <td>0 - para llevar</td>\n      <td>42</td>\n      <td>NaN</td>\n      <td>Ninguna</td>\n      <td>False</td>\n      <td>False</td>\n      <td>pedidos ya</td>\n      <td>delivery</td>\n    </tr>\n    <tr>\n      <th>297051</th>\n      <td>464129</td>\n      <td>2020-06-09</td>\n      <td>1900-01-01 19:42:22</td>\n      <td>menu</td>\n      <td>delivery</td>\n      <td>pedidos ya</td>\n      <td>activo</td>\n      <td>1.0</td>\n      <td>1</td>\n      <td>1.0</td>\n      <td>...</td>\n      <td>1.0</td>\n      <td>0.0</td>\n      <td>0 - para llevar</td>\n      <td>107</td>\n      <td>NaN</td>\n      <td>Ninguna</td>\n      <td>False</td>\n      <td>False</td>\n      <td>pedidos ya</td>\n      <td>delivery</td>\n    </tr>\n    <tr>\n      <th>299754</th>\n      <td>465385</td>\n      <td>2020-06-25</td>\n      <td>1900-01-01 16:48:10</td>\n      <td>menu</td>\n      <td>delivery</td>\n      <td>pedidos ya</td>\n      <td>activo</td>\n      <td>1.0</td>\n      <td>1</td>\n      <td>1.0</td>\n      <td>...</td>\n      <td>81.0</td>\n      <td>0.0</td>\n      <td>0 - para llevar</td>\n      <td>45</td>\n      <td>NaN</td>\n      <td>Ninguna</td>\n      <td>False</td>\n      <td>False</td>\n      <td>pedidos ya</td>\n      <td>delivery</td>\n    </tr>\n    <tr>\n      <th>323009</th>\n      <td>481033</td>\n      <td>2020-11-07</td>\n      <td>1900-01-01 13:17:11</td>\n      <td>menu</td>\n      <td>delivery</td>\n      <td>patio service</td>\n      <td>activo</td>\n      <td>1.0</td>\n      <td>1</td>\n      <td>1.0</td>\n      <td>...</td>\n      <td>17.0</td>\n      <td>0.0</td>\n      <td>0 - para llevar</td>\n      <td>26</td>\n      <td>NaN</td>\n      <td>Ninguna</td>\n      <td>False</td>\n      <td>False</td>\n      <td>patio service</td>\n      <td>delivery</td>\n    </tr>\n    <tr>\n      <th>350947</th>\n      <td>498345</td>\n      <td>2021-03-02</td>\n      <td>1900-01-01 12:32:25</td>\n      <td>menu</td>\n      <td>delivery</td>\n      <td>dinki</td>\n      <td>activo</td>\n      <td>1.0</td>\n      <td>1</td>\n      <td>1.0</td>\n      <td>...</td>\n      <td>18.0</td>\n      <td>0.0</td>\n      <td>0 - para llevar</td>\n      <td>11</td>\n      <td>NaN</td>\n      <td>Ninguna</td>\n      <td>False</td>\n      <td>False</td>\n      <td>dinki</td>\n      <td>delivery</td>\n    </tr>\n    <tr>\n      <th>350954</th>\n      <td>498349</td>\n      <td>2021-03-02</td>\n      <td>1900-01-01 12:40:37</td>\n      <td>menu</td>\n      <td>delivery</td>\n      <td>pedidos ya</td>\n      <td>activo</td>\n      <td>1.0</td>\n      <td>1</td>\n      <td>1.0</td>\n      <td>...</td>\n      <td>89.0</td>\n      <td>0.0</td>\n      <td>0 - para llevar</td>\n      <td>15</td>\n      <td>NaN</td>\n      <td>Ninguna</td>\n      <td>False</td>\n      <td>False</td>\n      <td>pedidos ya</td>\n      <td>delivery</td>\n    </tr>\n    <tr>\n      <th>364560</th>\n      <td>506003</td>\n      <td>2021-04-30</td>\n      <td>1900-01-01 13:40:44</td>\n      <td>menu</td>\n      <td>delivery</td>\n      <td>dinki</td>\n      <td>activo</td>\n      <td>1.0</td>\n      <td>1</td>\n      <td>1.0</td>\n      <td>...</td>\n      <td>70.0</td>\n      <td>0.0</td>\n      <td>0 - para llevar</td>\n      <td>25</td>\n      <td>NaN</td>\n      <td>Ninguna</td>\n      <td>False</td>\n      <td>False</td>\n      <td>dinki</td>\n      <td>delivery</td>\n    </tr>\n    <tr>\n      <th>367565</th>\n      <td>508511</td>\n      <td>2021-05-12</td>\n      <td>1900-01-01 18:45:34</td>\n      <td>menu</td>\n      <td>delivery</td>\n      <td>link</td>\n      <td>activo</td>\n      <td>1.0</td>\n      <td>1</td>\n      <td>1.0</td>\n      <td>...</td>\n      <td>18.0</td>\n      <td>0.0</td>\n      <td>0 - para llevar</td>\n      <td>78</td>\n      <td>NaN</td>\n      <td>Ninguna</td>\n      <td>False</td>\n      <td>False</td>\n      <td>link</td>\n      <td>delivery</td>\n    </tr>\n    <tr>\n      <th>375698</th>\n      <td>512544</td>\n      <td>2021-06-15</td>\n      <td>1900-01-01 12:52:14</td>\n      <td>menu</td>\n      <td>delivery</td>\n      <td>dinki</td>\n      <td>activo</td>\n      <td>1.0</td>\n      <td>1</td>\n      <td>1.0</td>\n      <td>...</td>\n      <td>18.0</td>\n      <td>0.0</td>\n      <td>0 - para llevar</td>\n      <td>13</td>\n      <td>NaN</td>\n      <td>Ninguna</td>\n      <td>False</td>\n      <td>False</td>\n      <td>dinki</td>\n      <td>delivery</td>\n    </tr>\n    <tr>\n      <th>393699</th>\n      <td>523179</td>\n      <td>2021-08-29</td>\n      <td>1900-01-01 20:36:21</td>\n      <td>menu</td>\n      <td>delivery</td>\n      <td>dinki</td>\n      <td>activo</td>\n      <td>1.0</td>\n      <td>1</td>\n      <td>1.0</td>\n      <td>...</td>\n      <td>22.0</td>\n      <td>0.0</td>\n      <td>0 - para llevar</td>\n      <td>118</td>\n      <td>NaN</td>\n      <td>Ninguna</td>\n      <td>False</td>\n      <td>False</td>\n      <td>dinki</td>\n      <td>delivery</td>\n    </tr>\n    <tr>\n      <th>408236</th>\n      <td>534105</td>\n      <td>2021-10-24</td>\n      <td>1900-01-01 20:38:39</td>\n      <td>menu</td>\n      <td>delivery</td>\n      <td>mr. delivery</td>\n      <td>activo</td>\n      <td>1.0</td>\n      <td>1</td>\n      <td>1.0</td>\n      <td>...</td>\n      <td>5.0</td>\n      <td>0.0</td>\n      <td>0 - para llevar</td>\n      <td>153</td>\n      <td>NaN</td>\n      <td>Ninguna</td>\n      <td>False</td>\n      <td>False</td>\n      <td>mr. delivery</td>\n      <td>delivery</td>\n    </tr>\n    <tr>\n      <th>420312</th>\n      <td>540964</td>\n      <td>2021-12-11</td>\n      <td>1900-01-01 17:23:40</td>\n      <td>menu</td>\n      <td>delivery</td>\n      <td>dinki</td>\n      <td>activo</td>\n      <td>1.0</td>\n      <td>1</td>\n      <td>1.0</td>\n      <td>...</td>\n      <td>18.0</td>\n      <td>0.0</td>\n      <td>0 - para llevar</td>\n      <td>75</td>\n      <td>NaN</td>\n      <td>Ninguna</td>\n      <td>False</td>\n      <td>False</td>\n      <td>dinki</td>\n      <td>delivery</td>\n    </tr>\n    <tr>\n      <th>423886</th>\n      <td>542717</td>\n      <td>2021-12-28</td>\n      <td>1900-01-01 12:32:59</td>\n      <td>menu</td>\n      <td>delivery</td>\n      <td>pedidos ya</td>\n      <td>activo</td>\n      <td>1.0</td>\n      <td>1</td>\n      <td>1.0</td>\n      <td>...</td>\n      <td>86.0</td>\n      <td>0.0</td>\n      <td>0 - para llevar</td>\n      <td>5</td>\n      <td>NaN</td>\n      <td>Ninguna</td>\n      <td>False</td>\n      <td>False</td>\n      <td>pedidos ya</td>\n      <td>delivery</td>\n    </tr>\n    <tr>\n      <th>437694</th>\n      <td>550475</td>\n      <td>2022-02-23</td>\n      <td>1900-01-01 14:02:16</td>\n      <td>menu</td>\n      <td>delivery</td>\n      <td>mr. delivery</td>\n      <td>activo</td>\n      <td>1.0</td>\n      <td>1</td>\n      <td>1.0</td>\n      <td>...</td>\n      <td>33.0</td>\n      <td>0.0</td>\n      <td>0 - para llevar</td>\n      <td>24</td>\n      <td>NaN</td>\n      <td>Ninguna</td>\n      <td>False</td>\n      <td>False</td>\n      <td>mr. delivery</td>\n      <td>delivery</td>\n    </tr>\n    <tr>\n      <th>454511</th>\n      <td>558682</td>\n      <td>2022-05-04</td>\n      <td>1900-01-01 12:28:26</td>\n      <td>menu</td>\n      <td>delivery</td>\n      <td>pedidos ya</td>\n      <td>activo</td>\n      <td>1.0</td>\n      <td>1</td>\n      <td>1.0</td>\n      <td>...</td>\n      <td>288.0</td>\n      <td>0.0</td>\n      <td>0 - para llevar</td>\n      <td>5</td>\n      <td>NaN</td>\n      <td>Ninguna</td>\n      <td>False</td>\n      <td>False</td>\n      <td>pedidos ya</td>\n      <td>delivery</td>\n    </tr>\n    <tr>\n      <th>461245</th>\n      <td>562928</td>\n      <td>2022-05-30</td>\n      <td>1900-01-01 12:54:08</td>\n      <td>menu</td>\n      <td>delivery</td>\n      <td>yaigo</td>\n      <td>activo</td>\n      <td>1.0</td>\n      <td>1</td>\n      <td>1.0</td>\n      <td>...</td>\n      <td>59.0</td>\n      <td>0.0</td>\n      <td>0 - para llevar</td>\n      <td>10</td>\n      <td>NaN</td>\n      <td>Ninguna</td>\n      <td>False</td>\n      <td>False</td>\n      <td>yaigo</td>\n      <td>delivery</td>\n    </tr>\n    <tr>\n      <th>470587</th>\n      <td>567500</td>\n      <td>2022-07-08</td>\n      <td>1900-01-01 17:15:47</td>\n      <td>menu</td>\n      <td>delivery</td>\n      <td>pedidos ya</td>\n      <td>activo</td>\n      <td>1.0</td>\n      <td>1</td>\n      <td>1.0</td>\n      <td>...</td>\n      <td>19.0</td>\n      <td>0.0</td>\n      <td>0 - para llevar</td>\n      <td>18</td>\n      <td>NaN</td>\n      <td>Ninguna</td>\n      <td>False</td>\n      <td>False</td>\n      <td>pedidos ya</td>\n      <td>delivery</td>\n    </tr>\n    <tr>\n      <th>471123</th>\n      <td>567766</td>\n      <td>2022-07-10</td>\n      <td>1900-01-01 20:07:34</td>\n      <td>menu</td>\n      <td>delivery</td>\n      <td>pedidos ya</td>\n      <td>activo</td>\n      <td>1.0</td>\n      <td>1</td>\n      <td>1.0</td>\n      <td>...</td>\n      <td>19.0</td>\n      <td>0.0</td>\n      <td>0 - para llevar</td>\n      <td>73</td>\n      <td>NaN</td>\n      <td>Ninguna</td>\n      <td>False</td>\n      <td>False</td>\n      <td>pedidos ya</td>\n      <td>delivery</td>\n    </tr>\n    <tr>\n      <th>472454</th>\n      <td>568443</td>\n      <td>2022-07-16</td>\n      <td>1900-01-01 14:40:08</td>\n      <td>menu</td>\n      <td>delivery</td>\n      <td>link</td>\n      <td>activo</td>\n      <td>1.0</td>\n      <td>1</td>\n      <td>1.0</td>\n      <td>...</td>\n      <td>39.0</td>\n      <td>0.0</td>\n      <td>0 - para llevar</td>\n      <td>33</td>\n      <td>NaN</td>\n      <td>Ninguna</td>\n      <td>False</td>\n      <td>False</td>\n      <td>link</td>\n      <td>delivery</td>\n    </tr>\n  </tbody>\n</table>\n<p>20 rows × 23 columns</p>\n</div>"
     },
     "execution_count": 128,
     "metadata": {},
     "output_type": "execute_result"
    }
   ],
   "execution_count": 128
  },
  {
   "cell_type": "code",
   "id": "de9a345d2f53bbb7",
   "metadata": {
    "ExecuteTime": {
     "end_time": "2024-07-03T20:44:03.188046200Z",
     "start_time": "2024-07-03T20:44:02.973820700Z"
    }
   },
   "source": [
    "mistakenonly_1s = resta_df.loc[(resta_df['order_type']=='delivery')&(resta_df['price']==1)&(resta_df['to_pay_xprod']==1)&(resta_df['tot_order_payment']==1),:].index\n",
    "mistakenonly_1s"
   ],
   "outputs": [
    {
     "data": {
      "text/plain": "Index([297051], dtype='int64')"
     },
     "execution_count": 129,
     "metadata": {},
     "output_type": "execute_result"
    }
   ],
   "execution_count": 129
  },
  {
   "cell_type": "code",
   "id": "d1fd260a3143bedf",
   "metadata": {
    "ExecuteTime": {
     "end_time": "2024-07-03T20:44:03.798740600Z",
     "start_time": "2024-07-03T20:44:03.016188800Z"
    }
   },
   "source": [
    "#Deleting wrong value\n",
    "resta_df=resta_df.drop(mistakenonly_1s, axis=0).reset_index(drop=True)"
   ],
   "outputs": [],
   "execution_count": 130
  },
  {
   "cell_type": "markdown",
   "id": "b401f02f2879e6f1",
   "metadata": {},
   "source": [
    "##### Identity False deliveries\n",
    "\n",
    "When price is different than 1 and quantity too, then that cant be considered a delivery, probably thoe are products that were mistankenly loaded. There were 143 possible values registered as delivery which were products.\n",
    "\n",
    "--- classification will be modified --- product will be changed\n",
    "--- order type could be used location to determine this. --- delivery modified"
   ]
  },
  {
   "cell_type": "code",
   "id": "d298f85dbfdd7f64",
   "metadata": {
    "ExecuteTime": {
     "end_time": "2024-07-03T20:44:03.801755700Z",
     "start_time": "2024-07-03T20:44:03.559197700Z"
    }
   },
   "source": [
    "resta_df[(resta_df['order_type']=='delivery') & (resta_df['price']!=1) &(resta_df['quantity']!=1)].head(50)"
   ],
   "outputs": [
    {
     "data": {
      "text/plain": "        order_id system_date                time group_classifier   \n259403    421562  2019-11-21 1900-01-01 15:00:23             menu  \\\n259405    421563  2019-11-21 1900-01-01 15:03:13             menu   \n259406    421564  2019-11-21 1900-01-01 15:11:33             menu   \n259408    421565  2019-11-21 1900-01-01 15:36:39             menu   \n259410    421567  2019-11-21 1900-01-01 16:31:46             menu   \n259413    421569  2019-11-21 1900-01-01 16:41:25             menu   \n259415    421570  2019-11-21 1900-01-01 16:49:12             menu   \n259425    421578  2019-11-21 1900-01-01 17:24:13             menu   \n259433    421584  2019-11-21 1900-01-01 18:01:06             menu   \n259434    421585  2019-11-21 1900-01-01 18:03:02             menu   \n259439    421588  2019-11-21 1900-01-01 18:18:43             menu   \n259442    421590  2019-11-21 1900-01-01 18:22:21             menu   \n259444    421591  2019-11-21 1900-01-01 18:22:51             menu   \n259450    421596  2019-11-21 1900-01-01 18:55:42             menu   \n259473    422420  2019-11-21 1900-01-01 20:07:45             menu   \n259476    422422  2019-11-21 1900-01-01 20:12:56             menu   \n259481    422426  2019-11-21 1900-01-01 20:28:45             menu   \n259500    422440  2019-11-22 1900-01-01 17:54:30             menu   \n259502    422442  2019-11-22 1900-01-01 18:05:13             menu   \n259504    422444  2019-11-22 1900-01-01 18:11:36             menu   \n259507    422446  2019-11-22 1900-01-01 18:35:34             menu   \n259508    422447  2019-11-22 1900-01-01 18:35:53             menu   \n259514    422453  2019-11-22 1900-01-01 19:07:18             menu   \n259515    422454  2019-11-22 1900-01-01 19:11:07             menu   \n259526    422462  2019-11-22 1900-01-01 19:26:26             menu   \n259527    422463  2019-11-22 1900-01-01 19:30:14             menu   \n259529    422465  2019-11-22 1900-01-01 19:34:24             menu   \n259538    422470  2019-11-22 1900-01-01 19:44:29             menu   \n259545    422475  2019-11-22 1900-01-01 20:05:44             menu   \n259548    422476  2019-11-22 1900-01-01 20:08:20             menu   \n259549    422477  2019-11-22 1900-01-01 20:11:00             menu   \n259551    422478  2019-11-22 1900-01-01 20:13:06             menu   \n259553    422479  2019-11-22 1900-01-01 20:14:30             menu   \n259556    422481  2019-11-22 1900-01-01 20:22:56             menu   \n259563    422487  2019-11-22 1900-01-01 20:45:59             menu   \n259568    422492  2019-11-22 1900-01-01 21:06:42             menu   \n259569    423411  2019-11-22 1900-01-01 21:14:12             menu   \n259579    423419  2019-11-23 1900-01-01 12:51:55             menu   \n259582    423420  2019-11-23 1900-01-01 12:55:50             menu   \n259588    423424  2019-11-23 1900-01-01 13:30:03             menu   \n259592    423427  2019-11-23 1900-01-01 13:36:29             menu   \n259596    423430  2019-11-23 1900-01-01 13:53:33             menu   \n259597    423431  2019-11-23 1900-01-01 13:57:43             menu   \n259603    423433  2019-11-23 1900-01-01 14:13:46             menu   \n259609    423436  2019-11-23 1900-01-01 14:27:01             menu   \n259616    423443  2019-11-23 1900-01-01 15:06:22             menu   \n259624    423448  2019-11-23 1900-01-01 15:36:30             menu   \n259625    423449  2019-11-23 1900-01-01 15:48:42             menu   \n259627    423451  2019-11-23 1900-01-01 15:57:21             menu   \n259637    423458  2019-11-23 1900-01-01 17:16:50             menu   \n\n       classification       product prod_state  price  quantity  to_pay_xprod   \n259403       delivery  mr. delivery     activo   20.0         4          80.0  \\\n259405       delivery  mr. delivery     activo   20.0         2          40.0   \n259406       delivery  mr. delivery     activo   20.0         3          60.0   \n259408       delivery  mr. delivery     activo   20.0         2          40.0   \n259410       delivery  mr. delivery     activo   20.0         2          40.0   \n259413       delivery  mr. delivery     activo   20.0         3          60.0   \n259415       delivery  mr. delivery     activo   20.0         2          40.0   \n259425       delivery  mr. delivery     activo   20.0         3          60.0   \n259433       delivery  mr. delivery     activo   20.0         2          40.0   \n259434       delivery  mr. delivery     activo   20.0         2          40.0   \n259439       delivery  mr. delivery     activo   20.0         2          40.0   \n259442       delivery  mr. delivery     activo   20.0         3          60.0   \n259444       delivery  mr. delivery     activo   20.0         2          40.0   \n259450       delivery  mr. delivery     activo   20.0         2          40.0   \n259473       delivery  mr. delivery     activo   20.0         2          40.0   \n259476       delivery  mr. delivery     activo   20.0         2          40.0   \n259481       delivery  mr. delivery     activo   20.0         3          60.0   \n259500       delivery  mr. delivery     activo   20.0         2          40.0   \n259502       delivery  mr. delivery     activo   20.0         2          40.0   \n259504       delivery  mr. delivery     activo   20.0         2          40.0   \n259507       delivery  mr. delivery     activo   20.0         2          40.0   \n259508       delivery  mr. delivery     activo   20.0         2          40.0   \n259514       delivery  mr. delivery     activo   20.0         5         100.0   \n259515       delivery  mr. delivery     activo   20.0         3          60.0   \n259526       delivery  mr. delivery     activo   20.0         2          40.0   \n259527       delivery  mr. delivery     activo   20.0         2          40.0   \n259529       delivery  mr. delivery     activo   20.0         2          40.0   \n259538       delivery  mr. delivery     activo   20.0         2          40.0   \n259545       delivery  mr. delivery     activo   20.0         2          40.0   \n259548       delivery  mr. delivery     activo   20.0         2          40.0   \n259549       delivery  mr. delivery     activo   20.0         2          40.0   \n259551       delivery  mr. delivery     activo   20.0         2          40.0   \n259553       delivery  mr. delivery     activo   20.0         2          40.0   \n259556       delivery  mr. delivery     activo   20.0         3          60.0   \n259563       delivery  mr. delivery     activo   20.0         2          40.0   \n259568       delivery  mr. delivery     activo   20.0         2          40.0   \n259569       delivery  mr. delivery     activo   20.0         2          40.0   \n259579       delivery  mr. delivery     activo   20.0         5         100.0   \n259582       delivery  mr. delivery     activo   20.0         4          80.0   \n259588       delivery  mr. delivery     activo   20.0         2          40.0   \n259592       delivery  mr. delivery     activo   20.0         2          40.0   \n259596       delivery  mr. delivery     activo   20.0         2          40.0   \n259597       delivery  mr. delivery     activo   20.0         2          40.0   \n259603       delivery  mr. delivery     activo   20.0         2          40.0   \n259609       delivery  mr. delivery     activo   20.0         6         120.0   \n259616       delivery  mr. delivery     activo   20.0         2          40.0   \n259624       delivery  mr. delivery     activo   20.0         4          80.0   \n259625       delivery  mr. delivery     activo   20.0         2          40.0   \n259627       delivery  mr. delivery     activo   20.0         2          40.0   \n259637       delivery  mr. delivery     activo   20.0         2          40.0   \n\n        ...  customer_pay change         location  order_number   \n259403  ...          96.0    0.0       4 - mesa 4            38  \\\n259405  ...          40.0    0.0       4 - mesa 4            39   \n259406  ...          76.0    0.0       2 - mesa 2            40   \n259408  ...          40.0    0.0  0 - para llevar            41   \n259410  ...          43.0    0.0     . - sin mesa            43   \n259413  ...          66.0    0.0       4 - mesa 4            45   \n259415  ...          40.0    0.0     12 - mesa 12            46   \n259425  ...          60.0    0.0       2 - mesa 2            54   \n259433  ...          40.0    0.0     11 - mesa 11            60   \n259434  ...          46.0    0.0     . - sin mesa            61   \n259439  ...          60.0    0.0     13 - mesa 13            64   \n259442  ...          70.0    0.0  0 - para llevar             2   \n259444  ...          40.0    0.0  0 - para llevar             3   \n259450  ...          40.0    0.0     . - sin mesa             8   \n259473  ...          40.0    0.0     . - sin mesa            21   \n259476  ...          43.0    0.0     17 - mesa 17            23   \n259481  ...          63.0    0.0     17 - mesa 17            27   \n259500  ...          40.0    0.0     17 - mesa 17             7   \n259502  ...          40.0    0.0     20 - mesa 20             9   \n259504  ...          40.0    0.0       7 - mesa 7            11   \n259507  ...          40.0    0.0       4 - mesa 4            13   \n259508  ...          40.0    0.0       1 - mesa 1            14   \n259514  ...         100.0    0.0     . - sin mesa            20   \n259515  ...         114.0    0.0     14 - mesa 14            21   \n259526  ...          40.0    0.0  0 - para llevar            29   \n259527  ...          40.0    0.0     . - sin mesa            30   \n259529  ...          60.0    0.0       7 - mesa 7            32   \n259538  ...          40.0    0.0     . - sin mesa            37   \n259545  ...          46.0    0.0     17 - mesa 17            42   \n259548  ...          40.0    0.0       4 - mesa 4            43   \n259549  ...          67.0    0.0       1 - mesa 1            44   \n259551  ...          67.0    0.0     14 - mesa 14            45   \n259553  ...          40.0    0.0       7 - mesa 7            46   \n259556  ...          60.0    0.0       7 - mesa 7            48   \n259563  ...          40.0    0.0     13 - mesa 13            54   \n259568  ...          40.0    0.0     14 - mesa 14            59   \n259569  ...          40.0    0.0  0 - para llevar            60   \n259579  ...         167.0    0.0     11 - mesa 11             2   \n259582  ...          80.0    0.0     17 - mesa 17             3   \n259588  ...          43.0    0.0       2 - mesa 2             7   \n259592  ...          40.0    0.0       1 - mesa 1            10   \n259596  ...          40.0    0.0  0 - para llevar            13   \n259597  ...          40.0    0.0     . - sin mesa            14   \n259603  ...         138.0    0.0     15 - mesa 15            16   \n259609  ...         120.0    0.0  0 - para llevar            19   \n259616  ...          84.0    0.0       9 - mesa 9            26   \n259624  ...         161.0    0.0     11 - mesa 11            31   \n259625  ...          40.0    0.0  0 - para llevar            32   \n259627  ...          40.0    0.0     . - sin mesa            34   \n259637  ...          40.0    0.0  0 - para llevar            41   \n\n        modification_date modification_reason  is_cancelled is_courtesy   \n259403                NaN             Ninguna         False       False  \\\n259405                NaN             Ninguna         False       False   \n259406                NaN             Ninguna         False       False   \n259408                NaN             Ninguna         False       False   \n259410                NaN             Ninguna         False       False   \n259413                NaN             Ninguna         False       False   \n259415                NaN             Ninguna         False       False   \n259425                NaN             Ninguna         False       False   \n259433                NaN             Ninguna         False       False   \n259434                NaN             Ninguna         False       False   \n259439                NaN             Ninguna         False       False   \n259442                NaN             Ninguna         False       False   \n259444                NaN             Ninguna         False       False   \n259450                NaN             Ninguna         False       False   \n259473                NaN             Ninguna         False       False   \n259476                NaN             Ninguna         False       False   \n259481                NaN             Ninguna         False       False   \n259500                NaN             Ninguna         False       False   \n259502                NaN             Ninguna         False       False   \n259504                NaN             Ninguna         False       False   \n259507                NaN             Ninguna         False       False   \n259508                NaN             Ninguna         False       False   \n259514                NaN             Ninguna         False       False   \n259515                NaN             Ninguna         False       False   \n259526                NaN             Ninguna         False       False   \n259527                NaN             Ninguna         False       False   \n259529                NaN             Ninguna         False       False   \n259538                NaN             Ninguna         False       False   \n259545                NaN             Ninguna         False       False   \n259548                NaN             Ninguna         False       False   \n259549                NaN             Ninguna         False       False   \n259551                NaN             Ninguna         False       False   \n259553                NaN             Ninguna         False       False   \n259556                NaN             Ninguna         False       False   \n259563                NaN             Ninguna         False       False   \n259568                NaN             Ninguna         False       False   \n259569                NaN             Ninguna         False       False   \n259579                NaN             Ninguna         False       False   \n259582                NaN             Ninguna         False       False   \n259588                NaN             Ninguna         False       False   \n259592                NaN             Ninguna         False       False   \n259596                NaN             Ninguna         False       False   \n259597                NaN             Ninguna         False       False   \n259603                NaN             Ninguna         False       False   \n259609                NaN             Ninguna         False       False   \n259616                NaN             Ninguna         False       False   \n259624                NaN             Ninguna         False       False   \n259625                NaN             Ninguna         False       False   \n259627                NaN             Ninguna         False       False   \n259637                NaN             Ninguna         False       False   \n\n       delivery_name order_type  \n259403  mr. delivery   delivery  \n259405  mr. delivery   delivery  \n259406  mr. delivery   delivery  \n259408  mr. delivery   delivery  \n259410  mr. delivery   delivery  \n259413  mr. delivery   delivery  \n259415  mr. delivery   delivery  \n259425  mr. delivery   delivery  \n259433  mr. delivery   delivery  \n259434  mr. delivery   delivery  \n259439  mr. delivery   delivery  \n259442  mr. delivery   delivery  \n259444  mr. delivery   delivery  \n259450  mr. delivery   delivery  \n259473  mr. delivery   delivery  \n259476  mr. delivery   delivery  \n259481  mr. delivery   delivery  \n259500  mr. delivery   delivery  \n259502  mr. delivery   delivery  \n259504  mr. delivery   delivery  \n259507  mr. delivery   delivery  \n259508  mr. delivery   delivery  \n259514  mr. delivery   delivery  \n259515  mr. delivery   delivery  \n259526  mr. delivery   delivery  \n259527  mr. delivery   delivery  \n259529  mr. delivery   delivery  \n259538  mr. delivery   delivery  \n259545  mr. delivery   delivery  \n259548  mr. delivery   delivery  \n259549  mr. delivery   delivery  \n259551  mr. delivery   delivery  \n259553  mr. delivery   delivery  \n259556  mr. delivery   delivery  \n259563  mr. delivery   delivery  \n259568  mr. delivery   delivery  \n259569  mr. delivery   delivery  \n259579  mr. delivery   delivery  \n259582  mr. delivery   delivery  \n259588  mr. delivery   delivery  \n259592  mr. delivery   delivery  \n259596  mr. delivery   delivery  \n259597  mr. delivery   delivery  \n259603  mr. delivery   delivery  \n259609  mr. delivery   delivery  \n259616  mr. delivery   delivery  \n259624  mr. delivery   delivery  \n259625  mr. delivery   delivery  \n259627  mr. delivery   delivery  \n259637  mr. delivery   delivery  \n\n[50 rows x 23 columns]",
      "text/html": "<div>\n<style scoped>\n    .dataframe tbody tr th:only-of-type {\n        vertical-align: middle;\n    }\n\n    .dataframe tbody tr th {\n        vertical-align: top;\n    }\n\n    .dataframe thead th {\n        text-align: right;\n    }\n</style>\n<table border=\"1\" class=\"dataframe\">\n  <thead>\n    <tr style=\"text-align: right;\">\n      <th></th>\n      <th>order_id</th>\n      <th>system_date</th>\n      <th>time</th>\n      <th>group_classifier</th>\n      <th>classification</th>\n      <th>product</th>\n      <th>prod_state</th>\n      <th>price</th>\n      <th>quantity</th>\n      <th>to_pay_xprod</th>\n      <th>...</th>\n      <th>customer_pay</th>\n      <th>change</th>\n      <th>location</th>\n      <th>order_number</th>\n      <th>modification_date</th>\n      <th>modification_reason</th>\n      <th>is_cancelled</th>\n      <th>is_courtesy</th>\n      <th>delivery_name</th>\n      <th>order_type</th>\n    </tr>\n  </thead>\n  <tbody>\n    <tr>\n      <th>259403</th>\n      <td>421562</td>\n      <td>2019-11-21</td>\n      <td>1900-01-01 15:00:23</td>\n      <td>menu</td>\n      <td>delivery</td>\n      <td>mr. delivery</td>\n      <td>activo</td>\n      <td>20.0</td>\n      <td>4</td>\n      <td>80.0</td>\n      <td>...</td>\n      <td>96.0</td>\n      <td>0.0</td>\n      <td>4 - mesa 4</td>\n      <td>38</td>\n      <td>NaN</td>\n      <td>Ninguna</td>\n      <td>False</td>\n      <td>False</td>\n      <td>mr. delivery</td>\n      <td>delivery</td>\n    </tr>\n    <tr>\n      <th>259405</th>\n      <td>421563</td>\n      <td>2019-11-21</td>\n      <td>1900-01-01 15:03:13</td>\n      <td>menu</td>\n      <td>delivery</td>\n      <td>mr. delivery</td>\n      <td>activo</td>\n      <td>20.0</td>\n      <td>2</td>\n      <td>40.0</td>\n      <td>...</td>\n      <td>40.0</td>\n      <td>0.0</td>\n      <td>4 - mesa 4</td>\n      <td>39</td>\n      <td>NaN</td>\n      <td>Ninguna</td>\n      <td>False</td>\n      <td>False</td>\n      <td>mr. delivery</td>\n      <td>delivery</td>\n    </tr>\n    <tr>\n      <th>259406</th>\n      <td>421564</td>\n      <td>2019-11-21</td>\n      <td>1900-01-01 15:11:33</td>\n      <td>menu</td>\n      <td>delivery</td>\n      <td>mr. delivery</td>\n      <td>activo</td>\n      <td>20.0</td>\n      <td>3</td>\n      <td>60.0</td>\n      <td>...</td>\n      <td>76.0</td>\n      <td>0.0</td>\n      <td>2 - mesa 2</td>\n      <td>40</td>\n      <td>NaN</td>\n      <td>Ninguna</td>\n      <td>False</td>\n      <td>False</td>\n      <td>mr. delivery</td>\n      <td>delivery</td>\n    </tr>\n    <tr>\n      <th>259408</th>\n      <td>421565</td>\n      <td>2019-11-21</td>\n      <td>1900-01-01 15:36:39</td>\n      <td>menu</td>\n      <td>delivery</td>\n      <td>mr. delivery</td>\n      <td>activo</td>\n      <td>20.0</td>\n      <td>2</td>\n      <td>40.0</td>\n      <td>...</td>\n      <td>40.0</td>\n      <td>0.0</td>\n      <td>0 - para llevar</td>\n      <td>41</td>\n      <td>NaN</td>\n      <td>Ninguna</td>\n      <td>False</td>\n      <td>False</td>\n      <td>mr. delivery</td>\n      <td>delivery</td>\n    </tr>\n    <tr>\n      <th>259410</th>\n      <td>421567</td>\n      <td>2019-11-21</td>\n      <td>1900-01-01 16:31:46</td>\n      <td>menu</td>\n      <td>delivery</td>\n      <td>mr. delivery</td>\n      <td>activo</td>\n      <td>20.0</td>\n      <td>2</td>\n      <td>40.0</td>\n      <td>...</td>\n      <td>43.0</td>\n      <td>0.0</td>\n      <td>. - sin mesa</td>\n      <td>43</td>\n      <td>NaN</td>\n      <td>Ninguna</td>\n      <td>False</td>\n      <td>False</td>\n      <td>mr. delivery</td>\n      <td>delivery</td>\n    </tr>\n    <tr>\n      <th>259413</th>\n      <td>421569</td>\n      <td>2019-11-21</td>\n      <td>1900-01-01 16:41:25</td>\n      <td>menu</td>\n      <td>delivery</td>\n      <td>mr. delivery</td>\n      <td>activo</td>\n      <td>20.0</td>\n      <td>3</td>\n      <td>60.0</td>\n      <td>...</td>\n      <td>66.0</td>\n      <td>0.0</td>\n      <td>4 - mesa 4</td>\n      <td>45</td>\n      <td>NaN</td>\n      <td>Ninguna</td>\n      <td>False</td>\n      <td>False</td>\n      <td>mr. delivery</td>\n      <td>delivery</td>\n    </tr>\n    <tr>\n      <th>259415</th>\n      <td>421570</td>\n      <td>2019-11-21</td>\n      <td>1900-01-01 16:49:12</td>\n      <td>menu</td>\n      <td>delivery</td>\n      <td>mr. delivery</td>\n      <td>activo</td>\n      <td>20.0</td>\n      <td>2</td>\n      <td>40.0</td>\n      <td>...</td>\n      <td>40.0</td>\n      <td>0.0</td>\n      <td>12 - mesa 12</td>\n      <td>46</td>\n      <td>NaN</td>\n      <td>Ninguna</td>\n      <td>False</td>\n      <td>False</td>\n      <td>mr. delivery</td>\n      <td>delivery</td>\n    </tr>\n    <tr>\n      <th>259425</th>\n      <td>421578</td>\n      <td>2019-11-21</td>\n      <td>1900-01-01 17:24:13</td>\n      <td>menu</td>\n      <td>delivery</td>\n      <td>mr. delivery</td>\n      <td>activo</td>\n      <td>20.0</td>\n      <td>3</td>\n      <td>60.0</td>\n      <td>...</td>\n      <td>60.0</td>\n      <td>0.0</td>\n      <td>2 - mesa 2</td>\n      <td>54</td>\n      <td>NaN</td>\n      <td>Ninguna</td>\n      <td>False</td>\n      <td>False</td>\n      <td>mr. delivery</td>\n      <td>delivery</td>\n    </tr>\n    <tr>\n      <th>259433</th>\n      <td>421584</td>\n      <td>2019-11-21</td>\n      <td>1900-01-01 18:01:06</td>\n      <td>menu</td>\n      <td>delivery</td>\n      <td>mr. delivery</td>\n      <td>activo</td>\n      <td>20.0</td>\n      <td>2</td>\n      <td>40.0</td>\n      <td>...</td>\n      <td>40.0</td>\n      <td>0.0</td>\n      <td>11 - mesa 11</td>\n      <td>60</td>\n      <td>NaN</td>\n      <td>Ninguna</td>\n      <td>False</td>\n      <td>False</td>\n      <td>mr. delivery</td>\n      <td>delivery</td>\n    </tr>\n    <tr>\n      <th>259434</th>\n      <td>421585</td>\n      <td>2019-11-21</td>\n      <td>1900-01-01 18:03:02</td>\n      <td>menu</td>\n      <td>delivery</td>\n      <td>mr. delivery</td>\n      <td>activo</td>\n      <td>20.0</td>\n      <td>2</td>\n      <td>40.0</td>\n      <td>...</td>\n      <td>46.0</td>\n      <td>0.0</td>\n      <td>. - sin mesa</td>\n      <td>61</td>\n      <td>NaN</td>\n      <td>Ninguna</td>\n      <td>False</td>\n      <td>False</td>\n      <td>mr. delivery</td>\n      <td>delivery</td>\n    </tr>\n    <tr>\n      <th>259439</th>\n      <td>421588</td>\n      <td>2019-11-21</td>\n      <td>1900-01-01 18:18:43</td>\n      <td>menu</td>\n      <td>delivery</td>\n      <td>mr. delivery</td>\n      <td>activo</td>\n      <td>20.0</td>\n      <td>2</td>\n      <td>40.0</td>\n      <td>...</td>\n      <td>60.0</td>\n      <td>0.0</td>\n      <td>13 - mesa 13</td>\n      <td>64</td>\n      <td>NaN</td>\n      <td>Ninguna</td>\n      <td>False</td>\n      <td>False</td>\n      <td>mr. delivery</td>\n      <td>delivery</td>\n    </tr>\n    <tr>\n      <th>259442</th>\n      <td>421590</td>\n      <td>2019-11-21</td>\n      <td>1900-01-01 18:22:21</td>\n      <td>menu</td>\n      <td>delivery</td>\n      <td>mr. delivery</td>\n      <td>activo</td>\n      <td>20.0</td>\n      <td>3</td>\n      <td>60.0</td>\n      <td>...</td>\n      <td>70.0</td>\n      <td>0.0</td>\n      <td>0 - para llevar</td>\n      <td>2</td>\n      <td>NaN</td>\n      <td>Ninguna</td>\n      <td>False</td>\n      <td>False</td>\n      <td>mr. delivery</td>\n      <td>delivery</td>\n    </tr>\n    <tr>\n      <th>259444</th>\n      <td>421591</td>\n      <td>2019-11-21</td>\n      <td>1900-01-01 18:22:51</td>\n      <td>menu</td>\n      <td>delivery</td>\n      <td>mr. delivery</td>\n      <td>activo</td>\n      <td>20.0</td>\n      <td>2</td>\n      <td>40.0</td>\n      <td>...</td>\n      <td>40.0</td>\n      <td>0.0</td>\n      <td>0 - para llevar</td>\n      <td>3</td>\n      <td>NaN</td>\n      <td>Ninguna</td>\n      <td>False</td>\n      <td>False</td>\n      <td>mr. delivery</td>\n      <td>delivery</td>\n    </tr>\n    <tr>\n      <th>259450</th>\n      <td>421596</td>\n      <td>2019-11-21</td>\n      <td>1900-01-01 18:55:42</td>\n      <td>menu</td>\n      <td>delivery</td>\n      <td>mr. delivery</td>\n      <td>activo</td>\n      <td>20.0</td>\n      <td>2</td>\n      <td>40.0</td>\n      <td>...</td>\n      <td>40.0</td>\n      <td>0.0</td>\n      <td>. - sin mesa</td>\n      <td>8</td>\n      <td>NaN</td>\n      <td>Ninguna</td>\n      <td>False</td>\n      <td>False</td>\n      <td>mr. delivery</td>\n      <td>delivery</td>\n    </tr>\n    <tr>\n      <th>259473</th>\n      <td>422420</td>\n      <td>2019-11-21</td>\n      <td>1900-01-01 20:07:45</td>\n      <td>menu</td>\n      <td>delivery</td>\n      <td>mr. delivery</td>\n      <td>activo</td>\n      <td>20.0</td>\n      <td>2</td>\n      <td>40.0</td>\n      <td>...</td>\n      <td>40.0</td>\n      <td>0.0</td>\n      <td>. - sin mesa</td>\n      <td>21</td>\n      <td>NaN</td>\n      <td>Ninguna</td>\n      <td>False</td>\n      <td>False</td>\n      <td>mr. delivery</td>\n      <td>delivery</td>\n    </tr>\n    <tr>\n      <th>259476</th>\n      <td>422422</td>\n      <td>2019-11-21</td>\n      <td>1900-01-01 20:12:56</td>\n      <td>menu</td>\n      <td>delivery</td>\n      <td>mr. delivery</td>\n      <td>activo</td>\n      <td>20.0</td>\n      <td>2</td>\n      <td>40.0</td>\n      <td>...</td>\n      <td>43.0</td>\n      <td>0.0</td>\n      <td>17 - mesa 17</td>\n      <td>23</td>\n      <td>NaN</td>\n      <td>Ninguna</td>\n      <td>False</td>\n      <td>False</td>\n      <td>mr. delivery</td>\n      <td>delivery</td>\n    </tr>\n    <tr>\n      <th>259481</th>\n      <td>422426</td>\n      <td>2019-11-21</td>\n      <td>1900-01-01 20:28:45</td>\n      <td>menu</td>\n      <td>delivery</td>\n      <td>mr. delivery</td>\n      <td>activo</td>\n      <td>20.0</td>\n      <td>3</td>\n      <td>60.0</td>\n      <td>...</td>\n      <td>63.0</td>\n      <td>0.0</td>\n      <td>17 - mesa 17</td>\n      <td>27</td>\n      <td>NaN</td>\n      <td>Ninguna</td>\n      <td>False</td>\n      <td>False</td>\n      <td>mr. delivery</td>\n      <td>delivery</td>\n    </tr>\n    <tr>\n      <th>259500</th>\n      <td>422440</td>\n      <td>2019-11-22</td>\n      <td>1900-01-01 17:54:30</td>\n      <td>menu</td>\n      <td>delivery</td>\n      <td>mr. delivery</td>\n      <td>activo</td>\n      <td>20.0</td>\n      <td>2</td>\n      <td>40.0</td>\n      <td>...</td>\n      <td>40.0</td>\n      <td>0.0</td>\n      <td>17 - mesa 17</td>\n      <td>7</td>\n      <td>NaN</td>\n      <td>Ninguna</td>\n      <td>False</td>\n      <td>False</td>\n      <td>mr. delivery</td>\n      <td>delivery</td>\n    </tr>\n    <tr>\n      <th>259502</th>\n      <td>422442</td>\n      <td>2019-11-22</td>\n      <td>1900-01-01 18:05:13</td>\n      <td>menu</td>\n      <td>delivery</td>\n      <td>mr. delivery</td>\n      <td>activo</td>\n      <td>20.0</td>\n      <td>2</td>\n      <td>40.0</td>\n      <td>...</td>\n      <td>40.0</td>\n      <td>0.0</td>\n      <td>20 - mesa 20</td>\n      <td>9</td>\n      <td>NaN</td>\n      <td>Ninguna</td>\n      <td>False</td>\n      <td>False</td>\n      <td>mr. delivery</td>\n      <td>delivery</td>\n    </tr>\n    <tr>\n      <th>259504</th>\n      <td>422444</td>\n      <td>2019-11-22</td>\n      <td>1900-01-01 18:11:36</td>\n      <td>menu</td>\n      <td>delivery</td>\n      <td>mr. delivery</td>\n      <td>activo</td>\n      <td>20.0</td>\n      <td>2</td>\n      <td>40.0</td>\n      <td>...</td>\n      <td>40.0</td>\n      <td>0.0</td>\n      <td>7 - mesa 7</td>\n      <td>11</td>\n      <td>NaN</td>\n      <td>Ninguna</td>\n      <td>False</td>\n      <td>False</td>\n      <td>mr. delivery</td>\n      <td>delivery</td>\n    </tr>\n    <tr>\n      <th>259507</th>\n      <td>422446</td>\n      <td>2019-11-22</td>\n      <td>1900-01-01 18:35:34</td>\n      <td>menu</td>\n      <td>delivery</td>\n      <td>mr. delivery</td>\n      <td>activo</td>\n      <td>20.0</td>\n      <td>2</td>\n      <td>40.0</td>\n      <td>...</td>\n      <td>40.0</td>\n      <td>0.0</td>\n      <td>4 - mesa 4</td>\n      <td>13</td>\n      <td>NaN</td>\n      <td>Ninguna</td>\n      <td>False</td>\n      <td>False</td>\n      <td>mr. delivery</td>\n      <td>delivery</td>\n    </tr>\n    <tr>\n      <th>259508</th>\n      <td>422447</td>\n      <td>2019-11-22</td>\n      <td>1900-01-01 18:35:53</td>\n      <td>menu</td>\n      <td>delivery</td>\n      <td>mr. delivery</td>\n      <td>activo</td>\n      <td>20.0</td>\n      <td>2</td>\n      <td>40.0</td>\n      <td>...</td>\n      <td>40.0</td>\n      <td>0.0</td>\n      <td>1 - mesa 1</td>\n      <td>14</td>\n      <td>NaN</td>\n      <td>Ninguna</td>\n      <td>False</td>\n      <td>False</td>\n      <td>mr. delivery</td>\n      <td>delivery</td>\n    </tr>\n    <tr>\n      <th>259514</th>\n      <td>422453</td>\n      <td>2019-11-22</td>\n      <td>1900-01-01 19:07:18</td>\n      <td>menu</td>\n      <td>delivery</td>\n      <td>mr. delivery</td>\n      <td>activo</td>\n      <td>20.0</td>\n      <td>5</td>\n      <td>100.0</td>\n      <td>...</td>\n      <td>100.0</td>\n      <td>0.0</td>\n      <td>. - sin mesa</td>\n      <td>20</td>\n      <td>NaN</td>\n      <td>Ninguna</td>\n      <td>False</td>\n      <td>False</td>\n      <td>mr. delivery</td>\n      <td>delivery</td>\n    </tr>\n    <tr>\n      <th>259515</th>\n      <td>422454</td>\n      <td>2019-11-22</td>\n      <td>1900-01-01 19:11:07</td>\n      <td>menu</td>\n      <td>delivery</td>\n      <td>mr. delivery</td>\n      <td>activo</td>\n      <td>20.0</td>\n      <td>3</td>\n      <td>60.0</td>\n      <td>...</td>\n      <td>114.0</td>\n      <td>0.0</td>\n      <td>14 - mesa 14</td>\n      <td>21</td>\n      <td>NaN</td>\n      <td>Ninguna</td>\n      <td>False</td>\n      <td>False</td>\n      <td>mr. delivery</td>\n      <td>delivery</td>\n    </tr>\n    <tr>\n      <th>259526</th>\n      <td>422462</td>\n      <td>2019-11-22</td>\n      <td>1900-01-01 19:26:26</td>\n      <td>menu</td>\n      <td>delivery</td>\n      <td>mr. delivery</td>\n      <td>activo</td>\n      <td>20.0</td>\n      <td>2</td>\n      <td>40.0</td>\n      <td>...</td>\n      <td>40.0</td>\n      <td>0.0</td>\n      <td>0 - para llevar</td>\n      <td>29</td>\n      <td>NaN</td>\n      <td>Ninguna</td>\n      <td>False</td>\n      <td>False</td>\n      <td>mr. delivery</td>\n      <td>delivery</td>\n    </tr>\n    <tr>\n      <th>259527</th>\n      <td>422463</td>\n      <td>2019-11-22</td>\n      <td>1900-01-01 19:30:14</td>\n      <td>menu</td>\n      <td>delivery</td>\n      <td>mr. delivery</td>\n      <td>activo</td>\n      <td>20.0</td>\n      <td>2</td>\n      <td>40.0</td>\n      <td>...</td>\n      <td>40.0</td>\n      <td>0.0</td>\n      <td>. - sin mesa</td>\n      <td>30</td>\n      <td>NaN</td>\n      <td>Ninguna</td>\n      <td>False</td>\n      <td>False</td>\n      <td>mr. delivery</td>\n      <td>delivery</td>\n    </tr>\n    <tr>\n      <th>259529</th>\n      <td>422465</td>\n      <td>2019-11-22</td>\n      <td>1900-01-01 19:34:24</td>\n      <td>menu</td>\n      <td>delivery</td>\n      <td>mr. delivery</td>\n      <td>activo</td>\n      <td>20.0</td>\n      <td>2</td>\n      <td>40.0</td>\n      <td>...</td>\n      <td>60.0</td>\n      <td>0.0</td>\n      <td>7 - mesa 7</td>\n      <td>32</td>\n      <td>NaN</td>\n      <td>Ninguna</td>\n      <td>False</td>\n      <td>False</td>\n      <td>mr. delivery</td>\n      <td>delivery</td>\n    </tr>\n    <tr>\n      <th>259538</th>\n      <td>422470</td>\n      <td>2019-11-22</td>\n      <td>1900-01-01 19:44:29</td>\n      <td>menu</td>\n      <td>delivery</td>\n      <td>mr. delivery</td>\n      <td>activo</td>\n      <td>20.0</td>\n      <td>2</td>\n      <td>40.0</td>\n      <td>...</td>\n      <td>40.0</td>\n      <td>0.0</td>\n      <td>. - sin mesa</td>\n      <td>37</td>\n      <td>NaN</td>\n      <td>Ninguna</td>\n      <td>False</td>\n      <td>False</td>\n      <td>mr. delivery</td>\n      <td>delivery</td>\n    </tr>\n    <tr>\n      <th>259545</th>\n      <td>422475</td>\n      <td>2019-11-22</td>\n      <td>1900-01-01 20:05:44</td>\n      <td>menu</td>\n      <td>delivery</td>\n      <td>mr. delivery</td>\n      <td>activo</td>\n      <td>20.0</td>\n      <td>2</td>\n      <td>40.0</td>\n      <td>...</td>\n      <td>46.0</td>\n      <td>0.0</td>\n      <td>17 - mesa 17</td>\n      <td>42</td>\n      <td>NaN</td>\n      <td>Ninguna</td>\n      <td>False</td>\n      <td>False</td>\n      <td>mr. delivery</td>\n      <td>delivery</td>\n    </tr>\n    <tr>\n      <th>259548</th>\n      <td>422476</td>\n      <td>2019-11-22</td>\n      <td>1900-01-01 20:08:20</td>\n      <td>menu</td>\n      <td>delivery</td>\n      <td>mr. delivery</td>\n      <td>activo</td>\n      <td>20.0</td>\n      <td>2</td>\n      <td>40.0</td>\n      <td>...</td>\n      <td>40.0</td>\n      <td>0.0</td>\n      <td>4 - mesa 4</td>\n      <td>43</td>\n      <td>NaN</td>\n      <td>Ninguna</td>\n      <td>False</td>\n      <td>False</td>\n      <td>mr. delivery</td>\n      <td>delivery</td>\n    </tr>\n    <tr>\n      <th>259549</th>\n      <td>422477</td>\n      <td>2019-11-22</td>\n      <td>1900-01-01 20:11:00</td>\n      <td>menu</td>\n      <td>delivery</td>\n      <td>mr. delivery</td>\n      <td>activo</td>\n      <td>20.0</td>\n      <td>2</td>\n      <td>40.0</td>\n      <td>...</td>\n      <td>67.0</td>\n      <td>0.0</td>\n      <td>1 - mesa 1</td>\n      <td>44</td>\n      <td>NaN</td>\n      <td>Ninguna</td>\n      <td>False</td>\n      <td>False</td>\n      <td>mr. delivery</td>\n      <td>delivery</td>\n    </tr>\n    <tr>\n      <th>259551</th>\n      <td>422478</td>\n      <td>2019-11-22</td>\n      <td>1900-01-01 20:13:06</td>\n      <td>menu</td>\n      <td>delivery</td>\n      <td>mr. delivery</td>\n      <td>activo</td>\n      <td>20.0</td>\n      <td>2</td>\n      <td>40.0</td>\n      <td>...</td>\n      <td>67.0</td>\n      <td>0.0</td>\n      <td>14 - mesa 14</td>\n      <td>45</td>\n      <td>NaN</td>\n      <td>Ninguna</td>\n      <td>False</td>\n      <td>False</td>\n      <td>mr. delivery</td>\n      <td>delivery</td>\n    </tr>\n    <tr>\n      <th>259553</th>\n      <td>422479</td>\n      <td>2019-11-22</td>\n      <td>1900-01-01 20:14:30</td>\n      <td>menu</td>\n      <td>delivery</td>\n      <td>mr. delivery</td>\n      <td>activo</td>\n      <td>20.0</td>\n      <td>2</td>\n      <td>40.0</td>\n      <td>...</td>\n      <td>40.0</td>\n      <td>0.0</td>\n      <td>7 - mesa 7</td>\n      <td>46</td>\n      <td>NaN</td>\n      <td>Ninguna</td>\n      <td>False</td>\n      <td>False</td>\n      <td>mr. delivery</td>\n      <td>delivery</td>\n    </tr>\n    <tr>\n      <th>259556</th>\n      <td>422481</td>\n      <td>2019-11-22</td>\n      <td>1900-01-01 20:22:56</td>\n      <td>menu</td>\n      <td>delivery</td>\n      <td>mr. delivery</td>\n      <td>activo</td>\n      <td>20.0</td>\n      <td>3</td>\n      <td>60.0</td>\n      <td>...</td>\n      <td>60.0</td>\n      <td>0.0</td>\n      <td>7 - mesa 7</td>\n      <td>48</td>\n      <td>NaN</td>\n      <td>Ninguna</td>\n      <td>False</td>\n      <td>False</td>\n      <td>mr. delivery</td>\n      <td>delivery</td>\n    </tr>\n    <tr>\n      <th>259563</th>\n      <td>422487</td>\n      <td>2019-11-22</td>\n      <td>1900-01-01 20:45:59</td>\n      <td>menu</td>\n      <td>delivery</td>\n      <td>mr. delivery</td>\n      <td>activo</td>\n      <td>20.0</td>\n      <td>2</td>\n      <td>40.0</td>\n      <td>...</td>\n      <td>40.0</td>\n      <td>0.0</td>\n      <td>13 - mesa 13</td>\n      <td>54</td>\n      <td>NaN</td>\n      <td>Ninguna</td>\n      <td>False</td>\n      <td>False</td>\n      <td>mr. delivery</td>\n      <td>delivery</td>\n    </tr>\n    <tr>\n      <th>259568</th>\n      <td>422492</td>\n      <td>2019-11-22</td>\n      <td>1900-01-01 21:06:42</td>\n      <td>menu</td>\n      <td>delivery</td>\n      <td>mr. delivery</td>\n      <td>activo</td>\n      <td>20.0</td>\n      <td>2</td>\n      <td>40.0</td>\n      <td>...</td>\n      <td>40.0</td>\n      <td>0.0</td>\n      <td>14 - mesa 14</td>\n      <td>59</td>\n      <td>NaN</td>\n      <td>Ninguna</td>\n      <td>False</td>\n      <td>False</td>\n      <td>mr. delivery</td>\n      <td>delivery</td>\n    </tr>\n    <tr>\n      <th>259569</th>\n      <td>423411</td>\n      <td>2019-11-22</td>\n      <td>1900-01-01 21:14:12</td>\n      <td>menu</td>\n      <td>delivery</td>\n      <td>mr. delivery</td>\n      <td>activo</td>\n      <td>20.0</td>\n      <td>2</td>\n      <td>40.0</td>\n      <td>...</td>\n      <td>40.0</td>\n      <td>0.0</td>\n      <td>0 - para llevar</td>\n      <td>60</td>\n      <td>NaN</td>\n      <td>Ninguna</td>\n      <td>False</td>\n      <td>False</td>\n      <td>mr. delivery</td>\n      <td>delivery</td>\n    </tr>\n    <tr>\n      <th>259579</th>\n      <td>423419</td>\n      <td>2019-11-23</td>\n      <td>1900-01-01 12:51:55</td>\n      <td>menu</td>\n      <td>delivery</td>\n      <td>mr. delivery</td>\n      <td>activo</td>\n      <td>20.0</td>\n      <td>5</td>\n      <td>100.0</td>\n      <td>...</td>\n      <td>167.0</td>\n      <td>0.0</td>\n      <td>11 - mesa 11</td>\n      <td>2</td>\n      <td>NaN</td>\n      <td>Ninguna</td>\n      <td>False</td>\n      <td>False</td>\n      <td>mr. delivery</td>\n      <td>delivery</td>\n    </tr>\n    <tr>\n      <th>259582</th>\n      <td>423420</td>\n      <td>2019-11-23</td>\n      <td>1900-01-01 12:55:50</td>\n      <td>menu</td>\n      <td>delivery</td>\n      <td>mr. delivery</td>\n      <td>activo</td>\n      <td>20.0</td>\n      <td>4</td>\n      <td>80.0</td>\n      <td>...</td>\n      <td>80.0</td>\n      <td>0.0</td>\n      <td>17 - mesa 17</td>\n      <td>3</td>\n      <td>NaN</td>\n      <td>Ninguna</td>\n      <td>False</td>\n      <td>False</td>\n      <td>mr. delivery</td>\n      <td>delivery</td>\n    </tr>\n    <tr>\n      <th>259588</th>\n      <td>423424</td>\n      <td>2019-11-23</td>\n      <td>1900-01-01 13:30:03</td>\n      <td>menu</td>\n      <td>delivery</td>\n      <td>mr. delivery</td>\n      <td>activo</td>\n      <td>20.0</td>\n      <td>2</td>\n      <td>40.0</td>\n      <td>...</td>\n      <td>43.0</td>\n      <td>0.0</td>\n      <td>2 - mesa 2</td>\n      <td>7</td>\n      <td>NaN</td>\n      <td>Ninguna</td>\n      <td>False</td>\n      <td>False</td>\n      <td>mr. delivery</td>\n      <td>delivery</td>\n    </tr>\n    <tr>\n      <th>259592</th>\n      <td>423427</td>\n      <td>2019-11-23</td>\n      <td>1900-01-01 13:36:29</td>\n      <td>menu</td>\n      <td>delivery</td>\n      <td>mr. delivery</td>\n      <td>activo</td>\n      <td>20.0</td>\n      <td>2</td>\n      <td>40.0</td>\n      <td>...</td>\n      <td>40.0</td>\n      <td>0.0</td>\n      <td>1 - mesa 1</td>\n      <td>10</td>\n      <td>NaN</td>\n      <td>Ninguna</td>\n      <td>False</td>\n      <td>False</td>\n      <td>mr. delivery</td>\n      <td>delivery</td>\n    </tr>\n    <tr>\n      <th>259596</th>\n      <td>423430</td>\n      <td>2019-11-23</td>\n      <td>1900-01-01 13:53:33</td>\n      <td>menu</td>\n      <td>delivery</td>\n      <td>mr. delivery</td>\n      <td>activo</td>\n      <td>20.0</td>\n      <td>2</td>\n      <td>40.0</td>\n      <td>...</td>\n      <td>40.0</td>\n      <td>0.0</td>\n      <td>0 - para llevar</td>\n      <td>13</td>\n      <td>NaN</td>\n      <td>Ninguna</td>\n      <td>False</td>\n      <td>False</td>\n      <td>mr. delivery</td>\n      <td>delivery</td>\n    </tr>\n    <tr>\n      <th>259597</th>\n      <td>423431</td>\n      <td>2019-11-23</td>\n      <td>1900-01-01 13:57:43</td>\n      <td>menu</td>\n      <td>delivery</td>\n      <td>mr. delivery</td>\n      <td>activo</td>\n      <td>20.0</td>\n      <td>2</td>\n      <td>40.0</td>\n      <td>...</td>\n      <td>40.0</td>\n      <td>0.0</td>\n      <td>. - sin mesa</td>\n      <td>14</td>\n      <td>NaN</td>\n      <td>Ninguna</td>\n      <td>False</td>\n      <td>False</td>\n      <td>mr. delivery</td>\n      <td>delivery</td>\n    </tr>\n    <tr>\n      <th>259603</th>\n      <td>423433</td>\n      <td>2019-11-23</td>\n      <td>1900-01-01 14:13:46</td>\n      <td>menu</td>\n      <td>delivery</td>\n      <td>mr. delivery</td>\n      <td>activo</td>\n      <td>20.0</td>\n      <td>2</td>\n      <td>40.0</td>\n      <td>...</td>\n      <td>138.0</td>\n      <td>0.0</td>\n      <td>15 - mesa 15</td>\n      <td>16</td>\n      <td>NaN</td>\n      <td>Ninguna</td>\n      <td>False</td>\n      <td>False</td>\n      <td>mr. delivery</td>\n      <td>delivery</td>\n    </tr>\n    <tr>\n      <th>259609</th>\n      <td>423436</td>\n      <td>2019-11-23</td>\n      <td>1900-01-01 14:27:01</td>\n      <td>menu</td>\n      <td>delivery</td>\n      <td>mr. delivery</td>\n      <td>activo</td>\n      <td>20.0</td>\n      <td>6</td>\n      <td>120.0</td>\n      <td>...</td>\n      <td>120.0</td>\n      <td>0.0</td>\n      <td>0 - para llevar</td>\n      <td>19</td>\n      <td>NaN</td>\n      <td>Ninguna</td>\n      <td>False</td>\n      <td>False</td>\n      <td>mr. delivery</td>\n      <td>delivery</td>\n    </tr>\n    <tr>\n      <th>259616</th>\n      <td>423443</td>\n      <td>2019-11-23</td>\n      <td>1900-01-01 15:06:22</td>\n      <td>menu</td>\n      <td>delivery</td>\n      <td>mr. delivery</td>\n      <td>activo</td>\n      <td>20.0</td>\n      <td>2</td>\n      <td>40.0</td>\n      <td>...</td>\n      <td>84.0</td>\n      <td>0.0</td>\n      <td>9 - mesa 9</td>\n      <td>26</td>\n      <td>NaN</td>\n      <td>Ninguna</td>\n      <td>False</td>\n      <td>False</td>\n      <td>mr. delivery</td>\n      <td>delivery</td>\n    </tr>\n    <tr>\n      <th>259624</th>\n      <td>423448</td>\n      <td>2019-11-23</td>\n      <td>1900-01-01 15:36:30</td>\n      <td>menu</td>\n      <td>delivery</td>\n      <td>mr. delivery</td>\n      <td>activo</td>\n      <td>20.0</td>\n      <td>4</td>\n      <td>80.0</td>\n      <td>...</td>\n      <td>161.0</td>\n      <td>0.0</td>\n      <td>11 - mesa 11</td>\n      <td>31</td>\n      <td>NaN</td>\n      <td>Ninguna</td>\n      <td>False</td>\n      <td>False</td>\n      <td>mr. delivery</td>\n      <td>delivery</td>\n    </tr>\n    <tr>\n      <th>259625</th>\n      <td>423449</td>\n      <td>2019-11-23</td>\n      <td>1900-01-01 15:48:42</td>\n      <td>menu</td>\n      <td>delivery</td>\n      <td>mr. delivery</td>\n      <td>activo</td>\n      <td>20.0</td>\n      <td>2</td>\n      <td>40.0</td>\n      <td>...</td>\n      <td>40.0</td>\n      <td>0.0</td>\n      <td>0 - para llevar</td>\n      <td>32</td>\n      <td>NaN</td>\n      <td>Ninguna</td>\n      <td>False</td>\n      <td>False</td>\n      <td>mr. delivery</td>\n      <td>delivery</td>\n    </tr>\n    <tr>\n      <th>259627</th>\n      <td>423451</td>\n      <td>2019-11-23</td>\n      <td>1900-01-01 15:57:21</td>\n      <td>menu</td>\n      <td>delivery</td>\n      <td>mr. delivery</td>\n      <td>activo</td>\n      <td>20.0</td>\n      <td>2</td>\n      <td>40.0</td>\n      <td>...</td>\n      <td>40.0</td>\n      <td>0.0</td>\n      <td>. - sin mesa</td>\n      <td>34</td>\n      <td>NaN</td>\n      <td>Ninguna</td>\n      <td>False</td>\n      <td>False</td>\n      <td>mr. delivery</td>\n      <td>delivery</td>\n    </tr>\n    <tr>\n      <th>259637</th>\n      <td>423458</td>\n      <td>2019-11-23</td>\n      <td>1900-01-01 17:16:50</td>\n      <td>menu</td>\n      <td>delivery</td>\n      <td>mr. delivery</td>\n      <td>activo</td>\n      <td>20.0</td>\n      <td>2</td>\n      <td>40.0</td>\n      <td>...</td>\n      <td>40.0</td>\n      <td>0.0</td>\n      <td>0 - para llevar</td>\n      <td>41</td>\n      <td>NaN</td>\n      <td>Ninguna</td>\n      <td>False</td>\n      <td>False</td>\n      <td>mr. delivery</td>\n      <td>delivery</td>\n    </tr>\n  </tbody>\n</table>\n<p>50 rows × 23 columns</p>\n</div>"
     },
     "execution_count": 131,
     "metadata": {},
     "output_type": "execute_result"
    }
   ],
   "execution_count": 131
  },
  {
   "cell_type": "markdown",
   "id": "71a273d35f143401",
   "metadata": {},
   "source": [
    "Modification of 'classification' and 'product' column values.\n",
    "\n",
    "There are products which seems to have been mistakenly classified as delivery placing a value in price and a value greater than one in quantity, these reflect a product sold and not a delivery but registered only as a delivery."
   ]
  },
  {
   "cell_type": "code",
   "id": "3d5ac3bcfc8f26ff",
   "metadata": {
    "ExecuteTime": {
     "end_time": "2024-07-03T20:44:04.003903200Z",
     "start_time": "2024-07-03T20:44:03.606893600Z"
    }
   },
   "source": [
    "resta_df.loc[(resta_df['order_type']=='delivery')&(resta_df['price']!=1)&(resta_df['quantity']!=1),'classification'] = 'desconocida'\n",
    "\n",
    "resta_df.loc[(resta_df['order_type']=='delivery')&(resta_df['price']!=1)&(resta_df['quantity']!=1),'product'] = 'desconocido'"
   ],
   "outputs": [],
   "execution_count": 132
  },
  {
   "cell_type": "code",
   "id": "ad37d529a7515a30",
   "metadata": {
    "ExecuteTime": {
     "end_time": "2024-07-03T20:44:05.114805700Z",
     "start_time": "2024-07-03T20:44:03.787206700Z"
    }
   },
   "source": [
    "#to take away filters\n",
    "resta_df.loc[(resta_df['order_type']=='delivery')&(resta_df['price']!=1)&(resta_df['quantity']!=1)&(resta_df['location'].str.contains('para llevar')), 'order_type'] = 'para llevar'\n",
    "#'sin mesa' values \n",
    "resta_df.loc[(resta_df['order_type']=='delivery')&(resta_df['price']!=1)&(resta_df['quantity']!=1)&(resta_df['location'].str.contains('sin mesa')), 'order_type'] = 'en sala-sin mesa'\n",
    "# location and those values which correspond to orders to eat at the restaurant\n",
    "resta_df.loc[(resta_df['order_type']=='delivery')&(resta_df['price']!=1)&(resta_df['quantity']!=1)&(resta_df['location'].str.contains('- mesa')), 'order_type'] = 'en sala-con mesa'"
   ],
   "outputs": [],
   "execution_count": 133
  },
  {
   "cell_type": "code",
   "id": "1a159a2b1b67030c",
   "metadata": {
    "ExecuteTime": {
     "end_time": "2024-07-03T20:44:05.114805700Z",
     "start_time": "2024-07-03T20:44:04.982261600Z"
    }
   },
   "source": [
    "#Since this filter refers to products which are mistakenly written, there is no delivery name.\n",
    "\n",
    "resta_df.loc[(resta_df['classification']=='desconocida')&(resta_df['price']!=1)&(resta_df['quantity']!=1), 'delivery_name'] = None"
   ],
   "outputs": [],
   "execution_count": 134
  },
  {
   "cell_type": "code",
   "id": "f606027a243568cb",
   "metadata": {
    "ExecuteTime": {
     "end_time": "2024-07-03T20:44:05.401577500Z",
     "start_time": "2024-07-03T20:44:04.996509500Z"
    }
   },
   "source": [
    "resta_df[(resta_df['classification']=='desconocida')&(resta_df['price']!=1)&(resta_df['quantity']!=1)].head(20)"
   ],
   "outputs": [
    {
     "data": {
      "text/plain": "        order_id system_date                time group_classifier   \n259403    421562  2019-11-21 1900-01-01 15:00:23             menu  \\\n259405    421563  2019-11-21 1900-01-01 15:03:13             menu   \n259406    421564  2019-11-21 1900-01-01 15:11:33             menu   \n259408    421565  2019-11-21 1900-01-01 15:36:39             menu   \n259410    421567  2019-11-21 1900-01-01 16:31:46             menu   \n259413    421569  2019-11-21 1900-01-01 16:41:25             menu   \n259415    421570  2019-11-21 1900-01-01 16:49:12             menu   \n259425    421578  2019-11-21 1900-01-01 17:24:13             menu   \n259433    421584  2019-11-21 1900-01-01 18:01:06             menu   \n259434    421585  2019-11-21 1900-01-01 18:03:02             menu   \n259439    421588  2019-11-21 1900-01-01 18:18:43             menu   \n259442    421590  2019-11-21 1900-01-01 18:22:21             menu   \n259444    421591  2019-11-21 1900-01-01 18:22:51             menu   \n259450    421596  2019-11-21 1900-01-01 18:55:42             menu   \n259473    422420  2019-11-21 1900-01-01 20:07:45             menu   \n259476    422422  2019-11-21 1900-01-01 20:12:56             menu   \n259481    422426  2019-11-21 1900-01-01 20:28:45             menu   \n259500    422440  2019-11-22 1900-01-01 17:54:30             menu   \n259502    422442  2019-11-22 1900-01-01 18:05:13             menu   \n259504    422444  2019-11-22 1900-01-01 18:11:36             menu   \n\n       classification      product prod_state  price  quantity  to_pay_xprod   \n259403    desconocida  desconocido     activo   20.0         4          80.0  \\\n259405    desconocida  desconocido     activo   20.0         2          40.0   \n259406    desconocida  desconocido     activo   20.0         3          60.0   \n259408    desconocida  desconocido     activo   20.0         2          40.0   \n259410    desconocida  desconocido     activo   20.0         2          40.0   \n259413    desconocida  desconocido     activo   20.0         3          60.0   \n259415    desconocida  desconocido     activo   20.0         2          40.0   \n259425    desconocida  desconocido     activo   20.0         3          60.0   \n259433    desconocida  desconocido     activo   20.0         2          40.0   \n259434    desconocida  desconocido     activo   20.0         2          40.0   \n259439    desconocida  desconocido     activo   20.0         2          40.0   \n259442    desconocida  desconocido     activo   20.0         3          60.0   \n259444    desconocida  desconocido     activo   20.0         2          40.0   \n259450    desconocida  desconocido     activo   20.0         2          40.0   \n259473    desconocida  desconocido     activo   20.0         2          40.0   \n259476    desconocida  desconocido     activo   20.0         2          40.0   \n259481    desconocida  desconocido     activo   20.0         3          60.0   \n259500    desconocida  desconocido     activo   20.0         2          40.0   \n259502    desconocida  desconocido     activo   20.0         2          40.0   \n259504    desconocida  desconocido     activo   20.0         2          40.0   \n\n        ...  customer_pay change         location  order_number   \n259403  ...          96.0    0.0       4 - mesa 4            38  \\\n259405  ...          40.0    0.0       4 - mesa 4            39   \n259406  ...          76.0    0.0       2 - mesa 2            40   \n259408  ...          40.0    0.0  0 - para llevar            41   \n259410  ...          43.0    0.0     . - sin mesa            43   \n259413  ...          66.0    0.0       4 - mesa 4            45   \n259415  ...          40.0    0.0     12 - mesa 12            46   \n259425  ...          60.0    0.0       2 - mesa 2            54   \n259433  ...          40.0    0.0     11 - mesa 11            60   \n259434  ...          46.0    0.0     . - sin mesa            61   \n259439  ...          60.0    0.0     13 - mesa 13            64   \n259442  ...          70.0    0.0  0 - para llevar             2   \n259444  ...          40.0    0.0  0 - para llevar             3   \n259450  ...          40.0    0.0     . - sin mesa             8   \n259473  ...          40.0    0.0     . - sin mesa            21   \n259476  ...          43.0    0.0     17 - mesa 17            23   \n259481  ...          63.0    0.0     17 - mesa 17            27   \n259500  ...          40.0    0.0     17 - mesa 17             7   \n259502  ...          40.0    0.0     20 - mesa 20             9   \n259504  ...          40.0    0.0       7 - mesa 7            11   \n\n        modification_date modification_reason  is_cancelled is_courtesy   \n259403                NaN             Ninguna         False       False  \\\n259405                NaN             Ninguna         False       False   \n259406                NaN             Ninguna         False       False   \n259408                NaN             Ninguna         False       False   \n259410                NaN             Ninguna         False       False   \n259413                NaN             Ninguna         False       False   \n259415                NaN             Ninguna         False       False   \n259425                NaN             Ninguna         False       False   \n259433                NaN             Ninguna         False       False   \n259434                NaN             Ninguna         False       False   \n259439                NaN             Ninguna         False       False   \n259442                NaN             Ninguna         False       False   \n259444                NaN             Ninguna         False       False   \n259450                NaN             Ninguna         False       False   \n259473                NaN             Ninguna         False       False   \n259476                NaN             Ninguna         False       False   \n259481                NaN             Ninguna         False       False   \n259500                NaN             Ninguna         False       False   \n259502                NaN             Ninguna         False       False   \n259504                NaN             Ninguna         False       False   \n\n       delivery_name        order_type  \n259403          None  en sala-con mesa  \n259405          None  en sala-con mesa  \n259406          None  en sala-con mesa  \n259408          None       para llevar  \n259410          None  en sala-sin mesa  \n259413          None  en sala-con mesa  \n259415          None  en sala-con mesa  \n259425          None  en sala-con mesa  \n259433          None  en sala-con mesa  \n259434          None  en sala-sin mesa  \n259439          None  en sala-con mesa  \n259442          None       para llevar  \n259444          None       para llevar  \n259450          None  en sala-sin mesa  \n259473          None  en sala-sin mesa  \n259476          None  en sala-con mesa  \n259481          None  en sala-con mesa  \n259500          None  en sala-con mesa  \n259502          None  en sala-con mesa  \n259504          None  en sala-con mesa  \n\n[20 rows x 23 columns]",
      "text/html": "<div>\n<style scoped>\n    .dataframe tbody tr th:only-of-type {\n        vertical-align: middle;\n    }\n\n    .dataframe tbody tr th {\n        vertical-align: top;\n    }\n\n    .dataframe thead th {\n        text-align: right;\n    }\n</style>\n<table border=\"1\" class=\"dataframe\">\n  <thead>\n    <tr style=\"text-align: right;\">\n      <th></th>\n      <th>order_id</th>\n      <th>system_date</th>\n      <th>time</th>\n      <th>group_classifier</th>\n      <th>classification</th>\n      <th>product</th>\n      <th>prod_state</th>\n      <th>price</th>\n      <th>quantity</th>\n      <th>to_pay_xprod</th>\n      <th>...</th>\n      <th>customer_pay</th>\n      <th>change</th>\n      <th>location</th>\n      <th>order_number</th>\n      <th>modification_date</th>\n      <th>modification_reason</th>\n      <th>is_cancelled</th>\n      <th>is_courtesy</th>\n      <th>delivery_name</th>\n      <th>order_type</th>\n    </tr>\n  </thead>\n  <tbody>\n    <tr>\n      <th>259403</th>\n      <td>421562</td>\n      <td>2019-11-21</td>\n      <td>1900-01-01 15:00:23</td>\n      <td>menu</td>\n      <td>desconocida</td>\n      <td>desconocido</td>\n      <td>activo</td>\n      <td>20.0</td>\n      <td>4</td>\n      <td>80.0</td>\n      <td>...</td>\n      <td>96.0</td>\n      <td>0.0</td>\n      <td>4 - mesa 4</td>\n      <td>38</td>\n      <td>NaN</td>\n      <td>Ninguna</td>\n      <td>False</td>\n      <td>False</td>\n      <td>None</td>\n      <td>en sala-con mesa</td>\n    </tr>\n    <tr>\n      <th>259405</th>\n      <td>421563</td>\n      <td>2019-11-21</td>\n      <td>1900-01-01 15:03:13</td>\n      <td>menu</td>\n      <td>desconocida</td>\n      <td>desconocido</td>\n      <td>activo</td>\n      <td>20.0</td>\n      <td>2</td>\n      <td>40.0</td>\n      <td>...</td>\n      <td>40.0</td>\n      <td>0.0</td>\n      <td>4 - mesa 4</td>\n      <td>39</td>\n      <td>NaN</td>\n      <td>Ninguna</td>\n      <td>False</td>\n      <td>False</td>\n      <td>None</td>\n      <td>en sala-con mesa</td>\n    </tr>\n    <tr>\n      <th>259406</th>\n      <td>421564</td>\n      <td>2019-11-21</td>\n      <td>1900-01-01 15:11:33</td>\n      <td>menu</td>\n      <td>desconocida</td>\n      <td>desconocido</td>\n      <td>activo</td>\n      <td>20.0</td>\n      <td>3</td>\n      <td>60.0</td>\n      <td>...</td>\n      <td>76.0</td>\n      <td>0.0</td>\n      <td>2 - mesa 2</td>\n      <td>40</td>\n      <td>NaN</td>\n      <td>Ninguna</td>\n      <td>False</td>\n      <td>False</td>\n      <td>None</td>\n      <td>en sala-con mesa</td>\n    </tr>\n    <tr>\n      <th>259408</th>\n      <td>421565</td>\n      <td>2019-11-21</td>\n      <td>1900-01-01 15:36:39</td>\n      <td>menu</td>\n      <td>desconocida</td>\n      <td>desconocido</td>\n      <td>activo</td>\n      <td>20.0</td>\n      <td>2</td>\n      <td>40.0</td>\n      <td>...</td>\n      <td>40.0</td>\n      <td>0.0</td>\n      <td>0 - para llevar</td>\n      <td>41</td>\n      <td>NaN</td>\n      <td>Ninguna</td>\n      <td>False</td>\n      <td>False</td>\n      <td>None</td>\n      <td>para llevar</td>\n    </tr>\n    <tr>\n      <th>259410</th>\n      <td>421567</td>\n      <td>2019-11-21</td>\n      <td>1900-01-01 16:31:46</td>\n      <td>menu</td>\n      <td>desconocida</td>\n      <td>desconocido</td>\n      <td>activo</td>\n      <td>20.0</td>\n      <td>2</td>\n      <td>40.0</td>\n      <td>...</td>\n      <td>43.0</td>\n      <td>0.0</td>\n      <td>. - sin mesa</td>\n      <td>43</td>\n      <td>NaN</td>\n      <td>Ninguna</td>\n      <td>False</td>\n      <td>False</td>\n      <td>None</td>\n      <td>en sala-sin mesa</td>\n    </tr>\n    <tr>\n      <th>259413</th>\n      <td>421569</td>\n      <td>2019-11-21</td>\n      <td>1900-01-01 16:41:25</td>\n      <td>menu</td>\n      <td>desconocida</td>\n      <td>desconocido</td>\n      <td>activo</td>\n      <td>20.0</td>\n      <td>3</td>\n      <td>60.0</td>\n      <td>...</td>\n      <td>66.0</td>\n      <td>0.0</td>\n      <td>4 - mesa 4</td>\n      <td>45</td>\n      <td>NaN</td>\n      <td>Ninguna</td>\n      <td>False</td>\n      <td>False</td>\n      <td>None</td>\n      <td>en sala-con mesa</td>\n    </tr>\n    <tr>\n      <th>259415</th>\n      <td>421570</td>\n      <td>2019-11-21</td>\n      <td>1900-01-01 16:49:12</td>\n      <td>menu</td>\n      <td>desconocida</td>\n      <td>desconocido</td>\n      <td>activo</td>\n      <td>20.0</td>\n      <td>2</td>\n      <td>40.0</td>\n      <td>...</td>\n      <td>40.0</td>\n      <td>0.0</td>\n      <td>12 - mesa 12</td>\n      <td>46</td>\n      <td>NaN</td>\n      <td>Ninguna</td>\n      <td>False</td>\n      <td>False</td>\n      <td>None</td>\n      <td>en sala-con mesa</td>\n    </tr>\n    <tr>\n      <th>259425</th>\n      <td>421578</td>\n      <td>2019-11-21</td>\n      <td>1900-01-01 17:24:13</td>\n      <td>menu</td>\n      <td>desconocida</td>\n      <td>desconocido</td>\n      <td>activo</td>\n      <td>20.0</td>\n      <td>3</td>\n      <td>60.0</td>\n      <td>...</td>\n      <td>60.0</td>\n      <td>0.0</td>\n      <td>2 - mesa 2</td>\n      <td>54</td>\n      <td>NaN</td>\n      <td>Ninguna</td>\n      <td>False</td>\n      <td>False</td>\n      <td>None</td>\n      <td>en sala-con mesa</td>\n    </tr>\n    <tr>\n      <th>259433</th>\n      <td>421584</td>\n      <td>2019-11-21</td>\n      <td>1900-01-01 18:01:06</td>\n      <td>menu</td>\n      <td>desconocida</td>\n      <td>desconocido</td>\n      <td>activo</td>\n      <td>20.0</td>\n      <td>2</td>\n      <td>40.0</td>\n      <td>...</td>\n      <td>40.0</td>\n      <td>0.0</td>\n      <td>11 - mesa 11</td>\n      <td>60</td>\n      <td>NaN</td>\n      <td>Ninguna</td>\n      <td>False</td>\n      <td>False</td>\n      <td>None</td>\n      <td>en sala-con mesa</td>\n    </tr>\n    <tr>\n      <th>259434</th>\n      <td>421585</td>\n      <td>2019-11-21</td>\n      <td>1900-01-01 18:03:02</td>\n      <td>menu</td>\n      <td>desconocida</td>\n      <td>desconocido</td>\n      <td>activo</td>\n      <td>20.0</td>\n      <td>2</td>\n      <td>40.0</td>\n      <td>...</td>\n      <td>46.0</td>\n      <td>0.0</td>\n      <td>. - sin mesa</td>\n      <td>61</td>\n      <td>NaN</td>\n      <td>Ninguna</td>\n      <td>False</td>\n      <td>False</td>\n      <td>None</td>\n      <td>en sala-sin mesa</td>\n    </tr>\n    <tr>\n      <th>259439</th>\n      <td>421588</td>\n      <td>2019-11-21</td>\n      <td>1900-01-01 18:18:43</td>\n      <td>menu</td>\n      <td>desconocida</td>\n      <td>desconocido</td>\n      <td>activo</td>\n      <td>20.0</td>\n      <td>2</td>\n      <td>40.0</td>\n      <td>...</td>\n      <td>60.0</td>\n      <td>0.0</td>\n      <td>13 - mesa 13</td>\n      <td>64</td>\n      <td>NaN</td>\n      <td>Ninguna</td>\n      <td>False</td>\n      <td>False</td>\n      <td>None</td>\n      <td>en sala-con mesa</td>\n    </tr>\n    <tr>\n      <th>259442</th>\n      <td>421590</td>\n      <td>2019-11-21</td>\n      <td>1900-01-01 18:22:21</td>\n      <td>menu</td>\n      <td>desconocida</td>\n      <td>desconocido</td>\n      <td>activo</td>\n      <td>20.0</td>\n      <td>3</td>\n      <td>60.0</td>\n      <td>...</td>\n      <td>70.0</td>\n      <td>0.0</td>\n      <td>0 - para llevar</td>\n      <td>2</td>\n      <td>NaN</td>\n      <td>Ninguna</td>\n      <td>False</td>\n      <td>False</td>\n      <td>None</td>\n      <td>para llevar</td>\n    </tr>\n    <tr>\n      <th>259444</th>\n      <td>421591</td>\n      <td>2019-11-21</td>\n      <td>1900-01-01 18:22:51</td>\n      <td>menu</td>\n      <td>desconocida</td>\n      <td>desconocido</td>\n      <td>activo</td>\n      <td>20.0</td>\n      <td>2</td>\n      <td>40.0</td>\n      <td>...</td>\n      <td>40.0</td>\n      <td>0.0</td>\n      <td>0 - para llevar</td>\n      <td>3</td>\n      <td>NaN</td>\n      <td>Ninguna</td>\n      <td>False</td>\n      <td>False</td>\n      <td>None</td>\n      <td>para llevar</td>\n    </tr>\n    <tr>\n      <th>259450</th>\n      <td>421596</td>\n      <td>2019-11-21</td>\n      <td>1900-01-01 18:55:42</td>\n      <td>menu</td>\n      <td>desconocida</td>\n      <td>desconocido</td>\n      <td>activo</td>\n      <td>20.0</td>\n      <td>2</td>\n      <td>40.0</td>\n      <td>...</td>\n      <td>40.0</td>\n      <td>0.0</td>\n      <td>. - sin mesa</td>\n      <td>8</td>\n      <td>NaN</td>\n      <td>Ninguna</td>\n      <td>False</td>\n      <td>False</td>\n      <td>None</td>\n      <td>en sala-sin mesa</td>\n    </tr>\n    <tr>\n      <th>259473</th>\n      <td>422420</td>\n      <td>2019-11-21</td>\n      <td>1900-01-01 20:07:45</td>\n      <td>menu</td>\n      <td>desconocida</td>\n      <td>desconocido</td>\n      <td>activo</td>\n      <td>20.0</td>\n      <td>2</td>\n      <td>40.0</td>\n      <td>...</td>\n      <td>40.0</td>\n      <td>0.0</td>\n      <td>. - sin mesa</td>\n      <td>21</td>\n      <td>NaN</td>\n      <td>Ninguna</td>\n      <td>False</td>\n      <td>False</td>\n      <td>None</td>\n      <td>en sala-sin mesa</td>\n    </tr>\n    <tr>\n      <th>259476</th>\n      <td>422422</td>\n      <td>2019-11-21</td>\n      <td>1900-01-01 20:12:56</td>\n      <td>menu</td>\n      <td>desconocida</td>\n      <td>desconocido</td>\n      <td>activo</td>\n      <td>20.0</td>\n      <td>2</td>\n      <td>40.0</td>\n      <td>...</td>\n      <td>43.0</td>\n      <td>0.0</td>\n      <td>17 - mesa 17</td>\n      <td>23</td>\n      <td>NaN</td>\n      <td>Ninguna</td>\n      <td>False</td>\n      <td>False</td>\n      <td>None</td>\n      <td>en sala-con mesa</td>\n    </tr>\n    <tr>\n      <th>259481</th>\n      <td>422426</td>\n      <td>2019-11-21</td>\n      <td>1900-01-01 20:28:45</td>\n      <td>menu</td>\n      <td>desconocida</td>\n      <td>desconocido</td>\n      <td>activo</td>\n      <td>20.0</td>\n      <td>3</td>\n      <td>60.0</td>\n      <td>...</td>\n      <td>63.0</td>\n      <td>0.0</td>\n      <td>17 - mesa 17</td>\n      <td>27</td>\n      <td>NaN</td>\n      <td>Ninguna</td>\n      <td>False</td>\n      <td>False</td>\n      <td>None</td>\n      <td>en sala-con mesa</td>\n    </tr>\n    <tr>\n      <th>259500</th>\n      <td>422440</td>\n      <td>2019-11-22</td>\n      <td>1900-01-01 17:54:30</td>\n      <td>menu</td>\n      <td>desconocida</td>\n      <td>desconocido</td>\n      <td>activo</td>\n      <td>20.0</td>\n      <td>2</td>\n      <td>40.0</td>\n      <td>...</td>\n      <td>40.0</td>\n      <td>0.0</td>\n      <td>17 - mesa 17</td>\n      <td>7</td>\n      <td>NaN</td>\n      <td>Ninguna</td>\n      <td>False</td>\n      <td>False</td>\n      <td>None</td>\n      <td>en sala-con mesa</td>\n    </tr>\n    <tr>\n      <th>259502</th>\n      <td>422442</td>\n      <td>2019-11-22</td>\n      <td>1900-01-01 18:05:13</td>\n      <td>menu</td>\n      <td>desconocida</td>\n      <td>desconocido</td>\n      <td>activo</td>\n      <td>20.0</td>\n      <td>2</td>\n      <td>40.0</td>\n      <td>...</td>\n      <td>40.0</td>\n      <td>0.0</td>\n      <td>20 - mesa 20</td>\n      <td>9</td>\n      <td>NaN</td>\n      <td>Ninguna</td>\n      <td>False</td>\n      <td>False</td>\n      <td>None</td>\n      <td>en sala-con mesa</td>\n    </tr>\n    <tr>\n      <th>259504</th>\n      <td>422444</td>\n      <td>2019-11-22</td>\n      <td>1900-01-01 18:11:36</td>\n      <td>menu</td>\n      <td>desconocida</td>\n      <td>desconocido</td>\n      <td>activo</td>\n      <td>20.0</td>\n      <td>2</td>\n      <td>40.0</td>\n      <td>...</td>\n      <td>40.0</td>\n      <td>0.0</td>\n      <td>7 - mesa 7</td>\n      <td>11</td>\n      <td>NaN</td>\n      <td>Ninguna</td>\n      <td>False</td>\n      <td>False</td>\n      <td>None</td>\n      <td>en sala-con mesa</td>\n    </tr>\n  </tbody>\n</table>\n<p>20 rows × 23 columns</p>\n</div>"
     },
     "execution_count": 135,
     "metadata": {},
     "output_type": "execute_result"
    }
   ],
   "execution_count": 135
  },
  {
   "cell_type": "markdown",
   "id": "522353f79603a2f6",
   "metadata": {},
   "source": [
    "Analysis of category SIN USO of classification column\n",
    "\n",
    "---place the same name of product in classifcation instead of SIN USO. later on it is neccessary to organize this."
   ]
  },
  {
   "cell_type": "code",
   "id": "76f1ee7a9c70b4de",
   "metadata": {
    "ExecuteTime": {
     "end_time": "2024-07-03T20:44:06.055386300Z",
     "start_time": "2024-07-03T20:44:05.392027500Z"
    }
   },
   "source": [
    "resta_df['product'][(resta_df['classification'].str.contains('sin')) & (resta_df['order_type']!='delivery')].value_counts()"
   ],
   "outputs": [
    {
     "data": {
      "text/plain": "product\npollo a la canasta    249\nfinger                232\nh4mburgu cl4sic        54\npromo trio 21 sep      43\ncombo paceñisimo       18\ncombo papa             17\nreto wings              3\ncombo patriota          1\nName: count, dtype: int64"
     },
     "execution_count": 136,
     "metadata": {},
     "output_type": "execute_result"
    }
   ],
   "execution_count": 136
  },
  {
   "cell_type": "code",
   "id": "3c437d8913f034c7",
   "metadata": {
    "ExecuteTime": {
     "end_time": "2024-07-03T20:44:06.522836900Z",
     "start_time": "2024-07-03T20:44:06.132429600Z"
    }
   },
   "source": [
    "# place the same name of product in classifcation instead of SIN USO. \n",
    "resta_df.loc[resta_df['classification'].str.contains('sin'),'classification'] = resta_df['product'][resta_df['classification'].str.contains('sin')]"
   ],
   "outputs": [],
   "execution_count": 137
  },
  {
   "cell_type": "markdown",
   "id": "c76f1fe16ee493df",
   "metadata": {},
   "source": [
    "Modifications in 'product' column "
   ]
  },
  {
   "cell_type": "code",
   "id": "4b313a2f5bc0ca92",
   "metadata": {
    "ExecuteTime": {
     "end_time": "2024-07-03T20:44:06.691234200Z",
     "start_time": "2024-07-03T20:44:06.561865900Z"
    }
   },
   "source": [
    "resta_df[resta_df['order_type']=='delivery'].sample(20)"
   ],
   "outputs": [
    {
     "data": {
      "text/plain": "        order_id system_date                time group_classifier   \n442998    553081  2022-03-18 1900-01-01 19:50:01             menu  \\\n294474    462826  2020-05-24 1900-01-01 17:14:04             menu   \n456093    559466  2022-05-10 1900-01-01 12:46:42             menu   \n455972    559408  2022-05-09 1900-01-01 19:36:17             menu   \n472840    568633  2022-07-17 1900-01-01 20:42:57             menu   \n407581    533798  2021-10-22 1900-01-01 19:48:03             menu   \n493882    579151  2022-10-21 1900-01-01 16:39:00             menu   \n406373    533223  2021-10-17 1900-01-01 17:31:55             menu   \n427880    544669  2022-01-14 1900-01-01 20:31:15             menu   \n421813    541675  2021-12-17 1900-01-01 20:09:38             menu   \n424342    542932  2021-12-29 1900-01-01 20:46:57             menu   \n383549    518359  2021-07-20 1900-01-01 13:16:43             menu   \n422319    541909  2021-12-19 1900-01-01 19:15:55             menu   \n260046    423684  2019-11-26 1900-01-01 18:38:31             menu   \n339585    490970  2021-01-11 1900-01-01 16:32:45             menu   \n445388    554276  2022-03-29 1900-01-01 16:05:07             menu   \n317630    478425  2020-10-14 1900-01-01 13:33:29             menu   \n495627    580039  2022-10-29 1900-01-01 19:59:55             menu   \n469862    567140  2022-07-05 1900-01-01 19:44:34             menu   \n317809    478517  2020-10-14 1900-01-01 21:47:13             menu   \n\n       classification       product prod_state  price  quantity  to_pay_xprod   \n442998       delivery    pedidos ya     activo    1.0         5           5.0  \\\n294474       delivery  mr. delivery     activo    1.0         8           8.0   \n456093       delivery    pedidos ya     activo    1.0         2           2.0   \n455972       delivery    pedidos ya     activo    1.0        10          10.0   \n472840       delivery    pedidos ya     activo    1.0        15          15.0   \n407581       delivery         yaigo     activo    1.0        11          11.0   \n493882       delivery    pedidos ya     activo    1.0        10          10.0   \n406373       delivery    pedidos ya     activo    1.0        14          14.0   \n427880       delivery    pedidos ya     activo    1.0        22          22.0   \n421813       delivery          link     activo    1.0         4           4.0   \n424342       delivery    pedidos ya     activo    1.0        10          10.0   \n383549       delivery         yaigo     activo    1.0         4           4.0   \n422319       delivery    pedidos ya     activo    1.0        14          14.0   \n260046       delivery  mr. delivery     activo   24.0         1          24.0   \n339585       delivery         yaigo     activo    1.0         3           3.0   \n445388       delivery    pedidos ya     activo    1.0        22          22.0   \n317630       delivery         yaigo     activo    1.0         5           5.0   \n495627       delivery    pedidos ya     activo    1.0        14          14.0   \n469862       delivery    pedidos ya     activo    1.0        10          10.0   \n317809       delivery    pedidos ya     activo    1.0         5           5.0   \n\n        ...  customer_pay change         location  order_number   \n442998  ...          28.0    0.0  0 - para llevar            45  \\\n294474  ...          52.0    0.0  0 - para llevar            47   \n456093  ...          19.0    0.0  0 - para llevar            15   \n455972  ...          57.0    0.0  0 - para llevar            38   \n472840  ...          68.0    0.0  0 - para llevar           111   \n407581  ...          99.0    0.0  0 - para llevar           103   \n493882  ...          48.0    0.0  0 - para llevar             1   \n406373  ...          83.0    0.0  0 - para llevar            72   \n427880  ...         132.0    0.0  0 - para llevar           127   \n421813  ...          49.0    0.0  0 - para llevar           114   \n424342  ...          56.0    0.0  0 - para llevar           103   \n383549  ...          36.0    0.0  0 - para llevar            18   \n422319  ...          78.0    0.0  0 - para llevar            86   \n260046  ...          40.0    0.0       7 - mesa 7            13   \n339585  ...          28.0    0.0  0 - para llevar            57   \n445388  ...         136.0    0.0  0 - para llevar            56   \n317630  ...          35.0    0.0  0 - para llevar            37   \n495627  ...          74.0    0.0  0 - para llevar            90   \n469862  ...          62.0    0.0  0 - para llevar            44   \n317809  ...          28.0    0.0  0 - para llevar           129   \n\n        modification_date modification_reason  is_cancelled is_courtesy   \n442998                NaN             Ninguna         False       False  \\\n294474                NaN             Ninguna         False       False   \n456093                NaN             Ninguna         False       False   \n455972                NaN             Ninguna         False       False   \n472840                NaN             Ninguna         False       False   \n407581                NaN             Ninguna         False       False   \n493882                NaN             Ninguna         False       False   \n406373                NaN             Ninguna         False       False   \n427880                NaN             Ninguna         False       False   \n421813                NaN             Ninguna         False       False   \n424342                NaN             Ninguna         False       False   \n383549                NaN             Ninguna         False       False   \n422319                NaN             Ninguna         False       False   \n260046                NaN             Ninguna         False       False   \n339585                NaN             Ninguna         False       False   \n445388                NaN             Ninguna         False       False   \n317630                NaN             Ninguna         False       False   \n495627                NaN             Ninguna         False       False   \n469862                NaN             Ninguna         False       False   \n317809                NaN             Ninguna         False       False   \n\n       delivery_name order_type  \n442998    pedidos ya   delivery  \n294474  mr. delivery   delivery  \n456093    pedidos ya   delivery  \n455972    pedidos ya   delivery  \n472840    pedidos ya   delivery  \n407581         yaigo   delivery  \n493882    pedidos ya   delivery  \n406373    pedidos ya   delivery  \n427880    pedidos ya   delivery  \n421813          link   delivery  \n424342    pedidos ya   delivery  \n383549         yaigo   delivery  \n422319    pedidos ya   delivery  \n260046  mr. delivery   delivery  \n339585         yaigo   delivery  \n445388    pedidos ya   delivery  \n317630         yaigo   delivery  \n495627    pedidos ya   delivery  \n469862    pedidos ya   delivery  \n317809    pedidos ya   delivery  \n\n[20 rows x 23 columns]",
      "text/html": "<div>\n<style scoped>\n    .dataframe tbody tr th:only-of-type {\n        vertical-align: middle;\n    }\n\n    .dataframe tbody tr th {\n        vertical-align: top;\n    }\n\n    .dataframe thead th {\n        text-align: right;\n    }\n</style>\n<table border=\"1\" class=\"dataframe\">\n  <thead>\n    <tr style=\"text-align: right;\">\n      <th></th>\n      <th>order_id</th>\n      <th>system_date</th>\n      <th>time</th>\n      <th>group_classifier</th>\n      <th>classification</th>\n      <th>product</th>\n      <th>prod_state</th>\n      <th>price</th>\n      <th>quantity</th>\n      <th>to_pay_xprod</th>\n      <th>...</th>\n      <th>customer_pay</th>\n      <th>change</th>\n      <th>location</th>\n      <th>order_number</th>\n      <th>modification_date</th>\n      <th>modification_reason</th>\n      <th>is_cancelled</th>\n      <th>is_courtesy</th>\n      <th>delivery_name</th>\n      <th>order_type</th>\n    </tr>\n  </thead>\n  <tbody>\n    <tr>\n      <th>442998</th>\n      <td>553081</td>\n      <td>2022-03-18</td>\n      <td>1900-01-01 19:50:01</td>\n      <td>menu</td>\n      <td>delivery</td>\n      <td>pedidos ya</td>\n      <td>activo</td>\n      <td>1.0</td>\n      <td>5</td>\n      <td>5.0</td>\n      <td>...</td>\n      <td>28.0</td>\n      <td>0.0</td>\n      <td>0 - para llevar</td>\n      <td>45</td>\n      <td>NaN</td>\n      <td>Ninguna</td>\n      <td>False</td>\n      <td>False</td>\n      <td>pedidos ya</td>\n      <td>delivery</td>\n    </tr>\n    <tr>\n      <th>294474</th>\n      <td>462826</td>\n      <td>2020-05-24</td>\n      <td>1900-01-01 17:14:04</td>\n      <td>menu</td>\n      <td>delivery</td>\n      <td>mr. delivery</td>\n      <td>activo</td>\n      <td>1.0</td>\n      <td>8</td>\n      <td>8.0</td>\n      <td>...</td>\n      <td>52.0</td>\n      <td>0.0</td>\n      <td>0 - para llevar</td>\n      <td>47</td>\n      <td>NaN</td>\n      <td>Ninguna</td>\n      <td>False</td>\n      <td>False</td>\n      <td>mr. delivery</td>\n      <td>delivery</td>\n    </tr>\n    <tr>\n      <th>456093</th>\n      <td>559466</td>\n      <td>2022-05-10</td>\n      <td>1900-01-01 12:46:42</td>\n      <td>menu</td>\n      <td>delivery</td>\n      <td>pedidos ya</td>\n      <td>activo</td>\n      <td>1.0</td>\n      <td>2</td>\n      <td>2.0</td>\n      <td>...</td>\n      <td>19.0</td>\n      <td>0.0</td>\n      <td>0 - para llevar</td>\n      <td>15</td>\n      <td>NaN</td>\n      <td>Ninguna</td>\n      <td>False</td>\n      <td>False</td>\n      <td>pedidos ya</td>\n      <td>delivery</td>\n    </tr>\n    <tr>\n      <th>455972</th>\n      <td>559408</td>\n      <td>2022-05-09</td>\n      <td>1900-01-01 19:36:17</td>\n      <td>menu</td>\n      <td>delivery</td>\n      <td>pedidos ya</td>\n      <td>activo</td>\n      <td>1.0</td>\n      <td>10</td>\n      <td>10.0</td>\n      <td>...</td>\n      <td>57.0</td>\n      <td>0.0</td>\n      <td>0 - para llevar</td>\n      <td>38</td>\n      <td>NaN</td>\n      <td>Ninguna</td>\n      <td>False</td>\n      <td>False</td>\n      <td>pedidos ya</td>\n      <td>delivery</td>\n    </tr>\n    <tr>\n      <th>472840</th>\n      <td>568633</td>\n      <td>2022-07-17</td>\n      <td>1900-01-01 20:42:57</td>\n      <td>menu</td>\n      <td>delivery</td>\n      <td>pedidos ya</td>\n      <td>activo</td>\n      <td>1.0</td>\n      <td>15</td>\n      <td>15.0</td>\n      <td>...</td>\n      <td>68.0</td>\n      <td>0.0</td>\n      <td>0 - para llevar</td>\n      <td>111</td>\n      <td>NaN</td>\n      <td>Ninguna</td>\n      <td>False</td>\n      <td>False</td>\n      <td>pedidos ya</td>\n      <td>delivery</td>\n    </tr>\n    <tr>\n      <th>407581</th>\n      <td>533798</td>\n      <td>2021-10-22</td>\n      <td>1900-01-01 19:48:03</td>\n      <td>menu</td>\n      <td>delivery</td>\n      <td>yaigo</td>\n      <td>activo</td>\n      <td>1.0</td>\n      <td>11</td>\n      <td>11.0</td>\n      <td>...</td>\n      <td>99.0</td>\n      <td>0.0</td>\n      <td>0 - para llevar</td>\n      <td>103</td>\n      <td>NaN</td>\n      <td>Ninguna</td>\n      <td>False</td>\n      <td>False</td>\n      <td>yaigo</td>\n      <td>delivery</td>\n    </tr>\n    <tr>\n      <th>493882</th>\n      <td>579151</td>\n      <td>2022-10-21</td>\n      <td>1900-01-01 16:39:00</td>\n      <td>menu</td>\n      <td>delivery</td>\n      <td>pedidos ya</td>\n      <td>activo</td>\n      <td>1.0</td>\n      <td>10</td>\n      <td>10.0</td>\n      <td>...</td>\n      <td>48.0</td>\n      <td>0.0</td>\n      <td>0 - para llevar</td>\n      <td>1</td>\n      <td>NaN</td>\n      <td>Ninguna</td>\n      <td>False</td>\n      <td>False</td>\n      <td>pedidos ya</td>\n      <td>delivery</td>\n    </tr>\n    <tr>\n      <th>406373</th>\n      <td>533223</td>\n      <td>2021-10-17</td>\n      <td>1900-01-01 17:31:55</td>\n      <td>menu</td>\n      <td>delivery</td>\n      <td>pedidos ya</td>\n      <td>activo</td>\n      <td>1.0</td>\n      <td>14</td>\n      <td>14.0</td>\n      <td>...</td>\n      <td>83.0</td>\n      <td>0.0</td>\n      <td>0 - para llevar</td>\n      <td>72</td>\n      <td>NaN</td>\n      <td>Ninguna</td>\n      <td>False</td>\n      <td>False</td>\n      <td>pedidos ya</td>\n      <td>delivery</td>\n    </tr>\n    <tr>\n      <th>427880</th>\n      <td>544669</td>\n      <td>2022-01-14</td>\n      <td>1900-01-01 20:31:15</td>\n      <td>menu</td>\n      <td>delivery</td>\n      <td>pedidos ya</td>\n      <td>activo</td>\n      <td>1.0</td>\n      <td>22</td>\n      <td>22.0</td>\n      <td>...</td>\n      <td>132.0</td>\n      <td>0.0</td>\n      <td>0 - para llevar</td>\n      <td>127</td>\n      <td>NaN</td>\n      <td>Ninguna</td>\n      <td>False</td>\n      <td>False</td>\n      <td>pedidos ya</td>\n      <td>delivery</td>\n    </tr>\n    <tr>\n      <th>421813</th>\n      <td>541675</td>\n      <td>2021-12-17</td>\n      <td>1900-01-01 20:09:38</td>\n      <td>menu</td>\n      <td>delivery</td>\n      <td>link</td>\n      <td>activo</td>\n      <td>1.0</td>\n      <td>4</td>\n      <td>4.0</td>\n      <td>...</td>\n      <td>49.0</td>\n      <td>0.0</td>\n      <td>0 - para llevar</td>\n      <td>114</td>\n      <td>NaN</td>\n      <td>Ninguna</td>\n      <td>False</td>\n      <td>False</td>\n      <td>link</td>\n      <td>delivery</td>\n    </tr>\n    <tr>\n      <th>424342</th>\n      <td>542932</td>\n      <td>2021-12-29</td>\n      <td>1900-01-01 20:46:57</td>\n      <td>menu</td>\n      <td>delivery</td>\n      <td>pedidos ya</td>\n      <td>activo</td>\n      <td>1.0</td>\n      <td>10</td>\n      <td>10.0</td>\n      <td>...</td>\n      <td>56.0</td>\n      <td>0.0</td>\n      <td>0 - para llevar</td>\n      <td>103</td>\n      <td>NaN</td>\n      <td>Ninguna</td>\n      <td>False</td>\n      <td>False</td>\n      <td>pedidos ya</td>\n      <td>delivery</td>\n    </tr>\n    <tr>\n      <th>383549</th>\n      <td>518359</td>\n      <td>2021-07-20</td>\n      <td>1900-01-01 13:16:43</td>\n      <td>menu</td>\n      <td>delivery</td>\n      <td>yaigo</td>\n      <td>activo</td>\n      <td>1.0</td>\n      <td>4</td>\n      <td>4.0</td>\n      <td>...</td>\n      <td>36.0</td>\n      <td>0.0</td>\n      <td>0 - para llevar</td>\n      <td>18</td>\n      <td>NaN</td>\n      <td>Ninguna</td>\n      <td>False</td>\n      <td>False</td>\n      <td>yaigo</td>\n      <td>delivery</td>\n    </tr>\n    <tr>\n      <th>422319</th>\n      <td>541909</td>\n      <td>2021-12-19</td>\n      <td>1900-01-01 19:15:55</td>\n      <td>menu</td>\n      <td>delivery</td>\n      <td>pedidos ya</td>\n      <td>activo</td>\n      <td>1.0</td>\n      <td>14</td>\n      <td>14.0</td>\n      <td>...</td>\n      <td>78.0</td>\n      <td>0.0</td>\n      <td>0 - para llevar</td>\n      <td>86</td>\n      <td>NaN</td>\n      <td>Ninguna</td>\n      <td>False</td>\n      <td>False</td>\n      <td>pedidos ya</td>\n      <td>delivery</td>\n    </tr>\n    <tr>\n      <th>260046</th>\n      <td>423684</td>\n      <td>2019-11-26</td>\n      <td>1900-01-01 18:38:31</td>\n      <td>menu</td>\n      <td>delivery</td>\n      <td>mr. delivery</td>\n      <td>activo</td>\n      <td>24.0</td>\n      <td>1</td>\n      <td>24.0</td>\n      <td>...</td>\n      <td>40.0</td>\n      <td>0.0</td>\n      <td>7 - mesa 7</td>\n      <td>13</td>\n      <td>NaN</td>\n      <td>Ninguna</td>\n      <td>False</td>\n      <td>False</td>\n      <td>mr. delivery</td>\n      <td>delivery</td>\n    </tr>\n    <tr>\n      <th>339585</th>\n      <td>490970</td>\n      <td>2021-01-11</td>\n      <td>1900-01-01 16:32:45</td>\n      <td>menu</td>\n      <td>delivery</td>\n      <td>yaigo</td>\n      <td>activo</td>\n      <td>1.0</td>\n      <td>3</td>\n      <td>3.0</td>\n      <td>...</td>\n      <td>28.0</td>\n      <td>0.0</td>\n      <td>0 - para llevar</td>\n      <td>57</td>\n      <td>NaN</td>\n      <td>Ninguna</td>\n      <td>False</td>\n      <td>False</td>\n      <td>yaigo</td>\n      <td>delivery</td>\n    </tr>\n    <tr>\n      <th>445388</th>\n      <td>554276</td>\n      <td>2022-03-29</td>\n      <td>1900-01-01 16:05:07</td>\n      <td>menu</td>\n      <td>delivery</td>\n      <td>pedidos ya</td>\n      <td>activo</td>\n      <td>1.0</td>\n      <td>22</td>\n      <td>22.0</td>\n      <td>...</td>\n      <td>136.0</td>\n      <td>0.0</td>\n      <td>0 - para llevar</td>\n      <td>56</td>\n      <td>NaN</td>\n      <td>Ninguna</td>\n      <td>False</td>\n      <td>False</td>\n      <td>pedidos ya</td>\n      <td>delivery</td>\n    </tr>\n    <tr>\n      <th>317630</th>\n      <td>478425</td>\n      <td>2020-10-14</td>\n      <td>1900-01-01 13:33:29</td>\n      <td>menu</td>\n      <td>delivery</td>\n      <td>yaigo</td>\n      <td>activo</td>\n      <td>1.0</td>\n      <td>5</td>\n      <td>5.0</td>\n      <td>...</td>\n      <td>35.0</td>\n      <td>0.0</td>\n      <td>0 - para llevar</td>\n      <td>37</td>\n      <td>NaN</td>\n      <td>Ninguna</td>\n      <td>False</td>\n      <td>False</td>\n      <td>yaigo</td>\n      <td>delivery</td>\n    </tr>\n    <tr>\n      <th>495627</th>\n      <td>580039</td>\n      <td>2022-10-29</td>\n      <td>1900-01-01 19:59:55</td>\n      <td>menu</td>\n      <td>delivery</td>\n      <td>pedidos ya</td>\n      <td>activo</td>\n      <td>1.0</td>\n      <td>14</td>\n      <td>14.0</td>\n      <td>...</td>\n      <td>74.0</td>\n      <td>0.0</td>\n      <td>0 - para llevar</td>\n      <td>90</td>\n      <td>NaN</td>\n      <td>Ninguna</td>\n      <td>False</td>\n      <td>False</td>\n      <td>pedidos ya</td>\n      <td>delivery</td>\n    </tr>\n    <tr>\n      <th>469862</th>\n      <td>567140</td>\n      <td>2022-07-05</td>\n      <td>1900-01-01 19:44:34</td>\n      <td>menu</td>\n      <td>delivery</td>\n      <td>pedidos ya</td>\n      <td>activo</td>\n      <td>1.0</td>\n      <td>10</td>\n      <td>10.0</td>\n      <td>...</td>\n      <td>62.0</td>\n      <td>0.0</td>\n      <td>0 - para llevar</td>\n      <td>44</td>\n      <td>NaN</td>\n      <td>Ninguna</td>\n      <td>False</td>\n      <td>False</td>\n      <td>pedidos ya</td>\n      <td>delivery</td>\n    </tr>\n    <tr>\n      <th>317809</th>\n      <td>478517</td>\n      <td>2020-10-14</td>\n      <td>1900-01-01 21:47:13</td>\n      <td>menu</td>\n      <td>delivery</td>\n      <td>pedidos ya</td>\n      <td>activo</td>\n      <td>1.0</td>\n      <td>5</td>\n      <td>5.0</td>\n      <td>...</td>\n      <td>28.0</td>\n      <td>0.0</td>\n      <td>0 - para llevar</td>\n      <td>129</td>\n      <td>NaN</td>\n      <td>Ninguna</td>\n      <td>False</td>\n      <td>False</td>\n      <td>pedidos ya</td>\n      <td>delivery</td>\n    </tr>\n  </tbody>\n</table>\n<p>20 rows × 23 columns</p>\n</div>"
     },
     "execution_count": 138,
     "metadata": {},
     "output_type": "execute_result"
    }
   ],
   "execution_count": 138
  },
  {
   "cell_type": "markdown",
   "id": "81c1091f0c7ab93",
   "metadata": {},
   "source": [
    "delivery name is not properly placed in product, this will be replaced by delivery."
   ]
  },
  {
   "cell_type": "code",
   "id": "a9f66c799549ba3e",
   "metadata": {
    "ExecuteTime": {
     "end_time": "2024-07-03T20:44:06.922116600Z",
     "start_time": "2024-07-03T20:44:06.605414600Z"
    }
   },
   "source": [
    "#products which were deliveries have to be changed by 'delivery' since a delivery is not a product sold.\n",
    "\n",
    "resta_df.loc[(resta_df['order_type']=='delivery')&(resta_df['product'].isin(deliveries)),'product'] = 'delivery'"
   ],
   "outputs": [],
   "execution_count": 139
  },
  {
   "cell_type": "markdown",
   "id": "9bc5becfbf5eedf9",
   "metadata": {},
   "source": [
    "#### anomalies in group classifier column (aceite-envases)\n",
    "\n",
    "There was seen that there are values which dont correspond to products but to inventory. These have to be treated.\n",
    "\n",
    "For the purpose of this project products corresponding to inventary wont we taken into consideration. So those will be deleted. It is important to highlight that there were 440 rows of 'envases', and 37 of 'aceite', with payment done of 2950 for aceite, 15283.5 for envases."
   ]
  },
  {
   "cell_type": "code",
   "id": "a564d132636d75af",
   "metadata": {
    "ExecuteTime": {
     "end_time": "2024-07-03T20:44:07.019204300Z",
     "start_time": "2024-07-03T20:44:06.782099Z"
    }
   },
   "source": [
    "resta_df[resta_df['price']==1].groupby(['classification','order_type','product'])['to_pay_xprod'].sum()"
   ],
   "outputs": [
    {
     "data": {
      "text/plain": "classification  order_type        product           \ndelivery        delivery          delivery              206926.0\nfinger          en sala-con mesa  finger                    85.0\n                en sala-sin mesa  finger                   202.0\n                para llevar       finger                   233.0\nproduct         en sala-con mesa  envases                   64.0\n                                  pollo a la canasta         1.0\n                en sala-sin mesa  aceite                   666.0\n                                  envases                  247.0\n                                  pollo a la canasta        83.0\n                para llevar       aceite                  2252.0\n                                  envases                 2101.0\n                                  pollo a la canasta        33.0\nName: to_pay_xprod, dtype: float64"
     },
     "execution_count": 140,
     "metadata": {},
     "output_type": "execute_result"
    }
   ],
   "execution_count": 140
  },
  {
   "cell_type": "code",
   "id": "f690cebb89ded798",
   "metadata": {
    "ExecuteTime": {
     "end_time": "2024-07-03T20:44:07.453851900Z",
     "start_time": "2024-07-03T20:44:06.883929700Z"
    }
   },
   "source": [
    "resta_df[resta_df['group_classifier']=='otros'].groupby(['product','price'])['to_pay_xprod'].sum()"
   ],
   "outputs": [
    {
     "data": {
      "text/plain": "product             price\naceite              1.0       2918.0\ncoffe bbq           4.0        128.0\nenvases             1.0       2412.0\n                    2.0        310.0\npapas adicionales   8.0      11368.0\n                    10.0     23410.0\n                    12.0      3888.0\nsalsa albahaca      3.0       4299.0\n                    4.0       7112.0\nsalsa barbacoa      3.0       6735.0\n                    4.0       4908.0\nsalsa jack          3.0        984.0\n                    4.0       1368.0\nsalsa miel mostaza  3.0       7239.0\n                    4.0       5120.0\nsalsa picante       3.0      19218.0\n                    4.0      10560.0\nsalsa picosa        4.0       2676.0\nsalsa queso         3.0       1767.0\n                    4.0       3172.0\nsalsa teriyaki      3.0        714.0\n                    4.0       1276.0\nsalsa toxica        4.0       2180.0\nName: to_pay_xprod, dtype: float64"
     },
     "execution_count": 141,
     "metadata": {},
     "output_type": "execute_result"
    }
   ],
   "execution_count": 141
  },
  {
   "cell_type": "code",
   "id": "9168911fd49d1167",
   "metadata": {
    "ExecuteTime": {
     "end_time": "2024-07-03T20:44:07.482446Z",
     "start_time": "2024-07-03T20:44:07.033767500Z"
    }
   },
   "source": [
    "resta_df['classification'][(resta_df['group_classifier']=='otros') & (resta_df['product'].isin(['aceite','envases']))].value_counts()"
   ],
   "outputs": [
    {
     "data": {
      "text/plain": "classification\nproduct    477\nName: count, dtype: int64"
     },
     "execution_count": 142,
     "metadata": {},
     "output_type": "execute_result"
    }
   ],
   "execution_count": 142
  },
  {
   "cell_type": "code",
   "id": "55a1766ccb033709",
   "metadata": {
    "ExecuteTime": {
     "end_time": "2024-07-03T20:44:07.484068400Z",
     "start_time": "2024-07-03T20:44:07.159063100Z"
    }
   },
   "source": [
    "resta_df[(resta_df['group_classifier']=='otros') & (resta_df['product'].isin(['aceite','envases']))].groupby('classification')['tot_order_payment'].sum()"
   ],
   "outputs": [
    {
     "data": {
      "text/plain": "classification\nproduct    18233.5\nName: tot_order_payment, dtype: float64"
     },
     "execution_count": 143,
     "metadata": {},
     "output_type": "execute_result"
    }
   ],
   "execution_count": 143
  },
  {
   "cell_type": "code",
   "id": "22310426f74a2ab1",
   "metadata": {
    "ExecuteTime": {
     "end_time": "2024-07-03T20:44:07.572719300Z",
     "start_time": "2024-07-03T20:44:07.308396900Z"
    }
   },
   "source": [
    "resta_df.loc[resta_df['product'].isin(['aceite','envases']),:].sample(5)"
   ],
   "outputs": [
    {
     "data": {
      "text/plain": "        order_id system_date                time group_classifier   \n499516    581938  2022-11-16 1900-01-01 15:31:16            otros  \\\n343005    493590  2021-01-25 1900-01-01 15:03:46            otros   \n486579    575438  2022-09-17 1900-01-01 14:03:27            otros   \n502379    583318  2022-12-01 1900-01-01 14:30:09            otros   \n469089    566770  2022-07-02 1900-01-01 17:37:47            otros   \n\n       classification  product prod_state  price  quantity  to_pay_xprod  ...   \n499516        product   aceite     activo    1.0       112         112.0  ...  \\\n343005        product  envases     activo    1.0        13          13.0  ...   \n486579        product  envases     activo    2.0         1           2.0  ...   \n502379        product   aceite     activo    1.0       110         110.0  ...   \n469089        product  envases     activo    1.0         8           8.0  ...   \n\n        customer_pay change         location  order_number  modification_date   \n499516         112.0    0.0  0 - para llevar            24                NaN  \\\n343005          13.0    0.0  0 - para llevar            38                NaN   \n486579           2.0    0.0  0 - para llevar            32                NaN   \n502379         110.0    0.0  0 - para llevar            28                NaN   \n469089           8.0    0.0       5 - mesa 5            52                NaN   \n\n       modification_reason  is_cancelled is_courtesy delivery_name   \n499516             Ninguna         False       False          None  \\\n343005             Ninguna         False       False          None   \n486579             Ninguna         False       False          None   \n502379             Ninguna         False       False          None   \n469089             Ninguna         False       False          None   \n\n              order_type  \n499516       para llevar  \n343005       para llevar  \n486579       para llevar  \n502379       para llevar  \n469089  en sala-con mesa  \n\n[5 rows x 23 columns]",
      "text/html": "<div>\n<style scoped>\n    .dataframe tbody tr th:only-of-type {\n        vertical-align: middle;\n    }\n\n    .dataframe tbody tr th {\n        vertical-align: top;\n    }\n\n    .dataframe thead th {\n        text-align: right;\n    }\n</style>\n<table border=\"1\" class=\"dataframe\">\n  <thead>\n    <tr style=\"text-align: right;\">\n      <th></th>\n      <th>order_id</th>\n      <th>system_date</th>\n      <th>time</th>\n      <th>group_classifier</th>\n      <th>classification</th>\n      <th>product</th>\n      <th>prod_state</th>\n      <th>price</th>\n      <th>quantity</th>\n      <th>to_pay_xprod</th>\n      <th>...</th>\n      <th>customer_pay</th>\n      <th>change</th>\n      <th>location</th>\n      <th>order_number</th>\n      <th>modification_date</th>\n      <th>modification_reason</th>\n      <th>is_cancelled</th>\n      <th>is_courtesy</th>\n      <th>delivery_name</th>\n      <th>order_type</th>\n    </tr>\n  </thead>\n  <tbody>\n    <tr>\n      <th>499516</th>\n      <td>581938</td>\n      <td>2022-11-16</td>\n      <td>1900-01-01 15:31:16</td>\n      <td>otros</td>\n      <td>product</td>\n      <td>aceite</td>\n      <td>activo</td>\n      <td>1.0</td>\n      <td>112</td>\n      <td>112.0</td>\n      <td>...</td>\n      <td>112.0</td>\n      <td>0.0</td>\n      <td>0 - para llevar</td>\n      <td>24</td>\n      <td>NaN</td>\n      <td>Ninguna</td>\n      <td>False</td>\n      <td>False</td>\n      <td>None</td>\n      <td>para llevar</td>\n    </tr>\n    <tr>\n      <th>343005</th>\n      <td>493590</td>\n      <td>2021-01-25</td>\n      <td>1900-01-01 15:03:46</td>\n      <td>otros</td>\n      <td>product</td>\n      <td>envases</td>\n      <td>activo</td>\n      <td>1.0</td>\n      <td>13</td>\n      <td>13.0</td>\n      <td>...</td>\n      <td>13.0</td>\n      <td>0.0</td>\n      <td>0 - para llevar</td>\n      <td>38</td>\n      <td>NaN</td>\n      <td>Ninguna</td>\n      <td>False</td>\n      <td>False</td>\n      <td>None</td>\n      <td>para llevar</td>\n    </tr>\n    <tr>\n      <th>486579</th>\n      <td>575438</td>\n      <td>2022-09-17</td>\n      <td>1900-01-01 14:03:27</td>\n      <td>otros</td>\n      <td>product</td>\n      <td>envases</td>\n      <td>activo</td>\n      <td>2.0</td>\n      <td>1</td>\n      <td>2.0</td>\n      <td>...</td>\n      <td>2.0</td>\n      <td>0.0</td>\n      <td>0 - para llevar</td>\n      <td>32</td>\n      <td>NaN</td>\n      <td>Ninguna</td>\n      <td>False</td>\n      <td>False</td>\n      <td>None</td>\n      <td>para llevar</td>\n    </tr>\n    <tr>\n      <th>502379</th>\n      <td>583318</td>\n      <td>2022-12-01</td>\n      <td>1900-01-01 14:30:09</td>\n      <td>otros</td>\n      <td>product</td>\n      <td>aceite</td>\n      <td>activo</td>\n      <td>1.0</td>\n      <td>110</td>\n      <td>110.0</td>\n      <td>...</td>\n      <td>110.0</td>\n      <td>0.0</td>\n      <td>0 - para llevar</td>\n      <td>28</td>\n      <td>NaN</td>\n      <td>Ninguna</td>\n      <td>False</td>\n      <td>False</td>\n      <td>None</td>\n      <td>para llevar</td>\n    </tr>\n    <tr>\n      <th>469089</th>\n      <td>566770</td>\n      <td>2022-07-02</td>\n      <td>1900-01-01 17:37:47</td>\n      <td>otros</td>\n      <td>product</td>\n      <td>envases</td>\n      <td>activo</td>\n      <td>1.0</td>\n      <td>8</td>\n      <td>8.0</td>\n      <td>...</td>\n      <td>8.0</td>\n      <td>0.0</td>\n      <td>5 - mesa 5</td>\n      <td>52</td>\n      <td>NaN</td>\n      <td>Ninguna</td>\n      <td>False</td>\n      <td>False</td>\n      <td>None</td>\n      <td>en sala-con mesa</td>\n    </tr>\n  </tbody>\n</table>\n<p>5 rows × 23 columns</p>\n</div>"
     },
     "execution_count": 144,
     "metadata": {},
     "output_type": "execute_result"
    }
   ],
   "execution_count": 144
  },
  {
   "cell_type": "code",
   "id": "d473010db73d6436",
   "metadata": {
    "ExecuteTime": {
     "end_time": "2024-07-03T20:44:07.927253600Z",
     "start_time": "2024-07-03T20:44:07.478390300Z"
    }
   },
   "source": [
    "mask_index = resta_df[resta_df['product'].isin(['aceite','envases'])].index"
   ],
   "outputs": [],
   "execution_count": 145
  },
  {
   "cell_type": "code",
   "id": "8ff13ff0b82e529d",
   "metadata": {
    "ExecuteTime": {
     "end_time": "2024-07-03T20:44:08.048526500Z",
     "start_time": "2024-07-03T20:44:07.595776200Z"
    }
   },
   "source": [
    "#Drop determined rows and reset index \n",
    "resta_df = resta_df.drop(mask_index).reset_index(drop=True)"
   ],
   "outputs": [],
   "execution_count": 146
  },
  {
   "cell_type": "code",
   "id": "f1008b256a32c115",
   "metadata": {
    "ExecuteTime": {
     "end_time": "2024-07-03T20:44:08.725799300Z",
     "start_time": "2024-07-03T20:44:07.926257900Z"
    }
   },
   "source": [
    "resta_df.shape"
   ],
   "outputs": [
    {
     "data": {
      "text/plain": "(505097, 23)"
     },
     "execution_count": 147,
     "metadata": {},
     "output_type": "execute_result"
    }
   ],
   "execution_count": 147
  },
  {
   "cell_type": "markdown",
   "id": "a61da7d0602ff6e5",
   "metadata": {},
   "source": [
    "#### reviewing price\n",
    "\n",
    "analysis by product: --- analysis of deliveries --- analysis of finger --- analysis of pollo a la canasta"
   ]
  },
  {
   "cell_type": "code",
   "id": "af603e9591a3c648",
   "metadata": {
    "ExecuteTime": {
     "end_time": "2024-07-03T20:44:08.806052600Z",
     "start_time": "2024-07-03T20:44:08.071577600Z"
    }
   },
   "source": [
    "resta_df[resta_df['price']==1].groupby('product')['to_pay_xprod'].sum()"
   ],
   "outputs": [
    {
     "data": {
      "text/plain": "product\ndelivery              206926.0\nfinger                   520.0\npollo a la canasta       117.0\nName: to_pay_xprod, dtype: float64"
     },
     "execution_count": 148,
     "metadata": {},
     "output_type": "execute_result"
    }
   ],
   "execution_count": 148
  },
  {
   "cell_type": "code",
   "id": "a8822e795de44f1a",
   "metadata": {
    "ExecuteTime": {
     "end_time": "2024-07-03T20:44:08.810052800Z",
     "start_time": "2024-07-03T20:44:08.238087200Z"
    }
   },
   "source": [
    "resta_df[resta_df['price']==1].sample(20)"
   ],
   "outputs": [
    {
     "data": {
      "text/plain": "        order_id system_date                time group_classifier   \n154836    281312  2018-11-21 1900-01-01 14:55:49             menu  \\\n353134    499527  2021-03-11 1900-01-01 20:59:28             menu   \n484002    574372  2022-09-07 1900-01-01 18:58:53             menu   \n337687    490171  2021-01-05 1900-01-01 15:58:45             menu   \n437919    550746  2022-02-25 1900-01-01 19:19:24             menu   \n448152    555769  2022-04-10 1900-01-01 14:47:31             menu   \n428178    544967  2022-01-17 1900-01-01 16:18:29             menu   \n415420    538725  2021-11-23 1900-01-01 20:04:20             menu   \n387993    520603  2021-08-07 1900-01-01 20:28:49             menu   \n481690    573188  2022-08-26 1900-01-01 21:26:33             menu   \n386880    520072  2021-08-03 1900-01-01 18:21:42             menu   \n345437    494838  2021-02-05 1900-01-01 20:44:12             menu   \n470051    567412  2022-07-07 1900-01-01 20:27:30             menu   \n281407    454723  2020-02-10 1900-01-01 18:36:37             menu   \n419085    540518  2021-12-08 1900-01-01 16:10:15             menu   \n414331    537204  2021-11-19 1900-01-01 19:28:43             menu   \n330176    484598  2020-12-06 1900-01-01 13:42:50             menu   \n426443    544090  2022-01-09 1900-01-01 20:42:44             menu   \n377201    514411  2021-06-24 1900-01-01 18:44:25             menu   \n465668    565251  2022-06-19 1900-01-01 20:03:40             menu   \n\n       classification             product prod_state  price  quantity   \n154836        product  pollo a la canasta     activo    1.0         1  \\\n353134       delivery            delivery     activo    1.0         3   \n484002       delivery            delivery     activo    1.0        17   \n337687       delivery            delivery     activo    1.0         4   \n437919       delivery            delivery     activo    1.0         4   \n448152       delivery            delivery     activo    1.0         5   \n428178       delivery            delivery     activo    1.0         9   \n415420       delivery            delivery     activo    1.0         7   \n387993       delivery            delivery     activo    1.0        12   \n481690       delivery            delivery     activo    1.0        15   \n386880       delivery            delivery     activo    1.0         4   \n345437       delivery            delivery     activo    1.0         9   \n470051       delivery            delivery     activo    1.0         6   \n281407       delivery            delivery     activo    1.0         9   \n419085       delivery            delivery     activo    1.0        12   \n414331       delivery            delivery     activo    1.0         4   \n330176       delivery            delivery     activo    1.0        22   \n426443       delivery            delivery     activo    1.0        11   \n377201       delivery            delivery     activo    1.0        12   \n465668       delivery            delivery     activo    1.0        10   \n\n        to_pay_xprod  ...  customer_pay change         location  order_number   \n154836           1.0  ...           7.0    0.0       4 - mesa 4            50  \\\n353134           3.0  ...          31.0    0.0  0 - para llevar           103   \n484002          17.0  ...          77.0    0.0  0 - para llevar            24   \n337687           4.0  ...          26.0    0.0  0 - para llevar            51   \n437919           4.0  ...          49.0    0.0  0 - para llevar            23   \n448152           5.0  ...          29.0    0.0  0 - para llevar            51   \n428178           9.0  ...          50.0    0.0  0 - para llevar            53   \n415420           7.0  ...          39.0    0.0  0 - para llevar            83   \n387993          12.0  ...          69.0    0.0  0 - para llevar           109   \n481690          15.0  ...          72.0    0.0  0 - para llevar            81   \n386880           4.0  ...          25.0    0.0  0 - para llevar            46   \n345437           9.0  ...          67.0    0.0  0 - para llevar           125   \n470051           6.0  ...          40.0    0.0  0 - para llevar            65   \n281407           9.0  ...          61.0    0.0  0 - para llevar            16   \n419085          12.0  ...          63.0    0.0  0 - para llevar            37   \n414331           4.0  ...          52.0    0.0  0 - para llevar           101   \n330176          22.0  ...         132.0    0.0  0 - para llevar            24   \n426443          11.0  ...          66.0    0.0  0 - para llevar           105   \n377201          12.0  ...         122.0    0.0  0 - para llevar            47   \n465668          10.0  ...          62.0    0.0  0 - para llevar            76   \n\n        modification_date modification_reason  is_cancelled is_courtesy   \n154836                NaN             Ninguna         False       False  \\\n353134                NaN             Ninguna         False       False   \n484002                NaN             Ninguna         False       False   \n337687                NaN             Ninguna         False       False   \n437919                NaN             Ninguna         False       False   \n448152                NaN             Ninguna         False       False   \n428178                NaN             Ninguna         False       False   \n415420                NaN             Ninguna         False       False   \n387993                NaN             Ninguna         False       False   \n481690                NaN             Ninguna         False       False   \n386880                NaN             Ninguna         False       False   \n345437                NaN             Ninguna         False       False   \n470051                NaN             Ninguna         False       False   \n281407                NaN             Ninguna         False       False   \n419085                NaN             Ninguna         False       False   \n414331                NaN             Ninguna         False       False   \n330176                NaN             Ninguna         False       False   \n426443                NaN             Ninguna         False       False   \n377201                NaN             Ninguna         False       False   \n465668                NaN             Ninguna         False       False   \n\n       delivery_name        order_type  \n154836          None  en sala-con mesa  \n353134         yaigo          delivery  \n484002    pedidos ya          delivery  \n337687    pedidos ya          delivery  \n437919         yaigo          delivery  \n448152    pedidos ya          delivery  \n428178    pedidos ya          delivery  \n415420    pedidos ya          delivery  \n387993    pedidos ya          delivery  \n481690    pedidos ya          delivery  \n386880    pedidos ya          delivery  \n345437         dinki          delivery  \n470051    pedidos ya          delivery  \n281407  mr. delivery          delivery  \n419085  mr. delivery          delivery  \n414331         dinki          delivery  \n330176    pedidos ya          delivery  \n426443    pedidos ya          delivery  \n377201  mr. delivery          delivery  \n465668  mr. delivery          delivery  \n\n[20 rows x 23 columns]",
      "text/html": "<div>\n<style scoped>\n    .dataframe tbody tr th:only-of-type {\n        vertical-align: middle;\n    }\n\n    .dataframe tbody tr th {\n        vertical-align: top;\n    }\n\n    .dataframe thead th {\n        text-align: right;\n    }\n</style>\n<table border=\"1\" class=\"dataframe\">\n  <thead>\n    <tr style=\"text-align: right;\">\n      <th></th>\n      <th>order_id</th>\n      <th>system_date</th>\n      <th>time</th>\n      <th>group_classifier</th>\n      <th>classification</th>\n      <th>product</th>\n      <th>prod_state</th>\n      <th>price</th>\n      <th>quantity</th>\n      <th>to_pay_xprod</th>\n      <th>...</th>\n      <th>customer_pay</th>\n      <th>change</th>\n      <th>location</th>\n      <th>order_number</th>\n      <th>modification_date</th>\n      <th>modification_reason</th>\n      <th>is_cancelled</th>\n      <th>is_courtesy</th>\n      <th>delivery_name</th>\n      <th>order_type</th>\n    </tr>\n  </thead>\n  <tbody>\n    <tr>\n      <th>154836</th>\n      <td>281312</td>\n      <td>2018-11-21</td>\n      <td>1900-01-01 14:55:49</td>\n      <td>menu</td>\n      <td>product</td>\n      <td>pollo a la canasta</td>\n      <td>activo</td>\n      <td>1.0</td>\n      <td>1</td>\n      <td>1.0</td>\n      <td>...</td>\n      <td>7.0</td>\n      <td>0.0</td>\n      <td>4 - mesa 4</td>\n      <td>50</td>\n      <td>NaN</td>\n      <td>Ninguna</td>\n      <td>False</td>\n      <td>False</td>\n      <td>None</td>\n      <td>en sala-con mesa</td>\n    </tr>\n    <tr>\n      <th>353134</th>\n      <td>499527</td>\n      <td>2021-03-11</td>\n      <td>1900-01-01 20:59:28</td>\n      <td>menu</td>\n      <td>delivery</td>\n      <td>delivery</td>\n      <td>activo</td>\n      <td>1.0</td>\n      <td>3</td>\n      <td>3.0</td>\n      <td>...</td>\n      <td>31.0</td>\n      <td>0.0</td>\n      <td>0 - para llevar</td>\n      <td>103</td>\n      <td>NaN</td>\n      <td>Ninguna</td>\n      <td>False</td>\n      <td>False</td>\n      <td>yaigo</td>\n      <td>delivery</td>\n    </tr>\n    <tr>\n      <th>484002</th>\n      <td>574372</td>\n      <td>2022-09-07</td>\n      <td>1900-01-01 18:58:53</td>\n      <td>menu</td>\n      <td>delivery</td>\n      <td>delivery</td>\n      <td>activo</td>\n      <td>1.0</td>\n      <td>17</td>\n      <td>17.0</td>\n      <td>...</td>\n      <td>77.0</td>\n      <td>0.0</td>\n      <td>0 - para llevar</td>\n      <td>24</td>\n      <td>NaN</td>\n      <td>Ninguna</td>\n      <td>False</td>\n      <td>False</td>\n      <td>pedidos ya</td>\n      <td>delivery</td>\n    </tr>\n    <tr>\n      <th>337687</th>\n      <td>490171</td>\n      <td>2021-01-05</td>\n      <td>1900-01-01 15:58:45</td>\n      <td>menu</td>\n      <td>delivery</td>\n      <td>delivery</td>\n      <td>activo</td>\n      <td>1.0</td>\n      <td>4</td>\n      <td>4.0</td>\n      <td>...</td>\n      <td>26.0</td>\n      <td>0.0</td>\n      <td>0 - para llevar</td>\n      <td>51</td>\n      <td>NaN</td>\n      <td>Ninguna</td>\n      <td>False</td>\n      <td>False</td>\n      <td>pedidos ya</td>\n      <td>delivery</td>\n    </tr>\n    <tr>\n      <th>437919</th>\n      <td>550746</td>\n      <td>2022-02-25</td>\n      <td>1900-01-01 19:19:24</td>\n      <td>menu</td>\n      <td>delivery</td>\n      <td>delivery</td>\n      <td>activo</td>\n      <td>1.0</td>\n      <td>4</td>\n      <td>4.0</td>\n      <td>...</td>\n      <td>49.0</td>\n      <td>0.0</td>\n      <td>0 - para llevar</td>\n      <td>23</td>\n      <td>NaN</td>\n      <td>Ninguna</td>\n      <td>False</td>\n      <td>False</td>\n      <td>yaigo</td>\n      <td>delivery</td>\n    </tr>\n    <tr>\n      <th>448152</th>\n      <td>555769</td>\n      <td>2022-04-10</td>\n      <td>1900-01-01 14:47:31</td>\n      <td>menu</td>\n      <td>delivery</td>\n      <td>delivery</td>\n      <td>activo</td>\n      <td>1.0</td>\n      <td>5</td>\n      <td>5.0</td>\n      <td>...</td>\n      <td>29.0</td>\n      <td>0.0</td>\n      <td>0 - para llevar</td>\n      <td>51</td>\n      <td>NaN</td>\n      <td>Ninguna</td>\n      <td>False</td>\n      <td>False</td>\n      <td>pedidos ya</td>\n      <td>delivery</td>\n    </tr>\n    <tr>\n      <th>428178</th>\n      <td>544967</td>\n      <td>2022-01-17</td>\n      <td>1900-01-01 16:18:29</td>\n      <td>menu</td>\n      <td>delivery</td>\n      <td>delivery</td>\n      <td>activo</td>\n      <td>1.0</td>\n      <td>9</td>\n      <td>9.0</td>\n      <td>...</td>\n      <td>50.0</td>\n      <td>0.0</td>\n      <td>0 - para llevar</td>\n      <td>53</td>\n      <td>NaN</td>\n      <td>Ninguna</td>\n      <td>False</td>\n      <td>False</td>\n      <td>pedidos ya</td>\n      <td>delivery</td>\n    </tr>\n    <tr>\n      <th>415420</th>\n      <td>538725</td>\n      <td>2021-11-23</td>\n      <td>1900-01-01 20:04:20</td>\n      <td>menu</td>\n      <td>delivery</td>\n      <td>delivery</td>\n      <td>activo</td>\n      <td>1.0</td>\n      <td>7</td>\n      <td>7.0</td>\n      <td>...</td>\n      <td>39.0</td>\n      <td>0.0</td>\n      <td>0 - para llevar</td>\n      <td>83</td>\n      <td>NaN</td>\n      <td>Ninguna</td>\n      <td>False</td>\n      <td>False</td>\n      <td>pedidos ya</td>\n      <td>delivery</td>\n    </tr>\n    <tr>\n      <th>387993</th>\n      <td>520603</td>\n      <td>2021-08-07</td>\n      <td>1900-01-01 20:28:49</td>\n      <td>menu</td>\n      <td>delivery</td>\n      <td>delivery</td>\n      <td>activo</td>\n      <td>1.0</td>\n      <td>12</td>\n      <td>12.0</td>\n      <td>...</td>\n      <td>69.0</td>\n      <td>0.0</td>\n      <td>0 - para llevar</td>\n      <td>109</td>\n      <td>NaN</td>\n      <td>Ninguna</td>\n      <td>False</td>\n      <td>False</td>\n      <td>pedidos ya</td>\n      <td>delivery</td>\n    </tr>\n    <tr>\n      <th>481690</th>\n      <td>573188</td>\n      <td>2022-08-26</td>\n      <td>1900-01-01 21:26:33</td>\n      <td>menu</td>\n      <td>delivery</td>\n      <td>delivery</td>\n      <td>activo</td>\n      <td>1.0</td>\n      <td>15</td>\n      <td>15.0</td>\n      <td>...</td>\n      <td>72.0</td>\n      <td>0.0</td>\n      <td>0 - para llevar</td>\n      <td>81</td>\n      <td>NaN</td>\n      <td>Ninguna</td>\n      <td>False</td>\n      <td>False</td>\n      <td>pedidos ya</td>\n      <td>delivery</td>\n    </tr>\n    <tr>\n      <th>386880</th>\n      <td>520072</td>\n      <td>2021-08-03</td>\n      <td>1900-01-01 18:21:42</td>\n      <td>menu</td>\n      <td>delivery</td>\n      <td>delivery</td>\n      <td>activo</td>\n      <td>1.0</td>\n      <td>4</td>\n      <td>4.0</td>\n      <td>...</td>\n      <td>25.0</td>\n      <td>0.0</td>\n      <td>0 - para llevar</td>\n      <td>46</td>\n      <td>NaN</td>\n      <td>Ninguna</td>\n      <td>False</td>\n      <td>False</td>\n      <td>pedidos ya</td>\n      <td>delivery</td>\n    </tr>\n    <tr>\n      <th>345437</th>\n      <td>494838</td>\n      <td>2021-02-05</td>\n      <td>1900-01-01 20:44:12</td>\n      <td>menu</td>\n      <td>delivery</td>\n      <td>delivery</td>\n      <td>activo</td>\n      <td>1.0</td>\n      <td>9</td>\n      <td>9.0</td>\n      <td>...</td>\n      <td>67.0</td>\n      <td>0.0</td>\n      <td>0 - para llevar</td>\n      <td>125</td>\n      <td>NaN</td>\n      <td>Ninguna</td>\n      <td>False</td>\n      <td>False</td>\n      <td>dinki</td>\n      <td>delivery</td>\n    </tr>\n    <tr>\n      <th>470051</th>\n      <td>567412</td>\n      <td>2022-07-07</td>\n      <td>1900-01-01 20:27:30</td>\n      <td>menu</td>\n      <td>delivery</td>\n      <td>delivery</td>\n      <td>activo</td>\n      <td>1.0</td>\n      <td>6</td>\n      <td>6.0</td>\n      <td>...</td>\n      <td>40.0</td>\n      <td>0.0</td>\n      <td>0 - para llevar</td>\n      <td>65</td>\n      <td>NaN</td>\n      <td>Ninguna</td>\n      <td>False</td>\n      <td>False</td>\n      <td>pedidos ya</td>\n      <td>delivery</td>\n    </tr>\n    <tr>\n      <th>281407</th>\n      <td>454723</td>\n      <td>2020-02-10</td>\n      <td>1900-01-01 18:36:37</td>\n      <td>menu</td>\n      <td>delivery</td>\n      <td>delivery</td>\n      <td>activo</td>\n      <td>1.0</td>\n      <td>9</td>\n      <td>9.0</td>\n      <td>...</td>\n      <td>61.0</td>\n      <td>0.0</td>\n      <td>0 - para llevar</td>\n      <td>16</td>\n      <td>NaN</td>\n      <td>Ninguna</td>\n      <td>False</td>\n      <td>False</td>\n      <td>mr. delivery</td>\n      <td>delivery</td>\n    </tr>\n    <tr>\n      <th>419085</th>\n      <td>540518</td>\n      <td>2021-12-08</td>\n      <td>1900-01-01 16:10:15</td>\n      <td>menu</td>\n      <td>delivery</td>\n      <td>delivery</td>\n      <td>activo</td>\n      <td>1.0</td>\n      <td>12</td>\n      <td>12.0</td>\n      <td>...</td>\n      <td>63.0</td>\n      <td>0.0</td>\n      <td>0 - para llevar</td>\n      <td>37</td>\n      <td>NaN</td>\n      <td>Ninguna</td>\n      <td>False</td>\n      <td>False</td>\n      <td>mr. delivery</td>\n      <td>delivery</td>\n    </tr>\n    <tr>\n      <th>414331</th>\n      <td>537204</td>\n      <td>2021-11-19</td>\n      <td>1900-01-01 19:28:43</td>\n      <td>menu</td>\n      <td>delivery</td>\n      <td>delivery</td>\n      <td>activo</td>\n      <td>1.0</td>\n      <td>4</td>\n      <td>4.0</td>\n      <td>...</td>\n      <td>52.0</td>\n      <td>0.0</td>\n      <td>0 - para llevar</td>\n      <td>101</td>\n      <td>NaN</td>\n      <td>Ninguna</td>\n      <td>False</td>\n      <td>False</td>\n      <td>dinki</td>\n      <td>delivery</td>\n    </tr>\n    <tr>\n      <th>330176</th>\n      <td>484598</td>\n      <td>2020-12-06</td>\n      <td>1900-01-01 13:42:50</td>\n      <td>menu</td>\n      <td>delivery</td>\n      <td>delivery</td>\n      <td>activo</td>\n      <td>1.0</td>\n      <td>22</td>\n      <td>22.0</td>\n      <td>...</td>\n      <td>132.0</td>\n      <td>0.0</td>\n      <td>0 - para llevar</td>\n      <td>24</td>\n      <td>NaN</td>\n      <td>Ninguna</td>\n      <td>False</td>\n      <td>False</td>\n      <td>pedidos ya</td>\n      <td>delivery</td>\n    </tr>\n    <tr>\n      <th>426443</th>\n      <td>544090</td>\n      <td>2022-01-09</td>\n      <td>1900-01-01 20:42:44</td>\n      <td>menu</td>\n      <td>delivery</td>\n      <td>delivery</td>\n      <td>activo</td>\n      <td>1.0</td>\n      <td>11</td>\n      <td>11.0</td>\n      <td>...</td>\n      <td>66.0</td>\n      <td>0.0</td>\n      <td>0 - para llevar</td>\n      <td>105</td>\n      <td>NaN</td>\n      <td>Ninguna</td>\n      <td>False</td>\n      <td>False</td>\n      <td>pedidos ya</td>\n      <td>delivery</td>\n    </tr>\n    <tr>\n      <th>377201</th>\n      <td>514411</td>\n      <td>2021-06-24</td>\n      <td>1900-01-01 18:44:25</td>\n      <td>menu</td>\n      <td>delivery</td>\n      <td>delivery</td>\n      <td>activo</td>\n      <td>1.0</td>\n      <td>12</td>\n      <td>12.0</td>\n      <td>...</td>\n      <td>122.0</td>\n      <td>0.0</td>\n      <td>0 - para llevar</td>\n      <td>47</td>\n      <td>NaN</td>\n      <td>Ninguna</td>\n      <td>False</td>\n      <td>False</td>\n      <td>mr. delivery</td>\n      <td>delivery</td>\n    </tr>\n    <tr>\n      <th>465668</th>\n      <td>565251</td>\n      <td>2022-06-19</td>\n      <td>1900-01-01 20:03:40</td>\n      <td>menu</td>\n      <td>delivery</td>\n      <td>delivery</td>\n      <td>activo</td>\n      <td>1.0</td>\n      <td>10</td>\n      <td>10.0</td>\n      <td>...</td>\n      <td>62.0</td>\n      <td>0.0</td>\n      <td>0 - para llevar</td>\n      <td>76</td>\n      <td>NaN</td>\n      <td>Ninguna</td>\n      <td>False</td>\n      <td>False</td>\n      <td>mr. delivery</td>\n      <td>delivery</td>\n    </tr>\n  </tbody>\n</table>\n<p>20 rows × 23 columns</p>\n</div>"
     },
     "execution_count": 149,
     "metadata": {},
     "output_type": "execute_result"
    }
   ],
   "execution_count": 149
  },
  {
   "cell_type": "markdown",
   "id": "f3325a0f4da48e1d",
   "metadata": {},
   "source": [
    "##### Deliveries dont contabilize as a product\n",
    "Each delivery has been registered with a determined order, so users have placed delivery as part of the order, placing price as 1, and quantity is the real price of that delivry. This will be placed in other column.\n",
    "\n",
    "When a delivery has price 1 and there is a quantity greater than 1, then quantity holds the real price. This should be fixed. "
   ]
  },
  {
   "cell_type": "code",
   "id": "ffeaca757224a5e0",
   "metadata": {
    "ExecuteTime": {
     "end_time": "2024-07-03T20:44:08.810052800Z",
     "start_time": "2024-07-03T20:44:08.379875100Z"
    }
   },
   "source": [
    "#Create a copy of price\n",
    "resta_df['price_alt'] = resta_df['price']\n",
    "#Create a copy of quantity\n",
    "resta_df['quantity_alt'] = resta_df['quantity']\n",
    "#Create a copy of to_pay_xprod_alt\n",
    "resta_df['to_pay_xprod_alt'] = resta_df['to_pay_xprod']"
   ],
   "outputs": [],
   "execution_count": 150
  },
  {
   "cell_type": "code",
   "id": "63ed1590f5ab423a",
   "metadata": {
    "ExecuteTime": {
     "end_time": "2024-07-03T20:44:08.829165300Z",
     "start_time": "2024-07-03T20:44:08.436452Z"
    }
   },
   "source": [
    "resta_df.loc[(resta_df['order_type']=='delivery')&(resta_df['price_alt']!=1)&(resta_df['quantity_alt']==1), :].head(50)"
   ],
   "outputs": [
    {
     "data": {
      "text/plain": "        order_id system_date                time group_classifier   \n259397    421557  2019-11-21 1900-01-01 14:19:57             menu  \\\n259399    421558  2019-11-21 1900-01-01 14:23:18             menu   \n259400    421559  2019-11-21 1900-01-01 14:37:26             menu   \n259401    421560  2019-11-21 1900-01-01 14:45:52             menu   \n259402    421561  2019-11-21 1900-01-01 14:48:22             menu   \n259418    421572  2019-11-21 1900-01-01 16:59:24             menu   \n259419    421573  2019-11-21 1900-01-01 17:01:04             menu   \n259422    421576  2019-11-21 1900-01-01 17:10:24             menu   \n259430    421581  2019-11-21 1900-01-01 17:48:16             menu   \n259431    421582  2019-11-21 1900-01-01 17:50:23             menu   \n259432    421583  2019-11-21 1900-01-01 17:59:33             menu   \n259441    421589  2019-11-21 1900-01-01 18:20:37             menu   \n259449    421595  2019-11-21 1900-01-01 18:47:20             menu   \n259452    421598  2019-11-21 1900-01-01 19:02:11             menu   \n259458    422412  2019-11-21 1900-01-01 19:43:22             menu   \n259461    422413  2019-11-21 1900-01-01 19:43:34             menu   \n259467    422418  2019-11-21 1900-01-01 20:04:40             menu   \n259470    422419  2019-11-21 1900-01-01 20:06:36             menu   \n259475    422421  2019-11-21 1900-01-01 20:09:20             menu   \n259478    422423  2019-11-21 1900-01-01 20:15:38             menu   \n259480    422424  2019-11-21 1900-01-01 20:17:30             menu   \n259496    422437  2019-11-22 1900-01-01 17:34:15             menu   \n259498    422439  2019-11-22 1900-01-01 17:52:25             menu   \n259522    422459  2019-11-22 1900-01-01 19:22:49             menu   \n259531    422466  2019-11-22 1900-01-01 19:35:19             menu   \n259533    422467  2019-11-22 1900-01-01 19:38:42             menu   \n259539    422471  2019-11-22 1900-01-01 19:45:19             menu   \n259540    422472  2019-11-22 1900-01-01 19:46:04             menu   \n259544    422474  2019-11-22 1900-01-01 20:03:46             menu   \n259566    422490  2019-11-22 1900-01-01 20:52:41             menu   \n259571    423412  2019-11-22 1900-01-01 21:17:04             menu   \n259572    423413  2019-11-22 1900-01-01 21:18:15             menu   \n259584    423421  2019-11-23 1900-01-01 13:20:00             menu   \n259585    423422  2019-11-23 1900-01-01 13:23:40             menu   \n259593    423428  2019-11-23 1900-01-01 13:41:14             menu   \n259595    423429  2019-11-23 1900-01-01 13:49:18             menu   \n259607    423435  2019-11-23 1900-01-01 14:22:52             menu   \n259621    423446  2019-11-23 1900-01-01 15:24:26             menu   \n259623    423447  2019-11-23 1900-01-01 15:31:57             menu   \n259629    423452  2019-11-23 1900-01-01 16:05:46             menu   \n259638    423459  2019-11-23 1900-01-01 17:28:46             menu   \n259646    423466  2019-11-23 1900-01-01 18:32:05             menu   \n259647    423467  2019-11-23 1900-01-01 19:04:34             menu   \n259652    423470  2019-11-24 1900-01-01 12:33:32             menu   \n259658    423472  2019-11-24 1900-01-01 12:49:59             menu   \n259660    423474  2019-11-24 1900-01-01 13:00:29             menu   \n259662    423476  2019-11-24 1900-01-01 13:07:04             menu   \n259673    423480  2019-11-24 1900-01-01 13:38:21             menu   \n259677    423482  2019-11-24 1900-01-01 13:46:15             menu   \n259690    423493  2019-11-24 1900-01-01 14:17:07             menu   \n\n       classification   product prod_state  price  quantity  to_pay_xprod   \n259397       delivery  delivery     activo   20.0         1          20.0  \\\n259399       delivery  delivery     activo   20.0         1          20.0   \n259400       delivery  delivery     activo   20.0         1          20.0   \n259401       delivery  delivery     activo   20.0         1          20.0   \n259402       delivery  delivery     activo   20.0         1          20.0   \n259418       delivery  delivery     activo   20.0         1          20.0   \n259419       delivery  delivery     activo   20.0         1          20.0   \n259422       delivery  delivery     activo   20.0         1          20.0   \n259430       delivery  delivery     activo   20.0         1          20.0   \n259431       delivery  delivery     activo   20.0         1          20.0   \n259432       delivery  delivery     activo   20.0         1          20.0   \n259441       delivery  delivery     activo   20.0         1          20.0   \n259449       delivery  delivery     activo   20.0         1          20.0   \n259452       delivery  delivery     activo   20.0         1          20.0   \n259458       delivery  delivery     activo   20.0         1          20.0   \n259461       delivery  delivery     activo   20.0         1          20.0   \n259467       delivery  delivery     activo   20.0         1          20.0   \n259470       delivery  delivery     activo   20.0         1          20.0   \n259475       delivery  delivery     activo   20.0         1          20.0   \n259478       delivery  delivery     activo   20.0         1          20.0   \n259480       delivery  delivery     activo   20.0         1          20.0   \n259496       delivery  delivery     activo   20.0         1          20.0   \n259498       delivery  delivery     activo   20.0         1          20.0   \n259522       delivery  delivery     activo   20.0         1          20.0   \n259531       delivery  delivery     activo   20.0         1          20.0   \n259533       delivery  delivery     activo   20.0         1          20.0   \n259539       delivery  delivery     activo   20.0         1          20.0   \n259540       delivery  delivery     activo   20.0         1          20.0   \n259544       delivery  delivery     activo   20.0         1          20.0   \n259566       delivery  delivery     activo   20.0         1          20.0   \n259571       delivery  delivery     activo   20.0         1          20.0   \n259572       delivery  delivery     activo   20.0         1          20.0   \n259584       delivery  delivery     activo   20.0         1          20.0   \n259585       delivery  delivery     activo   20.0         1          20.0   \n259593       delivery  delivery     activo   20.0         1          20.0   \n259595       delivery  delivery     activo   20.0         1          20.0   \n259607       delivery  delivery     activo   20.0         1          20.0   \n259621       delivery  delivery     activo   20.0         1          20.0   \n259623       delivery  delivery     activo   20.0         1          20.0   \n259629       delivery  delivery     activo   20.0         1          20.0   \n259638       delivery  delivery     activo   20.0         1          20.0   \n259646       delivery  delivery     activo   20.0         1          20.0   \n259647       delivery  delivery     activo   20.0         1          20.0   \n259652       delivery  delivery     activo   20.0         1          20.0   \n259658       delivery  delivery     activo   20.0         1          20.0   \n259660       delivery  delivery     activo   20.0         1          20.0   \n259662       delivery  delivery     activo   20.0         1          20.0   \n259673       delivery  delivery     activo   20.0         1          20.0   \n259677       delivery  delivery     activo   20.0         1          20.0   \n259690       delivery  delivery     activo   20.0         1          20.0   \n\n        ...  order_number modification_date  modification_reason   \n259397  ...            33               NaN              Ninguna  \\\n259399  ...            34               NaN              Ninguna   \n259400  ...            35               NaN              Ninguna   \n259401  ...            36               NaN              Ninguna   \n259402  ...            37               NaN              Ninguna   \n259418  ...            48               NaN              Ninguna   \n259419  ...            49               NaN              Ninguna   \n259422  ...            52               NaN              Ninguna   \n259430  ...            57               NaN              Ninguna   \n259431  ...            58               NaN              Ninguna   \n259432  ...            59               NaN              Ninguna   \n259441  ...             1               NaN              Ninguna   \n259449  ...             7               NaN              Ninguna   \n259452  ...            10               NaN              Ninguna   \n259458  ...            13               NaN              Ninguna   \n259461  ...            14               NaN              Ninguna   \n259467  ...            19               NaN              Ninguna   \n259470  ...            20               NaN              Ninguna   \n259475  ...            22               NaN              Ninguna   \n259478  ...            24               NaN              Ninguna   \n259480  ...            25               NaN              Ninguna   \n259496  ...             4               NaN              Ninguna   \n259498  ...             6               NaN              Ninguna   \n259522  ...            26               NaN              Ninguna   \n259531  ...            33               NaN              Ninguna   \n259533  ...            34               NaN              Ninguna   \n259539  ...            38               NaN              Ninguna   \n259540  ...            39               NaN              Ninguna   \n259544  ...            41               NaN              Ninguna   \n259566  ...            57               NaN              Ninguna   \n259571  ...            61               NaN              Ninguna   \n259572  ...            62               NaN              Ninguna   \n259584  ...             4               NaN              Ninguna   \n259585  ...             5               NaN              Ninguna   \n259593  ...            11               NaN              Ninguna   \n259595  ...            12               NaN              Ninguna   \n259607  ...            18               NaN              Ninguna   \n259621  ...            29               NaN              Ninguna   \n259623  ...            30               NaN              Ninguna   \n259629  ...            35               NaN              Ninguna   \n259638  ...            42               NaN              Ninguna   \n259646  ...            49               NaN              Ninguna   \n259647  ...            50               NaN              Ninguna   \n259652  ...             2               NaN              Ninguna   \n259658  ...             4               NaN              Ninguna   \n259660  ...             6               NaN              Ninguna   \n259662  ...             8               NaN              Ninguna   \n259673  ...            12               NaN              Ninguna   \n259677  ...            14               NaN              Ninguna   \n259690  ...            25               NaN              Ninguna   \n\n        is_cancelled  is_courtesy delivery_name  order_type price_alt   \n259397         False        False  mr. delivery    delivery      20.0  \\\n259399         False        False  mr. delivery    delivery      20.0   \n259400         False        False  mr. delivery    delivery      20.0   \n259401         False        False  mr. delivery    delivery      20.0   \n259402         False        False  mr. delivery    delivery      20.0   \n259418         False        False  mr. delivery    delivery      20.0   \n259419         False        False  mr. delivery    delivery      20.0   \n259422         False        False  mr. delivery    delivery      20.0   \n259430         False        False  mr. delivery    delivery      20.0   \n259431         False        False  mr. delivery    delivery      20.0   \n259432         False        False  mr. delivery    delivery      20.0   \n259441         False        False  mr. delivery    delivery      20.0   \n259449         False        False  mr. delivery    delivery      20.0   \n259452         False        False  mr. delivery    delivery      20.0   \n259458         False        False  mr. delivery    delivery      20.0   \n259461         False        False  mr. delivery    delivery      20.0   \n259467         False        False  mr. delivery    delivery      20.0   \n259470         False        False  mr. delivery    delivery      20.0   \n259475         False        False  mr. delivery    delivery      20.0   \n259478         False        False  mr. delivery    delivery      20.0   \n259480         False        False  mr. delivery    delivery      20.0   \n259496         False        False  mr. delivery    delivery      20.0   \n259498         False        False  mr. delivery    delivery      20.0   \n259522         False        False  mr. delivery    delivery      20.0   \n259531         False        False  mr. delivery    delivery      20.0   \n259533         False        False  mr. delivery    delivery      20.0   \n259539         False        False  mr. delivery    delivery      20.0   \n259540         False        False  mr. delivery    delivery      20.0   \n259544         False        False  mr. delivery    delivery      20.0   \n259566         False        False  mr. delivery    delivery      20.0   \n259571         False        False  mr. delivery    delivery      20.0   \n259572         False        False  mr. delivery    delivery      20.0   \n259584         False        False  mr. delivery    delivery      20.0   \n259585         False        False  mr. delivery    delivery      20.0   \n259593         False        False  mr. delivery    delivery      20.0   \n259595         False        False  mr. delivery    delivery      20.0   \n259607         False        False  mr. delivery    delivery      20.0   \n259621         False        False  mr. delivery    delivery      20.0   \n259623         False        False  mr. delivery    delivery      20.0   \n259629         False        False  mr. delivery    delivery      20.0   \n259638         False        False  mr. delivery    delivery      20.0   \n259646         False        False  mr. delivery    delivery      20.0   \n259647         False        False  mr. delivery    delivery      20.0   \n259652         False        False  mr. delivery    delivery      20.0   \n259658         False        False  mr. delivery    delivery      20.0   \n259660         False        False  mr. delivery    delivery      20.0   \n259662         False        False  mr. delivery    delivery      20.0   \n259673         False        False  mr. delivery    delivery      20.0   \n259677         False        False  mr. delivery    delivery      20.0   \n259690         False        False  mr. delivery    delivery      20.0   \n\n       quantity_alt to_pay_xprod_alt  \n259397            1             20.0  \n259399            1             20.0  \n259400            1             20.0  \n259401            1             20.0  \n259402            1             20.0  \n259418            1             20.0  \n259419            1             20.0  \n259422            1             20.0  \n259430            1             20.0  \n259431            1             20.0  \n259432            1             20.0  \n259441            1             20.0  \n259449            1             20.0  \n259452            1             20.0  \n259458            1             20.0  \n259461            1             20.0  \n259467            1             20.0  \n259470            1             20.0  \n259475            1             20.0  \n259478            1             20.0  \n259480            1             20.0  \n259496            1             20.0  \n259498            1             20.0  \n259522            1             20.0  \n259531            1             20.0  \n259533            1             20.0  \n259539            1             20.0  \n259540            1             20.0  \n259544            1             20.0  \n259566            1             20.0  \n259571            1             20.0  \n259572            1             20.0  \n259584            1             20.0  \n259585            1             20.0  \n259593            1             20.0  \n259595            1             20.0  \n259607            1             20.0  \n259621            1             20.0  \n259623            1             20.0  \n259629            1             20.0  \n259638            1             20.0  \n259646            1             20.0  \n259647            1             20.0  \n259652            1             20.0  \n259658            1             20.0  \n259660            1             20.0  \n259662            1             20.0  \n259673            1             20.0  \n259677            1             20.0  \n259690            1             20.0  \n\n[50 rows x 26 columns]",
      "text/html": "<div>\n<style scoped>\n    .dataframe tbody tr th:only-of-type {\n        vertical-align: middle;\n    }\n\n    .dataframe tbody tr th {\n        vertical-align: top;\n    }\n\n    .dataframe thead th {\n        text-align: right;\n    }\n</style>\n<table border=\"1\" class=\"dataframe\">\n  <thead>\n    <tr style=\"text-align: right;\">\n      <th></th>\n      <th>order_id</th>\n      <th>system_date</th>\n      <th>time</th>\n      <th>group_classifier</th>\n      <th>classification</th>\n      <th>product</th>\n      <th>prod_state</th>\n      <th>price</th>\n      <th>quantity</th>\n      <th>to_pay_xprod</th>\n      <th>...</th>\n      <th>order_number</th>\n      <th>modification_date</th>\n      <th>modification_reason</th>\n      <th>is_cancelled</th>\n      <th>is_courtesy</th>\n      <th>delivery_name</th>\n      <th>order_type</th>\n      <th>price_alt</th>\n      <th>quantity_alt</th>\n      <th>to_pay_xprod_alt</th>\n    </tr>\n  </thead>\n  <tbody>\n    <tr>\n      <th>259397</th>\n      <td>421557</td>\n      <td>2019-11-21</td>\n      <td>1900-01-01 14:19:57</td>\n      <td>menu</td>\n      <td>delivery</td>\n      <td>delivery</td>\n      <td>activo</td>\n      <td>20.0</td>\n      <td>1</td>\n      <td>20.0</td>\n      <td>...</td>\n      <td>33</td>\n      <td>NaN</td>\n      <td>Ninguna</td>\n      <td>False</td>\n      <td>False</td>\n      <td>mr. delivery</td>\n      <td>delivery</td>\n      <td>20.0</td>\n      <td>1</td>\n      <td>20.0</td>\n    </tr>\n    <tr>\n      <th>259399</th>\n      <td>421558</td>\n      <td>2019-11-21</td>\n      <td>1900-01-01 14:23:18</td>\n      <td>menu</td>\n      <td>delivery</td>\n      <td>delivery</td>\n      <td>activo</td>\n      <td>20.0</td>\n      <td>1</td>\n      <td>20.0</td>\n      <td>...</td>\n      <td>34</td>\n      <td>NaN</td>\n      <td>Ninguna</td>\n      <td>False</td>\n      <td>False</td>\n      <td>mr. delivery</td>\n      <td>delivery</td>\n      <td>20.0</td>\n      <td>1</td>\n      <td>20.0</td>\n    </tr>\n    <tr>\n      <th>259400</th>\n      <td>421559</td>\n      <td>2019-11-21</td>\n      <td>1900-01-01 14:37:26</td>\n      <td>menu</td>\n      <td>delivery</td>\n      <td>delivery</td>\n      <td>activo</td>\n      <td>20.0</td>\n      <td>1</td>\n      <td>20.0</td>\n      <td>...</td>\n      <td>35</td>\n      <td>NaN</td>\n      <td>Ninguna</td>\n      <td>False</td>\n      <td>False</td>\n      <td>mr. delivery</td>\n      <td>delivery</td>\n      <td>20.0</td>\n      <td>1</td>\n      <td>20.0</td>\n    </tr>\n    <tr>\n      <th>259401</th>\n      <td>421560</td>\n      <td>2019-11-21</td>\n      <td>1900-01-01 14:45:52</td>\n      <td>menu</td>\n      <td>delivery</td>\n      <td>delivery</td>\n      <td>activo</td>\n      <td>20.0</td>\n      <td>1</td>\n      <td>20.0</td>\n      <td>...</td>\n      <td>36</td>\n      <td>NaN</td>\n      <td>Ninguna</td>\n      <td>False</td>\n      <td>False</td>\n      <td>mr. delivery</td>\n      <td>delivery</td>\n      <td>20.0</td>\n      <td>1</td>\n      <td>20.0</td>\n    </tr>\n    <tr>\n      <th>259402</th>\n      <td>421561</td>\n      <td>2019-11-21</td>\n      <td>1900-01-01 14:48:22</td>\n      <td>menu</td>\n      <td>delivery</td>\n      <td>delivery</td>\n      <td>activo</td>\n      <td>20.0</td>\n      <td>1</td>\n      <td>20.0</td>\n      <td>...</td>\n      <td>37</td>\n      <td>NaN</td>\n      <td>Ninguna</td>\n      <td>False</td>\n      <td>False</td>\n      <td>mr. delivery</td>\n      <td>delivery</td>\n      <td>20.0</td>\n      <td>1</td>\n      <td>20.0</td>\n    </tr>\n    <tr>\n      <th>259418</th>\n      <td>421572</td>\n      <td>2019-11-21</td>\n      <td>1900-01-01 16:59:24</td>\n      <td>menu</td>\n      <td>delivery</td>\n      <td>delivery</td>\n      <td>activo</td>\n      <td>20.0</td>\n      <td>1</td>\n      <td>20.0</td>\n      <td>...</td>\n      <td>48</td>\n      <td>NaN</td>\n      <td>Ninguna</td>\n      <td>False</td>\n      <td>False</td>\n      <td>mr. delivery</td>\n      <td>delivery</td>\n      <td>20.0</td>\n      <td>1</td>\n      <td>20.0</td>\n    </tr>\n    <tr>\n      <th>259419</th>\n      <td>421573</td>\n      <td>2019-11-21</td>\n      <td>1900-01-01 17:01:04</td>\n      <td>menu</td>\n      <td>delivery</td>\n      <td>delivery</td>\n      <td>activo</td>\n      <td>20.0</td>\n      <td>1</td>\n      <td>20.0</td>\n      <td>...</td>\n      <td>49</td>\n      <td>NaN</td>\n      <td>Ninguna</td>\n      <td>False</td>\n      <td>False</td>\n      <td>mr. delivery</td>\n      <td>delivery</td>\n      <td>20.0</td>\n      <td>1</td>\n      <td>20.0</td>\n    </tr>\n    <tr>\n      <th>259422</th>\n      <td>421576</td>\n      <td>2019-11-21</td>\n      <td>1900-01-01 17:10:24</td>\n      <td>menu</td>\n      <td>delivery</td>\n      <td>delivery</td>\n      <td>activo</td>\n      <td>20.0</td>\n      <td>1</td>\n      <td>20.0</td>\n      <td>...</td>\n      <td>52</td>\n      <td>NaN</td>\n      <td>Ninguna</td>\n      <td>False</td>\n      <td>False</td>\n      <td>mr. delivery</td>\n      <td>delivery</td>\n      <td>20.0</td>\n      <td>1</td>\n      <td>20.0</td>\n    </tr>\n    <tr>\n      <th>259430</th>\n      <td>421581</td>\n      <td>2019-11-21</td>\n      <td>1900-01-01 17:48:16</td>\n      <td>menu</td>\n      <td>delivery</td>\n      <td>delivery</td>\n      <td>activo</td>\n      <td>20.0</td>\n      <td>1</td>\n      <td>20.0</td>\n      <td>...</td>\n      <td>57</td>\n      <td>NaN</td>\n      <td>Ninguna</td>\n      <td>False</td>\n      <td>False</td>\n      <td>mr. delivery</td>\n      <td>delivery</td>\n      <td>20.0</td>\n      <td>1</td>\n      <td>20.0</td>\n    </tr>\n    <tr>\n      <th>259431</th>\n      <td>421582</td>\n      <td>2019-11-21</td>\n      <td>1900-01-01 17:50:23</td>\n      <td>menu</td>\n      <td>delivery</td>\n      <td>delivery</td>\n      <td>activo</td>\n      <td>20.0</td>\n      <td>1</td>\n      <td>20.0</td>\n      <td>...</td>\n      <td>58</td>\n      <td>NaN</td>\n      <td>Ninguna</td>\n      <td>False</td>\n      <td>False</td>\n      <td>mr. delivery</td>\n      <td>delivery</td>\n      <td>20.0</td>\n      <td>1</td>\n      <td>20.0</td>\n    </tr>\n    <tr>\n      <th>259432</th>\n      <td>421583</td>\n      <td>2019-11-21</td>\n      <td>1900-01-01 17:59:33</td>\n      <td>menu</td>\n      <td>delivery</td>\n      <td>delivery</td>\n      <td>activo</td>\n      <td>20.0</td>\n      <td>1</td>\n      <td>20.0</td>\n      <td>...</td>\n      <td>59</td>\n      <td>NaN</td>\n      <td>Ninguna</td>\n      <td>False</td>\n      <td>False</td>\n      <td>mr. delivery</td>\n      <td>delivery</td>\n      <td>20.0</td>\n      <td>1</td>\n      <td>20.0</td>\n    </tr>\n    <tr>\n      <th>259441</th>\n      <td>421589</td>\n      <td>2019-11-21</td>\n      <td>1900-01-01 18:20:37</td>\n      <td>menu</td>\n      <td>delivery</td>\n      <td>delivery</td>\n      <td>activo</td>\n      <td>20.0</td>\n      <td>1</td>\n      <td>20.0</td>\n      <td>...</td>\n      <td>1</td>\n      <td>NaN</td>\n      <td>Ninguna</td>\n      <td>False</td>\n      <td>False</td>\n      <td>mr. delivery</td>\n      <td>delivery</td>\n      <td>20.0</td>\n      <td>1</td>\n      <td>20.0</td>\n    </tr>\n    <tr>\n      <th>259449</th>\n      <td>421595</td>\n      <td>2019-11-21</td>\n      <td>1900-01-01 18:47:20</td>\n      <td>menu</td>\n      <td>delivery</td>\n      <td>delivery</td>\n      <td>activo</td>\n      <td>20.0</td>\n      <td>1</td>\n      <td>20.0</td>\n      <td>...</td>\n      <td>7</td>\n      <td>NaN</td>\n      <td>Ninguna</td>\n      <td>False</td>\n      <td>False</td>\n      <td>mr. delivery</td>\n      <td>delivery</td>\n      <td>20.0</td>\n      <td>1</td>\n      <td>20.0</td>\n    </tr>\n    <tr>\n      <th>259452</th>\n      <td>421598</td>\n      <td>2019-11-21</td>\n      <td>1900-01-01 19:02:11</td>\n      <td>menu</td>\n      <td>delivery</td>\n      <td>delivery</td>\n      <td>activo</td>\n      <td>20.0</td>\n      <td>1</td>\n      <td>20.0</td>\n      <td>...</td>\n      <td>10</td>\n      <td>NaN</td>\n      <td>Ninguna</td>\n      <td>False</td>\n      <td>False</td>\n      <td>mr. delivery</td>\n      <td>delivery</td>\n      <td>20.0</td>\n      <td>1</td>\n      <td>20.0</td>\n    </tr>\n    <tr>\n      <th>259458</th>\n      <td>422412</td>\n      <td>2019-11-21</td>\n      <td>1900-01-01 19:43:22</td>\n      <td>menu</td>\n      <td>delivery</td>\n      <td>delivery</td>\n      <td>activo</td>\n      <td>20.0</td>\n      <td>1</td>\n      <td>20.0</td>\n      <td>...</td>\n      <td>13</td>\n      <td>NaN</td>\n      <td>Ninguna</td>\n      <td>False</td>\n      <td>False</td>\n      <td>mr. delivery</td>\n      <td>delivery</td>\n      <td>20.0</td>\n      <td>1</td>\n      <td>20.0</td>\n    </tr>\n    <tr>\n      <th>259461</th>\n      <td>422413</td>\n      <td>2019-11-21</td>\n      <td>1900-01-01 19:43:34</td>\n      <td>menu</td>\n      <td>delivery</td>\n      <td>delivery</td>\n      <td>activo</td>\n      <td>20.0</td>\n      <td>1</td>\n      <td>20.0</td>\n      <td>...</td>\n      <td>14</td>\n      <td>NaN</td>\n      <td>Ninguna</td>\n      <td>False</td>\n      <td>False</td>\n      <td>mr. delivery</td>\n      <td>delivery</td>\n      <td>20.0</td>\n      <td>1</td>\n      <td>20.0</td>\n    </tr>\n    <tr>\n      <th>259467</th>\n      <td>422418</td>\n      <td>2019-11-21</td>\n      <td>1900-01-01 20:04:40</td>\n      <td>menu</td>\n      <td>delivery</td>\n      <td>delivery</td>\n      <td>activo</td>\n      <td>20.0</td>\n      <td>1</td>\n      <td>20.0</td>\n      <td>...</td>\n      <td>19</td>\n      <td>NaN</td>\n      <td>Ninguna</td>\n      <td>False</td>\n      <td>False</td>\n      <td>mr. delivery</td>\n      <td>delivery</td>\n      <td>20.0</td>\n      <td>1</td>\n      <td>20.0</td>\n    </tr>\n    <tr>\n      <th>259470</th>\n      <td>422419</td>\n      <td>2019-11-21</td>\n      <td>1900-01-01 20:06:36</td>\n      <td>menu</td>\n      <td>delivery</td>\n      <td>delivery</td>\n      <td>activo</td>\n      <td>20.0</td>\n      <td>1</td>\n      <td>20.0</td>\n      <td>...</td>\n      <td>20</td>\n      <td>NaN</td>\n      <td>Ninguna</td>\n      <td>False</td>\n      <td>False</td>\n      <td>mr. delivery</td>\n      <td>delivery</td>\n      <td>20.0</td>\n      <td>1</td>\n      <td>20.0</td>\n    </tr>\n    <tr>\n      <th>259475</th>\n      <td>422421</td>\n      <td>2019-11-21</td>\n      <td>1900-01-01 20:09:20</td>\n      <td>menu</td>\n      <td>delivery</td>\n      <td>delivery</td>\n      <td>activo</td>\n      <td>20.0</td>\n      <td>1</td>\n      <td>20.0</td>\n      <td>...</td>\n      <td>22</td>\n      <td>NaN</td>\n      <td>Ninguna</td>\n      <td>False</td>\n      <td>False</td>\n      <td>mr. delivery</td>\n      <td>delivery</td>\n      <td>20.0</td>\n      <td>1</td>\n      <td>20.0</td>\n    </tr>\n    <tr>\n      <th>259478</th>\n      <td>422423</td>\n      <td>2019-11-21</td>\n      <td>1900-01-01 20:15:38</td>\n      <td>menu</td>\n      <td>delivery</td>\n      <td>delivery</td>\n      <td>activo</td>\n      <td>20.0</td>\n      <td>1</td>\n      <td>20.0</td>\n      <td>...</td>\n      <td>24</td>\n      <td>NaN</td>\n      <td>Ninguna</td>\n      <td>False</td>\n      <td>False</td>\n      <td>mr. delivery</td>\n      <td>delivery</td>\n      <td>20.0</td>\n      <td>1</td>\n      <td>20.0</td>\n    </tr>\n    <tr>\n      <th>259480</th>\n      <td>422424</td>\n      <td>2019-11-21</td>\n      <td>1900-01-01 20:17:30</td>\n      <td>menu</td>\n      <td>delivery</td>\n      <td>delivery</td>\n      <td>activo</td>\n      <td>20.0</td>\n      <td>1</td>\n      <td>20.0</td>\n      <td>...</td>\n      <td>25</td>\n      <td>NaN</td>\n      <td>Ninguna</td>\n      <td>False</td>\n      <td>False</td>\n      <td>mr. delivery</td>\n      <td>delivery</td>\n      <td>20.0</td>\n      <td>1</td>\n      <td>20.0</td>\n    </tr>\n    <tr>\n      <th>259496</th>\n      <td>422437</td>\n      <td>2019-11-22</td>\n      <td>1900-01-01 17:34:15</td>\n      <td>menu</td>\n      <td>delivery</td>\n      <td>delivery</td>\n      <td>activo</td>\n      <td>20.0</td>\n      <td>1</td>\n      <td>20.0</td>\n      <td>...</td>\n      <td>4</td>\n      <td>NaN</td>\n      <td>Ninguna</td>\n      <td>False</td>\n      <td>False</td>\n      <td>mr. delivery</td>\n      <td>delivery</td>\n      <td>20.0</td>\n      <td>1</td>\n      <td>20.0</td>\n    </tr>\n    <tr>\n      <th>259498</th>\n      <td>422439</td>\n      <td>2019-11-22</td>\n      <td>1900-01-01 17:52:25</td>\n      <td>menu</td>\n      <td>delivery</td>\n      <td>delivery</td>\n      <td>activo</td>\n      <td>20.0</td>\n      <td>1</td>\n      <td>20.0</td>\n      <td>...</td>\n      <td>6</td>\n      <td>NaN</td>\n      <td>Ninguna</td>\n      <td>False</td>\n      <td>False</td>\n      <td>mr. delivery</td>\n      <td>delivery</td>\n      <td>20.0</td>\n      <td>1</td>\n      <td>20.0</td>\n    </tr>\n    <tr>\n      <th>259522</th>\n      <td>422459</td>\n      <td>2019-11-22</td>\n      <td>1900-01-01 19:22:49</td>\n      <td>menu</td>\n      <td>delivery</td>\n      <td>delivery</td>\n      <td>activo</td>\n      <td>20.0</td>\n      <td>1</td>\n      <td>20.0</td>\n      <td>...</td>\n      <td>26</td>\n      <td>NaN</td>\n      <td>Ninguna</td>\n      <td>False</td>\n      <td>False</td>\n      <td>mr. delivery</td>\n      <td>delivery</td>\n      <td>20.0</td>\n      <td>1</td>\n      <td>20.0</td>\n    </tr>\n    <tr>\n      <th>259531</th>\n      <td>422466</td>\n      <td>2019-11-22</td>\n      <td>1900-01-01 19:35:19</td>\n      <td>menu</td>\n      <td>delivery</td>\n      <td>delivery</td>\n      <td>activo</td>\n      <td>20.0</td>\n      <td>1</td>\n      <td>20.0</td>\n      <td>...</td>\n      <td>33</td>\n      <td>NaN</td>\n      <td>Ninguna</td>\n      <td>False</td>\n      <td>False</td>\n      <td>mr. delivery</td>\n      <td>delivery</td>\n      <td>20.0</td>\n      <td>1</td>\n      <td>20.0</td>\n    </tr>\n    <tr>\n      <th>259533</th>\n      <td>422467</td>\n      <td>2019-11-22</td>\n      <td>1900-01-01 19:38:42</td>\n      <td>menu</td>\n      <td>delivery</td>\n      <td>delivery</td>\n      <td>activo</td>\n      <td>20.0</td>\n      <td>1</td>\n      <td>20.0</td>\n      <td>...</td>\n      <td>34</td>\n      <td>NaN</td>\n      <td>Ninguna</td>\n      <td>False</td>\n      <td>False</td>\n      <td>mr. delivery</td>\n      <td>delivery</td>\n      <td>20.0</td>\n      <td>1</td>\n      <td>20.0</td>\n    </tr>\n    <tr>\n      <th>259539</th>\n      <td>422471</td>\n      <td>2019-11-22</td>\n      <td>1900-01-01 19:45:19</td>\n      <td>menu</td>\n      <td>delivery</td>\n      <td>delivery</td>\n      <td>activo</td>\n      <td>20.0</td>\n      <td>1</td>\n      <td>20.0</td>\n      <td>...</td>\n      <td>38</td>\n      <td>NaN</td>\n      <td>Ninguna</td>\n      <td>False</td>\n      <td>False</td>\n      <td>mr. delivery</td>\n      <td>delivery</td>\n      <td>20.0</td>\n      <td>1</td>\n      <td>20.0</td>\n    </tr>\n    <tr>\n      <th>259540</th>\n      <td>422472</td>\n      <td>2019-11-22</td>\n      <td>1900-01-01 19:46:04</td>\n      <td>menu</td>\n      <td>delivery</td>\n      <td>delivery</td>\n      <td>activo</td>\n      <td>20.0</td>\n      <td>1</td>\n      <td>20.0</td>\n      <td>...</td>\n      <td>39</td>\n      <td>NaN</td>\n      <td>Ninguna</td>\n      <td>False</td>\n      <td>False</td>\n      <td>mr. delivery</td>\n      <td>delivery</td>\n      <td>20.0</td>\n      <td>1</td>\n      <td>20.0</td>\n    </tr>\n    <tr>\n      <th>259544</th>\n      <td>422474</td>\n      <td>2019-11-22</td>\n      <td>1900-01-01 20:03:46</td>\n      <td>menu</td>\n      <td>delivery</td>\n      <td>delivery</td>\n      <td>activo</td>\n      <td>20.0</td>\n      <td>1</td>\n      <td>20.0</td>\n      <td>...</td>\n      <td>41</td>\n      <td>NaN</td>\n      <td>Ninguna</td>\n      <td>False</td>\n      <td>False</td>\n      <td>mr. delivery</td>\n      <td>delivery</td>\n      <td>20.0</td>\n      <td>1</td>\n      <td>20.0</td>\n    </tr>\n    <tr>\n      <th>259566</th>\n      <td>422490</td>\n      <td>2019-11-22</td>\n      <td>1900-01-01 20:52:41</td>\n      <td>menu</td>\n      <td>delivery</td>\n      <td>delivery</td>\n      <td>activo</td>\n      <td>20.0</td>\n      <td>1</td>\n      <td>20.0</td>\n      <td>...</td>\n      <td>57</td>\n      <td>NaN</td>\n      <td>Ninguna</td>\n      <td>False</td>\n      <td>False</td>\n      <td>mr. delivery</td>\n      <td>delivery</td>\n      <td>20.0</td>\n      <td>1</td>\n      <td>20.0</td>\n    </tr>\n    <tr>\n      <th>259571</th>\n      <td>423412</td>\n      <td>2019-11-22</td>\n      <td>1900-01-01 21:17:04</td>\n      <td>menu</td>\n      <td>delivery</td>\n      <td>delivery</td>\n      <td>activo</td>\n      <td>20.0</td>\n      <td>1</td>\n      <td>20.0</td>\n      <td>...</td>\n      <td>61</td>\n      <td>NaN</td>\n      <td>Ninguna</td>\n      <td>False</td>\n      <td>False</td>\n      <td>mr. delivery</td>\n      <td>delivery</td>\n      <td>20.0</td>\n      <td>1</td>\n      <td>20.0</td>\n    </tr>\n    <tr>\n      <th>259572</th>\n      <td>423413</td>\n      <td>2019-11-22</td>\n      <td>1900-01-01 21:18:15</td>\n      <td>menu</td>\n      <td>delivery</td>\n      <td>delivery</td>\n      <td>activo</td>\n      <td>20.0</td>\n      <td>1</td>\n      <td>20.0</td>\n      <td>...</td>\n      <td>62</td>\n      <td>NaN</td>\n      <td>Ninguna</td>\n      <td>False</td>\n      <td>False</td>\n      <td>mr. delivery</td>\n      <td>delivery</td>\n      <td>20.0</td>\n      <td>1</td>\n      <td>20.0</td>\n    </tr>\n    <tr>\n      <th>259584</th>\n      <td>423421</td>\n      <td>2019-11-23</td>\n      <td>1900-01-01 13:20:00</td>\n      <td>menu</td>\n      <td>delivery</td>\n      <td>delivery</td>\n      <td>activo</td>\n      <td>20.0</td>\n      <td>1</td>\n      <td>20.0</td>\n      <td>...</td>\n      <td>4</td>\n      <td>NaN</td>\n      <td>Ninguna</td>\n      <td>False</td>\n      <td>False</td>\n      <td>mr. delivery</td>\n      <td>delivery</td>\n      <td>20.0</td>\n      <td>1</td>\n      <td>20.0</td>\n    </tr>\n    <tr>\n      <th>259585</th>\n      <td>423422</td>\n      <td>2019-11-23</td>\n      <td>1900-01-01 13:23:40</td>\n      <td>menu</td>\n      <td>delivery</td>\n      <td>delivery</td>\n      <td>activo</td>\n      <td>20.0</td>\n      <td>1</td>\n      <td>20.0</td>\n      <td>...</td>\n      <td>5</td>\n      <td>NaN</td>\n      <td>Ninguna</td>\n      <td>False</td>\n      <td>False</td>\n      <td>mr. delivery</td>\n      <td>delivery</td>\n      <td>20.0</td>\n      <td>1</td>\n      <td>20.0</td>\n    </tr>\n    <tr>\n      <th>259593</th>\n      <td>423428</td>\n      <td>2019-11-23</td>\n      <td>1900-01-01 13:41:14</td>\n      <td>menu</td>\n      <td>delivery</td>\n      <td>delivery</td>\n      <td>activo</td>\n      <td>20.0</td>\n      <td>1</td>\n      <td>20.0</td>\n      <td>...</td>\n      <td>11</td>\n      <td>NaN</td>\n      <td>Ninguna</td>\n      <td>False</td>\n      <td>False</td>\n      <td>mr. delivery</td>\n      <td>delivery</td>\n      <td>20.0</td>\n      <td>1</td>\n      <td>20.0</td>\n    </tr>\n    <tr>\n      <th>259595</th>\n      <td>423429</td>\n      <td>2019-11-23</td>\n      <td>1900-01-01 13:49:18</td>\n      <td>menu</td>\n      <td>delivery</td>\n      <td>delivery</td>\n      <td>activo</td>\n      <td>20.0</td>\n      <td>1</td>\n      <td>20.0</td>\n      <td>...</td>\n      <td>12</td>\n      <td>NaN</td>\n      <td>Ninguna</td>\n      <td>False</td>\n      <td>False</td>\n      <td>mr. delivery</td>\n      <td>delivery</td>\n      <td>20.0</td>\n      <td>1</td>\n      <td>20.0</td>\n    </tr>\n    <tr>\n      <th>259607</th>\n      <td>423435</td>\n      <td>2019-11-23</td>\n      <td>1900-01-01 14:22:52</td>\n      <td>menu</td>\n      <td>delivery</td>\n      <td>delivery</td>\n      <td>activo</td>\n      <td>20.0</td>\n      <td>1</td>\n      <td>20.0</td>\n      <td>...</td>\n      <td>18</td>\n      <td>NaN</td>\n      <td>Ninguna</td>\n      <td>False</td>\n      <td>False</td>\n      <td>mr. delivery</td>\n      <td>delivery</td>\n      <td>20.0</td>\n      <td>1</td>\n      <td>20.0</td>\n    </tr>\n    <tr>\n      <th>259621</th>\n      <td>423446</td>\n      <td>2019-11-23</td>\n      <td>1900-01-01 15:24:26</td>\n      <td>menu</td>\n      <td>delivery</td>\n      <td>delivery</td>\n      <td>activo</td>\n      <td>20.0</td>\n      <td>1</td>\n      <td>20.0</td>\n      <td>...</td>\n      <td>29</td>\n      <td>NaN</td>\n      <td>Ninguna</td>\n      <td>False</td>\n      <td>False</td>\n      <td>mr. delivery</td>\n      <td>delivery</td>\n      <td>20.0</td>\n      <td>1</td>\n      <td>20.0</td>\n    </tr>\n    <tr>\n      <th>259623</th>\n      <td>423447</td>\n      <td>2019-11-23</td>\n      <td>1900-01-01 15:31:57</td>\n      <td>menu</td>\n      <td>delivery</td>\n      <td>delivery</td>\n      <td>activo</td>\n      <td>20.0</td>\n      <td>1</td>\n      <td>20.0</td>\n      <td>...</td>\n      <td>30</td>\n      <td>NaN</td>\n      <td>Ninguna</td>\n      <td>False</td>\n      <td>False</td>\n      <td>mr. delivery</td>\n      <td>delivery</td>\n      <td>20.0</td>\n      <td>1</td>\n      <td>20.0</td>\n    </tr>\n    <tr>\n      <th>259629</th>\n      <td>423452</td>\n      <td>2019-11-23</td>\n      <td>1900-01-01 16:05:46</td>\n      <td>menu</td>\n      <td>delivery</td>\n      <td>delivery</td>\n      <td>activo</td>\n      <td>20.0</td>\n      <td>1</td>\n      <td>20.0</td>\n      <td>...</td>\n      <td>35</td>\n      <td>NaN</td>\n      <td>Ninguna</td>\n      <td>False</td>\n      <td>False</td>\n      <td>mr. delivery</td>\n      <td>delivery</td>\n      <td>20.0</td>\n      <td>1</td>\n      <td>20.0</td>\n    </tr>\n    <tr>\n      <th>259638</th>\n      <td>423459</td>\n      <td>2019-11-23</td>\n      <td>1900-01-01 17:28:46</td>\n      <td>menu</td>\n      <td>delivery</td>\n      <td>delivery</td>\n      <td>activo</td>\n      <td>20.0</td>\n      <td>1</td>\n      <td>20.0</td>\n      <td>...</td>\n      <td>42</td>\n      <td>NaN</td>\n      <td>Ninguna</td>\n      <td>False</td>\n      <td>False</td>\n      <td>mr. delivery</td>\n      <td>delivery</td>\n      <td>20.0</td>\n      <td>1</td>\n      <td>20.0</td>\n    </tr>\n    <tr>\n      <th>259646</th>\n      <td>423466</td>\n      <td>2019-11-23</td>\n      <td>1900-01-01 18:32:05</td>\n      <td>menu</td>\n      <td>delivery</td>\n      <td>delivery</td>\n      <td>activo</td>\n      <td>20.0</td>\n      <td>1</td>\n      <td>20.0</td>\n      <td>...</td>\n      <td>49</td>\n      <td>NaN</td>\n      <td>Ninguna</td>\n      <td>False</td>\n      <td>False</td>\n      <td>mr. delivery</td>\n      <td>delivery</td>\n      <td>20.0</td>\n      <td>1</td>\n      <td>20.0</td>\n    </tr>\n    <tr>\n      <th>259647</th>\n      <td>423467</td>\n      <td>2019-11-23</td>\n      <td>1900-01-01 19:04:34</td>\n      <td>menu</td>\n      <td>delivery</td>\n      <td>delivery</td>\n      <td>activo</td>\n      <td>20.0</td>\n      <td>1</td>\n      <td>20.0</td>\n      <td>...</td>\n      <td>50</td>\n      <td>NaN</td>\n      <td>Ninguna</td>\n      <td>False</td>\n      <td>False</td>\n      <td>mr. delivery</td>\n      <td>delivery</td>\n      <td>20.0</td>\n      <td>1</td>\n      <td>20.0</td>\n    </tr>\n    <tr>\n      <th>259652</th>\n      <td>423470</td>\n      <td>2019-11-24</td>\n      <td>1900-01-01 12:33:32</td>\n      <td>menu</td>\n      <td>delivery</td>\n      <td>delivery</td>\n      <td>activo</td>\n      <td>20.0</td>\n      <td>1</td>\n      <td>20.0</td>\n      <td>...</td>\n      <td>2</td>\n      <td>NaN</td>\n      <td>Ninguna</td>\n      <td>False</td>\n      <td>False</td>\n      <td>mr. delivery</td>\n      <td>delivery</td>\n      <td>20.0</td>\n      <td>1</td>\n      <td>20.0</td>\n    </tr>\n    <tr>\n      <th>259658</th>\n      <td>423472</td>\n      <td>2019-11-24</td>\n      <td>1900-01-01 12:49:59</td>\n      <td>menu</td>\n      <td>delivery</td>\n      <td>delivery</td>\n      <td>activo</td>\n      <td>20.0</td>\n      <td>1</td>\n      <td>20.0</td>\n      <td>...</td>\n      <td>4</td>\n      <td>NaN</td>\n      <td>Ninguna</td>\n      <td>False</td>\n      <td>False</td>\n      <td>mr. delivery</td>\n      <td>delivery</td>\n      <td>20.0</td>\n      <td>1</td>\n      <td>20.0</td>\n    </tr>\n    <tr>\n      <th>259660</th>\n      <td>423474</td>\n      <td>2019-11-24</td>\n      <td>1900-01-01 13:00:29</td>\n      <td>menu</td>\n      <td>delivery</td>\n      <td>delivery</td>\n      <td>activo</td>\n      <td>20.0</td>\n      <td>1</td>\n      <td>20.0</td>\n      <td>...</td>\n      <td>6</td>\n      <td>NaN</td>\n      <td>Ninguna</td>\n      <td>False</td>\n      <td>False</td>\n      <td>mr. delivery</td>\n      <td>delivery</td>\n      <td>20.0</td>\n      <td>1</td>\n      <td>20.0</td>\n    </tr>\n    <tr>\n      <th>259662</th>\n      <td>423476</td>\n      <td>2019-11-24</td>\n      <td>1900-01-01 13:07:04</td>\n      <td>menu</td>\n      <td>delivery</td>\n      <td>delivery</td>\n      <td>activo</td>\n      <td>20.0</td>\n      <td>1</td>\n      <td>20.0</td>\n      <td>...</td>\n      <td>8</td>\n      <td>NaN</td>\n      <td>Ninguna</td>\n      <td>False</td>\n      <td>False</td>\n      <td>mr. delivery</td>\n      <td>delivery</td>\n      <td>20.0</td>\n      <td>1</td>\n      <td>20.0</td>\n    </tr>\n    <tr>\n      <th>259673</th>\n      <td>423480</td>\n      <td>2019-11-24</td>\n      <td>1900-01-01 13:38:21</td>\n      <td>menu</td>\n      <td>delivery</td>\n      <td>delivery</td>\n      <td>activo</td>\n      <td>20.0</td>\n      <td>1</td>\n      <td>20.0</td>\n      <td>...</td>\n      <td>12</td>\n      <td>NaN</td>\n      <td>Ninguna</td>\n      <td>False</td>\n      <td>False</td>\n      <td>mr. delivery</td>\n      <td>delivery</td>\n      <td>20.0</td>\n      <td>1</td>\n      <td>20.0</td>\n    </tr>\n    <tr>\n      <th>259677</th>\n      <td>423482</td>\n      <td>2019-11-24</td>\n      <td>1900-01-01 13:46:15</td>\n      <td>menu</td>\n      <td>delivery</td>\n      <td>delivery</td>\n      <td>activo</td>\n      <td>20.0</td>\n      <td>1</td>\n      <td>20.0</td>\n      <td>...</td>\n      <td>14</td>\n      <td>NaN</td>\n      <td>Ninguna</td>\n      <td>False</td>\n      <td>False</td>\n      <td>mr. delivery</td>\n      <td>delivery</td>\n      <td>20.0</td>\n      <td>1</td>\n      <td>20.0</td>\n    </tr>\n    <tr>\n      <th>259690</th>\n      <td>423493</td>\n      <td>2019-11-24</td>\n      <td>1900-01-01 14:17:07</td>\n      <td>menu</td>\n      <td>delivery</td>\n      <td>delivery</td>\n      <td>activo</td>\n      <td>20.0</td>\n      <td>1</td>\n      <td>20.0</td>\n      <td>...</td>\n      <td>25</td>\n      <td>NaN</td>\n      <td>Ninguna</td>\n      <td>False</td>\n      <td>False</td>\n      <td>mr. delivery</td>\n      <td>delivery</td>\n      <td>20.0</td>\n      <td>1</td>\n      <td>20.0</td>\n    </tr>\n  </tbody>\n</table>\n<p>50 rows × 26 columns</p>\n</div>"
     },
     "execution_count": 151,
     "metadata": {},
     "output_type": "execute_result"
    }
   ],
   "execution_count": 151
  },
  {
   "cell_type": "markdown",
   "id": "6c1199d547b4b57",
   "metadata": {},
   "source": [
    "a delivery is such, when: \n",
    "price is 1 and quantity is other value\n",
    "or when\n",
    "price is other value and quantity is 1"
   ]
  },
  {
   "cell_type": "markdown",
   "id": "27598075a0fc881b",
   "metadata": {},
   "source": [
    "price =1, quantity ='n'\n"
   ]
  },
  {
   "cell_type": "code",
   "id": "4b8eae01681db75f",
   "metadata": {
    "ExecuteTime": {
     "end_time": "2024-07-03T20:44:09.316089600Z",
     "start_time": "2024-07-03T20:44:08.641896800Z"
    }
   },
   "source": [
    "#will be placed with 0 because it is not a product price but delivery \n",
    "resta_df.loc[(resta_df['order_type']=='delivery')&(resta_df['price_alt']==1)&(resta_df['quantity_alt']!=1), 'price'] = 0"
   ],
   "outputs": [],
   "execution_count": 152
  },
  {
   "cell_type": "code",
   "id": "5d960dcacc777a3b",
   "metadata": {
    "ExecuteTime": {
     "end_time": "2024-07-03T20:44:09.710055500Z",
     "start_time": "2024-07-03T20:44:08.758701800Z"
    }
   },
   "source": [
    "#will be placed with 0 because it is not a product quantity but delivery \n",
    "resta_df.loc[(resta_df['order_type']=='delivery')&(resta_df['price_alt']==1)&(resta_df['quantity_alt']!=1), 'quantity'] = 0"
   ],
   "outputs": [],
   "execution_count": 153
  },
  {
   "cell_type": "code",
   "id": "6648f26c71249aeb",
   "metadata": {
    "ExecuteTime": {
     "end_time": "2024-07-03T20:44:09.720305500Z",
     "start_time": "2024-07-03T20:44:08.920706100Z"
    }
   },
   "source": [
    "#will be placed with 0 because it is not a product but delivery\n",
    "resta_df.loc[(resta_df['order_type']=='delivery')&(resta_df['price_alt']==1)&(resta_df['quantity_alt']!=1), 'to_pay_xprod'] = 0"
   ],
   "outputs": [],
   "execution_count": 154
  },
  {
   "cell_type": "markdown",
   "id": "6166101edeba97b7",
   "metadata": {},
   "source": [
    "price = 'n', quantity = 1"
   ]
  },
  {
   "cell_type": "code",
   "id": "8a4be645d1b40b54",
   "metadata": {
    "ExecuteTime": {
     "end_time": "2024-07-03T20:44:09.911102200Z",
     "start_time": "2024-07-03T20:44:09.094712200Z"
    }
   },
   "source": [
    "#will be placed with 0 because it is not a product price but delivery \n",
    "resta_df.loc[(resta_df['order_type'] == 'delivery') & (resta_df['price_alt'] != 1) & (resta_df['quantity_alt'] == 1), 'price'] = 0\n",
    "#will be placed with 0 because it is not a product quantity but delivery \n",
    "resta_df.loc[(resta_df['order_type'] == 'delivery') & (resta_df['price_alt'] != 1) & (resta_df['quantity_alt'] == 1), 'quantity'] = 0\n",
    "#will be placed with 0 because it is not a product but delivery\n",
    "resta_df.loc[(resta_df['order_type'] == 'delivery') & (resta_df['price_alt'] != 1) & (resta_df['quantity_alt'] == 1), 'to_pay_xprod'] = 0"
   ],
   "outputs": [],
   "execution_count": 155
  },
  {
   "cell_type": "markdown",
   "id": "c393694a3550d3e4",
   "metadata": {},
   "source": [
    "price = 1, quantity = 1"
   ]
  },
  {
   "cell_type": "code",
   "id": "7e7c764f422dc137",
   "metadata": {
    "ExecuteTime": {
     "end_time": "2024-07-03T20:44:10.241499200Z",
     "start_time": "2024-07-03T20:44:09.306519700Z"
    }
   },
   "source": [
    "#will be placed with 0 because it is not a product price but delivery \n",
    "resta_df.loc[(resta_df['order_type'] == 'delivery') & (resta_df['price_alt'] == 1) & (resta_df['quantity_alt'] == 1), 'price'] = 0\n",
    "#will be placed with 0 because it is not a product quantity but delivery \n",
    "resta_df.loc[(resta_df['order_type'] == 'delivery') & (resta_df['price_alt'] == 1) & (resta_df['quantity_alt'] == 1), 'quantity'] = 0\n",
    "#will be placed with 0 because it is not a product but delivery\n",
    "resta_df.loc[(resta_df['order_type'] == 'delivery') & (resta_df['price_alt'] == 1) & (resta_df['quantity_alt'] == 1), 'to_pay_xprod'] = 0"
   ],
   "outputs": [],
   "execution_count": 156
  },
  {
   "cell_type": "code",
   "id": "64afdae9900fc27a",
   "metadata": {
    "ExecuteTime": {
     "end_time": "2024-07-03T20:44:10.296126Z",
     "start_time": "2024-07-03T20:44:09.466784400Z"
    }
   },
   "source": [
    "resta_df[resta_df['order_type'] == 'delivery'].sample(20)"
   ],
   "outputs": [
    {
     "data": {
      "text/plain": "        order_id system_date                time group_classifier   \n333692    486269  2020-12-19 1900-01-01 15:14:30             menu  \\\n301580    466267  2020-07-08 1900-01-01 11:37:20             menu   \n466054    565443  2022-06-21 1900-01-01 19:16:36             menu   \n312067    474657  2020-09-19 1900-01-01 12:35:04             menu   \n390288    521695  2021-08-17 1900-01-01 17:15:12             menu   \n431431    547567  2022-01-30 1900-01-01 17:30:30             menu   \n420166    541033  2021-12-12 1900-01-01 12:53:41             menu   \n325918    482541  2020-11-18 1900-01-01 21:09:19             menu   \n490344    577524  2022-10-07 1900-01-01 15:49:32             menu   \n387031    520144  2021-08-04 1900-01-01 13:42:21             menu   \n322830    481027  2020-11-07 1900-01-01 12:55:38             menu   \n488291    576485  2022-09-27 1900-01-01 12:58:37             menu   \n394592    523740  2021-09-03 1900-01-01 18:19:28             menu   \n504834    585751  2022-12-15 1900-01-01 13:57:57             menu   \n441920    552679  2022-03-15 1900-01-01 17:31:02             menu   \n420164    541032  2021-12-12 1900-01-01 12:33:38             menu   \n311992    474617  2020-09-18 1900-01-01 19:03:26             menu   \n393828    523367  2021-08-31 1900-01-01 17:53:41             menu   \n298297    464704  2020-06-16 1900-01-01 17:14:00             menu   \n402557    531565  2021-10-04 1900-01-01 12:57:41             menu   \n\n       classification   product prod_state  price  quantity  to_pay_xprod   \n333692       delivery  delivery     activo    0.0         0           0.0  \\\n301580       delivery  delivery     activo    0.0         0           0.0   \n466054       delivery  delivery     activo    0.0         0           0.0   \n312067       delivery  delivery     activo    0.0         0           0.0   \n390288       delivery  delivery     activo    0.0         0           0.0   \n431431       delivery  delivery     activo    0.0         0           0.0   \n420166       delivery  delivery     activo    0.0         0           0.0   \n325918       delivery  delivery     activo    0.0         0           0.0   \n490344       delivery  delivery     activo    0.0         0           0.0   \n387031       delivery  delivery     activo    0.0         0           0.0   \n322830       delivery  delivery     activo    0.0         0           0.0   \n488291       delivery  delivery     activo    0.0         0           0.0   \n394592       delivery  delivery     activo    0.0         0           0.0   \n504834       delivery  delivery     activo    0.0         0           0.0   \n441920       delivery  delivery     activo    0.0         0           0.0   \n420164       delivery  delivery     activo    0.0         0           0.0   \n311992       delivery  delivery     activo    0.0         0           0.0   \n393828       delivery  delivery     activo    0.0         0           0.0   \n298297       delivery  delivery     activo    0.0         0           0.0   \n402557       delivery  delivery     activo    0.0         0           0.0   \n\n        ...  order_number modification_date  modification_reason   \n333692  ...            54               NaN              Ninguna  \\\n301580  ...             3               NaN              Ninguna   \n466054  ...            73               NaN              Ninguna   \n312067  ...            14               NaN              Ninguna   \n390288  ...            60               NaN              Ninguna   \n431431  ...            56               NaN              Ninguna   \n420166  ...             7               NaN              Ninguna   \n325918  ...           114               NaN              Ninguna   \n490344  ...            57               NaN              Ninguna   \n387031  ...            19               NaN              Ninguna   \n322830  ...            20               NaN              Ninguna   \n488291  ...            17               NaN              Ninguna   \n394592  ...            71               NaN              Ninguna   \n504834  ...            27               NaN              Ninguna   \n441920  ...             3               NaN              Ninguna   \n420164  ...             6               NaN              Ninguna   \n311992  ...            65               NaN              Ninguna   \n393828  ...            57               NaN              Ninguna   \n298297  ...            44               NaN              Ninguna   \n402557  ...            15               NaN              Ninguna   \n\n        is_cancelled  is_courtesy delivery_name  order_type price_alt   \n333692         False        False         yaigo    delivery       1.0  \\\n301580         False        False    pedidos ya    delivery       1.0   \n466054         False        False    pedidos ya    delivery       1.0   \n312067         False        False         yaigo    delivery       1.0   \n390288         False        False         yaigo    delivery       1.0   \n431431         False        False    pedidos ya    delivery       1.0   \n420166         False        False    pedidos ya    delivery       1.0   \n325918         False        False    pedidos ya    delivery       1.0   \n490344         False        False    pedidos ya    delivery       1.0   \n387031         False        False    pedidos ya    delivery       1.0   \n322830         False        False         yaigo    delivery       1.0   \n488291         False        False    pedidos ya    delivery       1.0   \n394592         False        False         yaigo    delivery       1.0   \n504834         False        False  mr. delivery    delivery       1.0   \n441920         False        False    pedidos ya    delivery       1.0   \n420164         False        False    pedidos ya    delivery       1.0   \n311992         False        False         yaigo    delivery       1.0   \n393828         False        False    pedidos ya    delivery       1.0   \n298297         False        False    pedidos ya    delivery       1.0   \n402557         False        False    pedidos ya    delivery       1.0   \n\n       quantity_alt to_pay_xprod_alt  \n333692           10             10.0  \n301580            7              7.0  \n466054            5              5.0  \n312067           10             10.0  \n390288            4              4.0  \n431431           12             12.0  \n420166            5              5.0  \n325918            4              4.0  \n490344            2              2.0  \n387031            5              5.0  \n322830            8              8.0  \n488291           12             12.0  \n394592            5              5.0  \n504834           40             40.0  \n441920            9              9.0  \n420164           16             16.0  \n311992           12             12.0  \n393828            7              7.0  \n298297           18             18.0  \n402557           12             12.0  \n\n[20 rows x 26 columns]",
      "text/html": "<div>\n<style scoped>\n    .dataframe tbody tr th:only-of-type {\n        vertical-align: middle;\n    }\n\n    .dataframe tbody tr th {\n        vertical-align: top;\n    }\n\n    .dataframe thead th {\n        text-align: right;\n    }\n</style>\n<table border=\"1\" class=\"dataframe\">\n  <thead>\n    <tr style=\"text-align: right;\">\n      <th></th>\n      <th>order_id</th>\n      <th>system_date</th>\n      <th>time</th>\n      <th>group_classifier</th>\n      <th>classification</th>\n      <th>product</th>\n      <th>prod_state</th>\n      <th>price</th>\n      <th>quantity</th>\n      <th>to_pay_xprod</th>\n      <th>...</th>\n      <th>order_number</th>\n      <th>modification_date</th>\n      <th>modification_reason</th>\n      <th>is_cancelled</th>\n      <th>is_courtesy</th>\n      <th>delivery_name</th>\n      <th>order_type</th>\n      <th>price_alt</th>\n      <th>quantity_alt</th>\n      <th>to_pay_xprod_alt</th>\n    </tr>\n  </thead>\n  <tbody>\n    <tr>\n      <th>333692</th>\n      <td>486269</td>\n      <td>2020-12-19</td>\n      <td>1900-01-01 15:14:30</td>\n      <td>menu</td>\n      <td>delivery</td>\n      <td>delivery</td>\n      <td>activo</td>\n      <td>0.0</td>\n      <td>0</td>\n      <td>0.0</td>\n      <td>...</td>\n      <td>54</td>\n      <td>NaN</td>\n      <td>Ninguna</td>\n      <td>False</td>\n      <td>False</td>\n      <td>yaigo</td>\n      <td>delivery</td>\n      <td>1.0</td>\n      <td>10</td>\n      <td>10.0</td>\n    </tr>\n    <tr>\n      <th>301580</th>\n      <td>466267</td>\n      <td>2020-07-08</td>\n      <td>1900-01-01 11:37:20</td>\n      <td>menu</td>\n      <td>delivery</td>\n      <td>delivery</td>\n      <td>activo</td>\n      <td>0.0</td>\n      <td>0</td>\n      <td>0.0</td>\n      <td>...</td>\n      <td>3</td>\n      <td>NaN</td>\n      <td>Ninguna</td>\n      <td>False</td>\n      <td>False</td>\n      <td>pedidos ya</td>\n      <td>delivery</td>\n      <td>1.0</td>\n      <td>7</td>\n      <td>7.0</td>\n    </tr>\n    <tr>\n      <th>466054</th>\n      <td>565443</td>\n      <td>2022-06-21</td>\n      <td>1900-01-01 19:16:36</td>\n      <td>menu</td>\n      <td>delivery</td>\n      <td>delivery</td>\n      <td>activo</td>\n      <td>0.0</td>\n      <td>0</td>\n      <td>0.0</td>\n      <td>...</td>\n      <td>73</td>\n      <td>NaN</td>\n      <td>Ninguna</td>\n      <td>False</td>\n      <td>False</td>\n      <td>pedidos ya</td>\n      <td>delivery</td>\n      <td>1.0</td>\n      <td>5</td>\n      <td>5.0</td>\n    </tr>\n    <tr>\n      <th>312067</th>\n      <td>474657</td>\n      <td>2020-09-19</td>\n      <td>1900-01-01 12:35:04</td>\n      <td>menu</td>\n      <td>delivery</td>\n      <td>delivery</td>\n      <td>activo</td>\n      <td>0.0</td>\n      <td>0</td>\n      <td>0.0</td>\n      <td>...</td>\n      <td>14</td>\n      <td>NaN</td>\n      <td>Ninguna</td>\n      <td>False</td>\n      <td>False</td>\n      <td>yaigo</td>\n      <td>delivery</td>\n      <td>1.0</td>\n      <td>10</td>\n      <td>10.0</td>\n    </tr>\n    <tr>\n      <th>390288</th>\n      <td>521695</td>\n      <td>2021-08-17</td>\n      <td>1900-01-01 17:15:12</td>\n      <td>menu</td>\n      <td>delivery</td>\n      <td>delivery</td>\n      <td>activo</td>\n      <td>0.0</td>\n      <td>0</td>\n      <td>0.0</td>\n      <td>...</td>\n      <td>60</td>\n      <td>NaN</td>\n      <td>Ninguna</td>\n      <td>False</td>\n      <td>False</td>\n      <td>yaigo</td>\n      <td>delivery</td>\n      <td>1.0</td>\n      <td>4</td>\n      <td>4.0</td>\n    </tr>\n    <tr>\n      <th>431431</th>\n      <td>547567</td>\n      <td>2022-01-30</td>\n      <td>1900-01-01 17:30:30</td>\n      <td>menu</td>\n      <td>delivery</td>\n      <td>delivery</td>\n      <td>activo</td>\n      <td>0.0</td>\n      <td>0</td>\n      <td>0.0</td>\n      <td>...</td>\n      <td>56</td>\n      <td>NaN</td>\n      <td>Ninguna</td>\n      <td>False</td>\n      <td>False</td>\n      <td>pedidos ya</td>\n      <td>delivery</td>\n      <td>1.0</td>\n      <td>12</td>\n      <td>12.0</td>\n    </tr>\n    <tr>\n      <th>420166</th>\n      <td>541033</td>\n      <td>2021-12-12</td>\n      <td>1900-01-01 12:53:41</td>\n      <td>menu</td>\n      <td>delivery</td>\n      <td>delivery</td>\n      <td>activo</td>\n      <td>0.0</td>\n      <td>0</td>\n      <td>0.0</td>\n      <td>...</td>\n      <td>7</td>\n      <td>NaN</td>\n      <td>Ninguna</td>\n      <td>False</td>\n      <td>False</td>\n      <td>pedidos ya</td>\n      <td>delivery</td>\n      <td>1.0</td>\n      <td>5</td>\n      <td>5.0</td>\n    </tr>\n    <tr>\n      <th>325918</th>\n      <td>482541</td>\n      <td>2020-11-18</td>\n      <td>1900-01-01 21:09:19</td>\n      <td>menu</td>\n      <td>delivery</td>\n      <td>delivery</td>\n      <td>activo</td>\n      <td>0.0</td>\n      <td>0</td>\n      <td>0.0</td>\n      <td>...</td>\n      <td>114</td>\n      <td>NaN</td>\n      <td>Ninguna</td>\n      <td>False</td>\n      <td>False</td>\n      <td>pedidos ya</td>\n      <td>delivery</td>\n      <td>1.0</td>\n      <td>4</td>\n      <td>4.0</td>\n    </tr>\n    <tr>\n      <th>490344</th>\n      <td>577524</td>\n      <td>2022-10-07</td>\n      <td>1900-01-01 15:49:32</td>\n      <td>menu</td>\n      <td>delivery</td>\n      <td>delivery</td>\n      <td>activo</td>\n      <td>0.0</td>\n      <td>0</td>\n      <td>0.0</td>\n      <td>...</td>\n      <td>57</td>\n      <td>NaN</td>\n      <td>Ninguna</td>\n      <td>False</td>\n      <td>False</td>\n      <td>pedidos ya</td>\n      <td>delivery</td>\n      <td>1.0</td>\n      <td>2</td>\n      <td>2.0</td>\n    </tr>\n    <tr>\n      <th>387031</th>\n      <td>520144</td>\n      <td>2021-08-04</td>\n      <td>1900-01-01 13:42:21</td>\n      <td>menu</td>\n      <td>delivery</td>\n      <td>delivery</td>\n      <td>activo</td>\n      <td>0.0</td>\n      <td>0</td>\n      <td>0.0</td>\n      <td>...</td>\n      <td>19</td>\n      <td>NaN</td>\n      <td>Ninguna</td>\n      <td>False</td>\n      <td>False</td>\n      <td>pedidos ya</td>\n      <td>delivery</td>\n      <td>1.0</td>\n      <td>5</td>\n      <td>5.0</td>\n    </tr>\n    <tr>\n      <th>322830</th>\n      <td>481027</td>\n      <td>2020-11-07</td>\n      <td>1900-01-01 12:55:38</td>\n      <td>menu</td>\n      <td>delivery</td>\n      <td>delivery</td>\n      <td>activo</td>\n      <td>0.0</td>\n      <td>0</td>\n      <td>0.0</td>\n      <td>...</td>\n      <td>20</td>\n      <td>NaN</td>\n      <td>Ninguna</td>\n      <td>False</td>\n      <td>False</td>\n      <td>yaigo</td>\n      <td>delivery</td>\n      <td>1.0</td>\n      <td>8</td>\n      <td>8.0</td>\n    </tr>\n    <tr>\n      <th>488291</th>\n      <td>576485</td>\n      <td>2022-09-27</td>\n      <td>1900-01-01 12:58:37</td>\n      <td>menu</td>\n      <td>delivery</td>\n      <td>delivery</td>\n      <td>activo</td>\n      <td>0.0</td>\n      <td>0</td>\n      <td>0.0</td>\n      <td>...</td>\n      <td>17</td>\n      <td>NaN</td>\n      <td>Ninguna</td>\n      <td>False</td>\n      <td>False</td>\n      <td>pedidos ya</td>\n      <td>delivery</td>\n      <td>1.0</td>\n      <td>12</td>\n      <td>12.0</td>\n    </tr>\n    <tr>\n      <th>394592</th>\n      <td>523740</td>\n      <td>2021-09-03</td>\n      <td>1900-01-01 18:19:28</td>\n      <td>menu</td>\n      <td>delivery</td>\n      <td>delivery</td>\n      <td>activo</td>\n      <td>0.0</td>\n      <td>0</td>\n      <td>0.0</td>\n      <td>...</td>\n      <td>71</td>\n      <td>NaN</td>\n      <td>Ninguna</td>\n      <td>False</td>\n      <td>False</td>\n      <td>yaigo</td>\n      <td>delivery</td>\n      <td>1.0</td>\n      <td>5</td>\n      <td>5.0</td>\n    </tr>\n    <tr>\n      <th>504834</th>\n      <td>585751</td>\n      <td>2022-12-15</td>\n      <td>1900-01-01 13:57:57</td>\n      <td>menu</td>\n      <td>delivery</td>\n      <td>delivery</td>\n      <td>activo</td>\n      <td>0.0</td>\n      <td>0</td>\n      <td>0.0</td>\n      <td>...</td>\n      <td>27</td>\n      <td>NaN</td>\n      <td>Ninguna</td>\n      <td>False</td>\n      <td>False</td>\n      <td>mr. delivery</td>\n      <td>delivery</td>\n      <td>1.0</td>\n      <td>40</td>\n      <td>40.0</td>\n    </tr>\n    <tr>\n      <th>441920</th>\n      <td>552679</td>\n      <td>2022-03-15</td>\n      <td>1900-01-01 17:31:02</td>\n      <td>menu</td>\n      <td>delivery</td>\n      <td>delivery</td>\n      <td>activo</td>\n      <td>0.0</td>\n      <td>0</td>\n      <td>0.0</td>\n      <td>...</td>\n      <td>3</td>\n      <td>NaN</td>\n      <td>Ninguna</td>\n      <td>False</td>\n      <td>False</td>\n      <td>pedidos ya</td>\n      <td>delivery</td>\n      <td>1.0</td>\n      <td>9</td>\n      <td>9.0</td>\n    </tr>\n    <tr>\n      <th>420164</th>\n      <td>541032</td>\n      <td>2021-12-12</td>\n      <td>1900-01-01 12:33:38</td>\n      <td>menu</td>\n      <td>delivery</td>\n      <td>delivery</td>\n      <td>activo</td>\n      <td>0.0</td>\n      <td>0</td>\n      <td>0.0</td>\n      <td>...</td>\n      <td>6</td>\n      <td>NaN</td>\n      <td>Ninguna</td>\n      <td>False</td>\n      <td>False</td>\n      <td>pedidos ya</td>\n      <td>delivery</td>\n      <td>1.0</td>\n      <td>16</td>\n      <td>16.0</td>\n    </tr>\n    <tr>\n      <th>311992</th>\n      <td>474617</td>\n      <td>2020-09-18</td>\n      <td>1900-01-01 19:03:26</td>\n      <td>menu</td>\n      <td>delivery</td>\n      <td>delivery</td>\n      <td>activo</td>\n      <td>0.0</td>\n      <td>0</td>\n      <td>0.0</td>\n      <td>...</td>\n      <td>65</td>\n      <td>NaN</td>\n      <td>Ninguna</td>\n      <td>False</td>\n      <td>False</td>\n      <td>yaigo</td>\n      <td>delivery</td>\n      <td>1.0</td>\n      <td>12</td>\n      <td>12.0</td>\n    </tr>\n    <tr>\n      <th>393828</th>\n      <td>523367</td>\n      <td>2021-08-31</td>\n      <td>1900-01-01 17:53:41</td>\n      <td>menu</td>\n      <td>delivery</td>\n      <td>delivery</td>\n      <td>activo</td>\n      <td>0.0</td>\n      <td>0</td>\n      <td>0.0</td>\n      <td>...</td>\n      <td>57</td>\n      <td>NaN</td>\n      <td>Ninguna</td>\n      <td>False</td>\n      <td>False</td>\n      <td>pedidos ya</td>\n      <td>delivery</td>\n      <td>1.0</td>\n      <td>7</td>\n      <td>7.0</td>\n    </tr>\n    <tr>\n      <th>298297</th>\n      <td>464704</td>\n      <td>2020-06-16</td>\n      <td>1900-01-01 17:14:00</td>\n      <td>menu</td>\n      <td>delivery</td>\n      <td>delivery</td>\n      <td>activo</td>\n      <td>0.0</td>\n      <td>0</td>\n      <td>0.0</td>\n      <td>...</td>\n      <td>44</td>\n      <td>NaN</td>\n      <td>Ninguna</td>\n      <td>False</td>\n      <td>False</td>\n      <td>pedidos ya</td>\n      <td>delivery</td>\n      <td>1.0</td>\n      <td>18</td>\n      <td>18.0</td>\n    </tr>\n    <tr>\n      <th>402557</th>\n      <td>531565</td>\n      <td>2021-10-04</td>\n      <td>1900-01-01 12:57:41</td>\n      <td>menu</td>\n      <td>delivery</td>\n      <td>delivery</td>\n      <td>activo</td>\n      <td>0.0</td>\n      <td>0</td>\n      <td>0.0</td>\n      <td>...</td>\n      <td>15</td>\n      <td>NaN</td>\n      <td>Ninguna</td>\n      <td>False</td>\n      <td>False</td>\n      <td>pedidos ya</td>\n      <td>delivery</td>\n      <td>1.0</td>\n      <td>12</td>\n      <td>12.0</td>\n    </tr>\n  </tbody>\n</table>\n<p>20 rows × 26 columns</p>\n</div>"
     },
     "execution_count": 157,
     "metadata": {},
     "output_type": "execute_result"
    }
   ],
   "execution_count": 157
  },
  {
   "cell_type": "markdown",
   "id": "e4fd9fb3948f45b0",
   "metadata": {},
   "source": [
    "Delivery cost"
   ]
  },
  {
   "cell_type": "code",
   "id": "71abc96e34516ad9",
   "metadata": {
    "ExecuteTime": {
     "end_time": "2024-07-03T20:44:10.296126Z",
     "start_time": "2024-07-03T20:44:09.584017500Z"
    }
   },
   "source": [
    "#new column to contabilize delivery payment\n",
    "resta_df['delivery_cost']=pd.Series()"
   ],
   "outputs": [],
   "execution_count": 158
  },
  {
   "cell_type": "code",
   "id": "87a2a4a2f5fe3b4c",
   "metadata": {
    "ExecuteTime": {
     "end_time": "2024-07-03T20:44:10.469728200Z",
     "start_time": "2024-07-03T20:44:09.704067700Z"
    }
   },
   "source": [
    "#fullfill new colum with to_pay_xprod_alt\n",
    "resta_df.loc[(resta_df['order_type']=='delivery')&(resta_df['price']==0), 'delivery_cost'] = resta_df['to_pay_xprod_alt']"
   ],
   "outputs": [],
   "execution_count": 159
  },
  {
   "cell_type": "code",
   "id": "9807c0820b2f93a",
   "metadata": {
    "ExecuteTime": {
     "end_time": "2024-07-03T20:44:10.629867500Z",
     "start_time": "2024-07-03T20:44:09.832105100Z"
    }
   },
   "source": [
    "#delivery cost when there is no delivery\n",
    "resta_df.loc[(resta_df['order_type']!='delivery'), 'delivery_cost'] = 0 "
   ],
   "outputs": [],
   "execution_count": 160
  },
  {
   "cell_type": "code",
   "id": "e8846ff5fc7adb9e",
   "metadata": {
    "ExecuteTime": {
     "end_time": "2024-07-03T20:44:10.898390100Z",
     "start_time": "2024-07-03T20:44:09.981669500Z"
    }
   },
   "source": [
    "resta_df.loc[(resta_df['order_type']!='delivery'), :].sample(20)"
   ],
   "outputs": [
    {
     "data": {
      "text/plain": "        order_id system_date                time group_classifier   \n49609      87214  2017-08-08 1900-01-01 18:34:50          bebidas  \\\n24803      50234  2017-02-23 1900-01-01 14:11:54             menu   \n493591    579224  2022-10-22 1900-01-01 12:47:24          bebidas   \n334630    487721  2020-12-22 1900-01-01 17:36:38             menu   \n182574    320879  2019-02-26 1900-01-01 13:03:43             menu   \n247376    399130  2019-09-30 1900-01-01 20:07:14             menu   \n491429    578088  2022-10-11 1900-01-01 21:22:10          bebidas   \n58434      98429  2017-09-20 1900-01-01 21:36:42             menu   \n22700      42013  2017-02-07 1900-01-01 19:31:55             menu   \n362353    505048  2021-04-21 1900-01-01 19:28:54             menu   \n358507    503173  2021-04-05 1900-01-01 14:29:49          bebidas   \n129469    237313  2018-08-18 1900-01-01 20:54:58             menu   \n169955    299932  2019-01-13 1900-01-01 20:07:10            otros   \n482587    573652  2022-08-31 1900-01-01 18:00:21          bebidas   \n261215    427576  2019-12-01 1900-01-01 14:43:59             menu   \n12729      23700  2016-11-17 1900-01-01 22:31:15             menu   \n197030    336161  2019-04-18 1900-01-01 19:20:48             menu   \n361273    504517  2021-04-16 1900-01-01 20:42:17             menu   \n486162    575439  2022-09-17 1900-01-01 14:07:11             menu   \n300881    465949  2020-07-03 1900-01-01 17:36:09             menu   \n\n                  classification                      product prod_state   \n49609                   personal               fanta personal     activo  \\\n24803                    fingers              fingers buffalo     activo   \n493591                      2 lt                coca cola 2lt     activo   \n334630                  burguers          hamburguesa clasica     activo   \n182574  alitas 6 unidades  26 bs    alitas jack daniel 6 unid     activo   \n247376  alitas 6 unidades  26 bs        alitas picante 6 unid     activo   \n491429                  personal           coca cola personal     activo   \n58434                    fingers                 fingers miel     activo   \n22700                    fingers             fingers barbacoa     activo   \n362353        alitas 12 unidades      alitas albahaca 12 unid     activo   \n358507                   product              del valle 1 ltr     activo   \n129469         alitas 8 unidades          alitas queso 8 unid     activo   \n169955                   product           salsa miel mostaza     activo   \n482587             jugos - aguas                   agua vital     activo   \n261215        alitas 12 unidades  alitas miel mostaza 12 unid     activo   \n12729                    fingers                 fingers miel     activo   \n197030  alitas 6 unidades  26 bs       alitas barbacoa 6 unid     activo   \n361273                   fingers            finger 8 unidades   inactivo   \n486162                   fingers                 fingers miel     activo   \n300881  alitas 6 unidades  26 bs   alitas miel mostaza 6 unid     activo   \n\n        price  quantity  to_pay_xprod  ...  modification_date   \n49609     2.0         3           6.0  ...                NaN  \\\n24803    22.0         1          22.0  ...                NaN   \n493591   18.0         1          18.0  ...                NaN   \n334630   16.0         1          16.0  ...                NaN   \n182574   22.0         1          22.0  ...                NaN   \n247376   22.0         1          22.0  ...                NaN   \n491429    3.0         1           3.0  ...                NaN   \n58434    22.0         1          22.0  ...                NaN   \n22700    22.0         1          22.0  ...                NaN   \n362353   45.0         1          45.0  ...                NaN   \n358507   15.0         1          15.0  ...                NaN   \n129469   22.0         1          22.0  ...                NaN   \n169955    3.0         1           3.0  ...                NaN   \n482587    7.0         1           7.0  ...                NaN   \n261215   43.0         1          43.0  ...                NaN   \n12729    22.0         1          22.0  ...                NaN   \n197030   22.0         1          22.0  ...                NaN   \n361273   45.0         1          45.0  ...                NaN   \n486162   27.0         1          27.0  ...                NaN   \n300881   23.0         1          23.0  ...                NaN   \n\n       modification_reason  is_cancelled  is_courtesy  delivery_name   \n49609              Ninguna         False        False           None  \\\n24803              Ninguna         False        False           None   \n493591             Ninguna         False        False           None   \n334630             Ninguna         False        False           None   \n182574             Ninguna         False        False           None   \n247376             Ninguna         False        False           None   \n491429             Ninguna         False        False           None   \n58434              Ninguna         False        False           None   \n22700              Ninguna         False        False           None   \n362353             Ninguna         False        False           None   \n358507             Ninguna         False        False           None   \n129469             Ninguna         False        False           None   \n169955             Ninguna         False        False           None   \n482587             Ninguna         False        False           None   \n261215             Ninguna         False        False           None   \n12729              Ninguna         False        False           None   \n197030             Ninguna         False        False           None   \n361273             Ninguna         False        False           None   \n486162             Ninguna         False        False           None   \n300881             Ninguna         False        False           None   \n\n              order_type  price_alt quantity_alt to_pay_xprod_alt   \n49609   en sala-sin mesa        2.0            3              6.0  \\\n24803   en sala-con mesa       22.0            1             22.0   \n493591  en sala-sin mesa       18.0            1             18.0   \n334630       para llevar       16.0            1             16.0   \n182574  en sala-con mesa       22.0            1             22.0   \n247376       para llevar       22.0            1             22.0   \n491429  en sala-sin mesa        3.0            1              3.0   \n58434   en sala-con mesa       22.0            1             22.0   \n22700   en sala-con mesa       22.0            1             22.0   \n362353  en sala-sin mesa       45.0            1             45.0   \n358507  en sala-sin mesa       15.0            1             15.0   \n129469  en sala-con mesa       22.0            1             22.0   \n169955       para llevar        3.0            1              3.0   \n482587  en sala-sin mesa        7.0            1              7.0   \n261215  en sala-sin mesa       43.0            1             43.0   \n12729        para llevar       22.0            1             22.0   \n197030  en sala-con mesa       22.0            1             22.0   \n361273  en sala-sin mesa       45.0            1             45.0   \n486162  en sala-con mesa       27.0            1             27.0   \n300881       para llevar       23.0            1             23.0   \n\n       delivery_cost  \n49609              0  \n24803              0  \n493591             0  \n334630             0  \n182574             0  \n247376             0  \n491429             0  \n58434              0  \n22700              0  \n362353             0  \n358507             0  \n129469             0  \n169955             0  \n482587             0  \n261215             0  \n12729              0  \n197030             0  \n361273             0  \n486162             0  \n300881             0  \n\n[20 rows x 27 columns]",
      "text/html": "<div>\n<style scoped>\n    .dataframe tbody tr th:only-of-type {\n        vertical-align: middle;\n    }\n\n    .dataframe tbody tr th {\n        vertical-align: top;\n    }\n\n    .dataframe thead th {\n        text-align: right;\n    }\n</style>\n<table border=\"1\" class=\"dataframe\">\n  <thead>\n    <tr style=\"text-align: right;\">\n      <th></th>\n      <th>order_id</th>\n      <th>system_date</th>\n      <th>time</th>\n      <th>group_classifier</th>\n      <th>classification</th>\n      <th>product</th>\n      <th>prod_state</th>\n      <th>price</th>\n      <th>quantity</th>\n      <th>to_pay_xprod</th>\n      <th>...</th>\n      <th>modification_date</th>\n      <th>modification_reason</th>\n      <th>is_cancelled</th>\n      <th>is_courtesy</th>\n      <th>delivery_name</th>\n      <th>order_type</th>\n      <th>price_alt</th>\n      <th>quantity_alt</th>\n      <th>to_pay_xprod_alt</th>\n      <th>delivery_cost</th>\n    </tr>\n  </thead>\n  <tbody>\n    <tr>\n      <th>49609</th>\n      <td>87214</td>\n      <td>2017-08-08</td>\n      <td>1900-01-01 18:34:50</td>\n      <td>bebidas</td>\n      <td>personal</td>\n      <td>fanta personal</td>\n      <td>activo</td>\n      <td>2.0</td>\n      <td>3</td>\n      <td>6.0</td>\n      <td>...</td>\n      <td>NaN</td>\n      <td>Ninguna</td>\n      <td>False</td>\n      <td>False</td>\n      <td>None</td>\n      <td>en sala-sin mesa</td>\n      <td>2.0</td>\n      <td>3</td>\n      <td>6.0</td>\n      <td>0</td>\n    </tr>\n    <tr>\n      <th>24803</th>\n      <td>50234</td>\n      <td>2017-02-23</td>\n      <td>1900-01-01 14:11:54</td>\n      <td>menu</td>\n      <td>fingers</td>\n      <td>fingers buffalo</td>\n      <td>activo</td>\n      <td>22.0</td>\n      <td>1</td>\n      <td>22.0</td>\n      <td>...</td>\n      <td>NaN</td>\n      <td>Ninguna</td>\n      <td>False</td>\n      <td>False</td>\n      <td>None</td>\n      <td>en sala-con mesa</td>\n      <td>22.0</td>\n      <td>1</td>\n      <td>22.0</td>\n      <td>0</td>\n    </tr>\n    <tr>\n      <th>493591</th>\n      <td>579224</td>\n      <td>2022-10-22</td>\n      <td>1900-01-01 12:47:24</td>\n      <td>bebidas</td>\n      <td>2 lt</td>\n      <td>coca cola 2lt</td>\n      <td>activo</td>\n      <td>18.0</td>\n      <td>1</td>\n      <td>18.0</td>\n      <td>...</td>\n      <td>NaN</td>\n      <td>Ninguna</td>\n      <td>False</td>\n      <td>False</td>\n      <td>None</td>\n      <td>en sala-sin mesa</td>\n      <td>18.0</td>\n      <td>1</td>\n      <td>18.0</td>\n      <td>0</td>\n    </tr>\n    <tr>\n      <th>334630</th>\n      <td>487721</td>\n      <td>2020-12-22</td>\n      <td>1900-01-01 17:36:38</td>\n      <td>menu</td>\n      <td>burguers</td>\n      <td>hamburguesa clasica</td>\n      <td>activo</td>\n      <td>16.0</td>\n      <td>1</td>\n      <td>16.0</td>\n      <td>...</td>\n      <td>NaN</td>\n      <td>Ninguna</td>\n      <td>False</td>\n      <td>False</td>\n      <td>None</td>\n      <td>para llevar</td>\n      <td>16.0</td>\n      <td>1</td>\n      <td>16.0</td>\n      <td>0</td>\n    </tr>\n    <tr>\n      <th>182574</th>\n      <td>320879</td>\n      <td>2019-02-26</td>\n      <td>1900-01-01 13:03:43</td>\n      <td>menu</td>\n      <td>alitas 6 unidades  26 bs</td>\n      <td>alitas jack daniel 6 unid</td>\n      <td>activo</td>\n      <td>22.0</td>\n      <td>1</td>\n      <td>22.0</td>\n      <td>...</td>\n      <td>NaN</td>\n      <td>Ninguna</td>\n      <td>False</td>\n      <td>False</td>\n      <td>None</td>\n      <td>en sala-con mesa</td>\n      <td>22.0</td>\n      <td>1</td>\n      <td>22.0</td>\n      <td>0</td>\n    </tr>\n    <tr>\n      <th>247376</th>\n      <td>399130</td>\n      <td>2019-09-30</td>\n      <td>1900-01-01 20:07:14</td>\n      <td>menu</td>\n      <td>alitas 6 unidades  26 bs</td>\n      <td>alitas picante 6 unid</td>\n      <td>activo</td>\n      <td>22.0</td>\n      <td>1</td>\n      <td>22.0</td>\n      <td>...</td>\n      <td>NaN</td>\n      <td>Ninguna</td>\n      <td>False</td>\n      <td>False</td>\n      <td>None</td>\n      <td>para llevar</td>\n      <td>22.0</td>\n      <td>1</td>\n      <td>22.0</td>\n      <td>0</td>\n    </tr>\n    <tr>\n      <th>491429</th>\n      <td>578088</td>\n      <td>2022-10-11</td>\n      <td>1900-01-01 21:22:10</td>\n      <td>bebidas</td>\n      <td>personal</td>\n      <td>coca cola personal</td>\n      <td>activo</td>\n      <td>3.0</td>\n      <td>1</td>\n      <td>3.0</td>\n      <td>...</td>\n      <td>NaN</td>\n      <td>Ninguna</td>\n      <td>False</td>\n      <td>False</td>\n      <td>None</td>\n      <td>en sala-sin mesa</td>\n      <td>3.0</td>\n      <td>1</td>\n      <td>3.0</td>\n      <td>0</td>\n    </tr>\n    <tr>\n      <th>58434</th>\n      <td>98429</td>\n      <td>2017-09-20</td>\n      <td>1900-01-01 21:36:42</td>\n      <td>menu</td>\n      <td>fingers</td>\n      <td>fingers miel</td>\n      <td>activo</td>\n      <td>22.0</td>\n      <td>1</td>\n      <td>22.0</td>\n      <td>...</td>\n      <td>NaN</td>\n      <td>Ninguna</td>\n      <td>False</td>\n      <td>False</td>\n      <td>None</td>\n      <td>en sala-con mesa</td>\n      <td>22.0</td>\n      <td>1</td>\n      <td>22.0</td>\n      <td>0</td>\n    </tr>\n    <tr>\n      <th>22700</th>\n      <td>42013</td>\n      <td>2017-02-07</td>\n      <td>1900-01-01 19:31:55</td>\n      <td>menu</td>\n      <td>fingers</td>\n      <td>fingers barbacoa</td>\n      <td>activo</td>\n      <td>22.0</td>\n      <td>1</td>\n      <td>22.0</td>\n      <td>...</td>\n      <td>NaN</td>\n      <td>Ninguna</td>\n      <td>False</td>\n      <td>False</td>\n      <td>None</td>\n      <td>en sala-con mesa</td>\n      <td>22.0</td>\n      <td>1</td>\n      <td>22.0</td>\n      <td>0</td>\n    </tr>\n    <tr>\n      <th>362353</th>\n      <td>505048</td>\n      <td>2021-04-21</td>\n      <td>1900-01-01 19:28:54</td>\n      <td>menu</td>\n      <td>alitas 12 unidades</td>\n      <td>alitas albahaca 12 unid</td>\n      <td>activo</td>\n      <td>45.0</td>\n      <td>1</td>\n      <td>45.0</td>\n      <td>...</td>\n      <td>NaN</td>\n      <td>Ninguna</td>\n      <td>False</td>\n      <td>False</td>\n      <td>None</td>\n      <td>en sala-sin mesa</td>\n      <td>45.0</td>\n      <td>1</td>\n      <td>45.0</td>\n      <td>0</td>\n    </tr>\n    <tr>\n      <th>358507</th>\n      <td>503173</td>\n      <td>2021-04-05</td>\n      <td>1900-01-01 14:29:49</td>\n      <td>bebidas</td>\n      <td>product</td>\n      <td>del valle 1 ltr</td>\n      <td>activo</td>\n      <td>15.0</td>\n      <td>1</td>\n      <td>15.0</td>\n      <td>...</td>\n      <td>NaN</td>\n      <td>Ninguna</td>\n      <td>False</td>\n      <td>False</td>\n      <td>None</td>\n      <td>en sala-sin mesa</td>\n      <td>15.0</td>\n      <td>1</td>\n      <td>15.0</td>\n      <td>0</td>\n    </tr>\n    <tr>\n      <th>129469</th>\n      <td>237313</td>\n      <td>2018-08-18</td>\n      <td>1900-01-01 20:54:58</td>\n      <td>menu</td>\n      <td>alitas 8 unidades</td>\n      <td>alitas queso 8 unid</td>\n      <td>activo</td>\n      <td>22.0</td>\n      <td>1</td>\n      <td>22.0</td>\n      <td>...</td>\n      <td>NaN</td>\n      <td>Ninguna</td>\n      <td>False</td>\n      <td>False</td>\n      <td>None</td>\n      <td>en sala-con mesa</td>\n      <td>22.0</td>\n      <td>1</td>\n      <td>22.0</td>\n      <td>0</td>\n    </tr>\n    <tr>\n      <th>169955</th>\n      <td>299932</td>\n      <td>2019-01-13</td>\n      <td>1900-01-01 20:07:10</td>\n      <td>otros</td>\n      <td>product</td>\n      <td>salsa miel mostaza</td>\n      <td>activo</td>\n      <td>3.0</td>\n      <td>1</td>\n      <td>3.0</td>\n      <td>...</td>\n      <td>NaN</td>\n      <td>Ninguna</td>\n      <td>False</td>\n      <td>False</td>\n      <td>None</td>\n      <td>para llevar</td>\n      <td>3.0</td>\n      <td>1</td>\n      <td>3.0</td>\n      <td>0</td>\n    </tr>\n    <tr>\n      <th>482587</th>\n      <td>573652</td>\n      <td>2022-08-31</td>\n      <td>1900-01-01 18:00:21</td>\n      <td>bebidas</td>\n      <td>jugos - aguas</td>\n      <td>agua vital</td>\n      <td>activo</td>\n      <td>7.0</td>\n      <td>1</td>\n      <td>7.0</td>\n      <td>...</td>\n      <td>NaN</td>\n      <td>Ninguna</td>\n      <td>False</td>\n      <td>False</td>\n      <td>None</td>\n      <td>en sala-sin mesa</td>\n      <td>7.0</td>\n      <td>1</td>\n      <td>7.0</td>\n      <td>0</td>\n    </tr>\n    <tr>\n      <th>261215</th>\n      <td>427576</td>\n      <td>2019-12-01</td>\n      <td>1900-01-01 14:43:59</td>\n      <td>menu</td>\n      <td>alitas 12 unidades</td>\n      <td>alitas miel mostaza 12 unid</td>\n      <td>activo</td>\n      <td>43.0</td>\n      <td>1</td>\n      <td>43.0</td>\n      <td>...</td>\n      <td>NaN</td>\n      <td>Ninguna</td>\n      <td>False</td>\n      <td>False</td>\n      <td>None</td>\n      <td>en sala-sin mesa</td>\n      <td>43.0</td>\n      <td>1</td>\n      <td>43.0</td>\n      <td>0</td>\n    </tr>\n    <tr>\n      <th>12729</th>\n      <td>23700</td>\n      <td>2016-11-17</td>\n      <td>1900-01-01 22:31:15</td>\n      <td>menu</td>\n      <td>fingers</td>\n      <td>fingers miel</td>\n      <td>activo</td>\n      <td>22.0</td>\n      <td>1</td>\n      <td>22.0</td>\n      <td>...</td>\n      <td>NaN</td>\n      <td>Ninguna</td>\n      <td>False</td>\n      <td>False</td>\n      <td>None</td>\n      <td>para llevar</td>\n      <td>22.0</td>\n      <td>1</td>\n      <td>22.0</td>\n      <td>0</td>\n    </tr>\n    <tr>\n      <th>197030</th>\n      <td>336161</td>\n      <td>2019-04-18</td>\n      <td>1900-01-01 19:20:48</td>\n      <td>menu</td>\n      <td>alitas 6 unidades  26 bs</td>\n      <td>alitas barbacoa 6 unid</td>\n      <td>activo</td>\n      <td>22.0</td>\n      <td>1</td>\n      <td>22.0</td>\n      <td>...</td>\n      <td>NaN</td>\n      <td>Ninguna</td>\n      <td>False</td>\n      <td>False</td>\n      <td>None</td>\n      <td>en sala-con mesa</td>\n      <td>22.0</td>\n      <td>1</td>\n      <td>22.0</td>\n      <td>0</td>\n    </tr>\n    <tr>\n      <th>361273</th>\n      <td>504517</td>\n      <td>2021-04-16</td>\n      <td>1900-01-01 20:42:17</td>\n      <td>menu</td>\n      <td>fingers</td>\n      <td>finger 8 unidades</td>\n      <td>inactivo</td>\n      <td>45.0</td>\n      <td>1</td>\n      <td>45.0</td>\n      <td>...</td>\n      <td>NaN</td>\n      <td>Ninguna</td>\n      <td>False</td>\n      <td>False</td>\n      <td>None</td>\n      <td>en sala-sin mesa</td>\n      <td>45.0</td>\n      <td>1</td>\n      <td>45.0</td>\n      <td>0</td>\n    </tr>\n    <tr>\n      <th>486162</th>\n      <td>575439</td>\n      <td>2022-09-17</td>\n      <td>1900-01-01 14:07:11</td>\n      <td>menu</td>\n      <td>fingers</td>\n      <td>fingers miel</td>\n      <td>activo</td>\n      <td>27.0</td>\n      <td>1</td>\n      <td>27.0</td>\n      <td>...</td>\n      <td>NaN</td>\n      <td>Ninguna</td>\n      <td>False</td>\n      <td>False</td>\n      <td>None</td>\n      <td>en sala-con mesa</td>\n      <td>27.0</td>\n      <td>1</td>\n      <td>27.0</td>\n      <td>0</td>\n    </tr>\n    <tr>\n      <th>300881</th>\n      <td>465949</td>\n      <td>2020-07-03</td>\n      <td>1900-01-01 17:36:09</td>\n      <td>menu</td>\n      <td>alitas 6 unidades  26 bs</td>\n      <td>alitas miel mostaza 6 unid</td>\n      <td>activo</td>\n      <td>23.0</td>\n      <td>1</td>\n      <td>23.0</td>\n      <td>...</td>\n      <td>NaN</td>\n      <td>Ninguna</td>\n      <td>False</td>\n      <td>False</td>\n      <td>None</td>\n      <td>para llevar</td>\n      <td>23.0</td>\n      <td>1</td>\n      <td>23.0</td>\n      <td>0</td>\n    </tr>\n  </tbody>\n</table>\n<p>20 rows × 27 columns</p>\n</div>"
     },
     "execution_count": 161,
     "metadata": {},
     "output_type": "execute_result"
    }
   ],
   "execution_count": 161
  },
  {
   "cell_type": "markdown",
   "id": "fd3df88855f86980",
   "metadata": {},
   "source": [
    "### Organizing order_type - delivery\n",
    "\n",
    "there are products which were a delivery but dont have a delivery category in order type.\n",
    "\n",
    "Note. For each order there was only one delivery with one delivery cost, but that cost will be reflected in each product row.\n",
    "\n",
    "- filter all products which were deliveries \n",
    "- assign an order_type as delivery\n",
    "- assign a delivery_name as its corresponding delivery name\n",
    "\n",
    "- assign delivery_cost the cost of the delivery by each row \n",
    "\n",
    "- delete delivery row by each order, since deliveries will be already placed within products."
   ]
  },
  {
   "cell_type": "code",
   "id": "e345d1b8ce264c48",
   "metadata": {
    "ExecuteTime": {
     "end_time": "2024-07-03T20:44:11.009377100Z",
     "start_time": "2024-07-03T20:44:10.292448600Z"
    }
   },
   "source": [
    "resta_df.sample(5)"
   ],
   "outputs": [
    {
     "data": {
      "text/plain": "        order_id system_date                time group_classifier   \n152543    278278  2018-11-13 1900-01-01 13:11:02          bebidas  \\\n62124     108232  2017-10-07 1900-01-01 20:03:03             menu   \n23251      47063  2017-02-11 1900-01-01 12:18:33             menu   \n37806      68689  2017-06-03 1900-01-01 14:59:20             menu   \n368630    509147  2021-05-17 1900-01-01 19:13:49             menu   \n\n           classification              product prod_state  price  quantity   \n152543            popular        fanta popular     activo    6.0         1  \\\n62124             fingers      fingers buffalo     activo   22.0         3   \n23251             salchis           salchibeef     activo   19.0         1   \n37806   alitas 8 unidades  alitas miel mostaza     activo   27.0         1   \n368630            product   pollo a la canasta     activo   23.0         2   \n\n        to_pay_xprod  ...  modification_date modification_reason   \n152543           6.0  ...                NaN             Ninguna  \\\n62124           66.0  ...                NaN             Ninguna   \n23251           19.0  ...                NaN             Ninguna   \n37806           27.0  ...                NaN             Ninguna   \n368630          46.0  ...                NaN             Ninguna   \n\n        is_cancelled  is_courtesy  delivery_name        order_type  price_alt   \n152543         False        False           None  en sala-con mesa        6.0  \\\n62124          False        False           None       para llevar       22.0   \n23251          False        False           None  en sala-con mesa       19.0   \n37806          False        False           None       para llevar       27.0   \n368630         False        False           None       para llevar       23.0   \n\n       quantity_alt to_pay_xprod_alt delivery_cost  \n152543            1              6.0             0  \n62124             3             66.0             0  \n23251             1             19.0             0  \n37806             1             27.0             0  \n368630            2             46.0             0  \n\n[5 rows x 27 columns]",
      "text/html": "<div>\n<style scoped>\n    .dataframe tbody tr th:only-of-type {\n        vertical-align: middle;\n    }\n\n    .dataframe tbody tr th {\n        vertical-align: top;\n    }\n\n    .dataframe thead th {\n        text-align: right;\n    }\n</style>\n<table border=\"1\" class=\"dataframe\">\n  <thead>\n    <tr style=\"text-align: right;\">\n      <th></th>\n      <th>order_id</th>\n      <th>system_date</th>\n      <th>time</th>\n      <th>group_classifier</th>\n      <th>classification</th>\n      <th>product</th>\n      <th>prod_state</th>\n      <th>price</th>\n      <th>quantity</th>\n      <th>to_pay_xprod</th>\n      <th>...</th>\n      <th>modification_date</th>\n      <th>modification_reason</th>\n      <th>is_cancelled</th>\n      <th>is_courtesy</th>\n      <th>delivery_name</th>\n      <th>order_type</th>\n      <th>price_alt</th>\n      <th>quantity_alt</th>\n      <th>to_pay_xprod_alt</th>\n      <th>delivery_cost</th>\n    </tr>\n  </thead>\n  <tbody>\n    <tr>\n      <th>152543</th>\n      <td>278278</td>\n      <td>2018-11-13</td>\n      <td>1900-01-01 13:11:02</td>\n      <td>bebidas</td>\n      <td>popular</td>\n      <td>fanta popular</td>\n      <td>activo</td>\n      <td>6.0</td>\n      <td>1</td>\n      <td>6.0</td>\n      <td>...</td>\n      <td>NaN</td>\n      <td>Ninguna</td>\n      <td>False</td>\n      <td>False</td>\n      <td>None</td>\n      <td>en sala-con mesa</td>\n      <td>6.0</td>\n      <td>1</td>\n      <td>6.0</td>\n      <td>0</td>\n    </tr>\n    <tr>\n      <th>62124</th>\n      <td>108232</td>\n      <td>2017-10-07</td>\n      <td>1900-01-01 20:03:03</td>\n      <td>menu</td>\n      <td>fingers</td>\n      <td>fingers buffalo</td>\n      <td>activo</td>\n      <td>22.0</td>\n      <td>3</td>\n      <td>66.0</td>\n      <td>...</td>\n      <td>NaN</td>\n      <td>Ninguna</td>\n      <td>False</td>\n      <td>False</td>\n      <td>None</td>\n      <td>para llevar</td>\n      <td>22.0</td>\n      <td>3</td>\n      <td>66.0</td>\n      <td>0</td>\n    </tr>\n    <tr>\n      <th>23251</th>\n      <td>47063</td>\n      <td>2017-02-11</td>\n      <td>1900-01-01 12:18:33</td>\n      <td>menu</td>\n      <td>salchis</td>\n      <td>salchibeef</td>\n      <td>activo</td>\n      <td>19.0</td>\n      <td>1</td>\n      <td>19.0</td>\n      <td>...</td>\n      <td>NaN</td>\n      <td>Ninguna</td>\n      <td>False</td>\n      <td>False</td>\n      <td>None</td>\n      <td>en sala-con mesa</td>\n      <td>19.0</td>\n      <td>1</td>\n      <td>19.0</td>\n      <td>0</td>\n    </tr>\n    <tr>\n      <th>37806</th>\n      <td>68689</td>\n      <td>2017-06-03</td>\n      <td>1900-01-01 14:59:20</td>\n      <td>menu</td>\n      <td>alitas 8 unidades</td>\n      <td>alitas miel mostaza</td>\n      <td>activo</td>\n      <td>27.0</td>\n      <td>1</td>\n      <td>27.0</td>\n      <td>...</td>\n      <td>NaN</td>\n      <td>Ninguna</td>\n      <td>False</td>\n      <td>False</td>\n      <td>None</td>\n      <td>para llevar</td>\n      <td>27.0</td>\n      <td>1</td>\n      <td>27.0</td>\n      <td>0</td>\n    </tr>\n    <tr>\n      <th>368630</th>\n      <td>509147</td>\n      <td>2021-05-17</td>\n      <td>1900-01-01 19:13:49</td>\n      <td>menu</td>\n      <td>product</td>\n      <td>pollo a la canasta</td>\n      <td>activo</td>\n      <td>23.0</td>\n      <td>2</td>\n      <td>46.0</td>\n      <td>...</td>\n      <td>NaN</td>\n      <td>Ninguna</td>\n      <td>False</td>\n      <td>False</td>\n      <td>None</td>\n      <td>para llevar</td>\n      <td>23.0</td>\n      <td>2</td>\n      <td>46.0</td>\n      <td>0</td>\n    </tr>\n  </tbody>\n</table>\n<p>5 rows × 27 columns</p>\n</div>"
     },
     "execution_count": 162,
     "metadata": {},
     "output_type": "execute_result"
    }
   ],
   "execution_count": 162
  },
  {
   "cell_type": "code",
   "id": "7e267f56214695af",
   "metadata": {
    "ExecuteTime": {
     "end_time": "2024-07-03T20:44:11.067667400Z",
     "start_time": "2024-07-03T20:44:10.327758200Z"
    }
   },
   "source": [
    "#filter deliveries orders\n",
    "mask_delivery = resta_df['order_type']=='delivery'"
   ],
   "outputs": [],
   "execution_count": 163
  },
  {
   "cell_type": "code",
   "id": "10378c71ea9a6ff9",
   "metadata": {
    "ExecuteTime": {
     "end_time": "2024-07-03T20:44:11.146561300Z",
     "start_time": "2024-07-03T20:44:10.539013400Z"
    }
   },
   "source": [
    "mask_delivery_index=resta_df[mask_delivery].index"
   ],
   "outputs": [],
   "execution_count": 164
  },
  {
   "cell_type": "code",
   "id": "66358d9f4b676644",
   "metadata": {
    "ExecuteTime": {
     "end_time": "2024-07-03T20:44:11.146561300Z",
     "start_time": "2024-07-03T20:44:10.687187400Z"
    }
   },
   "source": [
    "#Get the order id of deliveries\n",
    "deliveries_orderids = resta_df.loc[mask_delivery_index, 'order_id']"
   ],
   "outputs": [],
   "execution_count": 165
  },
  {
   "cell_type": "code",
   "id": "b3144e67b72f1f49",
   "metadata": {
    "ExecuteTime": {
     "end_time": "2024-07-03T20:44:11.462177700Z",
     "start_time": "2024-07-03T20:44:10.816560700Z"
    }
   },
   "source": [
    "#Data of deliveries by order_id\n",
    "resta_df.loc[resta_df['order_id'].isin(deliveries_orderids)].sort_values(by='order_id').head(20)"
   ],
   "outputs": [
    {
     "data": {
      "text/plain": "        order_id system_date                time group_classifier   \n259397    421557  2019-11-21 1900-01-01 14:19:57             menu  \\\n259398    421558  2019-11-21 1900-01-01 14:23:18             menu   \n259399    421558  2019-11-21 1900-01-01 14:23:18             menu   \n259400    421559  2019-11-21 1900-01-01 14:37:26             menu   \n259401    421560  2019-11-21 1900-01-01 14:45:52             menu   \n259402    421561  2019-11-21 1900-01-01 14:48:22             menu   \n259417    421572  2019-11-21 1900-01-01 16:59:24             menu   \n259418    421572  2019-11-21 1900-01-01 16:59:24             menu   \n259419    421573  2019-11-21 1900-01-01 17:01:04             menu   \n259422    421576  2019-11-21 1900-01-01 17:10:24             menu   \n259430    421581  2019-11-21 1900-01-01 17:48:16             menu   \n259431    421582  2019-11-21 1900-01-01 17:50:23             menu   \n259432    421583  2019-11-21 1900-01-01 17:59:33             menu   \n259441    421589  2019-11-21 1900-01-01 18:20:37             menu   \n259449    421595  2019-11-21 1900-01-01 18:47:20             menu   \n259452    421598  2019-11-21 1900-01-01 19:02:11             menu   \n259453    421598  2019-11-21 1900-01-01 19:02:11             menu   \n259454    421598  2019-11-21 1900-01-01 19:02:11            otros   \n259455    421598  2019-11-21 1900-01-01 19:02:11            otros   \n259456    421598  2019-11-21 1900-01-01 19:02:11          bebidas   \n\n       classification        product prod_state  price  quantity   \n259397       delivery       delivery     activo    0.0         0  \\\n259398     sandwiches    niki's club     activo   22.0         1   \n259399       delivery       delivery     activo    0.0         0   \n259400       delivery       delivery     activo    0.0         0   \n259401       delivery       delivery     activo    0.0         0   \n259402       delivery       delivery     activo    0.0         0   \n259417        fingers   fingers miel     activo   25.0         1   \n259418       delivery       delivery     activo    0.0         0   \n259419       delivery       delivery     activo    0.0         0   \n259422       delivery       delivery     activo    0.0         0   \n259430       delivery       delivery     activo    0.0         0   \n259431       delivery       delivery     activo    0.0         0   \n259432       delivery       delivery     activo    0.0         0   \n259441       delivery       delivery     activo    0.0         0   \n259449       delivery       delivery     activo    0.0         0   \n259452       delivery       delivery     activo    0.0         0   \n259453         finger         finger   inactivo   27.0         1   \n259454        product  salsa picante     activo    3.0         1   \n259455        product    salsa queso     activo    3.0         1   \n259456           1 lt     sprite 1lt     activo   12.0         1   \n\n        to_pay_xprod  ...  modification_date modification_reason   \n259397           0.0  ...                NaN             Ninguna  \\\n259398          22.0  ...                NaN             Ninguna   \n259399           0.0  ...                NaN             Ninguna   \n259400           0.0  ...                NaN             Ninguna   \n259401           0.0  ...                NaN             Ninguna   \n259402           0.0  ...                NaN             Ninguna   \n259417          25.0  ...                NaN             Ninguna   \n259418           0.0  ...                NaN             Ninguna   \n259419           0.0  ...                NaN             Ninguna   \n259422           0.0  ...                NaN             Ninguna   \n259430           0.0  ...                NaN             Ninguna   \n259431           0.0  ...                NaN             Ninguna   \n259432           0.0  ...                NaN             Ninguna   \n259441           0.0  ...                NaN             Ninguna   \n259449           0.0  ...                NaN             Ninguna   \n259452           0.0  ...                NaN             Ninguna   \n259453          27.0  ...                NaN             Ninguna   \n259454           3.0  ...                NaN             Ninguna   \n259455           3.0  ...                NaN             Ninguna   \n259456          12.0  ...                NaN             Ninguna   \n\n        is_cancelled  is_courtesy  delivery_name        order_type  price_alt   \n259397         False        False   mr. delivery          delivery       20.0  \\\n259398         False        False           None       para llevar       22.0   \n259399         False        False   mr. delivery          delivery       20.0   \n259400         False        False   mr. delivery          delivery       20.0   \n259401         False        False   mr. delivery          delivery       20.0   \n259402         False        False   mr. delivery          delivery       20.0   \n259417         False        False           None       para llevar       25.0   \n259418         False        False   mr. delivery          delivery       20.0   \n259419         False        False   mr. delivery          delivery       20.0   \n259422         False        False   mr. delivery          delivery       20.0   \n259430         False        False   mr. delivery          delivery       20.0   \n259431         False        False   mr. delivery          delivery       20.0   \n259432         False        False   mr. delivery          delivery       20.0   \n259441         False        False   mr. delivery          delivery       20.0   \n259449         False        False   mr. delivery          delivery       20.0   \n259452         False        False   mr. delivery          delivery       20.0   \n259453         False        False           None  en sala-sin mesa       27.0   \n259454         False        False           None  en sala-sin mesa        3.0   \n259455         False        False           None  en sala-sin mesa        3.0   \n259456         False        False           None  en sala-sin mesa       12.0   \n\n       quantity_alt to_pay_xprod_alt delivery_cost  \n259397            1             20.0          20.0  \n259398            1             22.0             0  \n259399            1             20.0          20.0  \n259400            1             20.0          20.0  \n259401            1             20.0          20.0  \n259402            1             20.0          20.0  \n259417            1             25.0             0  \n259418            1             20.0          20.0  \n259419            1             20.0          20.0  \n259422            1             20.0          20.0  \n259430            1             20.0          20.0  \n259431            1             20.0          20.0  \n259432            1             20.0          20.0  \n259441            1             20.0          20.0  \n259449            1             20.0          20.0  \n259452            1             20.0          20.0  \n259453            1             27.0             0  \n259454            1              3.0             0  \n259455            1              3.0             0  \n259456            1             12.0             0  \n\n[20 rows x 27 columns]",
      "text/html": "<div>\n<style scoped>\n    .dataframe tbody tr th:only-of-type {\n        vertical-align: middle;\n    }\n\n    .dataframe tbody tr th {\n        vertical-align: top;\n    }\n\n    .dataframe thead th {\n        text-align: right;\n    }\n</style>\n<table border=\"1\" class=\"dataframe\">\n  <thead>\n    <tr style=\"text-align: right;\">\n      <th></th>\n      <th>order_id</th>\n      <th>system_date</th>\n      <th>time</th>\n      <th>group_classifier</th>\n      <th>classification</th>\n      <th>product</th>\n      <th>prod_state</th>\n      <th>price</th>\n      <th>quantity</th>\n      <th>to_pay_xprod</th>\n      <th>...</th>\n      <th>modification_date</th>\n      <th>modification_reason</th>\n      <th>is_cancelled</th>\n      <th>is_courtesy</th>\n      <th>delivery_name</th>\n      <th>order_type</th>\n      <th>price_alt</th>\n      <th>quantity_alt</th>\n      <th>to_pay_xprod_alt</th>\n      <th>delivery_cost</th>\n    </tr>\n  </thead>\n  <tbody>\n    <tr>\n      <th>259397</th>\n      <td>421557</td>\n      <td>2019-11-21</td>\n      <td>1900-01-01 14:19:57</td>\n      <td>menu</td>\n      <td>delivery</td>\n      <td>delivery</td>\n      <td>activo</td>\n      <td>0.0</td>\n      <td>0</td>\n      <td>0.0</td>\n      <td>...</td>\n      <td>NaN</td>\n      <td>Ninguna</td>\n      <td>False</td>\n      <td>False</td>\n      <td>mr. delivery</td>\n      <td>delivery</td>\n      <td>20.0</td>\n      <td>1</td>\n      <td>20.0</td>\n      <td>20.0</td>\n    </tr>\n    <tr>\n      <th>259398</th>\n      <td>421558</td>\n      <td>2019-11-21</td>\n      <td>1900-01-01 14:23:18</td>\n      <td>menu</td>\n      <td>sandwiches</td>\n      <td>niki's club</td>\n      <td>activo</td>\n      <td>22.0</td>\n      <td>1</td>\n      <td>22.0</td>\n      <td>...</td>\n      <td>NaN</td>\n      <td>Ninguna</td>\n      <td>False</td>\n      <td>False</td>\n      <td>None</td>\n      <td>para llevar</td>\n      <td>22.0</td>\n      <td>1</td>\n      <td>22.0</td>\n      <td>0</td>\n    </tr>\n    <tr>\n      <th>259399</th>\n      <td>421558</td>\n      <td>2019-11-21</td>\n      <td>1900-01-01 14:23:18</td>\n      <td>menu</td>\n      <td>delivery</td>\n      <td>delivery</td>\n      <td>activo</td>\n      <td>0.0</td>\n      <td>0</td>\n      <td>0.0</td>\n      <td>...</td>\n      <td>NaN</td>\n      <td>Ninguna</td>\n      <td>False</td>\n      <td>False</td>\n      <td>mr. delivery</td>\n      <td>delivery</td>\n      <td>20.0</td>\n      <td>1</td>\n      <td>20.0</td>\n      <td>20.0</td>\n    </tr>\n    <tr>\n      <th>259400</th>\n      <td>421559</td>\n      <td>2019-11-21</td>\n      <td>1900-01-01 14:37:26</td>\n      <td>menu</td>\n      <td>delivery</td>\n      <td>delivery</td>\n      <td>activo</td>\n      <td>0.0</td>\n      <td>0</td>\n      <td>0.0</td>\n      <td>...</td>\n      <td>NaN</td>\n      <td>Ninguna</td>\n      <td>False</td>\n      <td>False</td>\n      <td>mr. delivery</td>\n      <td>delivery</td>\n      <td>20.0</td>\n      <td>1</td>\n      <td>20.0</td>\n      <td>20.0</td>\n    </tr>\n    <tr>\n      <th>259401</th>\n      <td>421560</td>\n      <td>2019-11-21</td>\n      <td>1900-01-01 14:45:52</td>\n      <td>menu</td>\n      <td>delivery</td>\n      <td>delivery</td>\n      <td>activo</td>\n      <td>0.0</td>\n      <td>0</td>\n      <td>0.0</td>\n      <td>...</td>\n      <td>NaN</td>\n      <td>Ninguna</td>\n      <td>False</td>\n      <td>False</td>\n      <td>mr. delivery</td>\n      <td>delivery</td>\n      <td>20.0</td>\n      <td>1</td>\n      <td>20.0</td>\n      <td>20.0</td>\n    </tr>\n    <tr>\n      <th>259402</th>\n      <td>421561</td>\n      <td>2019-11-21</td>\n      <td>1900-01-01 14:48:22</td>\n      <td>menu</td>\n      <td>delivery</td>\n      <td>delivery</td>\n      <td>activo</td>\n      <td>0.0</td>\n      <td>0</td>\n      <td>0.0</td>\n      <td>...</td>\n      <td>NaN</td>\n      <td>Ninguna</td>\n      <td>False</td>\n      <td>False</td>\n      <td>mr. delivery</td>\n      <td>delivery</td>\n      <td>20.0</td>\n      <td>1</td>\n      <td>20.0</td>\n      <td>20.0</td>\n    </tr>\n    <tr>\n      <th>259417</th>\n      <td>421572</td>\n      <td>2019-11-21</td>\n      <td>1900-01-01 16:59:24</td>\n      <td>menu</td>\n      <td>fingers</td>\n      <td>fingers miel</td>\n      <td>activo</td>\n      <td>25.0</td>\n      <td>1</td>\n      <td>25.0</td>\n      <td>...</td>\n      <td>NaN</td>\n      <td>Ninguna</td>\n      <td>False</td>\n      <td>False</td>\n      <td>None</td>\n      <td>para llevar</td>\n      <td>25.0</td>\n      <td>1</td>\n      <td>25.0</td>\n      <td>0</td>\n    </tr>\n    <tr>\n      <th>259418</th>\n      <td>421572</td>\n      <td>2019-11-21</td>\n      <td>1900-01-01 16:59:24</td>\n      <td>menu</td>\n      <td>delivery</td>\n      <td>delivery</td>\n      <td>activo</td>\n      <td>0.0</td>\n      <td>0</td>\n      <td>0.0</td>\n      <td>...</td>\n      <td>NaN</td>\n      <td>Ninguna</td>\n      <td>False</td>\n      <td>False</td>\n      <td>mr. delivery</td>\n      <td>delivery</td>\n      <td>20.0</td>\n      <td>1</td>\n      <td>20.0</td>\n      <td>20.0</td>\n    </tr>\n    <tr>\n      <th>259419</th>\n      <td>421573</td>\n      <td>2019-11-21</td>\n      <td>1900-01-01 17:01:04</td>\n      <td>menu</td>\n      <td>delivery</td>\n      <td>delivery</td>\n      <td>activo</td>\n      <td>0.0</td>\n      <td>0</td>\n      <td>0.0</td>\n      <td>...</td>\n      <td>NaN</td>\n      <td>Ninguna</td>\n      <td>False</td>\n      <td>False</td>\n      <td>mr. delivery</td>\n      <td>delivery</td>\n      <td>20.0</td>\n      <td>1</td>\n      <td>20.0</td>\n      <td>20.0</td>\n    </tr>\n    <tr>\n      <th>259422</th>\n      <td>421576</td>\n      <td>2019-11-21</td>\n      <td>1900-01-01 17:10:24</td>\n      <td>menu</td>\n      <td>delivery</td>\n      <td>delivery</td>\n      <td>activo</td>\n      <td>0.0</td>\n      <td>0</td>\n      <td>0.0</td>\n      <td>...</td>\n      <td>NaN</td>\n      <td>Ninguna</td>\n      <td>False</td>\n      <td>False</td>\n      <td>mr. delivery</td>\n      <td>delivery</td>\n      <td>20.0</td>\n      <td>1</td>\n      <td>20.0</td>\n      <td>20.0</td>\n    </tr>\n    <tr>\n      <th>259430</th>\n      <td>421581</td>\n      <td>2019-11-21</td>\n      <td>1900-01-01 17:48:16</td>\n      <td>menu</td>\n      <td>delivery</td>\n      <td>delivery</td>\n      <td>activo</td>\n      <td>0.0</td>\n      <td>0</td>\n      <td>0.0</td>\n      <td>...</td>\n      <td>NaN</td>\n      <td>Ninguna</td>\n      <td>False</td>\n      <td>False</td>\n      <td>mr. delivery</td>\n      <td>delivery</td>\n      <td>20.0</td>\n      <td>1</td>\n      <td>20.0</td>\n      <td>20.0</td>\n    </tr>\n    <tr>\n      <th>259431</th>\n      <td>421582</td>\n      <td>2019-11-21</td>\n      <td>1900-01-01 17:50:23</td>\n      <td>menu</td>\n      <td>delivery</td>\n      <td>delivery</td>\n      <td>activo</td>\n      <td>0.0</td>\n      <td>0</td>\n      <td>0.0</td>\n      <td>...</td>\n      <td>NaN</td>\n      <td>Ninguna</td>\n      <td>False</td>\n      <td>False</td>\n      <td>mr. delivery</td>\n      <td>delivery</td>\n      <td>20.0</td>\n      <td>1</td>\n      <td>20.0</td>\n      <td>20.0</td>\n    </tr>\n    <tr>\n      <th>259432</th>\n      <td>421583</td>\n      <td>2019-11-21</td>\n      <td>1900-01-01 17:59:33</td>\n      <td>menu</td>\n      <td>delivery</td>\n      <td>delivery</td>\n      <td>activo</td>\n      <td>0.0</td>\n      <td>0</td>\n      <td>0.0</td>\n      <td>...</td>\n      <td>NaN</td>\n      <td>Ninguna</td>\n      <td>False</td>\n      <td>False</td>\n      <td>mr. delivery</td>\n      <td>delivery</td>\n      <td>20.0</td>\n      <td>1</td>\n      <td>20.0</td>\n      <td>20.0</td>\n    </tr>\n    <tr>\n      <th>259441</th>\n      <td>421589</td>\n      <td>2019-11-21</td>\n      <td>1900-01-01 18:20:37</td>\n      <td>menu</td>\n      <td>delivery</td>\n      <td>delivery</td>\n      <td>activo</td>\n      <td>0.0</td>\n      <td>0</td>\n      <td>0.0</td>\n      <td>...</td>\n      <td>NaN</td>\n      <td>Ninguna</td>\n      <td>False</td>\n      <td>False</td>\n      <td>mr. delivery</td>\n      <td>delivery</td>\n      <td>20.0</td>\n      <td>1</td>\n      <td>20.0</td>\n      <td>20.0</td>\n    </tr>\n    <tr>\n      <th>259449</th>\n      <td>421595</td>\n      <td>2019-11-21</td>\n      <td>1900-01-01 18:47:20</td>\n      <td>menu</td>\n      <td>delivery</td>\n      <td>delivery</td>\n      <td>activo</td>\n      <td>0.0</td>\n      <td>0</td>\n      <td>0.0</td>\n      <td>...</td>\n      <td>NaN</td>\n      <td>Ninguna</td>\n      <td>False</td>\n      <td>False</td>\n      <td>mr. delivery</td>\n      <td>delivery</td>\n      <td>20.0</td>\n      <td>1</td>\n      <td>20.0</td>\n      <td>20.0</td>\n    </tr>\n    <tr>\n      <th>259452</th>\n      <td>421598</td>\n      <td>2019-11-21</td>\n      <td>1900-01-01 19:02:11</td>\n      <td>menu</td>\n      <td>delivery</td>\n      <td>delivery</td>\n      <td>activo</td>\n      <td>0.0</td>\n      <td>0</td>\n      <td>0.0</td>\n      <td>...</td>\n      <td>NaN</td>\n      <td>Ninguna</td>\n      <td>False</td>\n      <td>False</td>\n      <td>mr. delivery</td>\n      <td>delivery</td>\n      <td>20.0</td>\n      <td>1</td>\n      <td>20.0</td>\n      <td>20.0</td>\n    </tr>\n    <tr>\n      <th>259453</th>\n      <td>421598</td>\n      <td>2019-11-21</td>\n      <td>1900-01-01 19:02:11</td>\n      <td>menu</td>\n      <td>finger</td>\n      <td>finger</td>\n      <td>inactivo</td>\n      <td>27.0</td>\n      <td>1</td>\n      <td>27.0</td>\n      <td>...</td>\n      <td>NaN</td>\n      <td>Ninguna</td>\n      <td>False</td>\n      <td>False</td>\n      <td>None</td>\n      <td>en sala-sin mesa</td>\n      <td>27.0</td>\n      <td>1</td>\n      <td>27.0</td>\n      <td>0</td>\n    </tr>\n    <tr>\n      <th>259454</th>\n      <td>421598</td>\n      <td>2019-11-21</td>\n      <td>1900-01-01 19:02:11</td>\n      <td>otros</td>\n      <td>product</td>\n      <td>salsa picante</td>\n      <td>activo</td>\n      <td>3.0</td>\n      <td>1</td>\n      <td>3.0</td>\n      <td>...</td>\n      <td>NaN</td>\n      <td>Ninguna</td>\n      <td>False</td>\n      <td>False</td>\n      <td>None</td>\n      <td>en sala-sin mesa</td>\n      <td>3.0</td>\n      <td>1</td>\n      <td>3.0</td>\n      <td>0</td>\n    </tr>\n    <tr>\n      <th>259455</th>\n      <td>421598</td>\n      <td>2019-11-21</td>\n      <td>1900-01-01 19:02:11</td>\n      <td>otros</td>\n      <td>product</td>\n      <td>salsa queso</td>\n      <td>activo</td>\n      <td>3.0</td>\n      <td>1</td>\n      <td>3.0</td>\n      <td>...</td>\n      <td>NaN</td>\n      <td>Ninguna</td>\n      <td>False</td>\n      <td>False</td>\n      <td>None</td>\n      <td>en sala-sin mesa</td>\n      <td>3.0</td>\n      <td>1</td>\n      <td>3.0</td>\n      <td>0</td>\n    </tr>\n    <tr>\n      <th>259456</th>\n      <td>421598</td>\n      <td>2019-11-21</td>\n      <td>1900-01-01 19:02:11</td>\n      <td>bebidas</td>\n      <td>1 lt</td>\n      <td>sprite 1lt</td>\n      <td>activo</td>\n      <td>12.0</td>\n      <td>1</td>\n      <td>12.0</td>\n      <td>...</td>\n      <td>NaN</td>\n      <td>Ninguna</td>\n      <td>False</td>\n      <td>False</td>\n      <td>None</td>\n      <td>en sala-sin mesa</td>\n      <td>12.0</td>\n      <td>1</td>\n      <td>12.0</td>\n      <td>0</td>\n    </tr>\n  </tbody>\n</table>\n<p>20 rows × 27 columns</p>\n</div>"
     },
     "execution_count": 166,
     "metadata": {},
     "output_type": "execute_result"
    }
   ],
   "execution_count": 166
  },
  {
   "cell_type": "code",
   "id": "aa9abe9043d7b874",
   "metadata": {
    "ExecuteTime": {
     "end_time": "2024-07-03T20:44:11.588091400Z",
     "start_time": "2024-07-03T20:44:11.002756300Z"
    }
   },
   "source": [
    "# Change order_type to delivery when it correspond \n",
    "resta_df.loc[resta_df['order_id'].isin(deliveries_orderids),'order_type'] = 'delivery'"
   ],
   "outputs": [],
   "execution_count": 167
  },
  {
   "cell_type": "code",
   "id": "ca3e0dcc5c835d22",
   "metadata": {
    "ExecuteTime": {
     "end_time": "2024-07-03T20:44:11.847449600Z",
     "start_time": "2024-07-03T20:44:11.050092300Z"
    }
   },
   "source": [
    "cols_delivery_list=['order_id','system_date','product','price','quantity','delivery_cost','tot_order_payment','delivery_name','price_alt']"
   ],
   "outputs": [],
   "execution_count": 168
  },
  {
   "cell_type": "code",
   "id": "e29c5321d39a2caf",
   "metadata": {
    "ExecuteTime": {
     "end_time": "2024-07-03T20:44:12.074763500Z",
     "start_time": "2024-07-03T20:44:11.173437400Z"
    }
   },
   "source": [
    "resta_df.loc[resta_df['order_id'].isin(deliveries_orderids),cols_delivery_list].head(50)"
   ],
   "outputs": [
    {
     "data": {
      "text/plain": "        order_id system_date             product  price  quantity   \n259397    421557  2019-11-21            delivery    0.0         0  \\\n259398    421558  2019-11-21         niki's club   22.0         1   \n259399    421558  2019-11-21            delivery    0.0         0   \n259400    421559  2019-11-21            delivery    0.0         0   \n259401    421560  2019-11-21            delivery    0.0         0   \n259402    421561  2019-11-21            delivery    0.0         0   \n259417    421572  2019-11-21        fingers miel   25.0         1   \n259418    421572  2019-11-21            delivery    0.0         0   \n259419    421573  2019-11-21            delivery    0.0         0   \n259422    421576  2019-11-21            delivery    0.0         0   \n259430    421581  2019-11-21            delivery    0.0         0   \n259431    421582  2019-11-21            delivery    0.0         0   \n259432    421583  2019-11-21            delivery    0.0         0   \n259441    421589  2019-11-21            delivery    0.0         0   \n259449    421595  2019-11-21            delivery    0.0         0   \n259452    421598  2019-11-21            delivery    0.0         0   \n259453    421598  2019-11-21              finger   27.0         1   \n259454    421598  2019-11-21       salsa picante    3.0         1   \n259455    421598  2019-11-21         salsa queso    3.0         1   \n259456    421598  2019-11-21          sprite 1lt   12.0         1   \n259458    422412  2019-11-21            delivery    0.0         0   \n259459    422412  2019-11-21          salchibeef   22.0         1   \n259460    422413  2019-11-21       fingers queso   25.0         1   \n259461    422413  2019-11-21            delivery    0.0         0   \n259467    422418  2019-11-21            delivery    0.0         0   \n259468    422418  2019-11-21              finger   27.0         1   \n259469    422418  2019-11-21      salsa albahaca    3.0         1   \n259470    422419  2019-11-21            delivery    0.0         0   \n259471    422419  2019-11-21              finger   27.0         1   \n259472    422419  2019-11-21       salsa picante    3.0         1   \n259474    422421  2019-11-21          salchipapa   20.0         1   \n259475    422421  2019-11-21            delivery    0.0         0   \n259478    422423  2019-11-21            delivery    0.0         0   \n259479    422424  2019-11-21          salchipapa   20.0         1   \n259480    422424  2019-11-21            delivery    0.0         0   \n259495    422437  2019-11-22     h4mburgu cl4sic   18.0         1   \n259496    422437  2019-11-22            delivery    0.0         0   \n259498    422439  2019-11-22            delivery    0.0         0   \n259499    422439  2019-11-22         costillitas   40.0         1   \n259522    422459  2019-11-22            delivery    0.0         0   \n259523    422459  2019-11-22  pollo a la canasta   22.0         1   \n259531    422466  2019-11-22            delivery    0.0         0   \n259532    422466  2019-11-22  pollo a la canasta   22.0         1   \n259533    422467  2019-11-22            delivery    0.0         0   \n259534    422467  2019-11-22              finger   27.0         1   \n259539    422471  2019-11-22            delivery    0.0         0   \n259540    422472  2019-11-22            delivery    0.0         0   \n259541    422472  2019-11-22    fingers barbacoa   25.0         1   \n259543    422474  2019-11-22              finger   27.0         1   \n259544    422474  2019-11-22            delivery    0.0         0   \n\n       delivery_cost  tot_order_payment delivery_name  price_alt  \n259397          20.0               20.0  mr. delivery       20.0  \n259398             0               42.0          None       22.0  \n259399          20.0               42.0  mr. delivery       20.0  \n259400          20.0               20.0  mr. delivery       20.0  \n259401          20.0               20.0  mr. delivery       20.0  \n259402          20.0               20.0  mr. delivery       20.0  \n259417             0               45.0          None       25.0  \n259418          20.0               45.0  mr. delivery       20.0  \n259419          20.0               20.0  mr. delivery       20.0  \n259422          20.0               20.0  mr. delivery       20.0  \n259430          20.0               20.0  mr. delivery       20.0  \n259431          20.0               20.0  mr. delivery       20.0  \n259432          20.0               20.0  mr. delivery       20.0  \n259441          20.0               20.0  mr. delivery       20.0  \n259449          20.0               20.0  mr. delivery       20.0  \n259452          20.0               65.0  mr. delivery       20.0  \n259453             0               65.0          None       27.0  \n259454             0               65.0          None        3.0  \n259455             0               65.0          None        3.0  \n259456             0               65.0          None       12.0  \n259458          20.0               42.0  mr. delivery       20.0  \n259459             0               42.0          None       22.0  \n259460             0               45.0          None       25.0  \n259461          20.0               45.0  mr. delivery       20.0  \n259467          20.0               50.0  mr. delivery       20.0  \n259468             0               50.0          None       27.0  \n259469             0               50.0          None        3.0  \n259470          20.0               50.0  mr. delivery       20.0  \n259471             0               50.0          None       27.0  \n259472             0               50.0          None        3.0  \n259474             0               40.0          None       20.0  \n259475          20.0               40.0  mr. delivery       20.0  \n259478          20.0               20.0  mr. delivery       20.0  \n259479             0               40.0          None       20.0  \n259480          20.0               40.0  mr. delivery       20.0  \n259495             0               38.0          None       18.0  \n259496          20.0               38.0  mr. delivery       20.0  \n259498          20.0               60.0  mr. delivery       20.0  \n259499             0               60.0          None       40.0  \n259522          20.0               42.0  mr. delivery       20.0  \n259523             0               42.0          None       22.0  \n259531          20.0               42.0  mr. delivery       20.0  \n259532             0               42.0          None       22.0  \n259533          20.0               47.0  mr. delivery       20.0  \n259534             0               47.0          None       27.0  \n259539          20.0               20.0  mr. delivery       20.0  \n259540          20.0               45.0  mr. delivery       20.0  \n259541             0               45.0          None       25.0  \n259543             0               47.0          None       27.0  \n259544          20.0               47.0  mr. delivery       20.0  ",
      "text/html": "<div>\n<style scoped>\n    .dataframe tbody tr th:only-of-type {\n        vertical-align: middle;\n    }\n\n    .dataframe tbody tr th {\n        vertical-align: top;\n    }\n\n    .dataframe thead th {\n        text-align: right;\n    }\n</style>\n<table border=\"1\" class=\"dataframe\">\n  <thead>\n    <tr style=\"text-align: right;\">\n      <th></th>\n      <th>order_id</th>\n      <th>system_date</th>\n      <th>product</th>\n      <th>price</th>\n      <th>quantity</th>\n      <th>delivery_cost</th>\n      <th>tot_order_payment</th>\n      <th>delivery_name</th>\n      <th>price_alt</th>\n    </tr>\n  </thead>\n  <tbody>\n    <tr>\n      <th>259397</th>\n      <td>421557</td>\n      <td>2019-11-21</td>\n      <td>delivery</td>\n      <td>0.0</td>\n      <td>0</td>\n      <td>20.0</td>\n      <td>20.0</td>\n      <td>mr. delivery</td>\n      <td>20.0</td>\n    </tr>\n    <tr>\n      <th>259398</th>\n      <td>421558</td>\n      <td>2019-11-21</td>\n      <td>niki's club</td>\n      <td>22.0</td>\n      <td>1</td>\n      <td>0</td>\n      <td>42.0</td>\n      <td>None</td>\n      <td>22.0</td>\n    </tr>\n    <tr>\n      <th>259399</th>\n      <td>421558</td>\n      <td>2019-11-21</td>\n      <td>delivery</td>\n      <td>0.0</td>\n      <td>0</td>\n      <td>20.0</td>\n      <td>42.0</td>\n      <td>mr. delivery</td>\n      <td>20.0</td>\n    </tr>\n    <tr>\n      <th>259400</th>\n      <td>421559</td>\n      <td>2019-11-21</td>\n      <td>delivery</td>\n      <td>0.0</td>\n      <td>0</td>\n      <td>20.0</td>\n      <td>20.0</td>\n      <td>mr. delivery</td>\n      <td>20.0</td>\n    </tr>\n    <tr>\n      <th>259401</th>\n      <td>421560</td>\n      <td>2019-11-21</td>\n      <td>delivery</td>\n      <td>0.0</td>\n      <td>0</td>\n      <td>20.0</td>\n      <td>20.0</td>\n      <td>mr. delivery</td>\n      <td>20.0</td>\n    </tr>\n    <tr>\n      <th>259402</th>\n      <td>421561</td>\n      <td>2019-11-21</td>\n      <td>delivery</td>\n      <td>0.0</td>\n      <td>0</td>\n      <td>20.0</td>\n      <td>20.0</td>\n      <td>mr. delivery</td>\n      <td>20.0</td>\n    </tr>\n    <tr>\n      <th>259417</th>\n      <td>421572</td>\n      <td>2019-11-21</td>\n      <td>fingers miel</td>\n      <td>25.0</td>\n      <td>1</td>\n      <td>0</td>\n      <td>45.0</td>\n      <td>None</td>\n      <td>25.0</td>\n    </tr>\n    <tr>\n      <th>259418</th>\n      <td>421572</td>\n      <td>2019-11-21</td>\n      <td>delivery</td>\n      <td>0.0</td>\n      <td>0</td>\n      <td>20.0</td>\n      <td>45.0</td>\n      <td>mr. delivery</td>\n      <td>20.0</td>\n    </tr>\n    <tr>\n      <th>259419</th>\n      <td>421573</td>\n      <td>2019-11-21</td>\n      <td>delivery</td>\n      <td>0.0</td>\n      <td>0</td>\n      <td>20.0</td>\n      <td>20.0</td>\n      <td>mr. delivery</td>\n      <td>20.0</td>\n    </tr>\n    <tr>\n      <th>259422</th>\n      <td>421576</td>\n      <td>2019-11-21</td>\n      <td>delivery</td>\n      <td>0.0</td>\n      <td>0</td>\n      <td>20.0</td>\n      <td>20.0</td>\n      <td>mr. delivery</td>\n      <td>20.0</td>\n    </tr>\n    <tr>\n      <th>259430</th>\n      <td>421581</td>\n      <td>2019-11-21</td>\n      <td>delivery</td>\n      <td>0.0</td>\n      <td>0</td>\n      <td>20.0</td>\n      <td>20.0</td>\n      <td>mr. delivery</td>\n      <td>20.0</td>\n    </tr>\n    <tr>\n      <th>259431</th>\n      <td>421582</td>\n      <td>2019-11-21</td>\n      <td>delivery</td>\n      <td>0.0</td>\n      <td>0</td>\n      <td>20.0</td>\n      <td>20.0</td>\n      <td>mr. delivery</td>\n      <td>20.0</td>\n    </tr>\n    <tr>\n      <th>259432</th>\n      <td>421583</td>\n      <td>2019-11-21</td>\n      <td>delivery</td>\n      <td>0.0</td>\n      <td>0</td>\n      <td>20.0</td>\n      <td>20.0</td>\n      <td>mr. delivery</td>\n      <td>20.0</td>\n    </tr>\n    <tr>\n      <th>259441</th>\n      <td>421589</td>\n      <td>2019-11-21</td>\n      <td>delivery</td>\n      <td>0.0</td>\n      <td>0</td>\n      <td>20.0</td>\n      <td>20.0</td>\n      <td>mr. delivery</td>\n      <td>20.0</td>\n    </tr>\n    <tr>\n      <th>259449</th>\n      <td>421595</td>\n      <td>2019-11-21</td>\n      <td>delivery</td>\n      <td>0.0</td>\n      <td>0</td>\n      <td>20.0</td>\n      <td>20.0</td>\n      <td>mr. delivery</td>\n      <td>20.0</td>\n    </tr>\n    <tr>\n      <th>259452</th>\n      <td>421598</td>\n      <td>2019-11-21</td>\n      <td>delivery</td>\n      <td>0.0</td>\n      <td>0</td>\n      <td>20.0</td>\n      <td>65.0</td>\n      <td>mr. delivery</td>\n      <td>20.0</td>\n    </tr>\n    <tr>\n      <th>259453</th>\n      <td>421598</td>\n      <td>2019-11-21</td>\n      <td>finger</td>\n      <td>27.0</td>\n      <td>1</td>\n      <td>0</td>\n      <td>65.0</td>\n      <td>None</td>\n      <td>27.0</td>\n    </tr>\n    <tr>\n      <th>259454</th>\n      <td>421598</td>\n      <td>2019-11-21</td>\n      <td>salsa picante</td>\n      <td>3.0</td>\n      <td>1</td>\n      <td>0</td>\n      <td>65.0</td>\n      <td>None</td>\n      <td>3.0</td>\n    </tr>\n    <tr>\n      <th>259455</th>\n      <td>421598</td>\n      <td>2019-11-21</td>\n      <td>salsa queso</td>\n      <td>3.0</td>\n      <td>1</td>\n      <td>0</td>\n      <td>65.0</td>\n      <td>None</td>\n      <td>3.0</td>\n    </tr>\n    <tr>\n      <th>259456</th>\n      <td>421598</td>\n      <td>2019-11-21</td>\n      <td>sprite 1lt</td>\n      <td>12.0</td>\n      <td>1</td>\n      <td>0</td>\n      <td>65.0</td>\n      <td>None</td>\n      <td>12.0</td>\n    </tr>\n    <tr>\n      <th>259458</th>\n      <td>422412</td>\n      <td>2019-11-21</td>\n      <td>delivery</td>\n      <td>0.0</td>\n      <td>0</td>\n      <td>20.0</td>\n      <td>42.0</td>\n      <td>mr. delivery</td>\n      <td>20.0</td>\n    </tr>\n    <tr>\n      <th>259459</th>\n      <td>422412</td>\n      <td>2019-11-21</td>\n      <td>salchibeef</td>\n      <td>22.0</td>\n      <td>1</td>\n      <td>0</td>\n      <td>42.0</td>\n      <td>None</td>\n      <td>22.0</td>\n    </tr>\n    <tr>\n      <th>259460</th>\n      <td>422413</td>\n      <td>2019-11-21</td>\n      <td>fingers queso</td>\n      <td>25.0</td>\n      <td>1</td>\n      <td>0</td>\n      <td>45.0</td>\n      <td>None</td>\n      <td>25.0</td>\n    </tr>\n    <tr>\n      <th>259461</th>\n      <td>422413</td>\n      <td>2019-11-21</td>\n      <td>delivery</td>\n      <td>0.0</td>\n      <td>0</td>\n      <td>20.0</td>\n      <td>45.0</td>\n      <td>mr. delivery</td>\n      <td>20.0</td>\n    </tr>\n    <tr>\n      <th>259467</th>\n      <td>422418</td>\n      <td>2019-11-21</td>\n      <td>delivery</td>\n      <td>0.0</td>\n      <td>0</td>\n      <td>20.0</td>\n      <td>50.0</td>\n      <td>mr. delivery</td>\n      <td>20.0</td>\n    </tr>\n    <tr>\n      <th>259468</th>\n      <td>422418</td>\n      <td>2019-11-21</td>\n      <td>finger</td>\n      <td>27.0</td>\n      <td>1</td>\n      <td>0</td>\n      <td>50.0</td>\n      <td>None</td>\n      <td>27.0</td>\n    </tr>\n    <tr>\n      <th>259469</th>\n      <td>422418</td>\n      <td>2019-11-21</td>\n      <td>salsa albahaca</td>\n      <td>3.0</td>\n      <td>1</td>\n      <td>0</td>\n      <td>50.0</td>\n      <td>None</td>\n      <td>3.0</td>\n    </tr>\n    <tr>\n      <th>259470</th>\n      <td>422419</td>\n      <td>2019-11-21</td>\n      <td>delivery</td>\n      <td>0.0</td>\n      <td>0</td>\n      <td>20.0</td>\n      <td>50.0</td>\n      <td>mr. delivery</td>\n      <td>20.0</td>\n    </tr>\n    <tr>\n      <th>259471</th>\n      <td>422419</td>\n      <td>2019-11-21</td>\n      <td>finger</td>\n      <td>27.0</td>\n      <td>1</td>\n      <td>0</td>\n      <td>50.0</td>\n      <td>None</td>\n      <td>27.0</td>\n    </tr>\n    <tr>\n      <th>259472</th>\n      <td>422419</td>\n      <td>2019-11-21</td>\n      <td>salsa picante</td>\n      <td>3.0</td>\n      <td>1</td>\n      <td>0</td>\n      <td>50.0</td>\n      <td>None</td>\n      <td>3.0</td>\n    </tr>\n    <tr>\n      <th>259474</th>\n      <td>422421</td>\n      <td>2019-11-21</td>\n      <td>salchipapa</td>\n      <td>20.0</td>\n      <td>1</td>\n      <td>0</td>\n      <td>40.0</td>\n      <td>None</td>\n      <td>20.0</td>\n    </tr>\n    <tr>\n      <th>259475</th>\n      <td>422421</td>\n      <td>2019-11-21</td>\n      <td>delivery</td>\n      <td>0.0</td>\n      <td>0</td>\n      <td>20.0</td>\n      <td>40.0</td>\n      <td>mr. delivery</td>\n      <td>20.0</td>\n    </tr>\n    <tr>\n      <th>259478</th>\n      <td>422423</td>\n      <td>2019-11-21</td>\n      <td>delivery</td>\n      <td>0.0</td>\n      <td>0</td>\n      <td>20.0</td>\n      <td>20.0</td>\n      <td>mr. delivery</td>\n      <td>20.0</td>\n    </tr>\n    <tr>\n      <th>259479</th>\n      <td>422424</td>\n      <td>2019-11-21</td>\n      <td>salchipapa</td>\n      <td>20.0</td>\n      <td>1</td>\n      <td>0</td>\n      <td>40.0</td>\n      <td>None</td>\n      <td>20.0</td>\n    </tr>\n    <tr>\n      <th>259480</th>\n      <td>422424</td>\n      <td>2019-11-21</td>\n      <td>delivery</td>\n      <td>0.0</td>\n      <td>0</td>\n      <td>20.0</td>\n      <td>40.0</td>\n      <td>mr. delivery</td>\n      <td>20.0</td>\n    </tr>\n    <tr>\n      <th>259495</th>\n      <td>422437</td>\n      <td>2019-11-22</td>\n      <td>h4mburgu cl4sic</td>\n      <td>18.0</td>\n      <td>1</td>\n      <td>0</td>\n      <td>38.0</td>\n      <td>None</td>\n      <td>18.0</td>\n    </tr>\n    <tr>\n      <th>259496</th>\n      <td>422437</td>\n      <td>2019-11-22</td>\n      <td>delivery</td>\n      <td>0.0</td>\n      <td>0</td>\n      <td>20.0</td>\n      <td>38.0</td>\n      <td>mr. delivery</td>\n      <td>20.0</td>\n    </tr>\n    <tr>\n      <th>259498</th>\n      <td>422439</td>\n      <td>2019-11-22</td>\n      <td>delivery</td>\n      <td>0.0</td>\n      <td>0</td>\n      <td>20.0</td>\n      <td>60.0</td>\n      <td>mr. delivery</td>\n      <td>20.0</td>\n    </tr>\n    <tr>\n      <th>259499</th>\n      <td>422439</td>\n      <td>2019-11-22</td>\n      <td>costillitas</td>\n      <td>40.0</td>\n      <td>1</td>\n      <td>0</td>\n      <td>60.0</td>\n      <td>None</td>\n      <td>40.0</td>\n    </tr>\n    <tr>\n      <th>259522</th>\n      <td>422459</td>\n      <td>2019-11-22</td>\n      <td>delivery</td>\n      <td>0.0</td>\n      <td>0</td>\n      <td>20.0</td>\n      <td>42.0</td>\n      <td>mr. delivery</td>\n      <td>20.0</td>\n    </tr>\n    <tr>\n      <th>259523</th>\n      <td>422459</td>\n      <td>2019-11-22</td>\n      <td>pollo a la canasta</td>\n      <td>22.0</td>\n      <td>1</td>\n      <td>0</td>\n      <td>42.0</td>\n      <td>None</td>\n      <td>22.0</td>\n    </tr>\n    <tr>\n      <th>259531</th>\n      <td>422466</td>\n      <td>2019-11-22</td>\n      <td>delivery</td>\n      <td>0.0</td>\n      <td>0</td>\n      <td>20.0</td>\n      <td>42.0</td>\n      <td>mr. delivery</td>\n      <td>20.0</td>\n    </tr>\n    <tr>\n      <th>259532</th>\n      <td>422466</td>\n      <td>2019-11-22</td>\n      <td>pollo a la canasta</td>\n      <td>22.0</td>\n      <td>1</td>\n      <td>0</td>\n      <td>42.0</td>\n      <td>None</td>\n      <td>22.0</td>\n    </tr>\n    <tr>\n      <th>259533</th>\n      <td>422467</td>\n      <td>2019-11-22</td>\n      <td>delivery</td>\n      <td>0.0</td>\n      <td>0</td>\n      <td>20.0</td>\n      <td>47.0</td>\n      <td>mr. delivery</td>\n      <td>20.0</td>\n    </tr>\n    <tr>\n      <th>259534</th>\n      <td>422467</td>\n      <td>2019-11-22</td>\n      <td>finger</td>\n      <td>27.0</td>\n      <td>1</td>\n      <td>0</td>\n      <td>47.0</td>\n      <td>None</td>\n      <td>27.0</td>\n    </tr>\n    <tr>\n      <th>259539</th>\n      <td>422471</td>\n      <td>2019-11-22</td>\n      <td>delivery</td>\n      <td>0.0</td>\n      <td>0</td>\n      <td>20.0</td>\n      <td>20.0</td>\n      <td>mr. delivery</td>\n      <td>20.0</td>\n    </tr>\n    <tr>\n      <th>259540</th>\n      <td>422472</td>\n      <td>2019-11-22</td>\n      <td>delivery</td>\n      <td>0.0</td>\n      <td>0</td>\n      <td>20.0</td>\n      <td>45.0</td>\n      <td>mr. delivery</td>\n      <td>20.0</td>\n    </tr>\n    <tr>\n      <th>259541</th>\n      <td>422472</td>\n      <td>2019-11-22</td>\n      <td>fingers barbacoa</td>\n      <td>25.0</td>\n      <td>1</td>\n      <td>0</td>\n      <td>45.0</td>\n      <td>None</td>\n      <td>25.0</td>\n    </tr>\n    <tr>\n      <th>259543</th>\n      <td>422474</td>\n      <td>2019-11-22</td>\n      <td>finger</td>\n      <td>27.0</td>\n      <td>1</td>\n      <td>0</td>\n      <td>47.0</td>\n      <td>None</td>\n      <td>27.0</td>\n    </tr>\n    <tr>\n      <th>259544</th>\n      <td>422474</td>\n      <td>2019-11-22</td>\n      <td>delivery</td>\n      <td>0.0</td>\n      <td>0</td>\n      <td>20.0</td>\n      <td>47.0</td>\n      <td>mr. delivery</td>\n      <td>20.0</td>\n    </tr>\n  </tbody>\n</table>\n</div>"
     },
     "execution_count": 169,
     "metadata": {},
     "output_type": "execute_result"
    }
   ],
   "execution_count": 169
  },
  {
   "cell_type": "code",
   "id": "f84f05cb9d2dcfae",
   "metadata": {
    "ExecuteTime": {
     "end_time": "2024-07-03T20:44:12.426515800Z",
     "start_time": "2024-07-03T20:44:11.418886700Z"
    }
   },
   "source": [
    "deliveries_delname = resta_df.loc[(resta_df['order_type']=='delivery')&(resta_df['product']=='delivery'),['order_id','delivery_name']]\n",
    "deliveries_delname.head()"
   ],
   "outputs": [
    {
     "data": {
      "text/plain": "        order_id delivery_name\n259397    421557  mr. delivery\n259399    421558  mr. delivery\n259400    421559  mr. delivery\n259401    421560  mr. delivery\n259402    421561  mr. delivery",
      "text/html": "<div>\n<style scoped>\n    .dataframe tbody tr th:only-of-type {\n        vertical-align: middle;\n    }\n\n    .dataframe tbody tr th {\n        vertical-align: top;\n    }\n\n    .dataframe thead th {\n        text-align: right;\n    }\n</style>\n<table border=\"1\" class=\"dataframe\">\n  <thead>\n    <tr style=\"text-align: right;\">\n      <th></th>\n      <th>order_id</th>\n      <th>delivery_name</th>\n    </tr>\n  </thead>\n  <tbody>\n    <tr>\n      <th>259397</th>\n      <td>421557</td>\n      <td>mr. delivery</td>\n    </tr>\n    <tr>\n      <th>259399</th>\n      <td>421558</td>\n      <td>mr. delivery</td>\n    </tr>\n    <tr>\n      <th>259400</th>\n      <td>421559</td>\n      <td>mr. delivery</td>\n    </tr>\n    <tr>\n      <th>259401</th>\n      <td>421560</td>\n      <td>mr. delivery</td>\n    </tr>\n    <tr>\n      <th>259402</th>\n      <td>421561</td>\n      <td>mr. delivery</td>\n    </tr>\n  </tbody>\n</table>\n</div>"
     },
     "execution_count": 170,
     "metadata": {},
     "output_type": "execute_result"
    }
   ],
   "execution_count": 170
  },
  {
   "cell_type": "code",
   "id": "a986e30525eb7a0e",
   "metadata": {
    "ExecuteTime": {
     "end_time": "2024-07-03T20:44:12.530387500Z",
     "start_time": "2024-07-03T20:44:11.574558800Z"
    }
   },
   "source": [
    "#Aggregating duplicates by concatenating delivery names\n",
    "#deliveries_delname_agg = resta_df[(resta_df['order_type']=='delivery')&(resta_df['product']=='delivery')].groupby('order_id')['delivery_name'].agg(lambda x:', '.join(x)).reset_index()"
   ],
   "outputs": [],
   "execution_count": 171
  },
  {
   "cell_type": "markdown",
   "id": "6aa060ceab2fe5c2",
   "metadata": {},
   "source": [
    "Creation of a new column which contains the correct delivery_names by product"
   ]
  },
  {
   "cell_type": "code",
   "id": "5ee4b660c3bfc703",
   "metadata": {
    "ExecuteTime": {
     "end_time": "2024-07-03T20:44:12.535145200Z",
     "start_time": "2024-07-03T20:44:11.654634Z"
    }
   },
   "source": [
    "#merged_df = pd.merge(resta_df.loc[(resta_df['order_type']=='delivery')], deliveries_delname_agg, on='order_id', how='left', suffixes=('','_new'))"
   ],
   "outputs": [],
   "execution_count": 172
  },
  {
   "cell_type": "code",
   "id": "c84444ac11a3f4f8",
   "metadata": {
    "ExecuteTime": {
     "end_time": "2024-07-03T20:44:13.029598200Z",
     "start_time": "2024-07-03T20:44:11.788566500Z"
    }
   },
   "source": [
    "#Merging the main dataframe with the delivery table to obtain delivery names on the rows that corresponds\n",
    "resta_df_m = pd.merge(resta_df, deliveries_delname, on='order_id', how='left', suffixes=('','_new'))"
   ],
   "outputs": [],
   "execution_count": 173
  },
  {
   "cell_type": "code",
   "id": "4e56adadce8ffdbd",
   "metadata": {
    "ExecuteTime": {
     "end_time": "2024-07-03T20:44:13.031590500Z",
     "start_time": "2024-07-03T20:44:12.218271500Z"
    }
   },
   "source": [
    "resta_df_m.tail(20)"
   ],
   "outputs": [
    {
     "data": {
      "text/plain": "        order_id system_date                time group_classifier   \n505101    585868  2022-12-16 1900-01-01 18:07:15            otros  \\\n505102    585868  2022-12-16 1900-01-01 18:07:15          bebidas   \n505103    585869  2022-12-16 1900-01-01 18:21:04             menu   \n505104    585870  2022-12-16 1900-01-01 18:22:33             menu   \n505105    585870  2022-12-16 1900-01-01 18:22:33          bebidas   \n505106    585871  2022-12-16 1900-01-01 18:32:47             menu   \n505107    585871  2022-12-16 1900-01-01 18:32:47          bebidas   \n505108    585872  2022-12-16 1900-01-01 18:36:42             menu   \n505109    585873  2022-12-16 1900-01-01 18:41:30             menu   \n505110    585874  2022-12-16 1900-01-01 18:42:54             menu   \n505111    585874  2022-12-16 1900-01-01 18:42:54             menu   \n505112    585874  2022-12-16 1900-01-01 18:42:54             menu   \n505113    585874  2022-12-16 1900-01-01 18:42:54          bebidas   \n505114    585874  2022-12-16 1900-01-01 18:42:54             menu   \n505115    585875  2022-12-16 1900-01-01 18:49:18             menu   \n505116    585876  2022-12-16 1900-01-01 18:58:13            otros   \n505117    585877  2022-12-16 1900-01-01 19:02:45             menu   \n505118    585877  2022-12-16 1900-01-01 19:02:45             menu   \n505119    585877  2022-12-16 1900-01-01 19:02:45            otros   \n505120    585877  2022-12-16 1900-01-01 19:02:45          bebidas   \n\n                   classification                     product prod_state   \n505101                    product               salsa picante     activo  \\\n505102                    popular              sprite popular     activo   \n505103  alitas 4 unidades   19 bs           alitas bbq 4 unid     activo   \n505104         alitas 12 unidades         alitas buff 12 unid     activo   \n505105                   personal                 sinalco 330     activo   \n505106   alitas 6 unidades  26 bs        alitas toxica 6 unid     activo   \n505107              jugos - aguas                 fanta 500cc     activo   \n505108             fingers 6 unid         fingers 6 u picante     activo   \n505109  alitas 4 unidades   19 bs      alitas albahaca 4 unid     activo   \n505110                   burguers         hamburguesa clasica     activo   \n505111                   burguers                    mexicana     activo   \n505112   alitas 6 unidades  26 bs      alitas barbacoa 6 unid     activo   \n505113                       2 lt               coca cola 2lt     activo   \n505114                   delivery                    delivery     activo   \n505115         alitas 16 unidades          alitas bbq 16 unid     activo   \n505116                    product          salsa miel mostaza     activo   \n505117   alitas 6 unidades  26 bs   alitas jack daniel 6 unid     activo   \n505118   alitas 6 unidades  26 bs  alitas miel mostaza 6 unid     activo   \n505119                    product               salsa picante     activo   \n505120                    popular              sprite popular     activo   \n\n        price  quantity  to_pay_xprod  ...  modification_reason is_cancelled   \n505101    4.0         1           4.0  ...              Ninguna        False  \\\n505102    8.0         1           8.0  ...              Ninguna        False   \n505103   19.0         1          19.0  ...              Ninguna        False   \n505104   50.0         1          50.0  ...              Ninguna        False   \n505105    4.0         1           4.0  ...              Ninguna        False   \n505106   26.0         1          26.0  ...              Ninguna        False   \n505107    9.0         1           9.0  ...              Ninguna        False   \n505108   33.0         1          33.0  ...              Ninguna        False   \n505109   19.0         1          19.0  ...              Ninguna        False   \n505110   18.0         1          18.0  ...              Ninguna        False   \n505111   27.0         1          27.0  ...              Ninguna        False   \n505112   26.0         1          26.0  ...              Ninguna        False   \n505113   18.0         1          18.0  ...              Ninguna        False   \n505114    0.0         0           0.0  ...              Ninguna        False   \n505115   65.0         1          65.0  ...              Ninguna        False   \n505116    4.0         1           4.0  ...              Ninguna        False   \n505117   26.0         1          26.0  ...              Ninguna        False   \n505118   26.0         1          26.0  ...              Ninguna        False   \n505119    4.0         1           4.0  ...              Ninguna        False   \n505120    8.0         1           8.0  ...              Ninguna        False   \n\n        is_courtesy  delivery_name        order_type price_alt  quantity_alt   \n505101        False           None  en sala-con mesa       4.0             1  \\\n505102        False           None  en sala-con mesa       8.0             1   \n505103        False           None       para llevar      19.0             1   \n505104        False           None  en sala-con mesa      50.0             1   \n505105        False           None  en sala-con mesa       4.0             1   \n505106        False           None  en sala-con mesa      26.0             1   \n505107        False           None  en sala-con mesa       9.0             1   \n505108        False           None  en sala-con mesa      33.0             1   \n505109        False           None       para llevar      19.0             1   \n505110        False           None          delivery      18.0             1   \n505111        False           None          delivery      27.0             1   \n505112        False           None          delivery      26.0             1   \n505113        False           None          delivery      18.0             1   \n505114        False     pedidos ya          delivery       1.0            17   \n505115        False           None       para llevar      65.0             1   \n505116        False           None  en sala-con mesa       4.0             1   \n505117        False           None  en sala-con mesa      26.0             1   \n505118        False           None  en sala-con mesa      26.0             1   \n505119        False           None  en sala-con mesa       4.0             1   \n505120        False           None  en sala-con mesa       8.0             1   \n\n       to_pay_xprod_alt delivery_cost delivery_name_new  \n505101              4.0             0               NaN  \n505102              8.0             0               NaN  \n505103             19.0             0               NaN  \n505104             50.0             0               NaN  \n505105              4.0             0               NaN  \n505106             26.0             0               NaN  \n505107              9.0             0               NaN  \n505108             33.0             0               NaN  \n505109             19.0             0               NaN  \n505110             18.0             0        pedidos ya  \n505111             27.0             0        pedidos ya  \n505112             26.0             0        pedidos ya  \n505113             18.0             0        pedidos ya  \n505114             17.0          17.0        pedidos ya  \n505115             65.0             0               NaN  \n505116              4.0             0               NaN  \n505117             26.0             0               NaN  \n505118             26.0             0               NaN  \n505119              4.0             0               NaN  \n505120              8.0             0               NaN  \n\n[20 rows x 28 columns]",
      "text/html": "<div>\n<style scoped>\n    .dataframe tbody tr th:only-of-type {\n        vertical-align: middle;\n    }\n\n    .dataframe tbody tr th {\n        vertical-align: top;\n    }\n\n    .dataframe thead th {\n        text-align: right;\n    }\n</style>\n<table border=\"1\" class=\"dataframe\">\n  <thead>\n    <tr style=\"text-align: right;\">\n      <th></th>\n      <th>order_id</th>\n      <th>system_date</th>\n      <th>time</th>\n      <th>group_classifier</th>\n      <th>classification</th>\n      <th>product</th>\n      <th>prod_state</th>\n      <th>price</th>\n      <th>quantity</th>\n      <th>to_pay_xprod</th>\n      <th>...</th>\n      <th>modification_reason</th>\n      <th>is_cancelled</th>\n      <th>is_courtesy</th>\n      <th>delivery_name</th>\n      <th>order_type</th>\n      <th>price_alt</th>\n      <th>quantity_alt</th>\n      <th>to_pay_xprod_alt</th>\n      <th>delivery_cost</th>\n      <th>delivery_name_new</th>\n    </tr>\n  </thead>\n  <tbody>\n    <tr>\n      <th>505101</th>\n      <td>585868</td>\n      <td>2022-12-16</td>\n      <td>1900-01-01 18:07:15</td>\n      <td>otros</td>\n      <td>product</td>\n      <td>salsa picante</td>\n      <td>activo</td>\n      <td>4.0</td>\n      <td>1</td>\n      <td>4.0</td>\n      <td>...</td>\n      <td>Ninguna</td>\n      <td>False</td>\n      <td>False</td>\n      <td>None</td>\n      <td>en sala-con mesa</td>\n      <td>4.0</td>\n      <td>1</td>\n      <td>4.0</td>\n      <td>0</td>\n      <td>NaN</td>\n    </tr>\n    <tr>\n      <th>505102</th>\n      <td>585868</td>\n      <td>2022-12-16</td>\n      <td>1900-01-01 18:07:15</td>\n      <td>bebidas</td>\n      <td>popular</td>\n      <td>sprite popular</td>\n      <td>activo</td>\n      <td>8.0</td>\n      <td>1</td>\n      <td>8.0</td>\n      <td>...</td>\n      <td>Ninguna</td>\n      <td>False</td>\n      <td>False</td>\n      <td>None</td>\n      <td>en sala-con mesa</td>\n      <td>8.0</td>\n      <td>1</td>\n      <td>8.0</td>\n      <td>0</td>\n      <td>NaN</td>\n    </tr>\n    <tr>\n      <th>505103</th>\n      <td>585869</td>\n      <td>2022-12-16</td>\n      <td>1900-01-01 18:21:04</td>\n      <td>menu</td>\n      <td>alitas 4 unidades   19 bs</td>\n      <td>alitas bbq 4 unid</td>\n      <td>activo</td>\n      <td>19.0</td>\n      <td>1</td>\n      <td>19.0</td>\n      <td>...</td>\n      <td>Ninguna</td>\n      <td>False</td>\n      <td>False</td>\n      <td>None</td>\n      <td>para llevar</td>\n      <td>19.0</td>\n      <td>1</td>\n      <td>19.0</td>\n      <td>0</td>\n      <td>NaN</td>\n    </tr>\n    <tr>\n      <th>505104</th>\n      <td>585870</td>\n      <td>2022-12-16</td>\n      <td>1900-01-01 18:22:33</td>\n      <td>menu</td>\n      <td>alitas 12 unidades</td>\n      <td>alitas buff 12 unid</td>\n      <td>activo</td>\n      <td>50.0</td>\n      <td>1</td>\n      <td>50.0</td>\n      <td>...</td>\n      <td>Ninguna</td>\n      <td>False</td>\n      <td>False</td>\n      <td>None</td>\n      <td>en sala-con mesa</td>\n      <td>50.0</td>\n      <td>1</td>\n      <td>50.0</td>\n      <td>0</td>\n      <td>NaN</td>\n    </tr>\n    <tr>\n      <th>505105</th>\n      <td>585870</td>\n      <td>2022-12-16</td>\n      <td>1900-01-01 18:22:33</td>\n      <td>bebidas</td>\n      <td>personal</td>\n      <td>sinalco 330</td>\n      <td>activo</td>\n      <td>4.0</td>\n      <td>1</td>\n      <td>4.0</td>\n      <td>...</td>\n      <td>Ninguna</td>\n      <td>False</td>\n      <td>False</td>\n      <td>None</td>\n      <td>en sala-con mesa</td>\n      <td>4.0</td>\n      <td>1</td>\n      <td>4.0</td>\n      <td>0</td>\n      <td>NaN</td>\n    </tr>\n    <tr>\n      <th>505106</th>\n      <td>585871</td>\n      <td>2022-12-16</td>\n      <td>1900-01-01 18:32:47</td>\n      <td>menu</td>\n      <td>alitas 6 unidades  26 bs</td>\n      <td>alitas toxica 6 unid</td>\n      <td>activo</td>\n      <td>26.0</td>\n      <td>1</td>\n      <td>26.0</td>\n      <td>...</td>\n      <td>Ninguna</td>\n      <td>False</td>\n      <td>False</td>\n      <td>None</td>\n      <td>en sala-con mesa</td>\n      <td>26.0</td>\n      <td>1</td>\n      <td>26.0</td>\n      <td>0</td>\n      <td>NaN</td>\n    </tr>\n    <tr>\n      <th>505107</th>\n      <td>585871</td>\n      <td>2022-12-16</td>\n      <td>1900-01-01 18:32:47</td>\n      <td>bebidas</td>\n      <td>jugos - aguas</td>\n      <td>fanta 500cc</td>\n      <td>activo</td>\n      <td>9.0</td>\n      <td>1</td>\n      <td>9.0</td>\n      <td>...</td>\n      <td>Ninguna</td>\n      <td>False</td>\n      <td>False</td>\n      <td>None</td>\n      <td>en sala-con mesa</td>\n      <td>9.0</td>\n      <td>1</td>\n      <td>9.0</td>\n      <td>0</td>\n      <td>NaN</td>\n    </tr>\n    <tr>\n      <th>505108</th>\n      <td>585872</td>\n      <td>2022-12-16</td>\n      <td>1900-01-01 18:36:42</td>\n      <td>menu</td>\n      <td>fingers 6 unid</td>\n      <td>fingers 6 u picante</td>\n      <td>activo</td>\n      <td>33.0</td>\n      <td>1</td>\n      <td>33.0</td>\n      <td>...</td>\n      <td>Ninguna</td>\n      <td>False</td>\n      <td>False</td>\n      <td>None</td>\n      <td>en sala-con mesa</td>\n      <td>33.0</td>\n      <td>1</td>\n      <td>33.0</td>\n      <td>0</td>\n      <td>NaN</td>\n    </tr>\n    <tr>\n      <th>505109</th>\n      <td>585873</td>\n      <td>2022-12-16</td>\n      <td>1900-01-01 18:41:30</td>\n      <td>menu</td>\n      <td>alitas 4 unidades   19 bs</td>\n      <td>alitas albahaca 4 unid</td>\n      <td>activo</td>\n      <td>19.0</td>\n      <td>1</td>\n      <td>19.0</td>\n      <td>...</td>\n      <td>Ninguna</td>\n      <td>False</td>\n      <td>False</td>\n      <td>None</td>\n      <td>para llevar</td>\n      <td>19.0</td>\n      <td>1</td>\n      <td>19.0</td>\n      <td>0</td>\n      <td>NaN</td>\n    </tr>\n    <tr>\n      <th>505110</th>\n      <td>585874</td>\n      <td>2022-12-16</td>\n      <td>1900-01-01 18:42:54</td>\n      <td>menu</td>\n      <td>burguers</td>\n      <td>hamburguesa clasica</td>\n      <td>activo</td>\n      <td>18.0</td>\n      <td>1</td>\n      <td>18.0</td>\n      <td>...</td>\n      <td>Ninguna</td>\n      <td>False</td>\n      <td>False</td>\n      <td>None</td>\n      <td>delivery</td>\n      <td>18.0</td>\n      <td>1</td>\n      <td>18.0</td>\n      <td>0</td>\n      <td>pedidos ya</td>\n    </tr>\n    <tr>\n      <th>505111</th>\n      <td>585874</td>\n      <td>2022-12-16</td>\n      <td>1900-01-01 18:42:54</td>\n      <td>menu</td>\n      <td>burguers</td>\n      <td>mexicana</td>\n      <td>activo</td>\n      <td>27.0</td>\n      <td>1</td>\n      <td>27.0</td>\n      <td>...</td>\n      <td>Ninguna</td>\n      <td>False</td>\n      <td>False</td>\n      <td>None</td>\n      <td>delivery</td>\n      <td>27.0</td>\n      <td>1</td>\n      <td>27.0</td>\n      <td>0</td>\n      <td>pedidos ya</td>\n    </tr>\n    <tr>\n      <th>505112</th>\n      <td>585874</td>\n      <td>2022-12-16</td>\n      <td>1900-01-01 18:42:54</td>\n      <td>menu</td>\n      <td>alitas 6 unidades  26 bs</td>\n      <td>alitas barbacoa 6 unid</td>\n      <td>activo</td>\n      <td>26.0</td>\n      <td>1</td>\n      <td>26.0</td>\n      <td>...</td>\n      <td>Ninguna</td>\n      <td>False</td>\n      <td>False</td>\n      <td>None</td>\n      <td>delivery</td>\n      <td>26.0</td>\n      <td>1</td>\n      <td>26.0</td>\n      <td>0</td>\n      <td>pedidos ya</td>\n    </tr>\n    <tr>\n      <th>505113</th>\n      <td>585874</td>\n      <td>2022-12-16</td>\n      <td>1900-01-01 18:42:54</td>\n      <td>bebidas</td>\n      <td>2 lt</td>\n      <td>coca cola 2lt</td>\n      <td>activo</td>\n      <td>18.0</td>\n      <td>1</td>\n      <td>18.0</td>\n      <td>...</td>\n      <td>Ninguna</td>\n      <td>False</td>\n      <td>False</td>\n      <td>None</td>\n      <td>delivery</td>\n      <td>18.0</td>\n      <td>1</td>\n      <td>18.0</td>\n      <td>0</td>\n      <td>pedidos ya</td>\n    </tr>\n    <tr>\n      <th>505114</th>\n      <td>585874</td>\n      <td>2022-12-16</td>\n      <td>1900-01-01 18:42:54</td>\n      <td>menu</td>\n      <td>delivery</td>\n      <td>delivery</td>\n      <td>activo</td>\n      <td>0.0</td>\n      <td>0</td>\n      <td>0.0</td>\n      <td>...</td>\n      <td>Ninguna</td>\n      <td>False</td>\n      <td>False</td>\n      <td>pedidos ya</td>\n      <td>delivery</td>\n      <td>1.0</td>\n      <td>17</td>\n      <td>17.0</td>\n      <td>17.0</td>\n      <td>pedidos ya</td>\n    </tr>\n    <tr>\n      <th>505115</th>\n      <td>585875</td>\n      <td>2022-12-16</td>\n      <td>1900-01-01 18:49:18</td>\n      <td>menu</td>\n      <td>alitas 16 unidades</td>\n      <td>alitas bbq 16 unid</td>\n      <td>activo</td>\n      <td>65.0</td>\n      <td>1</td>\n      <td>65.0</td>\n      <td>...</td>\n      <td>Ninguna</td>\n      <td>False</td>\n      <td>False</td>\n      <td>None</td>\n      <td>para llevar</td>\n      <td>65.0</td>\n      <td>1</td>\n      <td>65.0</td>\n      <td>0</td>\n      <td>NaN</td>\n    </tr>\n    <tr>\n      <th>505116</th>\n      <td>585876</td>\n      <td>2022-12-16</td>\n      <td>1900-01-01 18:58:13</td>\n      <td>otros</td>\n      <td>product</td>\n      <td>salsa miel mostaza</td>\n      <td>activo</td>\n      <td>4.0</td>\n      <td>1</td>\n      <td>4.0</td>\n      <td>...</td>\n      <td>Ninguna</td>\n      <td>False</td>\n      <td>False</td>\n      <td>None</td>\n      <td>en sala-con mesa</td>\n      <td>4.0</td>\n      <td>1</td>\n      <td>4.0</td>\n      <td>0</td>\n      <td>NaN</td>\n    </tr>\n    <tr>\n      <th>505117</th>\n      <td>585877</td>\n      <td>2022-12-16</td>\n      <td>1900-01-01 19:02:45</td>\n      <td>menu</td>\n      <td>alitas 6 unidades  26 bs</td>\n      <td>alitas jack daniel 6 unid</td>\n      <td>activo</td>\n      <td>26.0</td>\n      <td>1</td>\n      <td>26.0</td>\n      <td>...</td>\n      <td>Ninguna</td>\n      <td>False</td>\n      <td>False</td>\n      <td>None</td>\n      <td>en sala-con mesa</td>\n      <td>26.0</td>\n      <td>1</td>\n      <td>26.0</td>\n      <td>0</td>\n      <td>NaN</td>\n    </tr>\n    <tr>\n      <th>505118</th>\n      <td>585877</td>\n      <td>2022-12-16</td>\n      <td>1900-01-01 19:02:45</td>\n      <td>menu</td>\n      <td>alitas 6 unidades  26 bs</td>\n      <td>alitas miel mostaza 6 unid</td>\n      <td>activo</td>\n      <td>26.0</td>\n      <td>1</td>\n      <td>26.0</td>\n      <td>...</td>\n      <td>Ninguna</td>\n      <td>False</td>\n      <td>False</td>\n      <td>None</td>\n      <td>en sala-con mesa</td>\n      <td>26.0</td>\n      <td>1</td>\n      <td>26.0</td>\n      <td>0</td>\n      <td>NaN</td>\n    </tr>\n    <tr>\n      <th>505119</th>\n      <td>585877</td>\n      <td>2022-12-16</td>\n      <td>1900-01-01 19:02:45</td>\n      <td>otros</td>\n      <td>product</td>\n      <td>salsa picante</td>\n      <td>activo</td>\n      <td>4.0</td>\n      <td>1</td>\n      <td>4.0</td>\n      <td>...</td>\n      <td>Ninguna</td>\n      <td>False</td>\n      <td>False</td>\n      <td>None</td>\n      <td>en sala-con mesa</td>\n      <td>4.0</td>\n      <td>1</td>\n      <td>4.0</td>\n      <td>0</td>\n      <td>NaN</td>\n    </tr>\n    <tr>\n      <th>505120</th>\n      <td>585877</td>\n      <td>2022-12-16</td>\n      <td>1900-01-01 19:02:45</td>\n      <td>bebidas</td>\n      <td>popular</td>\n      <td>sprite popular</td>\n      <td>activo</td>\n      <td>8.0</td>\n      <td>1</td>\n      <td>8.0</td>\n      <td>...</td>\n      <td>Ninguna</td>\n      <td>False</td>\n      <td>False</td>\n      <td>None</td>\n      <td>en sala-con mesa</td>\n      <td>8.0</td>\n      <td>1</td>\n      <td>8.0</td>\n      <td>0</td>\n      <td>NaN</td>\n    </tr>\n  </tbody>\n</table>\n<p>20 rows × 28 columns</p>\n</div>"
     },
     "execution_count": 174,
     "metadata": {},
     "output_type": "execute_result"
    }
   ],
   "execution_count": 174
  },
  {
   "cell_type": "code",
   "id": "5551c38217da4e5c",
   "metadata": {
    "ExecuteTime": {
     "end_time": "2024-07-03T20:44:13.188781300Z",
     "start_time": "2024-07-03T20:44:12.226227400Z"
    }
   },
   "source": [
    "resta_df_m['delivery_name_new'].value_counts()"
   ],
   "outputs": [
    {
     "data": {
      "text/plain": "delivery_name_new\npedidos ya       37443\nyaigo             5316\nmr. delivery      4478\npatio service     1479\ndinki             1163\nlink               555\nxpress             180\nego                143\nfast driver        118\nName: count, dtype: int64"
     },
     "execution_count": 175,
     "metadata": {},
     "output_type": "execute_result"
    }
   ],
   "execution_count": 175
  },
  {
   "cell_type": "markdown",
   "id": "87612806dcf53804",
   "metadata": {},
   "source": [
    "#### Fixing delivery_cost"
   ]
  },
  {
   "cell_type": "code",
   "id": "eb99f8a97ac5ae95",
   "metadata": {
    "ExecuteTime": {
     "end_time": "2024-07-03T20:44:14.478498Z",
     "start_time": "2024-07-03T20:44:12.364702800Z"
    }
   },
   "source": [
    "deliveries_delcost_agg = resta_df_m[(resta_df_m['order_type']=='delivery')&(resta_df_m['product']=='delivery')].groupby('order_id')['delivery_cost'].max().reset_index()"
   ],
   "outputs": [],
   "execution_count": 176
  },
  {
   "cell_type": "code",
   "id": "4a27af4773d63cd2",
   "metadata": {
    "ExecuteTime": {
     "end_time": "2024-07-03T20:44:14.480495800Z",
     "start_time": "2024-07-03T20:44:13.898962600Z"
    }
   },
   "source": [
    "deliveries_delcost_agg.sample(20)"
   ],
   "outputs": [
    {
     "data": {
      "text/plain": "       order_id delivery_cost\n5282     493645           6.0\n18016    575664          21.0\n17388    572024          13.0\n10131    526575          14.0\n16550    566321           7.0\n13275    546418           2.0\n16315    564352           7.0\n10940    533242           9.0\n10715    532312          15.0\n12623    543297          10.0\n6809     505063           9.0\n18063    575972          12.0\n15681    559977           4.0\n4771     488600          10.0\n7905     512353           3.0\n4773     488620          31.0\n8913     519655           4.0\n12153    540017          30.0\n9453     522273          10.0\n16814    568344          19.0",
      "text/html": "<div>\n<style scoped>\n    .dataframe tbody tr th:only-of-type {\n        vertical-align: middle;\n    }\n\n    .dataframe tbody tr th {\n        vertical-align: top;\n    }\n\n    .dataframe thead th {\n        text-align: right;\n    }\n</style>\n<table border=\"1\" class=\"dataframe\">\n  <thead>\n    <tr style=\"text-align: right;\">\n      <th></th>\n      <th>order_id</th>\n      <th>delivery_cost</th>\n    </tr>\n  </thead>\n  <tbody>\n    <tr>\n      <th>5282</th>\n      <td>493645</td>\n      <td>6.0</td>\n    </tr>\n    <tr>\n      <th>18016</th>\n      <td>575664</td>\n      <td>21.0</td>\n    </tr>\n    <tr>\n      <th>17388</th>\n      <td>572024</td>\n      <td>13.0</td>\n    </tr>\n    <tr>\n      <th>10131</th>\n      <td>526575</td>\n      <td>14.0</td>\n    </tr>\n    <tr>\n      <th>16550</th>\n      <td>566321</td>\n      <td>7.0</td>\n    </tr>\n    <tr>\n      <th>13275</th>\n      <td>546418</td>\n      <td>2.0</td>\n    </tr>\n    <tr>\n      <th>16315</th>\n      <td>564352</td>\n      <td>7.0</td>\n    </tr>\n    <tr>\n      <th>10940</th>\n      <td>533242</td>\n      <td>9.0</td>\n    </tr>\n    <tr>\n      <th>10715</th>\n      <td>532312</td>\n      <td>15.0</td>\n    </tr>\n    <tr>\n      <th>12623</th>\n      <td>543297</td>\n      <td>10.0</td>\n    </tr>\n    <tr>\n      <th>6809</th>\n      <td>505063</td>\n      <td>9.0</td>\n    </tr>\n    <tr>\n      <th>18063</th>\n      <td>575972</td>\n      <td>12.0</td>\n    </tr>\n    <tr>\n      <th>15681</th>\n      <td>559977</td>\n      <td>4.0</td>\n    </tr>\n    <tr>\n      <th>4771</th>\n      <td>488600</td>\n      <td>10.0</td>\n    </tr>\n    <tr>\n      <th>7905</th>\n      <td>512353</td>\n      <td>3.0</td>\n    </tr>\n    <tr>\n      <th>4773</th>\n      <td>488620</td>\n      <td>31.0</td>\n    </tr>\n    <tr>\n      <th>8913</th>\n      <td>519655</td>\n      <td>4.0</td>\n    </tr>\n    <tr>\n      <th>12153</th>\n      <td>540017</td>\n      <td>30.0</td>\n    </tr>\n    <tr>\n      <th>9453</th>\n      <td>522273</td>\n      <td>10.0</td>\n    </tr>\n    <tr>\n      <th>16814</th>\n      <td>568344</td>\n      <td>19.0</td>\n    </tr>\n  </tbody>\n</table>\n</div>"
     },
     "execution_count": 177,
     "metadata": {},
     "output_type": "execute_result"
    }
   ],
   "execution_count": 177
  },
  {
   "cell_type": "code",
   "id": "618e8fcf7f369373",
   "metadata": {
    "ExecuteTime": {
     "end_time": "2024-07-03T20:44:14.535054800Z",
     "start_time": "2024-07-03T20:44:13.910882200Z"
    }
   },
   "source": [
    "resta_df_m = pd.merge(resta_df_m, deliveries_delcost_agg, on='order_id', how='left', suffixes=('','_new'))"
   ],
   "outputs": [],
   "execution_count": 178
  },
  {
   "cell_type": "code",
   "id": "805515b78162b257",
   "metadata": {
    "ExecuteTime": {
     "end_time": "2024-07-03T20:44:14.557673300Z",
     "start_time": "2024-07-03T20:44:14.297577300Z"
    }
   },
   "source": [
    "resta_df_m.tail(20)"
   ],
   "outputs": [
    {
     "data": {
      "text/plain": "        order_id system_date                time group_classifier   \n505101    585868  2022-12-16 1900-01-01 18:07:15            otros  \\\n505102    585868  2022-12-16 1900-01-01 18:07:15          bebidas   \n505103    585869  2022-12-16 1900-01-01 18:21:04             menu   \n505104    585870  2022-12-16 1900-01-01 18:22:33             menu   \n505105    585870  2022-12-16 1900-01-01 18:22:33          bebidas   \n505106    585871  2022-12-16 1900-01-01 18:32:47             menu   \n505107    585871  2022-12-16 1900-01-01 18:32:47          bebidas   \n505108    585872  2022-12-16 1900-01-01 18:36:42             menu   \n505109    585873  2022-12-16 1900-01-01 18:41:30             menu   \n505110    585874  2022-12-16 1900-01-01 18:42:54             menu   \n505111    585874  2022-12-16 1900-01-01 18:42:54             menu   \n505112    585874  2022-12-16 1900-01-01 18:42:54             menu   \n505113    585874  2022-12-16 1900-01-01 18:42:54          bebidas   \n505114    585874  2022-12-16 1900-01-01 18:42:54             menu   \n505115    585875  2022-12-16 1900-01-01 18:49:18             menu   \n505116    585876  2022-12-16 1900-01-01 18:58:13            otros   \n505117    585877  2022-12-16 1900-01-01 19:02:45             menu   \n505118    585877  2022-12-16 1900-01-01 19:02:45             menu   \n505119    585877  2022-12-16 1900-01-01 19:02:45            otros   \n505120    585877  2022-12-16 1900-01-01 19:02:45          bebidas   \n\n                   classification                     product prod_state   \n505101                    product               salsa picante     activo  \\\n505102                    popular              sprite popular     activo   \n505103  alitas 4 unidades   19 bs           alitas bbq 4 unid     activo   \n505104         alitas 12 unidades         alitas buff 12 unid     activo   \n505105                   personal                 sinalco 330     activo   \n505106   alitas 6 unidades  26 bs        alitas toxica 6 unid     activo   \n505107              jugos - aguas                 fanta 500cc     activo   \n505108             fingers 6 unid         fingers 6 u picante     activo   \n505109  alitas 4 unidades   19 bs      alitas albahaca 4 unid     activo   \n505110                   burguers         hamburguesa clasica     activo   \n505111                   burguers                    mexicana     activo   \n505112   alitas 6 unidades  26 bs      alitas barbacoa 6 unid     activo   \n505113                       2 lt               coca cola 2lt     activo   \n505114                   delivery                    delivery     activo   \n505115         alitas 16 unidades          alitas bbq 16 unid     activo   \n505116                    product          salsa miel mostaza     activo   \n505117   alitas 6 unidades  26 bs   alitas jack daniel 6 unid     activo   \n505118   alitas 6 unidades  26 bs  alitas miel mostaza 6 unid     activo   \n505119                    product               salsa picante     activo   \n505120                    popular              sprite popular     activo   \n\n        price  quantity  to_pay_xprod  ...  is_cancelled is_courtesy   \n505101    4.0         1           4.0  ...         False       False  \\\n505102    8.0         1           8.0  ...         False       False   \n505103   19.0         1          19.0  ...         False       False   \n505104   50.0         1          50.0  ...         False       False   \n505105    4.0         1           4.0  ...         False       False   \n505106   26.0         1          26.0  ...         False       False   \n505107    9.0         1           9.0  ...         False       False   \n505108   33.0         1          33.0  ...         False       False   \n505109   19.0         1          19.0  ...         False       False   \n505110   18.0         1          18.0  ...         False       False   \n505111   27.0         1          27.0  ...         False       False   \n505112   26.0         1          26.0  ...         False       False   \n505113   18.0         1          18.0  ...         False       False   \n505114    0.0         0           0.0  ...         False       False   \n505115   65.0         1          65.0  ...         False       False   \n505116    4.0         1           4.0  ...         False       False   \n505117   26.0         1          26.0  ...         False       False   \n505118   26.0         1          26.0  ...         False       False   \n505119    4.0         1           4.0  ...         False       False   \n505120    8.0         1           8.0  ...         False       False   \n\n        delivery_name        order_type  price_alt quantity_alt   \n505101           None  en sala-con mesa        4.0            1  \\\n505102           None  en sala-con mesa        8.0            1   \n505103           None       para llevar       19.0            1   \n505104           None  en sala-con mesa       50.0            1   \n505105           None  en sala-con mesa        4.0            1   \n505106           None  en sala-con mesa       26.0            1   \n505107           None  en sala-con mesa        9.0            1   \n505108           None  en sala-con mesa       33.0            1   \n505109           None       para llevar       19.0            1   \n505110           None          delivery       18.0            1   \n505111           None          delivery       27.0            1   \n505112           None          delivery       26.0            1   \n505113           None          delivery       18.0            1   \n505114     pedidos ya          delivery        1.0           17   \n505115           None       para llevar       65.0            1   \n505116           None  en sala-con mesa        4.0            1   \n505117           None  en sala-con mesa       26.0            1   \n505118           None  en sala-con mesa       26.0            1   \n505119           None  en sala-con mesa        4.0            1   \n505120           None  en sala-con mesa        8.0            1   \n\n        to_pay_xprod_alt delivery_cost delivery_name_new delivery_cost_new  \n505101               4.0             0               NaN               NaN  \n505102               8.0             0               NaN               NaN  \n505103              19.0             0               NaN               NaN  \n505104              50.0             0               NaN               NaN  \n505105               4.0             0               NaN               NaN  \n505106              26.0             0               NaN               NaN  \n505107               9.0             0               NaN               NaN  \n505108              33.0             0               NaN               NaN  \n505109              19.0             0               NaN               NaN  \n505110              18.0             0        pedidos ya              17.0  \n505111              27.0             0        pedidos ya              17.0  \n505112              26.0             0        pedidos ya              17.0  \n505113              18.0             0        pedidos ya              17.0  \n505114              17.0          17.0        pedidos ya              17.0  \n505115              65.0             0               NaN               NaN  \n505116               4.0             0               NaN               NaN  \n505117              26.0             0               NaN               NaN  \n505118              26.0             0               NaN               NaN  \n505119               4.0             0               NaN               NaN  \n505120               8.0             0               NaN               NaN  \n\n[20 rows x 29 columns]",
      "text/html": "<div>\n<style scoped>\n    .dataframe tbody tr th:only-of-type {\n        vertical-align: middle;\n    }\n\n    .dataframe tbody tr th {\n        vertical-align: top;\n    }\n\n    .dataframe thead th {\n        text-align: right;\n    }\n</style>\n<table border=\"1\" class=\"dataframe\">\n  <thead>\n    <tr style=\"text-align: right;\">\n      <th></th>\n      <th>order_id</th>\n      <th>system_date</th>\n      <th>time</th>\n      <th>group_classifier</th>\n      <th>classification</th>\n      <th>product</th>\n      <th>prod_state</th>\n      <th>price</th>\n      <th>quantity</th>\n      <th>to_pay_xprod</th>\n      <th>...</th>\n      <th>is_cancelled</th>\n      <th>is_courtesy</th>\n      <th>delivery_name</th>\n      <th>order_type</th>\n      <th>price_alt</th>\n      <th>quantity_alt</th>\n      <th>to_pay_xprod_alt</th>\n      <th>delivery_cost</th>\n      <th>delivery_name_new</th>\n      <th>delivery_cost_new</th>\n    </tr>\n  </thead>\n  <tbody>\n    <tr>\n      <th>505101</th>\n      <td>585868</td>\n      <td>2022-12-16</td>\n      <td>1900-01-01 18:07:15</td>\n      <td>otros</td>\n      <td>product</td>\n      <td>salsa picante</td>\n      <td>activo</td>\n      <td>4.0</td>\n      <td>1</td>\n      <td>4.0</td>\n      <td>...</td>\n      <td>False</td>\n      <td>False</td>\n      <td>None</td>\n      <td>en sala-con mesa</td>\n      <td>4.0</td>\n      <td>1</td>\n      <td>4.0</td>\n      <td>0</td>\n      <td>NaN</td>\n      <td>NaN</td>\n    </tr>\n    <tr>\n      <th>505102</th>\n      <td>585868</td>\n      <td>2022-12-16</td>\n      <td>1900-01-01 18:07:15</td>\n      <td>bebidas</td>\n      <td>popular</td>\n      <td>sprite popular</td>\n      <td>activo</td>\n      <td>8.0</td>\n      <td>1</td>\n      <td>8.0</td>\n      <td>...</td>\n      <td>False</td>\n      <td>False</td>\n      <td>None</td>\n      <td>en sala-con mesa</td>\n      <td>8.0</td>\n      <td>1</td>\n      <td>8.0</td>\n      <td>0</td>\n      <td>NaN</td>\n      <td>NaN</td>\n    </tr>\n    <tr>\n      <th>505103</th>\n      <td>585869</td>\n      <td>2022-12-16</td>\n      <td>1900-01-01 18:21:04</td>\n      <td>menu</td>\n      <td>alitas 4 unidades   19 bs</td>\n      <td>alitas bbq 4 unid</td>\n      <td>activo</td>\n      <td>19.0</td>\n      <td>1</td>\n      <td>19.0</td>\n      <td>...</td>\n      <td>False</td>\n      <td>False</td>\n      <td>None</td>\n      <td>para llevar</td>\n      <td>19.0</td>\n      <td>1</td>\n      <td>19.0</td>\n      <td>0</td>\n      <td>NaN</td>\n      <td>NaN</td>\n    </tr>\n    <tr>\n      <th>505104</th>\n      <td>585870</td>\n      <td>2022-12-16</td>\n      <td>1900-01-01 18:22:33</td>\n      <td>menu</td>\n      <td>alitas 12 unidades</td>\n      <td>alitas buff 12 unid</td>\n      <td>activo</td>\n      <td>50.0</td>\n      <td>1</td>\n      <td>50.0</td>\n      <td>...</td>\n      <td>False</td>\n      <td>False</td>\n      <td>None</td>\n      <td>en sala-con mesa</td>\n      <td>50.0</td>\n      <td>1</td>\n      <td>50.0</td>\n      <td>0</td>\n      <td>NaN</td>\n      <td>NaN</td>\n    </tr>\n    <tr>\n      <th>505105</th>\n      <td>585870</td>\n      <td>2022-12-16</td>\n      <td>1900-01-01 18:22:33</td>\n      <td>bebidas</td>\n      <td>personal</td>\n      <td>sinalco 330</td>\n      <td>activo</td>\n      <td>4.0</td>\n      <td>1</td>\n      <td>4.0</td>\n      <td>...</td>\n      <td>False</td>\n      <td>False</td>\n      <td>None</td>\n      <td>en sala-con mesa</td>\n      <td>4.0</td>\n      <td>1</td>\n      <td>4.0</td>\n      <td>0</td>\n      <td>NaN</td>\n      <td>NaN</td>\n    </tr>\n    <tr>\n      <th>505106</th>\n      <td>585871</td>\n      <td>2022-12-16</td>\n      <td>1900-01-01 18:32:47</td>\n      <td>menu</td>\n      <td>alitas 6 unidades  26 bs</td>\n      <td>alitas toxica 6 unid</td>\n      <td>activo</td>\n      <td>26.0</td>\n      <td>1</td>\n      <td>26.0</td>\n      <td>...</td>\n      <td>False</td>\n      <td>False</td>\n      <td>None</td>\n      <td>en sala-con mesa</td>\n      <td>26.0</td>\n      <td>1</td>\n      <td>26.0</td>\n      <td>0</td>\n      <td>NaN</td>\n      <td>NaN</td>\n    </tr>\n    <tr>\n      <th>505107</th>\n      <td>585871</td>\n      <td>2022-12-16</td>\n      <td>1900-01-01 18:32:47</td>\n      <td>bebidas</td>\n      <td>jugos - aguas</td>\n      <td>fanta 500cc</td>\n      <td>activo</td>\n      <td>9.0</td>\n      <td>1</td>\n      <td>9.0</td>\n      <td>...</td>\n      <td>False</td>\n      <td>False</td>\n      <td>None</td>\n      <td>en sala-con mesa</td>\n      <td>9.0</td>\n      <td>1</td>\n      <td>9.0</td>\n      <td>0</td>\n      <td>NaN</td>\n      <td>NaN</td>\n    </tr>\n    <tr>\n      <th>505108</th>\n      <td>585872</td>\n      <td>2022-12-16</td>\n      <td>1900-01-01 18:36:42</td>\n      <td>menu</td>\n      <td>fingers 6 unid</td>\n      <td>fingers 6 u picante</td>\n      <td>activo</td>\n      <td>33.0</td>\n      <td>1</td>\n      <td>33.0</td>\n      <td>...</td>\n      <td>False</td>\n      <td>False</td>\n      <td>None</td>\n      <td>en sala-con mesa</td>\n      <td>33.0</td>\n      <td>1</td>\n      <td>33.0</td>\n      <td>0</td>\n      <td>NaN</td>\n      <td>NaN</td>\n    </tr>\n    <tr>\n      <th>505109</th>\n      <td>585873</td>\n      <td>2022-12-16</td>\n      <td>1900-01-01 18:41:30</td>\n      <td>menu</td>\n      <td>alitas 4 unidades   19 bs</td>\n      <td>alitas albahaca 4 unid</td>\n      <td>activo</td>\n      <td>19.0</td>\n      <td>1</td>\n      <td>19.0</td>\n      <td>...</td>\n      <td>False</td>\n      <td>False</td>\n      <td>None</td>\n      <td>para llevar</td>\n      <td>19.0</td>\n      <td>1</td>\n      <td>19.0</td>\n      <td>0</td>\n      <td>NaN</td>\n      <td>NaN</td>\n    </tr>\n    <tr>\n      <th>505110</th>\n      <td>585874</td>\n      <td>2022-12-16</td>\n      <td>1900-01-01 18:42:54</td>\n      <td>menu</td>\n      <td>burguers</td>\n      <td>hamburguesa clasica</td>\n      <td>activo</td>\n      <td>18.0</td>\n      <td>1</td>\n      <td>18.0</td>\n      <td>...</td>\n      <td>False</td>\n      <td>False</td>\n      <td>None</td>\n      <td>delivery</td>\n      <td>18.0</td>\n      <td>1</td>\n      <td>18.0</td>\n      <td>0</td>\n      <td>pedidos ya</td>\n      <td>17.0</td>\n    </tr>\n    <tr>\n      <th>505111</th>\n      <td>585874</td>\n      <td>2022-12-16</td>\n      <td>1900-01-01 18:42:54</td>\n      <td>menu</td>\n      <td>burguers</td>\n      <td>mexicana</td>\n      <td>activo</td>\n      <td>27.0</td>\n      <td>1</td>\n      <td>27.0</td>\n      <td>...</td>\n      <td>False</td>\n      <td>False</td>\n      <td>None</td>\n      <td>delivery</td>\n      <td>27.0</td>\n      <td>1</td>\n      <td>27.0</td>\n      <td>0</td>\n      <td>pedidos ya</td>\n      <td>17.0</td>\n    </tr>\n    <tr>\n      <th>505112</th>\n      <td>585874</td>\n      <td>2022-12-16</td>\n      <td>1900-01-01 18:42:54</td>\n      <td>menu</td>\n      <td>alitas 6 unidades  26 bs</td>\n      <td>alitas barbacoa 6 unid</td>\n      <td>activo</td>\n      <td>26.0</td>\n      <td>1</td>\n      <td>26.0</td>\n      <td>...</td>\n      <td>False</td>\n      <td>False</td>\n      <td>None</td>\n      <td>delivery</td>\n      <td>26.0</td>\n      <td>1</td>\n      <td>26.0</td>\n      <td>0</td>\n      <td>pedidos ya</td>\n      <td>17.0</td>\n    </tr>\n    <tr>\n      <th>505113</th>\n      <td>585874</td>\n      <td>2022-12-16</td>\n      <td>1900-01-01 18:42:54</td>\n      <td>bebidas</td>\n      <td>2 lt</td>\n      <td>coca cola 2lt</td>\n      <td>activo</td>\n      <td>18.0</td>\n      <td>1</td>\n      <td>18.0</td>\n      <td>...</td>\n      <td>False</td>\n      <td>False</td>\n      <td>None</td>\n      <td>delivery</td>\n      <td>18.0</td>\n      <td>1</td>\n      <td>18.0</td>\n      <td>0</td>\n      <td>pedidos ya</td>\n      <td>17.0</td>\n    </tr>\n    <tr>\n      <th>505114</th>\n      <td>585874</td>\n      <td>2022-12-16</td>\n      <td>1900-01-01 18:42:54</td>\n      <td>menu</td>\n      <td>delivery</td>\n      <td>delivery</td>\n      <td>activo</td>\n      <td>0.0</td>\n      <td>0</td>\n      <td>0.0</td>\n      <td>...</td>\n      <td>False</td>\n      <td>False</td>\n      <td>pedidos ya</td>\n      <td>delivery</td>\n      <td>1.0</td>\n      <td>17</td>\n      <td>17.0</td>\n      <td>17.0</td>\n      <td>pedidos ya</td>\n      <td>17.0</td>\n    </tr>\n    <tr>\n      <th>505115</th>\n      <td>585875</td>\n      <td>2022-12-16</td>\n      <td>1900-01-01 18:49:18</td>\n      <td>menu</td>\n      <td>alitas 16 unidades</td>\n      <td>alitas bbq 16 unid</td>\n      <td>activo</td>\n      <td>65.0</td>\n      <td>1</td>\n      <td>65.0</td>\n      <td>...</td>\n      <td>False</td>\n      <td>False</td>\n      <td>None</td>\n      <td>para llevar</td>\n      <td>65.0</td>\n      <td>1</td>\n      <td>65.0</td>\n      <td>0</td>\n      <td>NaN</td>\n      <td>NaN</td>\n    </tr>\n    <tr>\n      <th>505116</th>\n      <td>585876</td>\n      <td>2022-12-16</td>\n      <td>1900-01-01 18:58:13</td>\n      <td>otros</td>\n      <td>product</td>\n      <td>salsa miel mostaza</td>\n      <td>activo</td>\n      <td>4.0</td>\n      <td>1</td>\n      <td>4.0</td>\n      <td>...</td>\n      <td>False</td>\n      <td>False</td>\n      <td>None</td>\n      <td>en sala-con mesa</td>\n      <td>4.0</td>\n      <td>1</td>\n      <td>4.0</td>\n      <td>0</td>\n      <td>NaN</td>\n      <td>NaN</td>\n    </tr>\n    <tr>\n      <th>505117</th>\n      <td>585877</td>\n      <td>2022-12-16</td>\n      <td>1900-01-01 19:02:45</td>\n      <td>menu</td>\n      <td>alitas 6 unidades  26 bs</td>\n      <td>alitas jack daniel 6 unid</td>\n      <td>activo</td>\n      <td>26.0</td>\n      <td>1</td>\n      <td>26.0</td>\n      <td>...</td>\n      <td>False</td>\n      <td>False</td>\n      <td>None</td>\n      <td>en sala-con mesa</td>\n      <td>26.0</td>\n      <td>1</td>\n      <td>26.0</td>\n      <td>0</td>\n      <td>NaN</td>\n      <td>NaN</td>\n    </tr>\n    <tr>\n      <th>505118</th>\n      <td>585877</td>\n      <td>2022-12-16</td>\n      <td>1900-01-01 19:02:45</td>\n      <td>menu</td>\n      <td>alitas 6 unidades  26 bs</td>\n      <td>alitas miel mostaza 6 unid</td>\n      <td>activo</td>\n      <td>26.0</td>\n      <td>1</td>\n      <td>26.0</td>\n      <td>...</td>\n      <td>False</td>\n      <td>False</td>\n      <td>None</td>\n      <td>en sala-con mesa</td>\n      <td>26.0</td>\n      <td>1</td>\n      <td>26.0</td>\n      <td>0</td>\n      <td>NaN</td>\n      <td>NaN</td>\n    </tr>\n    <tr>\n      <th>505119</th>\n      <td>585877</td>\n      <td>2022-12-16</td>\n      <td>1900-01-01 19:02:45</td>\n      <td>otros</td>\n      <td>product</td>\n      <td>salsa picante</td>\n      <td>activo</td>\n      <td>4.0</td>\n      <td>1</td>\n      <td>4.0</td>\n      <td>...</td>\n      <td>False</td>\n      <td>False</td>\n      <td>None</td>\n      <td>en sala-con mesa</td>\n      <td>4.0</td>\n      <td>1</td>\n      <td>4.0</td>\n      <td>0</td>\n      <td>NaN</td>\n      <td>NaN</td>\n    </tr>\n    <tr>\n      <th>505120</th>\n      <td>585877</td>\n      <td>2022-12-16</td>\n      <td>1900-01-01 19:02:45</td>\n      <td>bebidas</td>\n      <td>popular</td>\n      <td>sprite popular</td>\n      <td>activo</td>\n      <td>8.0</td>\n      <td>1</td>\n      <td>8.0</td>\n      <td>...</td>\n      <td>False</td>\n      <td>False</td>\n      <td>None</td>\n      <td>en sala-con mesa</td>\n      <td>8.0</td>\n      <td>1</td>\n      <td>8.0</td>\n      <td>0</td>\n      <td>NaN</td>\n      <td>NaN</td>\n    </tr>\n  </tbody>\n</table>\n<p>20 rows × 29 columns</p>\n</div>"
     },
     "execution_count": 179,
     "metadata": {},
     "output_type": "execute_result"
    }
   ],
   "execution_count": 179
  },
  {
   "cell_type": "code",
   "id": "c29db4a2239393ea",
   "metadata": {
    "ExecuteTime": {
     "end_time": "2024-07-03T20:44:14.558672100Z",
     "start_time": "2024-07-03T20:44:14.330923Z"
    }
   },
   "source": [
    "resta_df_m.shape"
   ],
   "outputs": [
    {
     "data": {
      "text/plain": "(505121, 29)"
     },
     "execution_count": 180,
     "metadata": {},
     "output_type": "execute_result"
    }
   ],
   "execution_count": 180
  },
  {
   "cell_type": "markdown",
   "id": "1c7189313cdcfa37",
   "metadata": {},
   "source": [
    "Dropping unnecessary columns"
   ]
  },
  {
   "cell_type": "code",
   "id": "32dea6b07c3955c7",
   "metadata": {
    "ExecuteTime": {
     "end_time": "2024-07-03T20:44:14.974308400Z",
     "start_time": "2024-07-03T20:44:14.346955Z"
    }
   },
   "source": [
    "resta_df_m.drop(columns=['delivery_name', 'delivery_cost'], axis=1, inplace=True)"
   ],
   "outputs": [],
   "execution_count": 181
  },
  {
   "cell_type": "code",
   "id": "e2d203766ee3c24f",
   "metadata": {
    "ExecuteTime": {
     "end_time": "2024-07-03T20:44:15.185578600Z",
     "start_time": "2024-07-03T20:44:14.499973300Z"
    }
   },
   "source": [
    "resta_df_m.head()"
   ],
   "outputs": [
    {
     "data": {
      "text/plain": "   order_id system_date                time group_classifier   \n0      3208  2016-07-05 1900-01-01 21:46:33             menu  \\\n1      3209  2016-07-05 1900-01-01 22:00:30             menu   \n2      3210  2016-07-05 1900-01-01 23:04:04             menu   \n3      3210  2016-07-05 1900-01-01 23:04:04          bebidas   \n4      3211  2016-07-07 1900-01-01 23:03:19             menu   \n\n      classification            product prod_state  price  quantity   \n0         sandwiches        niki's club     activo   18.0         1  \\\n1         sandwiches  sand de pollo bbq     activo   20.0         1   \n2            fingers       fingers miel     activo   22.0         1   \n3      jugos - aguas       aquarius 500     activo    8.0         1   \n4  alitas 8 unidades    alitas barbacoa     activo   27.0         1   \n\n   to_pay_xprod  ...  modification_date modification_reason  is_cancelled   \n0          18.0  ...                NaN             Ninguna         False  \\\n1          20.0  ...                NaN             Ninguna         False   \n2          22.0  ...                NaN             Ninguna         False   \n3           8.0  ...                NaN             Ninguna         False   \n4          27.0  ...                NaN             Ninguna         False   \n\n   is_courtesy        order_type price_alt  quantity_alt to_pay_xprod_alt   \n0        False       para llevar      18.0             1             18.0  \\\n1        False  en sala-con mesa      20.0             1             20.0   \n2        False       para llevar      22.0             1             22.0   \n3        False       para llevar       8.0             1              8.0   \n4        False  en sala-con mesa      27.0             1             27.0   \n\n  delivery_name_new delivery_cost_new  \n0               NaN               NaN  \n1               NaN               NaN  \n2               NaN               NaN  \n3               NaN               NaN  \n4               NaN               NaN  \n\n[5 rows x 27 columns]",
      "text/html": "<div>\n<style scoped>\n    .dataframe tbody tr th:only-of-type {\n        vertical-align: middle;\n    }\n\n    .dataframe tbody tr th {\n        vertical-align: top;\n    }\n\n    .dataframe thead th {\n        text-align: right;\n    }\n</style>\n<table border=\"1\" class=\"dataframe\">\n  <thead>\n    <tr style=\"text-align: right;\">\n      <th></th>\n      <th>order_id</th>\n      <th>system_date</th>\n      <th>time</th>\n      <th>group_classifier</th>\n      <th>classification</th>\n      <th>product</th>\n      <th>prod_state</th>\n      <th>price</th>\n      <th>quantity</th>\n      <th>to_pay_xprod</th>\n      <th>...</th>\n      <th>modification_date</th>\n      <th>modification_reason</th>\n      <th>is_cancelled</th>\n      <th>is_courtesy</th>\n      <th>order_type</th>\n      <th>price_alt</th>\n      <th>quantity_alt</th>\n      <th>to_pay_xprod_alt</th>\n      <th>delivery_name_new</th>\n      <th>delivery_cost_new</th>\n    </tr>\n  </thead>\n  <tbody>\n    <tr>\n      <th>0</th>\n      <td>3208</td>\n      <td>2016-07-05</td>\n      <td>1900-01-01 21:46:33</td>\n      <td>menu</td>\n      <td>sandwiches</td>\n      <td>niki's club</td>\n      <td>activo</td>\n      <td>18.0</td>\n      <td>1</td>\n      <td>18.0</td>\n      <td>...</td>\n      <td>NaN</td>\n      <td>Ninguna</td>\n      <td>False</td>\n      <td>False</td>\n      <td>para llevar</td>\n      <td>18.0</td>\n      <td>1</td>\n      <td>18.0</td>\n      <td>NaN</td>\n      <td>NaN</td>\n    </tr>\n    <tr>\n      <th>1</th>\n      <td>3209</td>\n      <td>2016-07-05</td>\n      <td>1900-01-01 22:00:30</td>\n      <td>menu</td>\n      <td>sandwiches</td>\n      <td>sand de pollo bbq</td>\n      <td>activo</td>\n      <td>20.0</td>\n      <td>1</td>\n      <td>20.0</td>\n      <td>...</td>\n      <td>NaN</td>\n      <td>Ninguna</td>\n      <td>False</td>\n      <td>False</td>\n      <td>en sala-con mesa</td>\n      <td>20.0</td>\n      <td>1</td>\n      <td>20.0</td>\n      <td>NaN</td>\n      <td>NaN</td>\n    </tr>\n    <tr>\n      <th>2</th>\n      <td>3210</td>\n      <td>2016-07-05</td>\n      <td>1900-01-01 23:04:04</td>\n      <td>menu</td>\n      <td>fingers</td>\n      <td>fingers miel</td>\n      <td>activo</td>\n      <td>22.0</td>\n      <td>1</td>\n      <td>22.0</td>\n      <td>...</td>\n      <td>NaN</td>\n      <td>Ninguna</td>\n      <td>False</td>\n      <td>False</td>\n      <td>para llevar</td>\n      <td>22.0</td>\n      <td>1</td>\n      <td>22.0</td>\n      <td>NaN</td>\n      <td>NaN</td>\n    </tr>\n    <tr>\n      <th>3</th>\n      <td>3210</td>\n      <td>2016-07-05</td>\n      <td>1900-01-01 23:04:04</td>\n      <td>bebidas</td>\n      <td>jugos - aguas</td>\n      <td>aquarius 500</td>\n      <td>activo</td>\n      <td>8.0</td>\n      <td>1</td>\n      <td>8.0</td>\n      <td>...</td>\n      <td>NaN</td>\n      <td>Ninguna</td>\n      <td>False</td>\n      <td>False</td>\n      <td>para llevar</td>\n      <td>8.0</td>\n      <td>1</td>\n      <td>8.0</td>\n      <td>NaN</td>\n      <td>NaN</td>\n    </tr>\n    <tr>\n      <th>4</th>\n      <td>3211</td>\n      <td>2016-07-07</td>\n      <td>1900-01-01 23:03:19</td>\n      <td>menu</td>\n      <td>alitas 8 unidades</td>\n      <td>alitas barbacoa</td>\n      <td>activo</td>\n      <td>27.0</td>\n      <td>1</td>\n      <td>27.0</td>\n      <td>...</td>\n      <td>NaN</td>\n      <td>Ninguna</td>\n      <td>False</td>\n      <td>False</td>\n      <td>en sala-con mesa</td>\n      <td>27.0</td>\n      <td>1</td>\n      <td>27.0</td>\n      <td>NaN</td>\n      <td>NaN</td>\n    </tr>\n  </tbody>\n</table>\n<p>5 rows × 27 columns</p>\n</div>"
     },
     "execution_count": 182,
     "metadata": {},
     "output_type": "execute_result"
    }
   ],
   "execution_count": 182
  },
  {
   "cell_type": "markdown",
   "id": "c3aa77981357d7d2",
   "metadata": {},
   "source": [
    "Delete rows which had only delivery information since that data is already in each order."
   ]
  },
  {
   "cell_type": "code",
   "id": "2c9b5bfea56e2480",
   "metadata": {
    "ExecuteTime": {
     "end_time": "2024-07-03T20:44:15.589865200Z",
     "start_time": "2024-07-03T20:44:14.523646200Z"
    }
   },
   "source": [
    "resta_df_m.loc[resta_df_m['order_id'].isin(deliveries_orderids)].sort_values(by='order_id').head(20)"
   ],
   "outputs": [
    {
     "data": {
      "text/plain": "        order_id system_date                time group_classifier   \n259397    421557  2019-11-21 1900-01-01 14:19:57             menu  \\\n259398    421558  2019-11-21 1900-01-01 14:23:18             menu   \n259399    421558  2019-11-21 1900-01-01 14:23:18             menu   \n259400    421559  2019-11-21 1900-01-01 14:37:26             menu   \n259401    421560  2019-11-21 1900-01-01 14:45:52             menu   \n259402    421561  2019-11-21 1900-01-01 14:48:22             menu   \n259417    421572  2019-11-21 1900-01-01 16:59:24             menu   \n259418    421572  2019-11-21 1900-01-01 16:59:24             menu   \n259419    421573  2019-11-21 1900-01-01 17:01:04             menu   \n259422    421576  2019-11-21 1900-01-01 17:10:24             menu   \n259430    421581  2019-11-21 1900-01-01 17:48:16             menu   \n259431    421582  2019-11-21 1900-01-01 17:50:23             menu   \n259432    421583  2019-11-21 1900-01-01 17:59:33             menu   \n259441    421589  2019-11-21 1900-01-01 18:20:37             menu   \n259449    421595  2019-11-21 1900-01-01 18:47:20             menu   \n259452    421598  2019-11-21 1900-01-01 19:02:11             menu   \n259453    421598  2019-11-21 1900-01-01 19:02:11             menu   \n259454    421598  2019-11-21 1900-01-01 19:02:11            otros   \n259455    421598  2019-11-21 1900-01-01 19:02:11            otros   \n259456    421598  2019-11-21 1900-01-01 19:02:11          bebidas   \n\n       classification        product prod_state  price  quantity   \n259397       delivery       delivery     activo    0.0         0  \\\n259398     sandwiches    niki's club     activo   22.0         1   \n259399       delivery       delivery     activo    0.0         0   \n259400       delivery       delivery     activo    0.0         0   \n259401       delivery       delivery     activo    0.0         0   \n259402       delivery       delivery     activo    0.0         0   \n259417        fingers   fingers miel     activo   25.0         1   \n259418       delivery       delivery     activo    0.0         0   \n259419       delivery       delivery     activo    0.0         0   \n259422       delivery       delivery     activo    0.0         0   \n259430       delivery       delivery     activo    0.0         0   \n259431       delivery       delivery     activo    0.0         0   \n259432       delivery       delivery     activo    0.0         0   \n259441       delivery       delivery     activo    0.0         0   \n259449       delivery       delivery     activo    0.0         0   \n259452       delivery       delivery     activo    0.0         0   \n259453         finger         finger   inactivo   27.0         1   \n259454        product  salsa picante     activo    3.0         1   \n259455        product    salsa queso     activo    3.0         1   \n259456           1 lt     sprite 1lt     activo   12.0         1   \n\n        to_pay_xprod  ...  modification_date modification_reason   \n259397           0.0  ...                NaN             Ninguna  \\\n259398          22.0  ...                NaN             Ninguna   \n259399           0.0  ...                NaN             Ninguna   \n259400           0.0  ...                NaN             Ninguna   \n259401           0.0  ...                NaN             Ninguna   \n259402           0.0  ...                NaN             Ninguna   \n259417          25.0  ...                NaN             Ninguna   \n259418           0.0  ...                NaN             Ninguna   \n259419           0.0  ...                NaN             Ninguna   \n259422           0.0  ...                NaN             Ninguna   \n259430           0.0  ...                NaN             Ninguna   \n259431           0.0  ...                NaN             Ninguna   \n259432           0.0  ...                NaN             Ninguna   \n259441           0.0  ...                NaN             Ninguna   \n259449           0.0  ...                NaN             Ninguna   \n259452           0.0  ...                NaN             Ninguna   \n259453          27.0  ...                NaN             Ninguna   \n259454           3.0  ...                NaN             Ninguna   \n259455           3.0  ...                NaN             Ninguna   \n259456          12.0  ...                NaN             Ninguna   \n\n        is_cancelled  is_courtesy  order_type price_alt  quantity_alt   \n259397         False        False    delivery      20.0             1  \\\n259398         False        False    delivery      22.0             1   \n259399         False        False    delivery      20.0             1   \n259400         False        False    delivery      20.0             1   \n259401         False        False    delivery      20.0             1   \n259402         False        False    delivery      20.0             1   \n259417         False        False    delivery      25.0             1   \n259418         False        False    delivery      20.0             1   \n259419         False        False    delivery      20.0             1   \n259422         False        False    delivery      20.0             1   \n259430         False        False    delivery      20.0             1   \n259431         False        False    delivery      20.0             1   \n259432         False        False    delivery      20.0             1   \n259441         False        False    delivery      20.0             1   \n259449         False        False    delivery      20.0             1   \n259452         False        False    delivery      20.0             1   \n259453         False        False    delivery      27.0             1   \n259454         False        False    delivery       3.0             1   \n259455         False        False    delivery       3.0             1   \n259456         False        False    delivery      12.0             1   \n\n       to_pay_xprod_alt delivery_name_new delivery_cost_new  \n259397             20.0      mr. delivery              20.0  \n259398             22.0      mr. delivery              20.0  \n259399             20.0      mr. delivery              20.0  \n259400             20.0      mr. delivery              20.0  \n259401             20.0      mr. delivery              20.0  \n259402             20.0      mr. delivery              20.0  \n259417             25.0      mr. delivery              20.0  \n259418             20.0      mr. delivery              20.0  \n259419             20.0      mr. delivery              20.0  \n259422             20.0      mr. delivery              20.0  \n259430             20.0      mr. delivery              20.0  \n259431             20.0      mr. delivery              20.0  \n259432             20.0      mr. delivery              20.0  \n259441             20.0      mr. delivery              20.0  \n259449             20.0      mr. delivery              20.0  \n259452             20.0      mr. delivery              20.0  \n259453             27.0      mr. delivery              20.0  \n259454              3.0      mr. delivery              20.0  \n259455              3.0      mr. delivery              20.0  \n259456             12.0      mr. delivery              20.0  \n\n[20 rows x 27 columns]",
      "text/html": "<div>\n<style scoped>\n    .dataframe tbody tr th:only-of-type {\n        vertical-align: middle;\n    }\n\n    .dataframe tbody tr th {\n        vertical-align: top;\n    }\n\n    .dataframe thead th {\n        text-align: right;\n    }\n</style>\n<table border=\"1\" class=\"dataframe\">\n  <thead>\n    <tr style=\"text-align: right;\">\n      <th></th>\n      <th>order_id</th>\n      <th>system_date</th>\n      <th>time</th>\n      <th>group_classifier</th>\n      <th>classification</th>\n      <th>product</th>\n      <th>prod_state</th>\n      <th>price</th>\n      <th>quantity</th>\n      <th>to_pay_xprod</th>\n      <th>...</th>\n      <th>modification_date</th>\n      <th>modification_reason</th>\n      <th>is_cancelled</th>\n      <th>is_courtesy</th>\n      <th>order_type</th>\n      <th>price_alt</th>\n      <th>quantity_alt</th>\n      <th>to_pay_xprod_alt</th>\n      <th>delivery_name_new</th>\n      <th>delivery_cost_new</th>\n    </tr>\n  </thead>\n  <tbody>\n    <tr>\n      <th>259397</th>\n      <td>421557</td>\n      <td>2019-11-21</td>\n      <td>1900-01-01 14:19:57</td>\n      <td>menu</td>\n      <td>delivery</td>\n      <td>delivery</td>\n      <td>activo</td>\n      <td>0.0</td>\n      <td>0</td>\n      <td>0.0</td>\n      <td>...</td>\n      <td>NaN</td>\n      <td>Ninguna</td>\n      <td>False</td>\n      <td>False</td>\n      <td>delivery</td>\n      <td>20.0</td>\n      <td>1</td>\n      <td>20.0</td>\n      <td>mr. delivery</td>\n      <td>20.0</td>\n    </tr>\n    <tr>\n      <th>259398</th>\n      <td>421558</td>\n      <td>2019-11-21</td>\n      <td>1900-01-01 14:23:18</td>\n      <td>menu</td>\n      <td>sandwiches</td>\n      <td>niki's club</td>\n      <td>activo</td>\n      <td>22.0</td>\n      <td>1</td>\n      <td>22.0</td>\n      <td>...</td>\n      <td>NaN</td>\n      <td>Ninguna</td>\n      <td>False</td>\n      <td>False</td>\n      <td>delivery</td>\n      <td>22.0</td>\n      <td>1</td>\n      <td>22.0</td>\n      <td>mr. delivery</td>\n      <td>20.0</td>\n    </tr>\n    <tr>\n      <th>259399</th>\n      <td>421558</td>\n      <td>2019-11-21</td>\n      <td>1900-01-01 14:23:18</td>\n      <td>menu</td>\n      <td>delivery</td>\n      <td>delivery</td>\n      <td>activo</td>\n      <td>0.0</td>\n      <td>0</td>\n      <td>0.0</td>\n      <td>...</td>\n      <td>NaN</td>\n      <td>Ninguna</td>\n      <td>False</td>\n      <td>False</td>\n      <td>delivery</td>\n      <td>20.0</td>\n      <td>1</td>\n      <td>20.0</td>\n      <td>mr. delivery</td>\n      <td>20.0</td>\n    </tr>\n    <tr>\n      <th>259400</th>\n      <td>421559</td>\n      <td>2019-11-21</td>\n      <td>1900-01-01 14:37:26</td>\n      <td>menu</td>\n      <td>delivery</td>\n      <td>delivery</td>\n      <td>activo</td>\n      <td>0.0</td>\n      <td>0</td>\n      <td>0.0</td>\n      <td>...</td>\n      <td>NaN</td>\n      <td>Ninguna</td>\n      <td>False</td>\n      <td>False</td>\n      <td>delivery</td>\n      <td>20.0</td>\n      <td>1</td>\n      <td>20.0</td>\n      <td>mr. delivery</td>\n      <td>20.0</td>\n    </tr>\n    <tr>\n      <th>259401</th>\n      <td>421560</td>\n      <td>2019-11-21</td>\n      <td>1900-01-01 14:45:52</td>\n      <td>menu</td>\n      <td>delivery</td>\n      <td>delivery</td>\n      <td>activo</td>\n      <td>0.0</td>\n      <td>0</td>\n      <td>0.0</td>\n      <td>...</td>\n      <td>NaN</td>\n      <td>Ninguna</td>\n      <td>False</td>\n      <td>False</td>\n      <td>delivery</td>\n      <td>20.0</td>\n      <td>1</td>\n      <td>20.0</td>\n      <td>mr. delivery</td>\n      <td>20.0</td>\n    </tr>\n    <tr>\n      <th>259402</th>\n      <td>421561</td>\n      <td>2019-11-21</td>\n      <td>1900-01-01 14:48:22</td>\n      <td>menu</td>\n      <td>delivery</td>\n      <td>delivery</td>\n      <td>activo</td>\n      <td>0.0</td>\n      <td>0</td>\n      <td>0.0</td>\n      <td>...</td>\n      <td>NaN</td>\n      <td>Ninguna</td>\n      <td>False</td>\n      <td>False</td>\n      <td>delivery</td>\n      <td>20.0</td>\n      <td>1</td>\n      <td>20.0</td>\n      <td>mr. delivery</td>\n      <td>20.0</td>\n    </tr>\n    <tr>\n      <th>259417</th>\n      <td>421572</td>\n      <td>2019-11-21</td>\n      <td>1900-01-01 16:59:24</td>\n      <td>menu</td>\n      <td>fingers</td>\n      <td>fingers miel</td>\n      <td>activo</td>\n      <td>25.0</td>\n      <td>1</td>\n      <td>25.0</td>\n      <td>...</td>\n      <td>NaN</td>\n      <td>Ninguna</td>\n      <td>False</td>\n      <td>False</td>\n      <td>delivery</td>\n      <td>25.0</td>\n      <td>1</td>\n      <td>25.0</td>\n      <td>mr. delivery</td>\n      <td>20.0</td>\n    </tr>\n    <tr>\n      <th>259418</th>\n      <td>421572</td>\n      <td>2019-11-21</td>\n      <td>1900-01-01 16:59:24</td>\n      <td>menu</td>\n      <td>delivery</td>\n      <td>delivery</td>\n      <td>activo</td>\n      <td>0.0</td>\n      <td>0</td>\n      <td>0.0</td>\n      <td>...</td>\n      <td>NaN</td>\n      <td>Ninguna</td>\n      <td>False</td>\n      <td>False</td>\n      <td>delivery</td>\n      <td>20.0</td>\n      <td>1</td>\n      <td>20.0</td>\n      <td>mr. delivery</td>\n      <td>20.0</td>\n    </tr>\n    <tr>\n      <th>259419</th>\n      <td>421573</td>\n      <td>2019-11-21</td>\n      <td>1900-01-01 17:01:04</td>\n      <td>menu</td>\n      <td>delivery</td>\n      <td>delivery</td>\n      <td>activo</td>\n      <td>0.0</td>\n      <td>0</td>\n      <td>0.0</td>\n      <td>...</td>\n      <td>NaN</td>\n      <td>Ninguna</td>\n      <td>False</td>\n      <td>False</td>\n      <td>delivery</td>\n      <td>20.0</td>\n      <td>1</td>\n      <td>20.0</td>\n      <td>mr. delivery</td>\n      <td>20.0</td>\n    </tr>\n    <tr>\n      <th>259422</th>\n      <td>421576</td>\n      <td>2019-11-21</td>\n      <td>1900-01-01 17:10:24</td>\n      <td>menu</td>\n      <td>delivery</td>\n      <td>delivery</td>\n      <td>activo</td>\n      <td>0.0</td>\n      <td>0</td>\n      <td>0.0</td>\n      <td>...</td>\n      <td>NaN</td>\n      <td>Ninguna</td>\n      <td>False</td>\n      <td>False</td>\n      <td>delivery</td>\n      <td>20.0</td>\n      <td>1</td>\n      <td>20.0</td>\n      <td>mr. delivery</td>\n      <td>20.0</td>\n    </tr>\n    <tr>\n      <th>259430</th>\n      <td>421581</td>\n      <td>2019-11-21</td>\n      <td>1900-01-01 17:48:16</td>\n      <td>menu</td>\n      <td>delivery</td>\n      <td>delivery</td>\n      <td>activo</td>\n      <td>0.0</td>\n      <td>0</td>\n      <td>0.0</td>\n      <td>...</td>\n      <td>NaN</td>\n      <td>Ninguna</td>\n      <td>False</td>\n      <td>False</td>\n      <td>delivery</td>\n      <td>20.0</td>\n      <td>1</td>\n      <td>20.0</td>\n      <td>mr. delivery</td>\n      <td>20.0</td>\n    </tr>\n    <tr>\n      <th>259431</th>\n      <td>421582</td>\n      <td>2019-11-21</td>\n      <td>1900-01-01 17:50:23</td>\n      <td>menu</td>\n      <td>delivery</td>\n      <td>delivery</td>\n      <td>activo</td>\n      <td>0.0</td>\n      <td>0</td>\n      <td>0.0</td>\n      <td>...</td>\n      <td>NaN</td>\n      <td>Ninguna</td>\n      <td>False</td>\n      <td>False</td>\n      <td>delivery</td>\n      <td>20.0</td>\n      <td>1</td>\n      <td>20.0</td>\n      <td>mr. delivery</td>\n      <td>20.0</td>\n    </tr>\n    <tr>\n      <th>259432</th>\n      <td>421583</td>\n      <td>2019-11-21</td>\n      <td>1900-01-01 17:59:33</td>\n      <td>menu</td>\n      <td>delivery</td>\n      <td>delivery</td>\n      <td>activo</td>\n      <td>0.0</td>\n      <td>0</td>\n      <td>0.0</td>\n      <td>...</td>\n      <td>NaN</td>\n      <td>Ninguna</td>\n      <td>False</td>\n      <td>False</td>\n      <td>delivery</td>\n      <td>20.0</td>\n      <td>1</td>\n      <td>20.0</td>\n      <td>mr. delivery</td>\n      <td>20.0</td>\n    </tr>\n    <tr>\n      <th>259441</th>\n      <td>421589</td>\n      <td>2019-11-21</td>\n      <td>1900-01-01 18:20:37</td>\n      <td>menu</td>\n      <td>delivery</td>\n      <td>delivery</td>\n      <td>activo</td>\n      <td>0.0</td>\n      <td>0</td>\n      <td>0.0</td>\n      <td>...</td>\n      <td>NaN</td>\n      <td>Ninguna</td>\n      <td>False</td>\n      <td>False</td>\n      <td>delivery</td>\n      <td>20.0</td>\n      <td>1</td>\n      <td>20.0</td>\n      <td>mr. delivery</td>\n      <td>20.0</td>\n    </tr>\n    <tr>\n      <th>259449</th>\n      <td>421595</td>\n      <td>2019-11-21</td>\n      <td>1900-01-01 18:47:20</td>\n      <td>menu</td>\n      <td>delivery</td>\n      <td>delivery</td>\n      <td>activo</td>\n      <td>0.0</td>\n      <td>0</td>\n      <td>0.0</td>\n      <td>...</td>\n      <td>NaN</td>\n      <td>Ninguna</td>\n      <td>False</td>\n      <td>False</td>\n      <td>delivery</td>\n      <td>20.0</td>\n      <td>1</td>\n      <td>20.0</td>\n      <td>mr. delivery</td>\n      <td>20.0</td>\n    </tr>\n    <tr>\n      <th>259452</th>\n      <td>421598</td>\n      <td>2019-11-21</td>\n      <td>1900-01-01 19:02:11</td>\n      <td>menu</td>\n      <td>delivery</td>\n      <td>delivery</td>\n      <td>activo</td>\n      <td>0.0</td>\n      <td>0</td>\n      <td>0.0</td>\n      <td>...</td>\n      <td>NaN</td>\n      <td>Ninguna</td>\n      <td>False</td>\n      <td>False</td>\n      <td>delivery</td>\n      <td>20.0</td>\n      <td>1</td>\n      <td>20.0</td>\n      <td>mr. delivery</td>\n      <td>20.0</td>\n    </tr>\n    <tr>\n      <th>259453</th>\n      <td>421598</td>\n      <td>2019-11-21</td>\n      <td>1900-01-01 19:02:11</td>\n      <td>menu</td>\n      <td>finger</td>\n      <td>finger</td>\n      <td>inactivo</td>\n      <td>27.0</td>\n      <td>1</td>\n      <td>27.0</td>\n      <td>...</td>\n      <td>NaN</td>\n      <td>Ninguna</td>\n      <td>False</td>\n      <td>False</td>\n      <td>delivery</td>\n      <td>27.0</td>\n      <td>1</td>\n      <td>27.0</td>\n      <td>mr. delivery</td>\n      <td>20.0</td>\n    </tr>\n    <tr>\n      <th>259454</th>\n      <td>421598</td>\n      <td>2019-11-21</td>\n      <td>1900-01-01 19:02:11</td>\n      <td>otros</td>\n      <td>product</td>\n      <td>salsa picante</td>\n      <td>activo</td>\n      <td>3.0</td>\n      <td>1</td>\n      <td>3.0</td>\n      <td>...</td>\n      <td>NaN</td>\n      <td>Ninguna</td>\n      <td>False</td>\n      <td>False</td>\n      <td>delivery</td>\n      <td>3.0</td>\n      <td>1</td>\n      <td>3.0</td>\n      <td>mr. delivery</td>\n      <td>20.0</td>\n    </tr>\n    <tr>\n      <th>259455</th>\n      <td>421598</td>\n      <td>2019-11-21</td>\n      <td>1900-01-01 19:02:11</td>\n      <td>otros</td>\n      <td>product</td>\n      <td>salsa queso</td>\n      <td>activo</td>\n      <td>3.0</td>\n      <td>1</td>\n      <td>3.0</td>\n      <td>...</td>\n      <td>NaN</td>\n      <td>Ninguna</td>\n      <td>False</td>\n      <td>False</td>\n      <td>delivery</td>\n      <td>3.0</td>\n      <td>1</td>\n      <td>3.0</td>\n      <td>mr. delivery</td>\n      <td>20.0</td>\n    </tr>\n    <tr>\n      <th>259456</th>\n      <td>421598</td>\n      <td>2019-11-21</td>\n      <td>1900-01-01 19:02:11</td>\n      <td>bebidas</td>\n      <td>1 lt</td>\n      <td>sprite 1lt</td>\n      <td>activo</td>\n      <td>12.0</td>\n      <td>1</td>\n      <td>12.0</td>\n      <td>...</td>\n      <td>NaN</td>\n      <td>Ninguna</td>\n      <td>False</td>\n      <td>False</td>\n      <td>delivery</td>\n      <td>12.0</td>\n      <td>1</td>\n      <td>12.0</td>\n      <td>mr. delivery</td>\n      <td>20.0</td>\n    </tr>\n  </tbody>\n</table>\n<p>20 rows × 27 columns</p>\n</div>"
     },
     "execution_count": 183,
     "metadata": {},
     "output_type": "execute_result"
    }
   ],
   "execution_count": 183
  },
  {
   "cell_type": "code",
   "id": "5a43f57f92cafda7",
   "metadata": {
    "ExecuteTime": {
     "end_time": "2024-07-03T20:44:15.629866Z",
     "start_time": "2024-07-03T20:44:14.671306900Z"
    }
   },
   "source": [
    "#Determine which products are deliveries only\n",
    "mask_only_del = (resta_df_m['classification']=='delivery') & (resta_df_m['product']=='delivery') "
   ],
   "outputs": [],
   "execution_count": 184
  },
  {
   "cell_type": "code",
   "id": "2f2473e8411a1f8b",
   "metadata": {
    "ExecuteTime": {
     "end_time": "2024-07-03T20:44:15.631879300Z",
     "start_time": "2024-07-03T20:44:14.812004100Z"
    }
   },
   "source": [
    "mask_only_del_index = resta_df_m[mask_only_del].index"
   ],
   "outputs": [],
   "execution_count": 185
  },
  {
   "cell_type": "code",
   "id": "e11c80b9f944e44c",
   "metadata": {
    "ExecuteTime": {
     "end_time": "2024-07-03T20:44:15.889765400Z",
     "start_time": "2024-07-03T20:44:14.890938Z"
    }
   },
   "source": [
    "mask_only_del_index.shape"
   ],
   "outputs": [
    {
     "data": {
      "text/plain": "(19552,)"
     },
     "execution_count": 186,
     "metadata": {},
     "output_type": "execute_result"
    }
   ],
   "execution_count": 186
  },
  {
   "cell_type": "code",
   "id": "ac5d53bb15d4de77",
   "metadata": {
    "ExecuteTime": {
     "end_time": "2024-07-03T20:44:15.892765100Z",
     "start_time": "2024-07-03T20:44:15.010144200Z"
    }
   },
   "source": [
    "resta_df_m.loc[mask_only_del].tail(50)"
   ],
   "outputs": [
    {
     "data": {
      "text/plain": "        order_id system_date                time group_classifier   \n504515    585572  2022-12-13 1900-01-01 17:01:29             menu  \\\n504523    585577  2022-12-13 1900-01-01 18:07:37             menu   \n504549    585590  2022-12-13 1900-01-01 19:10:10             menu   \n504553    585593  2022-12-13 1900-01-01 19:27:25             menu   \n504563    585597  2022-12-13 1900-01-01 19:40:57             menu   \n504570    585600  2022-12-13 1900-01-01 19:46:52             menu   \n504582    585606  2022-12-13 1900-01-01 20:12:53             menu   \n504592    585612  2022-12-13 1900-01-01 20:40:15             menu   \n504598    585614  2022-12-13 1900-01-01 20:42:23             menu   \n504600    585615  2022-12-13 1900-01-01 20:43:09             menu   \n504607    585617  2022-12-13 1900-01-01 20:54:15             menu   \n504619    585623  2022-12-13 1900-01-01 21:10:47             menu   \n504622    585625  2022-12-13 1900-01-01 21:39:35             menu   \n504628    585629  2022-12-14 1900-01-01 12:22:46             menu   \n504633    585631  2022-12-14 1900-01-01 12:24:31             menu   \n504677    585656  2022-12-14 1900-01-01 13:59:39             menu   \n504685    585659  2022-12-14 1900-01-01 14:20:13             menu   \n504705    585669  2022-12-14 1900-01-01 15:44:31             menu   \n504709    585672  2022-12-14 1900-01-01 17:18:08             menu   \n504728    585682  2022-12-14 1900-01-01 17:59:53             menu   \n504737    585687  2022-12-14 1900-01-01 18:53:48             menu   \n504750    585696  2022-12-14 1900-01-01 19:49:03             menu   \n504765    585703  2022-12-14 1900-01-01 20:12:19             menu   \n504772    585707  2022-12-14 1900-01-01 20:42:22             menu   \n504779    585710  2022-12-14 1900-01-01 20:52:57             menu   \n504816    585729  2022-12-15 1900-01-01 12:18:45             menu   \n504837    585741  2022-12-15 1900-01-01 13:17:46             menu   \n504855    585749  2022-12-15 1900-01-01 13:41:22             menu   \n504858    585751  2022-12-15 1900-01-01 13:57:57             menu   \n504864    585753  2022-12-15 1900-01-01 14:38:22             menu   \n504888    585766  2022-12-15 1900-01-01 17:40:02             menu   \n504906    585774  2022-12-15 1900-01-01 18:48:05             menu   \n504910    585776  2022-12-15 1900-01-01 18:54:13             menu   \n504929    585784  2022-12-15 1900-01-01 19:24:06             menu   \n504933    585787  2022-12-15 1900-01-01 19:43:47             menu   \n504941    585791  2022-12-15 1900-01-01 20:14:03             menu   \n504953    585795  2022-12-15 1900-01-01 20:32:51             menu   \n504963    585799  2022-12-15 1900-01-01 20:49:09             menu   \n504967    585800  2022-12-15 1900-01-01 20:50:10             menu   \n504969    585801  2022-12-15 1900-01-01 20:52:35             menu   \n504978    585806  2022-12-15 1900-01-01 20:59:02             menu   \n504980    585807  2022-12-15 1900-01-01 20:59:30             menu   \n504987    585811  2022-12-15 1900-01-01 21:25:07             menu   \n504989    585812  2022-12-15 1900-01-01 21:37:05             menu   \n505030    585831  2022-12-16 1900-01-01 13:06:31             menu   \n505034    585834  2022-12-16 1900-01-01 13:23:21             menu   \n505036    585835  2022-12-16 1900-01-01 13:29:48             menu   \n505056    585843  2022-12-16 1900-01-01 14:13:49             menu   \n505080    585856  2022-12-16 1900-01-01 16:09:56             menu   \n505114    585874  2022-12-16 1900-01-01 18:42:54             menu   \n\n       classification   product prod_state  price  quantity  to_pay_xprod   \n504515       delivery  delivery     activo    0.0         0           0.0  \\\n504523       delivery  delivery     activo    0.0         0           0.0   \n504549       delivery  delivery     activo    0.0         0           0.0   \n504553       delivery  delivery     activo    0.0         0           0.0   \n504563       delivery  delivery     activo    0.0         0           0.0   \n504570       delivery  delivery     activo    0.0         0           0.0   \n504582       delivery  delivery     activo    0.0         0           0.0   \n504592       delivery  delivery     activo    0.0         0           0.0   \n504598       delivery  delivery     activo    0.0         0           0.0   \n504600       delivery  delivery     activo    0.0         0           0.0   \n504607       delivery  delivery     activo    0.0         0           0.0   \n504619       delivery  delivery     activo    0.0         0           0.0   \n504622       delivery  delivery     activo    0.0         0           0.0   \n504628       delivery  delivery     activo    0.0         0           0.0   \n504633       delivery  delivery     activo    0.0         0           0.0   \n504677       delivery  delivery     activo    0.0         0           0.0   \n504685       delivery  delivery     activo    0.0         0           0.0   \n504705       delivery  delivery     activo    0.0         0           0.0   \n504709       delivery  delivery     activo    0.0         0           0.0   \n504728       delivery  delivery     activo    0.0         0           0.0   \n504737       delivery  delivery     activo    0.0         0           0.0   \n504750       delivery  delivery     activo    0.0         0           0.0   \n504765       delivery  delivery     activo    0.0         0           0.0   \n504772       delivery  delivery     activo    0.0         0           0.0   \n504779       delivery  delivery     activo    0.0         0           0.0   \n504816       delivery  delivery     activo    0.0         0           0.0   \n504837       delivery  delivery     activo    0.0         0           0.0   \n504855       delivery  delivery     activo    0.0         0           0.0   \n504858       delivery  delivery     activo    0.0         0           0.0   \n504864       delivery  delivery     activo    0.0         0           0.0   \n504888       delivery  delivery     activo    0.0         0           0.0   \n504906       delivery  delivery     activo    0.0         0           0.0   \n504910       delivery  delivery     activo    0.0         0           0.0   \n504929       delivery  delivery     activo    0.0         0           0.0   \n504933       delivery  delivery     activo    0.0         0           0.0   \n504941       delivery  delivery     activo    0.0         0           0.0   \n504953       delivery  delivery     activo    0.0         0           0.0   \n504963       delivery  delivery     activo    0.0         0           0.0   \n504967       delivery  delivery     activo    0.0         0           0.0   \n504969       delivery  delivery     activo    0.0         0           0.0   \n504978       delivery  delivery     activo    0.0         0           0.0   \n504980       delivery  delivery     activo    0.0         0           0.0   \n504987       delivery  delivery     activo    0.0         0           0.0   \n504989       delivery  delivery     activo    0.0         0           0.0   \n505030       delivery  delivery     activo    0.0         0           0.0   \n505034       delivery  delivery     activo    0.0         0           0.0   \n505036       delivery  delivery     activo    0.0         0           0.0   \n505056       delivery  delivery     activo    0.0         0           0.0   \n505080       delivery  delivery     activo    0.0         0           0.0   \n505114       delivery  delivery     activo    0.0         0           0.0   \n\n        ...  modification_date modification_reason  is_cancelled  is_courtesy   \n504515  ...                NaN             Ninguna         False        False  \\\n504523  ...                NaN             Ninguna         False        False   \n504549  ...                NaN             Ninguna         False        False   \n504553  ...                NaN             Ninguna         False        False   \n504563  ...                NaN             Ninguna         False        False   \n504570  ...                NaN             Ninguna         False        False   \n504582  ...                NaN             Ninguna         False        False   \n504592  ...                NaN             Ninguna         False        False   \n504598  ...                NaN             Ninguna         False        False   \n504600  ...                NaN             Ninguna         False        False   \n504607  ...                NaN             Ninguna         False        False   \n504619  ...                NaN             Ninguna         False        False   \n504622  ...                NaN             Ninguna         False        False   \n504628  ...                NaN             Ninguna         False        False   \n504633  ...                NaN             Ninguna         False        False   \n504677  ...                NaN             Ninguna         False        False   \n504685  ...                NaN             Ninguna         False        False   \n504705  ...                NaN             Ninguna         False        False   \n504709  ...                NaN             Ninguna         False        False   \n504728  ...                NaN             Ninguna         False        False   \n504737  ...                NaN             Ninguna         False        False   \n504750  ...                NaN             Ninguna         False        False   \n504765  ...                NaN             Ninguna         False        False   \n504772  ...                NaN             Ninguna         False        False   \n504779  ...                NaN             Ninguna         False        False   \n504816  ...                NaN             Ninguna         False        False   \n504837  ...                NaN             Ninguna         False        False   \n504855  ...                NaN             Ninguna         False        False   \n504858  ...                NaN             Ninguna         False        False   \n504864  ...                NaN             Ninguna         False        False   \n504888  ...                NaN             Ninguna         False        False   \n504906  ...                NaN             Ninguna         False        False   \n504910  ...                NaN             Ninguna         False        False   \n504929  ...                NaN             Ninguna         False        False   \n504933  ...                NaN             Ninguna         False        False   \n504941  ...                NaN             Ninguna         False        False   \n504953  ...                NaN             Ninguna         False        False   \n504963  ...                NaN             Ninguna         False        False   \n504967  ...                NaN             Ninguna         False        False   \n504969  ...                NaN             Ninguna         False        False   \n504978  ...                NaN             Ninguna         False        False   \n504980  ...                NaN             Ninguna         False        False   \n504987  ...                NaN             Ninguna         False        False   \n504989  ...                NaN             Ninguna         False        False   \n505030  ...                NaN             Ninguna         False        False   \n505034  ...                NaN             Ninguna         False        False   \n505036  ...                NaN             Ninguna         False        False   \n505056  ...                NaN             Ninguna         False        False   \n505080  ...                NaN             Ninguna         False        False   \n505114  ...                NaN             Ninguna         False        False   \n\n        order_type price_alt  quantity_alt to_pay_xprod_alt delivery_name_new   \n504515    delivery       1.0             3              3.0        pedidos ya  \\\n504523    delivery       1.0            16             16.0        pedidos ya   \n504549    delivery       1.0            21             21.0        pedidos ya   \n504553    delivery       1.0             3              3.0             yaigo   \n504563    delivery       1.0            12             12.0        pedidos ya   \n504570    delivery       1.0            12             12.0        pedidos ya   \n504582    delivery       1.0            12             12.0        pedidos ya   \n504592    delivery       1.0             9              9.0        pedidos ya   \n504598    delivery       1.0            11             11.0             yaigo   \n504600    delivery       1.0             8              8.0            xpress   \n504607    delivery       1.0            12             12.0        pedidos ya   \n504619    delivery       1.0             8              8.0             yaigo   \n504622    delivery       1.0            10             10.0        pedidos ya   \n504628    delivery       1.0            24             24.0        pedidos ya   \n504633    delivery       1.0             7              7.0        pedidos ya   \n504677    delivery       1.0            12             12.0        pedidos ya   \n504685    delivery       1.0             8              8.0        pedidos ya   \n504705    delivery       1.0            12             12.0             yaigo   \n504709    delivery       1.0             7              7.0        pedidos ya   \n504728    delivery       1.0            14             14.0        pedidos ya   \n504737    delivery       1.0            22             22.0        pedidos ya   \n504750    delivery       1.0            13             13.0        pedidos ya   \n504765    delivery       1.0            15             15.0        pedidos ya   \n504772    delivery       1.0            28             28.0        pedidos ya   \n504779    delivery       1.0            15             15.0            xpress   \n504816    delivery       1.0             1              1.0        pedidos ya   \n504837    delivery       1.0             1              1.0        pedidos ya   \n504855    delivery       1.0            14             14.0      mr. delivery   \n504858    delivery       1.0            40             40.0      mr. delivery   \n504864    delivery       1.0             8              8.0             yaigo   \n504888    delivery       1.0             7              7.0        pedidos ya   \n504906    delivery       1.0            30             30.0        pedidos ya   \n504910    delivery       1.0             5              5.0        pedidos ya   \n504929    delivery       1.0            10             10.0        pedidos ya   \n504933    delivery       1.0            30             30.0        pedidos ya   \n504941    delivery       1.0            24             24.0        pedidos ya   \n504953    delivery       1.0             7              7.0        pedidos ya   \n504963    delivery       1.0             6              6.0        pedidos ya   \n504967    delivery       1.0            30             30.0        pedidos ya   \n504969    delivery       1.0             6              6.0        pedidos ya   \n504978    delivery       1.0             1              1.0        pedidos ya   \n504980    delivery       1.0             5              5.0        pedidos ya   \n504987    delivery       1.0             4              4.0             yaigo   \n504989    delivery       1.0            10             10.0        pedidos ya   \n505030    delivery       1.0            22             22.0        pedidos ya   \n505034    delivery       1.0             9              9.0        pedidos ya   \n505036    delivery       1.0             5              5.0        pedidos ya   \n505056    delivery       1.0            19             19.0        pedidos ya   \n505080    delivery       1.0             2              2.0        pedidos ya   \n505114    delivery       1.0            17             17.0        pedidos ya   \n\n       delivery_cost_new  \n504515               3.0  \n504523              16.0  \n504549              21.0  \n504553               3.0  \n504563              12.0  \n504570              12.0  \n504582              12.0  \n504592               9.0  \n504598              11.0  \n504600               8.0  \n504607              12.0  \n504619               8.0  \n504622              10.0  \n504628              24.0  \n504633               7.0  \n504677              12.0  \n504685               8.0  \n504705              12.0  \n504709               7.0  \n504728              14.0  \n504737              22.0  \n504750              13.0  \n504765              15.0  \n504772              28.0  \n504779              15.0  \n504816               1.0  \n504837               1.0  \n504855              14.0  \n504858              40.0  \n504864               8.0  \n504888               7.0  \n504906              30.0  \n504910               5.0  \n504929              10.0  \n504933              30.0  \n504941              24.0  \n504953               7.0  \n504963               6.0  \n504967              30.0  \n504969               6.0  \n504978               1.0  \n504980               5.0  \n504987               4.0  \n504989              10.0  \n505030              22.0  \n505034               9.0  \n505036               5.0  \n505056              19.0  \n505080               2.0  \n505114              17.0  \n\n[50 rows x 27 columns]",
      "text/html": "<div>\n<style scoped>\n    .dataframe tbody tr th:only-of-type {\n        vertical-align: middle;\n    }\n\n    .dataframe tbody tr th {\n        vertical-align: top;\n    }\n\n    .dataframe thead th {\n        text-align: right;\n    }\n</style>\n<table border=\"1\" class=\"dataframe\">\n  <thead>\n    <tr style=\"text-align: right;\">\n      <th></th>\n      <th>order_id</th>\n      <th>system_date</th>\n      <th>time</th>\n      <th>group_classifier</th>\n      <th>classification</th>\n      <th>product</th>\n      <th>prod_state</th>\n      <th>price</th>\n      <th>quantity</th>\n      <th>to_pay_xprod</th>\n      <th>...</th>\n      <th>modification_date</th>\n      <th>modification_reason</th>\n      <th>is_cancelled</th>\n      <th>is_courtesy</th>\n      <th>order_type</th>\n      <th>price_alt</th>\n      <th>quantity_alt</th>\n      <th>to_pay_xprod_alt</th>\n      <th>delivery_name_new</th>\n      <th>delivery_cost_new</th>\n    </tr>\n  </thead>\n  <tbody>\n    <tr>\n      <th>504515</th>\n      <td>585572</td>\n      <td>2022-12-13</td>\n      <td>1900-01-01 17:01:29</td>\n      <td>menu</td>\n      <td>delivery</td>\n      <td>delivery</td>\n      <td>activo</td>\n      <td>0.0</td>\n      <td>0</td>\n      <td>0.0</td>\n      <td>...</td>\n      <td>NaN</td>\n      <td>Ninguna</td>\n      <td>False</td>\n      <td>False</td>\n      <td>delivery</td>\n      <td>1.0</td>\n      <td>3</td>\n      <td>3.0</td>\n      <td>pedidos ya</td>\n      <td>3.0</td>\n    </tr>\n    <tr>\n      <th>504523</th>\n      <td>585577</td>\n      <td>2022-12-13</td>\n      <td>1900-01-01 18:07:37</td>\n      <td>menu</td>\n      <td>delivery</td>\n      <td>delivery</td>\n      <td>activo</td>\n      <td>0.0</td>\n      <td>0</td>\n      <td>0.0</td>\n      <td>...</td>\n      <td>NaN</td>\n      <td>Ninguna</td>\n      <td>False</td>\n      <td>False</td>\n      <td>delivery</td>\n      <td>1.0</td>\n      <td>16</td>\n      <td>16.0</td>\n      <td>pedidos ya</td>\n      <td>16.0</td>\n    </tr>\n    <tr>\n      <th>504549</th>\n      <td>585590</td>\n      <td>2022-12-13</td>\n      <td>1900-01-01 19:10:10</td>\n      <td>menu</td>\n      <td>delivery</td>\n      <td>delivery</td>\n      <td>activo</td>\n      <td>0.0</td>\n      <td>0</td>\n      <td>0.0</td>\n      <td>...</td>\n      <td>NaN</td>\n      <td>Ninguna</td>\n      <td>False</td>\n      <td>False</td>\n      <td>delivery</td>\n      <td>1.0</td>\n      <td>21</td>\n      <td>21.0</td>\n      <td>pedidos ya</td>\n      <td>21.0</td>\n    </tr>\n    <tr>\n      <th>504553</th>\n      <td>585593</td>\n      <td>2022-12-13</td>\n      <td>1900-01-01 19:27:25</td>\n      <td>menu</td>\n      <td>delivery</td>\n      <td>delivery</td>\n      <td>activo</td>\n      <td>0.0</td>\n      <td>0</td>\n      <td>0.0</td>\n      <td>...</td>\n      <td>NaN</td>\n      <td>Ninguna</td>\n      <td>False</td>\n      <td>False</td>\n      <td>delivery</td>\n      <td>1.0</td>\n      <td>3</td>\n      <td>3.0</td>\n      <td>yaigo</td>\n      <td>3.0</td>\n    </tr>\n    <tr>\n      <th>504563</th>\n      <td>585597</td>\n      <td>2022-12-13</td>\n      <td>1900-01-01 19:40:57</td>\n      <td>menu</td>\n      <td>delivery</td>\n      <td>delivery</td>\n      <td>activo</td>\n      <td>0.0</td>\n      <td>0</td>\n      <td>0.0</td>\n      <td>...</td>\n      <td>NaN</td>\n      <td>Ninguna</td>\n      <td>False</td>\n      <td>False</td>\n      <td>delivery</td>\n      <td>1.0</td>\n      <td>12</td>\n      <td>12.0</td>\n      <td>pedidos ya</td>\n      <td>12.0</td>\n    </tr>\n    <tr>\n      <th>504570</th>\n      <td>585600</td>\n      <td>2022-12-13</td>\n      <td>1900-01-01 19:46:52</td>\n      <td>menu</td>\n      <td>delivery</td>\n      <td>delivery</td>\n      <td>activo</td>\n      <td>0.0</td>\n      <td>0</td>\n      <td>0.0</td>\n      <td>...</td>\n      <td>NaN</td>\n      <td>Ninguna</td>\n      <td>False</td>\n      <td>False</td>\n      <td>delivery</td>\n      <td>1.0</td>\n      <td>12</td>\n      <td>12.0</td>\n      <td>pedidos ya</td>\n      <td>12.0</td>\n    </tr>\n    <tr>\n      <th>504582</th>\n      <td>585606</td>\n      <td>2022-12-13</td>\n      <td>1900-01-01 20:12:53</td>\n      <td>menu</td>\n      <td>delivery</td>\n      <td>delivery</td>\n      <td>activo</td>\n      <td>0.0</td>\n      <td>0</td>\n      <td>0.0</td>\n      <td>...</td>\n      <td>NaN</td>\n      <td>Ninguna</td>\n      <td>False</td>\n      <td>False</td>\n      <td>delivery</td>\n      <td>1.0</td>\n      <td>12</td>\n      <td>12.0</td>\n      <td>pedidos ya</td>\n      <td>12.0</td>\n    </tr>\n    <tr>\n      <th>504592</th>\n      <td>585612</td>\n      <td>2022-12-13</td>\n      <td>1900-01-01 20:40:15</td>\n      <td>menu</td>\n      <td>delivery</td>\n      <td>delivery</td>\n      <td>activo</td>\n      <td>0.0</td>\n      <td>0</td>\n      <td>0.0</td>\n      <td>...</td>\n      <td>NaN</td>\n      <td>Ninguna</td>\n      <td>False</td>\n      <td>False</td>\n      <td>delivery</td>\n      <td>1.0</td>\n      <td>9</td>\n      <td>9.0</td>\n      <td>pedidos ya</td>\n      <td>9.0</td>\n    </tr>\n    <tr>\n      <th>504598</th>\n      <td>585614</td>\n      <td>2022-12-13</td>\n      <td>1900-01-01 20:42:23</td>\n      <td>menu</td>\n      <td>delivery</td>\n      <td>delivery</td>\n      <td>activo</td>\n      <td>0.0</td>\n      <td>0</td>\n      <td>0.0</td>\n      <td>...</td>\n      <td>NaN</td>\n      <td>Ninguna</td>\n      <td>False</td>\n      <td>False</td>\n      <td>delivery</td>\n      <td>1.0</td>\n      <td>11</td>\n      <td>11.0</td>\n      <td>yaigo</td>\n      <td>11.0</td>\n    </tr>\n    <tr>\n      <th>504600</th>\n      <td>585615</td>\n      <td>2022-12-13</td>\n      <td>1900-01-01 20:43:09</td>\n      <td>menu</td>\n      <td>delivery</td>\n      <td>delivery</td>\n      <td>activo</td>\n      <td>0.0</td>\n      <td>0</td>\n      <td>0.0</td>\n      <td>...</td>\n      <td>NaN</td>\n      <td>Ninguna</td>\n      <td>False</td>\n      <td>False</td>\n      <td>delivery</td>\n      <td>1.0</td>\n      <td>8</td>\n      <td>8.0</td>\n      <td>xpress</td>\n      <td>8.0</td>\n    </tr>\n    <tr>\n      <th>504607</th>\n      <td>585617</td>\n      <td>2022-12-13</td>\n      <td>1900-01-01 20:54:15</td>\n      <td>menu</td>\n      <td>delivery</td>\n      <td>delivery</td>\n      <td>activo</td>\n      <td>0.0</td>\n      <td>0</td>\n      <td>0.0</td>\n      <td>...</td>\n      <td>NaN</td>\n      <td>Ninguna</td>\n      <td>False</td>\n      <td>False</td>\n      <td>delivery</td>\n      <td>1.0</td>\n      <td>12</td>\n      <td>12.0</td>\n      <td>pedidos ya</td>\n      <td>12.0</td>\n    </tr>\n    <tr>\n      <th>504619</th>\n      <td>585623</td>\n      <td>2022-12-13</td>\n      <td>1900-01-01 21:10:47</td>\n      <td>menu</td>\n      <td>delivery</td>\n      <td>delivery</td>\n      <td>activo</td>\n      <td>0.0</td>\n      <td>0</td>\n      <td>0.0</td>\n      <td>...</td>\n      <td>NaN</td>\n      <td>Ninguna</td>\n      <td>False</td>\n      <td>False</td>\n      <td>delivery</td>\n      <td>1.0</td>\n      <td>8</td>\n      <td>8.0</td>\n      <td>yaigo</td>\n      <td>8.0</td>\n    </tr>\n    <tr>\n      <th>504622</th>\n      <td>585625</td>\n      <td>2022-12-13</td>\n      <td>1900-01-01 21:39:35</td>\n      <td>menu</td>\n      <td>delivery</td>\n      <td>delivery</td>\n      <td>activo</td>\n      <td>0.0</td>\n      <td>0</td>\n      <td>0.0</td>\n      <td>...</td>\n      <td>NaN</td>\n      <td>Ninguna</td>\n      <td>False</td>\n      <td>False</td>\n      <td>delivery</td>\n      <td>1.0</td>\n      <td>10</td>\n      <td>10.0</td>\n      <td>pedidos ya</td>\n      <td>10.0</td>\n    </tr>\n    <tr>\n      <th>504628</th>\n      <td>585629</td>\n      <td>2022-12-14</td>\n      <td>1900-01-01 12:22:46</td>\n      <td>menu</td>\n      <td>delivery</td>\n      <td>delivery</td>\n      <td>activo</td>\n      <td>0.0</td>\n      <td>0</td>\n      <td>0.0</td>\n      <td>...</td>\n      <td>NaN</td>\n      <td>Ninguna</td>\n      <td>False</td>\n      <td>False</td>\n      <td>delivery</td>\n      <td>1.0</td>\n      <td>24</td>\n      <td>24.0</td>\n      <td>pedidos ya</td>\n      <td>24.0</td>\n    </tr>\n    <tr>\n      <th>504633</th>\n      <td>585631</td>\n      <td>2022-12-14</td>\n      <td>1900-01-01 12:24:31</td>\n      <td>menu</td>\n      <td>delivery</td>\n      <td>delivery</td>\n      <td>activo</td>\n      <td>0.0</td>\n      <td>0</td>\n      <td>0.0</td>\n      <td>...</td>\n      <td>NaN</td>\n      <td>Ninguna</td>\n      <td>False</td>\n      <td>False</td>\n      <td>delivery</td>\n      <td>1.0</td>\n      <td>7</td>\n      <td>7.0</td>\n      <td>pedidos ya</td>\n      <td>7.0</td>\n    </tr>\n    <tr>\n      <th>504677</th>\n      <td>585656</td>\n      <td>2022-12-14</td>\n      <td>1900-01-01 13:59:39</td>\n      <td>menu</td>\n      <td>delivery</td>\n      <td>delivery</td>\n      <td>activo</td>\n      <td>0.0</td>\n      <td>0</td>\n      <td>0.0</td>\n      <td>...</td>\n      <td>NaN</td>\n      <td>Ninguna</td>\n      <td>False</td>\n      <td>False</td>\n      <td>delivery</td>\n      <td>1.0</td>\n      <td>12</td>\n      <td>12.0</td>\n      <td>pedidos ya</td>\n      <td>12.0</td>\n    </tr>\n    <tr>\n      <th>504685</th>\n      <td>585659</td>\n      <td>2022-12-14</td>\n      <td>1900-01-01 14:20:13</td>\n      <td>menu</td>\n      <td>delivery</td>\n      <td>delivery</td>\n      <td>activo</td>\n      <td>0.0</td>\n      <td>0</td>\n      <td>0.0</td>\n      <td>...</td>\n      <td>NaN</td>\n      <td>Ninguna</td>\n      <td>False</td>\n      <td>False</td>\n      <td>delivery</td>\n      <td>1.0</td>\n      <td>8</td>\n      <td>8.0</td>\n      <td>pedidos ya</td>\n      <td>8.0</td>\n    </tr>\n    <tr>\n      <th>504705</th>\n      <td>585669</td>\n      <td>2022-12-14</td>\n      <td>1900-01-01 15:44:31</td>\n      <td>menu</td>\n      <td>delivery</td>\n      <td>delivery</td>\n      <td>activo</td>\n      <td>0.0</td>\n      <td>0</td>\n      <td>0.0</td>\n      <td>...</td>\n      <td>NaN</td>\n      <td>Ninguna</td>\n      <td>False</td>\n      <td>False</td>\n      <td>delivery</td>\n      <td>1.0</td>\n      <td>12</td>\n      <td>12.0</td>\n      <td>yaigo</td>\n      <td>12.0</td>\n    </tr>\n    <tr>\n      <th>504709</th>\n      <td>585672</td>\n      <td>2022-12-14</td>\n      <td>1900-01-01 17:18:08</td>\n      <td>menu</td>\n      <td>delivery</td>\n      <td>delivery</td>\n      <td>activo</td>\n      <td>0.0</td>\n      <td>0</td>\n      <td>0.0</td>\n      <td>...</td>\n      <td>NaN</td>\n      <td>Ninguna</td>\n      <td>False</td>\n      <td>False</td>\n      <td>delivery</td>\n      <td>1.0</td>\n      <td>7</td>\n      <td>7.0</td>\n      <td>pedidos ya</td>\n      <td>7.0</td>\n    </tr>\n    <tr>\n      <th>504728</th>\n      <td>585682</td>\n      <td>2022-12-14</td>\n      <td>1900-01-01 17:59:53</td>\n      <td>menu</td>\n      <td>delivery</td>\n      <td>delivery</td>\n      <td>activo</td>\n      <td>0.0</td>\n      <td>0</td>\n      <td>0.0</td>\n      <td>...</td>\n      <td>NaN</td>\n      <td>Ninguna</td>\n      <td>False</td>\n      <td>False</td>\n      <td>delivery</td>\n      <td>1.0</td>\n      <td>14</td>\n      <td>14.0</td>\n      <td>pedidos ya</td>\n      <td>14.0</td>\n    </tr>\n    <tr>\n      <th>504737</th>\n      <td>585687</td>\n      <td>2022-12-14</td>\n      <td>1900-01-01 18:53:48</td>\n      <td>menu</td>\n      <td>delivery</td>\n      <td>delivery</td>\n      <td>activo</td>\n      <td>0.0</td>\n      <td>0</td>\n      <td>0.0</td>\n      <td>...</td>\n      <td>NaN</td>\n      <td>Ninguna</td>\n      <td>False</td>\n      <td>False</td>\n      <td>delivery</td>\n      <td>1.0</td>\n      <td>22</td>\n      <td>22.0</td>\n      <td>pedidos ya</td>\n      <td>22.0</td>\n    </tr>\n    <tr>\n      <th>504750</th>\n      <td>585696</td>\n      <td>2022-12-14</td>\n      <td>1900-01-01 19:49:03</td>\n      <td>menu</td>\n      <td>delivery</td>\n      <td>delivery</td>\n      <td>activo</td>\n      <td>0.0</td>\n      <td>0</td>\n      <td>0.0</td>\n      <td>...</td>\n      <td>NaN</td>\n      <td>Ninguna</td>\n      <td>False</td>\n      <td>False</td>\n      <td>delivery</td>\n      <td>1.0</td>\n      <td>13</td>\n      <td>13.0</td>\n      <td>pedidos ya</td>\n      <td>13.0</td>\n    </tr>\n    <tr>\n      <th>504765</th>\n      <td>585703</td>\n      <td>2022-12-14</td>\n      <td>1900-01-01 20:12:19</td>\n      <td>menu</td>\n      <td>delivery</td>\n      <td>delivery</td>\n      <td>activo</td>\n      <td>0.0</td>\n      <td>0</td>\n      <td>0.0</td>\n      <td>...</td>\n      <td>NaN</td>\n      <td>Ninguna</td>\n      <td>False</td>\n      <td>False</td>\n      <td>delivery</td>\n      <td>1.0</td>\n      <td>15</td>\n      <td>15.0</td>\n      <td>pedidos ya</td>\n      <td>15.0</td>\n    </tr>\n    <tr>\n      <th>504772</th>\n      <td>585707</td>\n      <td>2022-12-14</td>\n      <td>1900-01-01 20:42:22</td>\n      <td>menu</td>\n      <td>delivery</td>\n      <td>delivery</td>\n      <td>activo</td>\n      <td>0.0</td>\n      <td>0</td>\n      <td>0.0</td>\n      <td>...</td>\n      <td>NaN</td>\n      <td>Ninguna</td>\n      <td>False</td>\n      <td>False</td>\n      <td>delivery</td>\n      <td>1.0</td>\n      <td>28</td>\n      <td>28.0</td>\n      <td>pedidos ya</td>\n      <td>28.0</td>\n    </tr>\n    <tr>\n      <th>504779</th>\n      <td>585710</td>\n      <td>2022-12-14</td>\n      <td>1900-01-01 20:52:57</td>\n      <td>menu</td>\n      <td>delivery</td>\n      <td>delivery</td>\n      <td>activo</td>\n      <td>0.0</td>\n      <td>0</td>\n      <td>0.0</td>\n      <td>...</td>\n      <td>NaN</td>\n      <td>Ninguna</td>\n      <td>False</td>\n      <td>False</td>\n      <td>delivery</td>\n      <td>1.0</td>\n      <td>15</td>\n      <td>15.0</td>\n      <td>xpress</td>\n      <td>15.0</td>\n    </tr>\n    <tr>\n      <th>504816</th>\n      <td>585729</td>\n      <td>2022-12-15</td>\n      <td>1900-01-01 12:18:45</td>\n      <td>menu</td>\n      <td>delivery</td>\n      <td>delivery</td>\n      <td>activo</td>\n      <td>0.0</td>\n      <td>0</td>\n      <td>0.0</td>\n      <td>...</td>\n      <td>NaN</td>\n      <td>Ninguna</td>\n      <td>False</td>\n      <td>False</td>\n      <td>delivery</td>\n      <td>1.0</td>\n      <td>1</td>\n      <td>1.0</td>\n      <td>pedidos ya</td>\n      <td>1.0</td>\n    </tr>\n    <tr>\n      <th>504837</th>\n      <td>585741</td>\n      <td>2022-12-15</td>\n      <td>1900-01-01 13:17:46</td>\n      <td>menu</td>\n      <td>delivery</td>\n      <td>delivery</td>\n      <td>activo</td>\n      <td>0.0</td>\n      <td>0</td>\n      <td>0.0</td>\n      <td>...</td>\n      <td>NaN</td>\n      <td>Ninguna</td>\n      <td>False</td>\n      <td>False</td>\n      <td>delivery</td>\n      <td>1.0</td>\n      <td>1</td>\n      <td>1.0</td>\n      <td>pedidos ya</td>\n      <td>1.0</td>\n    </tr>\n    <tr>\n      <th>504855</th>\n      <td>585749</td>\n      <td>2022-12-15</td>\n      <td>1900-01-01 13:41:22</td>\n      <td>menu</td>\n      <td>delivery</td>\n      <td>delivery</td>\n      <td>activo</td>\n      <td>0.0</td>\n      <td>0</td>\n      <td>0.0</td>\n      <td>...</td>\n      <td>NaN</td>\n      <td>Ninguna</td>\n      <td>False</td>\n      <td>False</td>\n      <td>delivery</td>\n      <td>1.0</td>\n      <td>14</td>\n      <td>14.0</td>\n      <td>mr. delivery</td>\n      <td>14.0</td>\n    </tr>\n    <tr>\n      <th>504858</th>\n      <td>585751</td>\n      <td>2022-12-15</td>\n      <td>1900-01-01 13:57:57</td>\n      <td>menu</td>\n      <td>delivery</td>\n      <td>delivery</td>\n      <td>activo</td>\n      <td>0.0</td>\n      <td>0</td>\n      <td>0.0</td>\n      <td>...</td>\n      <td>NaN</td>\n      <td>Ninguna</td>\n      <td>False</td>\n      <td>False</td>\n      <td>delivery</td>\n      <td>1.0</td>\n      <td>40</td>\n      <td>40.0</td>\n      <td>mr. delivery</td>\n      <td>40.0</td>\n    </tr>\n    <tr>\n      <th>504864</th>\n      <td>585753</td>\n      <td>2022-12-15</td>\n      <td>1900-01-01 14:38:22</td>\n      <td>menu</td>\n      <td>delivery</td>\n      <td>delivery</td>\n      <td>activo</td>\n      <td>0.0</td>\n      <td>0</td>\n      <td>0.0</td>\n      <td>...</td>\n      <td>NaN</td>\n      <td>Ninguna</td>\n      <td>False</td>\n      <td>False</td>\n      <td>delivery</td>\n      <td>1.0</td>\n      <td>8</td>\n      <td>8.0</td>\n      <td>yaigo</td>\n      <td>8.0</td>\n    </tr>\n    <tr>\n      <th>504888</th>\n      <td>585766</td>\n      <td>2022-12-15</td>\n      <td>1900-01-01 17:40:02</td>\n      <td>menu</td>\n      <td>delivery</td>\n      <td>delivery</td>\n      <td>activo</td>\n      <td>0.0</td>\n      <td>0</td>\n      <td>0.0</td>\n      <td>...</td>\n      <td>NaN</td>\n      <td>Ninguna</td>\n      <td>False</td>\n      <td>False</td>\n      <td>delivery</td>\n      <td>1.0</td>\n      <td>7</td>\n      <td>7.0</td>\n      <td>pedidos ya</td>\n      <td>7.0</td>\n    </tr>\n    <tr>\n      <th>504906</th>\n      <td>585774</td>\n      <td>2022-12-15</td>\n      <td>1900-01-01 18:48:05</td>\n      <td>menu</td>\n      <td>delivery</td>\n      <td>delivery</td>\n      <td>activo</td>\n      <td>0.0</td>\n      <td>0</td>\n      <td>0.0</td>\n      <td>...</td>\n      <td>NaN</td>\n      <td>Ninguna</td>\n      <td>False</td>\n      <td>False</td>\n      <td>delivery</td>\n      <td>1.0</td>\n      <td>30</td>\n      <td>30.0</td>\n      <td>pedidos ya</td>\n      <td>30.0</td>\n    </tr>\n    <tr>\n      <th>504910</th>\n      <td>585776</td>\n      <td>2022-12-15</td>\n      <td>1900-01-01 18:54:13</td>\n      <td>menu</td>\n      <td>delivery</td>\n      <td>delivery</td>\n      <td>activo</td>\n      <td>0.0</td>\n      <td>0</td>\n      <td>0.0</td>\n      <td>...</td>\n      <td>NaN</td>\n      <td>Ninguna</td>\n      <td>False</td>\n      <td>False</td>\n      <td>delivery</td>\n      <td>1.0</td>\n      <td>5</td>\n      <td>5.0</td>\n      <td>pedidos ya</td>\n      <td>5.0</td>\n    </tr>\n    <tr>\n      <th>504929</th>\n      <td>585784</td>\n      <td>2022-12-15</td>\n      <td>1900-01-01 19:24:06</td>\n      <td>menu</td>\n      <td>delivery</td>\n      <td>delivery</td>\n      <td>activo</td>\n      <td>0.0</td>\n      <td>0</td>\n      <td>0.0</td>\n      <td>...</td>\n      <td>NaN</td>\n      <td>Ninguna</td>\n      <td>False</td>\n      <td>False</td>\n      <td>delivery</td>\n      <td>1.0</td>\n      <td>10</td>\n      <td>10.0</td>\n      <td>pedidos ya</td>\n      <td>10.0</td>\n    </tr>\n    <tr>\n      <th>504933</th>\n      <td>585787</td>\n      <td>2022-12-15</td>\n      <td>1900-01-01 19:43:47</td>\n      <td>menu</td>\n      <td>delivery</td>\n      <td>delivery</td>\n      <td>activo</td>\n      <td>0.0</td>\n      <td>0</td>\n      <td>0.0</td>\n      <td>...</td>\n      <td>NaN</td>\n      <td>Ninguna</td>\n      <td>False</td>\n      <td>False</td>\n      <td>delivery</td>\n      <td>1.0</td>\n      <td>30</td>\n      <td>30.0</td>\n      <td>pedidos ya</td>\n      <td>30.0</td>\n    </tr>\n    <tr>\n      <th>504941</th>\n      <td>585791</td>\n      <td>2022-12-15</td>\n      <td>1900-01-01 20:14:03</td>\n      <td>menu</td>\n      <td>delivery</td>\n      <td>delivery</td>\n      <td>activo</td>\n      <td>0.0</td>\n      <td>0</td>\n      <td>0.0</td>\n      <td>...</td>\n      <td>NaN</td>\n      <td>Ninguna</td>\n      <td>False</td>\n      <td>False</td>\n      <td>delivery</td>\n      <td>1.0</td>\n      <td>24</td>\n      <td>24.0</td>\n      <td>pedidos ya</td>\n      <td>24.0</td>\n    </tr>\n    <tr>\n      <th>504953</th>\n      <td>585795</td>\n      <td>2022-12-15</td>\n      <td>1900-01-01 20:32:51</td>\n      <td>menu</td>\n      <td>delivery</td>\n      <td>delivery</td>\n      <td>activo</td>\n      <td>0.0</td>\n      <td>0</td>\n      <td>0.0</td>\n      <td>...</td>\n      <td>NaN</td>\n      <td>Ninguna</td>\n      <td>False</td>\n      <td>False</td>\n      <td>delivery</td>\n      <td>1.0</td>\n      <td>7</td>\n      <td>7.0</td>\n      <td>pedidos ya</td>\n      <td>7.0</td>\n    </tr>\n    <tr>\n      <th>504963</th>\n      <td>585799</td>\n      <td>2022-12-15</td>\n      <td>1900-01-01 20:49:09</td>\n      <td>menu</td>\n      <td>delivery</td>\n      <td>delivery</td>\n      <td>activo</td>\n      <td>0.0</td>\n      <td>0</td>\n      <td>0.0</td>\n      <td>...</td>\n      <td>NaN</td>\n      <td>Ninguna</td>\n      <td>False</td>\n      <td>False</td>\n      <td>delivery</td>\n      <td>1.0</td>\n      <td>6</td>\n      <td>6.0</td>\n      <td>pedidos ya</td>\n      <td>6.0</td>\n    </tr>\n    <tr>\n      <th>504967</th>\n      <td>585800</td>\n      <td>2022-12-15</td>\n      <td>1900-01-01 20:50:10</td>\n      <td>menu</td>\n      <td>delivery</td>\n      <td>delivery</td>\n      <td>activo</td>\n      <td>0.0</td>\n      <td>0</td>\n      <td>0.0</td>\n      <td>...</td>\n      <td>NaN</td>\n      <td>Ninguna</td>\n      <td>False</td>\n      <td>False</td>\n      <td>delivery</td>\n      <td>1.0</td>\n      <td>30</td>\n      <td>30.0</td>\n      <td>pedidos ya</td>\n      <td>30.0</td>\n    </tr>\n    <tr>\n      <th>504969</th>\n      <td>585801</td>\n      <td>2022-12-15</td>\n      <td>1900-01-01 20:52:35</td>\n      <td>menu</td>\n      <td>delivery</td>\n      <td>delivery</td>\n      <td>activo</td>\n      <td>0.0</td>\n      <td>0</td>\n      <td>0.0</td>\n      <td>...</td>\n      <td>NaN</td>\n      <td>Ninguna</td>\n      <td>False</td>\n      <td>False</td>\n      <td>delivery</td>\n      <td>1.0</td>\n      <td>6</td>\n      <td>6.0</td>\n      <td>pedidos ya</td>\n      <td>6.0</td>\n    </tr>\n    <tr>\n      <th>504978</th>\n      <td>585806</td>\n      <td>2022-12-15</td>\n      <td>1900-01-01 20:59:02</td>\n      <td>menu</td>\n      <td>delivery</td>\n      <td>delivery</td>\n      <td>activo</td>\n      <td>0.0</td>\n      <td>0</td>\n      <td>0.0</td>\n      <td>...</td>\n      <td>NaN</td>\n      <td>Ninguna</td>\n      <td>False</td>\n      <td>False</td>\n      <td>delivery</td>\n      <td>1.0</td>\n      <td>1</td>\n      <td>1.0</td>\n      <td>pedidos ya</td>\n      <td>1.0</td>\n    </tr>\n    <tr>\n      <th>504980</th>\n      <td>585807</td>\n      <td>2022-12-15</td>\n      <td>1900-01-01 20:59:30</td>\n      <td>menu</td>\n      <td>delivery</td>\n      <td>delivery</td>\n      <td>activo</td>\n      <td>0.0</td>\n      <td>0</td>\n      <td>0.0</td>\n      <td>...</td>\n      <td>NaN</td>\n      <td>Ninguna</td>\n      <td>False</td>\n      <td>False</td>\n      <td>delivery</td>\n      <td>1.0</td>\n      <td>5</td>\n      <td>5.0</td>\n      <td>pedidos ya</td>\n      <td>5.0</td>\n    </tr>\n    <tr>\n      <th>504987</th>\n      <td>585811</td>\n      <td>2022-12-15</td>\n      <td>1900-01-01 21:25:07</td>\n      <td>menu</td>\n      <td>delivery</td>\n      <td>delivery</td>\n      <td>activo</td>\n      <td>0.0</td>\n      <td>0</td>\n      <td>0.0</td>\n      <td>...</td>\n      <td>NaN</td>\n      <td>Ninguna</td>\n      <td>False</td>\n      <td>False</td>\n      <td>delivery</td>\n      <td>1.0</td>\n      <td>4</td>\n      <td>4.0</td>\n      <td>yaigo</td>\n      <td>4.0</td>\n    </tr>\n    <tr>\n      <th>504989</th>\n      <td>585812</td>\n      <td>2022-12-15</td>\n      <td>1900-01-01 21:37:05</td>\n      <td>menu</td>\n      <td>delivery</td>\n      <td>delivery</td>\n      <td>activo</td>\n      <td>0.0</td>\n      <td>0</td>\n      <td>0.0</td>\n      <td>...</td>\n      <td>NaN</td>\n      <td>Ninguna</td>\n      <td>False</td>\n      <td>False</td>\n      <td>delivery</td>\n      <td>1.0</td>\n      <td>10</td>\n      <td>10.0</td>\n      <td>pedidos ya</td>\n      <td>10.0</td>\n    </tr>\n    <tr>\n      <th>505030</th>\n      <td>585831</td>\n      <td>2022-12-16</td>\n      <td>1900-01-01 13:06:31</td>\n      <td>menu</td>\n      <td>delivery</td>\n      <td>delivery</td>\n      <td>activo</td>\n      <td>0.0</td>\n      <td>0</td>\n      <td>0.0</td>\n      <td>...</td>\n      <td>NaN</td>\n      <td>Ninguna</td>\n      <td>False</td>\n      <td>False</td>\n      <td>delivery</td>\n      <td>1.0</td>\n      <td>22</td>\n      <td>22.0</td>\n      <td>pedidos ya</td>\n      <td>22.0</td>\n    </tr>\n    <tr>\n      <th>505034</th>\n      <td>585834</td>\n      <td>2022-12-16</td>\n      <td>1900-01-01 13:23:21</td>\n      <td>menu</td>\n      <td>delivery</td>\n      <td>delivery</td>\n      <td>activo</td>\n      <td>0.0</td>\n      <td>0</td>\n      <td>0.0</td>\n      <td>...</td>\n      <td>NaN</td>\n      <td>Ninguna</td>\n      <td>False</td>\n      <td>False</td>\n      <td>delivery</td>\n      <td>1.0</td>\n      <td>9</td>\n      <td>9.0</td>\n      <td>pedidos ya</td>\n      <td>9.0</td>\n    </tr>\n    <tr>\n      <th>505036</th>\n      <td>585835</td>\n      <td>2022-12-16</td>\n      <td>1900-01-01 13:29:48</td>\n      <td>menu</td>\n      <td>delivery</td>\n      <td>delivery</td>\n      <td>activo</td>\n      <td>0.0</td>\n      <td>0</td>\n      <td>0.0</td>\n      <td>...</td>\n      <td>NaN</td>\n      <td>Ninguna</td>\n      <td>False</td>\n      <td>False</td>\n      <td>delivery</td>\n      <td>1.0</td>\n      <td>5</td>\n      <td>5.0</td>\n      <td>pedidos ya</td>\n      <td>5.0</td>\n    </tr>\n    <tr>\n      <th>505056</th>\n      <td>585843</td>\n      <td>2022-12-16</td>\n      <td>1900-01-01 14:13:49</td>\n      <td>menu</td>\n      <td>delivery</td>\n      <td>delivery</td>\n      <td>activo</td>\n      <td>0.0</td>\n      <td>0</td>\n      <td>0.0</td>\n      <td>...</td>\n      <td>NaN</td>\n      <td>Ninguna</td>\n      <td>False</td>\n      <td>False</td>\n      <td>delivery</td>\n      <td>1.0</td>\n      <td>19</td>\n      <td>19.0</td>\n      <td>pedidos ya</td>\n      <td>19.0</td>\n    </tr>\n    <tr>\n      <th>505080</th>\n      <td>585856</td>\n      <td>2022-12-16</td>\n      <td>1900-01-01 16:09:56</td>\n      <td>menu</td>\n      <td>delivery</td>\n      <td>delivery</td>\n      <td>activo</td>\n      <td>0.0</td>\n      <td>0</td>\n      <td>0.0</td>\n      <td>...</td>\n      <td>NaN</td>\n      <td>Ninguna</td>\n      <td>False</td>\n      <td>False</td>\n      <td>delivery</td>\n      <td>1.0</td>\n      <td>2</td>\n      <td>2.0</td>\n      <td>pedidos ya</td>\n      <td>2.0</td>\n    </tr>\n    <tr>\n      <th>505114</th>\n      <td>585874</td>\n      <td>2022-12-16</td>\n      <td>1900-01-01 18:42:54</td>\n      <td>menu</td>\n      <td>delivery</td>\n      <td>delivery</td>\n      <td>activo</td>\n      <td>0.0</td>\n      <td>0</td>\n      <td>0.0</td>\n      <td>...</td>\n      <td>NaN</td>\n      <td>Ninguna</td>\n      <td>False</td>\n      <td>False</td>\n      <td>delivery</td>\n      <td>1.0</td>\n      <td>17</td>\n      <td>17.0</td>\n      <td>pedidos ya</td>\n      <td>17.0</td>\n    </tr>\n  </tbody>\n</table>\n<p>50 rows × 27 columns</p>\n</div>"
     },
     "execution_count": 187,
     "metadata": {},
     "output_type": "execute_result"
    }
   ],
   "execution_count": 187
  },
  {
   "cell_type": "code",
   "id": "40bd530fb7e3d709",
   "metadata": {
    "ExecuteTime": {
     "end_time": "2024-07-03T20:44:16.254004600Z",
     "start_time": "2024-07-03T20:44:15.119305500Z"
    }
   },
   "source": [
    "resta_df_m.drop(index=mask_only_del_index, inplace=True)"
   ],
   "outputs": [],
   "execution_count": 188
  },
  {
   "cell_type": "code",
   "id": "b13dee9f42692a87",
   "metadata": {
    "ExecuteTime": {
     "end_time": "2024-07-03T20:44:16.254877700Z",
     "start_time": "2024-07-03T20:44:15.252234900Z"
    }
   },
   "source": [
    "resta_df_m.shape"
   ],
   "outputs": [
    {
     "data": {
      "text/plain": "(485569, 27)"
     },
     "execution_count": 189,
     "metadata": {},
     "output_type": "execute_result"
    }
   ],
   "execution_count": 189
  },
  {
   "cell_type": "code",
   "id": "cbf2d14eb5bac3e4",
   "metadata": {
    "ExecuteTime": {
     "end_time": "2024-07-03T20:44:16.256843Z",
     "start_time": "2024-07-03T20:44:15.263921700Z"
    }
   },
   "source": [
    "resta_df_m.tail(50)"
   ],
   "outputs": [
    {
     "data": {
      "text/plain": "        order_id system_date                time group_classifier   \n505069    585852  2022-12-16 1900-01-01 15:33:49             menu  \\\n505070    585852  2022-12-16 1900-01-01 15:33:49          bebidas   \n505071    585853  2022-12-16 1900-01-01 15:35:58             menu   \n505072    585853  2022-12-16 1900-01-01 15:35:58             menu   \n505073    585853  2022-12-16 1900-01-01 15:35:58          bebidas   \n505074    585854  2022-12-16 1900-01-01 15:39:11             menu   \n505075    585854  2022-12-16 1900-01-01 15:39:11             menu   \n505076    585854  2022-12-16 1900-01-01 15:39:11          bebidas   \n505077    585855  2022-12-16 1900-01-01 15:46:08             menu   \n505078    585855  2022-12-16 1900-01-01 15:46:08          bebidas   \n505079    585856  2022-12-16 1900-01-01 16:09:56             menu   \n505081    585857  2022-12-16 1900-01-01 16:34:00             menu   \n505082    585857  2022-12-16 1900-01-01 16:34:00             menu   \n505083    585859  2022-12-16 1900-01-01 16:55:29             menu   \n505084    585860  2022-12-16 1900-01-01 16:58:53             menu   \n505085    585860  2022-12-16 1900-01-01 16:58:53             menu   \n505086    585861  2022-12-16 1900-01-01 17:20:56             menu   \n505087    585862  2022-12-16 1900-01-01 17:27:35             menu   \n505088    585863  2022-12-16 1900-01-01 17:43:23             menu   \n505089    585863  2022-12-16 1900-01-01 17:43:23             menu   \n505090    585864  2022-12-16 1900-01-01 17:51:07             menu   \n505091    585864  2022-12-16 1900-01-01 17:51:07             menu   \n505092    585864  2022-12-16 1900-01-01 17:51:07          bebidas   \n505093    585864  2022-12-16 1900-01-01 17:51:07          bebidas   \n505094    585865  2022-12-16 1900-01-01 17:53:14             menu   \n505095    585865  2022-12-16 1900-01-01 17:53:14             menu   \n505096    585865  2022-12-16 1900-01-01 17:53:14          bebidas   \n505097    585866  2022-12-16 1900-01-01 17:59:18             menu   \n505098    585867  2022-12-16 1900-01-01 18:05:33             menu   \n505099    585867  2022-12-16 1900-01-01 18:05:33            otros   \n505100    585868  2022-12-16 1900-01-01 18:07:15             menu   \n505101    585868  2022-12-16 1900-01-01 18:07:15            otros   \n505102    585868  2022-12-16 1900-01-01 18:07:15          bebidas   \n505103    585869  2022-12-16 1900-01-01 18:21:04             menu   \n505104    585870  2022-12-16 1900-01-01 18:22:33             menu   \n505105    585870  2022-12-16 1900-01-01 18:22:33          bebidas   \n505106    585871  2022-12-16 1900-01-01 18:32:47             menu   \n505107    585871  2022-12-16 1900-01-01 18:32:47          bebidas   \n505108    585872  2022-12-16 1900-01-01 18:36:42             menu   \n505109    585873  2022-12-16 1900-01-01 18:41:30             menu   \n505110    585874  2022-12-16 1900-01-01 18:42:54             menu   \n505111    585874  2022-12-16 1900-01-01 18:42:54             menu   \n505112    585874  2022-12-16 1900-01-01 18:42:54             menu   \n505113    585874  2022-12-16 1900-01-01 18:42:54          bebidas   \n505115    585875  2022-12-16 1900-01-01 18:49:18             menu   \n505116    585876  2022-12-16 1900-01-01 18:58:13            otros   \n505117    585877  2022-12-16 1900-01-01 19:02:45             menu   \n505118    585877  2022-12-16 1900-01-01 19:02:45             menu   \n505119    585877  2022-12-16 1900-01-01 19:02:45            otros   \n505120    585877  2022-12-16 1900-01-01 19:02:45          bebidas   \n\n                   classification                      product prod_state   \n505069   alitas 6 unidades  26 bs        alitas picante 6 unid     activo  \\\n505070              jugos - aguas                  fanta 500cc     activo   \n505071  alitas 4 unidades   19 bs         alitas picosa 4 unid     activo   \n505072  alitas 4 unidades   19 bs         alitas toxica 4 unid     activo   \n505073                    popular            coca cola popular     activo   \n505074          alitas 8 unidades          alitas miel mostaza     activo   \n505075                     platos                  costillitas     activo   \n505076                    popular               sprite popular     activo   \n505077   alitas 6 unidades  26 bs         alitas picosa 6 unid     activo   \n505078              jugos - aguas               cocacola 500cc     activo   \n505079                    product                chicken bites     activo   \n505081                    salchis                   salchibeef     activo   \n505082                 sandwiches         buff finger sandwich     activo   \n505083                    product           pollo a la canasta     activo   \n505084   alitas 6 unidades  26 bs       alitas barbacoa 6 unid     activo   \n505085   alitas 6 unidades  26 bs        alitas picante 6 unid     activo   \n505086  alitas 4 unidades   19 bs            alitas bbq 4 unid     activo   \n505087   alitas 6 unidades  26 bs        alitas picante 6 unid     activo   \n505088         alitas 12 unidades           alitas bbq 12 unid     activo   \n505089                    fingers              fingers buffalo     activo   \n505090  alitas 4 unidades   19 bs           alitas miel 4 unid     activo   \n505091                   burguers                     mexicana     activo   \n505092              jugos - aguas                 aquarius 500     activo   \n505093              jugos - aguas                  fanta 500cc     activo   \n505094  alitas 4 unidades   19 bs           alitas jack 4 unid     activo   \n505095   alitas 6 unidades  26 bs         alitas toxica 6 unid     activo   \n505096                    popular            coca cola popular     activo   \n505097   alitas 6 unidades  26 bs        alitas picante 6 unid     activo   \n505098   alitas 6 unidades  26 bs        alitas picante 6 unid     activo   \n505099                    product           salsa miel mostaza     activo   \n505100             fingers 6 unid  fingers 6 u miel de mostaza     activo   \n505101                    product                salsa picante     activo   \n505102                    popular               sprite popular     activo   \n505103  alitas 4 unidades   19 bs            alitas bbq 4 unid     activo   \n505104         alitas 12 unidades          alitas buff 12 unid     activo   \n505105                   personal                  sinalco 330     activo   \n505106   alitas 6 unidades  26 bs         alitas toxica 6 unid     activo   \n505107              jugos - aguas                  fanta 500cc     activo   \n505108             fingers 6 unid          fingers 6 u picante     activo   \n505109  alitas 4 unidades   19 bs       alitas albahaca 4 unid     activo   \n505110                   burguers          hamburguesa clasica     activo   \n505111                   burguers                     mexicana     activo   \n505112   alitas 6 unidades  26 bs       alitas barbacoa 6 unid     activo   \n505113                       2 lt                coca cola 2lt     activo   \n505115         alitas 16 unidades           alitas bbq 16 unid     activo   \n505116                    product           salsa miel mostaza     activo   \n505117   alitas 6 unidades  26 bs    alitas jack daniel 6 unid     activo   \n505118   alitas 6 unidades  26 bs   alitas miel mostaza 6 unid     activo   \n505119                    product                salsa picante     activo   \n505120                    popular               sprite popular     activo   \n\n        price  quantity  to_pay_xprod  ...  modification_date   \n505069   26.0         1          26.0  ...                NaN  \\\n505070    9.0         1           9.0  ...                NaN   \n505071   19.0         1          19.0  ...                NaN   \n505072   19.0         1          19.0  ...                NaN   \n505073    8.0         1           8.0  ...                NaN   \n505074   34.0         1          34.0  ...                NaN   \n505075   44.0         1          44.0  ...                NaN   \n505076    8.0         1           8.0  ...                NaN   \n505077   26.0         1          26.0  ...                NaN   \n505078    9.0         1           9.0  ...                NaN   \n505079   18.0         2          36.0  ...                NaN   \n505081   24.0         1          24.0  ...                NaN   \n505082   26.0         1          26.0  ...                NaN   \n505083   23.0         3          69.0  ...                NaN   \n505084   26.0         1          26.0  ...                NaN   \n505085   26.0         1          26.0  ...                NaN   \n505086   19.0        12         228.0  ...                NaN   \n505087   26.0         1          26.0  ...                NaN   \n505088   50.0         1          50.0  ...                NaN   \n505089   27.0         1          27.0  ...                NaN   \n505090   19.0         1          19.0  ...                NaN   \n505091   27.0         1          27.0  ...                NaN   \n505092    9.0         1           9.0  ...                NaN   \n505093    9.0         1           9.0  ...                NaN   \n505094   19.0         1          19.0  ...                NaN   \n505095   26.0         1          26.0  ...                NaN   \n505096    8.0         1           8.0  ...                NaN   \n505097   26.0         1          26.0  ...                NaN   \n505098   26.0         1          26.0  ...                NaN   \n505099    4.0         1           4.0  ...                NaN   \n505100   33.0         1          33.0  ...                NaN   \n505101    4.0         1           4.0  ...                NaN   \n505102    8.0         1           8.0  ...                NaN   \n505103   19.0         1          19.0  ...                NaN   \n505104   50.0         1          50.0  ...                NaN   \n505105    4.0         1           4.0  ...                NaN   \n505106   26.0         1          26.0  ...                NaN   \n505107    9.0         1           9.0  ...                NaN   \n505108   33.0         1          33.0  ...                NaN   \n505109   19.0         1          19.0  ...                NaN   \n505110   18.0         1          18.0  ...                NaN   \n505111   27.0         1          27.0  ...                NaN   \n505112   26.0         1          26.0  ...                NaN   \n505113   18.0         1          18.0  ...                NaN   \n505115   65.0         1          65.0  ...                NaN   \n505116    4.0         1           4.0  ...                NaN   \n505117   26.0         1          26.0  ...                NaN   \n505118   26.0         1          26.0  ...                NaN   \n505119    4.0         1           4.0  ...                NaN   \n505120    8.0         1           8.0  ...                NaN   \n\n       modification_reason  is_cancelled  is_courtesy        order_type   \n505069             Ninguna         False        False  en sala-sin mesa  \\\n505070             Ninguna         False        False  en sala-sin mesa   \n505071             Ninguna         False        False  en sala-sin mesa   \n505072             Ninguna         False        False  en sala-sin mesa   \n505073             Ninguna         False        False  en sala-sin mesa   \n505074             Ninguna         False        False  en sala-sin mesa   \n505075             Ninguna         False        False  en sala-sin mesa   \n505076             Ninguna         False        False  en sala-sin mesa   \n505077             Ninguna         False        False  en sala-sin mesa   \n505078             Ninguna         False        False  en sala-sin mesa   \n505079             Ninguna         False        False          delivery   \n505081             Ninguna         False        False  en sala-con mesa   \n505082             Ninguna         False        False  en sala-con mesa   \n505083             Ninguna         False        False       para llevar   \n505084             Ninguna         False        False       para llevar   \n505085             Ninguna         False        False       para llevar   \n505086             Ninguna         False        False       para llevar   \n505087             Ninguna         False        False  en sala-con mesa   \n505088             Ninguna         False        False       para llevar   \n505089             Ninguna         False        False       para llevar   \n505090             Ninguna         False        False  en sala-con mesa   \n505091             Ninguna         False        False  en sala-con mesa   \n505092             Ninguna         False        False  en sala-con mesa   \n505093             Ninguna         False        False  en sala-con mesa   \n505094             Ninguna         False        False  en sala-con mesa   \n505095             Ninguna         False        False  en sala-con mesa   \n505096             Ninguna         False        False  en sala-con mesa   \n505097             Ninguna         False        False  en sala-con mesa   \n505098             Ninguna         False        False  en sala-con mesa   \n505099             Ninguna         False        False  en sala-con mesa   \n505100             Ninguna         False        False  en sala-con mesa   \n505101             Ninguna         False        False  en sala-con mesa   \n505102             Ninguna         False        False  en sala-con mesa   \n505103             Ninguna         False        False       para llevar   \n505104             Ninguna         False        False  en sala-con mesa   \n505105             Ninguna         False        False  en sala-con mesa   \n505106             Ninguna         False        False  en sala-con mesa   \n505107             Ninguna         False        False  en sala-con mesa   \n505108             Ninguna         False        False  en sala-con mesa   \n505109             Ninguna         False        False       para llevar   \n505110             Ninguna         False        False          delivery   \n505111             Ninguna         False        False          delivery   \n505112             Ninguna         False        False          delivery   \n505113             Ninguna         False        False          delivery   \n505115             Ninguna         False        False       para llevar   \n505116             Ninguna         False        False  en sala-con mesa   \n505117             Ninguna         False        False  en sala-con mesa   \n505118             Ninguna         False        False  en sala-con mesa   \n505119             Ninguna         False        False  en sala-con mesa   \n505120             Ninguna         False        False  en sala-con mesa   \n\n       price_alt  quantity_alt to_pay_xprod_alt delivery_name_new   \n505069      26.0             1             26.0               NaN  \\\n505070       9.0             1              9.0               NaN   \n505071      19.0             1             19.0               NaN   \n505072      19.0             1             19.0               NaN   \n505073       8.0             1              8.0               NaN   \n505074      34.0             1             34.0               NaN   \n505075      44.0             1             44.0               NaN   \n505076       8.0             1              8.0               NaN   \n505077      26.0             1             26.0               NaN   \n505078       9.0             1              9.0               NaN   \n505079      18.0             2             36.0        pedidos ya   \n505081      24.0             1             24.0               NaN   \n505082      26.0             1             26.0               NaN   \n505083      23.0             3             69.0               NaN   \n505084      26.0             1             26.0               NaN   \n505085      26.0             1             26.0               NaN   \n505086      19.0            12            228.0               NaN   \n505087      26.0             1             26.0               NaN   \n505088      50.0             1             50.0               NaN   \n505089      27.0             1             27.0               NaN   \n505090      19.0             1             19.0               NaN   \n505091      27.0             1             27.0               NaN   \n505092       9.0             1              9.0               NaN   \n505093       9.0             1              9.0               NaN   \n505094      19.0             1             19.0               NaN   \n505095      26.0             1             26.0               NaN   \n505096       8.0             1              8.0               NaN   \n505097      26.0             1             26.0               NaN   \n505098      26.0             1             26.0               NaN   \n505099       4.0             1              4.0               NaN   \n505100      33.0             1             33.0               NaN   \n505101       4.0             1              4.0               NaN   \n505102       8.0             1              8.0               NaN   \n505103      19.0             1             19.0               NaN   \n505104      50.0             1             50.0               NaN   \n505105       4.0             1              4.0               NaN   \n505106      26.0             1             26.0               NaN   \n505107       9.0             1              9.0               NaN   \n505108      33.0             1             33.0               NaN   \n505109      19.0             1             19.0               NaN   \n505110      18.0             1             18.0        pedidos ya   \n505111      27.0             1             27.0        pedidos ya   \n505112      26.0             1             26.0        pedidos ya   \n505113      18.0             1             18.0        pedidos ya   \n505115      65.0             1             65.0               NaN   \n505116       4.0             1              4.0               NaN   \n505117      26.0             1             26.0               NaN   \n505118      26.0             1             26.0               NaN   \n505119       4.0             1              4.0               NaN   \n505120       8.0             1              8.0               NaN   \n\n       delivery_cost_new  \n505069               NaN  \n505070               NaN  \n505071               NaN  \n505072               NaN  \n505073               NaN  \n505074               NaN  \n505075               NaN  \n505076               NaN  \n505077               NaN  \n505078               NaN  \n505079               2.0  \n505081               NaN  \n505082               NaN  \n505083               NaN  \n505084               NaN  \n505085               NaN  \n505086               NaN  \n505087               NaN  \n505088               NaN  \n505089               NaN  \n505090               NaN  \n505091               NaN  \n505092               NaN  \n505093               NaN  \n505094               NaN  \n505095               NaN  \n505096               NaN  \n505097               NaN  \n505098               NaN  \n505099               NaN  \n505100               NaN  \n505101               NaN  \n505102               NaN  \n505103               NaN  \n505104               NaN  \n505105               NaN  \n505106               NaN  \n505107               NaN  \n505108               NaN  \n505109               NaN  \n505110              17.0  \n505111              17.0  \n505112              17.0  \n505113              17.0  \n505115               NaN  \n505116               NaN  \n505117               NaN  \n505118               NaN  \n505119               NaN  \n505120               NaN  \n\n[50 rows x 27 columns]",
      "text/html": "<div>\n<style scoped>\n    .dataframe tbody tr th:only-of-type {\n        vertical-align: middle;\n    }\n\n    .dataframe tbody tr th {\n        vertical-align: top;\n    }\n\n    .dataframe thead th {\n        text-align: right;\n    }\n</style>\n<table border=\"1\" class=\"dataframe\">\n  <thead>\n    <tr style=\"text-align: right;\">\n      <th></th>\n      <th>order_id</th>\n      <th>system_date</th>\n      <th>time</th>\n      <th>group_classifier</th>\n      <th>classification</th>\n      <th>product</th>\n      <th>prod_state</th>\n      <th>price</th>\n      <th>quantity</th>\n      <th>to_pay_xprod</th>\n      <th>...</th>\n      <th>modification_date</th>\n      <th>modification_reason</th>\n      <th>is_cancelled</th>\n      <th>is_courtesy</th>\n      <th>order_type</th>\n      <th>price_alt</th>\n      <th>quantity_alt</th>\n      <th>to_pay_xprod_alt</th>\n      <th>delivery_name_new</th>\n      <th>delivery_cost_new</th>\n    </tr>\n  </thead>\n  <tbody>\n    <tr>\n      <th>505069</th>\n      <td>585852</td>\n      <td>2022-12-16</td>\n      <td>1900-01-01 15:33:49</td>\n      <td>menu</td>\n      <td>alitas 6 unidades  26 bs</td>\n      <td>alitas picante 6 unid</td>\n      <td>activo</td>\n      <td>26.0</td>\n      <td>1</td>\n      <td>26.0</td>\n      <td>...</td>\n      <td>NaN</td>\n      <td>Ninguna</td>\n      <td>False</td>\n      <td>False</td>\n      <td>en sala-sin mesa</td>\n      <td>26.0</td>\n      <td>1</td>\n      <td>26.0</td>\n      <td>NaN</td>\n      <td>NaN</td>\n    </tr>\n    <tr>\n      <th>505070</th>\n      <td>585852</td>\n      <td>2022-12-16</td>\n      <td>1900-01-01 15:33:49</td>\n      <td>bebidas</td>\n      <td>jugos - aguas</td>\n      <td>fanta 500cc</td>\n      <td>activo</td>\n      <td>9.0</td>\n      <td>1</td>\n      <td>9.0</td>\n      <td>...</td>\n      <td>NaN</td>\n      <td>Ninguna</td>\n      <td>False</td>\n      <td>False</td>\n      <td>en sala-sin mesa</td>\n      <td>9.0</td>\n      <td>1</td>\n      <td>9.0</td>\n      <td>NaN</td>\n      <td>NaN</td>\n    </tr>\n    <tr>\n      <th>505071</th>\n      <td>585853</td>\n      <td>2022-12-16</td>\n      <td>1900-01-01 15:35:58</td>\n      <td>menu</td>\n      <td>alitas 4 unidades   19 bs</td>\n      <td>alitas picosa 4 unid</td>\n      <td>activo</td>\n      <td>19.0</td>\n      <td>1</td>\n      <td>19.0</td>\n      <td>...</td>\n      <td>NaN</td>\n      <td>Ninguna</td>\n      <td>False</td>\n      <td>False</td>\n      <td>en sala-sin mesa</td>\n      <td>19.0</td>\n      <td>1</td>\n      <td>19.0</td>\n      <td>NaN</td>\n      <td>NaN</td>\n    </tr>\n    <tr>\n      <th>505072</th>\n      <td>585853</td>\n      <td>2022-12-16</td>\n      <td>1900-01-01 15:35:58</td>\n      <td>menu</td>\n      <td>alitas 4 unidades   19 bs</td>\n      <td>alitas toxica 4 unid</td>\n      <td>activo</td>\n      <td>19.0</td>\n      <td>1</td>\n      <td>19.0</td>\n      <td>...</td>\n      <td>NaN</td>\n      <td>Ninguna</td>\n      <td>False</td>\n      <td>False</td>\n      <td>en sala-sin mesa</td>\n      <td>19.0</td>\n      <td>1</td>\n      <td>19.0</td>\n      <td>NaN</td>\n      <td>NaN</td>\n    </tr>\n    <tr>\n      <th>505073</th>\n      <td>585853</td>\n      <td>2022-12-16</td>\n      <td>1900-01-01 15:35:58</td>\n      <td>bebidas</td>\n      <td>popular</td>\n      <td>coca cola popular</td>\n      <td>activo</td>\n      <td>8.0</td>\n      <td>1</td>\n      <td>8.0</td>\n      <td>...</td>\n      <td>NaN</td>\n      <td>Ninguna</td>\n      <td>False</td>\n      <td>False</td>\n      <td>en sala-sin mesa</td>\n      <td>8.0</td>\n      <td>1</td>\n      <td>8.0</td>\n      <td>NaN</td>\n      <td>NaN</td>\n    </tr>\n    <tr>\n      <th>505074</th>\n      <td>585854</td>\n      <td>2022-12-16</td>\n      <td>1900-01-01 15:39:11</td>\n      <td>menu</td>\n      <td>alitas 8 unidades</td>\n      <td>alitas miel mostaza</td>\n      <td>activo</td>\n      <td>34.0</td>\n      <td>1</td>\n      <td>34.0</td>\n      <td>...</td>\n      <td>NaN</td>\n      <td>Ninguna</td>\n      <td>False</td>\n      <td>False</td>\n      <td>en sala-sin mesa</td>\n      <td>34.0</td>\n      <td>1</td>\n      <td>34.0</td>\n      <td>NaN</td>\n      <td>NaN</td>\n    </tr>\n    <tr>\n      <th>505075</th>\n      <td>585854</td>\n      <td>2022-12-16</td>\n      <td>1900-01-01 15:39:11</td>\n      <td>menu</td>\n      <td>platos</td>\n      <td>costillitas</td>\n      <td>activo</td>\n      <td>44.0</td>\n      <td>1</td>\n      <td>44.0</td>\n      <td>...</td>\n      <td>NaN</td>\n      <td>Ninguna</td>\n      <td>False</td>\n      <td>False</td>\n      <td>en sala-sin mesa</td>\n      <td>44.0</td>\n      <td>1</td>\n      <td>44.0</td>\n      <td>NaN</td>\n      <td>NaN</td>\n    </tr>\n    <tr>\n      <th>505076</th>\n      <td>585854</td>\n      <td>2022-12-16</td>\n      <td>1900-01-01 15:39:11</td>\n      <td>bebidas</td>\n      <td>popular</td>\n      <td>sprite popular</td>\n      <td>activo</td>\n      <td>8.0</td>\n      <td>1</td>\n      <td>8.0</td>\n      <td>...</td>\n      <td>NaN</td>\n      <td>Ninguna</td>\n      <td>False</td>\n      <td>False</td>\n      <td>en sala-sin mesa</td>\n      <td>8.0</td>\n      <td>1</td>\n      <td>8.0</td>\n      <td>NaN</td>\n      <td>NaN</td>\n    </tr>\n    <tr>\n      <th>505077</th>\n      <td>585855</td>\n      <td>2022-12-16</td>\n      <td>1900-01-01 15:46:08</td>\n      <td>menu</td>\n      <td>alitas 6 unidades  26 bs</td>\n      <td>alitas picosa 6 unid</td>\n      <td>activo</td>\n      <td>26.0</td>\n      <td>1</td>\n      <td>26.0</td>\n      <td>...</td>\n      <td>NaN</td>\n      <td>Ninguna</td>\n      <td>False</td>\n      <td>False</td>\n      <td>en sala-sin mesa</td>\n      <td>26.0</td>\n      <td>1</td>\n      <td>26.0</td>\n      <td>NaN</td>\n      <td>NaN</td>\n    </tr>\n    <tr>\n      <th>505078</th>\n      <td>585855</td>\n      <td>2022-12-16</td>\n      <td>1900-01-01 15:46:08</td>\n      <td>bebidas</td>\n      <td>jugos - aguas</td>\n      <td>cocacola 500cc</td>\n      <td>activo</td>\n      <td>9.0</td>\n      <td>1</td>\n      <td>9.0</td>\n      <td>...</td>\n      <td>NaN</td>\n      <td>Ninguna</td>\n      <td>False</td>\n      <td>False</td>\n      <td>en sala-sin mesa</td>\n      <td>9.0</td>\n      <td>1</td>\n      <td>9.0</td>\n      <td>NaN</td>\n      <td>NaN</td>\n    </tr>\n    <tr>\n      <th>505079</th>\n      <td>585856</td>\n      <td>2022-12-16</td>\n      <td>1900-01-01 16:09:56</td>\n      <td>menu</td>\n      <td>product</td>\n      <td>chicken bites</td>\n      <td>activo</td>\n      <td>18.0</td>\n      <td>2</td>\n      <td>36.0</td>\n      <td>...</td>\n      <td>NaN</td>\n      <td>Ninguna</td>\n      <td>False</td>\n      <td>False</td>\n      <td>delivery</td>\n      <td>18.0</td>\n      <td>2</td>\n      <td>36.0</td>\n      <td>pedidos ya</td>\n      <td>2.0</td>\n    </tr>\n    <tr>\n      <th>505081</th>\n      <td>585857</td>\n      <td>2022-12-16</td>\n      <td>1900-01-01 16:34:00</td>\n      <td>menu</td>\n      <td>salchis</td>\n      <td>salchibeef</td>\n      <td>activo</td>\n      <td>24.0</td>\n      <td>1</td>\n      <td>24.0</td>\n      <td>...</td>\n      <td>NaN</td>\n      <td>Ninguna</td>\n      <td>False</td>\n      <td>False</td>\n      <td>en sala-con mesa</td>\n      <td>24.0</td>\n      <td>1</td>\n      <td>24.0</td>\n      <td>NaN</td>\n      <td>NaN</td>\n    </tr>\n    <tr>\n      <th>505082</th>\n      <td>585857</td>\n      <td>2022-12-16</td>\n      <td>1900-01-01 16:34:00</td>\n      <td>menu</td>\n      <td>sandwiches</td>\n      <td>buff finger sandwich</td>\n      <td>activo</td>\n      <td>26.0</td>\n      <td>1</td>\n      <td>26.0</td>\n      <td>...</td>\n      <td>NaN</td>\n      <td>Ninguna</td>\n      <td>False</td>\n      <td>False</td>\n      <td>en sala-con mesa</td>\n      <td>26.0</td>\n      <td>1</td>\n      <td>26.0</td>\n      <td>NaN</td>\n      <td>NaN</td>\n    </tr>\n    <tr>\n      <th>505083</th>\n      <td>585859</td>\n      <td>2022-12-16</td>\n      <td>1900-01-01 16:55:29</td>\n      <td>menu</td>\n      <td>product</td>\n      <td>pollo a la canasta</td>\n      <td>activo</td>\n      <td>23.0</td>\n      <td>3</td>\n      <td>69.0</td>\n      <td>...</td>\n      <td>NaN</td>\n      <td>Ninguna</td>\n      <td>False</td>\n      <td>False</td>\n      <td>para llevar</td>\n      <td>23.0</td>\n      <td>3</td>\n      <td>69.0</td>\n      <td>NaN</td>\n      <td>NaN</td>\n    </tr>\n    <tr>\n      <th>505084</th>\n      <td>585860</td>\n      <td>2022-12-16</td>\n      <td>1900-01-01 16:58:53</td>\n      <td>menu</td>\n      <td>alitas 6 unidades  26 bs</td>\n      <td>alitas barbacoa 6 unid</td>\n      <td>activo</td>\n      <td>26.0</td>\n      <td>1</td>\n      <td>26.0</td>\n      <td>...</td>\n      <td>NaN</td>\n      <td>Ninguna</td>\n      <td>False</td>\n      <td>False</td>\n      <td>para llevar</td>\n      <td>26.0</td>\n      <td>1</td>\n      <td>26.0</td>\n      <td>NaN</td>\n      <td>NaN</td>\n    </tr>\n    <tr>\n      <th>505085</th>\n      <td>585860</td>\n      <td>2022-12-16</td>\n      <td>1900-01-01 16:58:53</td>\n      <td>menu</td>\n      <td>alitas 6 unidades  26 bs</td>\n      <td>alitas picante 6 unid</td>\n      <td>activo</td>\n      <td>26.0</td>\n      <td>1</td>\n      <td>26.0</td>\n      <td>...</td>\n      <td>NaN</td>\n      <td>Ninguna</td>\n      <td>False</td>\n      <td>False</td>\n      <td>para llevar</td>\n      <td>26.0</td>\n      <td>1</td>\n      <td>26.0</td>\n      <td>NaN</td>\n      <td>NaN</td>\n    </tr>\n    <tr>\n      <th>505086</th>\n      <td>585861</td>\n      <td>2022-12-16</td>\n      <td>1900-01-01 17:20:56</td>\n      <td>menu</td>\n      <td>alitas 4 unidades   19 bs</td>\n      <td>alitas bbq 4 unid</td>\n      <td>activo</td>\n      <td>19.0</td>\n      <td>12</td>\n      <td>228.0</td>\n      <td>...</td>\n      <td>NaN</td>\n      <td>Ninguna</td>\n      <td>False</td>\n      <td>False</td>\n      <td>para llevar</td>\n      <td>19.0</td>\n      <td>12</td>\n      <td>228.0</td>\n      <td>NaN</td>\n      <td>NaN</td>\n    </tr>\n    <tr>\n      <th>505087</th>\n      <td>585862</td>\n      <td>2022-12-16</td>\n      <td>1900-01-01 17:27:35</td>\n      <td>menu</td>\n      <td>alitas 6 unidades  26 bs</td>\n      <td>alitas picante 6 unid</td>\n      <td>activo</td>\n      <td>26.0</td>\n      <td>1</td>\n      <td>26.0</td>\n      <td>...</td>\n      <td>NaN</td>\n      <td>Ninguna</td>\n      <td>False</td>\n      <td>False</td>\n      <td>en sala-con mesa</td>\n      <td>26.0</td>\n      <td>1</td>\n      <td>26.0</td>\n      <td>NaN</td>\n      <td>NaN</td>\n    </tr>\n    <tr>\n      <th>505088</th>\n      <td>585863</td>\n      <td>2022-12-16</td>\n      <td>1900-01-01 17:43:23</td>\n      <td>menu</td>\n      <td>alitas 12 unidades</td>\n      <td>alitas bbq 12 unid</td>\n      <td>activo</td>\n      <td>50.0</td>\n      <td>1</td>\n      <td>50.0</td>\n      <td>...</td>\n      <td>NaN</td>\n      <td>Ninguna</td>\n      <td>False</td>\n      <td>False</td>\n      <td>para llevar</td>\n      <td>50.0</td>\n      <td>1</td>\n      <td>50.0</td>\n      <td>NaN</td>\n      <td>NaN</td>\n    </tr>\n    <tr>\n      <th>505089</th>\n      <td>585863</td>\n      <td>2022-12-16</td>\n      <td>1900-01-01 17:43:23</td>\n      <td>menu</td>\n      <td>fingers</td>\n      <td>fingers buffalo</td>\n      <td>activo</td>\n      <td>27.0</td>\n      <td>1</td>\n      <td>27.0</td>\n      <td>...</td>\n      <td>NaN</td>\n      <td>Ninguna</td>\n      <td>False</td>\n      <td>False</td>\n      <td>para llevar</td>\n      <td>27.0</td>\n      <td>1</td>\n      <td>27.0</td>\n      <td>NaN</td>\n      <td>NaN</td>\n    </tr>\n    <tr>\n      <th>505090</th>\n      <td>585864</td>\n      <td>2022-12-16</td>\n      <td>1900-01-01 17:51:07</td>\n      <td>menu</td>\n      <td>alitas 4 unidades   19 bs</td>\n      <td>alitas miel 4 unid</td>\n      <td>activo</td>\n      <td>19.0</td>\n      <td>1</td>\n      <td>19.0</td>\n      <td>...</td>\n      <td>NaN</td>\n      <td>Ninguna</td>\n      <td>False</td>\n      <td>False</td>\n      <td>en sala-con mesa</td>\n      <td>19.0</td>\n      <td>1</td>\n      <td>19.0</td>\n      <td>NaN</td>\n      <td>NaN</td>\n    </tr>\n    <tr>\n      <th>505091</th>\n      <td>585864</td>\n      <td>2022-12-16</td>\n      <td>1900-01-01 17:51:07</td>\n      <td>menu</td>\n      <td>burguers</td>\n      <td>mexicana</td>\n      <td>activo</td>\n      <td>27.0</td>\n      <td>1</td>\n      <td>27.0</td>\n      <td>...</td>\n      <td>NaN</td>\n      <td>Ninguna</td>\n      <td>False</td>\n      <td>False</td>\n      <td>en sala-con mesa</td>\n      <td>27.0</td>\n      <td>1</td>\n      <td>27.0</td>\n      <td>NaN</td>\n      <td>NaN</td>\n    </tr>\n    <tr>\n      <th>505092</th>\n      <td>585864</td>\n      <td>2022-12-16</td>\n      <td>1900-01-01 17:51:07</td>\n      <td>bebidas</td>\n      <td>jugos - aguas</td>\n      <td>aquarius 500</td>\n      <td>activo</td>\n      <td>9.0</td>\n      <td>1</td>\n      <td>9.0</td>\n      <td>...</td>\n      <td>NaN</td>\n      <td>Ninguna</td>\n      <td>False</td>\n      <td>False</td>\n      <td>en sala-con mesa</td>\n      <td>9.0</td>\n      <td>1</td>\n      <td>9.0</td>\n      <td>NaN</td>\n      <td>NaN</td>\n    </tr>\n    <tr>\n      <th>505093</th>\n      <td>585864</td>\n      <td>2022-12-16</td>\n      <td>1900-01-01 17:51:07</td>\n      <td>bebidas</td>\n      <td>jugos - aguas</td>\n      <td>fanta 500cc</td>\n      <td>activo</td>\n      <td>9.0</td>\n      <td>1</td>\n      <td>9.0</td>\n      <td>...</td>\n      <td>NaN</td>\n      <td>Ninguna</td>\n      <td>False</td>\n      <td>False</td>\n      <td>en sala-con mesa</td>\n      <td>9.0</td>\n      <td>1</td>\n      <td>9.0</td>\n      <td>NaN</td>\n      <td>NaN</td>\n    </tr>\n    <tr>\n      <th>505094</th>\n      <td>585865</td>\n      <td>2022-12-16</td>\n      <td>1900-01-01 17:53:14</td>\n      <td>menu</td>\n      <td>alitas 4 unidades   19 bs</td>\n      <td>alitas jack 4 unid</td>\n      <td>activo</td>\n      <td>19.0</td>\n      <td>1</td>\n      <td>19.0</td>\n      <td>...</td>\n      <td>NaN</td>\n      <td>Ninguna</td>\n      <td>False</td>\n      <td>False</td>\n      <td>en sala-con mesa</td>\n      <td>19.0</td>\n      <td>1</td>\n      <td>19.0</td>\n      <td>NaN</td>\n      <td>NaN</td>\n    </tr>\n    <tr>\n      <th>505095</th>\n      <td>585865</td>\n      <td>2022-12-16</td>\n      <td>1900-01-01 17:53:14</td>\n      <td>menu</td>\n      <td>alitas 6 unidades  26 bs</td>\n      <td>alitas toxica 6 unid</td>\n      <td>activo</td>\n      <td>26.0</td>\n      <td>1</td>\n      <td>26.0</td>\n      <td>...</td>\n      <td>NaN</td>\n      <td>Ninguna</td>\n      <td>False</td>\n      <td>False</td>\n      <td>en sala-con mesa</td>\n      <td>26.0</td>\n      <td>1</td>\n      <td>26.0</td>\n      <td>NaN</td>\n      <td>NaN</td>\n    </tr>\n    <tr>\n      <th>505096</th>\n      <td>585865</td>\n      <td>2022-12-16</td>\n      <td>1900-01-01 17:53:14</td>\n      <td>bebidas</td>\n      <td>popular</td>\n      <td>coca cola popular</td>\n      <td>activo</td>\n      <td>8.0</td>\n      <td>1</td>\n      <td>8.0</td>\n      <td>...</td>\n      <td>NaN</td>\n      <td>Ninguna</td>\n      <td>False</td>\n      <td>False</td>\n      <td>en sala-con mesa</td>\n      <td>8.0</td>\n      <td>1</td>\n      <td>8.0</td>\n      <td>NaN</td>\n      <td>NaN</td>\n    </tr>\n    <tr>\n      <th>505097</th>\n      <td>585866</td>\n      <td>2022-12-16</td>\n      <td>1900-01-01 17:59:18</td>\n      <td>menu</td>\n      <td>alitas 6 unidades  26 bs</td>\n      <td>alitas picante 6 unid</td>\n      <td>activo</td>\n      <td>26.0</td>\n      <td>1</td>\n      <td>26.0</td>\n      <td>...</td>\n      <td>NaN</td>\n      <td>Ninguna</td>\n      <td>False</td>\n      <td>False</td>\n      <td>en sala-con mesa</td>\n      <td>26.0</td>\n      <td>1</td>\n      <td>26.0</td>\n      <td>NaN</td>\n      <td>NaN</td>\n    </tr>\n    <tr>\n      <th>505098</th>\n      <td>585867</td>\n      <td>2022-12-16</td>\n      <td>1900-01-01 18:05:33</td>\n      <td>menu</td>\n      <td>alitas 6 unidades  26 bs</td>\n      <td>alitas picante 6 unid</td>\n      <td>activo</td>\n      <td>26.0</td>\n      <td>1</td>\n      <td>26.0</td>\n      <td>...</td>\n      <td>NaN</td>\n      <td>Ninguna</td>\n      <td>False</td>\n      <td>False</td>\n      <td>en sala-con mesa</td>\n      <td>26.0</td>\n      <td>1</td>\n      <td>26.0</td>\n      <td>NaN</td>\n      <td>NaN</td>\n    </tr>\n    <tr>\n      <th>505099</th>\n      <td>585867</td>\n      <td>2022-12-16</td>\n      <td>1900-01-01 18:05:33</td>\n      <td>otros</td>\n      <td>product</td>\n      <td>salsa miel mostaza</td>\n      <td>activo</td>\n      <td>4.0</td>\n      <td>1</td>\n      <td>4.0</td>\n      <td>...</td>\n      <td>NaN</td>\n      <td>Ninguna</td>\n      <td>False</td>\n      <td>False</td>\n      <td>en sala-con mesa</td>\n      <td>4.0</td>\n      <td>1</td>\n      <td>4.0</td>\n      <td>NaN</td>\n      <td>NaN</td>\n    </tr>\n    <tr>\n      <th>505100</th>\n      <td>585868</td>\n      <td>2022-12-16</td>\n      <td>1900-01-01 18:07:15</td>\n      <td>menu</td>\n      <td>fingers 6 unid</td>\n      <td>fingers 6 u miel de mostaza</td>\n      <td>activo</td>\n      <td>33.0</td>\n      <td>1</td>\n      <td>33.0</td>\n      <td>...</td>\n      <td>NaN</td>\n      <td>Ninguna</td>\n      <td>False</td>\n      <td>False</td>\n      <td>en sala-con mesa</td>\n      <td>33.0</td>\n      <td>1</td>\n      <td>33.0</td>\n      <td>NaN</td>\n      <td>NaN</td>\n    </tr>\n    <tr>\n      <th>505101</th>\n      <td>585868</td>\n      <td>2022-12-16</td>\n      <td>1900-01-01 18:07:15</td>\n      <td>otros</td>\n      <td>product</td>\n      <td>salsa picante</td>\n      <td>activo</td>\n      <td>4.0</td>\n      <td>1</td>\n      <td>4.0</td>\n      <td>...</td>\n      <td>NaN</td>\n      <td>Ninguna</td>\n      <td>False</td>\n      <td>False</td>\n      <td>en sala-con mesa</td>\n      <td>4.0</td>\n      <td>1</td>\n      <td>4.0</td>\n      <td>NaN</td>\n      <td>NaN</td>\n    </tr>\n    <tr>\n      <th>505102</th>\n      <td>585868</td>\n      <td>2022-12-16</td>\n      <td>1900-01-01 18:07:15</td>\n      <td>bebidas</td>\n      <td>popular</td>\n      <td>sprite popular</td>\n      <td>activo</td>\n      <td>8.0</td>\n      <td>1</td>\n      <td>8.0</td>\n      <td>...</td>\n      <td>NaN</td>\n      <td>Ninguna</td>\n      <td>False</td>\n      <td>False</td>\n      <td>en sala-con mesa</td>\n      <td>8.0</td>\n      <td>1</td>\n      <td>8.0</td>\n      <td>NaN</td>\n      <td>NaN</td>\n    </tr>\n    <tr>\n      <th>505103</th>\n      <td>585869</td>\n      <td>2022-12-16</td>\n      <td>1900-01-01 18:21:04</td>\n      <td>menu</td>\n      <td>alitas 4 unidades   19 bs</td>\n      <td>alitas bbq 4 unid</td>\n      <td>activo</td>\n      <td>19.0</td>\n      <td>1</td>\n      <td>19.0</td>\n      <td>...</td>\n      <td>NaN</td>\n      <td>Ninguna</td>\n      <td>False</td>\n      <td>False</td>\n      <td>para llevar</td>\n      <td>19.0</td>\n      <td>1</td>\n      <td>19.0</td>\n      <td>NaN</td>\n      <td>NaN</td>\n    </tr>\n    <tr>\n      <th>505104</th>\n      <td>585870</td>\n      <td>2022-12-16</td>\n      <td>1900-01-01 18:22:33</td>\n      <td>menu</td>\n      <td>alitas 12 unidades</td>\n      <td>alitas buff 12 unid</td>\n      <td>activo</td>\n      <td>50.0</td>\n      <td>1</td>\n      <td>50.0</td>\n      <td>...</td>\n      <td>NaN</td>\n      <td>Ninguna</td>\n      <td>False</td>\n      <td>False</td>\n      <td>en sala-con mesa</td>\n      <td>50.0</td>\n      <td>1</td>\n      <td>50.0</td>\n      <td>NaN</td>\n      <td>NaN</td>\n    </tr>\n    <tr>\n      <th>505105</th>\n      <td>585870</td>\n      <td>2022-12-16</td>\n      <td>1900-01-01 18:22:33</td>\n      <td>bebidas</td>\n      <td>personal</td>\n      <td>sinalco 330</td>\n      <td>activo</td>\n      <td>4.0</td>\n      <td>1</td>\n      <td>4.0</td>\n      <td>...</td>\n      <td>NaN</td>\n      <td>Ninguna</td>\n      <td>False</td>\n      <td>False</td>\n      <td>en sala-con mesa</td>\n      <td>4.0</td>\n      <td>1</td>\n      <td>4.0</td>\n      <td>NaN</td>\n      <td>NaN</td>\n    </tr>\n    <tr>\n      <th>505106</th>\n      <td>585871</td>\n      <td>2022-12-16</td>\n      <td>1900-01-01 18:32:47</td>\n      <td>menu</td>\n      <td>alitas 6 unidades  26 bs</td>\n      <td>alitas toxica 6 unid</td>\n      <td>activo</td>\n      <td>26.0</td>\n      <td>1</td>\n      <td>26.0</td>\n      <td>...</td>\n      <td>NaN</td>\n      <td>Ninguna</td>\n      <td>False</td>\n      <td>False</td>\n      <td>en sala-con mesa</td>\n      <td>26.0</td>\n      <td>1</td>\n      <td>26.0</td>\n      <td>NaN</td>\n      <td>NaN</td>\n    </tr>\n    <tr>\n      <th>505107</th>\n      <td>585871</td>\n      <td>2022-12-16</td>\n      <td>1900-01-01 18:32:47</td>\n      <td>bebidas</td>\n      <td>jugos - aguas</td>\n      <td>fanta 500cc</td>\n      <td>activo</td>\n      <td>9.0</td>\n      <td>1</td>\n      <td>9.0</td>\n      <td>...</td>\n      <td>NaN</td>\n      <td>Ninguna</td>\n      <td>False</td>\n      <td>False</td>\n      <td>en sala-con mesa</td>\n      <td>9.0</td>\n      <td>1</td>\n      <td>9.0</td>\n      <td>NaN</td>\n      <td>NaN</td>\n    </tr>\n    <tr>\n      <th>505108</th>\n      <td>585872</td>\n      <td>2022-12-16</td>\n      <td>1900-01-01 18:36:42</td>\n      <td>menu</td>\n      <td>fingers 6 unid</td>\n      <td>fingers 6 u picante</td>\n      <td>activo</td>\n      <td>33.0</td>\n      <td>1</td>\n      <td>33.0</td>\n      <td>...</td>\n      <td>NaN</td>\n      <td>Ninguna</td>\n      <td>False</td>\n      <td>False</td>\n      <td>en sala-con mesa</td>\n      <td>33.0</td>\n      <td>1</td>\n      <td>33.0</td>\n      <td>NaN</td>\n      <td>NaN</td>\n    </tr>\n    <tr>\n      <th>505109</th>\n      <td>585873</td>\n      <td>2022-12-16</td>\n      <td>1900-01-01 18:41:30</td>\n      <td>menu</td>\n      <td>alitas 4 unidades   19 bs</td>\n      <td>alitas albahaca 4 unid</td>\n      <td>activo</td>\n      <td>19.0</td>\n      <td>1</td>\n      <td>19.0</td>\n      <td>...</td>\n      <td>NaN</td>\n      <td>Ninguna</td>\n      <td>False</td>\n      <td>False</td>\n      <td>para llevar</td>\n      <td>19.0</td>\n      <td>1</td>\n      <td>19.0</td>\n      <td>NaN</td>\n      <td>NaN</td>\n    </tr>\n    <tr>\n      <th>505110</th>\n      <td>585874</td>\n      <td>2022-12-16</td>\n      <td>1900-01-01 18:42:54</td>\n      <td>menu</td>\n      <td>burguers</td>\n      <td>hamburguesa clasica</td>\n      <td>activo</td>\n      <td>18.0</td>\n      <td>1</td>\n      <td>18.0</td>\n      <td>...</td>\n      <td>NaN</td>\n      <td>Ninguna</td>\n      <td>False</td>\n      <td>False</td>\n      <td>delivery</td>\n      <td>18.0</td>\n      <td>1</td>\n      <td>18.0</td>\n      <td>pedidos ya</td>\n      <td>17.0</td>\n    </tr>\n    <tr>\n      <th>505111</th>\n      <td>585874</td>\n      <td>2022-12-16</td>\n      <td>1900-01-01 18:42:54</td>\n      <td>menu</td>\n      <td>burguers</td>\n      <td>mexicana</td>\n      <td>activo</td>\n      <td>27.0</td>\n      <td>1</td>\n      <td>27.0</td>\n      <td>...</td>\n      <td>NaN</td>\n      <td>Ninguna</td>\n      <td>False</td>\n      <td>False</td>\n      <td>delivery</td>\n      <td>27.0</td>\n      <td>1</td>\n      <td>27.0</td>\n      <td>pedidos ya</td>\n      <td>17.0</td>\n    </tr>\n    <tr>\n      <th>505112</th>\n      <td>585874</td>\n      <td>2022-12-16</td>\n      <td>1900-01-01 18:42:54</td>\n      <td>menu</td>\n      <td>alitas 6 unidades  26 bs</td>\n      <td>alitas barbacoa 6 unid</td>\n      <td>activo</td>\n      <td>26.0</td>\n      <td>1</td>\n      <td>26.0</td>\n      <td>...</td>\n      <td>NaN</td>\n      <td>Ninguna</td>\n      <td>False</td>\n      <td>False</td>\n      <td>delivery</td>\n      <td>26.0</td>\n      <td>1</td>\n      <td>26.0</td>\n      <td>pedidos ya</td>\n      <td>17.0</td>\n    </tr>\n    <tr>\n      <th>505113</th>\n      <td>585874</td>\n      <td>2022-12-16</td>\n      <td>1900-01-01 18:42:54</td>\n      <td>bebidas</td>\n      <td>2 lt</td>\n      <td>coca cola 2lt</td>\n      <td>activo</td>\n      <td>18.0</td>\n      <td>1</td>\n      <td>18.0</td>\n      <td>...</td>\n      <td>NaN</td>\n      <td>Ninguna</td>\n      <td>False</td>\n      <td>False</td>\n      <td>delivery</td>\n      <td>18.0</td>\n      <td>1</td>\n      <td>18.0</td>\n      <td>pedidos ya</td>\n      <td>17.0</td>\n    </tr>\n    <tr>\n      <th>505115</th>\n      <td>585875</td>\n      <td>2022-12-16</td>\n      <td>1900-01-01 18:49:18</td>\n      <td>menu</td>\n      <td>alitas 16 unidades</td>\n      <td>alitas bbq 16 unid</td>\n      <td>activo</td>\n      <td>65.0</td>\n      <td>1</td>\n      <td>65.0</td>\n      <td>...</td>\n      <td>NaN</td>\n      <td>Ninguna</td>\n      <td>False</td>\n      <td>False</td>\n      <td>para llevar</td>\n      <td>65.0</td>\n      <td>1</td>\n      <td>65.0</td>\n      <td>NaN</td>\n      <td>NaN</td>\n    </tr>\n    <tr>\n      <th>505116</th>\n      <td>585876</td>\n      <td>2022-12-16</td>\n      <td>1900-01-01 18:58:13</td>\n      <td>otros</td>\n      <td>product</td>\n      <td>salsa miel mostaza</td>\n      <td>activo</td>\n      <td>4.0</td>\n      <td>1</td>\n      <td>4.0</td>\n      <td>...</td>\n      <td>NaN</td>\n      <td>Ninguna</td>\n      <td>False</td>\n      <td>False</td>\n      <td>en sala-con mesa</td>\n      <td>4.0</td>\n      <td>1</td>\n      <td>4.0</td>\n      <td>NaN</td>\n      <td>NaN</td>\n    </tr>\n    <tr>\n      <th>505117</th>\n      <td>585877</td>\n      <td>2022-12-16</td>\n      <td>1900-01-01 19:02:45</td>\n      <td>menu</td>\n      <td>alitas 6 unidades  26 bs</td>\n      <td>alitas jack daniel 6 unid</td>\n      <td>activo</td>\n      <td>26.0</td>\n      <td>1</td>\n      <td>26.0</td>\n      <td>...</td>\n      <td>NaN</td>\n      <td>Ninguna</td>\n      <td>False</td>\n      <td>False</td>\n      <td>en sala-con mesa</td>\n      <td>26.0</td>\n      <td>1</td>\n      <td>26.0</td>\n      <td>NaN</td>\n      <td>NaN</td>\n    </tr>\n    <tr>\n      <th>505118</th>\n      <td>585877</td>\n      <td>2022-12-16</td>\n      <td>1900-01-01 19:02:45</td>\n      <td>menu</td>\n      <td>alitas 6 unidades  26 bs</td>\n      <td>alitas miel mostaza 6 unid</td>\n      <td>activo</td>\n      <td>26.0</td>\n      <td>1</td>\n      <td>26.0</td>\n      <td>...</td>\n      <td>NaN</td>\n      <td>Ninguna</td>\n      <td>False</td>\n      <td>False</td>\n      <td>en sala-con mesa</td>\n      <td>26.0</td>\n      <td>1</td>\n      <td>26.0</td>\n      <td>NaN</td>\n      <td>NaN</td>\n    </tr>\n    <tr>\n      <th>505119</th>\n      <td>585877</td>\n      <td>2022-12-16</td>\n      <td>1900-01-01 19:02:45</td>\n      <td>otros</td>\n      <td>product</td>\n      <td>salsa picante</td>\n      <td>activo</td>\n      <td>4.0</td>\n      <td>1</td>\n      <td>4.0</td>\n      <td>...</td>\n      <td>NaN</td>\n      <td>Ninguna</td>\n      <td>False</td>\n      <td>False</td>\n      <td>en sala-con mesa</td>\n      <td>4.0</td>\n      <td>1</td>\n      <td>4.0</td>\n      <td>NaN</td>\n      <td>NaN</td>\n    </tr>\n    <tr>\n      <th>505120</th>\n      <td>585877</td>\n      <td>2022-12-16</td>\n      <td>1900-01-01 19:02:45</td>\n      <td>bebidas</td>\n      <td>popular</td>\n      <td>sprite popular</td>\n      <td>activo</td>\n      <td>8.0</td>\n      <td>1</td>\n      <td>8.0</td>\n      <td>...</td>\n      <td>NaN</td>\n      <td>Ninguna</td>\n      <td>False</td>\n      <td>False</td>\n      <td>en sala-con mesa</td>\n      <td>8.0</td>\n      <td>1</td>\n      <td>8.0</td>\n      <td>NaN</td>\n      <td>NaN</td>\n    </tr>\n  </tbody>\n</table>\n<p>50 rows × 27 columns</p>\n</div>"
     },
     "execution_count": 190,
     "metadata": {},
     "output_type": "execute_result"
    }
   ],
   "execution_count": 190
  },
  {
   "cell_type": "markdown",
   "id": "3c97826b55c48670",
   "metadata": {},
   "source": [
    "### Checking again for more cleaning\n",
    "'fingers' classification was placed a price of 1, to indicate that those products were inactive.\n",
    "Those fingers orders were part of other orders, but its price is 1 and could be possible that quantity is the real price. \n",
    "\n",
    "action:\n",
    "- price of 1 , has to be replaced with the number placed in quantity column "
   ]
  },
  {
   "cell_type": "code",
   "id": "f7cefe0b89180ec4",
   "metadata": {
    "ExecuteTime": {
     "end_time": "2024-07-03T20:44:16.257841700Z",
     "start_time": "2024-07-03T20:44:15.417768700Z"
    }
   },
   "source": [
    "resta_df_m[resta_df_m['price']==1].groupby(['classification', 'product']).max()\n"
   ],
   "outputs": [
    {
     "data": {
      "text/plain": "                                   order_id system_date                time   \nclassification product                                                        \nfinger         finger                421461  2019-11-17 1900-01-01 23:03:38  \\\nproduct        pollo a la canasta    301877  2019-01-16 1900-01-01 22:57:57   \n\n                                  group_classifier prod_state  price   \nclassification product                                                 \nfinger         finger                         menu   inactivo    1.0  \\\nproduct        pollo a la canasta             menu     activo    1.0   \n\n                                   quantity  to_pay_xprod  tot_order_payment   \nclassification product                                                         \nfinger         finger                    48          48.0              239.0  \\\nproduct        pollo a la canasta        25          25.0              139.0   \n\n                                  product_observations  ...   \nclassification product                                  ...   \nfinger         finger                        vaso coca  ...  \\\nproduct        pollo a la canasta      media de finger  ...   \n\n                                   modification_date  modification_reason   \nclassification product                                                      \nfinger         finger                            NaN              Ninguna  \\\nproduct        pollo a la canasta                NaN              Ninguna   \n\n                                   is_cancelled is_courtesy   order_type   \nclassification product                                                     \nfinger         finger                     False       False  para llevar  \\\nproduct        pollo a la canasta         False       False  para llevar   \n\n                                  price_alt quantity_alt to_pay_xprod_alt   \nclassification product                                                      \nfinger         finger                   1.0           48             48.0  \\\nproduct        pollo a la canasta       1.0           25             25.0   \n\n                                  delivery_name_new delivery_cost_new  \nclassification product                                                 \nfinger         finger                           NaN               NaN  \nproduct        pollo a la canasta               NaN               NaN  \n\n[2 rows x 25 columns]",
      "text/html": "<div>\n<style scoped>\n    .dataframe tbody tr th:only-of-type {\n        vertical-align: middle;\n    }\n\n    .dataframe tbody tr th {\n        vertical-align: top;\n    }\n\n    .dataframe thead th {\n        text-align: right;\n    }\n</style>\n<table border=\"1\" class=\"dataframe\">\n  <thead>\n    <tr style=\"text-align: right;\">\n      <th></th>\n      <th></th>\n      <th>order_id</th>\n      <th>system_date</th>\n      <th>time</th>\n      <th>group_classifier</th>\n      <th>prod_state</th>\n      <th>price</th>\n      <th>quantity</th>\n      <th>to_pay_xprod</th>\n      <th>tot_order_payment</th>\n      <th>product_observations</th>\n      <th>...</th>\n      <th>modification_date</th>\n      <th>modification_reason</th>\n      <th>is_cancelled</th>\n      <th>is_courtesy</th>\n      <th>order_type</th>\n      <th>price_alt</th>\n      <th>quantity_alt</th>\n      <th>to_pay_xprod_alt</th>\n      <th>delivery_name_new</th>\n      <th>delivery_cost_new</th>\n    </tr>\n    <tr>\n      <th>classification</th>\n      <th>product</th>\n      <th></th>\n      <th></th>\n      <th></th>\n      <th></th>\n      <th></th>\n      <th></th>\n      <th></th>\n      <th></th>\n      <th></th>\n      <th></th>\n      <th></th>\n      <th></th>\n      <th></th>\n      <th></th>\n      <th></th>\n      <th></th>\n      <th></th>\n      <th></th>\n      <th></th>\n      <th></th>\n      <th></th>\n    </tr>\n  </thead>\n  <tbody>\n    <tr>\n      <th>finger</th>\n      <th>finger</th>\n      <td>421461</td>\n      <td>2019-11-17</td>\n      <td>1900-01-01 23:03:38</td>\n      <td>menu</td>\n      <td>inactivo</td>\n      <td>1.0</td>\n      <td>48</td>\n      <td>48.0</td>\n      <td>239.0</td>\n      <td>vaso coca</td>\n      <td>...</td>\n      <td>NaN</td>\n      <td>Ninguna</td>\n      <td>False</td>\n      <td>False</td>\n      <td>para llevar</td>\n      <td>1.0</td>\n      <td>48</td>\n      <td>48.0</td>\n      <td>NaN</td>\n      <td>NaN</td>\n    </tr>\n    <tr>\n      <th>product</th>\n      <th>pollo a la canasta</th>\n      <td>301877</td>\n      <td>2019-01-16</td>\n      <td>1900-01-01 22:57:57</td>\n      <td>menu</td>\n      <td>activo</td>\n      <td>1.0</td>\n      <td>25</td>\n      <td>25.0</td>\n      <td>139.0</td>\n      <td>media de finger</td>\n      <td>...</td>\n      <td>NaN</td>\n      <td>Ninguna</td>\n      <td>False</td>\n      <td>False</td>\n      <td>para llevar</td>\n      <td>1.0</td>\n      <td>25</td>\n      <td>25.0</td>\n      <td>NaN</td>\n      <td>NaN</td>\n    </tr>\n  </tbody>\n</table>\n<p>2 rows × 25 columns</p>\n</div>"
     },
     "execution_count": 191,
     "metadata": {},
     "output_type": "execute_result"
    }
   ],
   "execution_count": 191
  },
  {
   "cell_type": "code",
   "id": "bed60230e19b6744",
   "metadata": {
    "ExecuteTime": {
     "end_time": "2024-07-03T20:44:16.257841700Z",
     "start_time": "2024-07-03T20:44:15.512244100Z"
    }
   },
   "source": [
    "fingers_ones = (resta_df_m['classification']=='finger')&(resta_df_m['price']==1)"
   ],
   "outputs": [],
   "execution_count": 192
  },
  {
   "cell_type": "code",
   "id": "4baf27d3f5431037",
   "metadata": {
    "ExecuteTime": {
     "end_time": "2024-07-03T20:44:16.494931600Z",
     "start_time": "2024-07-03T20:44:15.587849600Z"
    }
   },
   "source": [
    "fingers_ones_index = resta_df_m[fingers_ones].index"
   ],
   "outputs": [],
   "execution_count": 193
  },
  {
   "cell_type": "code",
   "id": "15579dacacc77b0d",
   "metadata": {
    "ExecuteTime": {
     "end_time": "2024-07-03T20:44:16.622728Z",
     "start_time": "2024-07-03T20:44:15.721475300Z"
    }
   },
   "source": [
    "fingers_ones_index.shape"
   ],
   "outputs": [
    {
     "data": {
      "text/plain": "(164,)"
     },
     "execution_count": 194,
     "metadata": {},
     "output_type": "execute_result"
    }
   ],
   "execution_count": 194
  },
  {
   "cell_type": "code",
   "id": "1f30de8d8d534dd9",
   "metadata": {
    "ExecuteTime": {
     "end_time": "2024-07-03T20:44:17.017108100Z",
     "start_time": "2024-07-03T20:44:15.842775900Z"
    }
   },
   "source": [
    "resta_df_m.loc[fingers_ones_index]"
   ],
   "outputs": [
    {
     "data": {
      "text/plain": "        order_id system_date                time group_classifier   \n11716      23106  2016-11-10 1900-01-01 12:40:24             menu  \\\n12429      23532  2016-11-15 1900-01-01 21:28:46             menu   \n12443      23539  2016-11-16 1900-01-01 12:21:52             menu   \n12617      23646  2016-11-17 1900-01-01 13:45:45             menu   \n12738      23705  2016-11-18 1900-01-01 12:24:08             menu   \n...          ...         ...                 ...              ...   \n259186    421448  2019-11-17 1900-01-01 13:27:13             menu   \n259192    421449  2019-11-17 1900-01-01 13:38:30             menu   \n259198    421452  2019-11-17 1900-01-01 14:01:25             menu   \n259204    421453  2019-11-17 1900-01-01 14:05:55             menu   \n259228    421461  2019-11-17 1900-01-01 14:56:42             menu   \n\n       classification product prod_state  price  quantity  to_pay_xprod  ...   \n11716          finger  finger   inactivo    1.0        25          25.0  ...  \\\n12429          finger  finger   inactivo    1.0         1           1.0  ...   \n12443          finger  finger   inactivo    1.0         2           2.0  ...   \n12617          finger  finger   inactivo    1.0         1           1.0  ...   \n12738          finger  finger   inactivo    1.0         2           2.0  ...   \n...               ...     ...        ...    ...       ...           ...  ...   \n259186         finger  finger   inactivo    1.0         8           8.0  ...   \n259192         finger  finger   inactivo    1.0        24          24.0  ...   \n259198         finger  finger   inactivo    1.0         8           8.0  ...   \n259204         finger  finger   inactivo    1.0        16          16.0  ...   \n259228         finger  finger   inactivo    1.0         4           4.0  ...   \n\n        modification_date modification_reason  is_cancelled  is_courtesy   \n11716                 NaN             Ninguna         False        False  \\\n12429                 NaN             Ninguna         False        False   \n12443                 NaN             Ninguna         False        False   \n12617                 NaN             Ninguna         False        False   \n12738                 NaN             Ninguna         False        False   \n...                   ...                 ...           ...          ...   \n259186                NaN             Ninguna         False        False   \n259192                NaN             Ninguna         False        False   \n259198                NaN             Ninguna         False        False   \n259204                NaN             Ninguna         False        False   \n259228                NaN             Ninguna         False        False   \n\n              order_type price_alt  quantity_alt to_pay_xprod_alt   \n11716   en sala-sin mesa       1.0            25             25.0  \\\n12429   en sala-con mesa       1.0             1              1.0   \n12443   en sala-sin mesa       1.0             2              2.0   \n12617        para llevar       1.0             1              1.0   \n12738   en sala-sin mesa       1.0             2              2.0   \n...                  ...       ...           ...              ...   \n259186       para llevar       1.0             8              8.0   \n259192  en sala-con mesa       1.0            24             24.0   \n259198  en sala-con mesa       1.0             8              8.0   \n259204  en sala-con mesa       1.0            16             16.0   \n259228  en sala-con mesa       1.0             4              4.0   \n\n       delivery_name_new delivery_cost_new  \n11716                NaN               NaN  \n12429                NaN               NaN  \n12443                NaN               NaN  \n12617                NaN               NaN  \n12738                NaN               NaN  \n...                  ...               ...  \n259186               NaN               NaN  \n259192               NaN               NaN  \n259198               NaN               NaN  \n259204               NaN               NaN  \n259228               NaN               NaN  \n\n[164 rows x 27 columns]",
      "text/html": "<div>\n<style scoped>\n    .dataframe tbody tr th:only-of-type {\n        vertical-align: middle;\n    }\n\n    .dataframe tbody tr th {\n        vertical-align: top;\n    }\n\n    .dataframe thead th {\n        text-align: right;\n    }\n</style>\n<table border=\"1\" class=\"dataframe\">\n  <thead>\n    <tr style=\"text-align: right;\">\n      <th></th>\n      <th>order_id</th>\n      <th>system_date</th>\n      <th>time</th>\n      <th>group_classifier</th>\n      <th>classification</th>\n      <th>product</th>\n      <th>prod_state</th>\n      <th>price</th>\n      <th>quantity</th>\n      <th>to_pay_xprod</th>\n      <th>...</th>\n      <th>modification_date</th>\n      <th>modification_reason</th>\n      <th>is_cancelled</th>\n      <th>is_courtesy</th>\n      <th>order_type</th>\n      <th>price_alt</th>\n      <th>quantity_alt</th>\n      <th>to_pay_xprod_alt</th>\n      <th>delivery_name_new</th>\n      <th>delivery_cost_new</th>\n    </tr>\n  </thead>\n  <tbody>\n    <tr>\n      <th>11716</th>\n      <td>23106</td>\n      <td>2016-11-10</td>\n      <td>1900-01-01 12:40:24</td>\n      <td>menu</td>\n      <td>finger</td>\n      <td>finger</td>\n      <td>inactivo</td>\n      <td>1.0</td>\n      <td>25</td>\n      <td>25.0</td>\n      <td>...</td>\n      <td>NaN</td>\n      <td>Ninguna</td>\n      <td>False</td>\n      <td>False</td>\n      <td>en sala-sin mesa</td>\n      <td>1.0</td>\n      <td>25</td>\n      <td>25.0</td>\n      <td>NaN</td>\n      <td>NaN</td>\n    </tr>\n    <tr>\n      <th>12429</th>\n      <td>23532</td>\n      <td>2016-11-15</td>\n      <td>1900-01-01 21:28:46</td>\n      <td>menu</td>\n      <td>finger</td>\n      <td>finger</td>\n      <td>inactivo</td>\n      <td>1.0</td>\n      <td>1</td>\n      <td>1.0</td>\n      <td>...</td>\n      <td>NaN</td>\n      <td>Ninguna</td>\n      <td>False</td>\n      <td>False</td>\n      <td>en sala-con mesa</td>\n      <td>1.0</td>\n      <td>1</td>\n      <td>1.0</td>\n      <td>NaN</td>\n      <td>NaN</td>\n    </tr>\n    <tr>\n      <th>12443</th>\n      <td>23539</td>\n      <td>2016-11-16</td>\n      <td>1900-01-01 12:21:52</td>\n      <td>menu</td>\n      <td>finger</td>\n      <td>finger</td>\n      <td>inactivo</td>\n      <td>1.0</td>\n      <td>2</td>\n      <td>2.0</td>\n      <td>...</td>\n      <td>NaN</td>\n      <td>Ninguna</td>\n      <td>False</td>\n      <td>False</td>\n      <td>en sala-sin mesa</td>\n      <td>1.0</td>\n      <td>2</td>\n      <td>2.0</td>\n      <td>NaN</td>\n      <td>NaN</td>\n    </tr>\n    <tr>\n      <th>12617</th>\n      <td>23646</td>\n      <td>2016-11-17</td>\n      <td>1900-01-01 13:45:45</td>\n      <td>menu</td>\n      <td>finger</td>\n      <td>finger</td>\n      <td>inactivo</td>\n      <td>1.0</td>\n      <td>1</td>\n      <td>1.0</td>\n      <td>...</td>\n      <td>NaN</td>\n      <td>Ninguna</td>\n      <td>False</td>\n      <td>False</td>\n      <td>para llevar</td>\n      <td>1.0</td>\n      <td>1</td>\n      <td>1.0</td>\n      <td>NaN</td>\n      <td>NaN</td>\n    </tr>\n    <tr>\n      <th>12738</th>\n      <td>23705</td>\n      <td>2016-11-18</td>\n      <td>1900-01-01 12:24:08</td>\n      <td>menu</td>\n      <td>finger</td>\n      <td>finger</td>\n      <td>inactivo</td>\n      <td>1.0</td>\n      <td>2</td>\n      <td>2.0</td>\n      <td>...</td>\n      <td>NaN</td>\n      <td>Ninguna</td>\n      <td>False</td>\n      <td>False</td>\n      <td>en sala-sin mesa</td>\n      <td>1.0</td>\n      <td>2</td>\n      <td>2.0</td>\n      <td>NaN</td>\n      <td>NaN</td>\n    </tr>\n    <tr>\n      <th>...</th>\n      <td>...</td>\n      <td>...</td>\n      <td>...</td>\n      <td>...</td>\n      <td>...</td>\n      <td>...</td>\n      <td>...</td>\n      <td>...</td>\n      <td>...</td>\n      <td>...</td>\n      <td>...</td>\n      <td>...</td>\n      <td>...</td>\n      <td>...</td>\n      <td>...</td>\n      <td>...</td>\n      <td>...</td>\n      <td>...</td>\n      <td>...</td>\n      <td>...</td>\n      <td>...</td>\n    </tr>\n    <tr>\n      <th>259186</th>\n      <td>421448</td>\n      <td>2019-11-17</td>\n      <td>1900-01-01 13:27:13</td>\n      <td>menu</td>\n      <td>finger</td>\n      <td>finger</td>\n      <td>inactivo</td>\n      <td>1.0</td>\n      <td>8</td>\n      <td>8.0</td>\n      <td>...</td>\n      <td>NaN</td>\n      <td>Ninguna</td>\n      <td>False</td>\n      <td>False</td>\n      <td>para llevar</td>\n      <td>1.0</td>\n      <td>8</td>\n      <td>8.0</td>\n      <td>NaN</td>\n      <td>NaN</td>\n    </tr>\n    <tr>\n      <th>259192</th>\n      <td>421449</td>\n      <td>2019-11-17</td>\n      <td>1900-01-01 13:38:30</td>\n      <td>menu</td>\n      <td>finger</td>\n      <td>finger</td>\n      <td>inactivo</td>\n      <td>1.0</td>\n      <td>24</td>\n      <td>24.0</td>\n      <td>...</td>\n      <td>NaN</td>\n      <td>Ninguna</td>\n      <td>False</td>\n      <td>False</td>\n      <td>en sala-con mesa</td>\n      <td>1.0</td>\n      <td>24</td>\n      <td>24.0</td>\n      <td>NaN</td>\n      <td>NaN</td>\n    </tr>\n    <tr>\n      <th>259198</th>\n      <td>421452</td>\n      <td>2019-11-17</td>\n      <td>1900-01-01 14:01:25</td>\n      <td>menu</td>\n      <td>finger</td>\n      <td>finger</td>\n      <td>inactivo</td>\n      <td>1.0</td>\n      <td>8</td>\n      <td>8.0</td>\n      <td>...</td>\n      <td>NaN</td>\n      <td>Ninguna</td>\n      <td>False</td>\n      <td>False</td>\n      <td>en sala-con mesa</td>\n      <td>1.0</td>\n      <td>8</td>\n      <td>8.0</td>\n      <td>NaN</td>\n      <td>NaN</td>\n    </tr>\n    <tr>\n      <th>259204</th>\n      <td>421453</td>\n      <td>2019-11-17</td>\n      <td>1900-01-01 14:05:55</td>\n      <td>menu</td>\n      <td>finger</td>\n      <td>finger</td>\n      <td>inactivo</td>\n      <td>1.0</td>\n      <td>16</td>\n      <td>16.0</td>\n      <td>...</td>\n      <td>NaN</td>\n      <td>Ninguna</td>\n      <td>False</td>\n      <td>False</td>\n      <td>en sala-con mesa</td>\n      <td>1.0</td>\n      <td>16</td>\n      <td>16.0</td>\n      <td>NaN</td>\n      <td>NaN</td>\n    </tr>\n    <tr>\n      <th>259228</th>\n      <td>421461</td>\n      <td>2019-11-17</td>\n      <td>1900-01-01 14:56:42</td>\n      <td>menu</td>\n      <td>finger</td>\n      <td>finger</td>\n      <td>inactivo</td>\n      <td>1.0</td>\n      <td>4</td>\n      <td>4.0</td>\n      <td>...</td>\n      <td>NaN</td>\n      <td>Ninguna</td>\n      <td>False</td>\n      <td>False</td>\n      <td>en sala-con mesa</td>\n      <td>1.0</td>\n      <td>4</td>\n      <td>4.0</td>\n      <td>NaN</td>\n      <td>NaN</td>\n    </tr>\n  </tbody>\n</table>\n<p>164 rows × 27 columns</p>\n</div>"
     },
     "execution_count": 195,
     "metadata": {},
     "output_type": "execute_result"
    }
   ],
   "execution_count": 195
  },
  {
   "cell_type": "code",
   "id": "2e44a9cab71d9a07",
   "metadata": {
    "ExecuteTime": {
     "end_time": "2024-07-03T20:44:17.079434Z",
     "start_time": "2024-07-03T20:44:15.994634Z"
    }
   },
   "source": [
    "#Changing price \n",
    "resta_df_m.loc[fingers_ones_index, 'price'] = resta_df_m['quantity_alt']"
   ],
   "outputs": [],
   "execution_count": 196
  },
  {
   "cell_type": "code",
   "id": "83d3e21302a53fe1",
   "metadata": {
    "ExecuteTime": {
     "end_time": "2024-07-03T20:44:17.330720900Z",
     "start_time": "2024-07-03T20:44:16.058924200Z"
    }
   },
   "source": [
    "#changing the corresponding quantities\n",
    "resta_df_m.loc[fingers_ones_index, 'quantity'] = resta_df_m['price_alt']"
   ],
   "outputs": [],
   "execution_count": 197
  },
  {
   "cell_type": "markdown",
   "id": "d5b3ca272112dcb6",
   "metadata": {},
   "source": [
    "There are fingers with price of 1 and quantity of 1, in years: 2016, 2017, 2018."
   ]
  },
  {
   "cell_type": "code",
   "id": "abbe1af561c106f4",
   "metadata": {
    "ExecuteTime": {
     "end_time": "2024-07-03T20:44:17.981905600Z",
     "start_time": "2024-07-03T20:44:16.184739500Z"
    }
   },
   "source": [
    "fingers_only_ones = (resta_df_m['classification']=='finger')&(resta_df_m['price']==1&(resta_df_m['quantity']==1))"
   ],
   "outputs": [],
   "execution_count": 198
  },
  {
   "cell_type": "code",
   "id": "99ff1f2b03b12796",
   "metadata": {
    "ExecuteTime": {
     "end_time": "2024-07-03T20:44:17.983420700Z",
     "start_time": "2024-07-03T20:44:16.323896Z"
    }
   },
   "source": [
    "resta_df_m[fingers_only_ones]['system_date'].dt.year.unique()"
   ],
   "outputs": [
    {
     "data": {
      "text/plain": "array([2016, 2017, 2018])"
     },
     "execution_count": 199,
     "metadata": {},
     "output_type": "execute_result"
    }
   ],
   "execution_count": 199
  },
  {
   "cell_type": "markdown",
   "id": "f89dba4024af62",
   "metadata": {},
   "source": [
    "Identify orders\n",
    "\n",
    "product 'finger' with price equal to one is correct"
   ]
  },
  {
   "cell_type": "code",
   "id": "8e6151816c0aaf1f",
   "metadata": {
    "ExecuteTime": {
     "end_time": "2024-07-03T20:44:18.085145600Z",
     "start_time": "2024-07-03T20:44:16.483471100Z"
    }
   },
   "source": [
    "fingers_only_ones_index = resta_df_m[fingers_only_ones].index"
   ],
   "outputs": [],
   "execution_count": 200
  },
  {
   "cell_type": "code",
   "id": "789b63172da265f4",
   "metadata": {
    "ExecuteTime": {
     "end_time": "2024-07-03T20:44:18.158386400Z",
     "start_time": "2024-07-03T20:44:16.597666800Z"
    }
   },
   "source": [
    "fingers_only_ones_orderids = resta_df_m.loc[fingers_only_ones_index, 'order_id'] "
   ],
   "outputs": [],
   "execution_count": 201
  },
  {
   "cell_type": "code",
   "id": "49b12326104fb914",
   "metadata": {
    "ExecuteTime": {
     "end_time": "2024-07-03T20:44:18.159443400Z",
     "start_time": "2024-07-03T20:44:16.770562Z"
    }
   },
   "source": [
    "resta_df_m[resta_df_m['order_id'].isin(fingers_only_ones_orderids)].head(20)"
   ],
   "outputs": [
    {
     "data": {
      "text/plain": "       order_id system_date                time group_classifier   \n12429     23532  2016-11-15 1900-01-01 21:28:46             menu  \\\n12430     23532  2016-11-15 1900-01-01 21:28:46             menu   \n12431     23532  2016-11-15 1900-01-01 21:28:46          bebidas   \n12617     23646  2016-11-17 1900-01-01 13:45:45             menu   \n12974     25321  2016-11-21 1900-01-01 20:12:00             menu   \n12975     25321  2016-11-21 1900-01-01 20:12:00            otros   \n14728     26316  2016-12-03 1900-01-01 22:01:18             menu   \n14729     26316  2016-12-03 1900-01-01 22:01:18             menu   \n14730     26316  2016-12-03 1900-01-01 22:01:18             menu   \n14731     26316  2016-12-03 1900-01-01 22:01:18          bebidas   \n14910     26414  2016-12-05 1900-01-01 12:31:09          bebidas   \n14911     26414  2016-12-05 1900-01-01 12:31:09             menu   \n16223     29583  2016-12-15 1900-01-01 13:23:47             menu   \n17170     30746  2016-12-22 1900-01-01 12:50:37             menu   \n17171     30746  2016-12-22 1900-01-01 12:50:37             menu   \n17172     30747  2016-12-22 1900-01-01 12:51:14             menu   \n17173     30747  2016-12-22 1900-01-01 12:51:14             menu   \n18676     32662  2017-01-06 1900-01-01 12:29:28             menu   \n18677     32662  2017-01-06 1900-01-01 12:29:28             menu   \n18678     32662  2017-01-06 1900-01-01 12:29:28             menu   \n\n          classification              product prod_state  price  quantity   \n12429             finger               finger   inactivo    1.0         1  \\\n12430           burguers  hamburguesa clasica     activo   15.0         2   \n12431            popular    coca cola popular     activo    6.0         1   \n12617             finger               finger   inactivo    1.0         1   \n12974             finger               finger   inactivo    1.0         1   \n12975            product    papas adicionales     activo    8.0         2   \n14728             finger               finger   inactivo    1.0         1   \n14729  alitas 8 unidades      alitas barbacoa     activo   27.0         1   \n14730         sandwiches    sand de pollo bbq     activo   20.0         1   \n14731               1 lt           sprite 1lt     activo   12.0         1   \n14910      jugos - aguas    vaso jugo natural     activo    6.0         1   \n14911             finger               finger   inactivo    1.0         1   \n16223             finger               finger   inactivo    1.0         1   \n17170          almuerzos  segundo (+ensalada)     activo   18.0         1   \n17171             finger               finger   inactivo    1.0         1   \n17172          almuerzos  segundo (+ensalada)     activo   18.0         1   \n17173             finger               finger   inactivo    1.0         1   \n18676            fingers         fingers miel     activo   22.0         1   \n18677             platos          chili mexic     activo   18.0         1   \n18678             finger               finger   inactivo    1.0         1   \n\n       to_pay_xprod  ...  modification_date modification_reason  is_cancelled   \n12429           1.0  ...                NaN             Ninguna         False  \\\n12430          30.0  ...                NaN             Ninguna         False   \n12431           6.0  ...                NaN             Ninguna         False   \n12617           1.0  ...                NaN             Ninguna         False   \n12974           1.0  ...                NaN             Ninguna         False   \n12975          16.0  ...                NaN             Ninguna         False   \n14728           1.0  ...                NaN             Ninguna         False   \n14729          27.0  ...                NaN             Ninguna         False   \n14730          20.0  ...                NaN             Ninguna         False   \n14731          12.0  ...                NaN             Ninguna         False   \n14910           6.0  ...                NaN             Ninguna         False   \n14911           1.0  ...                NaN             Ninguna         False   \n16223           1.0  ...                NaN             Ninguna         False   \n17170          18.0  ...                NaN             Ninguna         False   \n17171           1.0  ...                NaN             Ninguna         False   \n17172          18.0  ...                NaN             Ninguna         False   \n17173           1.0  ...                NaN             Ninguna         False   \n18676          22.0  ...                NaN             Ninguna         False   \n18677          18.0  ...                NaN             Ninguna         False   \n18678           1.0  ...                NaN             Ninguna         False   \n\n       is_courtesy        order_type price_alt  quantity_alt to_pay_xprod_alt   \n12429        False  en sala-con mesa       1.0             1              1.0  \\\n12430        False  en sala-con mesa      15.0             2             30.0   \n12431        False  en sala-con mesa       6.0             1              6.0   \n12617        False       para llevar       1.0             1              1.0   \n12974        False  en sala-con mesa       1.0             1              1.0   \n12975        False  en sala-con mesa       8.0             2             16.0   \n14728        False  en sala-con mesa       1.0             1              1.0   \n14729        False  en sala-con mesa      27.0             1             27.0   \n14730        False  en sala-con mesa      20.0             1             20.0   \n14731        False  en sala-con mesa      12.0             1             12.0   \n14910        False  en sala-sin mesa       6.0             1              6.0   \n14911        False  en sala-sin mesa       1.0             1              1.0   \n16223        False  en sala-sin mesa       1.0             1              1.0   \n17170        False       para llevar      18.0             1             18.0   \n17171        False       para llevar       1.0             1              1.0   \n17172        False  en sala-sin mesa      18.0             1             18.0   \n17173        False  en sala-sin mesa       1.0             1              1.0   \n18676        False  en sala-sin mesa      22.0             1             22.0   \n18677        False  en sala-sin mesa      18.0             1             18.0   \n18678        False  en sala-sin mesa       1.0             1              1.0   \n\n      delivery_name_new delivery_cost_new  \n12429               NaN               NaN  \n12430               NaN               NaN  \n12431               NaN               NaN  \n12617               NaN               NaN  \n12974               NaN               NaN  \n12975               NaN               NaN  \n14728               NaN               NaN  \n14729               NaN               NaN  \n14730               NaN               NaN  \n14731               NaN               NaN  \n14910               NaN               NaN  \n14911               NaN               NaN  \n16223               NaN               NaN  \n17170               NaN               NaN  \n17171               NaN               NaN  \n17172               NaN               NaN  \n17173               NaN               NaN  \n18676               NaN               NaN  \n18677               NaN               NaN  \n18678               NaN               NaN  \n\n[20 rows x 27 columns]",
      "text/html": "<div>\n<style scoped>\n    .dataframe tbody tr th:only-of-type {\n        vertical-align: middle;\n    }\n\n    .dataframe tbody tr th {\n        vertical-align: top;\n    }\n\n    .dataframe thead th {\n        text-align: right;\n    }\n</style>\n<table border=\"1\" class=\"dataframe\">\n  <thead>\n    <tr style=\"text-align: right;\">\n      <th></th>\n      <th>order_id</th>\n      <th>system_date</th>\n      <th>time</th>\n      <th>group_classifier</th>\n      <th>classification</th>\n      <th>product</th>\n      <th>prod_state</th>\n      <th>price</th>\n      <th>quantity</th>\n      <th>to_pay_xprod</th>\n      <th>...</th>\n      <th>modification_date</th>\n      <th>modification_reason</th>\n      <th>is_cancelled</th>\n      <th>is_courtesy</th>\n      <th>order_type</th>\n      <th>price_alt</th>\n      <th>quantity_alt</th>\n      <th>to_pay_xprod_alt</th>\n      <th>delivery_name_new</th>\n      <th>delivery_cost_new</th>\n    </tr>\n  </thead>\n  <tbody>\n    <tr>\n      <th>12429</th>\n      <td>23532</td>\n      <td>2016-11-15</td>\n      <td>1900-01-01 21:28:46</td>\n      <td>menu</td>\n      <td>finger</td>\n      <td>finger</td>\n      <td>inactivo</td>\n      <td>1.0</td>\n      <td>1</td>\n      <td>1.0</td>\n      <td>...</td>\n      <td>NaN</td>\n      <td>Ninguna</td>\n      <td>False</td>\n      <td>False</td>\n      <td>en sala-con mesa</td>\n      <td>1.0</td>\n      <td>1</td>\n      <td>1.0</td>\n      <td>NaN</td>\n      <td>NaN</td>\n    </tr>\n    <tr>\n      <th>12430</th>\n      <td>23532</td>\n      <td>2016-11-15</td>\n      <td>1900-01-01 21:28:46</td>\n      <td>menu</td>\n      <td>burguers</td>\n      <td>hamburguesa clasica</td>\n      <td>activo</td>\n      <td>15.0</td>\n      <td>2</td>\n      <td>30.0</td>\n      <td>...</td>\n      <td>NaN</td>\n      <td>Ninguna</td>\n      <td>False</td>\n      <td>False</td>\n      <td>en sala-con mesa</td>\n      <td>15.0</td>\n      <td>2</td>\n      <td>30.0</td>\n      <td>NaN</td>\n      <td>NaN</td>\n    </tr>\n    <tr>\n      <th>12431</th>\n      <td>23532</td>\n      <td>2016-11-15</td>\n      <td>1900-01-01 21:28:46</td>\n      <td>bebidas</td>\n      <td>popular</td>\n      <td>coca cola popular</td>\n      <td>activo</td>\n      <td>6.0</td>\n      <td>1</td>\n      <td>6.0</td>\n      <td>...</td>\n      <td>NaN</td>\n      <td>Ninguna</td>\n      <td>False</td>\n      <td>False</td>\n      <td>en sala-con mesa</td>\n      <td>6.0</td>\n      <td>1</td>\n      <td>6.0</td>\n      <td>NaN</td>\n      <td>NaN</td>\n    </tr>\n    <tr>\n      <th>12617</th>\n      <td>23646</td>\n      <td>2016-11-17</td>\n      <td>1900-01-01 13:45:45</td>\n      <td>menu</td>\n      <td>finger</td>\n      <td>finger</td>\n      <td>inactivo</td>\n      <td>1.0</td>\n      <td>1</td>\n      <td>1.0</td>\n      <td>...</td>\n      <td>NaN</td>\n      <td>Ninguna</td>\n      <td>False</td>\n      <td>False</td>\n      <td>para llevar</td>\n      <td>1.0</td>\n      <td>1</td>\n      <td>1.0</td>\n      <td>NaN</td>\n      <td>NaN</td>\n    </tr>\n    <tr>\n      <th>12974</th>\n      <td>25321</td>\n      <td>2016-11-21</td>\n      <td>1900-01-01 20:12:00</td>\n      <td>menu</td>\n      <td>finger</td>\n      <td>finger</td>\n      <td>inactivo</td>\n      <td>1.0</td>\n      <td>1</td>\n      <td>1.0</td>\n      <td>...</td>\n      <td>NaN</td>\n      <td>Ninguna</td>\n      <td>False</td>\n      <td>False</td>\n      <td>en sala-con mesa</td>\n      <td>1.0</td>\n      <td>1</td>\n      <td>1.0</td>\n      <td>NaN</td>\n      <td>NaN</td>\n    </tr>\n    <tr>\n      <th>12975</th>\n      <td>25321</td>\n      <td>2016-11-21</td>\n      <td>1900-01-01 20:12:00</td>\n      <td>otros</td>\n      <td>product</td>\n      <td>papas adicionales</td>\n      <td>activo</td>\n      <td>8.0</td>\n      <td>2</td>\n      <td>16.0</td>\n      <td>...</td>\n      <td>NaN</td>\n      <td>Ninguna</td>\n      <td>False</td>\n      <td>False</td>\n      <td>en sala-con mesa</td>\n      <td>8.0</td>\n      <td>2</td>\n      <td>16.0</td>\n      <td>NaN</td>\n      <td>NaN</td>\n    </tr>\n    <tr>\n      <th>14728</th>\n      <td>26316</td>\n      <td>2016-12-03</td>\n      <td>1900-01-01 22:01:18</td>\n      <td>menu</td>\n      <td>finger</td>\n      <td>finger</td>\n      <td>inactivo</td>\n      <td>1.0</td>\n      <td>1</td>\n      <td>1.0</td>\n      <td>...</td>\n      <td>NaN</td>\n      <td>Ninguna</td>\n      <td>False</td>\n      <td>False</td>\n      <td>en sala-con mesa</td>\n      <td>1.0</td>\n      <td>1</td>\n      <td>1.0</td>\n      <td>NaN</td>\n      <td>NaN</td>\n    </tr>\n    <tr>\n      <th>14729</th>\n      <td>26316</td>\n      <td>2016-12-03</td>\n      <td>1900-01-01 22:01:18</td>\n      <td>menu</td>\n      <td>alitas 8 unidades</td>\n      <td>alitas barbacoa</td>\n      <td>activo</td>\n      <td>27.0</td>\n      <td>1</td>\n      <td>27.0</td>\n      <td>...</td>\n      <td>NaN</td>\n      <td>Ninguna</td>\n      <td>False</td>\n      <td>False</td>\n      <td>en sala-con mesa</td>\n      <td>27.0</td>\n      <td>1</td>\n      <td>27.0</td>\n      <td>NaN</td>\n      <td>NaN</td>\n    </tr>\n    <tr>\n      <th>14730</th>\n      <td>26316</td>\n      <td>2016-12-03</td>\n      <td>1900-01-01 22:01:18</td>\n      <td>menu</td>\n      <td>sandwiches</td>\n      <td>sand de pollo bbq</td>\n      <td>activo</td>\n      <td>20.0</td>\n      <td>1</td>\n      <td>20.0</td>\n      <td>...</td>\n      <td>NaN</td>\n      <td>Ninguna</td>\n      <td>False</td>\n      <td>False</td>\n      <td>en sala-con mesa</td>\n      <td>20.0</td>\n      <td>1</td>\n      <td>20.0</td>\n      <td>NaN</td>\n      <td>NaN</td>\n    </tr>\n    <tr>\n      <th>14731</th>\n      <td>26316</td>\n      <td>2016-12-03</td>\n      <td>1900-01-01 22:01:18</td>\n      <td>bebidas</td>\n      <td>1 lt</td>\n      <td>sprite 1lt</td>\n      <td>activo</td>\n      <td>12.0</td>\n      <td>1</td>\n      <td>12.0</td>\n      <td>...</td>\n      <td>NaN</td>\n      <td>Ninguna</td>\n      <td>False</td>\n      <td>False</td>\n      <td>en sala-con mesa</td>\n      <td>12.0</td>\n      <td>1</td>\n      <td>12.0</td>\n      <td>NaN</td>\n      <td>NaN</td>\n    </tr>\n    <tr>\n      <th>14910</th>\n      <td>26414</td>\n      <td>2016-12-05</td>\n      <td>1900-01-01 12:31:09</td>\n      <td>bebidas</td>\n      <td>jugos - aguas</td>\n      <td>vaso jugo natural</td>\n      <td>activo</td>\n      <td>6.0</td>\n      <td>1</td>\n      <td>6.0</td>\n      <td>...</td>\n      <td>NaN</td>\n      <td>Ninguna</td>\n      <td>False</td>\n      <td>False</td>\n      <td>en sala-sin mesa</td>\n      <td>6.0</td>\n      <td>1</td>\n      <td>6.0</td>\n      <td>NaN</td>\n      <td>NaN</td>\n    </tr>\n    <tr>\n      <th>14911</th>\n      <td>26414</td>\n      <td>2016-12-05</td>\n      <td>1900-01-01 12:31:09</td>\n      <td>menu</td>\n      <td>finger</td>\n      <td>finger</td>\n      <td>inactivo</td>\n      <td>1.0</td>\n      <td>1</td>\n      <td>1.0</td>\n      <td>...</td>\n      <td>NaN</td>\n      <td>Ninguna</td>\n      <td>False</td>\n      <td>False</td>\n      <td>en sala-sin mesa</td>\n      <td>1.0</td>\n      <td>1</td>\n      <td>1.0</td>\n      <td>NaN</td>\n      <td>NaN</td>\n    </tr>\n    <tr>\n      <th>16223</th>\n      <td>29583</td>\n      <td>2016-12-15</td>\n      <td>1900-01-01 13:23:47</td>\n      <td>menu</td>\n      <td>finger</td>\n      <td>finger</td>\n      <td>inactivo</td>\n      <td>1.0</td>\n      <td>1</td>\n      <td>1.0</td>\n      <td>...</td>\n      <td>NaN</td>\n      <td>Ninguna</td>\n      <td>False</td>\n      <td>False</td>\n      <td>en sala-sin mesa</td>\n      <td>1.0</td>\n      <td>1</td>\n      <td>1.0</td>\n      <td>NaN</td>\n      <td>NaN</td>\n    </tr>\n    <tr>\n      <th>17170</th>\n      <td>30746</td>\n      <td>2016-12-22</td>\n      <td>1900-01-01 12:50:37</td>\n      <td>menu</td>\n      <td>almuerzos</td>\n      <td>segundo (+ensalada)</td>\n      <td>activo</td>\n      <td>18.0</td>\n      <td>1</td>\n      <td>18.0</td>\n      <td>...</td>\n      <td>NaN</td>\n      <td>Ninguna</td>\n      <td>False</td>\n      <td>False</td>\n      <td>para llevar</td>\n      <td>18.0</td>\n      <td>1</td>\n      <td>18.0</td>\n      <td>NaN</td>\n      <td>NaN</td>\n    </tr>\n    <tr>\n      <th>17171</th>\n      <td>30746</td>\n      <td>2016-12-22</td>\n      <td>1900-01-01 12:50:37</td>\n      <td>menu</td>\n      <td>finger</td>\n      <td>finger</td>\n      <td>inactivo</td>\n      <td>1.0</td>\n      <td>1</td>\n      <td>1.0</td>\n      <td>...</td>\n      <td>NaN</td>\n      <td>Ninguna</td>\n      <td>False</td>\n      <td>False</td>\n      <td>para llevar</td>\n      <td>1.0</td>\n      <td>1</td>\n      <td>1.0</td>\n      <td>NaN</td>\n      <td>NaN</td>\n    </tr>\n    <tr>\n      <th>17172</th>\n      <td>30747</td>\n      <td>2016-12-22</td>\n      <td>1900-01-01 12:51:14</td>\n      <td>menu</td>\n      <td>almuerzos</td>\n      <td>segundo (+ensalada)</td>\n      <td>activo</td>\n      <td>18.0</td>\n      <td>1</td>\n      <td>18.0</td>\n      <td>...</td>\n      <td>NaN</td>\n      <td>Ninguna</td>\n      <td>False</td>\n      <td>False</td>\n      <td>en sala-sin mesa</td>\n      <td>18.0</td>\n      <td>1</td>\n      <td>18.0</td>\n      <td>NaN</td>\n      <td>NaN</td>\n    </tr>\n    <tr>\n      <th>17173</th>\n      <td>30747</td>\n      <td>2016-12-22</td>\n      <td>1900-01-01 12:51:14</td>\n      <td>menu</td>\n      <td>finger</td>\n      <td>finger</td>\n      <td>inactivo</td>\n      <td>1.0</td>\n      <td>1</td>\n      <td>1.0</td>\n      <td>...</td>\n      <td>NaN</td>\n      <td>Ninguna</td>\n      <td>False</td>\n      <td>False</td>\n      <td>en sala-sin mesa</td>\n      <td>1.0</td>\n      <td>1</td>\n      <td>1.0</td>\n      <td>NaN</td>\n      <td>NaN</td>\n    </tr>\n    <tr>\n      <th>18676</th>\n      <td>32662</td>\n      <td>2017-01-06</td>\n      <td>1900-01-01 12:29:28</td>\n      <td>menu</td>\n      <td>fingers</td>\n      <td>fingers miel</td>\n      <td>activo</td>\n      <td>22.0</td>\n      <td>1</td>\n      <td>22.0</td>\n      <td>...</td>\n      <td>NaN</td>\n      <td>Ninguna</td>\n      <td>False</td>\n      <td>False</td>\n      <td>en sala-sin mesa</td>\n      <td>22.0</td>\n      <td>1</td>\n      <td>22.0</td>\n      <td>NaN</td>\n      <td>NaN</td>\n    </tr>\n    <tr>\n      <th>18677</th>\n      <td>32662</td>\n      <td>2017-01-06</td>\n      <td>1900-01-01 12:29:28</td>\n      <td>menu</td>\n      <td>platos</td>\n      <td>chili mexic</td>\n      <td>activo</td>\n      <td>18.0</td>\n      <td>1</td>\n      <td>18.0</td>\n      <td>...</td>\n      <td>NaN</td>\n      <td>Ninguna</td>\n      <td>False</td>\n      <td>False</td>\n      <td>en sala-sin mesa</td>\n      <td>18.0</td>\n      <td>1</td>\n      <td>18.0</td>\n      <td>NaN</td>\n      <td>NaN</td>\n    </tr>\n    <tr>\n      <th>18678</th>\n      <td>32662</td>\n      <td>2017-01-06</td>\n      <td>1900-01-01 12:29:28</td>\n      <td>menu</td>\n      <td>finger</td>\n      <td>finger</td>\n      <td>inactivo</td>\n      <td>1.0</td>\n      <td>1</td>\n      <td>1.0</td>\n      <td>...</td>\n      <td>NaN</td>\n      <td>Ninguna</td>\n      <td>False</td>\n      <td>False</td>\n      <td>en sala-sin mesa</td>\n      <td>1.0</td>\n      <td>1</td>\n      <td>1.0</td>\n      <td>NaN</td>\n      <td>NaN</td>\n    </tr>\n  </tbody>\n</table>\n<p>20 rows × 27 columns</p>\n</div>"
     },
     "execution_count": 202,
     "metadata": {},
     "output_type": "execute_result"
    }
   ],
   "execution_count": 202
  },
  {
   "cell_type": "markdown",
   "id": "7337ddccf05f9292",
   "metadata": {},
   "source": [
    "Reviewing classification as 'product' with 'pollo a la canasta'\n",
    "\n",
    "when price equal to 1, quantity reflects the real price  "
   ]
  },
  {
   "cell_type": "code",
   "id": "7c989c772798c8bf",
   "metadata": {
    "ExecuteTime": {
     "end_time": "2024-07-03T20:44:18.160486700Z",
     "start_time": "2024-07-03T20:44:16.849135800Z"
    }
   },
   "source": [
    "resta_df_m[resta_df_m['price']==1].groupby(['classification', 'product']).max()"
   ],
   "outputs": [
    {
     "data": {
      "text/plain": "                                   order_id system_date                time   \nclassification product                                                        \nfinger         finger                281313  2018-11-21 1900-01-01 22:01:18  \\\nproduct        pollo a la canasta    301877  2019-01-16 1900-01-01 22:57:57   \n\n                                  group_classifier prod_state  price   \nclassification product                                                 \nfinger         finger                         menu   inactivo    1.0  \\\nproduct        pollo a la canasta             menu     activo    1.0   \n\n                                   quantity  to_pay_xprod  tot_order_payment   \nclassification product                                                         \nfinger         finger                     1           1.0              100.0  \\\nproduct        pollo a la canasta        25          25.0              139.0   \n\n                                  product_observations  ...   \nclassification product                                  ...   \nfinger         finger                          Ninguna  ...  \\\nproduct        pollo a la canasta      media de finger  ...   \n\n                                   modification_date  modification_reason   \nclassification product                                                      \nfinger         finger                            NaN              Ninguna  \\\nproduct        pollo a la canasta                NaN              Ninguna   \n\n                                   is_cancelled is_courtesy   order_type   \nclassification product                                                     \nfinger         finger                     False       False  para llevar  \\\nproduct        pollo a la canasta         False       False  para llevar   \n\n                                  price_alt quantity_alt to_pay_xprod_alt   \nclassification product                                                      \nfinger         finger                   1.0            1              1.0  \\\nproduct        pollo a la canasta       1.0           25             25.0   \n\n                                  delivery_name_new delivery_cost_new  \nclassification product                                                 \nfinger         finger                           NaN               NaN  \nproduct        pollo a la canasta               NaN               NaN  \n\n[2 rows x 25 columns]",
      "text/html": "<div>\n<style scoped>\n    .dataframe tbody tr th:only-of-type {\n        vertical-align: middle;\n    }\n\n    .dataframe tbody tr th {\n        vertical-align: top;\n    }\n\n    .dataframe thead th {\n        text-align: right;\n    }\n</style>\n<table border=\"1\" class=\"dataframe\">\n  <thead>\n    <tr style=\"text-align: right;\">\n      <th></th>\n      <th></th>\n      <th>order_id</th>\n      <th>system_date</th>\n      <th>time</th>\n      <th>group_classifier</th>\n      <th>prod_state</th>\n      <th>price</th>\n      <th>quantity</th>\n      <th>to_pay_xprod</th>\n      <th>tot_order_payment</th>\n      <th>product_observations</th>\n      <th>...</th>\n      <th>modification_date</th>\n      <th>modification_reason</th>\n      <th>is_cancelled</th>\n      <th>is_courtesy</th>\n      <th>order_type</th>\n      <th>price_alt</th>\n      <th>quantity_alt</th>\n      <th>to_pay_xprod_alt</th>\n      <th>delivery_name_new</th>\n      <th>delivery_cost_new</th>\n    </tr>\n    <tr>\n      <th>classification</th>\n      <th>product</th>\n      <th></th>\n      <th></th>\n      <th></th>\n      <th></th>\n      <th></th>\n      <th></th>\n      <th></th>\n      <th></th>\n      <th></th>\n      <th></th>\n      <th></th>\n      <th></th>\n      <th></th>\n      <th></th>\n      <th></th>\n      <th></th>\n      <th></th>\n      <th></th>\n      <th></th>\n      <th></th>\n      <th></th>\n    </tr>\n  </thead>\n  <tbody>\n    <tr>\n      <th>finger</th>\n      <th>finger</th>\n      <td>281313</td>\n      <td>2018-11-21</td>\n      <td>1900-01-01 22:01:18</td>\n      <td>menu</td>\n      <td>inactivo</td>\n      <td>1.0</td>\n      <td>1</td>\n      <td>1.0</td>\n      <td>100.0</td>\n      <td>Ninguna</td>\n      <td>...</td>\n      <td>NaN</td>\n      <td>Ninguna</td>\n      <td>False</td>\n      <td>False</td>\n      <td>para llevar</td>\n      <td>1.0</td>\n      <td>1</td>\n      <td>1.0</td>\n      <td>NaN</td>\n      <td>NaN</td>\n    </tr>\n    <tr>\n      <th>product</th>\n      <th>pollo a la canasta</th>\n      <td>301877</td>\n      <td>2019-01-16</td>\n      <td>1900-01-01 22:57:57</td>\n      <td>menu</td>\n      <td>activo</td>\n      <td>1.0</td>\n      <td>25</td>\n      <td>25.0</td>\n      <td>139.0</td>\n      <td>media de finger</td>\n      <td>...</td>\n      <td>NaN</td>\n      <td>Ninguna</td>\n      <td>False</td>\n      <td>False</td>\n      <td>para llevar</td>\n      <td>1.0</td>\n      <td>25</td>\n      <td>25.0</td>\n      <td>NaN</td>\n      <td>NaN</td>\n    </tr>\n  </tbody>\n</table>\n<p>2 rows × 25 columns</p>\n</div>"
     },
     "execution_count": 203,
     "metadata": {},
     "output_type": "execute_result"
    }
   ],
   "execution_count": 203
  },
  {
   "cell_type": "code",
   "id": "c1e5b2b56cfe7e4b",
   "metadata": {
    "ExecuteTime": {
     "end_time": "2024-07-03T20:44:18.327056Z",
     "start_time": "2024-07-03T20:44:16.892749100Z"
    }
   },
   "source": [
    "resta_df_m['product'].loc[resta_df_m['classification']=='product'].value_counts()"
   ],
   "outputs": [
    {
     "data": {
      "text/plain": "product\nsalsa picante             8460\npapas adicionales         3536\nsalsa miel mostaza        3439\nsalsa barbacoa            3232\nsalsa albahaca            2905\npollo a la canasta        2759\nsalsa queso               1309\ndel valle 1 ltr           1271\nchicken bites              740\nsalsa jack                 650\nsalsa picosa               638\nsalsa teriyaki             538\nsalsa toxica               526\npromo octubre              165\nalitas 24 unidades          39\nalitas 32 unidades          37\ncoffe bbq                   31\ncoca 500cc                  19\npromo 21 de septiembre      17\ncombo duo                    8\nName: count, dtype: int64"
     },
     "execution_count": 204,
     "metadata": {},
     "output_type": "execute_result"
    }
   ],
   "execution_count": 204
  },
  {
   "cell_type": "code",
   "id": "b7789940d3663f04",
   "metadata": {
    "ExecuteTime": {
     "end_time": "2024-07-03T20:44:18.515360600Z",
     "start_time": "2024-07-03T20:44:17.070710600Z"
    }
   },
   "source": [
    "resta_df_m[(resta_df_m['product']=='pollo a la canasta')&(resta_df_m['classification']=='product')&(resta_df_m['price_alt']==1)] "
   ],
   "outputs": [
    {
     "data": {
      "text/plain": "        order_id system_date                time group_classifier   \n29384      56236  2017-03-29 1900-01-01 19:32:55             menu  \\\n29392      56238  2017-03-29 1900-01-01 19:37:01             menu   \n29414      56247  2017-03-29 1900-01-01 20:07:30             menu   \n29419      56249  2017-03-29 1900-01-01 20:13:23             menu   \n29424      56251  2017-03-29 1900-01-01 20:14:52             menu   \n29435      56256  2017-03-29 1900-01-01 20:51:11             menu   \n29438      56258  2017-03-29 1900-01-01 20:57:32             menu   \n29440      56259  2017-03-29 1900-01-01 21:00:43             menu   \n34356      62525  2017-05-03 1900-01-01 20:38:39             menu   \n41690      77281  2017-06-25 1900-01-01 15:23:06             menu   \n48579      86368  2017-08-01 1900-01-01 21:31:15             menu   \n49334      86771  2017-08-04 1900-01-01 22:57:57             menu   \n95078     175631  2018-04-05 1900-01-01 19:06:19             menu   \n95142     175660  2018-04-05 1900-01-01 20:36:00             menu   \n154836    281312  2018-11-21 1900-01-01 14:55:49             menu   \n166551    297240  2019-01-02 1900-01-01 20:26:05             menu   \n170116    300017  2019-01-14 1900-01-01 15:07:04             menu   \n170394    300917  2019-01-15 1900-01-01 14:01:29             menu   \n170621    301877  2019-01-16 1900-01-01 13:00:24             menu   \n\n       classification             product prod_state  price  quantity   \n29384         product  pollo a la canasta     activo    1.0         5  \\\n29392         product  pollo a la canasta     activo    1.0        10   \n29414         product  pollo a la canasta     activo    1.0         5   \n29419         product  pollo a la canasta     activo    1.0         5   \n29424         product  pollo a la canasta     activo    1.0         5   \n29435         product  pollo a la canasta     activo    1.0         5   \n29438         product  pollo a la canasta     activo    1.0         5   \n29440         product  pollo a la canasta     activo    1.0         5   \n34356         product  pollo a la canasta     activo    1.0         1   \n41690         product  pollo a la canasta     activo    1.0         2   \n48579         product  pollo a la canasta     activo    1.0        25   \n49334         product  pollo a la canasta     activo    1.0        11   \n95078         product  pollo a la canasta     activo    1.0         2   \n95142         product  pollo a la canasta     activo    1.0        10   \n154836        product  pollo a la canasta     activo    1.0         1   \n166551        product  pollo a la canasta     activo    1.0         9   \n170116        product  pollo a la canasta     activo    1.0         2   \n170394        product  pollo a la canasta     activo    1.0         2   \n170621        product  pollo a la canasta     activo    1.0         7   \n\n        to_pay_xprod  ...  modification_date modification_reason   \n29384            5.0  ...                NaN             Ninguna  \\\n29392           10.0  ...                NaN             Ninguna   \n29414            5.0  ...                NaN             Ninguna   \n29419            5.0  ...                NaN             Ninguna   \n29424            5.0  ...                NaN             Ninguna   \n29435            5.0  ...                NaN             Ninguna   \n29438            5.0  ...                NaN             Ninguna   \n29440            5.0  ...                NaN             Ninguna   \n34356            1.0  ...                NaN             Ninguna   \n41690            2.0  ...                NaN             Ninguna   \n48579           25.0  ...                NaN             Ninguna   \n49334           11.0  ...                NaN             Ninguna   \n95078            2.0  ...                NaN             Ninguna   \n95142           10.0  ...                NaN             Ninguna   \n154836           1.0  ...                NaN             Ninguna   \n166551           9.0  ...                NaN             Ninguna   \n170116           2.0  ...                NaN             Ninguna   \n170394           2.0  ...                NaN             Ninguna   \n170621           7.0  ...                NaN             Ninguna   \n\n        is_cancelled  is_courtesy        order_type price_alt  quantity_alt   \n29384          False        False  en sala-sin mesa       1.0             5  \\\n29392          False        False  en sala-sin mesa       1.0            10   \n29414          False        False  en sala-sin mesa       1.0             5   \n29419          False        False  en sala-sin mesa       1.0             5   \n29424          False        False       para llevar       1.0             5   \n29435          False        False  en sala-sin mesa       1.0             5   \n29438          False        False  en sala-sin mesa       1.0             5   \n29440          False        False  en sala-sin mesa       1.0             5   \n34356          False        False  en sala-sin mesa       1.0             1   \n41690          False        False  en sala-sin mesa       1.0             2   \n48579          False        False  en sala-sin mesa       1.0            25   \n49334          False        False  en sala-sin mesa       1.0            11   \n95078          False        False       para llevar       1.0             2   \n95142          False        False       para llevar       1.0            10   \n154836         False        False  en sala-con mesa       1.0             1   \n166551         False        False       para llevar       1.0             9   \n170116         False        False  en sala-sin mesa       1.0             2   \n170394         False        False  en sala-sin mesa       1.0             2   \n170621         False        False       para llevar       1.0             7   \n\n       to_pay_xprod_alt delivery_name_new delivery_cost_new  \n29384               5.0               NaN               NaN  \n29392              10.0               NaN               NaN  \n29414               5.0               NaN               NaN  \n29419               5.0               NaN               NaN  \n29424               5.0               NaN               NaN  \n29435               5.0               NaN               NaN  \n29438               5.0               NaN               NaN  \n29440               5.0               NaN               NaN  \n34356               1.0               NaN               NaN  \n41690               2.0               NaN               NaN  \n48579              25.0               NaN               NaN  \n49334              11.0               NaN               NaN  \n95078               2.0               NaN               NaN  \n95142              10.0               NaN               NaN  \n154836              1.0               NaN               NaN  \n166551              9.0               NaN               NaN  \n170116              2.0               NaN               NaN  \n170394              2.0               NaN               NaN  \n170621              7.0               NaN               NaN  \n\n[19 rows x 27 columns]",
      "text/html": "<div>\n<style scoped>\n    .dataframe tbody tr th:only-of-type {\n        vertical-align: middle;\n    }\n\n    .dataframe tbody tr th {\n        vertical-align: top;\n    }\n\n    .dataframe thead th {\n        text-align: right;\n    }\n</style>\n<table border=\"1\" class=\"dataframe\">\n  <thead>\n    <tr style=\"text-align: right;\">\n      <th></th>\n      <th>order_id</th>\n      <th>system_date</th>\n      <th>time</th>\n      <th>group_classifier</th>\n      <th>classification</th>\n      <th>product</th>\n      <th>prod_state</th>\n      <th>price</th>\n      <th>quantity</th>\n      <th>to_pay_xprod</th>\n      <th>...</th>\n      <th>modification_date</th>\n      <th>modification_reason</th>\n      <th>is_cancelled</th>\n      <th>is_courtesy</th>\n      <th>order_type</th>\n      <th>price_alt</th>\n      <th>quantity_alt</th>\n      <th>to_pay_xprod_alt</th>\n      <th>delivery_name_new</th>\n      <th>delivery_cost_new</th>\n    </tr>\n  </thead>\n  <tbody>\n    <tr>\n      <th>29384</th>\n      <td>56236</td>\n      <td>2017-03-29</td>\n      <td>1900-01-01 19:32:55</td>\n      <td>menu</td>\n      <td>product</td>\n      <td>pollo a la canasta</td>\n      <td>activo</td>\n      <td>1.0</td>\n      <td>5</td>\n      <td>5.0</td>\n      <td>...</td>\n      <td>NaN</td>\n      <td>Ninguna</td>\n      <td>False</td>\n      <td>False</td>\n      <td>en sala-sin mesa</td>\n      <td>1.0</td>\n      <td>5</td>\n      <td>5.0</td>\n      <td>NaN</td>\n      <td>NaN</td>\n    </tr>\n    <tr>\n      <th>29392</th>\n      <td>56238</td>\n      <td>2017-03-29</td>\n      <td>1900-01-01 19:37:01</td>\n      <td>menu</td>\n      <td>product</td>\n      <td>pollo a la canasta</td>\n      <td>activo</td>\n      <td>1.0</td>\n      <td>10</td>\n      <td>10.0</td>\n      <td>...</td>\n      <td>NaN</td>\n      <td>Ninguna</td>\n      <td>False</td>\n      <td>False</td>\n      <td>en sala-sin mesa</td>\n      <td>1.0</td>\n      <td>10</td>\n      <td>10.0</td>\n      <td>NaN</td>\n      <td>NaN</td>\n    </tr>\n    <tr>\n      <th>29414</th>\n      <td>56247</td>\n      <td>2017-03-29</td>\n      <td>1900-01-01 20:07:30</td>\n      <td>menu</td>\n      <td>product</td>\n      <td>pollo a la canasta</td>\n      <td>activo</td>\n      <td>1.0</td>\n      <td>5</td>\n      <td>5.0</td>\n      <td>...</td>\n      <td>NaN</td>\n      <td>Ninguna</td>\n      <td>False</td>\n      <td>False</td>\n      <td>en sala-sin mesa</td>\n      <td>1.0</td>\n      <td>5</td>\n      <td>5.0</td>\n      <td>NaN</td>\n      <td>NaN</td>\n    </tr>\n    <tr>\n      <th>29419</th>\n      <td>56249</td>\n      <td>2017-03-29</td>\n      <td>1900-01-01 20:13:23</td>\n      <td>menu</td>\n      <td>product</td>\n      <td>pollo a la canasta</td>\n      <td>activo</td>\n      <td>1.0</td>\n      <td>5</td>\n      <td>5.0</td>\n      <td>...</td>\n      <td>NaN</td>\n      <td>Ninguna</td>\n      <td>False</td>\n      <td>False</td>\n      <td>en sala-sin mesa</td>\n      <td>1.0</td>\n      <td>5</td>\n      <td>5.0</td>\n      <td>NaN</td>\n      <td>NaN</td>\n    </tr>\n    <tr>\n      <th>29424</th>\n      <td>56251</td>\n      <td>2017-03-29</td>\n      <td>1900-01-01 20:14:52</td>\n      <td>menu</td>\n      <td>product</td>\n      <td>pollo a la canasta</td>\n      <td>activo</td>\n      <td>1.0</td>\n      <td>5</td>\n      <td>5.0</td>\n      <td>...</td>\n      <td>NaN</td>\n      <td>Ninguna</td>\n      <td>False</td>\n      <td>False</td>\n      <td>para llevar</td>\n      <td>1.0</td>\n      <td>5</td>\n      <td>5.0</td>\n      <td>NaN</td>\n      <td>NaN</td>\n    </tr>\n    <tr>\n      <th>29435</th>\n      <td>56256</td>\n      <td>2017-03-29</td>\n      <td>1900-01-01 20:51:11</td>\n      <td>menu</td>\n      <td>product</td>\n      <td>pollo a la canasta</td>\n      <td>activo</td>\n      <td>1.0</td>\n      <td>5</td>\n      <td>5.0</td>\n      <td>...</td>\n      <td>NaN</td>\n      <td>Ninguna</td>\n      <td>False</td>\n      <td>False</td>\n      <td>en sala-sin mesa</td>\n      <td>1.0</td>\n      <td>5</td>\n      <td>5.0</td>\n      <td>NaN</td>\n      <td>NaN</td>\n    </tr>\n    <tr>\n      <th>29438</th>\n      <td>56258</td>\n      <td>2017-03-29</td>\n      <td>1900-01-01 20:57:32</td>\n      <td>menu</td>\n      <td>product</td>\n      <td>pollo a la canasta</td>\n      <td>activo</td>\n      <td>1.0</td>\n      <td>5</td>\n      <td>5.0</td>\n      <td>...</td>\n      <td>NaN</td>\n      <td>Ninguna</td>\n      <td>False</td>\n      <td>False</td>\n      <td>en sala-sin mesa</td>\n      <td>1.0</td>\n      <td>5</td>\n      <td>5.0</td>\n      <td>NaN</td>\n      <td>NaN</td>\n    </tr>\n    <tr>\n      <th>29440</th>\n      <td>56259</td>\n      <td>2017-03-29</td>\n      <td>1900-01-01 21:00:43</td>\n      <td>menu</td>\n      <td>product</td>\n      <td>pollo a la canasta</td>\n      <td>activo</td>\n      <td>1.0</td>\n      <td>5</td>\n      <td>5.0</td>\n      <td>...</td>\n      <td>NaN</td>\n      <td>Ninguna</td>\n      <td>False</td>\n      <td>False</td>\n      <td>en sala-sin mesa</td>\n      <td>1.0</td>\n      <td>5</td>\n      <td>5.0</td>\n      <td>NaN</td>\n      <td>NaN</td>\n    </tr>\n    <tr>\n      <th>34356</th>\n      <td>62525</td>\n      <td>2017-05-03</td>\n      <td>1900-01-01 20:38:39</td>\n      <td>menu</td>\n      <td>product</td>\n      <td>pollo a la canasta</td>\n      <td>activo</td>\n      <td>1.0</td>\n      <td>1</td>\n      <td>1.0</td>\n      <td>...</td>\n      <td>NaN</td>\n      <td>Ninguna</td>\n      <td>False</td>\n      <td>False</td>\n      <td>en sala-sin mesa</td>\n      <td>1.0</td>\n      <td>1</td>\n      <td>1.0</td>\n      <td>NaN</td>\n      <td>NaN</td>\n    </tr>\n    <tr>\n      <th>41690</th>\n      <td>77281</td>\n      <td>2017-06-25</td>\n      <td>1900-01-01 15:23:06</td>\n      <td>menu</td>\n      <td>product</td>\n      <td>pollo a la canasta</td>\n      <td>activo</td>\n      <td>1.0</td>\n      <td>2</td>\n      <td>2.0</td>\n      <td>...</td>\n      <td>NaN</td>\n      <td>Ninguna</td>\n      <td>False</td>\n      <td>False</td>\n      <td>en sala-sin mesa</td>\n      <td>1.0</td>\n      <td>2</td>\n      <td>2.0</td>\n      <td>NaN</td>\n      <td>NaN</td>\n    </tr>\n    <tr>\n      <th>48579</th>\n      <td>86368</td>\n      <td>2017-08-01</td>\n      <td>1900-01-01 21:31:15</td>\n      <td>menu</td>\n      <td>product</td>\n      <td>pollo a la canasta</td>\n      <td>activo</td>\n      <td>1.0</td>\n      <td>25</td>\n      <td>25.0</td>\n      <td>...</td>\n      <td>NaN</td>\n      <td>Ninguna</td>\n      <td>False</td>\n      <td>False</td>\n      <td>en sala-sin mesa</td>\n      <td>1.0</td>\n      <td>25</td>\n      <td>25.0</td>\n      <td>NaN</td>\n      <td>NaN</td>\n    </tr>\n    <tr>\n      <th>49334</th>\n      <td>86771</td>\n      <td>2017-08-04</td>\n      <td>1900-01-01 22:57:57</td>\n      <td>menu</td>\n      <td>product</td>\n      <td>pollo a la canasta</td>\n      <td>activo</td>\n      <td>1.0</td>\n      <td>11</td>\n      <td>11.0</td>\n      <td>...</td>\n      <td>NaN</td>\n      <td>Ninguna</td>\n      <td>False</td>\n      <td>False</td>\n      <td>en sala-sin mesa</td>\n      <td>1.0</td>\n      <td>11</td>\n      <td>11.0</td>\n      <td>NaN</td>\n      <td>NaN</td>\n    </tr>\n    <tr>\n      <th>95078</th>\n      <td>175631</td>\n      <td>2018-04-05</td>\n      <td>1900-01-01 19:06:19</td>\n      <td>menu</td>\n      <td>product</td>\n      <td>pollo a la canasta</td>\n      <td>activo</td>\n      <td>1.0</td>\n      <td>2</td>\n      <td>2.0</td>\n      <td>...</td>\n      <td>NaN</td>\n      <td>Ninguna</td>\n      <td>False</td>\n      <td>False</td>\n      <td>para llevar</td>\n      <td>1.0</td>\n      <td>2</td>\n      <td>2.0</td>\n      <td>NaN</td>\n      <td>NaN</td>\n    </tr>\n    <tr>\n      <th>95142</th>\n      <td>175660</td>\n      <td>2018-04-05</td>\n      <td>1900-01-01 20:36:00</td>\n      <td>menu</td>\n      <td>product</td>\n      <td>pollo a la canasta</td>\n      <td>activo</td>\n      <td>1.0</td>\n      <td>10</td>\n      <td>10.0</td>\n      <td>...</td>\n      <td>NaN</td>\n      <td>Ninguna</td>\n      <td>False</td>\n      <td>False</td>\n      <td>para llevar</td>\n      <td>1.0</td>\n      <td>10</td>\n      <td>10.0</td>\n      <td>NaN</td>\n      <td>NaN</td>\n    </tr>\n    <tr>\n      <th>154836</th>\n      <td>281312</td>\n      <td>2018-11-21</td>\n      <td>1900-01-01 14:55:49</td>\n      <td>menu</td>\n      <td>product</td>\n      <td>pollo a la canasta</td>\n      <td>activo</td>\n      <td>1.0</td>\n      <td>1</td>\n      <td>1.0</td>\n      <td>...</td>\n      <td>NaN</td>\n      <td>Ninguna</td>\n      <td>False</td>\n      <td>False</td>\n      <td>en sala-con mesa</td>\n      <td>1.0</td>\n      <td>1</td>\n      <td>1.0</td>\n      <td>NaN</td>\n      <td>NaN</td>\n    </tr>\n    <tr>\n      <th>166551</th>\n      <td>297240</td>\n      <td>2019-01-02</td>\n      <td>1900-01-01 20:26:05</td>\n      <td>menu</td>\n      <td>product</td>\n      <td>pollo a la canasta</td>\n      <td>activo</td>\n      <td>1.0</td>\n      <td>9</td>\n      <td>9.0</td>\n      <td>...</td>\n      <td>NaN</td>\n      <td>Ninguna</td>\n      <td>False</td>\n      <td>False</td>\n      <td>para llevar</td>\n      <td>1.0</td>\n      <td>9</td>\n      <td>9.0</td>\n      <td>NaN</td>\n      <td>NaN</td>\n    </tr>\n    <tr>\n      <th>170116</th>\n      <td>300017</td>\n      <td>2019-01-14</td>\n      <td>1900-01-01 15:07:04</td>\n      <td>menu</td>\n      <td>product</td>\n      <td>pollo a la canasta</td>\n      <td>activo</td>\n      <td>1.0</td>\n      <td>2</td>\n      <td>2.0</td>\n      <td>...</td>\n      <td>NaN</td>\n      <td>Ninguna</td>\n      <td>False</td>\n      <td>False</td>\n      <td>en sala-sin mesa</td>\n      <td>1.0</td>\n      <td>2</td>\n      <td>2.0</td>\n      <td>NaN</td>\n      <td>NaN</td>\n    </tr>\n    <tr>\n      <th>170394</th>\n      <td>300917</td>\n      <td>2019-01-15</td>\n      <td>1900-01-01 14:01:29</td>\n      <td>menu</td>\n      <td>product</td>\n      <td>pollo a la canasta</td>\n      <td>activo</td>\n      <td>1.0</td>\n      <td>2</td>\n      <td>2.0</td>\n      <td>...</td>\n      <td>NaN</td>\n      <td>Ninguna</td>\n      <td>False</td>\n      <td>False</td>\n      <td>en sala-sin mesa</td>\n      <td>1.0</td>\n      <td>2</td>\n      <td>2.0</td>\n      <td>NaN</td>\n      <td>NaN</td>\n    </tr>\n    <tr>\n      <th>170621</th>\n      <td>301877</td>\n      <td>2019-01-16</td>\n      <td>1900-01-01 13:00:24</td>\n      <td>menu</td>\n      <td>product</td>\n      <td>pollo a la canasta</td>\n      <td>activo</td>\n      <td>1.0</td>\n      <td>7</td>\n      <td>7.0</td>\n      <td>...</td>\n      <td>NaN</td>\n      <td>Ninguna</td>\n      <td>False</td>\n      <td>False</td>\n      <td>para llevar</td>\n      <td>1.0</td>\n      <td>7</td>\n      <td>7.0</td>\n      <td>NaN</td>\n      <td>NaN</td>\n    </tr>\n  </tbody>\n</table>\n<p>19 rows × 27 columns</p>\n</div>"
     },
     "execution_count": 205,
     "metadata": {},
     "output_type": "execute_result"
    }
   ],
   "execution_count": 205
  },
  {
   "cell_type": "code",
   "id": "bc7ce63d1fef34a8",
   "metadata": {
    "ExecuteTime": {
     "end_time": "2024-07-03T20:44:18.628843100Z",
     "start_time": "2024-07-03T20:44:17.274522700Z"
    }
   },
   "source": [
    "mask_pollo= (resta_df_m['product']=='pollo a la canasta')&(resta_df_m['classification']=='product')&(resta_df_m['price']==1)"
   ],
   "outputs": [],
   "execution_count": 206
  },
  {
   "cell_type": "code",
   "id": "fa81dfa474f086b",
   "metadata": {
    "ExecuteTime": {
     "end_time": "2024-07-03T20:44:18.629801500Z",
     "start_time": "2024-07-03T20:44:17.409416400Z"
    }
   },
   "source": [
    "#Modifying price with quantity \n",
    "resta_df_m.loc[mask_pollo, 'price'] = resta_df_m['quantity_alt']"
   ],
   "outputs": [],
   "execution_count": 207
  },
  {
   "cell_type": "code",
   "id": "a0d37678d655b73b",
   "metadata": {
    "ExecuteTime": {
     "end_time": "2024-07-03T20:44:18.629801500Z",
     "start_time": "2024-07-03T20:44:17.509619700Z"
    }
   },
   "source": [
    "mask_pollo_alt= (resta_df_m['product']=='pollo a la canasta')&(resta_df_m['classification']=='product')&(resta_df_m['price_alt']==1)"
   ],
   "outputs": [],
   "execution_count": 208
  },
  {
   "cell_type": "code",
   "id": "4ccf4b6ce0a9c0e5",
   "metadata": {
    "ExecuteTime": {
     "end_time": "2024-07-03T20:44:18.629801500Z",
     "start_time": "2024-07-03T20:44:17.702114900Z"
    }
   },
   "source": [
    "resta_df_m.loc[mask_pollo_alt, 'quantity'] = 1"
   ],
   "outputs": [],
   "execution_count": 209
  },
  {
   "cell_type": "markdown",
   "id": "47c7cfc7ab293702",
   "metadata": {},
   "source": [
    "## Analyzing categories and menus"
   ]
  },
  {
   "cell_type": "code",
   "id": "c7c20f55363367f3",
   "metadata": {
    "ExecuteTime": {
     "end_time": "2024-07-03T20:44:18.800293900Z",
     "start_time": "2024-07-03T20:44:17.767341500Z"
    }
   },
   "source": [
    "resta_df_m.columns"
   ],
   "outputs": [
    {
     "data": {
      "text/plain": "Index(['order_id', 'system_date', 'time', 'group_classifier', 'classification',\n       'product', 'prod_state', 'price', 'quantity', 'to_pay_xprod',\n       'tot_order_payment', 'product_observations', 'amount', 'customer_pay',\n       'change', 'location', 'order_number', 'modification_date',\n       'modification_reason', 'is_cancelled', 'is_courtesy', 'order_type',\n       'price_alt', 'quantity_alt', 'to_pay_xprod_alt', 'delivery_name_new',\n       'delivery_cost_new'],\n      dtype='object')"
     },
     "execution_count": 210,
     "metadata": {},
     "output_type": "execute_result"
    }
   ],
   "execution_count": 210
  },
  {
   "cell_type": "code",
   "id": "3f9f07e6b59fdd26",
   "metadata": {
    "ExecuteTime": {
     "end_time": "2024-07-03T20:44:19.434124600Z",
     "start_time": "2024-07-03T20:44:17.893748300Z"
    }
   },
   "source": [
    "resta_df_m['group_classifier'].unique()"
   ],
   "outputs": [
    {
     "data": {
      "text/plain": "array(['menu', 'bebidas', 'otros'], dtype=object)"
     },
     "execution_count": 211,
     "metadata": {},
     "output_type": "execute_result"
    }
   ],
   "execution_count": 211
  },
  {
   "cell_type": "code",
   "id": "d85199eeaf6e5b4",
   "metadata": {
    "ExecuteTime": {
     "end_time": "2024-07-03T20:44:19.698622800Z",
     "start_time": "2024-07-03T20:44:18.018206100Z"
    }
   },
   "source": [
    "resta_df_m.loc[resta_df_m['group_classifier']=='menu','classification'].value_counts()"
   ],
   "outputs": [
    {
     "data": {
      "text/plain": "classification\nalitas 8 unidades            102398\nalitas 6 unidades  26 bs      59722\nfingers                       44933\nalitas 4 unidades   19 bs     29276\nburguers                      26579\nsalchis                       24637\nalitas 12 unidades            16310\nsandwiches                    12925\nalitas 16 unidades            11683\nplatos                        10163\nproduct                        3765\ncombos                         2484\nalmuerzos                      1814\nfingers 6 unid                 1650\nalitas 24 unidades              919\ngusto                           780\nfingers 12 unid                 649\nalitas 32 unidades              590\nfingers 8 unid                  513\npromocion                       358\npostres                         332\npollo a la canasta              249\nfinger                          232\ndesconocida                     143\nh4mburgu cl4sic                  54\npromo trio 21 sep                43\ncombo paceñisimo                 18\ncombo papa                       17\nreto wings                        3\ncombo patriota                    1\nName: count, dtype: int64"
     },
     "execution_count": 212,
     "metadata": {},
     "output_type": "execute_result"
    }
   ],
   "execution_count": 212
  },
  {
   "cell_type": "code",
   "id": "5b627be27ca271f5",
   "metadata": {
    "ExecuteTime": {
     "end_time": "2024-07-03T20:44:19.700457700Z",
     "start_time": "2024-07-03T20:44:18.180516600Z"
    }
   },
   "source": [
    "resta_df_m.loc[resta_df_m['group_classifier']=='bebidas','classification'].value_counts()"
   ],
   "outputs": [
    {
     "data": {
      "text/plain": "classification\npersonal         39167\npopular          23895\n1 lt             12617\njugos - aguas    11646\nfrutal valle      8285\n2 lt              7935\njarras            2230\nproduct           1290\nName: count, dtype: int64"
     },
     "execution_count": 213,
     "metadata": {},
     "output_type": "execute_result"
    }
   ],
   "execution_count": 213
  },
  {
   "cell_type": "code",
   "id": "3abf961cfdb89161",
   "metadata": {
    "ExecuteTime": {
     "end_time": "2024-07-03T20:44:19.782659300Z",
     "start_time": "2024-07-03T20:44:18.275605100Z"
    }
   },
   "source": [
    "resta_df_m.loc[resta_df_m['group_classifier']=='otros','classification'].value_counts()"
   ],
   "outputs": [
    {
     "data": {
      "text/plain": "classification\nproduct    25264\nName: count, dtype: int64"
     },
     "execution_count": 214,
     "metadata": {},
     "output_type": "execute_result"
    }
   ],
   "execution_count": 214
  },
  {
   "cell_type": "markdown",
   "id": "ed7966da",
   "metadata": {},
   "source": [
    "## Cleaning values"
   ]
  },
  {
   "cell_type": "markdown",
   "id": "436a15c3",
   "metadata": {},
   "source": [
    "### Analysis of 'classification'\n",
    "\n",
    "- There are classification products that have 'XX Bs', this has to be deleted"
   ]
  },
  {
   "cell_type": "code",
   "id": "c477fd8d",
   "metadata": {
    "ExecuteTime": {
     "end_time": "2024-07-03T20:44:19.788323500Z",
     "start_time": "2024-07-03T20:44:18.391491Z"
    }
   },
   "source": [
    "resta_df_m.columns"
   ],
   "outputs": [
    {
     "data": {
      "text/plain": "Index(['order_id', 'system_date', 'time', 'group_classifier', 'classification',\n       'product', 'prod_state', 'price', 'quantity', 'to_pay_xprod',\n       'tot_order_payment', 'product_observations', 'amount', 'customer_pay',\n       'change', 'location', 'order_number', 'modification_date',\n       'modification_reason', 'is_cancelled', 'is_courtesy', 'order_type',\n       'price_alt', 'quantity_alt', 'to_pay_xprod_alt', 'delivery_name_new',\n       'delivery_cost_new'],\n      dtype='object')"
     },
     "execution_count": 215,
     "metadata": {},
     "output_type": "execute_result"
    }
   ],
   "execution_count": 215
  },
  {
   "cell_type": "code",
   "id": "df28fabe",
   "metadata": {
    "ExecuteTime": {
     "end_time": "2024-07-03T20:44:20.608033700Z",
     "start_time": "2024-07-03T20:44:18.470572400Z"
    }
   },
   "source": [
    "resta_df_m['group_classifier'].value_counts()"
   ],
   "outputs": [
    {
     "data": {
      "text/plain": "group_classifier\nmenu       353240\nbebidas    107065\notros       25264\nName: count, dtype: int64"
     },
     "execution_count": 216,
     "metadata": {},
     "output_type": "execute_result"
    }
   ],
   "execution_count": 216
  },
  {
   "cell_type": "code",
   "id": "93c8af56",
   "metadata": {
    "ExecuteTime": {
     "end_time": "2024-07-03T20:44:20.609966700Z",
     "start_time": "2024-07-03T20:44:18.809973300Z"
    }
   },
   "source": [
    "resta_df_m['classification'][resta_df_m['group_classifier']=='menu'].unique()"
   ],
   "outputs": [
    {
     "data": {
      "text/plain": "array(['sandwiches', 'fingers', 'alitas 8 unidades', 'burguers',\n       'salchis', 'platos', 'almuerzos', 'combos', 'finger',\n       'h4mburgu cl4sic', 'postres', 'product', 'reto wings',\n       'promo trio 21 sep', 'alitas 6 unidades  26 bs',\n       'alitas 12 unidades', 'alitas 16 unidades',\n       'alitas 4 unidades   19 bs', 'desconocida', 'combo paceñisimo',\n       'combo patriota', 'pollo a la canasta', 'combo papa',\n       'alitas 24 unidades', 'promocion', 'alitas 32 unidades', 'gusto',\n       'fingers 6 unid', 'fingers 12 unid', 'fingers 8 unid'],\n      dtype=object)"
     },
     "execution_count": 217,
     "metadata": {},
     "output_type": "execute_result"
    }
   ],
   "execution_count": 217
  },
  {
   "cell_type": "code",
   "id": "f95abe59",
   "metadata": {
    "ExecuteTime": {
     "end_time": "2024-07-03T20:44:20.866773200Z",
     "start_time": "2024-07-03T20:44:19.030162Z"
    }
   },
   "source": [
    "# Modification on values that contain 'bs'\n",
    "\n",
    "mask_m_classif_bs = (resta_df_m['group_classifier']=='menu') & (resta_df_m['classification'].str.contains('bs'))\n"
   ],
   "outputs": [],
   "execution_count": 218
  },
  {
   "cell_type": "code",
   "id": "b47a409c",
   "metadata": {
    "ExecuteTime": {
     "end_time": "2024-07-03T20:44:20.966892300Z",
     "start_time": "2024-07-03T20:44:19.298555900Z"
    }
   },
   "source": [
    "resta_df_m['classification'][mask_m_classif_bs].unique()"
   ],
   "outputs": [
    {
     "data": {
      "text/plain": "array(['alitas 6 unidades  26 bs', 'alitas 4 unidades   19 bs'],\n      dtype=object)"
     },
     "execution_count": 219,
     "metadata": {},
     "output_type": "execute_result"
    }
   ],
   "execution_count": 219
  },
  {
   "cell_type": "code",
   "id": "6a2df987",
   "metadata": {
    "ExecuteTime": {
     "end_time": "2024-07-03T20:44:21.425664200Z",
     "start_time": "2024-07-03T20:44:19.379457Z"
    }
   },
   "source": [
    "resta_df_m.loc[resta_df_m['classification']=='alitas 6 unidades  26 bs', 'classification'] = 'alitas 6 unidades'"
   ],
   "outputs": [],
   "execution_count": 220
  },
  {
   "cell_type": "code",
   "id": "a8ea1e07",
   "metadata": {
    "ExecuteTime": {
     "end_time": "2024-07-03T20:44:21.582115900Z",
     "start_time": "2024-07-03T20:44:19.533515500Z"
    }
   },
   "source": [
    "resta_df_m.loc[resta_df_m['classification']=='alitas 4 unidades   19 bs', 'classification'] = 'alitas 4 unidades'"
   ],
   "outputs": [],
   "execution_count": 221
  },
  {
   "cell_type": "code",
   "id": "d038e114",
   "metadata": {
    "ExecuteTime": {
     "end_time": "2024-07-03T20:44:21.582115900Z",
     "start_time": "2024-07-03T20:44:19.705042400Z"
    }
   },
   "source": [],
   "outputs": [],
   "execution_count": 221
  },
  {
   "cell_type": "code",
   "id": "617cfe7b",
   "metadata": {
    "ExecuteTime": {
     "end_time": "2024-07-03T20:44:21.708242100Z",
     "start_time": "2024-07-03T20:44:19.709749100Z"
    }
   },
   "source": [
    "resta_df_m['classification'][(resta_df_m['group_classifier']=='menu')&(resta_df_m['classification'].str.contains('alita'))].unique()"
   ],
   "outputs": [
    {
     "data": {
      "text/plain": "array(['alitas 8 unidades', 'alitas 6 unidades', 'alitas 12 unidades',\n       'alitas 16 unidades', 'alitas 4 unidades', 'alitas 24 unidades',\n       'alitas 32 unidades'], dtype=object)"
     },
     "execution_count": 222,
     "metadata": {},
     "output_type": "execute_result"
    }
   ],
   "execution_count": 222
  },
  {
   "cell_type": "code",
   "id": "6e93bd63",
   "metadata": {
    "ExecuteTime": {
     "end_time": "2024-07-03T20:44:21.785753700Z",
     "start_time": "2024-07-03T20:44:20.084677400Z"
    }
   },
   "source": [
    "resta_df_m[(resta_df_m['group_classifier']=='menu')&(resta_df_m['classification'].str.contains('alita'))].groupby(['classification','product'])['to_pay_xprod'].sum()"
   ],
   "outputs": [
    {
     "data": {
      "text/plain": "classification      product                  \nalitas 12 unidades  alitas ajo 12 unid             9006.0\n                    alitas albahaca 12 unid       74925.0\n                    alitas bbq 12 unid           157459.0\n                    alitas black sour 12 unid      1386.0\n                    alitas buff 12 unid          186424.0\n                                                   ...   \nalitas 8 unidades   alitas queso 8 unid          285652.0\n                    alitas tereyaki               24722.0\n                    alitas toxica                 20148.0\n                    black sour                    16053.0\n                    sin salsa                     95704.0\nName: to_pay_xprod, Length: 86, dtype: float64"
     },
     "execution_count": 223,
     "metadata": {},
     "output_type": "execute_result"
    }
   ],
   "execution_count": 223
  },
  {
   "cell_type": "markdown",
   "id": "2594ed64",
   "metadata": {},
   "source": [
    "Analysis of alitas"
   ]
  },
  {
   "cell_type": "code",
   "id": "54d3bc9e",
   "metadata": {
    "ExecuteTime": {
     "end_time": "2024-07-03T20:44:21.786751800Z",
     "start_time": "2024-07-03T20:44:20.504060600Z"
    }
   },
   "source": [
    "resta_df_m['product'][resta_df_m['classification']=='alitas 4 unidades'].unique()"
   ],
   "outputs": [
    {
     "data": {
      "text/plain": "array(['alitas bbq 4 unid', 'alitas miel 4 unid', 'alitas buff 4 unid',\n       'alitas albahaca 4 unid', 'alitas jack 4 unid',\n       'alitas teriyaki 4 unid', 'alitas queso 4 unid',\n       'alitas ajo 4 unid', 'alitas black sour 4 unid',\n       'alitas toxica 4 unid', 'alitas picosa 4 unid',\n       'alitas coffe bbq 4 unid'], dtype=object)"
     },
     "execution_count": 224,
     "metadata": {},
     "output_type": "execute_result"
    }
   ],
   "execution_count": 224
  },
  {
   "cell_type": "code",
   "id": "e80e7241",
   "metadata": {
    "ExecuteTime": {
     "end_time": "2024-07-03T20:44:22.055564500Z",
     "start_time": "2024-07-03T20:44:20.563806600Z"
    }
   },
   "source": [
    "resta_df_m['product'][resta_df_m['classification']=='alitas 6 unidades'].unique()"
   ],
   "outputs": [
    {
     "data": {
      "text/plain": "array(['alitas barbacoa 6 unid', 'alitas queso 6 unid',\n       'alitas picante 6 unid', 'alitas miel mostaza 6 unid',\n       'alitas teriyaki 6 unid', 'alitas ajo parmesano    6 unid',\n       'alitas albahaca 6unid', 'alitas jack daniel 6 unid',\n       'alitas black sour 6 unid', 'alitas picosa 6 unid',\n       'alitas toxica 6 unid', 'alitas coffe bbq 6 unid'], dtype=object)"
     },
     "execution_count": 225,
     "metadata": {},
     "output_type": "execute_result"
    }
   ],
   "execution_count": 225
  },
  {
   "cell_type": "code",
   "id": "1e083d59",
   "metadata": {
    "ExecuteTime": {
     "end_time": "2024-07-03T20:44:22.471378Z",
     "start_time": "2024-07-03T20:44:20.731364Z"
    }
   },
   "source": [
    "resta_df_m['product'][resta_df_m['classification']=='alitas 8 unidades'].unique()"
   ],
   "outputs": [
    {
     "data": {
      "text/plain": "array(['alitas barbacoa', 'alitas picantes', 'alitas miel mostaza',\n       'alitas barbacoa - miel', 'alitas miel - picante',\n       'alitas picante - barbacoa', 'alitas   porcion y 1/2', 'sin salsa',\n       'black sour', 'alitas queso 8 unid', 'alita 16 unidades',\n       'alitas jack daniels', 'alitas albahaca y hierbas',\n       'alitas ajo y parmesano', 'alitas tereyaki', 'alitas picosa',\n       'alitas toxica', 'alitas coffe bbq'], dtype=object)"
     },
     "execution_count": 226,
     "metadata": {},
     "output_type": "execute_result"
    }
   ],
   "execution_count": 226
  },
  {
   "cell_type": "code",
   "id": "0361b1b3",
   "metadata": {
    "ExecuteTime": {
     "end_time": "2024-07-03T20:44:22.659685100Z",
     "start_time": "2024-07-03T20:44:20.862395600Z"
    }
   },
   "source": [
    "resta_df_m['product'][resta_df_m['classification']=='alitas 12 unidades'].unique()"
   ],
   "outputs": [
    {
     "data": {
      "text/plain": "array(['alitas miel mostaza 12 unid', 'alitas buff 12 unid',\n       'alitas bbq 12 unid', 'alitas jack 12 unid',\n       'alitas albahaca 12 unid', 'alitas queso 12 unid',\n       'alitas ajo 12 unid', 'alitas teriyaki 12 unid',\n       'alitas black sour 12 unid', 'alitas picosa 12 unid',\n       'alitas toxica 12 unid', 'alitas coffe bbq 12 unid'], dtype=object)"
     },
     "execution_count": 227,
     "metadata": {},
     "output_type": "execute_result"
    }
   ],
   "execution_count": 227
  },
  {
   "cell_type": "code",
   "id": "19260fba",
   "metadata": {
    "ExecuteTime": {
     "end_time": "2024-07-03T20:44:22.781685400Z",
     "start_time": "2024-07-03T20:44:20.950429600Z"
    }
   },
   "source": [
    "resta_df_m['product'][resta_df_m['classification']=='alitas 16 unidades'].unique()"
   ],
   "outputs": [
    {
     "data": {
      "text/plain": "array(['alitas buff 16 unid', 'alitas bbq 16 unid',\n       'alitas miel mostaza 16 unid', 'alitas ajo 16 unid',\n       'alitas jack 16 unid', 'alitas teriyaki 16 unid',\n       'alitas albahaca 16 unid', 'alitas queso 16 unid',\n       'alitas black sour 16 unid', 'alitas toxica 16 unid',\n       'alitas picosa 16 unid', 'alitas coffe bbq 16 unid'], dtype=object)"
     },
     "execution_count": 228,
     "metadata": {},
     "output_type": "execute_result"
    }
   ],
   "execution_count": 228
  },
  {
   "cell_type": "code",
   "id": "982354ae",
   "metadata": {
    "ExecuteTime": {
     "end_time": "2024-07-03T20:44:22.781685400Z",
     "start_time": "2024-07-03T20:44:21.151871Z"
    }
   },
   "source": [
    "resta_df_m['product'][resta_df_m['classification']=='alitas 24 unidades'].unique()"
   ],
   "outputs": [
    {
     "data": {
      "text/plain": "array(['alias jack 24 unid', 'alitas buff 24 unid', 'alitas bbq 24 unid',\n       'alitas miel 24 unid', 'alitas albahaca 24 unid',\n       'alitas toxica 24 unid', 'alitas picosa 24 unid',\n       'alitas queso 24 unid', 'alitas teriyaki 24 unid',\n       'alitas coffe bbq 24 unid'], dtype=object)"
     },
     "execution_count": 229,
     "metadata": {},
     "output_type": "execute_result"
    }
   ],
   "execution_count": 229
  },
  {
   "cell_type": "code",
   "id": "c1bf6f14",
   "metadata": {
    "ExecuteTime": {
     "end_time": "2024-07-03T20:44:22.782685900Z",
     "start_time": "2024-07-03T20:44:21.305986600Z"
    }
   },
   "source": [
    "resta_df_m['product'][resta_df_m['classification']=='alitas 32 unidades'].unique()"
   ],
   "outputs": [
    {
     "data": {
      "text/plain": "array(['alitas miel 32 unid', 'alitas buff 32 unid', 'alitas bbq 32 unid',\n       'alitas queso 32 unid', 'alitas teriyaki 32 unid',\n       'alitas coffe bbq 32 unid', 'alitas albahaca 32 unid',\n       'alitas toxica 32 unid', 'alitas jack 32 unid',\n       'alitas picosa 32 unid'], dtype=object)"
     },
     "execution_count": 230,
     "metadata": {},
     "output_type": "execute_result"
    }
   ],
   "execution_count": 230
  },
  {
   "cell_type": "code",
   "id": "0d85d3de",
   "metadata": {
    "ExecuteTime": {
     "end_time": "2024-07-03T20:44:23.119861600Z",
     "start_time": "2024-07-03T20:44:21.364614900Z"
    }
   },
   "source": [
    "#Function with a regular expression to delete strings that have a numeric quantity followed by \" unid\".\n",
    "def remove_units(product):\n",
    "    return re.sub(r'\\d+ unid', '', product).strip()\n"
   ],
   "outputs": [],
   "execution_count": 231
  },
  {
   "cell_type": "code",
   "id": "d2eca0bf",
   "metadata": {
    "ExecuteTime": {
     "end_time": "2024-07-03T20:44:23.724134100Z",
     "start_time": "2024-07-03T20:44:21.469562100Z"
    }
   },
   "source": [
    "resta_df_m['product']=resta_df_m['product'].apply(remove_units)"
   ],
   "outputs": [],
   "execution_count": 232
  },
  {
   "cell_type": "code",
   "id": "f94c080b",
   "metadata": {
    "ExecuteTime": {
     "end_time": "2024-07-03T20:44:24.499923800Z",
     "start_time": "2024-07-03T20:44:22.308762900Z"
    }
   },
   "source": [
    "resta_df_m['product'][resta_df_m['classification'].str.contains('alitas')].sort_values().unique()"
   ],
   "outputs": [
    {
     "data": {
      "text/plain": "array(['alias jack', 'alita ades', 'alitas   porcion y 1/2', 'alitas ajo',\n       'alitas ajo parmesano', 'alitas ajo y parmesano',\n       'alitas albahaca', 'alitas albahaca 6unid',\n       'alitas albahaca y hierbas', 'alitas barbacoa',\n       'alitas barbacoa - miel', 'alitas bbq', 'alitas black sour',\n       'alitas buff', 'alitas coffe bbq', 'alitas jack',\n       'alitas jack daniel', 'alitas jack daniels', 'alitas miel',\n       'alitas miel - picante', 'alitas miel mostaza', 'alitas picante',\n       'alitas picante - barbacoa', 'alitas picantes', 'alitas picosa',\n       'alitas queso', 'alitas tereyaki', 'alitas teriyaki',\n       'alitas toxica', 'black sour', 'sin salsa'], dtype=object)"
     },
     "execution_count": 233,
     "metadata": {},
     "output_type": "execute_result"
    }
   ],
   "execution_count": 233
  },
  {
   "cell_type": "code",
   "id": "e4057d38",
   "metadata": {
    "ExecuteTime": {
     "end_time": "2024-07-03T20:44:24.518018900Z",
     "start_time": "2024-07-03T20:44:22.926448Z"
    }
   },
   "source": [
    "#There are some products with 'alias' instead of 'alitas'\n",
    "resta_df_m['product'] = resta_df_m['product'].str.replace('alias', 'alitas')"
   ],
   "outputs": [],
   "execution_count": 234
  },
  {
   "cell_type": "code",
   "id": "775f70ff",
   "metadata": {
    "ExecuteTime": {
     "end_time": "2024-07-03T20:44:24.694537600Z",
     "start_time": "2024-07-03T20:44:23.050174Z"
    }
   },
   "source": [
    "# product that contains 6unid replace by ''\n",
    "resta_df_m['product'] = resta_df_m['product'].str.replace('6unid', '').str.strip()"
   ],
   "outputs": [],
   "execution_count": 235
  },
  {
   "cell_type": "code",
   "id": "9f0b0d2f",
   "metadata": {
    "ExecuteTime": {
     "end_time": "2024-07-03T20:44:24.783646400Z",
     "start_time": "2024-07-03T20:44:23.320800900Z"
    }
   },
   "source": [
    "#There are spaces within a product like: 'alitas   porcion y 1/2\n",
    "\n",
    "resta_df_m['product'] = resta_df_m['product'].str.replace(r'\\s+', ' ', regex=True ).str.strip()"
   ],
   "outputs": [],
   "execution_count": 236
  },
  {
   "cell_type": "code",
   "id": "f7ba494a",
   "metadata": {
    "ExecuteTime": {
     "end_time": "2024-07-03T20:44:24.861293700Z",
     "start_time": "2024-07-03T20:44:24.367029500Z"
    }
   },
   "source": [
    "resta_df_m.columns"
   ],
   "outputs": [
    {
     "data": {
      "text/plain": "Index(['order_id', 'system_date', 'time', 'group_classifier', 'classification',\n       'product', 'prod_state', 'price', 'quantity', 'to_pay_xprod',\n       'tot_order_payment', 'product_observations', 'amount', 'customer_pay',\n       'change', 'location', 'order_number', 'modification_date',\n       'modification_reason', 'is_cancelled', 'is_courtesy', 'order_type',\n       'price_alt', 'quantity_alt', 'to_pay_xprod_alt', 'delivery_name_new',\n       'delivery_cost_new'],\n      dtype='object')"
     },
     "execution_count": 237,
     "metadata": {},
     "output_type": "execute_result"
    }
   ],
   "execution_count": 237
  },
  {
   "cell_type": "code",
   "id": "01e7cd32",
   "metadata": {
    "ExecuteTime": {
     "end_time": "2024-07-03T20:44:24.986332Z",
     "start_time": "2024-07-03T20:44:24.375127100Z"
    }
   },
   "source": [
    "# Review 'alita ades' product, correspond to '8 unidades'. In 2018 products were not categorized by sauces.\n",
    "resta_df_m[['product_observations']][resta_df_m['product']=='alita ades'].count()"
   ],
   "outputs": [
    {
     "data": {
      "text/plain": "product_observations    1874\ndtype: int64"
     },
     "execution_count": 238,
     "metadata": {},
     "output_type": "execute_result"
    }
   ],
   "execution_count": 238
  },
  {
   "cell_type": "code",
   "id": "dac19daa",
   "metadata": {
    "ExecuteTime": {
     "end_time": "2024-07-03T20:44:25.220292800Z",
     "start_time": "2024-07-03T20:44:24.578246700Z"
    }
   },
   "source": [
    "resta_df_m[['product','product_observations']][resta_df_m['product']=='alita ades'].sample(10)"
   ],
   "outputs": [
    {
     "data": {
      "text/plain": "           product                 product_observations\n92690   alita ades                       picante y miel\n131157  alita ades                       miel y picante\n163452  alita ades                       miel y picante\n144155  alita ades                          bbq y  miel\n117560  alita ades                           miel y bbq\n151698  alita ades  1 picante y miel 1 albahaca y queso\n118902  alita ades                      miel y teriyaki\n155796  alita ades                                 miel\n141584  alita ades  buff y albahaca.... miel y albahaca\n132715  alita ades     bbq miel jack albaha todo aparte",
      "text/html": "<div>\n<style scoped>\n    .dataframe tbody tr th:only-of-type {\n        vertical-align: middle;\n    }\n\n    .dataframe tbody tr th {\n        vertical-align: top;\n    }\n\n    .dataframe thead th {\n        text-align: right;\n    }\n</style>\n<table border=\"1\" class=\"dataframe\">\n  <thead>\n    <tr style=\"text-align: right;\">\n      <th></th>\n      <th>product</th>\n      <th>product_observations</th>\n    </tr>\n  </thead>\n  <tbody>\n    <tr>\n      <th>92690</th>\n      <td>alita ades</td>\n      <td>picante y miel</td>\n    </tr>\n    <tr>\n      <th>131157</th>\n      <td>alita ades</td>\n      <td>miel y picante</td>\n    </tr>\n    <tr>\n      <th>163452</th>\n      <td>alita ades</td>\n      <td>miel y picante</td>\n    </tr>\n    <tr>\n      <th>144155</th>\n      <td>alita ades</td>\n      <td>bbq y  miel</td>\n    </tr>\n    <tr>\n      <th>117560</th>\n      <td>alita ades</td>\n      <td>miel y bbq</td>\n    </tr>\n    <tr>\n      <th>151698</th>\n      <td>alita ades</td>\n      <td>1 picante y miel 1 albahaca y queso</td>\n    </tr>\n    <tr>\n      <th>118902</th>\n      <td>alita ades</td>\n      <td>miel y teriyaki</td>\n    </tr>\n    <tr>\n      <th>155796</th>\n      <td>alita ades</td>\n      <td>miel</td>\n    </tr>\n    <tr>\n      <th>141584</th>\n      <td>alita ades</td>\n      <td>buff y albahaca.... miel y albahaca</td>\n    </tr>\n    <tr>\n      <th>132715</th>\n      <td>alita ades</td>\n      <td>bbq miel jack albaha todo aparte</td>\n    </tr>\n  </tbody>\n</table>\n</div>"
     },
     "execution_count": 239,
     "metadata": {},
     "output_type": "execute_result"
    }
   ],
   "execution_count": 239
  },
  {
   "cell_type": "code",
   "id": "f7797d0b",
   "metadata": {
    "ExecuteTime": {
     "end_time": "2024-07-03T20:44:25.416276500Z",
     "start_time": "2024-07-03T20:44:24.731583300Z"
    }
   },
   "source": [
    "# There is no way no know which kind of product was sold, observations gives a hint but its hard to say which value was correct. So this values will remain as only 'alitas'\n",
    "resta_df_m['product'] = resta_df_m['product'].replace('alita ades','').str.strip()"
   ],
   "outputs": [],
   "execution_count": 240
  },
  {
   "cell_type": "markdown",
   "id": "ff328ab3",
   "metadata": {},
   "source": [
    "### Values alike with names written differently \n",
    "\n",
    "'alitas tereyaki',\n",
    "'alitas teriyaki',\n",
    "\n",
    "'alitas ajo parmesano',\n",
    "'alitas ajo y parmesano',\n",
    "\n",
    "'alitas bbq', \n",
    "'alitas barbacoa',\n",
    "\n",
    "'alitas jack',\n",
    "'alitas jack daniel', \n",
    "'alitas jack daniels', \n",
    "\n",
    "'alitas picante',\n",
    "'alitas picantes'\n"
   ]
  },
  {
   "cell_type": "code",
   "id": "63b8bcef",
   "metadata": {
    "ExecuteTime": {
     "end_time": "2024-07-03T20:44:25.417270800Z",
     "start_time": "2024-07-03T20:44:24.926480600Z"
    }
   },
   "source": [
    "alitas_dict={\n",
    "'alitas tereyaki':'alitas teriyaki',\n",
    "'alitas ajo parmesano': 'alitas ajo - parmesano',\n",
    "'alitas ajo y parmesano':'alitas ajo - parmesano',\n",
    "'alitas bbq':'alitas barbacoa',\n",
    "'alitas jack':'alitas jack daniels',\n",
    "'alitas jack daniel':'alitas jack daniels', \n",
    "'alitas picante':'alitas picantes'\n",
    "}\n"
   ],
   "outputs": [],
   "execution_count": 241
  },
  {
   "cell_type": "code",
   "id": "edb9a5b9",
   "metadata": {
    "ExecuteTime": {
     "end_time": "2024-07-03T20:44:25.875380200Z",
     "start_time": "2024-07-03T20:44:24.933519Z"
    }
   },
   "source": [
    "resta_df_m['product'] = resta_df_m['product'].replace(alitas_dict)"
   ],
   "outputs": [],
   "execution_count": 242
  },
  {
   "cell_type": "markdown",
   "id": "81db1b02",
   "metadata": {},
   "source": [
    "#### Menu - analyzing other values"
   ]
  },
  {
   "cell_type": "code",
   "id": "3a166535",
   "metadata": {
    "ExecuteTime": {
     "end_time": "2024-07-03T20:44:25.993426500Z",
     "start_time": "2024-07-03T20:44:25.320954800Z"
    }
   },
   "source": [
    "resta_df_m['classification'][(resta_df_m['group_classifier']=='menu')&(~resta_df_m['classification'].str.contains('alita'))].unique()"
   ],
   "outputs": [
    {
     "data": {
      "text/plain": "array(['sandwiches', 'fingers', 'burguers', 'salchis', 'platos',\n       'almuerzos', 'combos', 'finger', 'h4mburgu cl4sic', 'postres',\n       'product', 'reto wings', 'promo trio 21 sep', 'desconocida',\n       'combo paceñisimo', 'combo patriota', 'pollo a la canasta',\n       'combo papa', 'promocion', 'gusto', 'fingers 6 unid',\n       'fingers 12 unid', 'fingers 8 unid'], dtype=object)"
     },
     "execution_count": 243,
     "metadata": {},
     "output_type": "execute_result"
    }
   ],
   "execution_count": 243
  },
  {
   "cell_type": "markdown",
   "id": "cdf14cbc",
   "metadata": {},
   "source": [
    "Analysis of 'Fingers'"
   ]
  },
  {
   "cell_type": "code",
   "id": "507cb442",
   "metadata": {
    "ExecuteTime": {
     "end_time": "2024-07-03T20:44:26.534950400Z",
     "start_time": "2024-07-03T20:44:25.684451600Z"
    }
   },
   "source": [
    "resta_df_m['classification'][(resta_df_m['group_classifier']=='menu')&(resta_df_m['classification'].str.contains('finger'))].unique()"
   ],
   "outputs": [
    {
     "data": {
      "text/plain": "array(['fingers', 'finger', 'fingers 6 unid', 'fingers 12 unid',\n       'fingers 8 unid'], dtype=object)"
     },
     "execution_count": 244,
     "metadata": {},
     "output_type": "execute_result"
    }
   ],
   "execution_count": 244
  },
  {
   "cell_type": "code",
   "id": "5f3765a6",
   "metadata": {
    "ExecuteTime": {
     "end_time": "2024-07-03T20:44:26.535938800Z",
     "start_time": "2024-07-03T20:44:26.007116800Z"
    }
   },
   "source": [
    "resta_df_m['product'][resta_df_m['classification']=='finger'].unique()"
   ],
   "outputs": [
    {
     "data": {
      "text/plain": "array(['finger'], dtype=object)"
     },
     "execution_count": 245,
     "metadata": {},
     "output_type": "execute_result"
    }
   ],
   "execution_count": 245
  },
  {
   "cell_type": "code",
   "id": "e1172fca",
   "metadata": {
    "ExecuteTime": {
     "end_time": "2024-07-03T20:44:26.573984200Z",
     "start_time": "2024-07-03T20:44:26.047784900Z"
    }
   },
   "source": [
    "resta_df_m['product'][resta_df_m['classification']=='fingers'].unique()"
   ],
   "outputs": [
    {
     "data": {
      "text/plain": "array(['fingers miel', 'fingers barbacoa', 'fingers buffalo',\n       'extra fingers', 'fingers jack', 'finguers teriyaki',\n       'fingers queso', 'finger albahaca', 'finger ades'], dtype=object)"
     },
     "execution_count": 246,
     "metadata": {},
     "output_type": "execute_result"
    }
   ],
   "execution_count": 246
  },
  {
   "cell_type": "code",
   "id": "982878d5",
   "metadata": {
    "ExecuteTime": {
     "end_time": "2024-07-03T20:44:26.576008300Z",
     "start_time": "2024-07-03T20:44:26.180959400Z"
    }
   },
   "source": [
    "resta_df_m['product'][resta_df_m['classification']=='fingers 6 unid'].unique()"
   ],
   "outputs": [
    {
     "data": {
      "text/plain": "array(['fingers 6 u picante', 'fingers 6 u barbocoa',\n       'fingers 6 u miel de mostaza', 'fingers 6 u black sour',\n       'fingers 6 u jack daniels', 'fingers 6 u albahaca',\n       'fingers 6 u queso', 'fingers 6 u teriyaki', 'fingers 6 u picosa',\n       'fingers 6 u toxica', 'fingers 6 u coffe bbq',\n       'fingers 6 u ajo parmesano'], dtype=object)"
     },
     "execution_count": 247,
     "metadata": {},
     "output_type": "execute_result"
    }
   ],
   "execution_count": 247
  },
  {
   "cell_type": "code",
   "id": "a23debe8",
   "metadata": {
    "ExecuteTime": {
     "end_time": "2024-07-03T20:44:26.591634200Z",
     "start_time": "2024-07-03T20:44:26.320626400Z"
    }
   },
   "source": [
    "resta_df_m['product'][resta_df_m['classification']=='fingers 12 unid'].unique()"
   ],
   "outputs": [
    {
     "data": {
      "text/plain": "array(['fingers 12 u barbacoa', 'fingers 12 u picante',\n       'fingers 12 u ajo parmesano', 'fingers 12 u miel de mostaza',\n       'fingers 12 u albahaca', 'fingers 12 u picosa',\n       'fingers 12 u toxica', 'fingers 12 u jack daniels',\n       'fingers 12 u queso', 'fingers 12 u teriyaki',\n       'fingers 12 u coffe bbq'], dtype=object)"
     },
     "execution_count": 248,
     "metadata": {},
     "output_type": "execute_result"
    }
   ],
   "execution_count": 248
  },
  {
   "cell_type": "code",
   "id": "ee6de660",
   "metadata": {
    "ExecuteTime": {
     "end_time": "2024-07-03T20:44:27.292142200Z",
     "start_time": "2024-07-03T20:44:26.482077Z"
    }
   },
   "source": [
    "resta_df_m['product'][resta_df_m['classification']=='fingers 8 unid'].unique()"
   ],
   "outputs": [
    {
     "data": {
      "text/plain": "array(['fingers 8 u picante', 'fingers 8 u miel de mostaza',\n       'fingers 8 u barbacoa', 'fingers 8 u ajo parmesano',\n       'fingers 8 u albahaca', 'fingers 8 u teriyaki',\n       'fingers 8 u queso', 'fingers 8 u jack daniel',\n       'fingers 8 u coffe bbq', 'fingers 8 u picosa',\n       'fingers 8 u toxica', 'fingers 8 u black sour'], dtype=object)"
     },
     "execution_count": 249,
     "metadata": {},
     "output_type": "execute_result"
    }
   ],
   "execution_count": 249
  },
  {
   "cell_type": "code",
   "id": "ff0a58a3",
   "metadata": {
    "ExecuteTime": {
     "end_time": "2024-07-03T20:44:27.292142200Z",
     "start_time": "2024-07-03T20:44:26.621528600Z"
    }
   },
   "source": [
    "#Function with a regular expression to delete strings that have a numeric quantity followed by \" u\".\n",
    "def remove_units_fingers(product):\n",
    "    return re.sub(r'\\d+ u ', '', product).strip()"
   ],
   "outputs": [],
   "execution_count": 250
  },
  {
   "cell_type": "code",
   "id": "80ceef2f",
   "metadata": {
    "ExecuteTime": {
     "end_time": "2024-07-03T20:44:27.674577400Z",
     "start_time": "2024-07-03T20:44:26.750168600Z"
    }
   },
   "source": "resta_df_m['product'] = resta_df_m['product'].apply(remove_units_fingers)",
   "outputs": [],
   "execution_count": 251
  },
  {
   "metadata": {
    "ExecuteTime": {
     "end_time": "2024-07-03T20:44:27.931445800Z",
     "start_time": "2024-07-03T20:44:27.589428600Z"
    }
   },
   "cell_type": "code",
   "source": "resta_df_m['product'][resta_df_m['classification'].str.contains('finger')].unique()",
   "id": "5c72936c1818ba7e",
   "outputs": [
    {
     "data": {
      "text/plain": "array(['fingers miel', 'fingers barbacoa', 'fingers buffalo', 'finger',\n       'extra fingers', 'fingers jack', 'finguers teriyaki',\n       'fingers queso', 'finger albahaca', 'finger ades',\n       'fingers picante', 'fingers barbocoa', 'fingers miel de mostaza',\n       'fingers black sour', 'fingers jack daniels', 'fingers albahaca',\n       'fingers teriyaki', 'fingers picosa', 'fingers ajo parmesano',\n       'fingers toxica', 'fingers coffe bbq', 'fingers jack daniel'],\n      dtype=object)"
     },
     "execution_count": 252,
     "metadata": {},
     "output_type": "execute_result"
    }
   ],
   "execution_count": 252
  },
  {
   "metadata": {
    "ExecuteTime": {
     "end_time": "2024-07-03T20:44:27.932559900Z",
     "start_time": "2024-07-03T20:44:27.826532200Z"
    }
   },
   "cell_type": "code",
   "source": [
    "fingers_dict = {\n",
    "    'fingers barbocoa': 'fingers barbacoa',\n",
    "    'finger':'fingers',\n",
    "    'finger ades':'fingers',\n",
    "    'finger albahaca': 'fingers albahaca', \n",
    "    'fingers jack daniel': 'fingers jack daniels',\n",
    "    'fingers jack': 'fingers jack daniels'\n",
    "}\n"
   ],
   "id": "aaff1ccfa6e0b21d",
   "outputs": [],
   "execution_count": 253
  },
  {
   "metadata": {
    "ExecuteTime": {
     "end_time": "2024-07-03T20:44:28.286554800Z",
     "start_time": "2024-07-03T20:44:27.831916800Z"
    }
   },
   "cell_type": "code",
   "source": [
    "#Replace some mistaken values with the correct ones\n",
    "resta_df_m['product'] = resta_df_m['product'].replace(fingers_dict)"
   ],
   "id": "cb5db5786f40e1a",
   "outputs": [],
   "execution_count": 254
  },
  {
   "metadata": {
    "ExecuteTime": {
     "end_time": "2024-07-03T20:44:28.505390500Z",
     "start_time": "2024-07-03T20:44:28.163446900Z"
    }
   },
   "cell_type": "code",
   "source": [
    "#Replace finguers with fingers\n",
    "resta_df_m['product'] = resta_df_m['product'].str.replace('finguers', 'fingers').str.strip() "
   ],
   "id": "8ab0ba53bada186c",
   "outputs": [],
   "execution_count": 255
  },
  {
   "metadata": {},
   "cell_type": "markdown",
   "source": [
    "finger\n",
    "\n",
    "classification finger and fingers are both in inactive state. There are 131 products classified as finger, which have prices less than 5.\n",
    "\n",
    "finger and fingers wont be merged together because those seem to correspond to different products.\n",
    "\n",
    "finger statistics:\n",
    "\n",
    "count    232.000000\n",
    "mean      10.155172\n",
    "std       11.707550\n",
    "min        1.000000\n",
    "25%        1.000000\n",
    "50%        2.000000\n",
    "75%       27.000000\n",
    "max       48.000000"
   ],
   "id": "f1e6609a6152c560"
  },
  {
   "metadata": {
    "ExecuteTime": {
     "end_time": "2024-07-03T20:44:28.534075600Z",
     "start_time": "2024-07-03T20:44:28.454529900Z"
    }
   },
   "cell_type": "code",
   "source": "resta_df_m[['classification','product']][resta_df_m['classification'].isin(['finger','fingers'])].groupby(['classification', 'product']).count()",
   "id": "469f2d7c62d77dc2",
   "outputs": [
    {
     "data": {
      "text/plain": "Empty DataFrame\nColumns: []\nIndex: [(finger, fingers), (fingers, extra fingers), (fingers, fingers), (fingers, fingers albahaca), (fingers, fingers barbacoa), (fingers, fingers buffalo), (fingers, fingers jack daniels), (fingers, fingers miel), (fingers, fingers queso), (fingers, fingers teriyaki)]",
      "text/html": "<div>\n<style scoped>\n    .dataframe tbody tr th:only-of-type {\n        vertical-align: middle;\n    }\n\n    .dataframe tbody tr th {\n        vertical-align: top;\n    }\n\n    .dataframe thead th {\n        text-align: right;\n    }\n</style>\n<table border=\"1\" class=\"dataframe\">\n  <thead>\n    <tr style=\"text-align: right;\">\n      <th></th>\n      <th></th>\n    </tr>\n    <tr>\n      <th>classification</th>\n      <th>product</th>\n    </tr>\n  </thead>\n  <tbody>\n    <tr>\n      <th>finger</th>\n      <th>fingers</th>\n    </tr>\n    <tr>\n      <th rowspan=\"9\" valign=\"top\">fingers</th>\n      <th>extra fingers</th>\n    </tr>\n    <tr>\n      <th>fingers</th>\n    </tr>\n    <tr>\n      <th>fingers albahaca</th>\n    </tr>\n    <tr>\n      <th>fingers barbacoa</th>\n    </tr>\n    <tr>\n      <th>fingers buffalo</th>\n    </tr>\n    <tr>\n      <th>fingers jack daniels</th>\n    </tr>\n    <tr>\n      <th>fingers miel</th>\n    </tr>\n    <tr>\n      <th>fingers queso</th>\n    </tr>\n    <tr>\n      <th>fingers teriyaki</th>\n    </tr>\n  </tbody>\n</table>\n</div>"
     },
     "execution_count": 256,
     "metadata": {},
     "output_type": "execute_result"
    }
   ],
   "execution_count": 256
  },
  {
   "metadata": {
    "ExecuteTime": {
     "end_time": "2024-07-03T20:44:28.799456500Z",
     "start_time": "2024-07-03T20:44:28.493857400Z"
    }
   },
   "cell_type": "code",
   "source": "resta_df_m[(resta_df_m['classification'].isin(['finger'])) & (resta_df_m['product']=='fingers')].sample(5)",
   "id": "b62b75eaa80a0492",
   "outputs": [
    {
     "data": {
      "text/plain": "       order_id system_date                time group_classifier   \n30650     57417  2017-04-07 1900-01-01 12:50:25             menu  \\\n21902     39026  2017-02-01 1900-01-01 12:28:32             menu   \n16027     29469  2016-12-14 1900-01-01 12:21:12             menu   \n28987     56025  2017-03-27 1900-01-01 12:56:40             menu   \n21903     39027  2017-02-01 1900-01-01 12:32:42             menu   \n\n      classification  product prod_state  price  quantity  to_pay_xprod  ...   \n30650         finger  fingers   inactivo    1.0         1           1.0  ...  \\\n21902         finger  fingers   inactivo    3.0         1           3.0  ...   \n16027         finger  fingers   inactivo    2.0         1           2.0  ...   \n28987         finger  fingers   inactivo    1.0         1           1.0  ...   \n21903         finger  fingers   inactivo    4.0         1           4.0  ...   \n\n       modification_date modification_reason  is_cancelled  is_courtesy   \n30650                NaN             Ninguna         False        False  \\\n21902                NaN             Ninguna         False        False   \n16027                NaN             Ninguna         False        False   \n28987                NaN             Ninguna         False        False   \n21903                NaN             Ninguna         False        False   \n\n             order_type price_alt  quantity_alt to_pay_xprod_alt   \n30650       para llevar       1.0             1              1.0  \\\n21902       para llevar       1.0             3              3.0   \n16027  en sala-sin mesa       1.0             2              2.0   \n28987       para llevar       1.0             1              1.0   \n21903       para llevar       1.0             4              4.0   \n\n      delivery_name_new delivery_cost_new  \n30650               NaN               NaN  \n21902               NaN               NaN  \n16027               NaN               NaN  \n28987               NaN               NaN  \n21903               NaN               NaN  \n\n[5 rows x 27 columns]",
      "text/html": "<div>\n<style scoped>\n    .dataframe tbody tr th:only-of-type {\n        vertical-align: middle;\n    }\n\n    .dataframe tbody tr th {\n        vertical-align: top;\n    }\n\n    .dataframe thead th {\n        text-align: right;\n    }\n</style>\n<table border=\"1\" class=\"dataframe\">\n  <thead>\n    <tr style=\"text-align: right;\">\n      <th></th>\n      <th>order_id</th>\n      <th>system_date</th>\n      <th>time</th>\n      <th>group_classifier</th>\n      <th>classification</th>\n      <th>product</th>\n      <th>prod_state</th>\n      <th>price</th>\n      <th>quantity</th>\n      <th>to_pay_xprod</th>\n      <th>...</th>\n      <th>modification_date</th>\n      <th>modification_reason</th>\n      <th>is_cancelled</th>\n      <th>is_courtesy</th>\n      <th>order_type</th>\n      <th>price_alt</th>\n      <th>quantity_alt</th>\n      <th>to_pay_xprod_alt</th>\n      <th>delivery_name_new</th>\n      <th>delivery_cost_new</th>\n    </tr>\n  </thead>\n  <tbody>\n    <tr>\n      <th>30650</th>\n      <td>57417</td>\n      <td>2017-04-07</td>\n      <td>1900-01-01 12:50:25</td>\n      <td>menu</td>\n      <td>finger</td>\n      <td>fingers</td>\n      <td>inactivo</td>\n      <td>1.0</td>\n      <td>1</td>\n      <td>1.0</td>\n      <td>...</td>\n      <td>NaN</td>\n      <td>Ninguna</td>\n      <td>False</td>\n      <td>False</td>\n      <td>para llevar</td>\n      <td>1.0</td>\n      <td>1</td>\n      <td>1.0</td>\n      <td>NaN</td>\n      <td>NaN</td>\n    </tr>\n    <tr>\n      <th>21902</th>\n      <td>39026</td>\n      <td>2017-02-01</td>\n      <td>1900-01-01 12:28:32</td>\n      <td>menu</td>\n      <td>finger</td>\n      <td>fingers</td>\n      <td>inactivo</td>\n      <td>3.0</td>\n      <td>1</td>\n      <td>3.0</td>\n      <td>...</td>\n      <td>NaN</td>\n      <td>Ninguna</td>\n      <td>False</td>\n      <td>False</td>\n      <td>para llevar</td>\n      <td>1.0</td>\n      <td>3</td>\n      <td>3.0</td>\n      <td>NaN</td>\n      <td>NaN</td>\n    </tr>\n    <tr>\n      <th>16027</th>\n      <td>29469</td>\n      <td>2016-12-14</td>\n      <td>1900-01-01 12:21:12</td>\n      <td>menu</td>\n      <td>finger</td>\n      <td>fingers</td>\n      <td>inactivo</td>\n      <td>2.0</td>\n      <td>1</td>\n      <td>2.0</td>\n      <td>...</td>\n      <td>NaN</td>\n      <td>Ninguna</td>\n      <td>False</td>\n      <td>False</td>\n      <td>en sala-sin mesa</td>\n      <td>1.0</td>\n      <td>2</td>\n      <td>2.0</td>\n      <td>NaN</td>\n      <td>NaN</td>\n    </tr>\n    <tr>\n      <th>28987</th>\n      <td>56025</td>\n      <td>2017-03-27</td>\n      <td>1900-01-01 12:56:40</td>\n      <td>menu</td>\n      <td>finger</td>\n      <td>fingers</td>\n      <td>inactivo</td>\n      <td>1.0</td>\n      <td>1</td>\n      <td>1.0</td>\n      <td>...</td>\n      <td>NaN</td>\n      <td>Ninguna</td>\n      <td>False</td>\n      <td>False</td>\n      <td>para llevar</td>\n      <td>1.0</td>\n      <td>1</td>\n      <td>1.0</td>\n      <td>NaN</td>\n      <td>NaN</td>\n    </tr>\n    <tr>\n      <th>21903</th>\n      <td>39027</td>\n      <td>2017-02-01</td>\n      <td>1900-01-01 12:32:42</td>\n      <td>menu</td>\n      <td>finger</td>\n      <td>fingers</td>\n      <td>inactivo</td>\n      <td>4.0</td>\n      <td>1</td>\n      <td>4.0</td>\n      <td>...</td>\n      <td>NaN</td>\n      <td>Ninguna</td>\n      <td>False</td>\n      <td>False</td>\n      <td>para llevar</td>\n      <td>1.0</td>\n      <td>4</td>\n      <td>4.0</td>\n      <td>NaN</td>\n      <td>NaN</td>\n    </tr>\n  </tbody>\n</table>\n<p>5 rows × 27 columns</p>\n</div>"
     },
     "execution_count": 257,
     "metadata": {},
     "output_type": "execute_result"
    }
   ],
   "execution_count": 257
  },
  {
   "metadata": {
    "ExecuteTime": {
     "end_time": "2024-07-03T20:44:28.937099800Z",
     "start_time": "2024-07-03T20:44:28.630206Z"
    }
   },
   "cell_type": "code",
   "source": "resta_df_m['price'][(resta_df_m['classification'].isin(['finger'])) & (resta_df_m['product']=='fingers')].describe()",
   "id": "e14a3ff973790276",
   "outputs": [
    {
     "data": {
      "text/plain": "count    232.000000\nmean      10.155172\nstd       11.707550\nmin        1.000000\n25%        1.000000\n50%        2.000000\n75%       27.000000\nmax       48.000000\nName: price, dtype: float64"
     },
     "execution_count": 258,
     "metadata": {},
     "output_type": "execute_result"
    }
   ],
   "execution_count": 258
  },
  {
   "metadata": {
    "ExecuteTime": {
     "end_time": "2024-07-03T20:44:29.324577300Z",
     "start_time": "2024-07-03T20:44:28.791659600Z"
    }
   },
   "cell_type": "code",
   "source": "resta_df_m['system_date'][(resta_df_m['classification'].isin(['finger'])) & (resta_df_m['product']=='fingers')].dt.year.unique()",
   "id": "714600061b44762d",
   "outputs": [
    {
     "data": {
      "text/plain": "array([2016, 2017, 2018, 2019])"
     },
     "execution_count": 259,
     "metadata": {},
     "output_type": "execute_result"
    }
   ],
   "execution_count": 259
  },
  {
   "metadata": {
    "ExecuteTime": {
     "end_time": "2024-07-03T20:44:29.380506Z",
     "start_time": "2024-07-03T20:44:28.921850200Z"
    }
   },
   "cell_type": "code",
   "source": "resta_df_m[(resta_df_m['classification'].isin(['fingers'])) & (resta_df_m['product']=='fingers')].sample(5)",
   "id": "11c3cdc95c482f24",
   "outputs": [
    {
     "data": {
      "text/plain": "        order_id system_date                time group_classifier   \n440707    552087  2022-03-10 1900-01-01 15:43:42             menu  \\\n434073    548843  2022-02-10 1900-01-01 17:09:35             menu   \n374516    512104  2021-06-11 1900-01-01 17:14:47             menu   \n393098    523014  2021-08-28 1900-01-01 19:47:20             menu   \n439150    551351  2022-03-04 1900-01-01 18:22:35             menu   \n\n       classification  product prod_state  price  quantity  to_pay_xprod  ...   \n440707        fingers  fingers   inactivo   32.0         1          32.0  ...  \\\n434073        fingers  fingers   inactivo   32.0         1          32.0  ...   \n374516        fingers  fingers   inactivo   45.0         1          45.0  ...   \n393098        fingers  fingers   inactivo   32.0         1          32.0  ...   \n439150        fingers  fingers   inactivo   55.0         1          55.0  ...   \n\n        modification_date modification_reason  is_cancelled  is_courtesy   \n440707                NaN             Ninguna         False        False  \\\n434073                NaN             Ninguna         False        False   \n374516                NaN             Ninguna         False        False   \n393098                NaN             Ninguna         False        False   \n439150                NaN             Ninguna         False        False   \n\n              order_type price_alt  quantity_alt to_pay_xprod_alt   \n440707       para llevar      32.0             1             32.0  \\\n434073       para llevar      32.0             1             32.0   \n374516       para llevar      45.0             1             45.0   \n393098          delivery      32.0             1             32.0   \n439150  en sala-sin mesa      55.0             1             55.0   \n\n       delivery_name_new delivery_cost_new  \n440707               NaN               NaN  \n434073               NaN               NaN  \n374516               NaN               NaN  \n393098        pedidos ya              10.0  \n439150               NaN               NaN  \n\n[5 rows x 27 columns]",
      "text/html": "<div>\n<style scoped>\n    .dataframe tbody tr th:only-of-type {\n        vertical-align: middle;\n    }\n\n    .dataframe tbody tr th {\n        vertical-align: top;\n    }\n\n    .dataframe thead th {\n        text-align: right;\n    }\n</style>\n<table border=\"1\" class=\"dataframe\">\n  <thead>\n    <tr style=\"text-align: right;\">\n      <th></th>\n      <th>order_id</th>\n      <th>system_date</th>\n      <th>time</th>\n      <th>group_classifier</th>\n      <th>classification</th>\n      <th>product</th>\n      <th>prod_state</th>\n      <th>price</th>\n      <th>quantity</th>\n      <th>to_pay_xprod</th>\n      <th>...</th>\n      <th>modification_date</th>\n      <th>modification_reason</th>\n      <th>is_cancelled</th>\n      <th>is_courtesy</th>\n      <th>order_type</th>\n      <th>price_alt</th>\n      <th>quantity_alt</th>\n      <th>to_pay_xprod_alt</th>\n      <th>delivery_name_new</th>\n      <th>delivery_cost_new</th>\n    </tr>\n  </thead>\n  <tbody>\n    <tr>\n      <th>440707</th>\n      <td>552087</td>\n      <td>2022-03-10</td>\n      <td>1900-01-01 15:43:42</td>\n      <td>menu</td>\n      <td>fingers</td>\n      <td>fingers</td>\n      <td>inactivo</td>\n      <td>32.0</td>\n      <td>1</td>\n      <td>32.0</td>\n      <td>...</td>\n      <td>NaN</td>\n      <td>Ninguna</td>\n      <td>False</td>\n      <td>False</td>\n      <td>para llevar</td>\n      <td>32.0</td>\n      <td>1</td>\n      <td>32.0</td>\n      <td>NaN</td>\n      <td>NaN</td>\n    </tr>\n    <tr>\n      <th>434073</th>\n      <td>548843</td>\n      <td>2022-02-10</td>\n      <td>1900-01-01 17:09:35</td>\n      <td>menu</td>\n      <td>fingers</td>\n      <td>fingers</td>\n      <td>inactivo</td>\n      <td>32.0</td>\n      <td>1</td>\n      <td>32.0</td>\n      <td>...</td>\n      <td>NaN</td>\n      <td>Ninguna</td>\n      <td>False</td>\n      <td>False</td>\n      <td>para llevar</td>\n      <td>32.0</td>\n      <td>1</td>\n      <td>32.0</td>\n      <td>NaN</td>\n      <td>NaN</td>\n    </tr>\n    <tr>\n      <th>374516</th>\n      <td>512104</td>\n      <td>2021-06-11</td>\n      <td>1900-01-01 17:14:47</td>\n      <td>menu</td>\n      <td>fingers</td>\n      <td>fingers</td>\n      <td>inactivo</td>\n      <td>45.0</td>\n      <td>1</td>\n      <td>45.0</td>\n      <td>...</td>\n      <td>NaN</td>\n      <td>Ninguna</td>\n      <td>False</td>\n      <td>False</td>\n      <td>para llevar</td>\n      <td>45.0</td>\n      <td>1</td>\n      <td>45.0</td>\n      <td>NaN</td>\n      <td>NaN</td>\n    </tr>\n    <tr>\n      <th>393098</th>\n      <td>523014</td>\n      <td>2021-08-28</td>\n      <td>1900-01-01 19:47:20</td>\n      <td>menu</td>\n      <td>fingers</td>\n      <td>fingers</td>\n      <td>inactivo</td>\n      <td>32.0</td>\n      <td>1</td>\n      <td>32.0</td>\n      <td>...</td>\n      <td>NaN</td>\n      <td>Ninguna</td>\n      <td>False</td>\n      <td>False</td>\n      <td>delivery</td>\n      <td>32.0</td>\n      <td>1</td>\n      <td>32.0</td>\n      <td>pedidos ya</td>\n      <td>10.0</td>\n    </tr>\n    <tr>\n      <th>439150</th>\n      <td>551351</td>\n      <td>2022-03-04</td>\n      <td>1900-01-01 18:22:35</td>\n      <td>menu</td>\n      <td>fingers</td>\n      <td>fingers</td>\n      <td>inactivo</td>\n      <td>55.0</td>\n      <td>1</td>\n      <td>55.0</td>\n      <td>...</td>\n      <td>NaN</td>\n      <td>Ninguna</td>\n      <td>False</td>\n      <td>False</td>\n      <td>en sala-sin mesa</td>\n      <td>55.0</td>\n      <td>1</td>\n      <td>55.0</td>\n      <td>NaN</td>\n      <td>NaN</td>\n    </tr>\n  </tbody>\n</table>\n<p>5 rows × 27 columns</p>\n</div>"
     },
     "execution_count": 260,
     "metadata": {},
     "output_type": "execute_result"
    }
   ],
   "execution_count": 260
  },
  {
   "metadata": {
    "ExecuteTime": {
     "end_time": "2024-07-03T20:44:29.431990600Z",
     "start_time": "2024-07-03T20:44:29.059031100Z"
    }
   },
   "cell_type": "code",
   "source": "resta_df_m['price'][(resta_df_m['classification'].isin(['fingers'])) & (resta_df_m['product']=='fingers')].describe()",
   "id": "a5074dc0c9c97894",
   "outputs": [
    {
     "data": {
      "text/plain": "count    3767.000000\nmean       38.591718\nstd         9.451979\nmin        32.000000\n25%        32.000000\n50%        32.000000\n75%        45.000000\nmax        55.000000\nName: price, dtype: float64"
     },
     "execution_count": 261,
     "metadata": {},
     "output_type": "execute_result"
    }
   ],
   "execution_count": 261
  },
  {
   "metadata": {
    "ExecuteTime": {
     "end_time": "2024-07-03T20:44:29.608636100Z",
     "start_time": "2024-07-03T20:44:29.186874Z"
    }
   },
   "cell_type": "code",
   "source": "resta_df_m['system_date'][(resta_df_m['classification'].isin(['fingers'])) & (resta_df_m['product']=='fingers')].dt.year.unique()",
   "id": "d4ec28d471750dc6",
   "outputs": [
    {
     "data": {
      "text/plain": "array([2021, 2022])"
     },
     "execution_count": 262,
     "metadata": {},
     "output_type": "execute_result"
    }
   ],
   "execution_count": 262
  },
  {
   "metadata": {},
   "cell_type": "markdown",
   "source": "sandwiches",
   "id": "fda4fe337a691d2e"
  },
  {
   "metadata": {
    "ExecuteTime": {
     "end_time": "2024-07-03T20:44:30.816715300Z",
     "start_time": "2024-07-03T20:44:29.362267200Z"
    }
   },
   "cell_type": "code",
   "source": "resta_df_m['classification'][(resta_df_m['group_classifier']=='menu')&(resta_df_m['classification'].str.contains('sandwich'))].unique()",
   "id": "96806a1e86a2be78",
   "outputs": [
    {
     "data": {
      "text/plain": "array(['sandwiches'], dtype=object)"
     },
     "execution_count": 263,
     "metadata": {},
     "output_type": "execute_result"
    }
   ],
   "execution_count": 263
  },
  {
   "metadata": {
    "ExecuteTime": {
     "end_time": "2024-07-03T20:44:30.817675900Z",
     "start_time": "2024-07-03T20:44:29.744423700Z"
    }
   },
   "cell_type": "code",
   "source": "resta_df_m['product'][resta_df_m['classification']=='sandwiches'].unique()",
   "id": "e61b65c54d0bc880",
   "outputs": [
    {
     "data": {
      "text/plain": "array([\"niki's club\", 'sand de pollo bbq', 'sandwich de lomito',\n       'strogonoff', 'steak sandwich', 'buff finger sandwich'],\n      dtype=object)"
     },
     "execution_count": 264,
     "metadata": {},
     "output_type": "execute_result"
    }
   ],
   "execution_count": 264
  },
  {
   "metadata": {
    "ExecuteTime": {
     "end_time": "2024-07-03T20:47:34.772700100Z",
     "start_time": "2024-07-03T20:47:34.466185100Z"
    }
   },
   "cell_type": "code",
   "source": "resta_df_m['classification'][(resta_df_m['group_classifier']=='menu')&(~resta_df_m['classification'].str.contains('alita'))&(~resta_df_m['classification'].str.contains('finger'))].unique()",
   "id": "14b252088fadd901",
   "outputs": [
    {
     "data": {
      "text/plain": "array(['sandwiches', 'burguers', 'salchis', 'platos', 'almuerzos',\n       'combos', 'postres', 'product', 'reto wings', 'promocion',\n       'desconocida', 'pollo a la canasta', 'gusto'], dtype=object)"
     },
     "execution_count": 294,
     "metadata": {},
     "output_type": "execute_result"
    }
   ],
   "execution_count": 294
  },
  {
   "metadata": {},
   "cell_type": "markdown",
   "source": "burguers",
   "id": "6f88c74af22945b0"
  },
  {
   "metadata": {
    "ExecuteTime": {
     "end_time": "2024-07-03T20:44:32.002625Z",
     "start_time": "2024-07-03T20:44:30.628133600Z"
    }
   },
   "cell_type": "code",
   "source": "resta_df_m['classification'][(resta_df_m['group_classifier']=='menu')&(resta_df_m['classification'].str.contains('burguers'))].unique()",
   "id": "fc00f1ea66f4c7b3",
   "outputs": [
    {
     "data": {
      "text/plain": "array(['burguers'], dtype=object)"
     },
     "execution_count": 266,
     "metadata": {},
     "output_type": "execute_result"
    }
   ],
   "execution_count": 266
  },
  {
   "metadata": {
    "ExecuteTime": {
     "end_time": "2024-07-03T20:44:32.019551700Z",
     "start_time": "2024-07-03T20:44:31.021970200Z"
    }
   },
   "cell_type": "code",
   "source": "resta_df_m['product'][resta_df_m['classification']=='burguers'].unique()",
   "id": "87926da3dc6ed91d",
   "outputs": [
    {
     "data": {
      "text/plain": "array(['hamburguesa clasica', 'hamburguesa bbq', 'mexicana',\n       'hamburguesa jack', 'hamburgues crunchy', 'extra carne',\n       'chesse egg', 'hamburguesa de pollo'], dtype=object)"
     },
     "execution_count": 267,
     "metadata": {},
     "output_type": "execute_result"
    }
   ],
   "execution_count": 267
  },
  {
   "metadata": {
    "ExecuteTime": {
     "end_time": "2024-07-03T20:44:32.027627800Z",
     "start_time": "2024-07-03T20:44:31.082255800Z"
    }
   },
   "cell_type": "code",
   "source": "resta_df_m['classification'][(resta_df_m['group_classifier']=='menu')&(resta_df_m['classification'].str.contains('h4mburgu cl4sic'))].unique()",
   "id": "4d1df8284a899eca",
   "outputs": [
    {
     "data": {
      "text/plain": "array(['h4mburgu cl4sic'], dtype=object)"
     },
     "execution_count": 268,
     "metadata": {},
     "output_type": "execute_result"
    }
   ],
   "execution_count": 268
  },
  {
   "metadata": {
    "ExecuteTime": {
     "end_time": "2024-07-03T20:44:32.028631800Z",
     "start_time": "2024-07-03T20:44:31.515727Z"
    }
   },
   "cell_type": "code",
   "source": "resta_df_m[(resta_df_m['classification']=='burguers') & (resta_df_m['product']=='hamburguesa clasica')].sample(10)",
   "id": "c2663018c3718ed4",
   "outputs": [
    {
     "data": {
      "text/plain": "        order_id system_date                time group_classifier   \n91911     166963  2018-03-22 1900-01-01 13:04:06             menu  \\\n14176      26023  2016-11-30 1900-01-01 14:57:09             menu   \n363326    505503  2021-04-25 1900-01-01 18:23:15             menu   \n73325     127756  2017-12-15 1900-01-01 20:11:15             menu   \n79608     137481  2018-01-18 1900-01-01 21:41:16             menu   \n231017    379940  2019-08-10 1900-01-01 20:54:39             menu   \n24648      50146  2017-02-22 1900-01-01 13:41:00             menu   \n413756    536920  2021-11-17 1900-01-01 17:19:59             menu   \n93840     172746  2018-03-31 1900-01-01 17:59:01             menu   \n59755     100292  2017-09-26 1900-01-01 20:48:15             menu   \n\n       classification              product prod_state  price  quantity   \n91911        burguers  hamburguesa clasica     activo   15.0         1  \\\n14176        burguers  hamburguesa clasica     activo   15.0         1   \n363326       burguers  hamburguesa clasica     activo   17.0         5   \n73325        burguers  hamburguesa clasica     activo   15.0         1   \n79608        burguers  hamburguesa clasica     activo   15.0         1   \n231017       burguers  hamburguesa clasica     activo   15.0         1   \n24648        burguers  hamburguesa clasica     activo   15.0         1   \n413756       burguers  hamburguesa clasica     activo   17.0         1   \n93840        burguers  hamburguesa clasica     activo   15.0         1   \n59755        burguers  hamburguesa clasica     activo   15.0         2   \n\n        to_pay_xprod  ...  modification_date modification_reason   \n91911           15.0  ...                NaN             Ninguna  \\\n14176           15.0  ...                NaN             Ninguna   \n363326          85.0  ...                NaN             Ninguna   \n73325           15.0  ...                NaN             Ninguna   \n79608           15.0  ...                NaN             Ninguna   \n231017          15.0  ...                NaN             Ninguna   \n24648           15.0  ...                NaN             Ninguna   \n413756          17.0  ...                NaN             Ninguna   \n93840           15.0  ...                NaN             Ninguna   \n59755           30.0  ...                NaN             Ninguna   \n\n        is_cancelled  is_courtesy        order_type price_alt  quantity_alt   \n91911          False        False       para llevar      15.0             1  \\\n14176          False        False  en sala-sin mesa      15.0             1   \n363326         False        False       para llevar      17.0             5   \n73325          False        False       para llevar      15.0             1   \n79608          False        False  en sala-con mesa      15.0             1   \n231017         False        False       para llevar      15.0             1   \n24648          False        False  en sala-con mesa      15.0             1   \n413756         False        False  en sala-con mesa      17.0             1   \n93840          False        False  en sala-sin mesa      15.0             1   \n59755          False        False  en sala-con mesa      15.0             2   \n\n       to_pay_xprod_alt delivery_name_new delivery_cost_new  \n91911              15.0               NaN               NaN  \n14176              15.0               NaN               NaN  \n363326             85.0               NaN               NaN  \n73325              15.0               NaN               NaN  \n79608              15.0               NaN               NaN  \n231017             15.0               NaN               NaN  \n24648              15.0               NaN               NaN  \n413756             17.0               NaN               NaN  \n93840              15.0               NaN               NaN  \n59755              30.0               NaN               NaN  \n\n[10 rows x 27 columns]",
      "text/html": "<div>\n<style scoped>\n    .dataframe tbody tr th:only-of-type {\n        vertical-align: middle;\n    }\n\n    .dataframe tbody tr th {\n        vertical-align: top;\n    }\n\n    .dataframe thead th {\n        text-align: right;\n    }\n</style>\n<table border=\"1\" class=\"dataframe\">\n  <thead>\n    <tr style=\"text-align: right;\">\n      <th></th>\n      <th>order_id</th>\n      <th>system_date</th>\n      <th>time</th>\n      <th>group_classifier</th>\n      <th>classification</th>\n      <th>product</th>\n      <th>prod_state</th>\n      <th>price</th>\n      <th>quantity</th>\n      <th>to_pay_xprod</th>\n      <th>...</th>\n      <th>modification_date</th>\n      <th>modification_reason</th>\n      <th>is_cancelled</th>\n      <th>is_courtesy</th>\n      <th>order_type</th>\n      <th>price_alt</th>\n      <th>quantity_alt</th>\n      <th>to_pay_xprod_alt</th>\n      <th>delivery_name_new</th>\n      <th>delivery_cost_new</th>\n    </tr>\n  </thead>\n  <tbody>\n    <tr>\n      <th>91911</th>\n      <td>166963</td>\n      <td>2018-03-22</td>\n      <td>1900-01-01 13:04:06</td>\n      <td>menu</td>\n      <td>burguers</td>\n      <td>hamburguesa clasica</td>\n      <td>activo</td>\n      <td>15.0</td>\n      <td>1</td>\n      <td>15.0</td>\n      <td>...</td>\n      <td>NaN</td>\n      <td>Ninguna</td>\n      <td>False</td>\n      <td>False</td>\n      <td>para llevar</td>\n      <td>15.0</td>\n      <td>1</td>\n      <td>15.0</td>\n      <td>NaN</td>\n      <td>NaN</td>\n    </tr>\n    <tr>\n      <th>14176</th>\n      <td>26023</td>\n      <td>2016-11-30</td>\n      <td>1900-01-01 14:57:09</td>\n      <td>menu</td>\n      <td>burguers</td>\n      <td>hamburguesa clasica</td>\n      <td>activo</td>\n      <td>15.0</td>\n      <td>1</td>\n      <td>15.0</td>\n      <td>...</td>\n      <td>NaN</td>\n      <td>Ninguna</td>\n      <td>False</td>\n      <td>False</td>\n      <td>en sala-sin mesa</td>\n      <td>15.0</td>\n      <td>1</td>\n      <td>15.0</td>\n      <td>NaN</td>\n      <td>NaN</td>\n    </tr>\n    <tr>\n      <th>363326</th>\n      <td>505503</td>\n      <td>2021-04-25</td>\n      <td>1900-01-01 18:23:15</td>\n      <td>menu</td>\n      <td>burguers</td>\n      <td>hamburguesa clasica</td>\n      <td>activo</td>\n      <td>17.0</td>\n      <td>5</td>\n      <td>85.0</td>\n      <td>...</td>\n      <td>NaN</td>\n      <td>Ninguna</td>\n      <td>False</td>\n      <td>False</td>\n      <td>para llevar</td>\n      <td>17.0</td>\n      <td>5</td>\n      <td>85.0</td>\n      <td>NaN</td>\n      <td>NaN</td>\n    </tr>\n    <tr>\n      <th>73325</th>\n      <td>127756</td>\n      <td>2017-12-15</td>\n      <td>1900-01-01 20:11:15</td>\n      <td>menu</td>\n      <td>burguers</td>\n      <td>hamburguesa clasica</td>\n      <td>activo</td>\n      <td>15.0</td>\n      <td>1</td>\n      <td>15.0</td>\n      <td>...</td>\n      <td>NaN</td>\n      <td>Ninguna</td>\n      <td>False</td>\n      <td>False</td>\n      <td>para llevar</td>\n      <td>15.0</td>\n      <td>1</td>\n      <td>15.0</td>\n      <td>NaN</td>\n      <td>NaN</td>\n    </tr>\n    <tr>\n      <th>79608</th>\n      <td>137481</td>\n      <td>2018-01-18</td>\n      <td>1900-01-01 21:41:16</td>\n      <td>menu</td>\n      <td>burguers</td>\n      <td>hamburguesa clasica</td>\n      <td>activo</td>\n      <td>15.0</td>\n      <td>1</td>\n      <td>15.0</td>\n      <td>...</td>\n      <td>NaN</td>\n      <td>Ninguna</td>\n      <td>False</td>\n      <td>False</td>\n      <td>en sala-con mesa</td>\n      <td>15.0</td>\n      <td>1</td>\n      <td>15.0</td>\n      <td>NaN</td>\n      <td>NaN</td>\n    </tr>\n    <tr>\n      <th>231017</th>\n      <td>379940</td>\n      <td>2019-08-10</td>\n      <td>1900-01-01 20:54:39</td>\n      <td>menu</td>\n      <td>burguers</td>\n      <td>hamburguesa clasica</td>\n      <td>activo</td>\n      <td>15.0</td>\n      <td>1</td>\n      <td>15.0</td>\n      <td>...</td>\n      <td>NaN</td>\n      <td>Ninguna</td>\n      <td>False</td>\n      <td>False</td>\n      <td>para llevar</td>\n      <td>15.0</td>\n      <td>1</td>\n      <td>15.0</td>\n      <td>NaN</td>\n      <td>NaN</td>\n    </tr>\n    <tr>\n      <th>24648</th>\n      <td>50146</td>\n      <td>2017-02-22</td>\n      <td>1900-01-01 13:41:00</td>\n      <td>menu</td>\n      <td>burguers</td>\n      <td>hamburguesa clasica</td>\n      <td>activo</td>\n      <td>15.0</td>\n      <td>1</td>\n      <td>15.0</td>\n      <td>...</td>\n      <td>NaN</td>\n      <td>Ninguna</td>\n      <td>False</td>\n      <td>False</td>\n      <td>en sala-con mesa</td>\n      <td>15.0</td>\n      <td>1</td>\n      <td>15.0</td>\n      <td>NaN</td>\n      <td>NaN</td>\n    </tr>\n    <tr>\n      <th>413756</th>\n      <td>536920</td>\n      <td>2021-11-17</td>\n      <td>1900-01-01 17:19:59</td>\n      <td>menu</td>\n      <td>burguers</td>\n      <td>hamburguesa clasica</td>\n      <td>activo</td>\n      <td>17.0</td>\n      <td>1</td>\n      <td>17.0</td>\n      <td>...</td>\n      <td>NaN</td>\n      <td>Ninguna</td>\n      <td>False</td>\n      <td>False</td>\n      <td>en sala-con mesa</td>\n      <td>17.0</td>\n      <td>1</td>\n      <td>17.0</td>\n      <td>NaN</td>\n      <td>NaN</td>\n    </tr>\n    <tr>\n      <th>93840</th>\n      <td>172746</td>\n      <td>2018-03-31</td>\n      <td>1900-01-01 17:59:01</td>\n      <td>menu</td>\n      <td>burguers</td>\n      <td>hamburguesa clasica</td>\n      <td>activo</td>\n      <td>15.0</td>\n      <td>1</td>\n      <td>15.0</td>\n      <td>...</td>\n      <td>NaN</td>\n      <td>Ninguna</td>\n      <td>False</td>\n      <td>False</td>\n      <td>en sala-sin mesa</td>\n      <td>15.0</td>\n      <td>1</td>\n      <td>15.0</td>\n      <td>NaN</td>\n      <td>NaN</td>\n    </tr>\n    <tr>\n      <th>59755</th>\n      <td>100292</td>\n      <td>2017-09-26</td>\n      <td>1900-01-01 20:48:15</td>\n      <td>menu</td>\n      <td>burguers</td>\n      <td>hamburguesa clasica</td>\n      <td>activo</td>\n      <td>15.0</td>\n      <td>2</td>\n      <td>30.0</td>\n      <td>...</td>\n      <td>NaN</td>\n      <td>Ninguna</td>\n      <td>False</td>\n      <td>False</td>\n      <td>en sala-con mesa</td>\n      <td>15.0</td>\n      <td>2</td>\n      <td>30.0</td>\n      <td>NaN</td>\n      <td>NaN</td>\n    </tr>\n  </tbody>\n</table>\n<p>10 rows × 27 columns</p>\n</div>"
     },
     "execution_count": 269,
     "metadata": {},
     "output_type": "execute_result"
    }
   ],
   "execution_count": 269
  },
  {
   "metadata": {
    "ExecuteTime": {
     "end_time": "2024-07-03T20:44:32.030616800Z",
     "start_time": "2024-07-03T20:44:31.662307700Z"
    }
   },
   "cell_type": "code",
   "source": "resta_df_m['product'][resta_df_m['classification']=='h4mburgu cl4sic'].unique()",
   "id": "fcc6382ecfa022c8",
   "outputs": [
    {
     "data": {
      "text/plain": "array(['h4mburgu cl4sic'], dtype=object)"
     },
     "execution_count": 270,
     "metadata": {},
     "output_type": "execute_result"
    }
   ],
   "execution_count": 270
  },
  {
   "metadata": {
    "ExecuteTime": {
     "end_time": "2024-07-03T20:44:32.032618600Z",
     "start_time": "2024-07-03T20:44:31.740626800Z"
    }
   },
   "cell_type": "code",
   "source": "resta_df_m[resta_df_m['classification']=='h4mburgu cl4sic'].sample(10)",
   "id": "d4a4c216d73aba1b",
   "outputs": [
    {
     "data": {
      "text/plain": "        order_id system_date                time group_classifier   \n20909      36123  2017-01-24 1900-01-01 13:01:55             menu  \\\n260185    424427  2019-11-27 1900-01-01 13:16:39             menu   \n259892    423605  2019-11-25 1900-01-01 20:14:24             menu   \n259578    423418  2019-11-23 1900-01-01 12:39:11             menu   \n260007    423664  2019-11-26 1900-01-01 14:44:35             menu   \n20894      36113  2017-01-24 1900-01-01 12:37:42             menu   \n259528    422464  2019-11-22 1900-01-01 19:32:57             menu   \n259606    423434  2019-11-23 1900-01-01 14:16:14             menu   \n260482    425480  2019-11-28 1900-01-01 19:47:24             menu   \n20885      36104  2017-01-24 1900-01-01 12:17:17             menu   \n\n         classification          product prod_state  price  quantity   \n20909   h4mburgu cl4sic  h4mburgu cl4sic     activo   25.0         3  \\\n260185  h4mburgu cl4sic  h4mburgu cl4sic     activo   18.0         2   \n259892  h4mburgu cl4sic  h4mburgu cl4sic     activo   18.0         1   \n259578  h4mburgu cl4sic  h4mburgu cl4sic     activo   18.0         1   \n260007  h4mburgu cl4sic  h4mburgu cl4sic     activo   18.0         2   \n20894   h4mburgu cl4sic  h4mburgu cl4sic     activo   25.0         1   \n259528  h4mburgu cl4sic  h4mburgu cl4sic     activo   18.0         2   \n259606  h4mburgu cl4sic  h4mburgu cl4sic     activo   18.0         3   \n260482  h4mburgu cl4sic  h4mburgu cl4sic     activo   18.0         1   \n20885   h4mburgu cl4sic  h4mburgu cl4sic     activo   25.0         2   \n\n        to_pay_xprod  ...  modification_date modification_reason   \n20909           75.0  ...                NaN             Ninguna  \\\n260185          36.0  ...                NaN             Ninguna   \n259892          18.0  ...                NaN             Ninguna   \n259578          18.0  ...                NaN             Ninguna   \n260007          36.0  ...                NaN             Ninguna   \n20894           25.0  ...                NaN             Ninguna   \n259528          36.0  ...                NaN             Ninguna   \n259606          54.0  ...                NaN             Ninguna   \n260482          18.0  ...                NaN             Ninguna   \n20885           50.0  ...                NaN             Ninguna   \n\n        is_cancelled  is_courtesy        order_type price_alt  quantity_alt   \n20909          False        False  en sala-sin mesa      25.0             3  \\\n260185         False        False  en sala-sin mesa      18.0             2   \n259892         False        False  en sala-con mesa      18.0             1   \n259578         False        False  en sala-sin mesa      18.0             1   \n260007         False        False  en sala-sin mesa      18.0             2   \n20894          False        False  en sala-sin mesa      25.0             1   \n259528         False        False  en sala-sin mesa      18.0             2   \n259606         False        False  en sala-con mesa      18.0             3   \n260482         False        False          delivery      18.0             1   \n20885          False        False  en sala-sin mesa      25.0             2   \n\n       to_pay_xprod_alt delivery_name_new delivery_cost_new  \n20909              75.0               NaN               NaN  \n260185             36.0               NaN               NaN  \n259892             18.0               NaN               NaN  \n259578             18.0               NaN               NaN  \n260007             36.0               NaN               NaN  \n20894              25.0               NaN               NaN  \n259528             36.0               NaN               NaN  \n259606             54.0               NaN               NaN  \n260482             18.0      mr. delivery              24.0  \n20885              50.0               NaN               NaN  \n\n[10 rows x 27 columns]",
      "text/html": "<div>\n<style scoped>\n    .dataframe tbody tr th:only-of-type {\n        vertical-align: middle;\n    }\n\n    .dataframe tbody tr th {\n        vertical-align: top;\n    }\n\n    .dataframe thead th {\n        text-align: right;\n    }\n</style>\n<table border=\"1\" class=\"dataframe\">\n  <thead>\n    <tr style=\"text-align: right;\">\n      <th></th>\n      <th>order_id</th>\n      <th>system_date</th>\n      <th>time</th>\n      <th>group_classifier</th>\n      <th>classification</th>\n      <th>product</th>\n      <th>prod_state</th>\n      <th>price</th>\n      <th>quantity</th>\n      <th>to_pay_xprod</th>\n      <th>...</th>\n      <th>modification_date</th>\n      <th>modification_reason</th>\n      <th>is_cancelled</th>\n      <th>is_courtesy</th>\n      <th>order_type</th>\n      <th>price_alt</th>\n      <th>quantity_alt</th>\n      <th>to_pay_xprod_alt</th>\n      <th>delivery_name_new</th>\n      <th>delivery_cost_new</th>\n    </tr>\n  </thead>\n  <tbody>\n    <tr>\n      <th>20909</th>\n      <td>36123</td>\n      <td>2017-01-24</td>\n      <td>1900-01-01 13:01:55</td>\n      <td>menu</td>\n      <td>h4mburgu cl4sic</td>\n      <td>h4mburgu cl4sic</td>\n      <td>activo</td>\n      <td>25.0</td>\n      <td>3</td>\n      <td>75.0</td>\n      <td>...</td>\n      <td>NaN</td>\n      <td>Ninguna</td>\n      <td>False</td>\n      <td>False</td>\n      <td>en sala-sin mesa</td>\n      <td>25.0</td>\n      <td>3</td>\n      <td>75.0</td>\n      <td>NaN</td>\n      <td>NaN</td>\n    </tr>\n    <tr>\n      <th>260185</th>\n      <td>424427</td>\n      <td>2019-11-27</td>\n      <td>1900-01-01 13:16:39</td>\n      <td>menu</td>\n      <td>h4mburgu cl4sic</td>\n      <td>h4mburgu cl4sic</td>\n      <td>activo</td>\n      <td>18.0</td>\n      <td>2</td>\n      <td>36.0</td>\n      <td>...</td>\n      <td>NaN</td>\n      <td>Ninguna</td>\n      <td>False</td>\n      <td>False</td>\n      <td>en sala-sin mesa</td>\n      <td>18.0</td>\n      <td>2</td>\n      <td>36.0</td>\n      <td>NaN</td>\n      <td>NaN</td>\n    </tr>\n    <tr>\n      <th>259892</th>\n      <td>423605</td>\n      <td>2019-11-25</td>\n      <td>1900-01-01 20:14:24</td>\n      <td>menu</td>\n      <td>h4mburgu cl4sic</td>\n      <td>h4mburgu cl4sic</td>\n      <td>activo</td>\n      <td>18.0</td>\n      <td>1</td>\n      <td>18.0</td>\n      <td>...</td>\n      <td>NaN</td>\n      <td>Ninguna</td>\n      <td>False</td>\n      <td>False</td>\n      <td>en sala-con mesa</td>\n      <td>18.0</td>\n      <td>1</td>\n      <td>18.0</td>\n      <td>NaN</td>\n      <td>NaN</td>\n    </tr>\n    <tr>\n      <th>259578</th>\n      <td>423418</td>\n      <td>2019-11-23</td>\n      <td>1900-01-01 12:39:11</td>\n      <td>menu</td>\n      <td>h4mburgu cl4sic</td>\n      <td>h4mburgu cl4sic</td>\n      <td>activo</td>\n      <td>18.0</td>\n      <td>1</td>\n      <td>18.0</td>\n      <td>...</td>\n      <td>NaN</td>\n      <td>Ninguna</td>\n      <td>False</td>\n      <td>False</td>\n      <td>en sala-sin mesa</td>\n      <td>18.0</td>\n      <td>1</td>\n      <td>18.0</td>\n      <td>NaN</td>\n      <td>NaN</td>\n    </tr>\n    <tr>\n      <th>260007</th>\n      <td>423664</td>\n      <td>2019-11-26</td>\n      <td>1900-01-01 14:44:35</td>\n      <td>menu</td>\n      <td>h4mburgu cl4sic</td>\n      <td>h4mburgu cl4sic</td>\n      <td>activo</td>\n      <td>18.0</td>\n      <td>2</td>\n      <td>36.0</td>\n      <td>...</td>\n      <td>NaN</td>\n      <td>Ninguna</td>\n      <td>False</td>\n      <td>False</td>\n      <td>en sala-sin mesa</td>\n      <td>18.0</td>\n      <td>2</td>\n      <td>36.0</td>\n      <td>NaN</td>\n      <td>NaN</td>\n    </tr>\n    <tr>\n      <th>20894</th>\n      <td>36113</td>\n      <td>2017-01-24</td>\n      <td>1900-01-01 12:37:42</td>\n      <td>menu</td>\n      <td>h4mburgu cl4sic</td>\n      <td>h4mburgu cl4sic</td>\n      <td>activo</td>\n      <td>25.0</td>\n      <td>1</td>\n      <td>25.0</td>\n      <td>...</td>\n      <td>NaN</td>\n      <td>Ninguna</td>\n      <td>False</td>\n      <td>False</td>\n      <td>en sala-sin mesa</td>\n      <td>25.0</td>\n      <td>1</td>\n      <td>25.0</td>\n      <td>NaN</td>\n      <td>NaN</td>\n    </tr>\n    <tr>\n      <th>259528</th>\n      <td>422464</td>\n      <td>2019-11-22</td>\n      <td>1900-01-01 19:32:57</td>\n      <td>menu</td>\n      <td>h4mburgu cl4sic</td>\n      <td>h4mburgu cl4sic</td>\n      <td>activo</td>\n      <td>18.0</td>\n      <td>2</td>\n      <td>36.0</td>\n      <td>...</td>\n      <td>NaN</td>\n      <td>Ninguna</td>\n      <td>False</td>\n      <td>False</td>\n      <td>en sala-sin mesa</td>\n      <td>18.0</td>\n      <td>2</td>\n      <td>36.0</td>\n      <td>NaN</td>\n      <td>NaN</td>\n    </tr>\n    <tr>\n      <th>259606</th>\n      <td>423434</td>\n      <td>2019-11-23</td>\n      <td>1900-01-01 14:16:14</td>\n      <td>menu</td>\n      <td>h4mburgu cl4sic</td>\n      <td>h4mburgu cl4sic</td>\n      <td>activo</td>\n      <td>18.0</td>\n      <td>3</td>\n      <td>54.0</td>\n      <td>...</td>\n      <td>NaN</td>\n      <td>Ninguna</td>\n      <td>False</td>\n      <td>False</td>\n      <td>en sala-con mesa</td>\n      <td>18.0</td>\n      <td>3</td>\n      <td>54.0</td>\n      <td>NaN</td>\n      <td>NaN</td>\n    </tr>\n    <tr>\n      <th>260482</th>\n      <td>425480</td>\n      <td>2019-11-28</td>\n      <td>1900-01-01 19:47:24</td>\n      <td>menu</td>\n      <td>h4mburgu cl4sic</td>\n      <td>h4mburgu cl4sic</td>\n      <td>activo</td>\n      <td>18.0</td>\n      <td>1</td>\n      <td>18.0</td>\n      <td>...</td>\n      <td>NaN</td>\n      <td>Ninguna</td>\n      <td>False</td>\n      <td>False</td>\n      <td>delivery</td>\n      <td>18.0</td>\n      <td>1</td>\n      <td>18.0</td>\n      <td>mr. delivery</td>\n      <td>24.0</td>\n    </tr>\n    <tr>\n      <th>20885</th>\n      <td>36104</td>\n      <td>2017-01-24</td>\n      <td>1900-01-01 12:17:17</td>\n      <td>menu</td>\n      <td>h4mburgu cl4sic</td>\n      <td>h4mburgu cl4sic</td>\n      <td>activo</td>\n      <td>25.0</td>\n      <td>2</td>\n      <td>50.0</td>\n      <td>...</td>\n      <td>NaN</td>\n      <td>Ninguna</td>\n      <td>False</td>\n      <td>False</td>\n      <td>en sala-sin mesa</td>\n      <td>25.0</td>\n      <td>2</td>\n      <td>50.0</td>\n      <td>NaN</td>\n      <td>NaN</td>\n    </tr>\n  </tbody>\n</table>\n<p>10 rows × 27 columns</p>\n</div>"
     },
     "execution_count": 271,
     "metadata": {},
     "output_type": "execute_result"
    }
   ],
   "execution_count": 271
  },
  {
   "metadata": {},
   "cell_type": "markdown",
   "source": [
    "classification 'h4mburgu cl4sic' must be part of 'burguers' classification.\n",
    "\n",
    "And has to be renamed as 'hamburguesa clasica'"
   ],
   "id": "f6a9c01c87921cf5"
  },
  {
   "metadata": {
    "ExecuteTime": {
     "end_time": "2024-07-03T20:44:32.911372300Z",
     "start_time": "2024-07-03T20:44:31.910633100Z"
    }
   },
   "cell_type": "code",
   "source": [
    "#changing product  name to 'hamburguesa clasica'\n",
    "resta_df_m.loc[resta_df_m['classification']=='h4mburgu cl4sic', 'product']= 'hamburguesa clasica'"
   ],
   "id": "8df88a75e4cf189",
   "outputs": [],
   "execution_count": 272
  },
  {
   "metadata": {
    "ExecuteTime": {
     "end_time": "2024-07-03T20:44:32.913271Z",
     "start_time": "2024-07-03T20:44:32.060847300Z"
    }
   },
   "cell_type": "code",
   "source": [
    "#changing classification name to 'burguers'\n",
    "resta_df_m.loc[resta_df_m['classification']=='h4mburgu cl4sic', 'classification'] = 'burguers'"
   ],
   "id": "e77a2d260f68b2e5",
   "outputs": [],
   "execution_count": 273
  },
  {
   "metadata": {
    "ExecuteTime": {
     "end_time": "2024-07-03T20:44:32.913271Z",
     "start_time": "2024-07-03T20:44:32.181586900Z"
    }
   },
   "cell_type": "code",
   "outputs": [],
   "execution_count": 273,
   "source": "",
   "id": "a639d782735748c4"
  },
  {
   "metadata": {
    "ExecuteTime": {
     "end_time": "2024-07-03T20:44:32.913271Z",
     "start_time": "2024-07-03T20:44:32.188684900Z"
    }
   },
   "cell_type": "code",
   "outputs": [],
   "execution_count": 273,
   "source": "",
   "id": "cc4004540e67c073"
  },
  {
   "metadata": {},
   "cell_type": "markdown",
   "source": "salchis",
   "id": "39f6b58eb9283c8f"
  },
  {
   "metadata": {
    "ExecuteTime": {
     "end_time": "2024-07-03T20:44:33.050562900Z",
     "start_time": "2024-07-03T20:44:32.195240600Z"
    }
   },
   "cell_type": "code",
   "source": "resta_df_m['product'][resta_df_m['classification']=='salchis'].unique()",
   "id": "f24c1d207855816b",
   "outputs": [
    {
     "data": {
      "text/plain": "array(['salchibeef', 'salchipapa'], dtype=object)"
     },
     "execution_count": 274,
     "metadata": {},
     "output_type": "execute_result"
    }
   ],
   "execution_count": 274
  },
  {
   "cell_type": "markdown",
   "source": [
    "### Analysis of 'reto wings'\n",
    "This seems to be part of a promotion, and has been used only for 2017-2018, so this will be placed into promotion section."
   ],
   "metadata": {
    "collapsed": false
   },
   "id": "df474cfc758abc03"
  },
  {
   "metadata": {
    "ExecuteTime": {
     "end_time": "2024-07-03T20:57:00.281110800Z",
     "start_time": "2024-07-03T20:56:59.773795700Z"
    }
   },
   "cell_type": "code",
   "outputs": [
    {
     "data": {
      "text/plain": "array(['sandwiches', 'burguers', 'salchis', 'platos', 'almuerzos',\n       'combos', 'postres', 'product', 'promocion', 'desconocida',\n       'pollo a la canasta', 'gusto'], dtype=object)"
     },
     "execution_count": 302,
     "metadata": {},
     "output_type": "execute_result"
    }
   ],
   "execution_count": 302,
   "source": [
    "resta_df_m['classification'][(resta_df_m['group_classifier']=='menu')&(~resta_df_m['classification'].str.contains('alita'))&(~resta_df_m['classification'].str.contains('finger'))].unique()"
   ],
   "id": "a34febb4c6434106"
  },
  {
   "metadata": {
    "ExecuteTime": {
     "end_time": "2024-07-03T20:48:47.208311600Z",
     "start_time": "2024-07-03T20:48:47.002809700Z"
    }
   },
   "cell_type": "code",
   "outputs": [
    {
     "data": {
      "text/plain": "array(['reto wings'], dtype=object)"
     },
     "execution_count": 296,
     "metadata": {},
     "output_type": "execute_result"
    }
   ],
   "execution_count": 296,
   "source": [
    "resta_df_m['product'][resta_df_m['classification']=='reto wings'].unique()"
   ],
   "id": "2f6ac90e6aa1fd77"
  },
  {
   "cell_type": "code",
   "execution_count": 301,
   "outputs": [
    {
     "data": {
      "text/plain": "Empty DataFrame\nColumns: [order_id, system_date, time, group_classifier, classification, product, prod_state, price, quantity, to_pay_xprod, tot_order_payment, product_observations, amount, customer_pay, change, location, order_number, modification_date, modification_reason, is_cancelled, is_courtesy, order_type, price_alt, quantity_alt, to_pay_xprod_alt, delivery_name_new, delivery_cost_new]\nIndex: []\n\n[0 rows x 27 columns]",
      "text/html": "<div>\n<style scoped>\n    .dataframe tbody tr th:only-of-type {\n        vertical-align: middle;\n    }\n\n    .dataframe tbody tr th {\n        vertical-align: top;\n    }\n\n    .dataframe thead th {\n        text-align: right;\n    }\n</style>\n<table border=\"1\" class=\"dataframe\">\n  <thead>\n    <tr style=\"text-align: right;\">\n      <th></th>\n      <th>order_id</th>\n      <th>system_date</th>\n      <th>time</th>\n      <th>group_classifier</th>\n      <th>classification</th>\n      <th>product</th>\n      <th>prod_state</th>\n      <th>price</th>\n      <th>quantity</th>\n      <th>to_pay_xprod</th>\n      <th>...</th>\n      <th>modification_date</th>\n      <th>modification_reason</th>\n      <th>is_cancelled</th>\n      <th>is_courtesy</th>\n      <th>order_type</th>\n      <th>price_alt</th>\n      <th>quantity_alt</th>\n      <th>to_pay_xprod_alt</th>\n      <th>delivery_name_new</th>\n      <th>delivery_cost_new</th>\n    </tr>\n  </thead>\n  <tbody>\n  </tbody>\n</table>\n<p>0 rows × 27 columns</p>\n</div>"
     },
     "execution_count": 301,
     "metadata": {},
     "output_type": "execute_result"
    }
   ],
   "source": [
    "resta_df_m[resta_df_m['classification']=='reto wings']"
   ],
   "metadata": {
    "collapsed": false,
    "ExecuteTime": {
     "end_time": "2024-07-03T20:56:41.932295400Z",
     "start_time": "2024-07-03T20:56:41.867247900Z"
    }
   },
   "id": "128357ccc8cc719a"
  },
  {
   "cell_type": "code",
   "execution_count": 300,
   "outputs": [],
   "source": [
    "#classification will be changed to 'promocion'\n",
    "resta_df_m.loc[resta_df_m['classification']=='reto wings','classification']='promocion'"
   ],
   "metadata": {
    "collapsed": false,
    "ExecuteTime": {
     "end_time": "2024-07-03T20:56:36.247132100Z",
     "start_time": "2024-07-03T20:56:36.123238700Z"
    }
   },
   "id": "38b96fb5bdc8f000"
  },
  {
   "cell_type": "markdown",
   "source": [
    "### Analyzing 'platos' and 'almuerzos'"
   ],
   "metadata": {
    "collapsed": false
   },
   "id": "528e6e3099ad2194"
  },
  {
   "cell_type": "code",
   "execution_count": 368,
   "outputs": [
    {
     "data": {
      "text/plain": "product\ncostillitas         4786\nchili mexic         3440\nquesadillas          683\npapas extremas       583\nnachos con queso     523\nensalada nikis       148\nName: count, dtype: int64"
     },
     "execution_count": 368,
     "metadata": {},
     "output_type": "execute_result"
    }
   ],
   "source": [
    "resta_df_m['product'][resta_df_m['classification']=='platos'].value_counts()"
   ],
   "metadata": {
    "collapsed": false,
    "ExecuteTime": {
     "end_time": "2024-07-03T21:49:04.520055400Z",
     "start_time": "2024-07-03T21:49:04.360891100Z"
    }
   },
   "id": "fb1ecd8319e3f24"
  },
  {
   "cell_type": "code",
   "execution_count": 308,
   "outputs": [
    {
     "data": {
      "text/plain": "array(['segundo (+ensalada)', 'sopa', 'segundo solo', 'ensalada'],\n      dtype=object)"
     },
     "execution_count": 308,
     "metadata": {},
     "output_type": "execute_result"
    }
   ],
   "source": [
    "resta_df_m['product'][resta_df_m['classification']=='almuerzos'].unique()"
   ],
   "metadata": {
    "collapsed": false,
    "ExecuteTime": {
     "end_time": "2024-07-03T21:01:15.858857900Z",
     "start_time": "2024-07-03T21:01:15.689681800Z"
    }
   },
   "id": "68a4f3bdcba57beb"
  },
  {
   "cell_type": "code",
   "execution_count": 307,
   "outputs": [],
   "source": [
    "#Replace emsalada by ensalada\n",
    "resta_df_m.loc[(resta_df_m['classification']=='almuerzos')&(resta_df_m['product']=='emsalada'), 'product']='ensalada'"
   ],
   "metadata": {
    "collapsed": false,
    "ExecuteTime": {
     "end_time": "2024-07-03T21:01:10.977894800Z",
     "start_time": "2024-07-03T21:01:10.807830Z"
    }
   },
   "id": "8d68254b2891b43a"
  },
  {
   "cell_type": "markdown",
   "source": [
    "### Analyzing 'postres'\n",
    "There are 3 items which belong to beverages instead of menu, in 'postres'"
   ],
   "metadata": {
    "collapsed": false
   },
   "id": "8de914470e971355"
  },
  {
   "cell_type": "code",
   "execution_count": 315,
   "outputs": [
    {
     "data": {
      "text/plain": "array(['pie frutilla', 'pie de limon', 'mouse de crema',\n       'pico plata /ice', 'bot vino', 'corona', 'huari'], dtype=object)"
     },
     "execution_count": 315,
     "metadata": {},
     "output_type": "execute_result"
    }
   ],
   "source": [
    "resta_df_m['product'][resta_df_m['classification']=='postres'].unique()"
   ],
   "metadata": {
    "collapsed": false,
    "ExecuteTime": {
     "end_time": "2024-07-03T21:03:45.533838700Z",
     "start_time": "2024-07-03T21:03:45.174450200Z"
    }
   },
   "id": "ddeb8a7c959f7357"
  },
  {
   "cell_type": "code",
   "execution_count": 317,
   "outputs": [],
   "source": [
    "#change group_classifier to 'bebidas'\n",
    "selected_drink_prods=['pico plata /ice','bot vino','corona','huari']"
   ],
   "metadata": {
    "collapsed": false,
    "ExecuteTime": {
     "end_time": "2024-07-03T21:07:58.922806200Z",
     "start_time": "2024-07-03T21:07:58.698406400Z"
    }
   },
   "id": "636dd710fba6df51"
  },
  {
   "cell_type": "code",
   "execution_count": 323,
   "outputs": [],
   "source": [
    "resta_df_m.loc[(resta_df_m['classification']=='postres')&(resta_df_m['product'].isin(selected_drink_prods)), 'group_classifier']='bebidas'"
   ],
   "metadata": {
    "collapsed": false,
    "ExecuteTime": {
     "end_time": "2024-07-03T21:11:40.030882900Z",
     "start_time": "2024-07-03T21:11:39.944147900Z"
    }
   },
   "id": "4b656911bb442f04"
  },
  {
   "cell_type": "code",
   "execution_count": 331,
   "outputs": [],
   "source": [
    "#Placing a new classification for those beverages\n",
    "resta_df_m.loc[(resta_df_m['classification']=='postres')&(resta_df_m['product'].isin(selected_drink_prods)),'classification'] ='con alcohol'"
   ],
   "metadata": {
    "collapsed": false,
    "ExecuteTime": {
     "end_time": "2024-07-03T21:16:16.477408800Z",
     "start_time": "2024-07-03T21:16:16.231287100Z"
    }
   },
   "id": "41843ac15f00fb9"
  },
  {
   "cell_type": "markdown",
   "source": [
    "### Analyzing 'product' and 'desconocida'\n",
    "\n",
    "product as a classification has many products to classify, 'desconocida' was placed like that because the product name was unknown, since those rows were labeled as delivery, without specifying any product.  "
   ],
   "metadata": {
    "collapsed": false
   },
   "id": "fe77ce6b8a229e8a"
  },
  {
   "cell_type": "code",
   "execution_count": 336,
   "outputs": [
    {
     "data": {
      "text/plain": "        order_id system_date                time group_classifier   \n260033    423679  2019-11-26 1900-01-01 17:25:49             menu  \\\n260602    426422  2019-11-29 1900-01-01 12:54:14             menu   \n260514    425497  2019-11-28 1900-01-01 20:31:29             menu   \n259640    423461  2019-11-23 1900-01-01 17:34:31             menu   \n260322    424506  2019-11-27 1900-01-01 19:56:46             menu   \n\n       classification      product prod_state  price  quantity  to_pay_xprod   \n260033    desconocida  desconocido     activo   24.0         2          48.0  \\\n260602    desconocida  desconocido     activo   22.0         2          44.0   \n260514    desconocida  desconocido     activo   24.0         2          48.0   \n259640    desconocida  desconocido     activo   20.0         2          40.0   \n260322    desconocida  desconocido     activo   24.0         2          48.0   \n\n        ...  modification_date modification_reason  is_cancelled  is_courtesy   \n260033  ...                NaN             Ninguna         False        False  \\\n260602  ...                NaN             Ninguna         False        False   \n260514  ...                NaN             Ninguna         False        False   \n259640  ...                NaN             Ninguna         False        False   \n260322  ...                NaN             Ninguna         False        False   \n\n              order_type price_alt  quantity_alt to_pay_xprod_alt   \n260033  en sala-con mesa      24.0             2             48.0  \\\n260602  en sala-con mesa      22.0             2             44.0   \n260514  en sala-con mesa      24.0             2             48.0   \n259640  en sala-sin mesa      20.0             2             40.0   \n260322  en sala-con mesa      24.0             2             48.0   \n\n       delivery_name_new delivery_cost_new  \n260033               NaN               NaN  \n260602               NaN               NaN  \n260514               NaN               NaN  \n259640               NaN               NaN  \n260322               NaN               NaN  \n\n[5 rows x 27 columns]",
      "text/html": "<div>\n<style scoped>\n    .dataframe tbody tr th:only-of-type {\n        vertical-align: middle;\n    }\n\n    .dataframe tbody tr th {\n        vertical-align: top;\n    }\n\n    .dataframe thead th {\n        text-align: right;\n    }\n</style>\n<table border=\"1\" class=\"dataframe\">\n  <thead>\n    <tr style=\"text-align: right;\">\n      <th></th>\n      <th>order_id</th>\n      <th>system_date</th>\n      <th>time</th>\n      <th>group_classifier</th>\n      <th>classification</th>\n      <th>product</th>\n      <th>prod_state</th>\n      <th>price</th>\n      <th>quantity</th>\n      <th>to_pay_xprod</th>\n      <th>...</th>\n      <th>modification_date</th>\n      <th>modification_reason</th>\n      <th>is_cancelled</th>\n      <th>is_courtesy</th>\n      <th>order_type</th>\n      <th>price_alt</th>\n      <th>quantity_alt</th>\n      <th>to_pay_xprod_alt</th>\n      <th>delivery_name_new</th>\n      <th>delivery_cost_new</th>\n    </tr>\n  </thead>\n  <tbody>\n    <tr>\n      <th>260033</th>\n      <td>423679</td>\n      <td>2019-11-26</td>\n      <td>1900-01-01 17:25:49</td>\n      <td>menu</td>\n      <td>desconocida</td>\n      <td>desconocido</td>\n      <td>activo</td>\n      <td>24.0</td>\n      <td>2</td>\n      <td>48.0</td>\n      <td>...</td>\n      <td>NaN</td>\n      <td>Ninguna</td>\n      <td>False</td>\n      <td>False</td>\n      <td>en sala-con mesa</td>\n      <td>24.0</td>\n      <td>2</td>\n      <td>48.0</td>\n      <td>NaN</td>\n      <td>NaN</td>\n    </tr>\n    <tr>\n      <th>260602</th>\n      <td>426422</td>\n      <td>2019-11-29</td>\n      <td>1900-01-01 12:54:14</td>\n      <td>menu</td>\n      <td>desconocida</td>\n      <td>desconocido</td>\n      <td>activo</td>\n      <td>22.0</td>\n      <td>2</td>\n      <td>44.0</td>\n      <td>...</td>\n      <td>NaN</td>\n      <td>Ninguna</td>\n      <td>False</td>\n      <td>False</td>\n      <td>en sala-con mesa</td>\n      <td>22.0</td>\n      <td>2</td>\n      <td>44.0</td>\n      <td>NaN</td>\n      <td>NaN</td>\n    </tr>\n    <tr>\n      <th>260514</th>\n      <td>425497</td>\n      <td>2019-11-28</td>\n      <td>1900-01-01 20:31:29</td>\n      <td>menu</td>\n      <td>desconocida</td>\n      <td>desconocido</td>\n      <td>activo</td>\n      <td>24.0</td>\n      <td>2</td>\n      <td>48.0</td>\n      <td>...</td>\n      <td>NaN</td>\n      <td>Ninguna</td>\n      <td>False</td>\n      <td>False</td>\n      <td>en sala-con mesa</td>\n      <td>24.0</td>\n      <td>2</td>\n      <td>48.0</td>\n      <td>NaN</td>\n      <td>NaN</td>\n    </tr>\n    <tr>\n      <th>259640</th>\n      <td>423461</td>\n      <td>2019-11-23</td>\n      <td>1900-01-01 17:34:31</td>\n      <td>menu</td>\n      <td>desconocida</td>\n      <td>desconocido</td>\n      <td>activo</td>\n      <td>20.0</td>\n      <td>2</td>\n      <td>40.0</td>\n      <td>...</td>\n      <td>NaN</td>\n      <td>Ninguna</td>\n      <td>False</td>\n      <td>False</td>\n      <td>en sala-sin mesa</td>\n      <td>20.0</td>\n      <td>2</td>\n      <td>40.0</td>\n      <td>NaN</td>\n      <td>NaN</td>\n    </tr>\n    <tr>\n      <th>260322</th>\n      <td>424506</td>\n      <td>2019-11-27</td>\n      <td>1900-01-01 19:56:46</td>\n      <td>menu</td>\n      <td>desconocida</td>\n      <td>desconocido</td>\n      <td>activo</td>\n      <td>24.0</td>\n      <td>2</td>\n      <td>48.0</td>\n      <td>...</td>\n      <td>NaN</td>\n      <td>Ninguna</td>\n      <td>False</td>\n      <td>False</td>\n      <td>en sala-con mesa</td>\n      <td>24.0</td>\n      <td>2</td>\n      <td>48.0</td>\n      <td>NaN</td>\n      <td>NaN</td>\n    </tr>\n  </tbody>\n</table>\n<p>5 rows × 27 columns</p>\n</div>"
     },
     "execution_count": 336,
     "metadata": {},
     "output_type": "execute_result"
    }
   ],
   "source": [
    "resta_df_m[resta_df_m['classification']=='desconocida'].sample(5)"
   ],
   "metadata": {
    "collapsed": false,
    "ExecuteTime": {
     "end_time": "2024-07-03T21:23:21.621687800Z",
     "start_time": "2024-07-03T21:23:21.414621900Z"
    }
   },
   "id": "ee26887dcf5113f6"
  },
  {
   "cell_type": "code",
   "execution_count": 355,
   "outputs": [
    {
     "data": {
      "text/plain": "array(['papas adicionales', 'salsa picante', 'salsa barbacoa',\n       'salsa miel mostaza', 'pollo a la canasta', 'salsa albahaca',\n       'salsa teriyaki', 'salsa jack', 'salsa queso', 'coca 500cc',\n       'del valle 1 ltr', 'salsa toxica', 'salsa picosa', 'alitas ades',\n       'coffe bbq', 'chicken bites'], dtype=object)"
     },
     "execution_count": 355,
     "metadata": {},
     "output_type": "execute_result"
    }
   ],
   "source": [
    "resta_df_m['product'][resta_df_m['classification']=='product'].unique()"
   ],
   "metadata": {
    "collapsed": false,
    "ExecuteTime": {
     "end_time": "2024-07-03T21:36:15.736302800Z",
     "start_time": "2024-07-03T21:36:15.413069700Z"
    }
   },
   "id": "856e41f981c2983f"
  },
  {
   "cell_type": "code",
   "execution_count": 351,
   "outputs": [
    {
     "data": {
      "text/plain": "array([], dtype=object)"
     },
     "execution_count": 351,
     "metadata": {},
     "output_type": "execute_result"
    }
   ],
   "source": [
    "#Changing 'classification' that is 'product' to 'promocion'\n",
    "resta_df_m['product'][(resta_df_m['classification']=='product')&(resta_df_m['group_classifier']=='menu')&(resta_df_m['product'].str.contains('promo'))].unique()"
   ],
   "metadata": {
    "collapsed": false,
    "ExecuteTime": {
     "end_time": "2024-07-03T21:34:20.430396300Z",
     "start_time": "2024-07-03T21:34:20.223742200Z"
    }
   },
   "id": "81c28e040966b69c"
  },
  {
   "cell_type": "code",
   "execution_count": 350,
   "outputs": [],
   "source": [
    "resta_df_m.loc[(resta_df_m['classification']=='product')&(resta_df_m['group_classifier']=='menu')&(resta_df_m['product'].str.contains('promo')), 'classification'] = 'promocion'"
   ],
   "metadata": {
    "collapsed": false,
    "ExecuteTime": {
     "end_time": "2024-07-03T21:34:13.538003200Z",
     "start_time": "2024-07-03T21:34:12.821053600Z"
    }
   },
   "id": "3d1f143903233cdb"
  },
  {
   "cell_type": "code",
   "execution_count": 354,
   "outputs": [
    {
     "data": {
      "text/plain": "array([], dtype=object)"
     },
     "execution_count": 354,
     "metadata": {},
     "output_type": "execute_result"
    }
   ],
   "source": [
    "#Changing 'classification' that is 'product' to 'combo'\n",
    "resta_df_m['product'][(resta_df_m['classification']=='product')&(resta_df_m['group_classifier']=='menu')&(resta_df_m['product'].str.contains('combo'))].unique()"
   ],
   "metadata": {
    "collapsed": false,
    "ExecuteTime": {
     "end_time": "2024-07-03T21:35:51.069648100Z",
     "start_time": "2024-07-03T21:35:50.846100Z"
    }
   },
   "id": "7edfff26fccb238b"
  },
  {
   "cell_type": "code",
   "execution_count": 353,
   "outputs": [],
   "source": [
    "resta_df_m.loc[(resta_df_m['classification']=='product')&(resta_df_m['group_classifier']=='menu')&(resta_df_m['product'].str.contains('combo')), 'classification'] = 'combos'"
   ],
   "metadata": {
    "collapsed": false,
    "ExecuteTime": {
     "end_time": "2024-07-03T21:35:47.420693100Z",
     "start_time": "2024-07-03T21:35:46.556023Z"
    }
   },
   "id": "9804cae6f801a8d5"
  },
  {
   "cell_type": "markdown",
   "source": [
    "### Other Analysis"
   ],
   "metadata": {
    "collapsed": false
   },
   "id": "a05b612e4f51d17e"
  },
  {
   "cell_type": "code",
   "execution_count": 358,
   "outputs": [
    {
     "data": {
      "text/plain": "array(['papas adicionales', 'pollo a la canasta', 'coca 500cc',\n       'del valle 1 ltr', 'alitas ades', 'coffe bbq', 'chicken bites'],\n      dtype=object)"
     },
     "execution_count": 358,
     "metadata": {},
     "output_type": "execute_result"
    }
   ],
   "source": [
    "resta_df_m['product'][(resta_df_m['classification']=='product')&(~resta_df_m['product'].str.contains('salsa'))].unique()"
   ],
   "metadata": {
    "collapsed": false,
    "ExecuteTime": {
     "end_time": "2024-07-03T21:38:24.968827200Z",
     "start_time": "2024-07-03T21:38:24.735908500Z"
    }
   },
   "id": "51ef4bcb5c727df5"
  },
  {
   "cell_type": "code",
   "execution_count": 359,
   "outputs": [],
   "source": [
    "selected_prods_others = ['papas adicionales', 'pollo a la canasta', 'coca 500cc', 'del valle 1 ltr','alitas ades',\n",
    "'coffe bbq', 'chicken bites' ]"
   ],
   "metadata": {
    "collapsed": false,
    "ExecuteTime": {
     "end_time": "2024-07-03T21:40:21.932678400Z",
     "start_time": "2024-07-03T21:40:21.709449400Z"
    }
   },
   "id": "e48ef3321ffa81c8"
  },
  {
   "cell_type": "code",
   "execution_count": 362,
   "outputs": [
    {
     "data": {
      "text/plain": "        order_id system_date                time group_classifier   \n453158    558199  2022-04-29 1900-01-01 21:53:10            otros  \\\n437643    550610  2022-02-24 1900-01-01 17:23:46             menu   \n137529    250220  2018-09-18 1900-01-01 18:46:08            otros   \n497920    581371  2022-11-11 1900-01-01 13:36:19          bebidas   \n347388    496765  2021-02-14 1900-01-01 13:50:09          bebidas   \n416460    539236  2021-11-27 1900-01-01 20:17:38            otros   \n371171    510410  2021-05-28 1900-01-01 18:32:10          bebidas   \n434753    549173  2022-02-12 1900-01-01 21:17:52             menu   \n353996    499932  2021-03-15 1900-01-01 19:30:38             menu   \n504302    585470  2022-12-12 1900-01-01 18:09:20             menu   \n\n       classification             product prod_state  price  quantity   \n453158        product   papas adicionales     activo   10.0         1  \\\n437643        product  pollo a la canasta     activo   23.0         1   \n137529        product   papas adicionales     activo    8.0         1   \n497920        product     del valle 1 ltr     activo   15.0         1   \n347388        product     del valle 1 ltr     activo   12.0         1   \n416460        product   papas adicionales     activo   10.0         1   \n371171        product     del valle 1 ltr     activo   15.0         1   \n434753        product  pollo a la canasta     activo   23.0         1   \n353996        product         alitas ades     activo   88.0         1   \n504302        product  pollo a la canasta     activo   23.0         3   \n\n        to_pay_xprod  ...  modification_date modification_reason   \n453158          10.0  ...                NaN             Ninguna  \\\n437643          23.0  ...                NaN             Ninguna   \n137529           8.0  ...                NaN             Ninguna   \n497920          15.0  ...                NaN             Ninguna   \n347388          12.0  ...                NaN             Ninguna   \n416460          10.0  ...                NaN             Ninguna   \n371171          15.0  ...                NaN             Ninguna   \n434753          23.0  ...                NaN             Ninguna   \n353996          88.0  ...                NaN             Ninguna   \n504302          69.0  ...                NaN             Ninguna   \n\n        is_cancelled  is_courtesy        order_type price_alt  quantity_alt   \n453158         False        False  en sala-sin mesa      10.0             1  \\\n437643         False        False       para llevar      23.0             1   \n137529         False        False  en sala-sin mesa       8.0             1   \n497920         False        False  en sala-con mesa      15.0             1   \n347388         False        False  en sala-con mesa      12.0             1   \n416460         False        False       para llevar      10.0             1   \n371171         False        False  en sala-sin mesa      15.0             1   \n434753         False        False       para llevar      23.0             1   \n353996         False        False  en sala-sin mesa      88.0             1   \n504302         False        False       para llevar      23.0             3   \n\n       to_pay_xprod_alt delivery_name_new delivery_cost_new  \n453158             10.0               NaN               NaN  \n437643             23.0               NaN               NaN  \n137529              8.0               NaN               NaN  \n497920             15.0               NaN               NaN  \n347388             12.0               NaN               NaN  \n416460             10.0               NaN               NaN  \n371171             15.0               NaN               NaN  \n434753             23.0               NaN               NaN  \n353996             88.0               NaN               NaN  \n504302             69.0               NaN               NaN  \n\n[10 rows x 27 columns]",
      "text/html": "<div>\n<style scoped>\n    .dataframe tbody tr th:only-of-type {\n        vertical-align: middle;\n    }\n\n    .dataframe tbody tr th {\n        vertical-align: top;\n    }\n\n    .dataframe thead th {\n        text-align: right;\n    }\n</style>\n<table border=\"1\" class=\"dataframe\">\n  <thead>\n    <tr style=\"text-align: right;\">\n      <th></th>\n      <th>order_id</th>\n      <th>system_date</th>\n      <th>time</th>\n      <th>group_classifier</th>\n      <th>classification</th>\n      <th>product</th>\n      <th>prod_state</th>\n      <th>price</th>\n      <th>quantity</th>\n      <th>to_pay_xprod</th>\n      <th>...</th>\n      <th>modification_date</th>\n      <th>modification_reason</th>\n      <th>is_cancelled</th>\n      <th>is_courtesy</th>\n      <th>order_type</th>\n      <th>price_alt</th>\n      <th>quantity_alt</th>\n      <th>to_pay_xprod_alt</th>\n      <th>delivery_name_new</th>\n      <th>delivery_cost_new</th>\n    </tr>\n  </thead>\n  <tbody>\n    <tr>\n      <th>453158</th>\n      <td>558199</td>\n      <td>2022-04-29</td>\n      <td>1900-01-01 21:53:10</td>\n      <td>otros</td>\n      <td>product</td>\n      <td>papas adicionales</td>\n      <td>activo</td>\n      <td>10.0</td>\n      <td>1</td>\n      <td>10.0</td>\n      <td>...</td>\n      <td>NaN</td>\n      <td>Ninguna</td>\n      <td>False</td>\n      <td>False</td>\n      <td>en sala-sin mesa</td>\n      <td>10.0</td>\n      <td>1</td>\n      <td>10.0</td>\n      <td>NaN</td>\n      <td>NaN</td>\n    </tr>\n    <tr>\n      <th>437643</th>\n      <td>550610</td>\n      <td>2022-02-24</td>\n      <td>1900-01-01 17:23:46</td>\n      <td>menu</td>\n      <td>product</td>\n      <td>pollo a la canasta</td>\n      <td>activo</td>\n      <td>23.0</td>\n      <td>1</td>\n      <td>23.0</td>\n      <td>...</td>\n      <td>NaN</td>\n      <td>Ninguna</td>\n      <td>False</td>\n      <td>False</td>\n      <td>para llevar</td>\n      <td>23.0</td>\n      <td>1</td>\n      <td>23.0</td>\n      <td>NaN</td>\n      <td>NaN</td>\n    </tr>\n    <tr>\n      <th>137529</th>\n      <td>250220</td>\n      <td>2018-09-18</td>\n      <td>1900-01-01 18:46:08</td>\n      <td>otros</td>\n      <td>product</td>\n      <td>papas adicionales</td>\n      <td>activo</td>\n      <td>8.0</td>\n      <td>1</td>\n      <td>8.0</td>\n      <td>...</td>\n      <td>NaN</td>\n      <td>Ninguna</td>\n      <td>False</td>\n      <td>False</td>\n      <td>en sala-sin mesa</td>\n      <td>8.0</td>\n      <td>1</td>\n      <td>8.0</td>\n      <td>NaN</td>\n      <td>NaN</td>\n    </tr>\n    <tr>\n      <th>497920</th>\n      <td>581371</td>\n      <td>2022-11-11</td>\n      <td>1900-01-01 13:36:19</td>\n      <td>bebidas</td>\n      <td>product</td>\n      <td>del valle 1 ltr</td>\n      <td>activo</td>\n      <td>15.0</td>\n      <td>1</td>\n      <td>15.0</td>\n      <td>...</td>\n      <td>NaN</td>\n      <td>Ninguna</td>\n      <td>False</td>\n      <td>False</td>\n      <td>en sala-con mesa</td>\n      <td>15.0</td>\n      <td>1</td>\n      <td>15.0</td>\n      <td>NaN</td>\n      <td>NaN</td>\n    </tr>\n    <tr>\n      <th>347388</th>\n      <td>496765</td>\n      <td>2021-02-14</td>\n      <td>1900-01-01 13:50:09</td>\n      <td>bebidas</td>\n      <td>product</td>\n      <td>del valle 1 ltr</td>\n      <td>activo</td>\n      <td>12.0</td>\n      <td>1</td>\n      <td>12.0</td>\n      <td>...</td>\n      <td>NaN</td>\n      <td>Ninguna</td>\n      <td>False</td>\n      <td>False</td>\n      <td>en sala-con mesa</td>\n      <td>12.0</td>\n      <td>1</td>\n      <td>12.0</td>\n      <td>NaN</td>\n      <td>NaN</td>\n    </tr>\n    <tr>\n      <th>416460</th>\n      <td>539236</td>\n      <td>2021-11-27</td>\n      <td>1900-01-01 20:17:38</td>\n      <td>otros</td>\n      <td>product</td>\n      <td>papas adicionales</td>\n      <td>activo</td>\n      <td>10.0</td>\n      <td>1</td>\n      <td>10.0</td>\n      <td>...</td>\n      <td>NaN</td>\n      <td>Ninguna</td>\n      <td>False</td>\n      <td>False</td>\n      <td>para llevar</td>\n      <td>10.0</td>\n      <td>1</td>\n      <td>10.0</td>\n      <td>NaN</td>\n      <td>NaN</td>\n    </tr>\n    <tr>\n      <th>371171</th>\n      <td>510410</td>\n      <td>2021-05-28</td>\n      <td>1900-01-01 18:32:10</td>\n      <td>bebidas</td>\n      <td>product</td>\n      <td>del valle 1 ltr</td>\n      <td>activo</td>\n      <td>15.0</td>\n      <td>1</td>\n      <td>15.0</td>\n      <td>...</td>\n      <td>NaN</td>\n      <td>Ninguna</td>\n      <td>False</td>\n      <td>False</td>\n      <td>en sala-sin mesa</td>\n      <td>15.0</td>\n      <td>1</td>\n      <td>15.0</td>\n      <td>NaN</td>\n      <td>NaN</td>\n    </tr>\n    <tr>\n      <th>434753</th>\n      <td>549173</td>\n      <td>2022-02-12</td>\n      <td>1900-01-01 21:17:52</td>\n      <td>menu</td>\n      <td>product</td>\n      <td>pollo a la canasta</td>\n      <td>activo</td>\n      <td>23.0</td>\n      <td>1</td>\n      <td>23.0</td>\n      <td>...</td>\n      <td>NaN</td>\n      <td>Ninguna</td>\n      <td>False</td>\n      <td>False</td>\n      <td>para llevar</td>\n      <td>23.0</td>\n      <td>1</td>\n      <td>23.0</td>\n      <td>NaN</td>\n      <td>NaN</td>\n    </tr>\n    <tr>\n      <th>353996</th>\n      <td>499932</td>\n      <td>2021-03-15</td>\n      <td>1900-01-01 19:30:38</td>\n      <td>menu</td>\n      <td>product</td>\n      <td>alitas ades</td>\n      <td>activo</td>\n      <td>88.0</td>\n      <td>1</td>\n      <td>88.0</td>\n      <td>...</td>\n      <td>NaN</td>\n      <td>Ninguna</td>\n      <td>False</td>\n      <td>False</td>\n      <td>en sala-sin mesa</td>\n      <td>88.0</td>\n      <td>1</td>\n      <td>88.0</td>\n      <td>NaN</td>\n      <td>NaN</td>\n    </tr>\n    <tr>\n      <th>504302</th>\n      <td>585470</td>\n      <td>2022-12-12</td>\n      <td>1900-01-01 18:09:20</td>\n      <td>menu</td>\n      <td>product</td>\n      <td>pollo a la canasta</td>\n      <td>activo</td>\n      <td>23.0</td>\n      <td>3</td>\n      <td>69.0</td>\n      <td>...</td>\n      <td>NaN</td>\n      <td>Ninguna</td>\n      <td>False</td>\n      <td>False</td>\n      <td>para llevar</td>\n      <td>23.0</td>\n      <td>3</td>\n      <td>69.0</td>\n      <td>NaN</td>\n      <td>NaN</td>\n    </tr>\n  </tbody>\n</table>\n<p>10 rows × 27 columns</p>\n</div>"
     },
     "execution_count": 362,
     "metadata": {},
     "output_type": "execute_result"
    }
   ],
   "source": [
    "resta_df_m[resta_df_m['product'].isin(selected_prods_others)].sample(10)"
   ],
   "metadata": {
    "collapsed": false,
    "ExecuteTime": {
     "end_time": "2024-07-03T21:42:51.303191Z",
     "start_time": "2024-07-03T21:42:51.112094700Z"
    }
   },
   "id": "b35a54ae8c94848c"
  },
  {
   "cell_type": "code",
   "execution_count": 371,
   "outputs": [
    {
     "data": {
      "text/plain": "Series([], Name: count, dtype: int64)"
     },
     "execution_count": 371,
     "metadata": {},
     "output_type": "execute_result"
    }
   ],
   "source": [
    "resta_df_m['product'][(resta_df_m['group_classifier']=='menu')&(resta_df_m['classification'].str.contains('pollo'))].value_counts()"
   ],
   "metadata": {
    "collapsed": false,
    "ExecuteTime": {
     "end_time": "2024-07-03T21:53:04.351281500Z",
     "start_time": "2024-07-03T21:53:03.906729400Z"
    }
   },
   "id": "9c8a342c3aaa8506"
  },
  {
   "cell_type": "code",
   "execution_count": 370,
   "outputs": [],
   "source": [
    "#Place 'pollo a la canasta' in 'platos'\n",
    "resta_df_m.loc[(resta_df_m['group_classifier']=='menu')&(resta_df_m['classification'].str.contains('pollo')), 'classification']='platos'"
   ],
   "metadata": {
    "collapsed": false,
    "ExecuteTime": {
     "end_time": "2024-07-03T21:52:51.824487400Z",
     "start_time": "2024-07-03T21:52:51.172298Z"
    }
   },
   "id": "da8c403aa0588911"
  },
  {
   "cell_type": "code",
   "execution_count": null,
   "outputs": [],
   "source": [],
   "metadata": {
    "collapsed": false
   },
   "id": "2f129ffb73101f09"
  },
  {
   "cell_type": "code",
   "execution_count": null,
   "outputs": [],
   "source": [],
   "metadata": {
    "collapsed": false
   },
   "id": "3547de32e73d7bdf"
  },
  {
   "cell_type": "code",
   "execution_count": null,
   "outputs": [],
   "source": [],
   "metadata": {
    "collapsed": false
   },
   "id": "4b1568b443cfc753"
  },
  {
   "cell_type": "code",
   "execution_count": null,
   "outputs": [],
   "source": [],
   "metadata": {
    "collapsed": false
   },
   "id": "c88e582c4478b5fe"
  },
  {
   "cell_type": "code",
   "execution_count": null,
   "outputs": [],
   "source": [],
   "metadata": {
    "collapsed": false
   },
   "id": "63db4161e1197fbc"
  },
  {
   "cell_type": "code",
   "execution_count": 372,
   "outputs": [
    {
     "data": {
      "text/plain": "array(['pollo a la canasta', 'alitas ades', 'chicken bites'], dtype=object)"
     },
     "execution_count": 372,
     "metadata": {},
     "output_type": "execute_result"
    }
   ],
   "source": [
    "resta_df_m['product'][(resta_df_m['classification']=='product')&(resta_df_m['group_classifier']=='menu')].unique()"
   ],
   "metadata": {
    "collapsed": false,
    "ExecuteTime": {
     "end_time": "2024-07-03T21:53:43.836090700Z",
     "start_time": "2024-07-03T21:53:43.721208500Z"
    }
   },
   "id": "e81e8ecc097b8b5b"
  },
  {
   "cell_type": "code",
   "execution_count": 345,
   "outputs": [
    {
     "data": {
      "text/plain": "array(['sandwiches', 'burguers', 'salchis', 'platos', 'almuerzos',\n       'combos', 'postres', 'product', 'promocion', 'desconocida',\n       'pollo a la canasta', 'gusto'], dtype=object)"
     },
     "execution_count": 345,
     "metadata": {},
     "output_type": "execute_result"
    }
   ],
   "source": [
    "resta_df_m['classification'][(resta_df_m['group_classifier']=='menu')&(~resta_df_m['classification'].str.contains('alita'))&(~resta_df_m['classification'].str.contains('finger'))].unique()"
   ],
   "metadata": {
    "collapsed": false,
    "ExecuteTime": {
     "end_time": "2024-07-03T21:28:56.049199800Z",
     "start_time": "2024-07-03T21:28:55.623779200Z"
    }
   },
   "id": "ea0aecf3a13c5138"
  },
  {
   "cell_type": "code",
   "execution_count": null,
   "outputs": [],
   "source": [
    "#Place 'pollo a la canasta' in 'platos'\n",
    "# resta_df_m['product'][resta_df_m['classification']=='platos'].value_counts()"
   ],
   "metadata": {
    "collapsed": false
   },
   "id": "8a268b8b7f47fa6d"
  },
  {
   "cell_type": "code",
   "execution_count": null,
   "outputs": [],
   "source": [
    "resta_df_m['classification'][(resta_df_m['group_classifier']=='menu')] "
   ],
   "metadata": {
    "collapsed": false
   },
   "id": "4fab4db6895ed724"
  },
  {
   "cell_type": "code",
   "execution_count": null,
   "outputs": [],
   "source": [
    " \n",
    " \n",
    " "
   ],
   "metadata": {
    "collapsed": false
   },
   "id": "83d68e0306d89162"
  },
  {
   "metadata": {},
   "cell_type": "markdown",
   "source": [
    "#### Analyzing 'promocion' and 'combos'\n",
    "\n"
   ],
   "id": "6d133852e4cc9f45"
  },
  {
   "metadata": {},
   "cell_type": "markdown",
   "source": [
    "Analyzing: 'promocion'\n",
    "\n",
    "classification 'promo trio 21 sep'should be placed within 'promocion', since it belongs to it.  \n",
    "          "
   ],
   "id": "c55ce435ac8a85c5"
  },
  {
   "metadata": {
    "ExecuteTime": {
     "end_time": "2024-07-03T20:44:33.203451500Z",
     "start_time": "2024-07-03T20:44:32.322216300Z"
    }
   },
   "cell_type": "code",
   "source": "resta_df_m['product'][resta_df_m['classification']=='promocion'].unique()",
   "id": "5fd7a4922c76a46b",
   "outputs": [
    {
     "data": {
      "text/plain": "array(['alitas', 'finger promo', 'hamb chesse', 'chili promo',\n       'promo pedidos ya + coca', 'mam combo 1 uno', 'ham bbq prom',\n       'nachos promo', 'promo octubre', 'combo cupido',\n       'combo dia del padre', 'combo julio', 'promo full alas',\n       'promo chau agosto', 'fingers', 'promo mundial'], dtype=object)"
     },
     "execution_count": 275,
     "metadata": {},
     "output_type": "execute_result"
    }
   ],
   "execution_count": 275
  },
  {
   "metadata": {
    "ExecuteTime": {
     "end_time": "2024-07-03T20:44:33.205816800Z",
     "start_time": "2024-07-03T20:44:32.415867200Z"
    }
   },
   "cell_type": "code",
   "source": "resta_df_m['product'][resta_df_m['classification']=='promo trio 21 sep'].unique()",
   "id": "b1a07747a692300",
   "outputs": [
    {
     "data": {
      "text/plain": "array(['promo trio 21 sep'], dtype=object)"
     },
     "execution_count": 276,
     "metadata": {},
     "output_type": "execute_result"
    }
   ],
   "execution_count": 276
  },
  {
   "metadata": {
    "ExecuteTime": {
     "end_time": "2024-07-03T20:44:33.206808700Z",
     "start_time": "2024-07-03T20:44:32.553414200Z"
    }
   },
   "cell_type": "code",
   "source": "resta_df_m[resta_df_m['classification']=='promo trio 21 sep'].sample(5)",
   "id": "38b215a69c5fff69",
   "outputs": [
    {
     "data": {
      "text/plain": "        order_id system_date                time group_classifier   \n132246    242234  2018-08-30 1900-01-01 17:47:01             menu  \\\n132154    242174  2018-08-30 1900-01-01 12:41:02             menu   \n132277    242250  2018-08-30 1900-01-01 18:37:48             menu   \n132249    242237  2018-08-30 1900-01-01 17:55:46             menu   \n132305    242263  2018-08-30 1900-01-01 19:14:52             menu   \n\n           classification            product prod_state  price  quantity   \n132246  promo trio 21 sep  promo trio 21 sep   inactivo   30.0         1  \\\n132154  promo trio 21 sep  promo trio 21 sep   inactivo   30.0         1   \n132277  promo trio 21 sep  promo trio 21 sep   inactivo   30.0         1   \n132249  promo trio 21 sep  promo trio 21 sep   inactivo   30.0         1   \n132305  promo trio 21 sep  promo trio 21 sep   inactivo   30.0         1   \n\n        to_pay_xprod  ...  modification_date modification_reason   \n132246          30.0  ...                NaN             Ninguna  \\\n132154          30.0  ...                NaN             Ninguna   \n132277          30.0  ...                NaN             Ninguna   \n132249          30.0  ...                NaN             Ninguna   \n132305          30.0  ...                NaN             Ninguna   \n\n        is_cancelled  is_courtesy        order_type price_alt  quantity_alt   \n132246         False        False  en sala-con mesa      30.0             1  \\\n132154         False        False  en sala-con mesa      30.0             1   \n132277         False        False  en sala-sin mesa      30.0             1   \n132249         False        False  en sala-con mesa      30.0             1   \n132305         False        False       para llevar      30.0             1   \n\n       to_pay_xprod_alt delivery_name_new delivery_cost_new  \n132246             30.0               NaN               NaN  \n132154             30.0               NaN               NaN  \n132277             30.0               NaN               NaN  \n132249             30.0               NaN               NaN  \n132305             30.0               NaN               NaN  \n\n[5 rows x 27 columns]",
      "text/html": "<div>\n<style scoped>\n    .dataframe tbody tr th:only-of-type {\n        vertical-align: middle;\n    }\n\n    .dataframe tbody tr th {\n        vertical-align: top;\n    }\n\n    .dataframe thead th {\n        text-align: right;\n    }\n</style>\n<table border=\"1\" class=\"dataframe\">\n  <thead>\n    <tr style=\"text-align: right;\">\n      <th></th>\n      <th>order_id</th>\n      <th>system_date</th>\n      <th>time</th>\n      <th>group_classifier</th>\n      <th>classification</th>\n      <th>product</th>\n      <th>prod_state</th>\n      <th>price</th>\n      <th>quantity</th>\n      <th>to_pay_xprod</th>\n      <th>...</th>\n      <th>modification_date</th>\n      <th>modification_reason</th>\n      <th>is_cancelled</th>\n      <th>is_courtesy</th>\n      <th>order_type</th>\n      <th>price_alt</th>\n      <th>quantity_alt</th>\n      <th>to_pay_xprod_alt</th>\n      <th>delivery_name_new</th>\n      <th>delivery_cost_new</th>\n    </tr>\n  </thead>\n  <tbody>\n    <tr>\n      <th>132246</th>\n      <td>242234</td>\n      <td>2018-08-30</td>\n      <td>1900-01-01 17:47:01</td>\n      <td>menu</td>\n      <td>promo trio 21 sep</td>\n      <td>promo trio 21 sep</td>\n      <td>inactivo</td>\n      <td>30.0</td>\n      <td>1</td>\n      <td>30.0</td>\n      <td>...</td>\n      <td>NaN</td>\n      <td>Ninguna</td>\n      <td>False</td>\n      <td>False</td>\n      <td>en sala-con mesa</td>\n      <td>30.0</td>\n      <td>1</td>\n      <td>30.0</td>\n      <td>NaN</td>\n      <td>NaN</td>\n    </tr>\n    <tr>\n      <th>132154</th>\n      <td>242174</td>\n      <td>2018-08-30</td>\n      <td>1900-01-01 12:41:02</td>\n      <td>menu</td>\n      <td>promo trio 21 sep</td>\n      <td>promo trio 21 sep</td>\n      <td>inactivo</td>\n      <td>30.0</td>\n      <td>1</td>\n      <td>30.0</td>\n      <td>...</td>\n      <td>NaN</td>\n      <td>Ninguna</td>\n      <td>False</td>\n      <td>False</td>\n      <td>en sala-con mesa</td>\n      <td>30.0</td>\n      <td>1</td>\n      <td>30.0</td>\n      <td>NaN</td>\n      <td>NaN</td>\n    </tr>\n    <tr>\n      <th>132277</th>\n      <td>242250</td>\n      <td>2018-08-30</td>\n      <td>1900-01-01 18:37:48</td>\n      <td>menu</td>\n      <td>promo trio 21 sep</td>\n      <td>promo trio 21 sep</td>\n      <td>inactivo</td>\n      <td>30.0</td>\n      <td>1</td>\n      <td>30.0</td>\n      <td>...</td>\n      <td>NaN</td>\n      <td>Ninguna</td>\n      <td>False</td>\n      <td>False</td>\n      <td>en sala-sin mesa</td>\n      <td>30.0</td>\n      <td>1</td>\n      <td>30.0</td>\n      <td>NaN</td>\n      <td>NaN</td>\n    </tr>\n    <tr>\n      <th>132249</th>\n      <td>242237</td>\n      <td>2018-08-30</td>\n      <td>1900-01-01 17:55:46</td>\n      <td>menu</td>\n      <td>promo trio 21 sep</td>\n      <td>promo trio 21 sep</td>\n      <td>inactivo</td>\n      <td>30.0</td>\n      <td>1</td>\n      <td>30.0</td>\n      <td>...</td>\n      <td>NaN</td>\n      <td>Ninguna</td>\n      <td>False</td>\n      <td>False</td>\n      <td>en sala-con mesa</td>\n      <td>30.0</td>\n      <td>1</td>\n      <td>30.0</td>\n      <td>NaN</td>\n      <td>NaN</td>\n    </tr>\n    <tr>\n      <th>132305</th>\n      <td>242263</td>\n      <td>2018-08-30</td>\n      <td>1900-01-01 19:14:52</td>\n      <td>menu</td>\n      <td>promo trio 21 sep</td>\n      <td>promo trio 21 sep</td>\n      <td>inactivo</td>\n      <td>30.0</td>\n      <td>1</td>\n      <td>30.0</td>\n      <td>...</td>\n      <td>NaN</td>\n      <td>Ninguna</td>\n      <td>False</td>\n      <td>False</td>\n      <td>para llevar</td>\n      <td>30.0</td>\n      <td>1</td>\n      <td>30.0</td>\n      <td>NaN</td>\n      <td>NaN</td>\n    </tr>\n  </tbody>\n</table>\n<p>5 rows × 27 columns</p>\n</div>"
     },
     "execution_count": 277,
     "metadata": {},
     "output_type": "execute_result"
    }
   ],
   "execution_count": 277
  },
  {
   "metadata": {
    "ExecuteTime": {
     "end_time": "2024-07-03T20:44:33.206808700Z",
     "start_time": "2024-07-03T20:44:32.709121400Z"
    }
   },
   "cell_type": "code",
   "source": [
    "#classification 'promo trio 21 sep'should be placed within 'promocion', since it belongs to it.  \n",
    "resta_df_m.loc[resta_df_m['classification']=='promo trio 21 sep', 'classification'] = 'promocion'"
   ],
   "id": "7b654e2939b5fbf0",
   "outputs": [],
   "execution_count": 278
  },
  {
   "metadata": {},
   "cell_type": "markdown",
   "source": [
    "'combos', \n",
    "'combo paceñisimo',\n",
    "'combo patriota'\n",
    "'combo papa'"
   ],
   "id": "3ef03403215be632"
  },
  {
   "metadata": {
    "ExecuteTime": {
     "end_time": "2024-07-03T20:44:33.790865600Z",
     "start_time": "2024-07-03T20:44:32.842276900Z"
    }
   },
   "cell_type": "code",
   "source": "resta_df_m['product'][resta_df_m['classification']=='combos'].unique()",
   "id": "ce69c561be6e6886",
   "outputs": [
    {
     "data": {
      "text/plain": "array(['combo trio', '2 combo mex', '4 combo nikis', 'combo duo',\n       '1 combo tex', 'combo cuarentena', 'combo familia', 'black friday',\n       'combo papa', 'combo patria', 'promo primavera', 'promo yaigo'],\n      dtype=object)"
     },
     "execution_count": 279,
     "metadata": {},
     "output_type": "execute_result"
    }
   ],
   "execution_count": 279
  },
  {
   "metadata": {
    "ExecuteTime": {
     "end_time": "2024-07-03T20:44:34.159147500Z",
     "start_time": "2024-07-03T20:44:32.981598200Z"
    }
   },
   "cell_type": "code",
   "source": "resta_df_m['product'][resta_df_m['classification']=='combo paceñisimo'].unique()",
   "id": "95f71e42bea27ecd",
   "outputs": [
    {
     "data": {
      "text/plain": "array(['combo paceñisimo'], dtype=object)"
     },
     "execution_count": 280,
     "metadata": {},
     "output_type": "execute_result"
    }
   ],
   "execution_count": 280
  },
  {
   "metadata": {
    "ExecuteTime": {
     "end_time": "2024-07-03T20:44:34.427295200Z",
     "start_time": "2024-07-03T20:44:33.174483500Z"
    }
   },
   "cell_type": "code",
   "source": "resta_df_m['product'][resta_df_m['classification']=='combo patriota'].unique()",
   "id": "4ecf3803361c200b",
   "outputs": [
    {
     "data": {
      "text/plain": "array(['combo patriota'], dtype=object)"
     },
     "execution_count": 281,
     "metadata": {},
     "output_type": "execute_result"
    }
   ],
   "execution_count": 281
  },
  {
   "metadata": {
    "ExecuteTime": {
     "end_time": "2024-07-03T20:44:34.428288100Z",
     "start_time": "2024-07-03T20:44:33.284609100Z"
    }
   },
   "cell_type": "code",
   "source": "resta_df_m['product'][resta_df_m['classification']=='combo papa'].unique()",
   "id": "75bba5e9f6dc2523",
   "outputs": [
    {
     "data": {
      "text/plain": "array(['combo papa'], dtype=object)"
     },
     "execution_count": 282,
     "metadata": {},
     "output_type": "execute_result"
    }
   ],
   "execution_count": 282
  },
  {
   "metadata": {
    "ExecuteTime": {
     "end_time": "2024-07-03T20:44:34.470438300Z",
     "start_time": "2024-07-03T20:44:33.429812800Z"
    }
   },
   "cell_type": "code",
   "source": [
    "#Changing classification to 'combos'\n",
    "resta_df_m.loc[resta_df_m['classification'].isin(['combo paceñisimo', 'combo patriota', 'combo papa']), 'classification'] ='combos' "
   ],
   "id": "f057ba9a85f5898f",
   "outputs": [],
   "execution_count": 283
  },
  {
   "metadata": {},
   "cell_type": "markdown",
   "source": "Filtering combos and promos",
   "id": "9c903e378022f673"
  },
  {
   "metadata": {
    "ExecuteTime": {
     "end_time": "2024-07-03T20:44:34.588692Z",
     "start_time": "2024-07-03T20:44:33.612316700Z"
    }
   },
   "cell_type": "code",
   "source": "resta_df_m['product'][resta_df_m['classification']=='promocion'].unique()",
   "id": "f8ef7c6508837ae8",
   "outputs": [
    {
     "data": {
      "text/plain": "array(['promo trio 21 sep', 'alitas', 'finger promo', 'hamb chesse',\n       'chili promo', 'promo pedidos ya + coca', 'mam combo 1 uno',\n       'ham bbq prom', 'nachos promo', 'promo octubre', 'combo cupido',\n       'combo dia del padre', 'combo julio', 'promo full alas',\n       'promo chau agosto', 'fingers', 'promo mundial'], dtype=object)"
     },
     "execution_count": 284,
     "metadata": {},
     "output_type": "execute_result"
    }
   ],
   "execution_count": 284
  },
  {
   "metadata": {
    "ExecuteTime": {
     "end_time": "2024-07-03T20:44:35.025664200Z",
     "start_time": "2024-07-03T20:44:33.752181300Z"
    }
   },
   "cell_type": "code",
   "source": [
    "#All elements in promocion have to have 'promo' at the beginning to be recognizable.\n",
    "resta_df_m['product'][(resta_df_m['classification']=='promocion') & (~resta_df_m['product'].str.contains('prom')) & (~resta_df_m['product'].str.contains('combo'))].unique()"
   ],
   "id": "e75f796116ecc95e",
   "outputs": [
    {
     "data": {
      "text/plain": "array(['alitas', 'hamb chesse', 'fingers'], dtype=object)"
     },
     "execution_count": 285,
     "metadata": {},
     "output_type": "execute_result"
    }
   ],
   "execution_count": 285
  },
  {
   "metadata": {},
   "cell_type": "markdown",
   "source": "promo",
   "id": "b5b02008ab801770"
  },
  {
   "metadata": {
    "ExecuteTime": {
     "end_time": "2024-07-03T20:44:35.025664200Z",
     "start_time": "2024-07-03T20:44:34.299492Z"
    }
   },
   "cell_type": "code",
   "source": [
    "def add_promo(product):\n",
    "    # Add 'promo' at the beginning of the product name if it meets a condition\n",
    "    return f'promo {product}'\n"
   ],
   "id": "752270d333fb8c29",
   "outputs": [],
   "execution_count": 286
  },
  {
   "metadata": {
    "ExecuteTime": {
     "end_time": "2024-07-03T20:44:41.980745800Z",
     "start_time": "2024-07-03T20:44:34.305406700Z"
    }
   },
   "cell_type": "code",
   "source": [
    "# Apply the function to the 'product' column in the DataFrame\n",
    "resta_df_m['product'] =  resta_df_m.apply(lambda row: add_promo(row['product']) if ((row['classification'] == 'promocion') and ('prom' not in row['product']) and ('combo' not in row['product'])) \n",
    "else row['product'], axis=1 )\n"
   ],
   "id": "e3d79639e8551245",
   "outputs": [],
   "execution_count": 287
  },
  {
   "metadata": {},
   "cell_type": "markdown",
   "source": "combo",
   "id": "878fe5d46dc9ea7e"
  },
  {
   "metadata": {
    "ExecuteTime": {
     "end_time": "2024-07-03T20:44:43.132686Z",
     "start_time": "2024-07-03T20:44:41.944881900Z"
    }
   },
   "cell_type": "code",
   "source": [
    "#All elements in promocion have to have 'combo' at the beginning to be recognizable.\n",
    "resta_df_m['product'][(resta_df_m['classification']=='combos') & (~resta_df_m['product'].str.contains('combo')) & (~resta_df_m['product'].str.contains('promo'))].unique()"
   ],
   "id": "c687780e4e178506",
   "outputs": [
    {
     "data": {
      "text/plain": "array(['black friday'], dtype=object)"
     },
     "execution_count": 288,
     "metadata": {},
     "output_type": "execute_result"
    }
   ],
   "execution_count": 288
  },
  {
   "metadata": {
    "ExecuteTime": {
     "end_time": "2024-07-03T20:44:43.139236200Z",
     "start_time": "2024-07-03T20:44:43.018475200Z"
    }
   },
   "cell_type": "code",
   "source": [
    "def add_combo(product):\n",
    "    # Add 'promo' at the beginning of the product name if it meets a condition\n",
    "    return f'combo {product}'"
   ],
   "id": "34bf253da45ece20",
   "outputs": [],
   "execution_count": 289
  },
  {
   "metadata": {
    "ExecuteTime": {
     "end_time": "2024-07-03T20:44:48.494642900Z",
     "start_time": "2024-07-03T20:44:43.038065300Z"
    }
   },
   "cell_type": "code",
   "source": [
    "# Apply the function to the 'product' column in the DataFrame\n",
    "resta_df_m['product'] =  resta_df_m.apply(lambda row: add_combo(row['product']) if ((row['classification'] == 'combos') and ('prom' not in row['product']) and ('combo' not in row['product'])) \n",
    "else row['product'], axis=1 )"
   ],
   "id": "c913971f484d47b9",
   "outputs": [],
   "execution_count": 290
  },
  {
   "metadata": {},
   "cell_type": "markdown",
   "source": "review if there are combos in promos",
   "id": "7306a57165c9c34e"
  },
  {
   "metadata": {
    "ExecuteTime": {
     "end_time": "2024-07-03T20:44:48.764701300Z",
     "start_time": "2024-07-03T20:44:48.495653800Z"
    }
   },
   "cell_type": "code",
   "source": [
    "#Change classification to 'combos'\n",
    "resta_df_m.loc[(resta_df_m['classification']=='promocion') & (~resta_df_m['product'].str.contains('prom')) & (resta_df_m['product'].str.contains('combo')),'classification'] = 'combos'"
   ],
   "id": "3407ac6e622a6c73",
   "outputs": [],
   "execution_count": 291
  },
  {
   "metadata": {
    "ExecuteTime": {
     "end_time": "2024-07-03T20:44:49.012383300Z",
     "start_time": "2024-07-03T20:44:48.765708900Z"
    }
   },
   "cell_type": "code",
   "source": [
    "#Change classification to 'promocion'\n",
    "resta_df_m.loc[(resta_df_m['classification']=='combos') & (~resta_df_m['product'].str.contains('combo')) & (resta_df_m['product'].str.contains('prom')),'classification'] = 'promocion'"
   ],
   "id": "b87fad4fb0b96ddd",
   "outputs": [],
   "execution_count": 292
  },
  {
   "metadata": {},
   "cell_type": "markdown",
   "source": "'product', 'desconocida', 'gusto'",
   "id": "8d76beff4d29be79"
  },
  {
   "metadata": {
    "ExecuteTime": {
     "end_time": "2024-07-03T20:44:49.026899800Z",
     "start_time": "2024-07-03T20:44:49.012383300Z"
    }
   },
   "cell_type": "code",
   "outputs": [],
   "execution_count": 292,
   "source": "",
   "id": "1ba464a914816ff6"
  },
  {
   "metadata": {
    "ExecuteTime": {
     "end_time": "2024-07-03T20:44:49.028900Z",
     "start_time": "2024-07-03T20:44:49.013903Z"
    }
   },
   "cell_type": "code",
   "outputs": [],
   "execution_count": 292,
   "source": "",
   "id": "5b7b13a5d45eae8b"
  },
  {
   "metadata": {
    "ExecuteTime": {
     "end_time": "2024-07-03T20:44:49.028900Z",
     "start_time": "2024-07-03T20:44:49.017419200Z"
    }
   },
   "cell_type": "code",
   "outputs": [],
   "execution_count": 292,
   "source": "",
   "id": "b260d23997ab4cd2"
  },
  {
   "metadata": {
    "ExecuteTime": {
     "end_time": "2024-07-03T20:44:49.028900Z",
     "start_time": "2024-07-03T20:44:49.020306100Z"
    }
   },
   "cell_type": "code",
   "outputs": [],
   "execution_count": 292,
   "source": "",
   "id": "4b78730f5157b09d"
  },
  {
   "cell_type": "markdown",
   "id": "74d566030104253c",
   "metadata": {},
   "source": [
    "## Transforming data"
   ]
  },
  {
   "cell_type": "code",
   "id": "31cd826a05ba5fdd",
   "metadata": {
    "ExecuteTime": {
     "end_time": "2024-07-03T20:44:49.028900Z",
     "start_time": "2024-07-03T20:44:49.021824800Z"
    }
   },
   "source": [
    "resta_df_ m. head()"
   ],
   "outputs": [
    {
     "ename": "SyntaxError",
     "evalue": "invalid syntax (2248430894.py, line 1)",
     "output_type": "error",
     "traceback": [
      "\u001B[1;36m  Cell \u001B[1;32mIn[293], line 1\u001B[1;36m\u001B[0m\n\u001B[1;33m    resta_df_ m. head()\u001B[0m\n\u001B[1;37m              ^\u001B[0m\n\u001B[1;31mSyntaxError\u001B[0m\u001B[1;31m:\u001B[0m invalid syntax\n"
     ]
    }
   ],
   "execution_count": 293
  },
  {
   "cell_type": "code",
   "id": "5b6b9e18625810a3",
   "metadata": {
    "ExecuteTime": {
     "start_time": "2024-07-03T20:44:49.026899800Z"
    }
   },
   "source": [
    "resta_df_m = resta_df_m.    assign(\n",
    "        year=lambda x:x['system_date'].dt.year,\n",
    "        month=lambda x:x['system_date'].dt.month,\n",
    "        day=lambda x:x['system_date'].dt.day,\n",
    "        hour=lambda x:x['time'].dt.hour,\n",
    "        month_name=lambda x:x['system_date'].dt.month_name(),\n",
    "        day_name=lambda x:x['system_date'].dt.day_name()\n",
    ")"
   ],
   "outputs": [],
   "execution_count": null
  },
  {
   "cell_type": "code",
   "id": "384d83f44447cb05",
   "metadata": {
    "ExecuteTime": {
     "start_time": "2024-07-03T20:44:49.027900300Z"
    }
   },
   "source": [
    "resta_df_m.tail()"
   ],
   "outputs": [],
   "execution_count": null
  },
  {
   "cell_type": "code",
   "id": "e060d3382a507d23",
   "metadata": {
    "ExecuteTime": {
     "start_time": "2024-07-03T20:44:49.028900Z"
    }
   },
   "source": [
    "resta_df_m['hour'].value_counts().plot(kind='bar')"
   ],
   "outputs": [],
   "execution_count": null
  },
  {
   "cell_type": "code",
   "id": "dedcb74c06e0b6a7",
   "metadata": {
    "ExecuteTime": {
     "end_time": "2024-07-03T20:44:49.134609Z",
     "start_time": "2024-07-03T20:44:49.029902700Z"
    }
   },
   "source": [
    "#categorizing time of sale\n",
    "def time_cat(hour):\n",
    "    if 6 <= hour < 12:\n",
    "        return 'morning'\n",
    "    elif 12 <= hour < 18:\n",
    "        return 'afternoon'\n",
    "    elif 18 <= hour < 24:\n",
    "        return 'evening'\n",
    "    else:\n",
    "        return 'night'\n"
   ],
   "outputs": [],
   "execution_count": null
  },
  {
   "cell_type": "code",
   "id": "2e31a8402c85f4e5",
   "metadata": {
    "ExecuteTime": {
     "start_time": "2024-07-03T20:44:49.029902700Z"
    }
   },
   "source": [
    "resta_df_m['time_category'] = resta_df_m['hour'].apply(time_cat)"
   ],
   "outputs": [],
   "execution_count": null
  },
  {
   "cell_type": "code",
   "id": "594e92ea78b8fdbb",
   "metadata": {
    "ExecuteTime": {
     "start_time": "2024-07-03T20:44:49.031899500Z"
    }
   },
   "source": [
    "# Getting month year from the data\n",
    "resta_df_m['month_year'] = resta_df_m['system_date'].apply(lambda x:x.strftime('%Y-%m'))"
   ],
   "outputs": [],
   "execution_count": null
  },
  {
   "cell_type": "code",
   "id": "60d1d252542aca4e",
   "metadata": {
    "ExecuteTime": {
     "start_time": "2024-07-03T20:44:49.031899500Z"
    }
   },
   "source": [
    "#Analyze this graph ******************** tot order payment has to be for each order\n",
    "df_trend = resta_df_m.groupby('month_year')['to_pay_xprod'].sum().reset_index()\n",
    "mean_payment = df_trend['to_pay_xprod'].mean()\n",
    "\n",
    "plt.figure(figsize = (15,6))    #setting fig size to fit in all values\n",
    "plt.plot(df_trend['month_year'],df_trend['to_pay_xprod'])\n",
    "# Plot the mean line\n",
    "plt.axhline(mean_payment, color='red', linestyle='--', label='Mean Payment')\n",
    "\n",
    "plt.xticks(rotation = 'vertical',size = 8)             #vertical labels in x axis\n",
    "plt.legend()  # Show legend with the mean line\n",
    "plt.show()"
   ],
   "outputs": [],
   "execution_count": null
  },
  {
   "cell_type": "code",
   "id": "8b6ea3de0a25e04c",
   "metadata": {
    "ExecuteTime": {
     "start_time": "2024-07-03T20:44:49.033458800Z"
    }
   },
   "source": [
    "sns.countplot(data=resta_df_m, x='day_name', palette=\"viridis\")\n",
    "plt.xticks(rotation=90)\n",
    "plt.xlabel(\"Day\",fontsize=10,color=\"green\")\n",
    "plt.ylabel(\"Frequency\",fontsize=10,color=\"green\")\n",
    "plt.title(\"DATES\",color=\"green\")\n",
    "plt.show()"
   ],
   "outputs": [],
   "execution_count": null
  },
  {
   "cell_type": "code",
   "id": "924ebe9d470eb736",
   "metadata": {
    "ExecuteTime": {
     "start_time": "2024-07-03T20:44:49.034417700Z"
    }
   },
   "source": [],
   "outputs": [],
   "execution_count": null
  },
  {
   "cell_type": "code",
   "id": "8c251e775923638c",
   "metadata": {
    "ExecuteTime": {
     "start_time": "2024-07-03T20:44:49.035418Z"
    }
   },
   "source": [
    "mask_only_del = (resta_df_m['classification'] == 'delivery') & (resta_df_m['product'] == 'delivery')\n",
    "mask_only_del_index = resta_df_m[mask_only_del].index\n",
    "mask_only_del_index.shape"
   ],
   "outputs": [],
   "execution_count": null
  }
 ],
 "metadata": {
  "kernelspec": {
   "display_name": "Python 3",
   "language": "python",
   "name": "python3"
  },
  "language_info": {
   "codemirror_mode": {
    "name": "ipython",
    "version": 3
   },
   "file_extension": ".py",
   "mimetype": "text/x-python",
   "name": "python",
   "nbconvert_exporter": "python",
   "pygments_lexer": "ipython3",
   "version": "3.11.1"
  }
 },
 "nbformat": 4,
 "nbformat_minor": 5
}
